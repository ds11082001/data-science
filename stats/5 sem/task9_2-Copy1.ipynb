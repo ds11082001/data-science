{
 "cells": [
  {
   "cell_type": "markdown",
   "id": "postal-future",
   "metadata": {},
   "source": [
    "# Статистика, DS-поток\n",
    "## Практическое задание 9\n",
    "\n",
    "\n",
    "**Правила:**\n",
    "\n",
    "* Дедлайн **9 ноября 16:00**. После дедлайна работы не принимаются кроме случаев наличия уважительной причины.\n",
    "* Выполненную работу нужно отправить телеграм-боту `@miptstats_ad21_bot`.\n",
    "* Прислать нужно ноутбук в формате `ipynb`, а также файл `utils.py` с вашим кодом.\n",
    "* Решения, размещенные на каких-либо интернет-ресурсах не принимаются. Публикация решения может быть приравнена к предоставлении возможности списать.\n",
    "* Для выполнения задания используйте этот ноутбук в качествие основы, ничего не удаляя из него.\n",
    "* Никакой код из данного задания при проверке запускаться не будет.\n",
    "\n",
    "**Баллы за задание:**\n",
    "\n",
    "* Задача 1 &mdash; 6 баллов;\n",
    "* Задача 2 &mdash; 3 балла;\n",
    "* Задача 3 &mdash; 2 балла;\n",
    "* Задача 4 &mdash; 20 баллов.\n",
    "\n",
    "**Важность задач:**\n",
    "\n",
    "* *высокая:* задачи 1-3;\n",
    "* *средняя:* задача 4."
   ]
  },
  {
   "cell_type": "code",
   "execution_count": 2,
   "id": "earned-transmission",
   "metadata": {},
   "outputs": [],
   "source": [
    "import numpy as np\n",
    "import pandas as pd\n",
    "import scipy.stats as sps\n",
    "import plotly.graph_objects as go\n",
    "import plotly.express as px\n",
    "import plotly.offline as pof\n",
    "\n",
    "from statsmodels.sandbox.stats.multicomp import multipletests\n",
    "\n",
    "np.set_printoptions(precision=3)\n",
    "pd.set_option(\"precision\", 3)"
   ]
  },
  {
   "cell_type": "markdown",
   "id": "portuguese-failing",
   "metadata": {},
   "source": [
    "_____\n",
    "## Задача 2.\n",
    "\n",
    "Рассмотрим выборку $X = (X_{1}, ..., X_{n}) \\sim \\mathcal{N}(\\theta, 1)$. Проверяются гипотезы $\\mathsf{H}_0\\colon\\ \\theta = 0\\ \\ vs.\\ \\ \\mathsf{H}_1\\colon\\ \\theta\\ > 0$.\n",
    "\n",
    "Выпишите равномерно наиболее мощный критерий, который получен в предыдущем домашнем задании."
   ]
  },
  {
   "cell_type": "markdown",
   "id": "driven-above",
   "metadata": {},
   "source": [
    "РНМК: $S = \\{T(x) \\geq c_{\\alpha}\\},$ где $T(x) = \\sqrt{n}(\\overline{X} - \\theta_0), \\ c_{\\alpha}: 1 - \\Phi{c_{\\alpha}} = \\alpha,$ откуда $c_{\\alpha} = $ `sps.norm.ppf`($1 - \\alpha$)."
   ]
  },
  {
   "cell_type": "markdown",
   "id": "consecutive-bahamas",
   "metadata": {},
   "source": [
    "На практике перед применением критерия часто проверяют его на корректность следующим образом.\n",
    "1. Генерируется множество выборок в предположении справедливости $\\mathsf{H}_0$. \n",
    "2. По каждой из выборок вычисляется p-value.\n",
    "3. По всем p-value строится гистограмма, которая визуально проверяется на равномерность.\n",
    "\n",
    "Проверим корректность нашего критерия. Конечно, у нас случай довольно простой, тут и так \"все понятно\", но стоит отработать навык проверки.\n",
    "\n",
    "Проведите эксперимент на $10^6$ выборок размера 100 и постройте гистограмму."
   ]
  },
  {
   "cell_type": "markdown",
   "id": "6b17fb5c",
   "metadata": {},
   "source": [
    "Пусть реализация статистики будет $t.$ Тогда p-value в нашем случае будет равно: `sps.norm.sf`($t$). <br>\n",
    "Заметим, что распределение критерия статистики неодинаковое на $\\Theta_0 = (-\\infty, 0],$ так как если $X_i \\sim \\mathcal{N}(\\theta, 1)$, то $T(X) \\sim \\mathcal{N}(\\theta - \\theta_0, 1)$ поэтому, вообще говоря, по замечанию из лекции стоит взять в качестве p-value $\\sup_{\\theta \\in \\Theta_0}p(\\theta).$ Однако, легко заметить, что этот супремум достигается при $\\theta = \\theta_0 = 0,$ поэтому вместо супремума берем $p(\\theta_0).$"
   ]
  },
  {
   "cell_type": "code",
   "execution_count": 6,
   "id": "continental-receptor",
   "metadata": {
    "scrolled": false
   },
   "outputs": [],
   "source": [
    "sample_size = 100  # размер выборки\n",
    "sample_count = 10**6  # количество выборок\n",
    "theta_0 = 0\n",
    "\n",
    "def build_histogram_from_theta(theta=0):\n",
    "    samples = sps.norm(loc=theta, scale=1).rvs(size=(sample_size, sample_count))  # множество выборок\n",
    "    Z_stats = np.sqrt(sample_size) * (np.average(samples, axis=0) - theta_0)  # статистика для каждой из выборок\n",
    "    theta_grid = np.linspace(-10, 0, 101)\n",
    "    pval_arr = np.array([np.zeros(sample_count)])\n",
    "    pvalues = sps.norm.sf(Z_stats)\n",
    "\n",
    "    fig = go.Figure()\n",
    "    fig.add_trace(go.Histogram(x=pvalues, xbins=dict(start=0,end=1,size=0.02)))\n",
    "    pof.plot(fig, filename=f'uniform_{theta * 10 + 2}.html', auto_open=False)\n",
    "    \n",
    "\n",
    "build_histogram_from_theta()"
   ]
  },
  {
   "cell_type": "markdown",
   "id": "eight-huntington",
   "metadata": {},
   "source": [
    "Как известно, критерий не меняется при рассмотрении сложной основной гипотезы $\\mathsf{H}_0\\colon\\ \\theta \\leqslant 0\\ \\ vs.\\ \\ \\mathsf{H}_1\\colon\\ \\theta\\ > 0$.\n",
    "\n",
    "Повторите эксперимент для истинного $\\theta=-0.1$."
   ]
  },
  {
   "cell_type": "code",
   "execution_count": 7,
   "id": "cosmetic-excitement",
   "metadata": {},
   "outputs": [],
   "source": [
    "theta = -0.1\n",
    "build_histogram_from_theta(theta=theta)"
   ]
  },
  {
   "cell_type": "markdown",
   "id": "greenhouse-karen",
   "metadata": {},
   "source": [
    "*Замечание.* Подобный эффект все равно не дает оснований говорить об уверенности $\\mathsf{H}_0$, поскольку критерий может быть недостаточно мощным."
   ]
  },
  {
   "cell_type": "markdown",
   "id": "local-westminster",
   "metadata": {},
   "source": [
    "Проверьте, как ведет себя p-value для альтернативы, рассмотрев истинную $\\theta=0.1$."
   ]
  },
  {
   "cell_type": "code",
   "execution_count": 8,
   "id": "bizarre-cameroon",
   "metadata": {
    "scrolled": true
   },
   "outputs": [],
   "source": [
    "theta = 0.1\n",
    "build_histogram_from_theta(theta=theta)"
   ]
  },
  {
   "cell_type": "markdown",
   "id": "ambient-typing",
   "metadata": {},
   "source": [
    "Чему соответствует доля случаев, в которых p-value меньше 0.05?"
   ]
  },
  {
   "cell_type": "markdown",
   "id": "blessed-fields",
   "metadata": {},
   "source": [
    "Если p-value меньше 0.05, то $H_0$ отклоняется, значит, доля случаев, в которых p-value меньше 0.05, соответствует доле отвергнутых гипотез от всех гипотез."
   ]
  },
  {
   "cell_type": "markdown",
   "id": "valuable-better",
   "metadata": {},
   "source": [
    "**Вывод:** при $\\theta = 0$ наблюдается гистограмма, примерно соответствующая равномерному распределению. Однако при $\\theta = -0.1 \\in \\Theta_0$ мы видим гистограмму, вообще не соответствующую равномерному распределению. Я думаю, это связано с тем, что распределение критерия статистики неодинаковое на $\\Theta_0 = (-\\infty, 0],$ поэтому не применимо утверждение с лекции о равномерности. При $\\theta = 0.1 \\notin \\Theta_0$ мы видим гистограмму, вообще не соответствующую равномерному распределению, что логично, так как $\\theta \\notin \\Theta_0,$ а значит, для него изначально не применимо утверждение с лекции о равномерности."
   ]
  }
 ],
 "metadata": {
  "kernelspec": {
   "display_name": "Python 3 (ipykernel)",
   "language": "python",
   "name": "python3"
  },
  "language_info": {
   "codemirror_mode": {
    "name": "ipython",
    "version": 3
   },
   "file_extension": ".py",
   "mimetype": "text/x-python",
   "name": "python",
   "nbconvert_exporter": "python",
   "pygments_lexer": "ipython3",
   "version": "3.9.12"
  },
  "varInspector": {
   "cols": {
    "lenName": 16,
    "lenType": 16,
    "lenVar": 40
   },
   "kernels_config": {
    "python": {
     "delete_cmd_postfix": "",
     "delete_cmd_prefix": "del ",
     "library": "var_list.py",
     "varRefreshCmd": "print(var_dic_list())"
    },
    "r": {
     "delete_cmd_postfix": ") ",
     "delete_cmd_prefix": "rm(",
     "library": "var_list.r",
     "varRefreshCmd": "cat(var_dic_list()) "
    }
   },
   "types_to_exclude": [
    "module",
    "function",
    "builtin_function_or_method",
    "instance",
    "_Feature"
   ],
   "window_display": false
  }
 },
 "nbformat": 4,
 "nbformat_minor": 5
}
