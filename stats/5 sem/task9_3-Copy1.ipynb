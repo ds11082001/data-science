{
 "cells": [
  {
   "cell_type": "markdown",
   "id": "postal-future",
   "metadata": {},
   "source": [
    "# Статистика, DS-поток\n",
    "## Практическое задание 9\n",
    "\n",
    "\n",
    "**Правила:**\n",
    "\n",
    "* Дедлайн **9 ноября 16:00**. После дедлайна работы не принимаются кроме случаев наличия уважительной причины.\n",
    "* Выполненную работу нужно отправить телеграм-боту `@miptstats_ad21_bot`.\n",
    "* Прислать нужно ноутбук в формате `ipynb`, а также файл `utils.py` с вашим кодом.\n",
    "* Решения, размещенные на каких-либо интернет-ресурсах не принимаются. Публикация решения может быть приравнена к предоставлении возможности списать.\n",
    "* Для выполнения задания используйте этот ноутбук в качествие основы, ничего не удаляя из него.\n",
    "* Никакой код из данного задания при проверке запускаться не будет.\n",
    "\n",
    "**Баллы за задание:**\n",
    "\n",
    "* Задача 1 &mdash; 6 баллов;\n",
    "* Задача 2 &mdash; 3 балла;\n",
    "* Задача 3 &mdash; 2 балла;\n",
    "* Задача 4 &mdash; 20 баллов.\n",
    "\n",
    "**Важность задач:**\n",
    "\n",
    "* *высокая:* задачи 1-3;\n",
    "* *средняя:* задача 4."
   ]
  },
  {
   "cell_type": "code",
   "execution_count": 118,
   "id": "earned-transmission",
   "metadata": {},
   "outputs": [],
   "source": [
    "import numpy as np\n",
    "import pandas as pd\n",
    "import scipy.stats as sps\n",
    "import plotly.graph_objects as go\n",
    "import plotly.express as px\n",
    "import plotly.offline as pof\n",
    "\n",
    "from statsmodels.sandbox.stats.multicomp import multipletests\n",
    "\n",
    "np.set_printoptions(precision=3)\n",
    "pd.set_option(\"precision\", 3)"
   ]
  },
  {
   "cell_type": "markdown",
   "id": "pregnant-startup",
   "metadata": {},
   "source": [
    "_____\n",
    "## Задача 3.\n",
    "Были проведены эксперименты для оценки эффективности нескольких препаратов для снижения послеоперационной тошноты. Результаты экспериментов приведены в таблице ниже. При проведении эксперимента пациенты делились на группы случайным образом.\n",
    "\n",
    "\n",
    "\n",
    "\n",
    "|| Количество пациентов   | Количество случаев возникновения тошноты |\n",
    "|-----------| ----------- | -------|\n",
    "|Плацебо|80|45|\n",
    "|Хлорпромазин|75|26|\n",
    "|Дименгидринат|85|52|\n",
    "|Пентобарбитал (100 мг)|67|35|\n",
    "|Пентобарбитал (150 мг)|85|37|\n",
    "\n",
    "\n",
    "\n",
    "\n",
    "Проведите сравнение каждого препарата по эффективности по отношению к плацебо. Какие ответы можно получить для методов, контролирующих FWER и FDR? В каждом случае приведите подправленные p-value.\n",
    "\n",
    "*Замечание.* Используйте [`multipletests`](https://www.statsmodels.org/dev/generated/statsmodels.stats.multitest.multipletests.html) из библиотеки `statsmodels`. "
   ]
  },
  {
   "cell_type": "markdown",
   "id": "hindu-mention",
   "metadata": {},
   "source": [
    "**Решение:** посчитаем частоту случаев возникновения тошноты после плацебо: $p_0 = \\frac{45}{80} = 0.5625.$ Рассмотрим гипотезы вида: $H_0^i: p_i = p_0 \\ vs. H_1^i: p_i < p_0,$ проще говоря, для каждого препарата проведем AB-тест с плацебо и выясним, какой препарат эффективнее плацебо, а какой нет. <br>\n",
    "Из лекции критерий Вальда для AB-теста с гипотезами $H_0^i: p_i = p_0 \\ vs. H_1^i: p_i < p_0: \\{S = W(x, y) > z_{1 - \\alpha}\\},$ где $W(X, Y) = \\frac{\\widehat{p_0} - \\widehat{p_i}}{\\widehat{\\sigma}}, \\ \\widehat{p_j} = \\frac{m_j}{n_j},$ где $m_j$ &mdash; количество единиц в выборке $Y$ ($X$, если $j = 0$) размера $n_j.$ <br>\n",
    "$$\\widehat{\\sigma} = \\sqrt{\\frac{\\widehat{p_0}(1 - \\widehat{p_0})}{n_0} + \\frac{\\widehat{p_i}(1 - \\widehat{p_i})}{n_i}}.$$\n",
    "Тогда рассчитаем p-value: $pval_i(w) = P(W(x, y) > w) = $ `sps.norm.sf`($w$)."
   ]
  },
  {
   "cell_type": "code",
   "execution_count": 47,
   "id": "stone-resident",
   "metadata": {},
   "outputs": [],
   "source": [
    "n_0 = 80\n",
    "m_0 = 45\n",
    "n = np.array([75, 85, 67, 85])\n",
    "m = np.array([26, 52, 35, 37])\n",
    "p_0 = m_0 / n_0\n",
    "p = m / n\n",
    "alpha = 0.05"
   ]
  },
  {
   "cell_type": "code",
   "execution_count": 48,
   "id": "01676b44",
   "metadata": {},
   "outputs": [],
   "source": [
    "def AB_test(p_0, p, method='bonferroni'):\n",
    "    sigma = np.sqrt((p_0 * (1 - p_0)) / n_0 + (p * (1 - p)) / n)\n",
    "    w = (p_0 - p) / sigma\n",
    "    pvals = sps.norm.sf(w)\n",
    "    reject, pvalscorr = multipletests(pvals=pvals, alpha=alpha, method=method, is_sorted=False)[:2]\n",
    "    return pvals, reject, pvalscorr"
   ]
  },
  {
   "cell_type": "code",
   "execution_count": 49,
   "id": "2abee84a",
   "metadata": {},
   "outputs": [],
   "source": [
    "def make_table(cols, indexes, n, m, pvals, pvalscorr, reject):\n",
    "    d = {cols[0]: n, cols[1]: m, cols[2]: pvals, cols[3]: pvalscorr, cols[4]: reject}\n",
    "    data = pd.DataFrame(d)\n",
    "    indexes = pd.Index(indexes)\n",
    "    data = data.set_index(indexes)\n",
    "    return data"
   ]
  },
  {
   "cell_type": "code",
   "execution_count": 50,
   "id": "c4ef004b",
   "metadata": {},
   "outputs": [],
   "source": [
    "cols = np.array(['Количество пациентов', 'Количество случаев возникнвения тошносты', 'p-value', \n",
    "                 'Скорректированное p-value', 'Лучше, чем плацебо'])\n",
    "indexes = np.array(['Хлорпромазин', 'Дименгидринат', 'Пентобарбитал (100 мг)', 'Пентобарбитал (150 мг)'])"
   ]
  },
  {
   "cell_type": "markdown",
   "id": "d506f0b1",
   "metadata": {},
   "source": [
    "Теперь проверим работу разных методов. Заметим, что методы Шидака, Шидака-Холма и Бенджамини-Хохберга мы применять не можем, так как критерии не независимы, поэтому рассмотрим работу методов Бонферрони, Холма и Бенджамини-Иекутиели."
   ]
  },
  {
   "cell_type": "markdown",
   "id": "6e845237",
   "metadata": {},
   "source": [
    "Метод Бонферрони."
   ]
  },
  {
   "cell_type": "code",
   "execution_count": 51,
   "id": "640aa51c",
   "metadata": {},
   "outputs": [
    {
     "data": {
      "text/html": [
       "<div>\n",
       "<style scoped>\n",
       "    .dataframe tbody tr th:only-of-type {\n",
       "        vertical-align: middle;\n",
       "    }\n",
       "\n",
       "    .dataframe tbody tr th {\n",
       "        vertical-align: top;\n",
       "    }\n",
       "\n",
       "    .dataframe thead th {\n",
       "        text-align: right;\n",
       "    }\n",
       "</style>\n",
       "<table border=\"1\" class=\"dataframe\">\n",
       "  <thead>\n",
       "    <tr style=\"text-align: right;\">\n",
       "      <th></th>\n",
       "      <th>Количество пациентов</th>\n",
       "      <th>Количество случаев возникнвения тошносты</th>\n",
       "      <th>p-value</th>\n",
       "      <th>Скорректированное p-value</th>\n",
       "      <th>Лучше, чем плацебо</th>\n",
       "    </tr>\n",
       "  </thead>\n",
       "  <tbody>\n",
       "    <tr>\n",
       "      <th>Хлорпромазин</th>\n",
       "      <td>75</td>\n",
       "      <td>26</td>\n",
       "      <td>0.003</td>\n",
       "      <td>0.011</td>\n",
       "      <td>True</td>\n",
       "    </tr>\n",
       "    <tr>\n",
       "      <th>Дименгидринат</th>\n",
       "      <td>85</td>\n",
       "      <td>52</td>\n",
       "      <td>0.740</td>\n",
       "      <td>1.000</td>\n",
       "      <td>False</td>\n",
       "    </tr>\n",
       "    <tr>\n",
       "      <th>Пентобарбитал (100 мг)</th>\n",
       "      <td>67</td>\n",
       "      <td>35</td>\n",
       "      <td>0.313</td>\n",
       "      <td>1.000</td>\n",
       "      <td>False</td>\n",
       "    </tr>\n",
       "    <tr>\n",
       "      <th>Пентобарбитал (150 мг)</th>\n",
       "      <td>85</td>\n",
       "      <td>37</td>\n",
       "      <td>0.050</td>\n",
       "      <td>0.199</td>\n",
       "      <td>False</td>\n",
       "    </tr>\n",
       "  </tbody>\n",
       "</table>\n",
       "</div>"
      ],
      "text/plain": [
       "                        Количество пациентов  \\\n",
       "Хлорпромазин                              75   \n",
       "Дименгидринат                             85   \n",
       "Пентобарбитал (100 мг)                    67   \n",
       "Пентобарбитал (150 мг)                    85   \n",
       "\n",
       "                        Количество случаев возникнвения тошносты  p-value  \\\n",
       "Хлорпромазин                                                  26    0.003   \n",
       "Дименгидринат                                                 52    0.740   \n",
       "Пентобарбитал (100 мг)                                        35    0.313   \n",
       "Пентобарбитал (150 мг)                                        37    0.050   \n",
       "\n",
       "                        Скорректированное p-value  Лучше, чем плацебо  \n",
       "Хлорпромазин                                0.011                True  \n",
       "Дименгидринат                               1.000               False  \n",
       "Пентобарбитал (100 мг)                      1.000               False  \n",
       "Пентобарбитал (150 мг)                      0.199               False  "
      ]
     },
     "execution_count": 51,
     "metadata": {},
     "output_type": "execute_result"
    }
   ],
   "source": [
    "pvals, reject, pvalscorr = AB_test(p_0, p, 'bonferroni')\n",
    "make_table(cols, indexes, n, m, pvals, pvalscorr, reject)"
   ]
  },
  {
   "cell_type": "markdown",
   "id": "ab2165fe",
   "metadata": {},
   "source": [
    "Метод Холма."
   ]
  },
  {
   "cell_type": "code",
   "execution_count": 52,
   "id": "fc9416ff",
   "metadata": {},
   "outputs": [
    {
     "data": {
      "text/html": [
       "<div>\n",
       "<style scoped>\n",
       "    .dataframe tbody tr th:only-of-type {\n",
       "        vertical-align: middle;\n",
       "    }\n",
       "\n",
       "    .dataframe tbody tr th {\n",
       "        vertical-align: top;\n",
       "    }\n",
       "\n",
       "    .dataframe thead th {\n",
       "        text-align: right;\n",
       "    }\n",
       "</style>\n",
       "<table border=\"1\" class=\"dataframe\">\n",
       "  <thead>\n",
       "    <tr style=\"text-align: right;\">\n",
       "      <th></th>\n",
       "      <th>Количество пациентов</th>\n",
       "      <th>Количество случаев возникнвения тошносты</th>\n",
       "      <th>p-value</th>\n",
       "      <th>Скорректированное p-value</th>\n",
       "      <th>Лучше, чем плацебо</th>\n",
       "    </tr>\n",
       "  </thead>\n",
       "  <tbody>\n",
       "    <tr>\n",
       "      <th>Хлорпромазин</th>\n",
       "      <td>75</td>\n",
       "      <td>26</td>\n",
       "      <td>0.003</td>\n",
       "      <td>0.011</td>\n",
       "      <td>True</td>\n",
       "    </tr>\n",
       "    <tr>\n",
       "      <th>Дименгидринат</th>\n",
       "      <td>85</td>\n",
       "      <td>52</td>\n",
       "      <td>0.740</td>\n",
       "      <td>0.740</td>\n",
       "      <td>False</td>\n",
       "    </tr>\n",
       "    <tr>\n",
       "      <th>Пентобарбитал (100 мг)</th>\n",
       "      <td>67</td>\n",
       "      <td>35</td>\n",
       "      <td>0.313</td>\n",
       "      <td>0.627</td>\n",
       "      <td>False</td>\n",
       "    </tr>\n",
       "    <tr>\n",
       "      <th>Пентобарбитал (150 мг)</th>\n",
       "      <td>85</td>\n",
       "      <td>37</td>\n",
       "      <td>0.050</td>\n",
       "      <td>0.149</td>\n",
       "      <td>False</td>\n",
       "    </tr>\n",
       "  </tbody>\n",
       "</table>\n",
       "</div>"
      ],
      "text/plain": [
       "                        Количество пациентов  \\\n",
       "Хлорпромазин                              75   \n",
       "Дименгидринат                             85   \n",
       "Пентобарбитал (100 мг)                    67   \n",
       "Пентобарбитал (150 мг)                    85   \n",
       "\n",
       "                        Количество случаев возникнвения тошносты  p-value  \\\n",
       "Хлорпромазин                                                  26    0.003   \n",
       "Дименгидринат                                                 52    0.740   \n",
       "Пентобарбитал (100 мг)                                        35    0.313   \n",
       "Пентобарбитал (150 мг)                                        37    0.050   \n",
       "\n",
       "                        Скорректированное p-value  Лучше, чем плацебо  \n",
       "Хлорпромазин                                0.011                True  \n",
       "Дименгидринат                               0.740               False  \n",
       "Пентобарбитал (100 мг)                      0.627               False  \n",
       "Пентобарбитал (150 мг)                      0.149               False  "
      ]
     },
     "execution_count": 52,
     "metadata": {},
     "output_type": "execute_result"
    }
   ],
   "source": [
    "pvals, reject, pvalscorr = AB_test(p_0, p, 'holm')\n",
    "make_table(cols, indexes, n, m, pvals, pvalscorr, reject)"
   ]
  },
  {
   "cell_type": "markdown",
   "id": "50a26cf0",
   "metadata": {},
   "source": [
    "Метод Бенджамини-Иекутиели."
   ]
  },
  {
   "cell_type": "code",
   "execution_count": 53,
   "id": "2523e039",
   "metadata": {},
   "outputs": [
    {
     "data": {
      "text/html": [
       "<div>\n",
       "<style scoped>\n",
       "    .dataframe tbody tr th:only-of-type {\n",
       "        vertical-align: middle;\n",
       "    }\n",
       "\n",
       "    .dataframe tbody tr th {\n",
       "        vertical-align: top;\n",
       "    }\n",
       "\n",
       "    .dataframe thead th {\n",
       "        text-align: right;\n",
       "    }\n",
       "</style>\n",
       "<table border=\"1\" class=\"dataframe\">\n",
       "  <thead>\n",
       "    <tr style=\"text-align: right;\">\n",
       "      <th></th>\n",
       "      <th>Количество пациентов</th>\n",
       "      <th>Количество случаев возникнвения тошносты</th>\n",
       "      <th>p-value</th>\n",
       "      <th>Скорректированное p-value</th>\n",
       "      <th>Лучше, чем плацебо</th>\n",
       "    </tr>\n",
       "  </thead>\n",
       "  <tbody>\n",
       "    <tr>\n",
       "      <th>Хлорпромазин</th>\n",
       "      <td>75</td>\n",
       "      <td>26</td>\n",
       "      <td>0.003</td>\n",
       "      <td>0.024</td>\n",
       "      <td>True</td>\n",
       "    </tr>\n",
       "    <tr>\n",
       "      <th>Дименгидринат</th>\n",
       "      <td>85</td>\n",
       "      <td>52</td>\n",
       "      <td>0.740</td>\n",
       "      <td>1.000</td>\n",
       "      <td>False</td>\n",
       "    </tr>\n",
       "    <tr>\n",
       "      <th>Пентобарбитал (100 мг)</th>\n",
       "      <td>67</td>\n",
       "      <td>35</td>\n",
       "      <td>0.313</td>\n",
       "      <td>0.870</td>\n",
       "      <td>False</td>\n",
       "    </tr>\n",
       "    <tr>\n",
       "      <th>Пентобарбитал (150 мг)</th>\n",
       "      <td>85</td>\n",
       "      <td>37</td>\n",
       "      <td>0.050</td>\n",
       "      <td>0.208</td>\n",
       "      <td>False</td>\n",
       "    </tr>\n",
       "  </tbody>\n",
       "</table>\n",
       "</div>"
      ],
      "text/plain": [
       "                        Количество пациентов  \\\n",
       "Хлорпромазин                              75   \n",
       "Дименгидринат                             85   \n",
       "Пентобарбитал (100 мг)                    67   \n",
       "Пентобарбитал (150 мг)                    85   \n",
       "\n",
       "                        Количество случаев возникнвения тошносты  p-value  \\\n",
       "Хлорпромазин                                                  26    0.003   \n",
       "Дименгидринат                                                 52    0.740   \n",
       "Пентобарбитал (100 мг)                                        35    0.313   \n",
       "Пентобарбитал (150 мг)                                        37    0.050   \n",
       "\n",
       "                        Скорректированное p-value  Лучше, чем плацебо  \n",
       "Хлорпромазин                                0.024                True  \n",
       "Дименгидринат                               1.000               False  \n",
       "Пентобарбитал (100 мг)                      0.870               False  \n",
       "Пентобарбитал (150 мг)                      0.208               False  "
      ]
     },
     "execution_count": 53,
     "metadata": {},
     "output_type": "execute_result"
    }
   ],
   "source": [
    "pvals, reject, pvalscorr = AB_test(p_0, p, 'fdr_by')\n",
    "make_table(cols, indexes, n, m, pvals, pvalscorr, reject)"
   ]
  },
  {
   "cell_type": "markdown",
   "id": "vocational-joint",
   "metadata": {},
   "source": [
    "**Вывод:** в данном примере мы видим одинаковый результат касаемо того, лучше ли препарат, чем плацебо, или нет у всех рассмотренных методов множественной проверки гипотез: лучше, чем плацебо, оказался только препарат `Хлорпромазин` (стоит заметить, однако, что мы не утверждаем, что остальные препараты хуже или не лучше: мы лишь только не можем определенно сказать, насколько они хороши). Если же попробовать рассмотреть гипотезы по отдельности, то окажется, что лучше, чем плацебо, окажется еще и `Пентобарбитал (150 мг)\t`, у которого нескоректированное p-value будет ровно $0.05.$ Также отмечу, что не построил сводную таблицу со всеми методами, так как она была бы слишком объемной и неудобной: в ней было бы слишком много столбцов."
   ]
  }
 ],
 "metadata": {
  "kernelspec": {
   "display_name": "Python 3 (ipykernel)",
   "language": "python",
   "name": "python3"
  },
  "language_info": {
   "codemirror_mode": {
    "name": "ipython",
    "version": 3
   },
   "file_extension": ".py",
   "mimetype": "text/x-python",
   "name": "python",
   "nbconvert_exporter": "python",
   "pygments_lexer": "ipython3",
   "version": "3.9.12"
  },
  "varInspector": {
   "cols": {
    "lenName": 16,
    "lenType": 16,
    "lenVar": 40
   },
   "kernels_config": {
    "python": {
     "delete_cmd_postfix": "",
     "delete_cmd_prefix": "del ",
     "library": "var_list.py",
     "varRefreshCmd": "print(var_dic_list())"
    },
    "r": {
     "delete_cmd_postfix": ") ",
     "delete_cmd_prefix": "rm(",
     "library": "var_list.r",
     "varRefreshCmd": "cat(var_dic_list()) "
    }
   },
   "types_to_exclude": [
    "module",
    "function",
    "builtin_function_or_method",
    "instance",
    "_Feature"
   ],
   "window_display": false
  }
 },
 "nbformat": 4,
 "nbformat_minor": 5
}
