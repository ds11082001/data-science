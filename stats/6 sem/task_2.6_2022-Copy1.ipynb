{
 "cells": [
  {
   "cell_type": "markdown",
   "metadata": {
    "id": "pSu9NUur59Np"
   },
   "source": [
    "# Доп. задачи и анализа данных\n",
    "## Задание 2.6\n",
    "\n",
    "**Правила:**\n",
    "\n",
    "* Выполненную работу нужно отправить телеграм-боту `@miptstats_ad21_bot`.\n",
    "* Дедлайн см. в боте. После дедлайна работы не принимаются кроме случаев наличия уважительной причины.\n",
    "* Прислать нужно ноутбук в формате `ipynb`.\n",
    "* Решение задачи должно быть на языке **R**, если не указано иное.\n",
    "* Решения, размещенные на каких-либо интернет-ресурсах не принимаются. Публикация решения может быть приравнена к предоставлении возможности списать.\n",
    "* Для выполнения задания используйте этот ноутбук в качествие основы, ничего не удаляя из него.\n",
    "\n",
    "**Баллы за задание:**\n",
    "\n",
    "* Задача 1 -  5 баллов\n",
    "* Задача 2 -  5 баллов\n",
    "* Задача 3 -  4 баллов\n",
    "* Задача 4 -  4 баллов\n",
    "* Задача 5 -  3 балла"
   ]
  },
  {
   "cell_type": "code",
   "execution_count": 64,
   "metadata": {
    "id": "VIcI4m4q59Nt"
   },
   "outputs": [],
   "source": [
    "options(repr.plot.width = 10, repr.plot.height = 8)"
   ]
  },
  {
   "cell_type": "markdown",
   "metadata": {
    "id": "ESlFPLf659Nu"
   },
   "source": [
    "### Задача 1.\n",
    "\n",
    "Пусть $X_1, ..., X_n$ — выборка из гамма-распределения $\\Gamma(\\theta, 5)$. Постройте равномерно наиболее мощный критерий для проверки гипотез $\\mathsf{H}_0\\colon \\theta = 1\\ vs. \\mathsf{H}_1\\colon \\theta<1$. \n",
    "\n",
    "a). Сгенерируйте выборку $X_1, ..., X_{50}$ из гамма-распределения $\\Gamma(\\theta, 5)$ для случаев $\\theta=1$,  $\\theta=0.3$ и $\\theta=5$. В каждом случае посчитайте p-value. В каких случаях основная гипотеза отвергается?\n",
    "\n",
    "b). На одном графике постройте кривые мощности для разных размеров выборки (см. лекции прошлого семестра)."
   ]
  },
  {
   "cell_type": "markdown",
   "metadata": {},
   "source": [
    "**Пункт а.**"
   ]
  },
  {
   "cell_type": "markdown",
   "metadata": {},
   "source": [
    "$\\theta = 1.$"
   ]
  },
  {
   "cell_type": "code",
   "execution_count": 65,
   "metadata": {},
   "outputs": [
    {
     "data": {
      "text/html": [
       "<ol class=list-inline>\n",
       "\t<li>11.479939308602</li>\n",
       "\t<li>8.84063524379991</li>\n",
       "\t<li>3.96185376530145</li>\n",
       "\t<li>5.41010398427494</li>\n",
       "\t<li>3.33835155314052</li>\n",
       "\t<li>4.64692042882996</li>\n",
       "\t<li>6.66100420209884</li>\n",
       "\t<li>3.64216916251046</li>\n",
       "\t<li>7.58080269459538</li>\n",
       "\t<li>6.06681262020307</li>\n",
       "\t<li>5.15856005830813</li>\n",
       "\t<li>5.57280135053372</li>\n",
       "\t<li>1.47545134795752</li>\n",
       "\t<li>4.20368991058473</li>\n",
       "\t<li>2.57541675833918</li>\n",
       "\t<li>2.4555345808509</li>\n",
       "\t<li>5.70463143456765</li>\n",
       "\t<li>2.29084729868091</li>\n",
       "\t<li>5.28750014698464</li>\n",
       "\t<li>7.18999753535409</li>\n",
       "\t<li>3.45604221703116</li>\n",
       "\t<li>4.62480762062307</li>\n",
       "\t<li>4.04729103709037</li>\n",
       "\t<li>5.75013132514722</li>\n",
       "\t<li>4.67585569835672</li>\n",
       "\t<li>5.04825295089752</li>\n",
       "\t<li>6.89174739985614</li>\n",
       "\t<li>4.00965389972961</li>\n",
       "\t<li>7.50209453615281</li>\n",
       "\t<li>3.89564907749506</li>\n",
       "\t<li>8.69549187919122</li>\n",
       "\t<li>3.27747416020503</li>\n",
       "\t<li>5.0824628208986</li>\n",
       "\t<li>3.57293118634792</li>\n",
       "\t<li>2.34036075214318</li>\n",
       "\t<li>5.40535268687432</li>\n",
       "\t<li>6.88090703318553</li>\n",
       "\t<li>5.41259659675989</li>\n",
       "\t<li>5.36214540496425</li>\n",
       "\t<li>5.97394421960886</li>\n",
       "\t<li>3.69400793205605</li>\n",
       "\t<li>4.65150047150447</li>\n",
       "\t<li>3.24503477145931</li>\n",
       "\t<li>3.24171685535204</li>\n",
       "\t<li>7.35550372475517</li>\n",
       "\t<li>6.2264564463211</li>\n",
       "\t<li>7.44957163249004</li>\n",
       "\t<li>6.00704319288512</li>\n",
       "\t<li>4.20750321491436</li>\n",
       "\t<li>7.27104509908133</li>\n",
       "</ol>\n"
      ],
      "text/latex": [
       "\\begin{enumerate*}\n",
       "\\item 11.479939308602\n",
       "\\item 8.84063524379991\n",
       "\\item 3.96185376530145\n",
       "\\item 5.41010398427494\n",
       "\\item 3.33835155314052\n",
       "\\item 4.64692042882996\n",
       "\\item 6.66100420209884\n",
       "\\item 3.64216916251046\n",
       "\\item 7.58080269459538\n",
       "\\item 6.06681262020307\n",
       "\\item 5.15856005830813\n",
       "\\item 5.57280135053372\n",
       "\\item 1.47545134795752\n",
       "\\item 4.20368991058473\n",
       "\\item 2.57541675833918\n",
       "\\item 2.4555345808509\n",
       "\\item 5.70463143456765\n",
       "\\item 2.29084729868091\n",
       "\\item 5.28750014698464\n",
       "\\item 7.18999753535409\n",
       "\\item 3.45604221703116\n",
       "\\item 4.62480762062307\n",
       "\\item 4.04729103709037\n",
       "\\item 5.75013132514722\n",
       "\\item 4.67585569835672\n",
       "\\item 5.04825295089752\n",
       "\\item 6.89174739985614\n",
       "\\item 4.00965389972961\n",
       "\\item 7.50209453615281\n",
       "\\item 3.89564907749506\n",
       "\\item 8.69549187919122\n",
       "\\item 3.27747416020503\n",
       "\\item 5.0824628208986\n",
       "\\item 3.57293118634792\n",
       "\\item 2.34036075214318\n",
       "\\item 5.40535268687432\n",
       "\\item 6.88090703318553\n",
       "\\item 5.41259659675989\n",
       "\\item 5.36214540496425\n",
       "\\item 5.97394421960886\n",
       "\\item 3.69400793205605\n",
       "\\item 4.65150047150447\n",
       "\\item 3.24503477145931\n",
       "\\item 3.24171685535204\n",
       "\\item 7.35550372475517\n",
       "\\item 6.2264564463211\n",
       "\\item 7.44957163249004\n",
       "\\item 6.00704319288512\n",
       "\\item 4.20750321491436\n",
       "\\item 7.27104509908133\n",
       "\\end{enumerate*}\n"
      ],
      "text/markdown": [
       "1. 11.479939308602\n",
       "2. 8.84063524379991\n",
       "3. 3.96185376530145\n",
       "4. 5.41010398427494\n",
       "5. 3.33835155314052\n",
       "6. 4.64692042882996\n",
       "7. 6.66100420209884\n",
       "8. 3.64216916251046\n",
       "9. 7.58080269459538\n",
       "10. 6.06681262020307\n",
       "11. 5.15856005830813\n",
       "12. 5.57280135053372\n",
       "13. 1.47545134795752\n",
       "14. 4.20368991058473\n",
       "15. 2.57541675833918\n",
       "16. 2.4555345808509\n",
       "17. 5.70463143456765\n",
       "18. 2.29084729868091\n",
       "19. 5.28750014698464\n",
       "20. 7.18999753535409\n",
       "21. 3.45604221703116\n",
       "22. 4.62480762062307\n",
       "23. 4.04729103709037\n",
       "24. 5.75013132514722\n",
       "25. 4.67585569835672\n",
       "26. 5.04825295089752\n",
       "27. 6.89174739985614\n",
       "28. 4.00965389972961\n",
       "29. 7.50209453615281\n",
       "30. 3.89564907749506\n",
       "31. 8.69549187919122\n",
       "32. 3.27747416020503\n",
       "33. 5.0824628208986\n",
       "34. 3.57293118634792\n",
       "35. 2.34036075214318\n",
       "36. 5.40535268687432\n",
       "37. 6.88090703318553\n",
       "38. 5.41259659675989\n",
       "39. 5.36214540496425\n",
       "40. 5.97394421960886\n",
       "41. 3.69400793205605\n",
       "42. 4.65150047150447\n",
       "43. 3.24503477145931\n",
       "44. 3.24171685535204\n",
       "45. 7.35550372475517\n",
       "46. 6.2264564463211\n",
       "47. 7.44957163249004\n",
       "48. 6.00704319288512\n",
       "49. 4.20750321491436\n",
       "50. 7.27104509908133\n",
       "\n",
       "\n"
      ],
      "text/plain": [
       " [1] 11.479939  8.840635  3.961854  5.410104  3.338352  4.646920  6.661004\n",
       " [8]  3.642169  7.580803  6.066813  5.158560  5.572801  1.475451  4.203690\n",
       "[15]  2.575417  2.455535  5.704631  2.290847  5.287500  7.189998  3.456042\n",
       "[22]  4.624808  4.047291  5.750131  4.675856  5.048253  6.891747  4.009654\n",
       "[29]  7.502095  3.895649  8.695492  3.277474  5.082463  3.572931  2.340361\n",
       "[36]  5.405353  6.880907  5.412597  5.362145  5.973944  3.694008  4.651500\n",
       "[43]  3.245035  3.241717  7.355504  6.226456  7.449572  6.007043  4.207503\n",
       "[50]  7.271045"
      ]
     },
     "metadata": {},
     "output_type": "display_data"
    }
   ],
   "source": [
    "theta_0 = 1\n",
    "theta = 1\n",
    "n = 50\n",
    "beta = 5\n",
    "\n",
    "X = rgamma(shape = beta, scale = 1 / theta, n = n)\n",
    "X"
   ]
  },
  {
   "cell_type": "code",
   "execution_count": 66,
   "metadata": {},
   "outputs": [
    {
     "data": {
      "text/html": [
       "0.283987683683859"
      ],
      "text/latex": [
       "0.283987683683859"
      ],
      "text/markdown": [
       "0.283987683683859"
      ],
      "text/plain": [
       "[1] 0.2839877"
      ]
     },
     "metadata": {},
     "output_type": "display_data"
    }
   ],
   "source": [
    "t = sum(X)\n",
    "pval = pgamma(shape = beta * n, scale = 1 / theta_0, q = t, lower.tail = F)\n",
    "pval"
   ]
  },
  {
   "cell_type": "markdown",
   "metadata": {},
   "source": [
    "$\\theta = 0.3.$"
   ]
  },
  {
   "cell_type": "code",
   "execution_count": 67,
   "metadata": {},
   "outputs": [
    {
     "data": {
      "text/html": [
       "<ol class=list-inline>\n",
       "\t<li>11.8233882716253</li>\n",
       "\t<li>6.55314231356695</li>\n",
       "\t<li>28.8795081993102</li>\n",
       "\t<li>12.6283479458178</li>\n",
       "\t<li>28.7289160999105</li>\n",
       "\t<li>22.4173382234053</li>\n",
       "\t<li>17.9328366875523</li>\n",
       "\t<li>34.1459270209296</li>\n",
       "\t<li>13.022174219792</li>\n",
       "\t<li>18.1336767385125</li>\n",
       "\t<li>39.0105350435324</li>\n",
       "\t<li>15.6512003113662</li>\n",
       "\t<li>9.9948962617057</li>\n",
       "\t<li>10.0881111051201</li>\n",
       "\t<li>24.8063981909513</li>\n",
       "\t<li>17.8793092640996</li>\n",
       "\t<li>20.92845193632</li>\n",
       "\t<li>14.8478312398912</li>\n",
       "\t<li>16.1912801560173</li>\n",
       "\t<li>4.6825438079502</li>\n",
       "\t<li>16.201724921895</li>\n",
       "\t<li>8.15302219450792</li>\n",
       "\t<li>15.5598505965613</li>\n",
       "\t<li>32.4765571206757</li>\n",
       "\t<li>8.84542372463804</li>\n",
       "\t<li>20.7161364546029</li>\n",
       "\t<li>10.8699648690108</li>\n",
       "\t<li>17.5303055943839</li>\n",
       "\t<li>5.58574166604166</li>\n",
       "\t<li>17.0912251654465</li>\n",
       "\t<li>4.76987255933934</li>\n",
       "\t<li>11.1280265125959</li>\n",
       "\t<li>11.0359938380577</li>\n",
       "\t<li>20.0906361555139</li>\n",
       "\t<li>7.14732955531148</li>\n",
       "\t<li>27.6281841658983</li>\n",
       "\t<li>23.1687031441701</li>\n",
       "\t<li>21.6006560879278</li>\n",
       "\t<li>20.5873753136029</li>\n",
       "\t<li>11.3714555657383</li>\n",
       "\t<li>28.8577603548998</li>\n",
       "\t<li>15.6986979664764</li>\n",
       "\t<li>13.2227761587982</li>\n",
       "\t<li>9.05759136784849</li>\n",
       "\t<li>18.7994547600875</li>\n",
       "\t<li>17.56527207791</li>\n",
       "\t<li>15.5792869956682</li>\n",
       "\t<li>30.2130778289282</li>\n",
       "\t<li>20.190596303096</li>\n",
       "\t<li>10.2413886102685</li>\n",
       "</ol>\n"
      ],
      "text/latex": [
       "\\begin{enumerate*}\n",
       "\\item 11.8233882716253\n",
       "\\item 6.55314231356695\n",
       "\\item 28.8795081993102\n",
       "\\item 12.6283479458178\n",
       "\\item 28.7289160999105\n",
       "\\item 22.4173382234053\n",
       "\\item 17.9328366875523\n",
       "\\item 34.1459270209296\n",
       "\\item 13.022174219792\n",
       "\\item 18.1336767385125\n",
       "\\item 39.0105350435324\n",
       "\\item 15.6512003113662\n",
       "\\item 9.9948962617057\n",
       "\\item 10.0881111051201\n",
       "\\item 24.8063981909513\n",
       "\\item 17.8793092640996\n",
       "\\item 20.92845193632\n",
       "\\item 14.8478312398912\n",
       "\\item 16.1912801560173\n",
       "\\item 4.6825438079502\n",
       "\\item 16.201724921895\n",
       "\\item 8.15302219450792\n",
       "\\item 15.5598505965613\n",
       "\\item 32.4765571206757\n",
       "\\item 8.84542372463804\n",
       "\\item 20.7161364546029\n",
       "\\item 10.8699648690108\n",
       "\\item 17.5303055943839\n",
       "\\item 5.58574166604166\n",
       "\\item 17.0912251654465\n",
       "\\item 4.76987255933934\n",
       "\\item 11.1280265125959\n",
       "\\item 11.0359938380577\n",
       "\\item 20.0906361555139\n",
       "\\item 7.14732955531148\n",
       "\\item 27.6281841658983\n",
       "\\item 23.1687031441701\n",
       "\\item 21.6006560879278\n",
       "\\item 20.5873753136029\n",
       "\\item 11.3714555657383\n",
       "\\item 28.8577603548998\n",
       "\\item 15.6986979664764\n",
       "\\item 13.2227761587982\n",
       "\\item 9.05759136784849\n",
       "\\item 18.7994547600875\n",
       "\\item 17.56527207791\n",
       "\\item 15.5792869956682\n",
       "\\item 30.2130778289282\n",
       "\\item 20.190596303096\n",
       "\\item 10.2413886102685\n",
       "\\end{enumerate*}\n"
      ],
      "text/markdown": [
       "1. 11.8233882716253\n",
       "2. 6.55314231356695\n",
       "3. 28.8795081993102\n",
       "4. 12.6283479458178\n",
       "5. 28.7289160999105\n",
       "6. 22.4173382234053\n",
       "7. 17.9328366875523\n",
       "8. 34.1459270209296\n",
       "9. 13.022174219792\n",
       "10. 18.1336767385125\n",
       "11. 39.0105350435324\n",
       "12. 15.6512003113662\n",
       "13. 9.9948962617057\n",
       "14. 10.0881111051201\n",
       "15. 24.8063981909513\n",
       "16. 17.8793092640996\n",
       "17. 20.92845193632\n",
       "18. 14.8478312398912\n",
       "19. 16.1912801560173\n",
       "20. 4.6825438079502\n",
       "21. 16.201724921895\n",
       "22. 8.15302219450792\n",
       "23. 15.5598505965613\n",
       "24. 32.4765571206757\n",
       "25. 8.84542372463804\n",
       "26. 20.7161364546029\n",
       "27. 10.8699648690108\n",
       "28. 17.5303055943839\n",
       "29. 5.58574166604166\n",
       "30. 17.0912251654465\n",
       "31. 4.76987255933934\n",
       "32. 11.1280265125959\n",
       "33. 11.0359938380577\n",
       "34. 20.0906361555139\n",
       "35. 7.14732955531148\n",
       "36. 27.6281841658983\n",
       "37. 23.1687031441701\n",
       "38. 21.6006560879278\n",
       "39. 20.5873753136029\n",
       "40. 11.3714555657383\n",
       "41. 28.8577603548998\n",
       "42. 15.6986979664764\n",
       "43. 13.2227761587982\n",
       "44. 9.05759136784849\n",
       "45. 18.7994547600875\n",
       "46. 17.56527207791\n",
       "47. 15.5792869956682\n",
       "48. 30.2130778289282\n",
       "49. 20.190596303096\n",
       "50. 10.2413886102685\n",
       "\n",
       "\n"
      ],
      "text/plain": [
       " [1] 11.823388  6.553142 28.879508 12.628348 28.728916 22.417338 17.932837\n",
       " [8] 34.145927 13.022174 18.133677 39.010535 15.651200  9.994896 10.088111\n",
       "[15] 24.806398 17.879309 20.928452 14.847831 16.191280  4.682544 16.201725\n",
       "[22]  8.153022 15.559851 32.476557  8.845424 20.716136 10.869965 17.530306\n",
       "[29]  5.585742 17.091225  4.769873 11.128027 11.035994 20.090636  7.147330\n",
       "[36] 27.628184 23.168703 21.600656 20.587375 11.371456 28.857760 15.698698\n",
       "[43] 13.222776  9.057591 18.799455 17.565272 15.579287 30.213078 20.190596\n",
       "[50] 10.241389"
      ]
     },
     "metadata": {},
     "output_type": "display_data"
    }
   ],
   "source": [
    "theta = 0.3\n",
    "\n",
    "X = rgamma(shape = beta, scale = 1 / theta, n = n)\n",
    "X"
   ]
  },
  {
   "cell_type": "code",
   "execution_count": 68,
   "metadata": {},
   "outputs": [
    {
     "data": {
      "text/html": [
       "2.75579533358003e-133"
      ],
      "text/latex": [
       "2.75579533358003e-133"
      ],
      "text/markdown": [
       "2.75579533358003e-133"
      ],
      "text/plain": [
       "[1] 2.755795e-133"
      ]
     },
     "metadata": {},
     "output_type": "display_data"
    }
   ],
   "source": [
    "t = sum(X)\n",
    "pval = pgamma(shape = beta * n, scale = 1 / theta_0, q = t, lower.tail = F)\n",
    "pval"
   ]
  },
  {
   "cell_type": "markdown",
   "metadata": {},
   "source": [
    "$\\theta = 5.$"
   ]
  },
  {
   "cell_type": "code",
   "execution_count": 69,
   "metadata": {},
   "outputs": [
    {
     "data": {
      "text/html": [
       "<ol class=list-inline>\n",
       "\t<li>0.872178707304329</li>\n",
       "\t<li>0.219621336196438</li>\n",
       "\t<li>1.29256546072304</li>\n",
       "\t<li>0.914165364892273</li>\n",
       "\t<li>1.21527857741305</li>\n",
       "\t<li>0.305561664534545</li>\n",
       "\t<li>0.971260598137375</li>\n",
       "\t<li>1.43487304368516</li>\n",
       "\t<li>0.639555740715139</li>\n",
       "\t<li>0.701848814431994</li>\n",
       "\t<li>0.752893361272609</li>\n",
       "\t<li>1.1468825794992</li>\n",
       "\t<li>0.817420756952387</li>\n",
       "\t<li>0.456821558853465</li>\n",
       "\t<li>0.65745396130652</li>\n",
       "\t<li>0.867768325818848</li>\n",
       "\t<li>0.996659125665782</li>\n",
       "\t<li>0.483570790777287</li>\n",
       "\t<li>0.898223443045319</li>\n",
       "\t<li>0.572083081726832</li>\n",
       "\t<li>0.90878988599634</li>\n",
       "\t<li>1.22137802527415</li>\n",
       "\t<li>0.265104131221602</li>\n",
       "\t<li>1.33087197981896</li>\n",
       "\t<li>0.56544979458346</li>\n",
       "\t<li>0.662557450023901</li>\n",
       "\t<li>1.06988400387857</li>\n",
       "\t<li>1.64885881188091</li>\n",
       "\t<li>0.731151473930333</li>\n",
       "\t<li>1.52545094684635</li>\n",
       "\t<li>0.609609467571989</li>\n",
       "\t<li>0.764577383643296</li>\n",
       "\t<li>0.865710317316927</li>\n",
       "\t<li>0.931198100722986</li>\n",
       "\t<li>0.714344631646606</li>\n",
       "\t<li>0.388959310883566</li>\n",
       "\t<li>0.291902248252391</li>\n",
       "\t<li>1.57297479444515</li>\n",
       "\t<li>0.671967684876428</li>\n",
       "\t<li>0.452766121407603</li>\n",
       "\t<li>0.604624480708454</li>\n",
       "\t<li>0.439895734923644</li>\n",
       "\t<li>0.459063604880784</li>\n",
       "\t<li>2.07248511123342</li>\n",
       "\t<li>1.23731854382047</li>\n",
       "\t<li>0.67096158706185</li>\n",
       "\t<li>0.945932843307175</li>\n",
       "\t<li>0.473890237546572</li>\n",
       "\t<li>0.553761595112133</li>\n",
       "\t<li>1.19032959436726</li>\n",
       "</ol>\n"
      ],
      "text/latex": [
       "\\begin{enumerate*}\n",
       "\\item 0.872178707304329\n",
       "\\item 0.219621336196438\n",
       "\\item 1.29256546072304\n",
       "\\item 0.914165364892273\n",
       "\\item 1.21527857741305\n",
       "\\item 0.305561664534545\n",
       "\\item 0.971260598137375\n",
       "\\item 1.43487304368516\n",
       "\\item 0.639555740715139\n",
       "\\item 0.701848814431994\n",
       "\\item 0.752893361272609\n",
       "\\item 1.1468825794992\n",
       "\\item 0.817420756952387\n",
       "\\item 0.456821558853465\n",
       "\\item 0.65745396130652\n",
       "\\item 0.867768325818848\n",
       "\\item 0.996659125665782\n",
       "\\item 0.483570790777287\n",
       "\\item 0.898223443045319\n",
       "\\item 0.572083081726832\n",
       "\\item 0.90878988599634\n",
       "\\item 1.22137802527415\n",
       "\\item 0.265104131221602\n",
       "\\item 1.33087197981896\n",
       "\\item 0.56544979458346\n",
       "\\item 0.662557450023901\n",
       "\\item 1.06988400387857\n",
       "\\item 1.64885881188091\n",
       "\\item 0.731151473930333\n",
       "\\item 1.52545094684635\n",
       "\\item 0.609609467571989\n",
       "\\item 0.764577383643296\n",
       "\\item 0.865710317316927\n",
       "\\item 0.931198100722986\n",
       "\\item 0.714344631646606\n",
       "\\item 0.388959310883566\n",
       "\\item 0.291902248252391\n",
       "\\item 1.57297479444515\n",
       "\\item 0.671967684876428\n",
       "\\item 0.452766121407603\n",
       "\\item 0.604624480708454\n",
       "\\item 0.439895734923644\n",
       "\\item 0.459063604880784\n",
       "\\item 2.07248511123342\n",
       "\\item 1.23731854382047\n",
       "\\item 0.67096158706185\n",
       "\\item 0.945932843307175\n",
       "\\item 0.473890237546572\n",
       "\\item 0.553761595112133\n",
       "\\item 1.19032959436726\n",
       "\\end{enumerate*}\n"
      ],
      "text/markdown": [
       "1. 0.872178707304329\n",
       "2. 0.219621336196438\n",
       "3. 1.29256546072304\n",
       "4. 0.914165364892273\n",
       "5. 1.21527857741305\n",
       "6. 0.305561664534545\n",
       "7. 0.971260598137375\n",
       "8. 1.43487304368516\n",
       "9. 0.639555740715139\n",
       "10. 0.701848814431994\n",
       "11. 0.752893361272609\n",
       "12. 1.1468825794992\n",
       "13. 0.817420756952387\n",
       "14. 0.456821558853465\n",
       "15. 0.65745396130652\n",
       "16. 0.867768325818848\n",
       "17. 0.996659125665782\n",
       "18. 0.483570790777287\n",
       "19. 0.898223443045319\n",
       "20. 0.572083081726832\n",
       "21. 0.90878988599634\n",
       "22. 1.22137802527415\n",
       "23. 0.265104131221602\n",
       "24. 1.33087197981896\n",
       "25. 0.56544979458346\n",
       "26. 0.662557450023901\n",
       "27. 1.06988400387857\n",
       "28. 1.64885881188091\n",
       "29. 0.731151473930333\n",
       "30. 1.52545094684635\n",
       "31. 0.609609467571989\n",
       "32. 0.764577383643296\n",
       "33. 0.865710317316927\n",
       "34. 0.931198100722986\n",
       "35. 0.714344631646606\n",
       "36. 0.388959310883566\n",
       "37. 0.291902248252391\n",
       "38. 1.57297479444515\n",
       "39. 0.671967684876428\n",
       "40. 0.452766121407603\n",
       "41. 0.604624480708454\n",
       "42. 0.439895734923644\n",
       "43. 0.459063604880784\n",
       "44. 2.07248511123342\n",
       "45. 1.23731854382047\n",
       "46. 0.67096158706185\n",
       "47. 0.945932843307175\n",
       "48. 0.473890237546572\n",
       "49. 0.553761595112133\n",
       "50. 1.19032959436726\n",
       "\n",
       "\n"
      ],
      "text/plain": [
       " [1] 0.8721787 0.2196213 1.2925655 0.9141654 1.2152786 0.3055617 0.9712606\n",
       " [8] 1.4348730 0.6395557 0.7018488 0.7528934 1.1468826 0.8174208 0.4568216\n",
       "[15] 0.6574540 0.8677683 0.9966591 0.4835708 0.8982234 0.5720831 0.9087899\n",
       "[22] 1.2213780 0.2651041 1.3308720 0.5654498 0.6625575 1.0698840 1.6488588\n",
       "[29] 0.7311515 1.5254509 0.6096095 0.7645774 0.8657103 0.9311981 0.7143446\n",
       "[36] 0.3889593 0.2919022 1.5729748 0.6719677 0.4527661 0.6046245 0.4398957\n",
       "[43] 0.4590636 2.0724851 1.2373185 0.6709616 0.9459328 0.4738902 0.5537616\n",
       "[50] 1.1903296"
      ]
     },
     "metadata": {},
     "output_type": "display_data"
    }
   ],
   "source": [
    "theta = 5\n",
    "\n",
    "X = rgamma(shape = beta, scale = 1 / theta, n = n)\n",
    "X"
   ]
  },
  {
   "cell_type": "code",
   "execution_count": 70,
   "metadata": {},
   "outputs": [
    {
     "data": {
      "text/html": [
       "1"
      ],
      "text/latex": [
       "1"
      ],
      "text/markdown": [
       "1"
      ],
      "text/plain": [
       "[1] 1"
      ]
     },
     "metadata": {},
     "output_type": "display_data"
    }
   ],
   "source": [
    "t = sum(X)\n",
    "pval = pgamma(shape = beta * n, scale = 1 / theta_0, q = t, lower.tail = F)\n",
    "pval"
   ]
  },
  {
   "cell_type": "markdown",
   "metadata": {},
   "source": [
    "**Пункт b.**"
   ]
  },
  {
   "cell_type": "code",
   "execution_count": 71,
   "metadata": {},
   "outputs": [],
   "source": [
    "f = function(n, theta, theta_0, beta, alpha = 0.05) {\n",
    "#     print(n)\n",
    "    c_alpha = qgamma(shape = beta * n, scale = 1 / theta_0, p = alpha, lower.tail = F)\n",
    "    pow = pgamma(q = c_alpha, shape = beta * n, scale = 1 / theta, lower.tail = F)\n",
    "    return(pow)\n",
    "}"
   ]
  },
  {
   "cell_type": "code",
   "execution_count": 72,
   "metadata": {},
   "outputs": [
    {
     "data": {
      "image/png": "[encoded data removed]",
      "text/plain": [
       "Plot with title \"Кривые мощности для разных размеров выборки\""
      ]
     },
     "metadata": {
      "image/png": {
       "height": 480,
       "width": 600
      }
     },
     "output_type": "display_data"
    }
   ],
   "source": [
    "n_grid = c(10, 20, 50, 150, 1000)\n",
    "theta_grid = seq(0.01, 1, 0.01)\n",
    "\n",
    "y = c()\n",
    "\n",
    "for (n in n_grid) {\n",
    "#     print(n)\n",
    "    y_i = f(n = n, theta = theta_grid, theta_0 = theta_0, beta = beta)\n",
    "    y = cbind(y, y_i)\n",
    "}\n",
    "matplot(theta_grid, y, type = 'l', lwd = 5, xlab = 'theta', ylab = 'мощность', lty = c(1, 1, 1, 1, 1), \n",
    "     col = c('green', 'pink', 'blue', 'orange', 'aquamarine'), main = 'Кривые мощности для разных размеров выборки')\n",
    "legend(\"bottomleft\", legend = c('n = 10', 'n = 20', 'n = 50', 'n = 150', 'n = 1000'),\n",
    "       lty = c(1, 1, 1, 1, 1), lwd = 5, col = c('green', 'pink', 'blue', 'orange', 'aquamarine'))\n",
    "grid()"
   ]
  },
  {
   "cell_type": "markdown",
   "metadata": {
    "id": "RJeh6tgi59Ny"
   },
   "source": [
    "### Задача 2.\n",
    "\n",
    "Данные классического эксперимента Майкельсона по измерению скорости света с помощью вращающегося зеркала, 100 наблюдений:"
   ]
  },
  {
   "cell_type": "code",
   "execution_count": 73,
   "metadata": {
    "id": "tHx5Kp6u59N0"
   },
   "outputs": [
    {
     "name": "stdout",
     "output_type": "stream",
     "text": [
      "  [1] 299850 299740 299900 300070 299930 299850 299950 299980 299980 299880\n",
      " [11] 300000 299980 299930 299650 299760 299810 300000 300000 299960 299960\n",
      " [21] 299960 299940 299960 299940 299880 299800 299850 299880 299900 299840\n",
      " [31] 299830 299790 299810 299880 299880 299830 299800 299790 299760 299800\n",
      " [41] 299880 299880 299880 299860 299720 299720 299620 299860 299970 299950\n",
      " [51] 299880 299910 299850 299870 299840 299840 299850 299840 299840 299840\n",
      " [61] 299890 299810 299810 299820 299800 299770 299760 299740 299750 299760\n",
      " [71] 299910 299920 299890 299860 299880 299720 299840 299850 299850 299780\n",
      " [81] 299890 299840 299780 299810 299760 299810 299790 299810 299820 299850\n",
      " [91] 299870 299870 299810 299740 299810 299940 299950 299800 299810 299870\n"
     ]
    }
   ],
   "source": [
    "speed <- scan(\"speed.txt\")\n",
    "print(speed)"
   ]
  },
  {
   "cell_type": "markdown",
   "metadata": {
    "id": "Aargr6nY59N3"
   },
   "source": [
    "Требуется исследовать данные на нормальность. При построении графиков подписывайте оси и сам график."
   ]
  },
  {
   "cell_type": "markdown",
   "metadata": {
    "id": "nZZv9Qi659N7"
   },
   "source": [
    "Постройте гистограмму по данным"
   ]
  },
  {
   "cell_type": "code",
   "execution_count": 74,
   "metadata": {
    "id": "stTwT9c459N9"
   },
   "outputs": [
    {
     "data": {
      "image/png": "[encoded data removed]",
      "text/plain": [
       "Plot with title \"Histogram of speed\""
      ]
     },
     "metadata": {
      "image/png": {
       "height": 480,
       "width": 600
      }
     },
     "output_type": "display_data"
    }
   ],
   "source": [
    "hist(speed, freq = F, col = 3, nclass = 10)"
   ]
  },
  {
   "cell_type": "markdown",
   "metadata": {
    "id": "gF3uaIgE59N_"
   },
   "source": [
    "Постройте график ядерной оценки плотности, на который нанесите также график плотности нормального распределения, параметры которого соответствуют оценке максимального правдоподобия по данным.\n",
    "\n",
    "*Замечание.* Функция `plot` создает новую фигуру и рисует линию/точки. Функция `lines` рисует линию/точки на уже *существующей* фигуре. Тип линии или точек определяется параметром `type `."
   ]
  },
  {
   "cell_type": "code",
   "execution_count": 75,
   "metadata": {},
   "outputs": [
    {
     "data": {
      "text/html": [
       "100"
      ],
      "text/latex": [
       "100"
      ],
      "text/markdown": [
       "100"
      ],
      "text/plain": [
       "[1] 100"
      ]
     },
     "metadata": {},
     "output_type": "display_data"
    },
    {
     "data": {
      "text/html": [
       "1000"
      ],
      "text/latex": [
       "1000"
      ],
      "text/markdown": [
       "1000"
      ],
      "text/plain": [
       "[1] 1000"
      ]
     },
     "metadata": {},
     "output_type": "display_data"
    }
   ],
   "source": [
    "x = matrix(seq(min(speed) - 1000, max(speed) + 1000, length.out = 1000), ncol = 1000, nrow = length(speed))\n",
    "length(x[,1])\n",
    "length(x[1,])"
   ]
  },
  {
   "cell_type": "code",
   "execution_count": 76,
   "metadata": {},
   "outputs": [
    {
     "data": {
      "text/html": [
       "100"
      ],
      "text/latex": [
       "100"
      ],
      "text/markdown": [
       "100"
      ],
      "text/plain": [
       "[1] 100"
      ]
     },
     "metadata": {},
     "output_type": "display_data"
    },
    {
     "data": {
      "text/html": [
       "1000"
      ],
      "text/latex": [
       "1000"
      ],
      "text/markdown": [
       "1000"
      ],
      "text/plain": [
       "[1] 1000"
      ]
     },
     "metadata": {},
     "output_type": "display_data"
    }
   ],
   "source": [
    "X = matrix(speed, ncol = 1000, nrow = length(speed))\n",
    "length(X[,1])\n",
    "length(X[1,])"
   ]
  },
  {
   "cell_type": "code",
   "execution_count": 77,
   "metadata": {
    "id": "chszan7D59OA"
   },
   "outputs": [
    {
     "data": {
      "text/html": [
       "299852.4"
      ],
      "text/latex": [
       "299852.4"
      ],
      "text/markdown": [
       "299852.4"
      ],
      "text/plain": [
       "[1] 299852.4"
      ]
     },
     "metadata": {},
     "output_type": "display_data"
    },
    {
     "data": {
      "text/html": [
       "79.0105478190518"
      ],
      "text/latex": [
       "79.0105478190518"
      ],
      "text/markdown": [
       "79.0105478190518"
      ],
      "text/plain": [
       "[1] 79.01055"
      ]
     },
     "metadata": {},
     "output_type": "display_data"
    }
   ],
   "source": [
    "a_omp = mean(speed)\n",
    "sigma_omp = sd(speed)\n",
    "a_omp\n",
    "sigma_omp "
   ]
  },
  {
   "cell_type": "code",
   "execution_count": 78,
   "metadata": {},
   "outputs": [],
   "source": [
    "kde = function(h, x, X, q) {\n",
    "    n = length(X)\n",
    "    s = 0\n",
    "    for (i in 1:n) {\n",
    "        s = s + q((x - X[i]) / h)\n",
    "    }\n",
    "    return (s / (n * h))\n",
    "}"
   ]
  },
  {
   "cell_type": "code",
   "execution_count": 79,
   "metadata": {},
   "outputs": [],
   "source": [
    "h = sigma_omp\n",
    "q = dnorm"
   ]
  },
  {
   "cell_type": "code",
   "execution_count": 80,
   "metadata": {},
   "outputs": [],
   "source": [
    "x = seq(min(speed) - 1000, max(speed) + 1000, length.out = 1000)\n",
    "kde_arr = kde(h, x, speed, q)\n",
    "norm_arr = dnorm(x, mean = a_omp, sd = sigma_omp)"
   ]
  },
  {
   "cell_type": "code",
   "execution_count": 81,
   "metadata": {},
   "outputs": [],
   "source": [
    "y = cbind(kde_arr, norm_arr)"
   ]
  },
  {
   "cell_type": "code",
   "execution_count": 82,
   "metadata": {},
   "outputs": [
    {
     "data": {
      "image/png": "[encoded data removed]",
      "text/plain": [
       "Plot with title \"Ядерная плотность и плотность нормального распределения\""
      ]
     },
     "metadata": {
      "image/png": {
       "height": 480,
       "width": 600
      }
     },
     "output_type": "display_data"
    }
   ],
   "source": [
    "matplot(x, y, type = 'l', col = c('red', 'black'), lwd = 5, xlab = 'скорость', ylab = 'плотность', lty = c(1, 1), \n",
    "        main = 'Ядерная плотность и плотность нормального распределения')\n",
    "legend(\"topleft\", legend = c('kde', 'norm'), col = c('red', 'black'), lty = c(1, 1), lwd = 5)\n",
    "grid()"
   ]
  },
  {
   "cell_type": "markdown",
   "metadata": {
    "id": "JUF4NBc859OB"
   },
   "source": [
    "Постройте график эмпирической функции распределения, на который нанесите также график функции распределения нормального распределения, параметры которого соответствуют оценке максимального правдоподобия по данным. Добавьте на график сетку.\n",
    "\n",
    "*Замечание.* При отрисовке ЭФР установите параметры:\n",
    "* `verticals = TRUE` — рисовать вертикальные линии;\n",
    "* `pch = NA` — не рисовать точки."
   ]
  },
  {
   "cell_type": "code",
   "execution_count": 83,
   "metadata": {},
   "outputs": [
    {
     "data": {
      "text/html": [
       "49600"
      ],
      "text/latex": [
       "49600"
      ],
      "text/markdown": [
       "49600"
      ],
      "text/plain": [
       "[1] 49600"
      ]
     },
     "metadata": {},
     "output_type": "display_data"
    }
   ],
   "source": [
    "length(X[X <= x])"
   ]
  },
  {
   "cell_type": "code",
   "execution_count": 84,
   "metadata": {},
   "outputs": [
    {
     "data": {
      "text/html": [
       "100"
      ],
      "text/latex": [
       "100"
      ],
      "text/markdown": [
       "100"
      ],
      "text/plain": [
       "[1] 100"
      ]
     },
     "metadata": {},
     "output_type": "display_data"
    }
   ],
   "source": [
    "j = 300000\n",
    "length(speed)"
   ]
  },
  {
   "cell_type": "code",
   "execution_count": 85,
   "metadata": {
    "id": "sgUcbQz759OM"
   },
   "outputs": [],
   "source": [
    "empiric = function(x, X) {\n",
    "    emp = c()\n",
    "    for (i in (1:length(x))) {\n",
    "        cur_emp = length(X[X <= x[i]]) / length(X)\n",
    "        emp = c(emp, cur_emp)\n",
    "    }\n",
    "    return(emp)\n",
    "}"
   ]
  },
  {
   "cell_type": "code",
   "execution_count": 86,
   "metadata": {},
   "outputs": [],
   "source": [
    "empiric_arr = empiric(x, speed)\n",
    "norm_cdf = pnorm(q = x, mean = a_omp, sd = sigma_omp)"
   ]
  },
  {
   "cell_type": "code",
   "execution_count": 87,
   "metadata": {},
   "outputs": [],
   "source": [
    "y = cbind(empiric_arr, norm_cdf)"
   ]
  },
  {
   "cell_type": "code",
   "execution_count": 88,
   "metadata": {},
   "outputs": [
    {
     "data": {
      "image/png": "[encoded data removed]",
      "text/plain": [
       "Plot with title \"Эмпирическая и нормальная функции распределения\""
      ]
     },
     "metadata": {
      "image/png": {
       "height": 480,
       "width": 600
      }
     },
     "output_type": "display_data"
    }
   ],
   "source": [
    "matplot(x, y, type = c('l', 'l'), col = c('red', 'black'), lwd = 5, xlab = 'скорость', ylab = 'плотность', lty = c(1, 1), \n",
    "       main = 'Эмпирическая и нормальная функции распределения')\n",
    "legend(\"topleft\", legend = c('empiric', 'norm'), col = c('red', 'black'), lty = c(1, 1), lwd = 5)\n",
    "grid()"
   ]
  },
  {
   "cell_type": "markdown",
   "metadata": {
    "id": "Qa7QduCE59ON"
   },
   "source": [
    "Простройте по данным Q-Q plot"
   ]
  },
  {
   "cell_type": "code",
   "execution_count": 89,
   "metadata": {
    "id": "_jbQQDto59ON"
   },
   "outputs": [
    {
     "data": {
      "image/png": "[encoded data removed]",
      "text/plain": [
       "Plot with title \"Normal Q-Q Plot\""
      ]
     },
     "metadata": {
      "image/png": {
       "height": 480,
       "width": 600
      }
     },
     "output_type": "display_data"
    }
   ],
   "source": [
    "qqnorm(speed)\n",
    "qqline(speed, lwd=5, col='red')"
   ]
  },
  {
   "cell_type": "markdown",
   "metadata": {
    "id": "6IH92V4Y59OT"
   },
   "source": [
    "Примените к данным критерии Лиллиефорса, Андерсона-Дарлинга, Крамера-фон Мизеса, Жарка-Бера и Шапиро-Уилка"
   ]
  },
  {
   "cell_type": "code",
   "execution_count": 90,
   "metadata": {
    "id": "xy6lS1kv59OT"
   },
   "outputs": [
    {
     "name": "stderr",
     "output_type": "stream",
     "text": [
      "Warning message:\n",
      "\"package 'nortest' is in use and will not be installed\"\n",
      "Warning message:\n",
      "\"package 'normtest' is in use and will not be installed\"\n"
     ]
    }
   ],
   "source": [
    "install.packages('nortest')\n",
    "library('nortest')\n",
    "install.packages('normtest')\n",
    "library('normtest')"
   ]
  },
  {
   "cell_type": "code",
   "execution_count": 91,
   "metadata": {
    "id": "eOhFmPCM59OU"
   },
   "outputs": [
    {
     "data": {
      "text/plain": [
       "\n",
       "\tLilliefors (Kolmogorov-Smirnov) normality test\n",
       "\n",
       "data:  speed\n",
       "D = 0.083424, p-value = 0.08289\n"
      ]
     },
     "metadata": {},
     "output_type": "display_data"
    }
   ],
   "source": [
    "lil = lillie.test(speed)\n",
    "lil"
   ]
  },
  {
   "cell_type": "code",
   "execution_count": 92,
   "metadata": {},
   "outputs": [
    {
     "data": {
      "text/plain": [
       "\n",
       "\tAnderson-Darling normality test\n",
       "\n",
       "data:  speed\n",
       "A = 0.46076, p-value = 0.255\n"
      ]
     },
     "metadata": {},
     "output_type": "display_data"
    }
   ],
   "source": [
    "ad = ad.test(speed)\n",
    "ad"
   ]
  },
  {
   "cell_type": "code",
   "execution_count": 93,
   "metadata": {},
   "outputs": [
    {
     "data": {
      "text/plain": [
       "\n",
       "\tCramer-von Mises normality test\n",
       "\n",
       "data:  speed\n",
       "W = 0.077203, p-value = 0.2227\n"
      ]
     },
     "metadata": {},
     "output_type": "display_data"
    }
   ],
   "source": [
    "cvm = cvm.test(speed)\n",
    "cvm"
   ]
  },
  {
   "cell_type": "code",
   "execution_count": 94,
   "metadata": {},
   "outputs": [
    {
     "data": {
      "text/plain": [
       "\n",
       "\tJarque-Bera test for normality\n",
       "\n",
       "data:  speed\n",
       "JB = 0.29492, p-value = 0.8615\n"
      ]
     },
     "metadata": {},
     "output_type": "display_data"
    }
   ],
   "source": [
    "jb = jb.norm.test(speed)\n",
    "jb"
   ]
  },
  {
   "cell_type": "markdown",
   "metadata": {
    "id": "NAVv21LV59OU"
   },
   "source": [
    "Сохраните p-value каждого критерия в вектор. Для этого у результата нужно взять поле `p.value`. Не забудьте, что в R символ `.` (точка) является частью имени переменной."
   ]
  },
  {
   "cell_type": "code",
   "execution_count": 95,
   "metadata": {
    "id": "CkD6EOdb59OU"
   },
   "outputs": [
    {
     "data": {
      "text/html": [
       "<ol class=list-inline>\n",
       "\t<li>0.0828904284755984</li>\n",
       "\t<li>0.254956633339791</li>\n",
       "\t<li>0.222734195224366</li>\n",
       "\t<li>0.8615</li>\n",
       "</ol>\n"
      ],
      "text/latex": [
       "\\begin{enumerate*}\n",
       "\\item 0.0828904284755984\n",
       "\\item 0.254956633339791\n",
       "\\item 0.222734195224366\n",
       "\\item 0.8615\n",
       "\\end{enumerate*}\n"
      ],
      "text/markdown": [
       "1. 0.0828904284755984\n",
       "2. 0.254956633339791\n",
       "3. 0.222734195224366\n",
       "4. 0.8615\n",
       "\n",
       "\n"
      ],
      "text/plain": [
       "[1] 0.08289043 0.25495663 0.22273420 0.86150000"
      ]
     },
     "metadata": {},
     "output_type": "display_data"
    },
    {
     "data": {
      "text/html": [
       "<ol class=list-inline>\n",
       "\t<li>FALSE</li>\n",
       "\t<li>FALSE</li>\n",
       "\t<li>FALSE</li>\n",
       "\t<li>FALSE</li>\n",
       "</ol>\n"
      ],
      "text/latex": [
       "\\begin{enumerate*}\n",
       "\\item FALSE\n",
       "\\item FALSE\n",
       "\\item FALSE\n",
       "\\item FALSE\n",
       "\\end{enumerate*}\n"
      ],
      "text/markdown": [
       "1. FALSE\n",
       "2. FALSE\n",
       "3. FALSE\n",
       "4. FALSE\n",
       "\n",
       "\n"
      ],
      "text/plain": [
       "[1] FALSE FALSE FALSE FALSE"
      ]
     },
     "metadata": {},
     "output_type": "display_data"
    }
   ],
   "source": [
    "pvals = c(lil$p.value, ad$p.value, cvm$p.value, jb$p.value)\n",
    "pvals\n",
    "pvals < 0.05"
   ]
  },
  {
   "cell_type": "markdown",
   "metadata": {
    "id": "mdR2AjpZ59OW"
   },
   "source": [
    "Примените к ним процедуру множественной проверки гипотез по методу Холма"
   ]
  },
  {
   "cell_type": "code",
   "execution_count": 96,
   "metadata": {
    "id": "I0nfP1DL59OW"
   },
   "outputs": [
    {
     "data": {
      "text/html": [
       "<ol class=list-inline>\n",
       "\t<li>0.331561713902394</li>\n",
       "\t<li>0.668202585673097</li>\n",
       "\t<li>0.668202585673097</li>\n",
       "\t<li>0.8615</li>\n",
       "</ol>\n"
      ],
      "text/latex": [
       "\\begin{enumerate*}\n",
       "\\item 0.331561713902394\n",
       "\\item 0.668202585673097\n",
       "\\item 0.668202585673097\n",
       "\\item 0.8615\n",
       "\\end{enumerate*}\n"
      ],
      "text/markdown": [
       "1. 0.331561713902394\n",
       "2. 0.668202585673097\n",
       "3. 0.668202585673097\n",
       "4. 0.8615\n",
       "\n",
       "\n"
      ],
      "text/plain": [
       "[1] 0.3315617 0.6682026 0.6682026 0.8615000"
      ]
     },
     "metadata": {},
     "output_type": "display_data"
    },
    {
     "data": {
      "text/html": [
       "<ol class=list-inline>\n",
       "\t<li>FALSE</li>\n",
       "\t<li>FALSE</li>\n",
       "\t<li>FALSE</li>\n",
       "\t<li>FALSE</li>\n",
       "</ol>\n"
      ],
      "text/latex": [
       "\\begin{enumerate*}\n",
       "\\item FALSE\n",
       "\\item FALSE\n",
       "\\item FALSE\n",
       "\\item FALSE\n",
       "\\end{enumerate*}\n"
      ],
      "text/markdown": [
       "1. FALSE\n",
       "2. FALSE\n",
       "3. FALSE\n",
       "4. FALSE\n",
       "\n",
       "\n"
      ],
      "text/plain": [
       "[1] FALSE FALSE FALSE FALSE"
      ]
     },
     "metadata": {},
     "output_type": "display_data"
    }
   ],
   "source": [
    "corr_pvals = p.adjust(pvals, method = 'holm')\n",
    "corr_pvals\n",
    "corr_pvals < 0.05"
   ]
  },
  {
   "cell_type": "markdown",
   "metadata": {
    "id": "BzZ0gK-c59OW"
   },
   "source": [
    "Сделайте выводы:\n",
    "\n",
    "..."
   ]
  },
  {
   "cell_type": "markdown",
   "metadata": {},
   "source": [
    "### Задача 3\n",
    "\n",
    "Скачайте <a href=\"https://raw.githubusercontent.com/bdemeshev/em301/master/datasets/flats_moscow.txt\">данные</a> о стоимости квартир в Москве.\tОписание данных доступно по <a href=\"https://github.com/bdemeshev/em301/blob/master/datasets/flats_moscow_description.txt\">ccылке</a>.\n",
    "\t\n",
    "Обучите линейную регрессионную модель для предсказания цены квартиры от всех других параметров. Проверьте гипотезы о незначимости признаков и постройте доверительные интервалы для коэффициентов модели. Определите признаки желаемой для себя квартиры в Москве и постройте предсказательный интервал ее цены.\n",
    "\n",
    "Сравните качество модели на всех признаках и качество модели на признаках, отобранных при оптимизации AIC."
   ]
  },
  {
   "cell_type": "code",
   "execution_count": 97,
   "metadata": {},
   "outputs": [
    {
     "data": {
      "text/html": [
       "<table>\n",
       "<thead><tr><th scope=col>n</th><th scope=col>price</th><th scope=col>totsp</th><th scope=col>livesp</th><th scope=col>kitsp</th><th scope=col>dist</th><th scope=col>metrdist</th><th scope=col>walk</th><th scope=col>brick</th><th scope=col>floor</th><th scope=col>code</th></tr></thead>\n",
       "<tbody>\n",
       "\t<tr><td>1   </td><td> 81 </td><td> 58 </td><td>40  </td><td> 6  </td><td>12.5</td><td>7   </td><td>1   </td><td>1   </td><td>1   </td><td>3   </td></tr>\n",
       "\t<tr><td>2   </td><td> 75 </td><td> 44 </td><td>28  </td><td> 6  </td><td>13.5</td><td>7   </td><td>1   </td><td>0   </td><td>1   </td><td>6   </td></tr>\n",
       "\t<tr><td>3   </td><td>128 </td><td> 70 </td><td>42  </td><td> 6  </td><td>14.5</td><td>3   </td><td>1   </td><td>1   </td><td>1   </td><td>3   </td></tr>\n",
       "\t<tr><td>4   </td><td> 95 </td><td> 61 </td><td>37  </td><td> 6  </td><td>13.5</td><td>7   </td><td>1   </td><td>0   </td><td>1   </td><td>1   </td></tr>\n",
       "\t<tr><td>5   </td><td>330 </td><td>104 </td><td>60  </td><td>11  </td><td>10.5</td><td>7   </td><td>0   </td><td>1   </td><td>1   </td><td>3   </td></tr>\n",
       "</tbody>\n",
       "</table>\n"
      ],
      "text/latex": [
       "\\begin{tabular}{r|lllllllllll}\n",
       " n & price & totsp & livesp & kitsp & dist & metrdist & walk & brick & floor & code\\\\\n",
       "\\hline\n",
       "\t 1    &  81  &  58  & 40   &  6   & 12.5 & 7    & 1    & 1    & 1    & 3   \\\\\n",
       "\t 2    &  75  &  44  & 28   &  6   & 13.5 & 7    & 1    & 0    & 1    & 6   \\\\\n",
       "\t 3    & 128  &  70  & 42   &  6   & 14.5 & 3    & 1    & 1    & 1    & 3   \\\\\n",
       "\t 4    &  95  &  61  & 37   &  6   & 13.5 & 7    & 1    & 0    & 1    & 1   \\\\\n",
       "\t 5    & 330  & 104  & 60   & 11   & 10.5 & 7    & 0    & 1    & 1    & 3   \\\\\n",
       "\\end{tabular}\n"
      ],
      "text/markdown": [
       "\n",
       "| n | price | totsp | livesp | kitsp | dist | metrdist | walk | brick | floor | code |\n",
       "|---|---|---|---|---|---|---|---|---|---|---|\n",
       "| 1    |  81  |  58  | 40   |  6   | 12.5 | 7    | 1    | 1    | 1    | 3    |\n",
       "| 2    |  75  |  44  | 28   |  6   | 13.5 | 7    | 1    | 0    | 1    | 6    |\n",
       "| 3    | 128  |  70  | 42   |  6   | 14.5 | 3    | 1    | 1    | 1    | 3    |\n",
       "| 4    |  95  |  61  | 37   |  6   | 13.5 | 7    | 1    | 0    | 1    | 1    |\n",
       "| 5    | 330  | 104  | 60   | 11   | 10.5 | 7    | 0    | 1    | 1    | 3    |\n",
       "\n"
      ],
      "text/plain": [
       "  n price totsp livesp kitsp dist metrdist walk brick floor code\n",
       "1 1  81    58   40      6    12.5 7        1    1     1     3   \n",
       "2 2  75    44   28      6    13.5 7        1    0     1     6   \n",
       "3 3 128    70   42      6    14.5 3        1    1     1     3   \n",
       "4 4  95    61   37      6    13.5 7        1    0     1     1   \n",
       "5 5 330   104   60     11    10.5 7        0    1     1     3   "
      ]
     },
     "metadata": {},
     "output_type": "display_data"
    }
   ],
   "source": [
    "flats <- read.table(\"flats_moscow.txt\", header = T)\n",
    "flats[1:5,]"
   ]
  },
  {
   "cell_type": "code",
   "execution_count": 98,
   "metadata": {},
   "outputs": [],
   "source": [
    "cat_features = c('walk', 'brick', 'floor', 'code')\n",
    "cat_features_to_be_encoded = c('code')"
   ]
  },
  {
   "cell_type": "code",
   "execution_count": 99,
   "metadata": {},
   "outputs": [
    {
     "name": "stdout",
     "output_type": "stream",
     "text": [
      "'data.frame':\t2040 obs. of  11 variables:\n",
      " $ n       : int  1 2 3 4 5 6 7 8 9 10 ...\n",
      " $ price   : int  81 75 128 95 330 137 98 88 225 140 ...\n",
      " $ totsp   : int  58 44 70 61 104 76 59 55 80 86 ...\n",
      " $ livesp  : int  40 28 42 37 60 50 39 36 56 51 ...\n",
      " $ kitsp   : num  6 6 6 6 11 9 6 6 9 10 ...\n",
      " $ dist    : num  12.5 13.5 14.5 13.5 10.5 11 7.5 9 9 12.7 ...\n",
      " $ metrdist: int  7 7 3 7 7 7 10 5 5 10 ...\n",
      " $ walk    : int  1 1 1 1 0 1 0 1 1 1 ...\n",
      " $ brick   : int  1 0 1 0 1 1 0 1 1 0 ...\n",
      " $ floor   : int  1 1 1 1 1 1 1 0 1 1 ...\n",
      " $ code    : int  3 6 3 1 3 8 8 4 3 5 ...\n"
     ]
    }
   ],
   "source": [
    "str(flats)"
   ]
  },
  {
   "cell_type": "code",
   "execution_count": 100,
   "metadata": {},
   "outputs": [
    {
     "name": "stderr",
     "output_type": "stream",
     "text": [
      "Warning message:\n",
      "\"package 'mltools' is in use and will not be installed\"\n"
     ]
    },
    {
     "name": "stdout",
     "output_type": "stream",
     "text": [
      "\n",
      "  There is a binary version available but the source version is later:\n",
      "           binary source needs_compilation\n",
      "data.table 1.14.0 1.14.2              TRUE\n",
      "\n",
      "  Binaries will be installed\n"
     ]
    },
    {
     "name": "stderr",
     "output_type": "stream",
     "text": [
      "Warning message:\n",
      "\"package 'data.table' is in use and will not be installed\"\n"
     ]
    }
   ],
   "source": [
    "install.packages('mltools')\n",
    "library(mltools)\n",
    "install.packages('data.table')\n",
    "library(data.table)"
   ]
  },
  {
   "cell_type": "code",
   "execution_count": 101,
   "metadata": {},
   "outputs": [
    {
     "data": {
      "text/html": [
       "<table>\n",
       "<thead><tr><th scope=col>n</th><th scope=col>price</th><th scope=col>totsp</th><th scope=col>livesp</th><th scope=col>kitsp</th><th scope=col>dist</th><th scope=col>metrdist</th><th scope=col>walk</th><th scope=col>brick</th><th scope=col>floor</th><th scope=col>code</th></tr></thead>\n",
       "<tbody>\n",
       "\t<tr><td>1   </td><td> 81 </td><td> 58 </td><td>40  </td><td> 6  </td><td>12.5</td><td>7   </td><td>1   </td><td>1   </td><td>1   </td><td>3   </td></tr>\n",
       "\t<tr><td>2   </td><td> 75 </td><td> 44 </td><td>28  </td><td> 6  </td><td>13.5</td><td>7   </td><td>1   </td><td>0   </td><td>1   </td><td>6   </td></tr>\n",
       "\t<tr><td>3   </td><td>128 </td><td> 70 </td><td>42  </td><td> 6  </td><td>14.5</td><td>3   </td><td>1   </td><td>1   </td><td>1   </td><td>3   </td></tr>\n",
       "\t<tr><td>4   </td><td> 95 </td><td> 61 </td><td>37  </td><td> 6  </td><td>13.5</td><td>7   </td><td>1   </td><td>0   </td><td>1   </td><td>1   </td></tr>\n",
       "\t<tr><td>5   </td><td>330 </td><td>104 </td><td>60  </td><td>11  </td><td>10.5</td><td>7   </td><td>0   </td><td>1   </td><td>1   </td><td>3   </td></tr>\n",
       "</tbody>\n",
       "</table>\n"
      ],
      "text/latex": [
       "\\begin{tabular}{r|lllllllllll}\n",
       " n & price & totsp & livesp & kitsp & dist & metrdist & walk & brick & floor & code\\\\\n",
       "\\hline\n",
       "\t 1    &  81  &  58  & 40   &  6   & 12.5 & 7    & 1    & 1    & 1    & 3   \\\\\n",
       "\t 2    &  75  &  44  & 28   &  6   & 13.5 & 7    & 1    & 0    & 1    & 6   \\\\\n",
       "\t 3    & 128  &  70  & 42   &  6   & 14.5 & 3    & 1    & 1    & 1    & 3   \\\\\n",
       "\t 4    &  95  &  61  & 37   &  6   & 13.5 & 7    & 1    & 0    & 1    & 1   \\\\\n",
       "\t 5    & 330  & 104  & 60   & 11   & 10.5 & 7    & 0    & 1    & 1    & 3   \\\\\n",
       "\\end{tabular}\n"
      ],
      "text/markdown": [
       "\n",
       "| n | price | totsp | livesp | kitsp | dist | metrdist | walk | brick | floor | code |\n",
       "|---|---|---|---|---|---|---|---|---|---|---|\n",
       "| 1    |  81  |  58  | 40   |  6   | 12.5 | 7    | 1    | 1    | 1    | 3    |\n",
       "| 2    |  75  |  44  | 28   |  6   | 13.5 | 7    | 1    | 0    | 1    | 6    |\n",
       "| 3    | 128  |  70  | 42   |  6   | 14.5 | 3    | 1    | 1    | 1    | 3    |\n",
       "| 4    |  95  |  61  | 37   |  6   | 13.5 | 7    | 1    | 0    | 1    | 1    |\n",
       "| 5    | 330  | 104  | 60   | 11   | 10.5 | 7    | 0    | 1    | 1    | 3    |\n",
       "\n"
      ],
      "text/plain": [
       "  n price totsp livesp kitsp dist metrdist walk brick floor code\n",
       "1 1  81    58   40      6    12.5 7        1    1     1     3   \n",
       "2 2  75    44   28      6    13.5 7        1    0     1     6   \n",
       "3 3 128    70   42      6    14.5 3        1    1     1     3   \n",
       "4 4  95    61   37      6    13.5 7        1    0     1     1   \n",
       "5 5 330   104   60     11    10.5 7        0    1     1     3   "
      ]
     },
     "metadata": {},
     "output_type": "display_data"
    }
   ],
   "source": [
    "flats$'code' = as.factor(flats$'code')\n",
    "flats[1:5,]"
   ]
  },
  {
   "cell_type": "code",
   "execution_count": 102,
   "metadata": {},
   "outputs": [
    {
     "data": {
      "text/html": [
       "<table>\n",
       "<thead><tr><th scope=col>V1_1</th><th scope=col>V1_2</th><th scope=col>V1_3</th><th scope=col>V1_4</th><th scope=col>V1_5</th><th scope=col>V1_6</th><th scope=col>V1_7</th><th scope=col>V1_8</th><th scope=col>n</th></tr></thead>\n",
       "<tbody>\n",
       "\t<tr><td>0</td><td>0</td><td>1</td><td>0</td><td>0</td><td>0</td><td>0</td><td>0</td><td>1</td></tr>\n",
       "\t<tr><td>0</td><td>0</td><td>0</td><td>0</td><td>0</td><td>1</td><td>0</td><td>0</td><td>2</td></tr>\n",
       "\t<tr><td>0</td><td>0</td><td>1</td><td>0</td><td>0</td><td>0</td><td>0</td><td>0</td><td>3</td></tr>\n",
       "\t<tr><td>1</td><td>0</td><td>0</td><td>0</td><td>0</td><td>0</td><td>0</td><td>0</td><td>4</td></tr>\n",
       "\t<tr><td>0</td><td>0</td><td>1</td><td>0</td><td>0</td><td>0</td><td>0</td><td>0</td><td>5</td></tr>\n",
       "</tbody>\n",
       "</table>\n"
      ],
      "text/latex": [
       "\\begin{tabular}{r|lllllllll}\n",
       " V1\\_1 & V1\\_2 & V1\\_3 & V1\\_4 & V1\\_5 & V1\\_6 & V1\\_7 & V1\\_8 & n\\\\\n",
       "\\hline\n",
       "\t 0 & 0 & 1 & 0 & 0 & 0 & 0 & 0 & 1\\\\\n",
       "\t 0 & 0 & 0 & 0 & 0 & 1 & 0 & 0 & 2\\\\\n",
       "\t 0 & 0 & 1 & 0 & 0 & 0 & 0 & 0 & 3\\\\\n",
       "\t 1 & 0 & 0 & 0 & 0 & 0 & 0 & 0 & 4\\\\\n",
       "\t 0 & 0 & 1 & 0 & 0 & 0 & 0 & 0 & 5\\\\\n",
       "\\end{tabular}\n"
      ],
      "text/markdown": [
       "\n",
       "| V1_1 | V1_2 | V1_3 | V1_4 | V1_5 | V1_6 | V1_7 | V1_8 | n |\n",
       "|---|---|---|---|---|---|---|---|---|\n",
       "| 0 | 0 | 1 | 0 | 0 | 0 | 0 | 0 | 1 |\n",
       "| 0 | 0 | 0 | 0 | 0 | 1 | 0 | 0 | 2 |\n",
       "| 0 | 0 | 1 | 0 | 0 | 0 | 0 | 0 | 3 |\n",
       "| 1 | 0 | 0 | 0 | 0 | 0 | 0 | 0 | 4 |\n",
       "| 0 | 0 | 1 | 0 | 0 | 0 | 0 | 0 | 5 |\n",
       "\n"
      ],
      "text/plain": [
       "  V1_1 V1_2 V1_3 V1_4 V1_5 V1_6 V1_7 V1_8 n\n",
       "1 0    0    1    0    0    0    0    0    1\n",
       "2 0    0    0    0    0    1    0    0    2\n",
       "3 0    0    1    0    0    0    0    0    3\n",
       "4 1    0    0    0    0    0    0    0    4\n",
       "5 0    0    1    0    0    0    0    0    5"
      ]
     },
     "metadata": {},
     "output_type": "display_data"
    }
   ],
   "source": [
    "encoded_code = one_hot(as.data.table(flats$'code'))\n",
    "encoded_code$n = seq.int(nrow(encoded_code))\n",
    "encoded_code[1:5,]"
   ]
  },
  {
   "cell_type": "code",
   "execution_count": 103,
   "metadata": {},
   "outputs": [
    {
     "data": {
      "text/html": [
       "<table>\n",
       "<thead><tr><th scope=col>price</th><th scope=col>totsp</th><th scope=col>livesp</th><th scope=col>kitsp</th><th scope=col>dist</th><th scope=col>metrdist</th><th scope=col>walk</th><th scope=col>brick</th><th scope=col>floor</th><th scope=col>V1_1</th><th scope=col>V1_2</th><th scope=col>V1_3</th><th scope=col>V1_4</th><th scope=col>V1_5</th><th scope=col>V1_6</th><th scope=col>V1_7</th><th scope=col>V1_8</th></tr></thead>\n",
       "<tbody>\n",
       "\t<tr><td> 81 </td><td> 58 </td><td>40  </td><td> 6  </td><td>12.5</td><td>7   </td><td>1   </td><td>1   </td><td>1   </td><td>0   </td><td>0   </td><td>1   </td><td>0   </td><td>0   </td><td>0   </td><td>0   </td><td>0   </td></tr>\n",
       "\t<tr><td> 75 </td><td> 44 </td><td>28  </td><td> 6  </td><td>13.5</td><td>7   </td><td>1   </td><td>0   </td><td>1   </td><td>0   </td><td>0   </td><td>0   </td><td>0   </td><td>0   </td><td>1   </td><td>0   </td><td>0   </td></tr>\n",
       "\t<tr><td>128 </td><td> 70 </td><td>42  </td><td> 6  </td><td>14.5</td><td>3   </td><td>1   </td><td>1   </td><td>1   </td><td>0   </td><td>0   </td><td>1   </td><td>0   </td><td>0   </td><td>0   </td><td>0   </td><td>0   </td></tr>\n",
       "\t<tr><td> 95 </td><td> 61 </td><td>37  </td><td> 6  </td><td>13.5</td><td>7   </td><td>1   </td><td>0   </td><td>1   </td><td>1   </td><td>0   </td><td>0   </td><td>0   </td><td>0   </td><td>0   </td><td>0   </td><td>0   </td></tr>\n",
       "\t<tr><td>330 </td><td>104 </td><td>60  </td><td>11  </td><td>10.5</td><td>7   </td><td>0   </td><td>1   </td><td>1   </td><td>0   </td><td>0   </td><td>1   </td><td>0   </td><td>0   </td><td>0   </td><td>0   </td><td>0   </td></tr>\n",
       "</tbody>\n",
       "</table>\n"
      ],
      "text/latex": [
       "\\begin{tabular}{r|lllllllllllllllll}\n",
       " price & totsp & livesp & kitsp & dist & metrdist & walk & brick & floor & V1\\_1 & V1\\_2 & V1\\_3 & V1\\_4 & V1\\_5 & V1\\_6 & V1\\_7 & V1\\_8\\\\\n",
       "\\hline\n",
       "\t  81  &  58  & 40   &  6   & 12.5 & 7    & 1    & 1    & 1    & 0    & 0    & 1    & 0    & 0    & 0    & 0    & 0   \\\\\n",
       "\t  75  &  44  & 28   &  6   & 13.5 & 7    & 1    & 0    & 1    & 0    & 0    & 0    & 0    & 0    & 1    & 0    & 0   \\\\\n",
       "\t 128  &  70  & 42   &  6   & 14.5 & 3    & 1    & 1    & 1    & 0    & 0    & 1    & 0    & 0    & 0    & 0    & 0   \\\\\n",
       "\t  95  &  61  & 37   &  6   & 13.5 & 7    & 1    & 0    & 1    & 1    & 0    & 0    & 0    & 0    & 0    & 0    & 0   \\\\\n",
       "\t 330  & 104  & 60   & 11   & 10.5 & 7    & 0    & 1    & 1    & 0    & 0    & 1    & 0    & 0    & 0    & 0    & 0   \\\\\n",
       "\\end{tabular}\n"
      ],
      "text/markdown": [
       "\n",
       "| price | totsp | livesp | kitsp | dist | metrdist | walk | brick | floor | V1_1 | V1_2 | V1_3 | V1_4 | V1_5 | V1_6 | V1_7 | V1_8 |\n",
       "|---|---|---|---|---|---|---|---|---|---|---|---|---|---|---|---|---|\n",
       "|  81  |  58  | 40   |  6   | 12.5 | 7    | 1    | 1    | 1    | 0    | 0    | 1    | 0    | 0    | 0    | 0    | 0    |\n",
       "|  75  |  44  | 28   |  6   | 13.5 | 7    | 1    | 0    | 1    | 0    | 0    | 0    | 0    | 0    | 1    | 0    | 0    |\n",
       "| 128  |  70  | 42   |  6   | 14.5 | 3    | 1    | 1    | 1    | 0    | 0    | 1    | 0    | 0    | 0    | 0    | 0    |\n",
       "|  95  |  61  | 37   |  6   | 13.5 | 7    | 1    | 0    | 1    | 1    | 0    | 0    | 0    | 0    | 0    | 0    | 0    |\n",
       "| 330  | 104  | 60   | 11   | 10.5 | 7    | 0    | 1    | 1    | 0    | 0    | 1    | 0    | 0    | 0    | 0    | 0    |\n",
       "\n"
      ],
      "text/plain": [
       "  price totsp livesp kitsp dist metrdist walk brick floor V1_1 V1_2 V1_3 V1_4\n",
       "1  81    58   40      6    12.5 7        1    1     1     0    0    1    0   \n",
       "2  75    44   28      6    13.5 7        1    0     1     0    0    0    0   \n",
       "3 128    70   42      6    14.5 3        1    1     1     0    0    1    0   \n",
       "4  95    61   37      6    13.5 7        1    0     1     1    0    0    0   \n",
       "5 330   104   60     11    10.5 7        0    1     1     0    0    1    0   \n",
       "  V1_5 V1_6 V1_7 V1_8\n",
       "1 0    0    0    0   \n",
       "2 0    1    0    0   \n",
       "3 0    0    0    0   \n",
       "4 0    0    0    0   \n",
       "5 0    0    0    0   "
      ]
     },
     "metadata": {},
     "output_type": "display_data"
    }
   ],
   "source": [
    "encoded_flats = flats[-11]\n",
    "encoded_flats = merge(encoded_flats, encoded_code, by = c('n'))\n",
    "encoded_flats = encoded_flats[-1]\n",
    "encoded_flats[1:5,]"
   ]
  },
  {
   "cell_type": "code",
   "execution_count": 114,
   "metadata": {},
   "outputs": [
    {
     "name": "stderr",
     "output_type": "stream",
     "text": [
      "Installing 1 packages: recipes\n",
      "\n",
      "also installing the dependencies 'glue', 'ipred', 'rlang'\n",
      "\n",
      "\n"
     ]
    },
    {
     "name": "stdout",
     "output_type": "stream",
     "text": [
      "\n",
      "  There are binary versions available but the source versions are later:\n",
      "        binary source needs_compilation\n",
      "glue     1.4.2  1.6.2              TRUE\n",
      "ipred   0.9-11 0.9-12              TRUE\n",
      "rlang   0.4.11  1.0.2              TRUE\n",
      "recipes 0.1.16  0.2.0             FALSE\n",
      "\n",
      "  Binaries will be installed\n",
      "package 'glue' successfully unpacked and MD5 sums checked\n"
     ]
    },
    {
     "ename": "ERROR",
     "evalue": "Error: (конвертировано из предупреждения) cannot remove prior installation of package 'glue'\n",
     "output_type": "error",
     "traceback": [
      "Error: (конвертировано из предупреждения) cannot remove prior installation of package 'glue'\nTraceback:\n",
      "1. devtools::install_cran(\"recipes\")",
      "2. install_remotes(remotes, dependencies = dependencies, upgrade = upgrade, \n .     force = force, quiet = quiet, build = build, build_opts = build_opts, \n .     repos = repos, type = type, ...)",
      "3. vapply(remotes, install_remote, ..., FUN.VALUE = character(1))",
      "4. FUN(X[[i]], ...)",
      "5. install_packages(package_name, repos = remote$repos, type = remote$pkg_type, \n .     dependencies = dependencies, quiet = quiet, ...)",
      "6. do.call(safe_install_packages, c(list(packages, repos = repos, \n .     type = type, dependencies = dependencies, quiet = quiet), \n .     args))",
      "7. (function (...) \n . {\n .     lib <- paste(.libPaths(), collapse = .Platform$path.sep)\n .     if (!is_standalone() && has_package(\"crancache\") && has_package(\"callr\")) {\n .         i.p <- \"crancache\" %::% \"install_packages\"\n .     }\n .     else {\n .         i.p <- utils::install.packages\n .     }\n .     with_envvar(c(R_LIBS = lib, R_LIBS_USER = lib, R_LIBS_SITE = lib, \n .         RGL_USE_NULL = \"TRUE\"), if (should_error_for_warnings()) {\n .         with_options(list(warn = 2), with_rprofile_user(\"options(warn = 2)\", \n .             i.p(...)))\n .     }\n .     else {\n .         i.p(...)\n .     })\n . })(\"recipes\", repos = structure(c(CRAN = \"https://cran.r-project.org\"), irkernel = TRUE), \n .     type = \"both\", dependencies = NA, quiet = FALSE)",
      "8. with_envvar(c(R_LIBS = lib, R_LIBS_USER = lib, R_LIBS_SITE = lib, \n .     RGL_USE_NULL = \"TRUE\"), if (should_error_for_warnings()) {\n .     with_options(list(warn = 2), with_rprofile_user(\"options(warn = 2)\", \n .         i.p(...)))\n . } else {\n .     i.p(...)\n . })",
      "9. force(code)",
      "10. with_options(list(warn = 2), with_rprofile_user(\"options(warn = 2)\", \n  .     i.p(...)))",
      "11. force(code)",
      "12. with_rprofile_user(\"options(warn = 2)\", i.p(...))",
      "13. with_envvar(c(R_PROFILE_USER = temp_rprofile), {\n  .     force(code)\n  . })",
      "14. force(code)",
      "15. force(code)",
      "16. i.p(...)",
      "17. .install.winbinary(pkgs = bins, lib = lib, contriburl = contrib.url(repos, \n  .     type2), method = method, available = av2, destdir = destdir, \n  .     dependencies = NULL, libs_only = libs_only, quiet = quiet, \n  .     ...)",
      "18. unpackPkgZip(foundpkgs[okp, 2L], foundpkgs[okp, 1L], lib, libs_only, \n  .     lock)",
      "19. warning(gettextf(\"cannot remove prior installation of package %s\", \n  .     sQuote(pkgname)), domain = NA, call. = FALSE, immediate. = TRUE)",
      "20. .signalSimpleWarning(\"cannot remove prior installation of package 'glue'\", \n  .     base::quote(NULL))",
      "21. withRestarts({\n  .     .Internal(.signalCondition(simpleWarning(msg, call), msg, \n  .         call))\n  .     .Internal(.dfltWarn(msg, call))\n  . }, muffleWarning = function() NULL)",
      "22. withOneRestart(expr, restarts[[1L]])",
      "23. doWithOneRestart(return(expr), restart)"
     ]
    }
   ],
   "source": [
    "devtools::install_cran(\"recipes\")"
   ]
  },
  {
   "cell_type": "code",
   "execution_count": 113,
   "metadata": {},
   "outputs": [
    {
     "name": "stderr",
     "output_type": "stream",
     "text": [
      "also installing the dependencies 'gert', 'glue', 'digest', 'usethis', 'cli', 'pkgload', 'rcmdcheck', 'rlang', 'sessioninfo'\n",
      "\n",
      "\n"
     ]
    },
    {
     "name": "stdout",
     "output_type": "stream",
     "text": [
      "\n",
      "  There are binary versions available but the source versions are later:\n",
      "            binary source needs_compilation\n",
      "gert         1.3.0  1.5.0              TRUE\n",
      "glue         1.4.2  1.6.2              TRUE\n",
      "digest      0.6.27 0.6.29              TRUE\n",
      "usethis      2.0.1  2.1.5             FALSE\n",
      "cli          2.5.0  3.2.0              TRUE\n",
      "pkgload      1.2.1  1.2.4             FALSE\n",
      "rcmdcheck    1.3.3  1.4.0             FALSE\n",
      "rlang       0.4.11  1.0.2              TRUE\n",
      "sessioninfo  1.1.1  1.2.2             FALSE\n",
      "devtools     2.4.1  2.4.3             FALSE\n",
      "\n",
      "  Binaries will be installed\n",
      "package 'gert' successfully unpacked and MD5 sums checked\n",
      "package 'glue' successfully unpacked and MD5 sums checked\n"
     ]
    },
    {
     "name": "stderr",
     "output_type": "stream",
     "text": [
      "Warning message:\n",
      "\"cannot remove prior installation of package 'glue'\"\n"
     ]
    },
    {
     "name": "stdout",
     "output_type": "stream",
     "text": [
      "package 'digest' successfully unpacked and MD5 sums checked\n"
     ]
    },
    {
     "name": "stderr",
     "output_type": "stream",
     "text": [
      "Warning message:\n",
      "\"cannot remove prior installation of package 'digest'\"\n"
     ]
    },
    {
     "name": "stdout",
     "output_type": "stream",
     "text": [
      "package 'cli' successfully unpacked and MD5 sums checked\n",
      "package 'rlang' successfully unpacked and MD5 sums checked\n"
     ]
    },
    {
     "name": "stderr",
     "output_type": "stream",
     "text": [
      "Warning message:\n",
      "\"cannot remove prior installation of package 'rlang'\"\n"
     ]
    },
    {
     "name": "stdout",
     "output_type": "stream",
     "text": [
      "\n",
      "The downloaded binary packages are in\n",
      "\tC:\\Users\\poloz\\AppData\\Local\\Temp\\RtmpUd3zI2\\downloaded_packages\n"
     ]
    },
    {
     "name": "stderr",
     "output_type": "stream",
     "text": [
      "installing the source packages 'usethis', 'pkgload', 'rcmdcheck', 'sessioninfo', 'devtools'\n",
      "\n",
      "\n",
      "Warning message in install.packages(\"devtools\"):\n",
      "\"installation of package 'usethis' had non-zero exit status\"\n",
      "Warning message in install.packages(\"devtools\"):\n",
      "\"installation of package 'pkgload' had non-zero exit status\"\n",
      "Warning message in install.packages(\"devtools\"):\n",
      "\"installation of package 'sessioninfo' had non-zero exit status\"\n",
      "Warning message in install.packages(\"devtools\"):\n",
      "\"installation of package 'rcmdcheck' had non-zero exit status\"\n",
      "Warning message in install.packages(\"devtools\"):\n",
      "\"installation of package 'devtools' had non-zero exit status\"\n"
     ]
    }
   ],
   "source": [
    "install.packages(\"devtools\")"
   ]
  },
  {
   "cell_type": "code",
   "execution_count": 111,
   "metadata": {},
   "outputs": [
    {
     "name": "stderr",
     "output_type": "stream",
     "text": [
      "Warning message:\n",
      "\"dependencies 'fastICA', 'randomForest', 'echarts4r', 'irlba', 'foreign', 'graph', 'Rgraphviz', 'spDataLarge', 'webshot2', 'ComplexHeatmap', 'glmmADMB', 'cmdstanr', 'equatags' are not available\"\n",
      "also installing the dependencies 'lattice', 'flextable', 'officer', 'rasterVis', 'brms', 'gtsummary', 'viridis', 'R2jags', 'servr', 'broom.helpers', 'network', 'scagnostics', 'heatmaply', 'circlize', 'dotwhisker', 'broom.mixed', 'simplermarkdown', 'bookdown', 'asciicast', 'GGally', 'dendextend', 'mgcViz', 'glmmTMB', 'digest', 'foghorn', 'gmailr', 'rticles', 'cli', 'profvis', 'vdiffr', 'highcharter', 'plotly', 'effects', 'DHARMa', 'pglm', 'splm', 'attachment', 'devtools', 'dockerfiler', 'pkgdown', 'rcmdcheck', 'rlang', 'ggplot2', 'shinyEffects', 'shinyjqui', 'Bergm', 'spData', 'GLMMadaptive', 'pder', 'psychTools', 'golem', 'paletteer', 'rvest', 'sessioninfo', 'shinydashboard', 'shinydashboardPlus', 'roxygen2', 'tfestimators', 'btergm', 'epiR', 'fixest', 'lavaan', 'metafor', 'plm', 'psych', 'survey', 'bs4Dash', 'gt', 'paws', 'pkgload', 'reprex', 'shinybusy', 'shinyWidgets', 'usethis', 'tfdatasets', 'broom', 'DiagrammeR', 'htmltools', 'leaflet', 'shinytest', 'mockery', 'survival', 'tinytex', 'bslib', 'targets', 'tensorflow', 'keras', 'sparklyr', 'xgboost', 'rsconnect', 'downlit', 'shiny', 'testthat', 'tufte', 'butcher', 'knitr', 'parsnip', 'rmarkdown', 'workflows'\n",
      "\n",
      "\n"
     ]
    },
    {
     "name": "stdout",
     "output_type": "stream",
     "text": [
      "\n",
      "  There are binary versions available but the source versions are later:\n",
      "                    binary  source needs_compilation\n",
      "lattice            0.20-44 0.20-45              TRUE\n",
      "flextable            0.6.5   0.7.0             FALSE\n",
      "officer             0.3.18   0.4.1             FALSE\n",
      "rasterVis             0.47  0.51.2             FALSE\n",
      "brms                2.15.0  2.16.3             FALSE\n",
      "gtsummary            1.4.0   1.5.2             FALSE\n",
      "viridis              0.6.1   0.6.2             FALSE\n",
      "R2jags               0.6-1   0.7-1             FALSE\n",
      "servr                 0.22    0.24             FALSE\n",
      "broom.helpers        1.3.0   1.6.0             FALSE\n",
      "network             1.16.1  1.17.1              TRUE\n",
      "scagnostics        0.2-4.1   0.2-6             FALSE\n",
      "heatmaply            1.2.1   1.3.0             FALSE\n",
      "circlize            0.4.12  0.4.14             FALSE\n",
      "dotwhisker           0.6.0   0.7.4             FALSE\n",
      "broom.mixed          0.2.6   0.2.7             FALSE\n",
      "bookdown              0.22    0.25             FALSE\n",
      "GGally               2.1.1   2.1.2             FALSE\n",
      "dendextend          1.15.1  1.15.2             FALSE\n",
      "mgcViz               0.1.6   0.1.9             FALSE\n",
      "glmmTMB            1.0.2.1   1.1.3              TRUE\n",
      "digest              0.6.27  0.6.29              TRUE\n",
      "foghorn              1.4.0   1.4.2             FALSE\n",
      "gmailr               1.0.0   1.0.1             FALSE\n",
      "rticles               0.19    0.23             FALSE\n",
      "cli                  2.5.0   3.2.0              TRUE\n",
      "vdiffr               0.3.3   1.0.4              TRUE\n",
      "highcharter          0.8.2   0.9.4             FALSE\n",
      "plotly               4.9.3  4.10.0             FALSE\n",
      "effects              4.2-0   4.2-1             FALSE\n",
      "DHARMa               0.4.1   0.4.5             FALSE\n",
      "pglm                 0.2-2   0.2-3             FALSE\n",
      "splm                1.4-11   1.5-3             FALSE\n",
      "attachment           0.2.1   0.2.4             FALSE\n",
      "devtools             2.4.1   2.4.3             FALSE\n",
      "dockerfiler          0.1.3   0.1.4             FALSE\n",
      "pkgdown              1.6.1   2.0.2             FALSE\n",
      "rcmdcheck            1.3.3   1.4.0             FALSE\n",
      "rlang               0.4.11   1.0.2              TRUE\n",
      "ggplot2              3.3.3   3.3.5             FALSE\n",
      "shinyEffects         0.1.0   0.2.0             FALSE\n",
      "shinyjqui            0.4.0   0.4.1             FALSE\n",
      "Bergm                5.0.2   5.0.3             FALSE\n",
      "spData               0.3.8   2.0.1             FALSE\n",
      "GLMMadaptive         0.8-0   0.8-5             FALSE\n",
      "pder                 1.0-1   1.0-2             FALSE\n",
      "psychTools           2.1.3  2.1.12             FALSE\n",
      "golem                0.3.1   0.3.2             FALSE\n",
      "paletteer            1.3.0   1.4.0             FALSE\n",
      "rvest                1.0.0   1.0.2             FALSE\n",
      "sessioninfo          1.1.1   1.2.2             FALSE\n",
      "shinydashboard       0.7.1   0.7.2             FALSE\n",
      "shinydashboardPlus   2.0.1   2.0.3             FALSE\n",
      "roxygen2             7.1.1   7.1.2              TRUE\n",
      "tfestimators         1.9.1   1.9.2             FALSE\n",
      "btergm              1.9.13  1.10.3             FALSE\n",
      "epiR                2.0.19  2.0.43             FALSE\n",
      "fixest               0.8.4  0.10.3              TRUE\n",
      "lavaan               0.6-8  0.6-10             FALSE\n",
      "metafor              2.4-0   3.0-2             FALSE\n",
      "plm                  2.4-1   2.6-1             FALSE\n",
      "psych                2.1.3   2.1.9             FALSE\n",
      "survey                 4.0   4.1-1             FALSE\n",
      "bs4Dash              0.5.0   2.0.3             FALSE\n",
      "gt                   0.3.0   0.4.0             FALSE\n",
      "paws                0.1.11  0.1.12             FALSE\n",
      "pkgload              1.2.1   1.2.4             FALSE\n",
      "reprex               2.0.0   2.0.1             FALSE\n",
      "shinybusy            0.2.2   0.3.0             FALSE\n",
      "shinyWidgets         0.6.0   0.6.4             FALSE\n",
      "usethis              2.0.1   2.1.5             FALSE\n",
      "tfdatasets           2.4.0   2.7.0             FALSE\n",
      "broom                0.7.6  0.7.12             FALSE\n",
      "DiagrammeR         1.0.6.1   1.0.9             FALSE\n",
      "htmltools          0.5.1.1   0.5.2              TRUE\n",
      "leaflet            2.0.4.1   2.1.0             FALSE\n",
      "shinytest            1.5.0   1.5.1             FALSE\n",
      "mockery              0.4.2   0.4.3             FALSE\n",
      "survival            3.2-11   3.3-1              TRUE\n",
      "tinytex               0.31    0.37             FALSE\n",
      "bslib                0.2.4   0.3.1             FALSE\n",
      "targets              0.4.2  0.10.0             FALSE\n",
      "tensorflow           2.4.0   2.8.0             FALSE\n",
      "keras                2.4.0   2.8.0             FALSE\n",
      "sparklyr             1.6.2   1.7.5             FALSE\n",
      "xgboost            1.4.1.1 1.5.2.1              TRUE\n",
      "rsconnect           0.8.17  0.8.25             FALSE\n",
      "downlit              0.2.1   0.4.0             FALSE\n",
      "shiny                1.6.0   1.7.1             FALSE\n",
      "testthat             3.0.2   3.1.2              TRUE\n",
      "tufte                  0.9    0.12             FALSE\n",
      "butcher              0.1.4   0.1.5             FALSE\n",
      "knitr                 1.33    1.37             FALSE\n",
      "parsnip              0.1.5   0.2.1             FALSE\n",
      "rmarkdown              2.8    2.13             FALSE\n",
      "workflows            0.2.2   0.2.5             FALSE\n",
      "recipes             0.1.16   0.2.0             FALSE\n",
      "\n",
      "  Binaries will be installed\n"
     ]
    },
    {
     "name": "stderr",
     "output_type": "stream",
     "text": [
      "Warning message:\n",
      "\"package 'lattice' is in use and will not be installed\"\n"
     ]
    },
    {
     "name": "stdout",
     "output_type": "stream",
     "text": [
      "package 'network' successfully unpacked and MD5 sums checked\n",
      "package 'asciicast' successfully unpacked and MD5 sums checked\n",
      "package 'glmmTMB' successfully unpacked and MD5 sums checked\n",
      "package 'digest' successfully unpacked and MD5 sums checked\n"
     ]
    },
    {
     "name": "stderr",
     "output_type": "stream",
     "text": [
      "Warning message:\n",
      "\"cannot remove prior installation of package 'digest'\"\n"
     ]
    },
    {
     "name": "stdout",
     "output_type": "stream",
     "text": [
      "package 'cli' successfully unpacked and MD5 sums checked\n",
      "package 'profvis' successfully unpacked and MD5 sums checked\n",
      "package 'vdiffr' successfully unpacked and MD5 sums checked\n",
      "package 'rlang' successfully unpacked and MD5 sums checked\n"
     ]
    },
    {
     "name": "stderr",
     "output_type": "stream",
     "text": [
      "Warning message:\n",
      "\"cannot remove prior installation of package 'rlang'\"\n"
     ]
    },
    {
     "name": "stdout",
     "output_type": "stream",
     "text": [
      "package 'roxygen2' successfully unpacked and MD5 sums checked\n",
      "package 'fixest' successfully unpacked and MD5 sums checked\n",
      "package 'htmltools' successfully unpacked and MD5 sums checked\n"
     ]
    },
    {
     "name": "stderr",
     "output_type": "stream",
     "text": [
      "Warning message:\n",
      "\"cannot remove prior installation of package 'htmltools'\"\n"
     ]
    },
    {
     "name": "stdout",
     "output_type": "stream",
     "text": [
      "package 'survival' successfully unpacked and MD5 sums checked\n",
      "package 'xgboost' successfully unpacked and MD5 sums checked\n",
      "package 'testthat' successfully unpacked and MD5 sums checked\n",
      "\n",
      "The downloaded binary packages are in\n",
      "\tC:\\Users\\poloz\\AppData\\Local\\Temp\\RtmpUd3zI2\\downloaded_packages\n"
     ]
    },
    {
     "name": "stderr",
     "output_type": "stream",
     "text": [
      "installing the source packages 'flextable', 'officer', 'rasterVis', 'brms', 'gtsummary', 'viridis', 'R2jags', 'servr', 'broom.helpers', 'scagnostics', 'heatmaply', 'circlize', 'dotwhisker', 'broom.mixed', 'simplermarkdown', 'bookdown', 'GGally', 'dendextend', 'mgcViz', 'foghorn', 'gmailr', 'rticles', 'highcharter', 'plotly', 'effects', 'DHARMa', 'pglm', 'splm', 'attachment', 'devtools', 'dockerfiler', 'pkgdown', 'rcmdcheck', 'ggplot2', 'shinyEffects', 'shinyjqui', 'Bergm', 'spData', 'GLMMadaptive', 'pder', 'psychTools', 'golem', 'paletteer', 'rvest', 'sessioninfo', 'shinydashboard', 'shinydashboardPlus', 'tfestimators', 'btergm', 'epiR', 'lavaan', 'metafor', 'plm', 'psych', 'survey', 'bs4Dash', 'gt', 'paws', 'pkgload', 'reprex', 'shinybusy', 'shinyWidgets', 'usethis', 'tfdatasets', 'broom', 'DiagrammeR', 'leaflet', 'shinytest', 'mockery', 'tinytex', 'bslib', 'targets', 'tensorflow', 'keras', 'sparklyr', 'rsconnect', 'downlit', 'shiny', 'tufte', 'butcher', 'knitr', 'parsnip', 'rmarkdown', 'workflows', 'recipes'\n",
      "\n",
      "\n",
      "Warning message in install.packages(\"recipes\", dependencies = c(\"Depends\", \"Suggests\")):\n",
      "\"installation of package 'officer' had non-zero exit status\"\n",
      "Warning message in install.packages(\"recipes\", dependencies = c(\"Depends\", \"Suggests\")):\n",
      "\"installation of package 'rasterVis' had non-zero exit status\"\n",
      "Warning message in install.packages(\"recipes\", dependencies = c(\"Depends\", \"Suggests\")):\n",
      "\"installation of package 'R2jags' had non-zero exit status\"\n",
      "Warning message in install.packages(\"recipes\", dependencies = c(\"Depends\", \"Suggests\")):\n",
      "\"installation of package 'servr' had non-zero exit status\"\n",
      "Warning message in install.packages(\"recipes\", dependencies = c(\"Depends\", \"Suggests\")):\n",
      "\"installation of package 'scagnostics' had non-zero exit status\"\n",
      "Warning message in install.packages(\"recipes\", dependencies = c(\"Depends\", \"Suggests\")):\n",
      "\"installation of package 'circlize' had non-zero exit status\"\n",
      "Warning message in install.packages(\"recipes\", dependencies = c(\"Depends\", \"Suggests\")):\n",
      "\"installation of package 'simplermarkdown' had non-zero exit status\"\n",
      "Warning message in install.packages(\"recipes\", dependencies = c(\"Depends\", \"Suggests\")):\n",
      "\"installation of package 'gmailr' had non-zero exit status\"\n",
      "Warning message in install.packages(\"recipes\", dependencies = c(\"Depends\", \"Suggests\")):\n",
      "\"installation of package 'DHARMa' had non-zero exit status\"\n",
      "Warning message in install.packages(\"recipes\", dependencies = c(\"Depends\", \"Suggests\")):\n",
      "\"installation of package 'ggplot2' had non-zero exit status\"\n",
      "Warning message in install.packages(\"recipes\", dependencies = c(\"Depends\", \"Suggests\")):\n",
      "\"installation of package 'Bergm' had non-zero exit status\"\n",
      "Warning message in install.packages(\"recipes\", dependencies = c(\"Depends\", \"Suggests\")):\n",
      "\"installation of package 'spData' had non-zero exit status\"\n",
      "Warning message in install.packages(\"recipes\", dependencies = c(\"Depends\", \"Suggests\")):\n",
      "\"installation of package 'GLMMadaptive' had non-zero exit status\"\n",
      "Warning message in install.packages(\"recipes\", dependencies = c(\"Depends\", \"Suggests\")):\n",
      "\"installation of package 'paletteer' had non-zero exit status\"\n",
      "Warning message in install.packages(\"recipes\", dependencies = c(\"Depends\", \"Suggests\")):\n",
      "\"installation of package 'rvest' had non-zero exit status\"\n",
      "Warning message in install.packages(\"recipes\", dependencies = c(\"Depends\", \"Suggests\")):\n",
      "\"installation of package 'sessioninfo' had non-zero exit status\"\n",
      "Warning message in install.packages(\"recipes\", dependencies = c(\"Depends\", \"Suggests\")):\n",
      "\"installation of package 'btergm' had non-zero exit status\"\n",
      "Warning message in install.packages(\"recipes\", dependencies = c(\"Depends\", \"Suggests\")):\n",
      "\"installation of package 'epiR' had non-zero exit status\"\n",
      "Warning message in install.packages(\"recipes\", dependencies = c(\"Depends\", \"Suggests\")):\n",
      "\"installation of package 'lavaan' had non-zero exit status\"\n",
      "Warning message in install.packages(\"recipes\", dependencies = c(\"Depends\", \"Suggests\")):\n",
      "\"installation of package 'metafor' had non-zero exit status\"\n",
      "Warning message in install.packages(\"recipes\", dependencies = c(\"Depends\", \"Suggests\")):\n",
      "\"installation of package 'plm' had non-zero exit status\"\n",
      "Warning message in install.packages(\"recipes\", dependencies = c(\"Depends\", \"Suggests\")):\n",
      "\"installation of package 'psych' had non-zero exit status\"\n",
      "Warning message in install.packages(\"recipes\", dependencies = c(\"Depends\", \"Suggests\")):\n",
      "\"installation of package 'paws' had non-zero exit status\"\n",
      "Warning message in install.packages(\"recipes\", dependencies = c(\"Depends\", \"Suggests\")):\n",
      "\"installation of package 'pkgload' had non-zero exit status\"\n",
      "Warning message in install.packages(\"recipes\", dependencies = c(\"Depends\", \"Suggests\")):\n",
      "\"installation of package 'usethis' had non-zero exit status\"\n",
      "Warning message in install.packages(\"recipes\", dependencies = c(\"Depends\", \"Suggests\")):\n",
      "\"installation of package 'mockery' had non-zero exit status\"\n",
      "Warning message in install.packages(\"recipes\", dependencies = c(\"Depends\", \"Suggests\")):\n",
      "\"installation of package 'tinytex' had non-zero exit status\"\n",
      "Warning message in install.packages(\"recipes\", dependencies = c(\"Depends\", \"Suggests\")):\n",
      "\"installation of package 'bslib' had non-zero exit status\"\n",
      "Warning message in install.packages(\"recipes\", dependencies = c(\"Depends\", \"Suggests\")):\n",
      "\"installation of package 'tensorflow' had non-zero exit status\"\n",
      "Warning message in install.packages(\"recipes\", dependencies = c(\"Depends\", \"Suggests\")):\n",
      "\"installation of package 'sparklyr' had non-zero exit status\"\n",
      "Warning message in install.packages(\"recipes\", dependencies = c(\"Depends\", \"Suggests\")):\n",
      "\"installation of package 'rsconnect' had non-zero exit status\"\n",
      "Warning message in install.packages(\"recipes\", dependencies = c(\"Depends\", \"Suggests\")):\n",
      "\"installation of package 'downlit' had non-zero exit status\"\n",
      "Warning message in install.packages(\"recipes\", dependencies = c(\"Depends\", \"Suggests\")):\n",
      "\"installation of package 'knitr' had non-zero exit status\"\n",
      "Warning message in install.packages(\"recipes\", dependencies = c(\"Depends\", \"Suggests\")):\n",
      "\"installation of package 'recipes' had non-zero exit status\"\n",
      "Warning message in install.packages(\"recipes\", dependencies = c(\"Depends\", \"Suggests\")):\n",
      "\"installation of package 'brms' had non-zero exit status\"\n",
      "Warning message in install.packages(\"recipes\", dependencies = c(\"Depends\", \"Suggests\")):\n",
      "\"installation of package 'viridis' had non-zero exit status\"\n",
      "Warning message in install.packages(\"recipes\", dependencies = c(\"Depends\", \"Suggests\")):\n",
      "\"installation of package 'dotwhisker' had non-zero exit status\"\n",
      "Warning message in install.packages(\"recipes\", dependencies = c(\"Depends\", \"Suggests\")):\n",
      "\"installation of package 'GGally' had non-zero exit status\"\n",
      "Warning message in install.packages(\"recipes\", dependencies = c(\"Depends\", \"Suggests\")):\n",
      "\"installation of package 'foghorn' had non-zero exit status\"\n",
      "Warning message in install.packages(\"recipes\", dependencies = c(\"Depends\", \"Suggests\")):\n",
      "\"installation of package 'plotly' had non-zero exit status\"\n",
      "Warning message in install.packages(\"recipes\", dependencies = c(\"Depends\", \"Suggests\")):\n",
      "\"installation of package 'pglm' had non-zero exit status\"\n",
      "Warning message in install.packages(\"recipes\", dependencies = c(\"Depends\", \"Suggests\")):\n",
      "\"installation of package 'splm' had non-zero exit status\"\n",
      "Warning message in install.packages(\"recipes\", dependencies = c(\"Depends\", \"Suggests\")):\n",
      "\"installation of package 'dockerfiler' had non-zero exit status\"\n",
      "Warning message in install.packages(\"recipes\", dependencies = c(\"Depends\", \"Suggests\")):\n",
      "\"installation of package 'rcmdcheck' had non-zero exit status\"\n",
      "Warning message in install.packages(\"recipes\", dependencies = c(\"Depends\", \"Suggests\")):\n",
      "\"installation of package 'pder' had non-zero exit status\"\n",
      "Warning message in install.packages(\"recipes\", dependencies = c(\"Depends\", \"Suggests\")):\n",
      "\"installation of package 'psychTools' had non-zero exit status\"\n",
      "Warning message in install.packages(\"recipes\", dependencies = c(\"Depends\", \"Suggests\")):\n",
      "\"installation of package 'tfestimators' had non-zero exit status\"\n",
      "Warning message in install.packages(\"recipes\", dependencies = c(\"Depends\", \"Suggests\")):\n",
      "\"installation of package 'gt' had non-zero exit status\"\n"
     ]
    },
    {
     "name": "stderr",
     "output_type": "stream",
     "text": [
      "Warning message in install.packages(\"recipes\", dependencies = c(\"Depends\", \"Suggests\")):\n",
      "\"installation of package 'tfdatasets' had non-zero exit status\"\n",
      "Warning message in install.packages(\"recipes\", dependencies = c(\"Depends\", \"Suggests\")):\n",
      "\"installation of package 'broom' had non-zero exit status\"\n",
      "Warning message in install.packages(\"recipes\", dependencies = c(\"Depends\", \"Suggests\")):\n",
      "\"installation of package 'targets' had non-zero exit status\"\n",
      "Warning message in install.packages(\"recipes\", dependencies = c(\"Depends\", \"Suggests\")):\n",
      "\"installation of package 'keras' had non-zero exit status\"\n",
      "Warning message in install.packages(\"recipes\", dependencies = c(\"Depends\", \"Suggests\")):\n",
      "\"installation of package 'shiny' had non-zero exit status\"\n",
      "Warning message in install.packages(\"recipes\", dependencies = c(\"Depends\", \"Suggests\")):\n",
      "\"installation of package 'butcher' had non-zero exit status\"\n",
      "Warning message in install.packages(\"recipes\", dependencies = c(\"Depends\", \"Suggests\")):\n",
      "\"installation of package 'parsnip' had non-zero exit status\"\n",
      "Warning message in install.packages(\"recipes\", dependencies = c(\"Depends\", \"Suggests\")):\n",
      "\"installation of package 'rmarkdown' had non-zero exit status\"\n",
      "Warning message in install.packages(\"recipes\", dependencies = c(\"Depends\", \"Suggests\")):\n",
      "\"installation of package 'flextable' had non-zero exit status\"\n",
      "Warning message in install.packages(\"recipes\", dependencies = c(\"Depends\", \"Suggests\")):\n",
      "\"installation of package 'broom.helpers' had non-zero exit status\"\n",
      "Warning message in install.packages(\"recipes\", dependencies = c(\"Depends\", \"Suggests\")):\n",
      "\"installation of package 'broom.mixed' had non-zero exit status\"\n",
      "Warning message in install.packages(\"recipes\", dependencies = c(\"Depends\", \"Suggests\")):\n",
      "\"installation of package 'bookdown' had non-zero exit status\"\n",
      "Warning message in install.packages(\"recipes\", dependencies = c(\"Depends\", \"Suggests\")):\n",
      "\"installation of package 'dendextend' had non-zero exit status\"\n",
      "Warning message in install.packages(\"recipes\", dependencies = c(\"Depends\", \"Suggests\")):\n",
      "\"installation of package 'mgcViz' had non-zero exit status\"\n",
      "Warning message in install.packages(\"recipes\", dependencies = c(\"Depends\", \"Suggests\")):\n",
      "\"installation of package 'rticles' had non-zero exit status\"\n",
      "Warning message in install.packages(\"recipes\", dependencies = c(\"Depends\", \"Suggests\")):\n",
      "\"installation of package 'highcharter' had non-zero exit status\"\n",
      "Warning message in install.packages(\"recipes\", dependencies = c(\"Depends\", \"Suggests\")):\n",
      "\"installation of package 'attachment' had non-zero exit status\"\n",
      "Warning message in install.packages(\"recipes\", dependencies = c(\"Depends\", \"Suggests\")):\n",
      "\"installation of package 'devtools' had non-zero exit status\"\n",
      "Warning message in install.packages(\"recipes\", dependencies = c(\"Depends\", \"Suggests\")):\n",
      "\"installation of package 'pkgdown' had non-zero exit status\"\n",
      "Warning message in install.packages(\"recipes\", dependencies = c(\"Depends\", \"Suggests\")):\n",
      "\"installation of package 'shinyEffects' had non-zero exit status\"\n",
      "Warning message in install.packages(\"recipes\", dependencies = c(\"Depends\", \"Suggests\")):\n",
      "\"installation of package 'shinyjqui' had non-zero exit status\"\n",
      "Warning message in install.packages(\"recipes\", dependencies = c(\"Depends\", \"Suggests\")):\n",
      "\"installation of package 'golem' had non-zero exit status\"\n",
      "Warning message in install.packages(\"recipes\", dependencies = c(\"Depends\", \"Suggests\")):\n",
      "\"installation of package 'shinydashboard' had non-zero exit status\"\n",
      "Warning message in install.packages(\"recipes\", dependencies = c(\"Depends\", \"Suggests\")):\n",
      "\"installation of package 'bs4Dash' had non-zero exit status\"\n",
      "Warning message in install.packages(\"recipes\", dependencies = c(\"Depends\", \"Suggests\")):\n",
      "\"installation of package 'reprex' had non-zero exit status\"\n",
      "Warning message in install.packages(\"recipes\", dependencies = c(\"Depends\", \"Suggests\")):\n",
      "\"installation of package 'shinybusy' had non-zero exit status\"\n",
      "Warning message in install.packages(\"recipes\", dependencies = c(\"Depends\", \"Suggests\")):\n",
      "\"installation of package 'shinyWidgets' had non-zero exit status\"\n",
      "Warning message in install.packages(\"recipes\", dependencies = c(\"Depends\", \"Suggests\")):\n",
      "\"installation of package 'DiagrammeR' had non-zero exit status\"\n",
      "Warning message in install.packages(\"recipes\", dependencies = c(\"Depends\", \"Suggests\")):\n",
      "\"installation of package 'leaflet' had non-zero exit status\"\n",
      "Warning message in install.packages(\"recipes\", dependencies = c(\"Depends\", \"Suggests\")):\n",
      "\"installation of package 'shinytest' had non-zero exit status\"\n",
      "Warning message in install.packages(\"recipes\", dependencies = c(\"Depends\", \"Suggests\")):\n",
      "\"installation of package 'tufte' had non-zero exit status\"\n",
      "Warning message in install.packages(\"recipes\", dependencies = c(\"Depends\", \"Suggests\")):\n",
      "\"installation of package 'workflows' had non-zero exit status\"\n",
      "Warning message in install.packages(\"recipes\", dependencies = c(\"Depends\", \"Suggests\")):\n",
      "\"installation of package 'gtsummary' had non-zero exit status\"\n",
      "Warning message in install.packages(\"recipes\", dependencies = c(\"Depends\", \"Suggests\")):\n",
      "\"installation of package 'heatmaply' had non-zero exit status\"\n",
      "Warning message in install.packages(\"recipes\", dependencies = c(\"Depends\", \"Suggests\")):\n",
      "\"installation of package 'shinydashboardPlus' had non-zero exit status\"\n"
     ]
    }
   ],
   "source": [
    "install.packages(\"recipes\", dependencies = c(\"Depends\", \"Suggests\")) "
   ]
  },
  {
   "cell_type": "code",
   "execution_count": 112,
   "metadata": {},
   "outputs": [
    {
     "name": "stderr",
     "output_type": "stream",
     "text": [
      "inferring 'repos = NULL' from 'pkgs'\n",
      "\n",
      "Warning message in install.packages(\"https://cran.r-project.org/src/contrib/Archive/recipes/recipes_0.1.16.tar.gz\", :\n",
      "\"installation of package 'C:/Users/poloz/AppData/Local/Temp/RtmpUd3zI2/downloaded_packages/recipes_0.1.16.tar.gz' had non-zero exit status\"\n"
     ]
    }
   ],
   "source": [
    "install.packages('https://cran.r-project.org/src/contrib/Archive/recipes/recipes_0.1.16.tar.gz')"
   ]
  },
  {
   "cell_type": "code",
   "execution_count": 105,
   "metadata": {},
   "outputs": [
    {
     "name": "stderr",
     "output_type": "stream",
     "text": [
      "also installing the dependencies 'ipred', 'rlang', 'recipes'\n",
      "\n",
      "\n"
     ]
    },
    {
     "name": "stdout",
     "output_type": "stream",
     "text": [
      "\n",
      "  There are binary versions available but the source versions are later:\n",
      "        binary source needs_compilation\n",
      "ipred   0.9-11 0.9-12              TRUE\n",
      "rlang   0.4.11  1.0.2              TRUE\n",
      "recipes 0.1.16  0.2.0             FALSE\n",
      "caret   6.0-86 6.0-91              TRUE\n",
      "\n",
      "  Binaries will be installed\n",
      "package 'ipred' successfully unpacked and MD5 sums checked\n",
      "package 'rlang' successfully unpacked and MD5 sums checked\n"
     ]
    },
    {
     "name": "stderr",
     "output_type": "stream",
     "text": [
      "Warning message:\n",
      "\"cannot remove prior installation of package 'rlang'\"\n"
     ]
    },
    {
     "name": "stdout",
     "output_type": "stream",
     "text": [
      "package 'caret' successfully unpacked and MD5 sums checked\n",
      "\n",
      "The downloaded binary packages are in\n",
      "\tC:\\Users\\poloz\\AppData\\Local\\Temp\\RtmpUd3zI2\\downloaded_packages\n"
     ]
    },
    {
     "name": "stderr",
     "output_type": "stream",
     "text": [
      "installing the source package 'recipes'\n",
      "\n",
      "\n",
      "Warning message in install.packages(\"caret\"):\n",
      "\"installation of package 'recipes' had non-zero exit status\"\n",
      "Warning message:\n",
      "\"package 'caret' was built under R version 3.6.3\"\n"
     ]
    },
    {
     "ename": "ERROR",
     "evalue": "Error: package or namespace load failed for 'caret' in loadNamespace(i, c(lib.loc, .libPaths()), versionCheck = vI[[i]]):\n there is no package called 'recipes'\n",
     "output_type": "error",
     "traceback": [
      "Error: package or namespace load failed for 'caret' in loadNamespace(i, c(lib.loc, .libPaths()), versionCheck = vI[[i]]):\n there is no package called 'recipes'\nTraceback:\n",
      "1. library(\"caret\")",
      "2. tryCatch({\n .     attr(package, \"LibPath\") <- which.lib.loc\n .     ns <- loadNamespace(package, lib.loc)\n .     env <- attachNamespace(ns, pos = pos, deps, exclude, include.only)\n . }, error = function(e) {\n .     P <- if (!is.null(cc <- conditionCall(e))) \n .         paste(\" in\", deparse(cc)[1L])\n .     else \"\"\n .     msg <- gettextf(\"package or namespace load failed for %s%s:\\n %s\", \n .         sQuote(package), P, conditionMessage(e))\n .     if (logical.return) \n .         message(paste(\"Error:\", msg), domain = NA)\n .     else stop(msg, call. = FALSE, domain = NA)\n . })",
      "3. tryCatchList(expr, classes, parentenv, handlers)",
      "4. tryCatchOne(expr, names, parentenv, handlers[[1L]])",
      "5. value[[3L]](cond)",
      "6. stop(msg, call. = FALSE, domain = NA)"
     ]
    }
   ],
   "source": [
    "install.packages('caret')\n",
    "library('caret')"
   ]
  },
  {
   "cell_type": "code",
   "execution_count": null,
   "metadata": {},
   "outputs": [],
   "source": []
  },
  {
   "cell_type": "code",
   "execution_count": null,
   "metadata": {},
   "outputs": [],
   "source": [
    "partition <- createDataPartition(y = encoded_flats$price, p = 0.7, list = FALSE)\n",
    "train <- encoded_flats[partition,]\n",
    "test <- encoded_flats[-partition,]\n",
    "test"
   ]
  },
  {
   "cell_type": "code",
   "execution_count": null,
   "metadata": {},
   "outputs": [],
   "source": [
    "model = lm(formula = encoded_flats ~ ., data = train)"
   ]
  },
  {
   "cell_type": "markdown",
   "metadata": {},
   "source": [
    "### Задача 4\n",
    "\n",
    "*Эту задачу можно выполнить в Питоне. Можно в отдельном ноутбуке.*\n",
    "\n",
    "Проведите эксперимент по определению реального уровня значимости критерия для проверки гипотезы о незначимости коэффициента в гауссовской линейной модели, если на самом деле в данных присутствует гетероскедастичность. \n",
    "Для этого смоделируйте некоторым образом двумерные данные $x$ и посчитайте по ним ожидаемый отклик \n",
    "\t$y(x) = \\theta_0 + \\theta_1 x^{(1)} + \\theta_2 x^{(2)}$, где коэффициенты выберите по своему усмотрению, причем $\\theta_2 = 0$. \n",
    "Зашумите набор значений $y(x_i)$ некоторым шумом, дисперсия которого зависит от $x$ или от номера наблюдения. \n",
    "По таким данным обучите\tлинейную модель и проверьте гипотезу $\\mathsf{H}_0\\colon \\theta_2 = 0$. \n",
    "Повторите эксперимент несколько раз и посчитайте долю случаев, в которых гипотеза отвергается. Распределение шума должно быть одинаковым в каждом эксперименте."
   ]
  },
  {
   "cell_type": "markdown",
   "metadata": {},
   "source": [
    "### Задача 5\n",
    "Загрузите датасет `galapagos.csv`, в котором содержатся данные об островах на Галапагосском архипелаге:\n",
    "* `island` -- наименование острова;\n",
    "* `species` -- количество наблюдаемых видов растений на острове;\n",
    "* `endemics` -- количество уникальных видов [*в задаче не рассматриваем*];\n",
    "* `area` -- площадь (км^2);\n",
    "* `elevation` -- высота (м);\n",
    "* `nearest` -- расстояние до ближайшего острова (км);\n",
    "* `scruz` -- расстояние до самого крупного острова архипелага Санта-Крус (км);\n",
    "* `adjacent` -- площадь соседнего острова (км^2)."
   ]
  },
  {
   "cell_type": "code",
   "execution_count": null,
   "metadata": {},
   "outputs": [],
   "source": [
    "galapagos = read.csv('galapagos.csv', sep = ';')\n",
    "galapagos = galapagos[c(-1, -3)]\n",
    "galapagos[1:5,]"
   ]
  },
  {
   "cell_type": "markdown",
   "metadata": {},
   "source": [
    "Рассмотрим пуассоновскую (колличественную) регрессию. Какая ожидается зависимость отклика от признаков?\n",
    "\n",
    "*Подсказка:* чему равно математическое ожидание отклика?\n",
    "\n",
    "<...>\n",
    "\n",
    "Постройте графики зависимости отклика `species` от всех признаков. Значения каких признаков лучше прологарифмировать? "
   ]
  },
  {
   "cell_type": "code",
   "execution_count": null,
   "metadata": {
    "scrolled": false
   },
   "outputs": [],
   "source": [
    "for (i in 2:length(galapagos)) {\n",
    "    plot(galapagos[[1]] ~ galapagos[[i]], xlab = names(galapagos)[i], ylab = names(galapagos)[1], col = 'red')\n",
    "    grid()\n",
    "}"
   ]
  },
  {
   "cell_type": "markdown",
   "metadata": {},
   "source": [
    "Обучите пуассоновскую регрессию по всем признакам, предварительно прологарифмировав некоторых из них. В R регрессию можно сделать функцией `glm`, указав конкретный тип обобщенной модели как `family = poisson()`. Напечатайте `summary` модели."
   ]
  },
  {
   "cell_type": "markdown",
   "metadata": {},
   "source": [
    "Надо прологарифмировать признаки `area`, `elevation`, `adjacent`."
   ]
  },
  {
   "cell_type": "code",
   "execution_count": null,
   "metadata": {},
   "outputs": [],
   "source": [
    "galapagos$'log_area' = log(galapagos$'area')\n",
    "galapagos$'log_elevation' = log(galapagos$'elevation')\n",
    "galapagos$'log_adjacent' = log(galapagos$'adjacent')\n",
    "galapagos[1:5,]"
   ]
  },
  {
   "cell_type": "code",
   "execution_count": null,
   "metadata": {
    "scrolled": true
   },
   "outputs": [],
   "source": []
  },
  {
   "cell_type": "markdown",
   "metadata": {},
   "source": [
    "Оставьте только значимые признаки, обучите модель еще раз и проинтерпретируйте полученные результаты. Какой смысл имеют коэффициенты модели?"
   ]
  },
  {
   "cell_type": "code",
   "execution_count": null,
   "metadata": {
    "scrolled": true
   },
   "outputs": [],
   "source": []
  },
  {
   "cell_type": "markdown",
   "metadata": {},
   "source": [
    "При использовании статистических свойств необходимо выполнить проверку предположений модели. Аналогом гомоскедастичности для гауссовской линейной модели в случае пуассоновской регрессии является равенство математического ожидания и дисперсии (это свойство пуассоновского распределения). \n",
    "\n",
    "Аналогично гауссовской линейной модели можно определить устойчивые оценки дисперсии. Посчитайте и напечатайте ковариационную матрицу оценок коэффициентов модели с помощью функции `vcovHC`, рассмотрев тип оценки `HC3`."
   ]
  },
  {
   "cell_type": "code",
   "execution_count": null,
   "metadata": {},
   "outputs": [],
   "source": []
  },
  {
   "cell_type": "markdown",
   "metadata": {},
   "source": [
    "Напечатайте таблицу статистических свойств оценок коэффициентов и доверительные интервалы. Для этого можно использовать те же функции, что и для гауссовской модели."
   ]
  },
  {
   "cell_type": "code",
   "execution_count": null,
   "metadata": {},
   "outputs": [],
   "source": []
  },
  {
   "cell_type": "markdown",
   "metadata": {},
   "source": [
    "Придумайте на Галапагосском архипелаге еще один остров, задайте ему некоторые характеристики и назовите своим именем. Оцените, в каком интервале лежит ожидаемое количество видов растений на этом острове.\n",
    "\n",
    "*Указания.* Установите в функции `predict` опцию `se.fit = TRUE`. Из полученных значений сформируйте доверительный интервал линеаризованного отклика. Доверительный интервал для ожидаемого отклика получите с помощью функции `<имя обученной модели>$family$linkinv`."
   ]
  },
  {
   "cell_type": "code",
   "execution_count": null,
   "metadata": {},
   "outputs": [],
   "source": []
  },
  {
   "cell_type": "markdown",
   "metadata": {},
   "source": [
    "Наконец, получите предсказательный интервал для количества растений на вашем острове. Для этого посчитайте предсказательные интервалы для пуассоновских случайных величин, параметры которых соответствуют границам доверительного интервала, построенного на предыдущем шаге. Объедините эти два интервала."
   ]
  },
  {
   "cell_type": "code",
   "execution_count": null,
   "metadata": {},
   "outputs": [],
   "source": []
  }
 ],
 "metadata": {
  "colab": {
   "name": "task1.ipynb",
   "provenance": []
  },
  "kernelspec": {
   "display_name": "R",
   "language": "R",
   "name": "ir"
  },
  "language_info": {
   "codemirror_mode": "r",
   "file_extension": ".r",
   "mimetype": "text/x-r-source",
   "name": "R",
   "pygments_lexer": "r",
   "version": "3.6.1"
  }
 },
 "nbformat": 4,
 "nbformat_minor": 1
}
