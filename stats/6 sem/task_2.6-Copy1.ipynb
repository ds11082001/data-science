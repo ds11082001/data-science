{
 "cells": [
  {
   "cell_type": "markdown",
   "id": "fb4fd9b1",
   "metadata": {},
   "source": [
    "### Задача 4\n",
    "\n",
    "*Эту задачу можно выполнить в Питоне. Можно в отдельном ноутбуке.*\n",
    "\n",
    "Проведите эксперимент по определению реального уровня значимости критерия для проверки гипотезы о незначимости коэффициента в гауссовской линейной модели, если на самом деле в данных присутствует гетероскедастичность. \n",
    "Для этого смоделируйте некоторым образом двумерные данные $x$ и посчитайте по ним ожидаемый отклик \n",
    "\t$y(x) = \\theta_0 + \\theta_1 x^{(1)} + \\theta_2 x^{(2)}$, где коэффициенты выберите по своему усмотрению, причем $\\theta_2 = 0$. \n",
    "Зашумите набор значений $y(x_i)$ некоторым шумом, дисперсия которого зависит от $x$ или от номера наблюдения. \n",
    "По таким данным обучите\tлинейную модель и проверьте гипотезу $\\mathsf{H}_0\\colon \\theta_2 = 0$. \n",
    "Повторите эксперимент несколько раз и посчитайте долю случаев, в которых гипотеза отвергается. Распределение шума должно быть одинаковым в каждом эксперименте."
   ]
  },
  {
   "cell_type": "code",
   "execution_count": 2,
   "id": "b47fea44",
   "metadata": {},
   "outputs": [],
   "source": [
    "import numpy as np\n",
    "import pandas as pd\n",
    "import scipy.stats as sps\n",
    "import scipy.special as spec\n",
    "import matplotlib.pyplot as plt\n",
    "import seaborn as sns\n",
    "sns.set(font_scale=1.3)\n",
    "\n",
    "import matplotlib\n",
    "from warnings import filterwarnings\n",
    "filterwarnings('ignore')\n",
    "from tqdm import tqdm\n",
    "from sklearn.linear_model import LinearRegression"
   ]
  },
  {
   "cell_type": "code",
   "execution_count": 3,
   "id": "c02929df",
   "metadata": {},
   "outputs": [],
   "source": [
    "thetas = np.array([1, 2, 0])\n",
    "means = np.array([1, 2])\n",
    "covs = np.array([1, 3])\n",
    "n_samples = 10000\n",
    "n_iters = 10000"
   ]
  },
  {
   "cell_type": "code",
   "execution_count": 46,
   "id": "2c2c7f63",
   "metadata": {},
   "outputs": [
    {
     "name": "stdout",
     "output_type": "stream",
     "text": [
      "Wall time: 9.84 s\n"
     ]
    },
    {
     "data": {
      "text/plain": [
       "(array([[1.02328291, 2.09677085],\n",
       "        [1.25472742, 1.07954617],\n",
       "        [1.61452904, 2.58559233],\n",
       "        ...,\n",
       "        [0.85244254, 2.52599129],\n",
       "        [1.8094729 , 1.46101151],\n",
       "        [0.37403042, 3.05186689]]),\n",
       " array([-1.45399143e-02, -1.51020172e-02,  9.78534377e-03, ...,\n",
       "         1.05736611e+02, -1.41933227e+02, -5.85309521e+01]))"
      ]
     },
     "execution_count": 46,
     "metadata": {},
     "output_type": "execute_result"
    }
   ],
   "source": [
    "%%time\n",
    "X = sps.norm(loc=means, scale=1).rvs(size=(n_iters, n_samples, 2))\n",
    "eps = sps.norm(loc=[0] * n_samples, scale=np.linspace(0.01, n_samples / 100, \n",
    "                                                              n_samples)).rvs(size=(n_iters, n_samples))\n",
    "X[0], eps[0]"
   ]
  },
  {
   "cell_type": "code",
   "execution_count": 48,
   "id": "6892da83",
   "metadata": {},
   "outputs": [
    {
     "name": "stderr",
     "output_type": "stream",
     "text": [
      "10000it [00:16, 624.05it/s]\n"
     ]
    }
   ],
   "source": [
    "res = np.array([])\n",
    "for x, e in tqdm(zip(X, eps)):\n",
    "    y = thetas[0] + thetas[1] * x[:, 0] + thetas[2] * x[:, 1]\n",
    "    y += e\n",
    "    model = LinearRegression()\n",
    "    model.fit(x, y)\n",
    "    y_hat = model.predict(x)\n",
    "    coef_2 = model.coef_[1]\n",
    "    sigma_hat = np.linalg.norm(y - y_hat) / (n_samples - 2)\n",
    "    sqr = np.sqrt(np.sum(x[1] ** 2))\n",
    "    t = coef_2 / sigma_hat / sqr\n",
    "    pval = 2 * sps.t(df = n_samples - 2).sf(np.abs(t))\n",
    "    res = np.append([res], [pval < 0.05])"
   ]
  },
  {
   "cell_type": "code",
   "execution_count": 49,
   "id": "dadfe38e",
   "metadata": {},
   "outputs": [
    {
     "name": "stdout",
     "output_type": "stream",
     "text": [
      "доля случаев, в которых гипотеза отвергается: 0.0127\n"
     ]
    }
   ],
   "source": [
    "print(f'доля случаев, в которых гипотеза отвергается: {len(res[res == True]) / len(res)}')"
   ]
  },
  {
   "cell_type": "markdown",
   "id": "e1bdc905",
   "metadata": {},
   "source": [
    "**Вывод:** в условиях гетероскедастичности, когда шум зависит линейно от номера наблюдения мы получили, что доля случаев, в которых гипотеза отвергается чуть больше 1 процента. Это означает, что реальная ошибка первого рода почти на порядок меньше допустимой, что на самом деле не очень хорошо, так как, скорее всего мы потеряли в мощности. Конечно, было бы хуже, если бы ошибка первого рода сильно превысила бы требуемый уровень значимости (что в условиях гетероскедастичности тоже могло произойти), однако в любом случае мы получили реальный уровень значимости, сильно отличающийся от требуемого, что говорит о пагубном влиянии гетероскедастичности на рассматриваемый критерий о незначимости коэффициента."
   ]
  }
 ],
 "metadata": {
  "kernelspec": {
   "display_name": "Python 3 (ipykernel)",
   "language": "python",
   "name": "python3"
  },
  "language_info": {
   "codemirror_mode": {
    "name": "ipython",
    "version": 3
   },
   "file_extension": ".py",
   "mimetype": "text/x-python",
   "name": "python",
   "nbconvert_exporter": "python",
   "pygments_lexer": "ipython3",
   "version": "3.8.12"
  }
 },
 "nbformat": 4,
 "nbformat_minor": 5
}
