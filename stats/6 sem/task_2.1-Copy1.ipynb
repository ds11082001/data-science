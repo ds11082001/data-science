{
 "cells": [
  {
   "cell_type": "markdown",
   "metadata": {},
   "source": [
    "# Прикладная статистика и анализ данных\n",
    "## Задание 2.1\n",
    "\n",
    "\n",
    "**Правила:**\n",
    "\n",
    "* Выполненную работу нужно отправить телеграм-боту `@miptstats_ad21_bot`.\n",
    "* Дедлайны см. в боте. После дедлайна работы не принимаются кроме случаев наличия уважительной причины.\n",
    "* Прислать нужно ноутбук в формате `ipynb`.\n",
    "* Теоретические задачи необходимо оформить в latex/markdown и прислать `pdf` или же прислать фотку в правильной ориентации рукописного решения, где **все четко видно**.\n",
    "* Решения, размещенные на каких-либо интернет-ресурсах не принимаются. Публикация решения может быть приравнена к предоставлении возможности списать.\n",
    "* Для выполнения задания используйте этот ноутбук в качестве основы, ничего не удаляя из него.\n",
    "* Никакой код из данного задания при проверке запускаться не будет.\n",
    "* В каждой задаче не забывайте делать **пояснения и выводы**.\n",
    "\n",
    "**Баллы за задание:**\n",
    "\n",
    "* Задача 1 — 1 балл\n",
    "* Задача 2 — 1 балл\n",
    "* Задача 3 — 3 балла\n",
    "* Задача 4 — 6 баллов\n",
    "* Задача 5 — 6 баллов\n",
    "\n",
    "----\n"
   ]
  },
  {
   "cell_type": "code",
   "execution_count": 182,
   "metadata": {
    "ExecuteTime": {
     "end_time": "2021-03-18T13:18:30.715581Z",
     "start_time": "2021-03-18T13:18:29.295125Z"
    }
   },
   "outputs": [],
   "source": [
    "import numpy as np\n",
    "import pandas as pd\n",
    "import scipy.stats as sps\n",
    "import warnings\n",
    "warnings.filterwarnings(\"ignore\")\n",
    "from statsmodels.sandbox.stats.multicomp import multipletests\n",
    "from sklearn.preprocessing import OneHotEncoder\n",
    "from sklearn.ensemble import RandomForestRegressor\n",
    "\n",
    "import matplotlib.pyplot as plt\n",
    "import seaborn as sns\n",
    "sns.set(style='whitegrid', font_scale=1.3, palette='Set2')\n",
    "\n",
    "%matplotlib inline"
   ]
  },
  {
   "cell_type": "markdown",
   "metadata": {},
   "source": [
    "### Задача 1\n",
    "Вам выдается сводная статистика о посетителях сайта mipt-stats.gitlab.io, а также вики-страниц и Яндекс-форм Физтех.Статистики за последние 3 месяца. В каждой ячейке таблицы записано количество посетителей определенного условия, которые хотя бы раз посетили указанные выше ресурсы. Пол посетителя определяется технологией Яндекс.Метрики."
   ]
  },
  {
   "cell_type": "code",
   "execution_count": 3,
   "metadata": {
    "ExecuteTime": {
     "end_time": "2021-03-18T13:29:01.751186Z",
     "start_time": "2021-03-18T13:29:01.731826Z"
    }
   },
   "outputs": [
    {
     "data": {
      "text/html": [
       "<div>\n",
       "<style scoped>\n",
       "    .dataframe tbody tr th:only-of-type {\n",
       "        vertical-align: middle;\n",
       "    }\n",
       "\n",
       "    .dataframe tbody tr th {\n",
       "        vertical-align: top;\n",
       "    }\n",
       "\n",
       "    .dataframe thead th {\n",
       "        text-align: right;\n",
       "    }\n",
       "</style>\n",
       "<table border=\"1\" class=\"dataframe\">\n",
       "  <thead>\n",
       "    <tr style=\"text-align: right;\">\n",
       "      <th></th>\n",
       "      <th>Мужской</th>\n",
       "      <th>Женский</th>\n",
       "    </tr>\n",
       "  </thead>\n",
       "  <tbody>\n",
       "    <tr>\n",
       "      <th>Chrome</th>\n",
       "      <td>644</td>\n",
       "      <td>257</td>\n",
       "    </tr>\n",
       "    <tr>\n",
       "      <th>Chrome Mobile</th>\n",
       "      <td>235</td>\n",
       "      <td>109</td>\n",
       "    </tr>\n",
       "    <tr>\n",
       "      <th>Яндекс Браузер</th>\n",
       "      <td>208</td>\n",
       "      <td>84</td>\n",
       "    </tr>\n",
       "    <tr>\n",
       "      <th>Firefox</th>\n",
       "      <td>68</td>\n",
       "      <td>14</td>\n",
       "    </tr>\n",
       "    <tr>\n",
       "      <th>Mobile Safari</th>\n",
       "      <td>20</td>\n",
       "      <td>13</td>\n",
       "    </tr>\n",
       "    <tr>\n",
       "      <th>Safari</th>\n",
       "      <td>20</td>\n",
       "      <td>11</td>\n",
       "    </tr>\n",
       "  </tbody>\n",
       "</table>\n",
       "</div>"
      ],
      "text/plain": [
       "                Мужской  Женский\n",
       "Chrome              644      257\n",
       "Chrome Mobile       235      109\n",
       "Яндекс Браузер      208       84\n",
       "Firefox              68       14\n",
       "Mobile Safari        20       13\n",
       "Safari               20       11"
      ]
     },
     "execution_count": 3,
     "metadata": {},
     "output_type": "execute_result"
    }
   ],
   "source": [
    "data = pd.DataFrame(\n",
    "    {'Мужской': [644, 235, 208, 68, 20, 20],\n",
    "     'Женский': [257, 109, 84, 14, 13, 11]},\n",
    "    index=['Chrome', 'Chrome Mobile', 'Яндекс Браузер', 'Firefox', 'Mobile Safari', 'Safari']    \n",
    ")\n",
    "data"
   ]
  },
  {
   "cell_type": "markdown",
   "metadata": {},
   "source": [
    "Проверьте гипотезу о том, что тип используемого браузера не зависит от пола посетителя. Сделайте вывод."
   ]
  },
  {
   "cell_type": "code",
   "execution_count": 4,
   "metadata": {},
   "outputs": [
    {
     "name": "stdout",
     "output_type": "stream",
     "text": [
      "статистика критерия: 9.34260661681269\n",
      "p-value критерия: 0.09615462810186239\n",
      "отвергается ли критерий? False\n"
     ]
    }
   ],
   "source": [
    "chi, pval = sps.chi2_contingency(data)[:2]\n",
    "print(f'статистика критерия: {chi}')\n",
    "print(f'p-value критерия: {pval}')\n",
    "print(f'отвергается ли критерий? {pval < 0.05}')"
   ]
  },
  {
   "cell_type": "markdown",
   "metadata": {},
   "source": [
    "Посчитаем также коэффициент корреляции Крамера."
   ]
  },
  {
   "cell_type": "code",
   "execution_count": 5,
   "metadata": {},
   "outputs": [
    {
     "data": {
      "text/plain": [
       "0.07450612442500706"
      ]
     },
     "execution_count": 5,
     "metadata": {},
     "output_type": "execute_result"
    }
   ],
   "source": [
    "n = np.sum(data['Мужской'].to_numpy()) + np.sum(data['Женский'].to_numpy())\n",
    "phi = np.sqrt(chi / n)\n",
    "phi"
   ]
  },
  {
   "cell_type": "markdown",
   "metadata": {},
   "source": [
    "**Вывод:** гипотеза о независимости браузера от пола посетителя не отвергается, коэффициент корреляции Крамера близок к нулю, значит, скорее всего, выбор браузера не зависит от пола."
   ]
  },
  {
   "cell_type": "markdown",
   "metadata": {},
   "source": [
    "### Задача 2\n",
    "\n",
    "Можно ли на уровне значимости 0.05 считать, что последовательность чисел \n",
    "\n",
    "    1.05, 1.12, 1.37, 1.50, 1.51, 1.73, 1.85, 1.98, 2.03, 2.17 \n",
    "    \n",
    "является реализацией случайного вектора, все 10 компонент которого независимые одинаково распределенные случайные величины? Вывод сделайте на основе коэффициентов корреляции."
   ]
  },
  {
   "cell_type": "code",
   "execution_count": 14,
   "metadata": {},
   "outputs": [
    {
     "data": {
      "text/plain": [
       "0.9485269820357344"
      ]
     },
     "execution_count": 14,
     "metadata": {},
     "output_type": "execute_result"
    }
   ],
   "source": [
    "Z = np.array([1.05, 1.12, 1.37, 1.50, 1.51, 1.73, 1.85, 1.98, 2.03, 2.17])\n",
    "X = Z[:5]\n",
    "Y = Z[5:]\n",
    "corr = np.corrcoef(X, Y)[0, 1]\n",
    "corr"
   ]
  },
  {
   "cell_type": "code",
   "execution_count": 15,
   "metadata": {},
   "outputs": [
    {
     "data": {
      "text/plain": [
       "5.187609638938912"
      ]
     },
     "execution_count": 15,
     "metadata": {},
     "output_type": "execute_result"
    }
   ],
   "source": [
    "n = 5\n",
    "T = corr * np.sqrt(n - 2) / np.sqrt(1 - corr ** 2)\n",
    "T"
   ]
  },
  {
   "cell_type": "code",
   "execution_count": 17,
   "metadata": {},
   "outputs": [
    {
     "name": "stdout",
     "output_type": "stream",
     "text": [
      "статистика критерия: 5.187609638938912\n",
      "p-value критерия: 0.006954908862497154\n",
      "отвергается ли критерий? True\n"
     ]
    }
   ],
   "source": [
    "pval = sps.t(df=n - 2).sf(T)\n",
    "print(f'статистика критерия: {T}')\n",
    "print(f'p-value критерия: {pval}')\n",
    "print(f'отвергается ли критерий? {pval < 0.05}')"
   ]
  },
  {
   "cell_type": "markdown",
   "metadata": {},
   "source": [
    "**Вывод:** гипотеза о независимости браузера от пола посетителя отвергается, коэффициент корреляции Крамера близок к единице, значит, выбор выборку нельзя считать независимой."
   ]
  },
  {
   "cell_type": "markdown",
   "metadata": {},
   "source": [
    "### Задача 3\n",
    "\n",
    "Получите критерий хи-квадрат для таблиц сопряженности, сведя задачу к обобщенному критерию хи-квадрат из предыдущего семестра. Статистика критерия была дана на лекции."
   ]
  },
  {
   "cell_type": "markdown",
   "metadata": {},
   "source": [
    "### Задача 4\n",
    "\n",
    "Даны выборки $X = (X_1, ..., X_n), Y = (Y_1, ..., Y_n)$. Рассмотрим произвольную функцию $f: \\mathbb{R}^2 \\to \\mathbb{R}$, для которой выполнено $f(x, y) = -f(y, x)$. Для любых $1 \\leqslant i < j \\leqslant n$ положим $c_{ij}(X) = f(X_i, X_j)$. Обобщенным коэффициентом корреляции называется следующая статистика:\n",
    "$$\\widehat{r} = \\frac{\\sum\\limits_{i<j} c_{ij}(X) c_{ij}(Y)}{\\sqrt{\\sum\\limits\\limits_{i<j} c_{ij}(X)^2 \\sum\\limits\\limits_{i<j} c_{ij}(Y)^2}}.$$\n",
    "\n",
    "Докажите, что это действительно выборочный коэффициент корреляции, т.е. что\n",
    "$\\left| \\widehat{r} \\right| \\leqslant 1$ и значения $\\pm 1$ достигаются, а также что при верной гипотезе о независимости выборок $\\mathsf{E} \\widehat{r} = 0$.\n",
    "\t\n",
    "Найдите коэффициенты корреляции Пирсона, Спирмэна и Кэндалла с помощью обобщенного коэффициента корреляции."
   ]
  },
  {
   "cell_type": "markdown",
   "metadata": {},
   "source": [
    "### Задача 5\n",
    "\n",
    "Скачайте <a href=\"http://archive.ics.uci.edu/ml/datasets/Bank+Marketing\">данные</a> маркетинговых кампаний португальского банковского учреждения. Цель задачи &mdash; с целью дальнейшего исследования понять, какие условия (среди 20 признаков) влияют на подписание клиентом срочного депозита (величина $y$). Выполните задачу двумя способами:\n",
    "\n",
    "* методами анализа зависимостей, выяснив, какие характеристики клиента оказывают влияние на целевую переменную, и указав степень влияния;\n",
    "\t\n",
    "* вычислив важность признаков, полученной с помощью Random Forest, разбив предварительно данные на обучающую и тестовую части.\n",
    "\t\n",
    "Проинтерпретируйте полученные результаты.\n",
    "\t\n",
    "*Напоминание*: в случае отбора признаков с целью дальнейшего исследования можно применять методы, контролирующие FDR на уровне не более 0.1."
   ]
  },
  {
   "cell_type": "markdown",
   "metadata": {},
   "source": [
    "Первая часть: методами анализа зависимостей, выяснив, какие характеристики клиента оказывают влияние на целевую переменную, и указав степень влияния."
   ]
  },
  {
   "cell_type": "code",
   "execution_count": 21,
   "metadata": {},
   "outputs": [
    {
     "data": {
      "text/html": [
       "<div>\n",
       "<style scoped>\n",
       "    .dataframe tbody tr th:only-of-type {\n",
       "        vertical-align: middle;\n",
       "    }\n",
       "\n",
       "    .dataframe tbody tr th {\n",
       "        vertical-align: top;\n",
       "    }\n",
       "\n",
       "    .dataframe thead th {\n",
       "        text-align: right;\n",
       "    }\n",
       "</style>\n",
       "<table border=\"1\" class=\"dataframe\">\n",
       "  <thead>\n",
       "    <tr style=\"text-align: right;\">\n",
       "      <th></th>\n",
       "      <th>age</th>\n",
       "      <th>job</th>\n",
       "      <th>marital</th>\n",
       "      <th>education</th>\n",
       "      <th>default</th>\n",
       "      <th>housing</th>\n",
       "      <th>loan</th>\n",
       "      <th>contact</th>\n",
       "      <th>month</th>\n",
       "      <th>day_of_week</th>\n",
       "      <th>...</th>\n",
       "      <th>campaign</th>\n",
       "      <th>pdays</th>\n",
       "      <th>previous</th>\n",
       "      <th>poutcome</th>\n",
       "      <th>emp.var.rate</th>\n",
       "      <th>cons.price.idx</th>\n",
       "      <th>cons.conf.idx</th>\n",
       "      <th>euribor3m</th>\n",
       "      <th>nr.employed</th>\n",
       "      <th>y</th>\n",
       "    </tr>\n",
       "  </thead>\n",
       "  <tbody>\n",
       "    <tr>\n",
       "      <th>0</th>\n",
       "      <td>30</td>\n",
       "      <td>blue-collar</td>\n",
       "      <td>married</td>\n",
       "      <td>basic.9y</td>\n",
       "      <td>no</td>\n",
       "      <td>yes</td>\n",
       "      <td>no</td>\n",
       "      <td>cellular</td>\n",
       "      <td>may</td>\n",
       "      <td>fri</td>\n",
       "      <td>...</td>\n",
       "      <td>2</td>\n",
       "      <td>999</td>\n",
       "      <td>0</td>\n",
       "      <td>nonexistent</td>\n",
       "      <td>-1.8</td>\n",
       "      <td>92.893</td>\n",
       "      <td>-46.2</td>\n",
       "      <td>1.313</td>\n",
       "      <td>5099.1</td>\n",
       "      <td>no</td>\n",
       "    </tr>\n",
       "    <tr>\n",
       "      <th>1</th>\n",
       "      <td>39</td>\n",
       "      <td>services</td>\n",
       "      <td>single</td>\n",
       "      <td>high.school</td>\n",
       "      <td>no</td>\n",
       "      <td>no</td>\n",
       "      <td>no</td>\n",
       "      <td>telephone</td>\n",
       "      <td>may</td>\n",
       "      <td>fri</td>\n",
       "      <td>...</td>\n",
       "      <td>4</td>\n",
       "      <td>999</td>\n",
       "      <td>0</td>\n",
       "      <td>nonexistent</td>\n",
       "      <td>1.1</td>\n",
       "      <td>93.994</td>\n",
       "      <td>-36.4</td>\n",
       "      <td>4.855</td>\n",
       "      <td>5191.0</td>\n",
       "      <td>no</td>\n",
       "    </tr>\n",
       "    <tr>\n",
       "      <th>2</th>\n",
       "      <td>25</td>\n",
       "      <td>services</td>\n",
       "      <td>married</td>\n",
       "      <td>high.school</td>\n",
       "      <td>no</td>\n",
       "      <td>yes</td>\n",
       "      <td>no</td>\n",
       "      <td>telephone</td>\n",
       "      <td>jun</td>\n",
       "      <td>wed</td>\n",
       "      <td>...</td>\n",
       "      <td>1</td>\n",
       "      <td>999</td>\n",
       "      <td>0</td>\n",
       "      <td>nonexistent</td>\n",
       "      <td>1.4</td>\n",
       "      <td>94.465</td>\n",
       "      <td>-41.8</td>\n",
       "      <td>4.962</td>\n",
       "      <td>5228.1</td>\n",
       "      <td>no</td>\n",
       "    </tr>\n",
       "    <tr>\n",
       "      <th>3</th>\n",
       "      <td>38</td>\n",
       "      <td>services</td>\n",
       "      <td>married</td>\n",
       "      <td>basic.9y</td>\n",
       "      <td>no</td>\n",
       "      <td>unknown</td>\n",
       "      <td>unknown</td>\n",
       "      <td>telephone</td>\n",
       "      <td>jun</td>\n",
       "      <td>fri</td>\n",
       "      <td>...</td>\n",
       "      <td>3</td>\n",
       "      <td>999</td>\n",
       "      <td>0</td>\n",
       "      <td>nonexistent</td>\n",
       "      <td>1.4</td>\n",
       "      <td>94.465</td>\n",
       "      <td>-41.8</td>\n",
       "      <td>4.959</td>\n",
       "      <td>5228.1</td>\n",
       "      <td>no</td>\n",
       "    </tr>\n",
       "    <tr>\n",
       "      <th>4</th>\n",
       "      <td>47</td>\n",
       "      <td>admin.</td>\n",
       "      <td>married</td>\n",
       "      <td>university.degree</td>\n",
       "      <td>no</td>\n",
       "      <td>yes</td>\n",
       "      <td>no</td>\n",
       "      <td>cellular</td>\n",
       "      <td>nov</td>\n",
       "      <td>mon</td>\n",
       "      <td>...</td>\n",
       "      <td>1</td>\n",
       "      <td>999</td>\n",
       "      <td>0</td>\n",
       "      <td>nonexistent</td>\n",
       "      <td>-0.1</td>\n",
       "      <td>93.200</td>\n",
       "      <td>-42.0</td>\n",
       "      <td>4.191</td>\n",
       "      <td>5195.8</td>\n",
       "      <td>no</td>\n",
       "    </tr>\n",
       "    <tr>\n",
       "      <th>...</th>\n",
       "      <td>...</td>\n",
       "      <td>...</td>\n",
       "      <td>...</td>\n",
       "      <td>...</td>\n",
       "      <td>...</td>\n",
       "      <td>...</td>\n",
       "      <td>...</td>\n",
       "      <td>...</td>\n",
       "      <td>...</td>\n",
       "      <td>...</td>\n",
       "      <td>...</td>\n",
       "      <td>...</td>\n",
       "      <td>...</td>\n",
       "      <td>...</td>\n",
       "      <td>...</td>\n",
       "      <td>...</td>\n",
       "      <td>...</td>\n",
       "      <td>...</td>\n",
       "      <td>...</td>\n",
       "      <td>...</td>\n",
       "      <td>...</td>\n",
       "    </tr>\n",
       "    <tr>\n",
       "      <th>4114</th>\n",
       "      <td>30</td>\n",
       "      <td>admin.</td>\n",
       "      <td>married</td>\n",
       "      <td>basic.6y</td>\n",
       "      <td>no</td>\n",
       "      <td>yes</td>\n",
       "      <td>yes</td>\n",
       "      <td>cellular</td>\n",
       "      <td>jul</td>\n",
       "      <td>thu</td>\n",
       "      <td>...</td>\n",
       "      <td>1</td>\n",
       "      <td>999</td>\n",
       "      <td>0</td>\n",
       "      <td>nonexistent</td>\n",
       "      <td>1.4</td>\n",
       "      <td>93.918</td>\n",
       "      <td>-42.7</td>\n",
       "      <td>4.958</td>\n",
       "      <td>5228.1</td>\n",
       "      <td>no</td>\n",
       "    </tr>\n",
       "    <tr>\n",
       "      <th>4115</th>\n",
       "      <td>39</td>\n",
       "      <td>admin.</td>\n",
       "      <td>married</td>\n",
       "      <td>high.school</td>\n",
       "      <td>no</td>\n",
       "      <td>yes</td>\n",
       "      <td>no</td>\n",
       "      <td>telephone</td>\n",
       "      <td>jul</td>\n",
       "      <td>fri</td>\n",
       "      <td>...</td>\n",
       "      <td>1</td>\n",
       "      <td>999</td>\n",
       "      <td>0</td>\n",
       "      <td>nonexistent</td>\n",
       "      <td>1.4</td>\n",
       "      <td>93.918</td>\n",
       "      <td>-42.7</td>\n",
       "      <td>4.959</td>\n",
       "      <td>5228.1</td>\n",
       "      <td>no</td>\n",
       "    </tr>\n",
       "    <tr>\n",
       "      <th>4116</th>\n",
       "      <td>27</td>\n",
       "      <td>student</td>\n",
       "      <td>single</td>\n",
       "      <td>high.school</td>\n",
       "      <td>no</td>\n",
       "      <td>no</td>\n",
       "      <td>no</td>\n",
       "      <td>cellular</td>\n",
       "      <td>may</td>\n",
       "      <td>mon</td>\n",
       "      <td>...</td>\n",
       "      <td>2</td>\n",
       "      <td>999</td>\n",
       "      <td>1</td>\n",
       "      <td>failure</td>\n",
       "      <td>-1.8</td>\n",
       "      <td>92.893</td>\n",
       "      <td>-46.2</td>\n",
       "      <td>1.354</td>\n",
       "      <td>5099.1</td>\n",
       "      <td>no</td>\n",
       "    </tr>\n",
       "    <tr>\n",
       "      <th>4117</th>\n",
       "      <td>58</td>\n",
       "      <td>admin.</td>\n",
       "      <td>married</td>\n",
       "      <td>high.school</td>\n",
       "      <td>no</td>\n",
       "      <td>no</td>\n",
       "      <td>no</td>\n",
       "      <td>cellular</td>\n",
       "      <td>aug</td>\n",
       "      <td>fri</td>\n",
       "      <td>...</td>\n",
       "      <td>1</td>\n",
       "      <td>999</td>\n",
       "      <td>0</td>\n",
       "      <td>nonexistent</td>\n",
       "      <td>1.4</td>\n",
       "      <td>93.444</td>\n",
       "      <td>-36.1</td>\n",
       "      <td>4.966</td>\n",
       "      <td>5228.1</td>\n",
       "      <td>no</td>\n",
       "    </tr>\n",
       "    <tr>\n",
       "      <th>4118</th>\n",
       "      <td>34</td>\n",
       "      <td>management</td>\n",
       "      <td>single</td>\n",
       "      <td>high.school</td>\n",
       "      <td>no</td>\n",
       "      <td>yes</td>\n",
       "      <td>no</td>\n",
       "      <td>cellular</td>\n",
       "      <td>nov</td>\n",
       "      <td>wed</td>\n",
       "      <td>...</td>\n",
       "      <td>1</td>\n",
       "      <td>999</td>\n",
       "      <td>0</td>\n",
       "      <td>nonexistent</td>\n",
       "      <td>-0.1</td>\n",
       "      <td>93.200</td>\n",
       "      <td>-42.0</td>\n",
       "      <td>4.120</td>\n",
       "      <td>5195.8</td>\n",
       "      <td>no</td>\n",
       "    </tr>\n",
       "  </tbody>\n",
       "</table>\n",
       "<p>4119 rows × 21 columns</p>\n",
       "</div>"
      ],
      "text/plain": [
       "      age          job  marital          education default  housing     loan  \\\n",
       "0      30  blue-collar  married           basic.9y      no      yes       no   \n",
       "1      39     services   single        high.school      no       no       no   \n",
       "2      25     services  married        high.school      no      yes       no   \n",
       "3      38     services  married           basic.9y      no  unknown  unknown   \n",
       "4      47       admin.  married  university.degree      no      yes       no   \n",
       "...   ...          ...      ...                ...     ...      ...      ...   \n",
       "4114   30       admin.  married           basic.6y      no      yes      yes   \n",
       "4115   39       admin.  married        high.school      no      yes       no   \n",
       "4116   27      student   single        high.school      no       no       no   \n",
       "4117   58       admin.  married        high.school      no       no       no   \n",
       "4118   34   management   single        high.school      no      yes       no   \n",
       "\n",
       "        contact month day_of_week  ...  campaign  pdays  previous  \\\n",
       "0      cellular   may         fri  ...         2    999         0   \n",
       "1     telephone   may         fri  ...         4    999         0   \n",
       "2     telephone   jun         wed  ...         1    999         0   \n",
       "3     telephone   jun         fri  ...         3    999         0   \n",
       "4      cellular   nov         mon  ...         1    999         0   \n",
       "...         ...   ...         ...  ...       ...    ...       ...   \n",
       "4114   cellular   jul         thu  ...         1    999         0   \n",
       "4115  telephone   jul         fri  ...         1    999         0   \n",
       "4116   cellular   may         mon  ...         2    999         1   \n",
       "4117   cellular   aug         fri  ...         1    999         0   \n",
       "4118   cellular   nov         wed  ...         1    999         0   \n",
       "\n",
       "         poutcome emp.var.rate  cons.price.idx  cons.conf.idx  euribor3m  \\\n",
       "0     nonexistent         -1.8          92.893          -46.2      1.313   \n",
       "1     nonexistent          1.1          93.994          -36.4      4.855   \n",
       "2     nonexistent          1.4          94.465          -41.8      4.962   \n",
       "3     nonexistent          1.4          94.465          -41.8      4.959   \n",
       "4     nonexistent         -0.1          93.200          -42.0      4.191   \n",
       "...           ...          ...             ...            ...        ...   \n",
       "4114  nonexistent          1.4          93.918          -42.7      4.958   \n",
       "4115  nonexistent          1.4          93.918          -42.7      4.959   \n",
       "4116      failure         -1.8          92.893          -46.2      1.354   \n",
       "4117  nonexistent          1.4          93.444          -36.1      4.966   \n",
       "4118  nonexistent         -0.1          93.200          -42.0      4.120   \n",
       "\n",
       "      nr.employed   y  \n",
       "0          5099.1  no  \n",
       "1          5191.0  no  \n",
       "2          5228.1  no  \n",
       "3          5228.1  no  \n",
       "4          5195.8  no  \n",
       "...           ...  ..  \n",
       "4114       5228.1  no  \n",
       "4115       5228.1  no  \n",
       "4116       5099.1  no  \n",
       "4117       5228.1  no  \n",
       "4118       5195.8  no  \n",
       "\n",
       "[4119 rows x 21 columns]"
      ]
     },
     "execution_count": 21,
     "metadata": {},
     "output_type": "execute_result"
    }
   ],
   "source": [
    "data = pd.read_csv('bank-additional.csv', delimiter=';')\n",
    "data"
   ]
  },
  {
   "cell_type": "code",
   "execution_count": 42,
   "metadata": {},
   "outputs": [],
   "source": [
    "data['y'][data['y'] == 'no'] = 0\n",
    "data['y'][data['y'] == 'yes'] = 1"
   ]
  },
  {
   "cell_type": "markdown",
   "metadata": {},
   "source": [
    "Разбиваем на бины вещественные признаки, объединяем бины, в которых не хватает элеметов, и считаем p-value."
   ]
  },
  {
   "cell_type": "code",
   "execution_count": 107,
   "metadata": {},
   "outputs": [],
   "source": [
    "pvals = {}"
   ]
  },
  {
   "cell_type": "code",
   "execution_count": 25,
   "metadata": {},
   "outputs": [
    {
     "data": {
      "text/html": [
       "<div>\n",
       "<style scoped>\n",
       "    .dataframe tbody tr th:only-of-type {\n",
       "        vertical-align: middle;\n",
       "    }\n",
       "\n",
       "    .dataframe tbody tr th {\n",
       "        vertical-align: top;\n",
       "    }\n",
       "\n",
       "    .dataframe thead th {\n",
       "        text-align: right;\n",
       "    }\n",
       "</style>\n",
       "<table border=\"1\" class=\"dataframe\">\n",
       "  <thead>\n",
       "    <tr style=\"text-align: right;\">\n",
       "      <th></th>\n",
       "      <th>age</th>\n",
       "      <th>duration</th>\n",
       "      <th>campaign</th>\n",
       "      <th>pdays</th>\n",
       "      <th>previous</th>\n",
       "      <th>cons.price.idx</th>\n",
       "      <th>cons.conf.idx</th>\n",
       "      <th>euribor3m</th>\n",
       "      <th>nr.employed</th>\n",
       "    </tr>\n",
       "  </thead>\n",
       "  <tbody>\n",
       "    <tr>\n",
       "      <th>0</th>\n",
       "      <td>30</td>\n",
       "      <td>487</td>\n",
       "      <td>2</td>\n",
       "      <td>999</td>\n",
       "      <td>0</td>\n",
       "      <td>92.893</td>\n",
       "      <td>-46.2</td>\n",
       "      <td>1.313</td>\n",
       "      <td>5099.1</td>\n",
       "    </tr>\n",
       "    <tr>\n",
       "      <th>1</th>\n",
       "      <td>39</td>\n",
       "      <td>346</td>\n",
       "      <td>4</td>\n",
       "      <td>999</td>\n",
       "      <td>0</td>\n",
       "      <td>93.994</td>\n",
       "      <td>-36.4</td>\n",
       "      <td>4.855</td>\n",
       "      <td>5191.0</td>\n",
       "    </tr>\n",
       "    <tr>\n",
       "      <th>2</th>\n",
       "      <td>25</td>\n",
       "      <td>227</td>\n",
       "      <td>1</td>\n",
       "      <td>999</td>\n",
       "      <td>0</td>\n",
       "      <td>94.465</td>\n",
       "      <td>-41.8</td>\n",
       "      <td>4.962</td>\n",
       "      <td>5228.1</td>\n",
       "    </tr>\n",
       "    <tr>\n",
       "      <th>3</th>\n",
       "      <td>38</td>\n",
       "      <td>17</td>\n",
       "      <td>3</td>\n",
       "      <td>999</td>\n",
       "      <td>0</td>\n",
       "      <td>94.465</td>\n",
       "      <td>-41.8</td>\n",
       "      <td>4.959</td>\n",
       "      <td>5228.1</td>\n",
       "    </tr>\n",
       "    <tr>\n",
       "      <th>4</th>\n",
       "      <td>47</td>\n",
       "      <td>58</td>\n",
       "      <td>1</td>\n",
       "      <td>999</td>\n",
       "      <td>0</td>\n",
       "      <td>93.200</td>\n",
       "      <td>-42.0</td>\n",
       "      <td>4.191</td>\n",
       "      <td>5195.8</td>\n",
       "    </tr>\n",
       "    <tr>\n",
       "      <th>...</th>\n",
       "      <td>...</td>\n",
       "      <td>...</td>\n",
       "      <td>...</td>\n",
       "      <td>...</td>\n",
       "      <td>...</td>\n",
       "      <td>...</td>\n",
       "      <td>...</td>\n",
       "      <td>...</td>\n",
       "      <td>...</td>\n",
       "    </tr>\n",
       "    <tr>\n",
       "      <th>4114</th>\n",
       "      <td>30</td>\n",
       "      <td>53</td>\n",
       "      <td>1</td>\n",
       "      <td>999</td>\n",
       "      <td>0</td>\n",
       "      <td>93.918</td>\n",
       "      <td>-42.7</td>\n",
       "      <td>4.958</td>\n",
       "      <td>5228.1</td>\n",
       "    </tr>\n",
       "    <tr>\n",
       "      <th>4115</th>\n",
       "      <td>39</td>\n",
       "      <td>219</td>\n",
       "      <td>1</td>\n",
       "      <td>999</td>\n",
       "      <td>0</td>\n",
       "      <td>93.918</td>\n",
       "      <td>-42.7</td>\n",
       "      <td>4.959</td>\n",
       "      <td>5228.1</td>\n",
       "    </tr>\n",
       "    <tr>\n",
       "      <th>4116</th>\n",
       "      <td>27</td>\n",
       "      <td>64</td>\n",
       "      <td>2</td>\n",
       "      <td>999</td>\n",
       "      <td>1</td>\n",
       "      <td>92.893</td>\n",
       "      <td>-46.2</td>\n",
       "      <td>1.354</td>\n",
       "      <td>5099.1</td>\n",
       "    </tr>\n",
       "    <tr>\n",
       "      <th>4117</th>\n",
       "      <td>58</td>\n",
       "      <td>528</td>\n",
       "      <td>1</td>\n",
       "      <td>999</td>\n",
       "      <td>0</td>\n",
       "      <td>93.444</td>\n",
       "      <td>-36.1</td>\n",
       "      <td>4.966</td>\n",
       "      <td>5228.1</td>\n",
       "    </tr>\n",
       "    <tr>\n",
       "      <th>4118</th>\n",
       "      <td>34</td>\n",
       "      <td>175</td>\n",
       "      <td>1</td>\n",
       "      <td>999</td>\n",
       "      <td>0</td>\n",
       "      <td>93.200</td>\n",
       "      <td>-42.0</td>\n",
       "      <td>4.120</td>\n",
       "      <td>5195.8</td>\n",
       "    </tr>\n",
       "  </tbody>\n",
       "</table>\n",
       "<p>4119 rows × 9 columns</p>\n",
       "</div>"
      ],
      "text/plain": [
       "      age  duration  campaign  pdays  previous  cons.price.idx  cons.conf.idx  \\\n",
       "0      30       487         2    999         0          92.893          -46.2   \n",
       "1      39       346         4    999         0          93.994          -36.4   \n",
       "2      25       227         1    999         0          94.465          -41.8   \n",
       "3      38        17         3    999         0          94.465          -41.8   \n",
       "4      47        58         1    999         0          93.200          -42.0   \n",
       "...   ...       ...       ...    ...       ...             ...            ...   \n",
       "4114   30        53         1    999         0          93.918          -42.7   \n",
       "4115   39       219         1    999         0          93.918          -42.7   \n",
       "4116   27        64         2    999         1          92.893          -46.2   \n",
       "4117   58       528         1    999         0          93.444          -36.1   \n",
       "4118   34       175         1    999         0          93.200          -42.0   \n",
       "\n",
       "      euribor3m  nr.employed  \n",
       "0         1.313       5099.1  \n",
       "1         4.855       5191.0  \n",
       "2         4.962       5228.1  \n",
       "3         4.959       5228.1  \n",
       "4         4.191       5195.8  \n",
       "...         ...          ...  \n",
       "4114      4.958       5228.1  \n",
       "4115      4.959       5228.1  \n",
       "4116      1.354       5099.1  \n",
       "4117      4.966       5228.1  \n",
       "4118      4.120       5195.8  \n",
       "\n",
       "[4119 rows x 9 columns]"
      ]
     },
     "execution_count": 25,
     "metadata": {},
     "output_type": "execute_result"
    }
   ],
   "source": [
    "real_features = ['age', 'duration', 'campaign', 'pdays', 'previous', 'cons.price.idx', \n",
    "                 'cons.conf.idx', 'euribor3m', 'nr.employed']\n",
    "data_real = data[real_features]\n",
    "data_real"
   ]
  },
  {
   "cell_type": "markdown",
   "metadata": {},
   "source": [
    "**Age**"
   ]
  },
  {
   "cell_type": "code",
   "execution_count": 53,
   "metadata": {},
   "outputs": [
    {
     "data": {
      "text/plain": [
       "array([[  86.,  717., 1079.,  734.,  554.,  429.,   43.,   15.,    8.,\n",
       "           3.],\n",
       "       [  12.,  104.,  108.,   70.,   62.,   54.,   18.,    7.,   10.,\n",
       "           6.]])"
      ]
     },
     "execution_count": 53,
     "metadata": {},
     "output_type": "execute_result"
    }
   ],
   "source": [
    "age_bins = np.histogram2d(data['y'], data_real['age'], bins=(2, 10))[0]\n",
    "age_bins"
   ]
  },
  {
   "cell_type": "code",
   "execution_count": 55,
   "metadata": {},
   "outputs": [
    {
     "data": {
      "text/plain": [
       "array([[  86.,  717., 1079.,  734.,  554.,  429.,   43.,   15.,   11.],\n",
       "       [  12.,  104.,  108.,   70.,   62.,   54.,   18.,    7.,   16.]])"
      ]
     },
     "execution_count": 55,
     "metadata": {},
     "output_type": "execute_result"
    }
   ],
   "source": [
    "age_bins[:, 8] = age_bins[:, 8] + age_bins[:, 9]\n",
    "age_bins = age_bins[:, :9]\n",
    "age_bins"
   ]
  },
  {
   "cell_type": "code",
   "execution_count": 109,
   "metadata": {},
   "outputs": [
    {
     "data": {
      "text/plain": [
       "{'age': 1.24519438858919e-19}"
      ]
     },
     "execution_count": 109,
     "metadata": {},
     "output_type": "execute_result"
    }
   ],
   "source": [
    "pvals['age'] = sps.chi2_contingency(age_bins)[1]\n",
    "pvals"
   ]
  },
  {
   "cell_type": "markdown",
   "metadata": {},
   "source": [
    "**Duration**"
   ]
  },
  {
   "cell_type": "code",
   "execution_count": 57,
   "metadata": {},
   "outputs": [
    {
     "data": {
      "text/plain": [
       "array([[3.11e+03, 4.70e+02, 6.20e+01, 1.90e+01, 5.00e+00, 1.00e+00,\n",
       "        0.00e+00, 0.00e+00, 1.00e+00, 0.00e+00],\n",
       "       [1.83e+02, 1.47e+02, 7.30e+01, 3.80e+01, 4.00e+00, 3.00e+00,\n",
       "        1.00e+00, 1.00e+00, 0.00e+00, 1.00e+00]])"
      ]
     },
     "execution_count": 57,
     "metadata": {},
     "output_type": "execute_result"
    }
   ],
   "source": [
    "dur_bins = np.histogram2d(data['y'], data_real['duration'], bins=(2, 10))[0]\n",
    "dur_bins"
   ]
  },
  {
   "cell_type": "code",
   "execution_count": 59,
   "metadata": {},
   "outputs": [
    {
     "data": {
      "text/plain": [
       "array([[3110.,  470.,   62.,   19.,    7.],\n",
       "       [ 183.,  147.,   73.,   38.,   10.]])"
      ]
     },
     "execution_count": 59,
     "metadata": {},
     "output_type": "execute_result"
    }
   ],
   "source": [
    "dur_bins[:, 4] = np.sum(dur_bins[:, 4:], axis=1)\n",
    "dur_bins = dur_bins[:, :5]\n",
    "dur_bins"
   ]
  },
  {
   "cell_type": "code",
   "execution_count": 110,
   "metadata": {},
   "outputs": [
    {
     "data": {
      "text/plain": [
       "{'age': 1.24519438858919e-19, 'dur': 2.70516349268418e-146}"
      ]
     },
     "execution_count": 110,
     "metadata": {},
     "output_type": "execute_result"
    }
   ],
   "source": [
    "pvals['dur'] = sps.chi2_contingency(dur_bins)[1]\n",
    "pvals"
   ]
  },
  {
   "cell_type": "markdown",
   "metadata": {},
   "source": [
    "**Campaign**"
   ]
  },
  {
   "cell_type": "code",
   "execution_count": 63,
   "metadata": {},
   "outputs": [
    {
     "data": {
      "text/plain": [
       "array([[2.952e+03, 3.920e+02, 1.540e+02, 8.400e+01, 3.400e+01, 1.700e+01,\n",
       "        9.000e+00, 1.700e+01, 0.000e+00, 4.000e+00, 1.000e+00, 1.000e+00,\n",
       "        2.000e+00, 0.000e+00, 1.000e+00],\n",
       "       [4.000e+02, 4.100e+01, 5.000e+00, 4.000e+00, 1.000e+00, 0.000e+00,\n",
       "        0.000e+00, 0.000e+00, 0.000e+00, 0.000e+00, 0.000e+00, 0.000e+00,\n",
       "        0.000e+00, 0.000e+00, 0.000e+00]])"
      ]
     },
     "execution_count": 63,
     "metadata": {},
     "output_type": "execute_result"
    }
   ],
   "source": [
    "cam_bins = np.histogram2d(data['y'], data_real['campaign'], bins=(2, 15))[0]\n",
    "cam_bins"
   ]
  },
  {
   "cell_type": "code",
   "execution_count": 64,
   "metadata": {},
   "outputs": [
    {
     "data": {
      "text/plain": [
       "array([[2952.,  392.,  154.,  170.],\n",
       "       [ 400.,   41.,    5.,    5.]])"
      ]
     },
     "execution_count": 64,
     "metadata": {},
     "output_type": "execute_result"
    }
   ],
   "source": [
    "cam_bins[:, 3] = np.sum(cam_bins[:, 3:], axis=1)\n",
    "cam_bins = cam_bins[:, :4]\n",
    "cam_bins"
   ]
  },
  {
   "cell_type": "code",
   "execution_count": 111,
   "metadata": {},
   "outputs": [
    {
     "data": {
      "text/plain": [
       "{'age': 1.24519438858919e-19,\n",
       " 'dur': 2.70516349268418e-146,\n",
       " 'cam': 9.596999267054523e-06}"
      ]
     },
     "execution_count": 111,
     "metadata": {},
     "output_type": "execute_result"
    }
   ],
   "source": [
    "pvals['cam'] = sps.chi2_contingency(cam_bins)[1]\n",
    "pvals"
   ]
  },
  {
   "cell_type": "markdown",
   "metadata": {},
   "source": [
    "**Pdays**"
   ]
  },
  {
   "cell_type": "code",
   "execution_count": 65,
   "metadata": {},
   "outputs": [
    {
     "data": {
      "text/plain": [
       "array([[  60.,    0.,    0.,    0.,    0.,    0.,    0.,    0.,    0.,\n",
       "        3608.],\n",
       "       [ 100.,    0.,    0.,    0.,    0.,    0.,    0.,    0.,    0.,\n",
       "         351.]])"
      ]
     },
     "execution_count": 65,
     "metadata": {},
     "output_type": "execute_result"
    }
   ],
   "source": [
    "pds_bins = np.histogram2d(data['y'], data_real['pdays'], bins=(2, 10))[0]\n",
    "pds_bins"
   ]
  },
  {
   "cell_type": "code",
   "execution_count": 66,
   "metadata": {},
   "outputs": [
    {
     "data": {
      "text/plain": [
       "array([[  60., 3608.],\n",
       "       [ 100.,  351.]])"
      ]
     },
     "execution_count": 66,
     "metadata": {},
     "output_type": "execute_result"
    }
   ],
   "source": [
    "pds_bins = np.array([[60., 3608.], [100., 351.]])\n",
    "pds_bins"
   ]
  },
  {
   "cell_type": "code",
   "execution_count": 112,
   "metadata": {},
   "outputs": [
    {
     "data": {
      "text/plain": [
       "{'age': 1.24519438858919e-19,\n",
       " 'dur': 2.70516349268418e-146,\n",
       " 'cam': 9.596999267054523e-06,\n",
       " 'pds': 1.7588601998828817e-99}"
      ]
     },
     "execution_count": 112,
     "metadata": {},
     "output_type": "execute_result"
    }
   ],
   "source": [
    "pvals['pds'] = sps.chi2_contingency(pds_bins)[1]\n",
    "pvals"
   ]
  },
  {
   "cell_type": "markdown",
   "metadata": {},
   "source": [
    "**Previous**"
   ]
  },
  {
   "cell_type": "code",
   "execution_count": 68,
   "metadata": {},
   "outputs": [
    {
     "data": {
      "text/plain": [
       "array([[3.231e+03, 3.760e+02, 4.600e+01, 0.000e+00, 1.000e+01, 4.000e+00,\n",
       "        0.000e+00, 1.000e+00],\n",
       "       [2.920e+02, 9.900e+01, 3.200e+01, 0.000e+00, 1.500e+01, 1.000e+01,\n",
       "        2.000e+00, 1.000e+00]])"
      ]
     },
     "execution_count": 68,
     "metadata": {},
     "output_type": "execute_result"
    }
   ],
   "source": [
    "pre_bins = np.histogram2d(data['y'], data_real['previous'], bins=(2, 8))[0]\n",
    "pre_bins"
   ]
  },
  {
   "cell_type": "code",
   "execution_count": 69,
   "metadata": {},
   "outputs": [
    {
     "data": {
      "text/plain": [
       "array([[3231.,  376.,   46.,   15.],\n",
       "       [ 292.,   99.,   32.,   28.]])"
      ]
     },
     "execution_count": 69,
     "metadata": {},
     "output_type": "execute_result"
    }
   ],
   "source": [
    "pre_bins[:, 3] = np.sum(pre_bins[:, 3:], axis=1)\n",
    "pre_bins = pre_bins[:, :4]\n",
    "pre_bins"
   ]
  },
  {
   "cell_type": "code",
   "execution_count": 113,
   "metadata": {},
   "outputs": [
    {
     "data": {
      "text/plain": [
       "{'age': 1.24519438858919e-19,\n",
       " 'dur': 2.70516349268418e-146,\n",
       " 'cam': 9.596999267054523e-06,\n",
       " 'pds': 1.7588601998828817e-99,\n",
       " 'pre': 2.533373300754248e-59}"
      ]
     },
     "execution_count": 113,
     "metadata": {},
     "output_type": "execute_result"
    }
   ],
   "source": [
    "pvals['pre'] = sps.chi2_contingency(pre_bins)[1]\n",
    "pvals"
   ]
  },
  {
   "cell_type": "markdown",
   "metadata": {},
   "source": [
    "**Cons.price.idx**"
   ]
  },
  {
   "cell_type": "code",
   "execution_count": 72,
   "metadata": {},
   "outputs": [
    {
     "data": {
      "text/plain": [
       "array([[ 107.,   30.,  777.,  882.,    8., 1391.,   38.,  435.],\n",
       "       [  50.,   28.,  121.,   55.,   12.,  114.,   31.,   40.]])"
      ]
     },
     "execution_count": 72,
     "metadata": {},
     "output_type": "execute_result"
    }
   ],
   "source": [
    "cpi_bins = np.histogram2d(data['y'], data_real['cons.price.idx'], bins=(2, 8))[0]\n",
    "cpi_bins"
   ]
  },
  {
   "cell_type": "code",
   "execution_count": 114,
   "metadata": {},
   "outputs": [
    {
     "data": {
      "text/plain": [
       "{'age': 1.24519438858919e-19,\n",
       " 'dur': 2.70516349268418e-146,\n",
       " 'cam': 9.596999267054523e-06,\n",
       " 'pds': 1.7588601998828817e-99,\n",
       " 'pre': 2.533373300754248e-59,\n",
       " 'cpi': 1.4802090852686648e-68}"
      ]
     },
     "execution_count": 114,
     "metadata": {},
     "output_type": "execute_result"
    }
   ],
   "source": [
    "pvals['cpi'] = sps.chi2_contingency(cpi_bins)[1]\n",
    "pvals"
   ]
  },
  {
   "cell_type": "markdown",
   "metadata": {},
   "source": [
    "**Cons.conf.idx**"
   ]
  },
  {
   "cell_type": "code",
   "execution_count": 74,
   "metadata": {},
   "outputs": [
    {
     "data": {
      "text/plain": [
       "array([[  39.,  721.,  993.,  491., 1275.,   33.,   71.,   45.],\n",
       "       [  30.,   78.,   60.,   98.,   83.,   39.,   40.,   23.]])"
      ]
     },
     "execution_count": 74,
     "metadata": {},
     "output_type": "execute_result"
    }
   ],
   "source": [
    "cci_bins = np.histogram2d(data['y'], data_real['cons.conf.idx'], bins=(2, 8))[0]\n",
    "cci_bins"
   ]
  },
  {
   "cell_type": "code",
   "execution_count": 115,
   "metadata": {},
   "outputs": [
    {
     "data": {
      "text/plain": [
       "{'age': 1.24519438858919e-19,\n",
       " 'dur': 2.70516349268418e-146,\n",
       " 'cam': 9.596999267054523e-06,\n",
       " 'pds': 1.7588601998828817e-99,\n",
       " 'pre': 2.533373300754248e-59,\n",
       " 'cpi': 1.4802090852686648e-68,\n",
       " 'cci': 3.2861813326186775e-83}"
      ]
     },
     "execution_count": 115,
     "metadata": {},
     "output_type": "execute_result"
    }
   ],
   "source": [
    "pvals['cci'] = sps.chi2_contingency(cci_bins)[1]\n",
    "pvals"
   ]
  },
  {
   "cell_type": "markdown",
   "metadata": {},
   "source": [
    "**Euribor3m**"
   ]
  },
  {
   "cell_type": "code",
   "execution_count": 100,
   "metadata": {},
   "outputs": [
    {
     "data": {
      "text/plain": [
       "array([[1015.,   10.,    0.,  297., 2346.],\n",
       "       [ 304.,   13.,    0.,   13.,  121.]])"
      ]
     },
     "execution_count": 100,
     "metadata": {},
     "output_type": "execute_result"
    }
   ],
   "source": [
    "eur_bins = np.histogram2d(data['y'], data_real['euribor3m'], bins=(2, 5))[0]\n",
    "eur_bins"
   ]
  },
  {
   "cell_type": "code",
   "execution_count": 101,
   "metadata": {},
   "outputs": [
    {
     "data": {
      "text/plain": [
       "array([[1015.,   10.,  297., 2346.],\n",
       "       [ 304.,   13.,   13.,  121.]])"
      ]
     },
     "execution_count": 101,
     "metadata": {},
     "output_type": "execute_result"
    }
   ],
   "source": [
    "eur_bins = np.concatenate((eur_bins[:, :2], eur_bins[:, 3:]), axis=1)\n",
    "eur_bins"
   ]
  },
  {
   "cell_type": "code",
   "execution_count": 116,
   "metadata": {},
   "outputs": [
    {
     "data": {
      "text/plain": [
       "{'age': 1.24519438858919e-19,\n",
       " 'dur': 2.70516349268418e-146,\n",
       " 'cam': 9.596999267054523e-06,\n",
       " 'pds': 1.7588601998828817e-99,\n",
       " 'pre': 2.533373300754248e-59,\n",
       " 'cpi': 1.4802090852686648e-68,\n",
       " 'cci': 3.2861813326186775e-83,\n",
       " 'eur': 2.0789304087008438e-76}"
      ]
     },
     "execution_count": 116,
     "metadata": {},
     "output_type": "execute_result"
    }
   ],
   "source": [
    "pvals['eur'] = sps.chi2_contingency(eur_bins)[1]\n",
    "pvals"
   ]
  },
  {
   "cell_type": "markdown",
   "metadata": {},
   "source": [
    "**Nr.employed**"
   ]
  },
  {
   "cell_type": "code",
   "execution_count": 103,
   "metadata": {},
   "outputs": [
    {
     "data": {
      "text/plain": [
       "array([[  90.,   96.,    0.,  107.,  732.,    0.,  734., 1909.],\n",
       "       [  80.,   89.,    0.,   57.,   91.,    0.,   25.,  109.]])"
      ]
     },
     "execution_count": 103,
     "metadata": {},
     "output_type": "execute_result"
    }
   ],
   "source": [
    "nre_bins = np.histogram2d(data['y'], data_real['nr.employed'], bins=(2, 8))[0]\n",
    "nre_bins"
   ]
  },
  {
   "cell_type": "code",
   "execution_count": 104,
   "metadata": {},
   "outputs": [
    {
     "data": {
      "text/plain": [
       "array([[  90.,   96.,  107.,  732.,  734., 1909.],\n",
       "       [  80.,   89.,   57.,   91.,   25.,  109.]])"
      ]
     },
     "execution_count": 104,
     "metadata": {},
     "output_type": "execute_result"
    }
   ],
   "source": [
    "nre_bins = np.concatenate((nre_bins[:, :2], nre_bins[:, 3:5], nre_bins[:, 6:]), axis=1)\n",
    "nre_bins"
   ]
  },
  {
   "cell_type": "code",
   "execution_count": 117,
   "metadata": {},
   "outputs": [
    {
     "data": {
      "text/plain": [
       "{'age': 1.24519438858919e-19,\n",
       " 'dur': 2.70516349268418e-146,\n",
       " 'cam': 9.596999267054523e-06,\n",
       " 'pds': 1.7588601998828817e-99,\n",
       " 'pre': 2.533373300754248e-59,\n",
       " 'cpi': 1.4802090852686648e-68,\n",
       " 'cci': 3.2861813326186775e-83,\n",
       " 'eur': 2.0789304087008438e-76,\n",
       " 'nre': 9.826192625420958e-148}"
      ]
     },
     "execution_count": 117,
     "metadata": {},
     "output_type": "execute_result"
    }
   ],
   "source": [
    "pvals['nre'] = sps.chi2_contingency(nre_bins)[1]\n",
    "pvals"
   ]
  },
  {
   "cell_type": "markdown",
   "metadata": {},
   "source": [
    "Теперь проделаем аналогично с категориальными признаками."
   ]
  },
  {
   "cell_type": "code",
   "execution_count": 177,
   "metadata": {},
   "outputs": [
    {
     "data": {
      "text/html": [
       "<div>\n",
       "<style scoped>\n",
       "    .dataframe tbody tr th:only-of-type {\n",
       "        vertical-align: middle;\n",
       "    }\n",
       "\n",
       "    .dataframe tbody tr th {\n",
       "        vertical-align: top;\n",
       "    }\n",
       "\n",
       "    .dataframe thead th {\n",
       "        text-align: right;\n",
       "    }\n",
       "</style>\n",
       "<table border=\"1\" class=\"dataframe\">\n",
       "  <thead>\n",
       "    <tr style=\"text-align: right;\">\n",
       "      <th></th>\n",
       "      <th>job</th>\n",
       "      <th>marital</th>\n",
       "      <th>education</th>\n",
       "      <th>default</th>\n",
       "      <th>housing</th>\n",
       "      <th>loan</th>\n",
       "      <th>contact</th>\n",
       "      <th>month</th>\n",
       "      <th>day_of_week</th>\n",
       "      <th>poutcome</th>\n",
       "      <th>emp.var.rate</th>\n",
       "    </tr>\n",
       "  </thead>\n",
       "  <tbody>\n",
       "    <tr>\n",
       "      <th>0</th>\n",
       "      <td>blue-collar</td>\n",
       "      <td>married</td>\n",
       "      <td>basic.9y</td>\n",
       "      <td>no</td>\n",
       "      <td>yes</td>\n",
       "      <td>no</td>\n",
       "      <td>cellular</td>\n",
       "      <td>may</td>\n",
       "      <td>fri</td>\n",
       "      <td>nonexistent</td>\n",
       "      <td>-1.8</td>\n",
       "    </tr>\n",
       "    <tr>\n",
       "      <th>1</th>\n",
       "      <td>services</td>\n",
       "      <td>single</td>\n",
       "      <td>high.school</td>\n",
       "      <td>no</td>\n",
       "      <td>no</td>\n",
       "      <td>no</td>\n",
       "      <td>telephone</td>\n",
       "      <td>may</td>\n",
       "      <td>fri</td>\n",
       "      <td>nonexistent</td>\n",
       "      <td>1.1</td>\n",
       "    </tr>\n",
       "    <tr>\n",
       "      <th>2</th>\n",
       "      <td>services</td>\n",
       "      <td>married</td>\n",
       "      <td>high.school</td>\n",
       "      <td>no</td>\n",
       "      <td>yes</td>\n",
       "      <td>no</td>\n",
       "      <td>telephone</td>\n",
       "      <td>jun</td>\n",
       "      <td>wed</td>\n",
       "      <td>nonexistent</td>\n",
       "      <td>1.4</td>\n",
       "    </tr>\n",
       "    <tr>\n",
       "      <th>3</th>\n",
       "      <td>services</td>\n",
       "      <td>married</td>\n",
       "      <td>basic.9y</td>\n",
       "      <td>no</td>\n",
       "      <td>unknown</td>\n",
       "      <td>unknown</td>\n",
       "      <td>telephone</td>\n",
       "      <td>jun</td>\n",
       "      <td>fri</td>\n",
       "      <td>nonexistent</td>\n",
       "      <td>1.4</td>\n",
       "    </tr>\n",
       "    <tr>\n",
       "      <th>4</th>\n",
       "      <td>admin.</td>\n",
       "      <td>married</td>\n",
       "      <td>university.degree</td>\n",
       "      <td>no</td>\n",
       "      <td>yes</td>\n",
       "      <td>no</td>\n",
       "      <td>cellular</td>\n",
       "      <td>nov</td>\n",
       "      <td>mon</td>\n",
       "      <td>nonexistent</td>\n",
       "      <td>-0.1</td>\n",
       "    </tr>\n",
       "    <tr>\n",
       "      <th>...</th>\n",
       "      <td>...</td>\n",
       "      <td>...</td>\n",
       "      <td>...</td>\n",
       "      <td>...</td>\n",
       "      <td>...</td>\n",
       "      <td>...</td>\n",
       "      <td>...</td>\n",
       "      <td>...</td>\n",
       "      <td>...</td>\n",
       "      <td>...</td>\n",
       "      <td>...</td>\n",
       "    </tr>\n",
       "    <tr>\n",
       "      <th>4114</th>\n",
       "      <td>admin.</td>\n",
       "      <td>married</td>\n",
       "      <td>basic.6y</td>\n",
       "      <td>no</td>\n",
       "      <td>yes</td>\n",
       "      <td>yes</td>\n",
       "      <td>cellular</td>\n",
       "      <td>jul</td>\n",
       "      <td>thu</td>\n",
       "      <td>nonexistent</td>\n",
       "      <td>1.4</td>\n",
       "    </tr>\n",
       "    <tr>\n",
       "      <th>4115</th>\n",
       "      <td>admin.</td>\n",
       "      <td>married</td>\n",
       "      <td>high.school</td>\n",
       "      <td>no</td>\n",
       "      <td>yes</td>\n",
       "      <td>no</td>\n",
       "      <td>telephone</td>\n",
       "      <td>jul</td>\n",
       "      <td>fri</td>\n",
       "      <td>nonexistent</td>\n",
       "      <td>1.4</td>\n",
       "    </tr>\n",
       "    <tr>\n",
       "      <th>4116</th>\n",
       "      <td>student</td>\n",
       "      <td>single</td>\n",
       "      <td>high.school</td>\n",
       "      <td>no</td>\n",
       "      <td>no</td>\n",
       "      <td>no</td>\n",
       "      <td>cellular</td>\n",
       "      <td>may</td>\n",
       "      <td>mon</td>\n",
       "      <td>failure</td>\n",
       "      <td>-1.8</td>\n",
       "    </tr>\n",
       "    <tr>\n",
       "      <th>4117</th>\n",
       "      <td>admin.</td>\n",
       "      <td>married</td>\n",
       "      <td>high.school</td>\n",
       "      <td>no</td>\n",
       "      <td>no</td>\n",
       "      <td>no</td>\n",
       "      <td>cellular</td>\n",
       "      <td>aug</td>\n",
       "      <td>fri</td>\n",
       "      <td>nonexistent</td>\n",
       "      <td>1.4</td>\n",
       "    </tr>\n",
       "    <tr>\n",
       "      <th>4118</th>\n",
       "      <td>management</td>\n",
       "      <td>single</td>\n",
       "      <td>high.school</td>\n",
       "      <td>no</td>\n",
       "      <td>yes</td>\n",
       "      <td>no</td>\n",
       "      <td>cellular</td>\n",
       "      <td>nov</td>\n",
       "      <td>wed</td>\n",
       "      <td>nonexistent</td>\n",
       "      <td>-0.1</td>\n",
       "    </tr>\n",
       "  </tbody>\n",
       "</table>\n",
       "<p>4119 rows × 11 columns</p>\n",
       "</div>"
      ],
      "text/plain": [
       "              job  marital          education default  housing     loan  \\\n",
       "0     blue-collar  married           basic.9y      no      yes       no   \n",
       "1        services   single        high.school      no       no       no   \n",
       "2        services  married        high.school      no      yes       no   \n",
       "3        services  married           basic.9y      no  unknown  unknown   \n",
       "4          admin.  married  university.degree      no      yes       no   \n",
       "...           ...      ...                ...     ...      ...      ...   \n",
       "4114       admin.  married           basic.6y      no      yes      yes   \n",
       "4115       admin.  married        high.school      no      yes       no   \n",
       "4116      student   single        high.school      no       no       no   \n",
       "4117       admin.  married        high.school      no       no       no   \n",
       "4118   management   single        high.school      no      yes       no   \n",
       "\n",
       "        contact month day_of_week     poutcome  emp.var.rate  \n",
       "0      cellular   may         fri  nonexistent          -1.8  \n",
       "1     telephone   may         fri  nonexistent           1.1  \n",
       "2     telephone   jun         wed  nonexistent           1.4  \n",
       "3     telephone   jun         fri  nonexistent           1.4  \n",
       "4      cellular   nov         mon  nonexistent          -0.1  \n",
       "...         ...   ...         ...          ...           ...  \n",
       "4114   cellular   jul         thu  nonexistent           1.4  \n",
       "4115  telephone   jul         fri  nonexistent           1.4  \n",
       "4116   cellular   may         mon      failure          -1.8  \n",
       "4117   cellular   aug         fri  nonexistent           1.4  \n",
       "4118   cellular   nov         wed  nonexistent          -0.1  \n",
       "\n",
       "[4119 rows x 11 columns]"
      ]
     },
     "execution_count": 177,
     "metadata": {},
     "output_type": "execute_result"
    }
   ],
   "source": [
    "columns = data.columns\n",
    "categorial_features = ['job', 'marital', 'education', 'default', 'housing', 'loan',\n",
    "                       'contact', 'month', 'day_of_week', 'poutcome', 'emp.var.rate']\n",
    "data_categorial = data[categorial_features]\n",
    "data_categorial"
   ]
  },
  {
   "cell_type": "markdown",
   "metadata": {},
   "source": [
    "**Job**"
   ]
  },
  {
   "cell_type": "code",
   "execution_count": 121,
   "metadata": {},
   "outputs": [
    {
     "data": {
      "text/plain": [
       "array([[879, 823, 140,  99, 294, 128, 146, 358,  63, 611,  92,  35],\n",
       "       [133,  61,   8,  11,  30,  38,  13,  35,  19,  80,  19,   4]],\n",
       "      dtype=int64)"
      ]
     },
     "execution_count": 121,
     "metadata": {},
     "output_type": "execute_result"
    }
   ],
   "source": [
    "job_bins = pd.crosstab(data['y'], data_categorial['job']).to_numpy()\n",
    "job_bins"
   ]
  },
  {
   "cell_type": "code",
   "execution_count": 127,
   "metadata": {},
   "outputs": [
    {
     "data": {
      "text/plain": [
       "{'age': 1.24519438858919e-19,\n",
       " 'dur': 2.70516349268418e-146,\n",
       " 'cam': 9.596999267054523e-06,\n",
       " 'pds': 1.7588601998828817e-99,\n",
       " 'pre': 2.533373300754248e-59,\n",
       " 'cpi': 1.4802090852686648e-68,\n",
       " 'cci': 3.2861813326186775e-83,\n",
       " 'eur': 2.0789304087008438e-76,\n",
       " 'nre': 9.826192625420958e-148,\n",
       " 'job': 1.2331316121045092e-10}"
      ]
     },
     "execution_count": 127,
     "metadata": {},
     "output_type": "execute_result"
    }
   ],
   "source": [
    "pvals['job'] = sps.chi2_contingency(job_bins)[1]\n",
    "pvals"
   ]
  },
  {
   "cell_type": "markdown",
   "metadata": {},
   "source": [
    "**Marital**"
   ]
  },
  {
   "cell_type": "code",
   "execution_count": 129,
   "metadata": {},
   "outputs": [
    {
     "data": {
      "text/plain": [
       "array([[ 403, 2257,  998,   10],\n",
       "       [  43,  252,  155,    1]], dtype=int64)"
      ]
     },
     "execution_count": 129,
     "metadata": {},
     "output_type": "execute_result"
    }
   ],
   "source": [
    "mar_bins = pd.crosstab(data['y'], data_categorial['marital']).to_numpy()\n",
    "mar_bins"
   ]
  },
  {
   "cell_type": "code",
   "execution_count": 131,
   "metadata": {},
   "outputs": [
    {
     "data": {
      "text/plain": [
       "array([[ 403, 2257, 1008],\n",
       "       [  43,  252,  156]], dtype=int64)"
      ]
     },
     "execution_count": 131,
     "metadata": {},
     "output_type": "execute_result"
    }
   ],
   "source": [
    "mar_bins[:, 2] = mar_bins[:, 2] + mar_bins[:, 3]\n",
    "mar_bins = mar_bins[:, :3]\n",
    "mar_bins"
   ]
  },
  {
   "cell_type": "code",
   "execution_count": 132,
   "metadata": {},
   "outputs": [
    {
     "data": {
      "text/plain": [
       "{'age': 1.24519438858919e-19,\n",
       " 'dur': 2.70516349268418e-146,\n",
       " 'cam': 9.596999267054523e-06,\n",
       " 'pds': 1.7588601998828817e-99,\n",
       " 'pre': 2.533373300754248e-59,\n",
       " 'cpi': 1.4802090852686648e-68,\n",
       " 'cci': 3.2861813326186775e-83,\n",
       " 'eur': 2.0789304087008438e-76,\n",
       " 'nre': 9.826192625420958e-148,\n",
       " 'job': 1.2331316121045092e-10,\n",
       " 'mar': 0.00649242524706353}"
      ]
     },
     "execution_count": 132,
     "metadata": {},
     "output_type": "execute_result"
    }
   ],
   "source": [
    "pvals['mar'] = sps.chi2_contingency(mar_bins)[1]\n",
    "pvals"
   ]
  },
  {
   "cell_type": "markdown",
   "metadata": {},
   "source": [
    "**Education**"
   ]
  },
  {
   "cell_type": "code",
   "execution_count": 133,
   "metadata": {},
   "outputs": [
    {
     "data": {
      "text/plain": [
       "array([[ 391,  211,  531,  824,    1,  470, 1099,  141],\n",
       "       [  38,   17,   43,   97,    0,   65,  165,   26]], dtype=int64)"
      ]
     },
     "execution_count": 133,
     "metadata": {},
     "output_type": "execute_result"
    }
   ],
   "source": [
    "edu_bins = pd.crosstab(data['y'], data_categorial['education']).to_numpy()\n",
    "edu_bins"
   ]
  },
  {
   "cell_type": "code",
   "execution_count": 134,
   "metadata": {},
   "outputs": [
    {
     "data": {
      "text/plain": [
       "array([[ 391,  211,  531,  824,  471, 1099,  141],\n",
       "       [  38,   17,   43,   97,   65,  165,   26]], dtype=int64)"
      ]
     },
     "execution_count": 134,
     "metadata": {},
     "output_type": "execute_result"
    }
   ],
   "source": [
    "edu_bins[:, 5] = edu_bins[:, 4] + edu_bins[:, 5]\n",
    "edu_bins = np.concatenate((edu_bins[:, :4], edu_bins[:, 5:]), axis=1)\n",
    "edu_bins"
   ]
  },
  {
   "cell_type": "code",
   "execution_count": 135,
   "metadata": {},
   "outputs": [
    {
     "data": {
      "text/plain": [
       "{'age': 1.24519438858919e-19,\n",
       " 'dur': 2.70516349268418e-146,\n",
       " 'cam': 9.596999267054523e-06,\n",
       " 'pds': 1.7588601998828817e-99,\n",
       " 'pre': 2.533373300754248e-59,\n",
       " 'cpi': 1.4802090852686648e-68,\n",
       " 'cci': 3.2861813326186775e-83,\n",
       " 'eur': 2.0789304087008438e-76,\n",
       " 'nre': 9.826192625420958e-148,\n",
       " 'job': 1.2331316121045092e-10,\n",
       " 'mar': 0.00649242524706353,\n",
       " 'edu': 0.001141790031304449}"
      ]
     },
     "execution_count": 135,
     "metadata": {},
     "output_type": "execute_result"
    }
   ],
   "source": [
    "pvals['edu'] = sps.chi2_contingency(edu_bins)[1]\n",
    "pvals"
   ]
  },
  {
   "cell_type": "markdown",
   "metadata": {},
   "source": [
    "**Default**"
   ]
  },
  {
   "cell_type": "code",
   "execution_count": 136,
   "metadata": {},
   "outputs": [
    {
     "data": {
      "text/plain": [
       "array([[2913,  754,    1],\n",
       "       [ 402,   49,    0]], dtype=int64)"
      ]
     },
     "execution_count": 136,
     "metadata": {},
     "output_type": "execute_result"
    }
   ],
   "source": [
    "def_bins = pd.crosstab(data['y'], data_categorial['default']).to_numpy()\n",
    "def_bins"
   ]
  },
  {
   "cell_type": "code",
   "execution_count": 137,
   "metadata": {},
   "outputs": [
    {
     "data": {
      "text/plain": [
       "array([[2913,  755],\n",
       "       [ 402,   49]], dtype=int64)"
      ]
     },
     "execution_count": 137,
     "metadata": {},
     "output_type": "execute_result"
    }
   ],
   "source": [
    "def_bins[:, 1] = def_bins[:, 1] + def_bins[:, 2]\n",
    "def_bins = def_bins[:, :2]\n",
    "def_bins"
   ]
  },
  {
   "cell_type": "code",
   "execution_count": 138,
   "metadata": {},
   "outputs": [
    {
     "data": {
      "text/plain": [
       "{'age': 1.24519438858919e-19,\n",
       " 'dur': 2.70516349268418e-146,\n",
       " 'cam': 9.596999267054523e-06,\n",
       " 'pds': 1.7588601998828817e-99,\n",
       " 'pre': 2.533373300754248e-59,\n",
       " 'cpi': 1.4802090852686648e-68,\n",
       " 'cci': 3.2861813326186775e-83,\n",
       " 'eur': 2.0789304087008438e-76,\n",
       " 'nre': 9.826192625420958e-148,\n",
       " 'job': 1.2331316121045092e-10,\n",
       " 'mar': 0.00649242524706353,\n",
       " 'edu': 0.001141790031304449,\n",
       " 'def': 1.2280066428029374e-06}"
      ]
     },
     "execution_count": 138,
     "metadata": {},
     "output_type": "execute_result"
    }
   ],
   "source": [
    "pvals['def'] = sps.chi2_contingency(def_bins)[1]\n",
    "pvals"
   ]
  },
  {
   "cell_type": "markdown",
   "metadata": {},
   "source": [
    "**Housing**"
   ]
  },
  {
   "cell_type": "code",
   "execution_count": 139,
   "metadata": {},
   "outputs": [
    {
     "data": {
      "text/plain": [
       "array([[1637,   96, 1935],\n",
       "       [ 202,    9,  240]], dtype=int64)"
      ]
     },
     "execution_count": 139,
     "metadata": {},
     "output_type": "execute_result"
    }
   ],
   "source": [
    "hou_bins = pd.crosstab(data['y'], data_categorial['housing']).to_numpy()\n",
    "hou_bins"
   ]
  },
  {
   "cell_type": "code",
   "execution_count": 140,
   "metadata": {},
   "outputs": [
    {
     "data": {
      "text/plain": [
       "{'age': 1.24519438858919e-19,\n",
       " 'dur': 2.70516349268418e-146,\n",
       " 'cam': 9.596999267054523e-06,\n",
       " 'pds': 1.7588601998828817e-99,\n",
       " 'pre': 2.533373300754248e-59,\n",
       " 'cpi': 1.4802090852686648e-68,\n",
       " 'cci': 3.2861813326186775e-83,\n",
       " 'eur': 2.0789304087008438e-76,\n",
       " 'nre': 9.826192625420958e-148,\n",
       " 'job': 1.2331316121045092e-10,\n",
       " 'mar': 0.00649242524706353,\n",
       " 'edu': 0.001141790031304449,\n",
       " 'def': 1.2280066428029374e-06,\n",
       " 'hou': 0.730743991844591}"
      ]
     },
     "execution_count": 140,
     "metadata": {},
     "output_type": "execute_result"
    }
   ],
   "source": [
    "pvals['hou'] = sps.chi2_contingency(hou_bins)[1]\n",
    "pvals"
   ]
  },
  {
   "cell_type": "markdown",
   "metadata": {},
   "source": [
    "**Loan**"
   ]
  },
  {
   "cell_type": "code",
   "execution_count": 141,
   "metadata": {},
   "outputs": [
    {
     "data": {
      "text/plain": [
       "array([[2975,   96,  597],\n",
       "       [ 374,    9,   68]], dtype=int64)"
      ]
     },
     "execution_count": 141,
     "metadata": {},
     "output_type": "execute_result"
    }
   ],
   "source": [
    "loa_bins = pd.crosstab(data['y'], data_categorial['loan']).to_numpy()\n",
    "loa_bins"
   ]
  },
  {
   "cell_type": "code",
   "execution_count": 142,
   "metadata": {},
   "outputs": [
    {
     "data": {
      "text/plain": [
       "{'age': 1.24519438858919e-19,\n",
       " 'dur': 2.70516349268418e-146,\n",
       " 'cam': 9.596999267054523e-06,\n",
       " 'pds': 1.7588601998828817e-99,\n",
       " 'pre': 2.533373300754248e-59,\n",
       " 'cpi': 1.4802090852686648e-68,\n",
       " 'cci': 3.2861813326186775e-83,\n",
       " 'eur': 2.0789304087008438e-76,\n",
       " 'nre': 9.826192625420958e-148,\n",
       " 'job': 1.2331316121045092e-10,\n",
       " 'mar': 0.00649242524706353,\n",
       " 'edu': 0.001141790031304449,\n",
       " 'def': 1.2280066428029374e-06,\n",
       " 'hou': 0.730743991844591,\n",
       " 'loa': 0.5684489495019593}"
      ]
     },
     "execution_count": 142,
     "metadata": {},
     "output_type": "execute_result"
    }
   ],
   "source": [
    "pvals['loa'] = sps.chi2_contingency(loa_bins)[1]\n",
    "pvals"
   ]
  },
  {
   "cell_type": "markdown",
   "metadata": {},
   "source": [
    "**Contact**"
   ]
  },
  {
   "cell_type": "code",
   "execution_count": 143,
   "metadata": {},
   "outputs": [
    {
     "data": {
      "text/plain": [
       "array([[2277, 1391],\n",
       "       [ 375,   76]], dtype=int64)"
      ]
     },
     "execution_count": 143,
     "metadata": {},
     "output_type": "execute_result"
    }
   ],
   "source": [
    "con_bins = pd.crosstab(data['y'], data_categorial['contact']).to_numpy()\n",
    "con_bins"
   ]
  },
  {
   "cell_type": "code",
   "execution_count": 144,
   "metadata": {},
   "outputs": [
    {
     "data": {
      "text/plain": [
       "{'age': 1.24519438858919e-19,\n",
       " 'dur': 2.70516349268418e-146,\n",
       " 'cam': 9.596999267054523e-06,\n",
       " 'pds': 1.7588601998828817e-99,\n",
       " 'pre': 2.533373300754248e-59,\n",
       " 'cpi': 1.4802090852686648e-68,\n",
       " 'cci': 3.2861813326186775e-83,\n",
       " 'eur': 2.0789304087008438e-76,\n",
       " 'nre': 9.826192625420958e-148,\n",
       " 'job': 1.2331316121045092e-10,\n",
       " 'mar': 0.00649242524706353,\n",
       " 'edu': 0.001141790031304449,\n",
       " 'def': 1.2280066428029374e-06,\n",
       " 'hou': 0.730743991844591,\n",
       " 'loa': 0.5684489495019593,\n",
       " 'con': 1.8479997217891733e-18}"
      ]
     },
     "execution_count": 144,
     "metadata": {},
     "output_type": "execute_result"
    }
   ],
   "source": [
    "pvals['con'] = sps.chi2_contingency(con_bins)[1]\n",
    "pvals"
   ]
  },
  {
   "cell_type": "markdown",
   "metadata": {},
   "source": [
    "**Month**"
   ]
  },
  {
   "cell_type": "code",
   "execution_count": 145,
   "metadata": {},
   "outputs": [
    {
     "data": {
      "text/plain": [
       "array([[ 179,  572,   10,  652,  462,   20, 1288,  403,   44,   38],\n",
       "       [  36,   64,   12,   59,   68,   28,   90,   43,   25,   26]],\n",
       "      dtype=int64)"
      ]
     },
     "execution_count": 145,
     "metadata": {},
     "output_type": "execute_result"
    }
   ],
   "source": [
    "mon_bins = pd.crosstab(data['y'], data_categorial['month']).to_numpy()\n",
    "mon_bins"
   ]
  },
  {
   "cell_type": "code",
   "execution_count": 146,
   "metadata": {},
   "outputs": [
    {
     "data": {
      "text/plain": [
       "{'age': 1.24519438858919e-19,\n",
       " 'dur': 2.70516349268418e-146,\n",
       " 'cam': 9.596999267054523e-06,\n",
       " 'pds': 1.7588601998828817e-99,\n",
       " 'pre': 2.533373300754248e-59,\n",
       " 'cpi': 1.4802090852686648e-68,\n",
       " 'cci': 3.2861813326186775e-83,\n",
       " 'eur': 2.0789304087008438e-76,\n",
       " 'nre': 9.826192625420958e-148,\n",
       " 'job': 1.2331316121045092e-10,\n",
       " 'mar': 0.00649242524706353,\n",
       " 'edu': 0.001141790031304449,\n",
       " 'def': 1.2280066428029374e-06,\n",
       " 'hou': 0.730743991844591,\n",
       " 'loa': 0.5684489495019593,\n",
       " 'con': 1.8479997217891733e-18,\n",
       " 'mon': 2.8948750374216133e-59}"
      ]
     },
     "execution_count": 146,
     "metadata": {},
     "output_type": "execute_result"
    }
   ],
   "source": [
    "pvals['mon'] = sps.chi2_contingency(mon_bins)[1]\n",
    "pvals"
   ]
  },
  {
   "cell_type": "markdown",
   "metadata": {},
   "source": [
    "**Day_of_week**"
   ]
  },
  {
   "cell_type": "code",
   "execution_count": 147,
   "metadata": {},
   "outputs": [
    {
     "data": {
      "text/plain": [
       "array([[685, 757, 764, 750, 712],\n",
       "       [ 83,  98,  96,  91,  83]], dtype=int64)"
      ]
     },
     "execution_count": 147,
     "metadata": {},
     "output_type": "execute_result"
    }
   ],
   "source": [
    "dow_bins = pd.crosstab(data['y'], data_categorial['day_of_week']).to_numpy()\n",
    "dow_bins"
   ]
  },
  {
   "cell_type": "code",
   "execution_count": 148,
   "metadata": {},
   "outputs": [
    {
     "data": {
      "text/plain": [
       "{'age': 1.24519438858919e-19,\n",
       " 'dur': 2.70516349268418e-146,\n",
       " 'cam': 9.596999267054523e-06,\n",
       " 'pds': 1.7588601998828817e-99,\n",
       " 'pre': 2.533373300754248e-59,\n",
       " 'cpi': 1.4802090852686648e-68,\n",
       " 'cci': 3.2861813326186775e-83,\n",
       " 'eur': 2.0789304087008438e-76,\n",
       " 'nre': 9.826192625420958e-148,\n",
       " 'job': 1.2331316121045092e-10,\n",
       " 'mar': 0.00649242524706353,\n",
       " 'edu': 0.001141790031304449,\n",
       " 'def': 1.2280066428029374e-06,\n",
       " 'hou': 0.730743991844591,\n",
       " 'loa': 0.5684489495019593,\n",
       " 'con': 1.8479997217891733e-18,\n",
       " 'mon': 2.8948750374216133e-59,\n",
       " 'dow': 0.9723048648716545}"
      ]
     },
     "execution_count": 148,
     "metadata": {},
     "output_type": "execute_result"
    }
   ],
   "source": [
    "pvals['dow'] = sps.chi2_contingency(dow_bins)[1]\n",
    "pvals"
   ]
  },
  {
   "cell_type": "markdown",
   "metadata": {},
   "source": [
    "**Poutcome**"
   ]
  },
  {
   "cell_type": "code",
   "execution_count": 149,
   "metadata": {},
   "outputs": [
    {
     "data": {
      "text/plain": [
       "array([[ 387, 3231,   50],\n",
       "       [  67,  292,   92]], dtype=int64)"
      ]
     },
     "execution_count": 149,
     "metadata": {},
     "output_type": "execute_result"
    }
   ],
   "source": [
    "pou_bins = pd.crosstab(data['y'], data_categorial['poutcome']).to_numpy()\n",
    "pou_bins"
   ]
  },
  {
   "cell_type": "code",
   "execution_count": 150,
   "metadata": {},
   "outputs": [
    {
     "data": {
      "text/plain": [
       "{'age': 1.24519438858919e-19,\n",
       " 'dur': 2.70516349268418e-146,\n",
       " 'cam': 9.596999267054523e-06,\n",
       " 'pds': 1.7588601998828817e-99,\n",
       " 'pre': 2.533373300754248e-59,\n",
       " 'cpi': 1.4802090852686648e-68,\n",
       " 'cci': 3.2861813326186775e-83,\n",
       " 'eur': 2.0789304087008438e-76,\n",
       " 'nre': 9.826192625420958e-148,\n",
       " 'job': 1.2331316121045092e-10,\n",
       " 'mar': 0.00649242524706353,\n",
       " 'edu': 0.001141790031304449,\n",
       " 'def': 1.2280066428029374e-06,\n",
       " 'hou': 0.730743991844591,\n",
       " 'loa': 0.5684489495019593,\n",
       " 'con': 1.8479997217891733e-18,\n",
       " 'mon': 2.8948750374216133e-59,\n",
       " 'dow': 0.9723048648716545,\n",
       " 'pou': 2.0394130608178665e-99}"
      ]
     },
     "execution_count": 150,
     "metadata": {},
     "output_type": "execute_result"
    }
   ],
   "source": [
    "pvals['pou'] = sps.chi2_contingency(pou_bins)[1]\n",
    "pvals"
   ]
  },
  {
   "cell_type": "markdown",
   "metadata": {},
   "source": [
    "**Emp.var.rate**"
   ]
  },
  {
   "cell_type": "code",
   "execution_count": 154,
   "metadata": {},
   "outputs": [
    {
     "data": {
      "text/plain": [
       "array([[  65,    9,  107,  754,   42,   48,    1,  372,  733, 1537],\n",
       "       [  39,   12,   57,  129,   45,   35,    0,   20,   25,   89]],\n",
       "      dtype=int64)"
      ]
     },
     "execution_count": 154,
     "metadata": {},
     "output_type": "execute_result"
    }
   ],
   "source": [
    "evr_bins = pd.crosstab(data['y'], data_categorial['emp.var.rate']).to_numpy()\n",
    "evr_bins"
   ]
  },
  {
   "cell_type": "code",
   "execution_count": 155,
   "metadata": {},
   "outputs": [
    {
     "data": {
      "text/plain": [
       "array([[  65,    9,  107,  754,   42,   49,  372,  733, 1537],\n",
       "       [  39,   12,   57,  129,   45,   35,   20,   25,   89]],\n",
       "      dtype=int64)"
      ]
     },
     "execution_count": 155,
     "metadata": {},
     "output_type": "execute_result"
    }
   ],
   "source": [
    "evr_bins[:, 5] = evr_bins[:, 5] + evr_bins[:, 6]\n",
    "evr_bins = np.concatenate((evr_bins[:, :6], evr_bins[:, 7:]), axis=1)\n",
    "evr_bins"
   ]
  },
  {
   "cell_type": "code",
   "execution_count": 156,
   "metadata": {},
   "outputs": [
    {
     "data": {
      "text/plain": [
       "{'age': 1.24519438858919e-19,\n",
       " 'dur': 2.70516349268418e-146,\n",
       " 'cam': 9.596999267054523e-06,\n",
       " 'pds': 1.7588601998828817e-99,\n",
       " 'pre': 2.533373300754248e-59,\n",
       " 'cpi': 1.4802090852686648e-68,\n",
       " 'cci': 3.2861813326186775e-83,\n",
       " 'eur': 2.0789304087008438e-76,\n",
       " 'nre': 9.826192625420958e-148,\n",
       " 'job': 1.2331316121045092e-10,\n",
       " 'mar': 0.00649242524706353,\n",
       " 'edu': 0.001141790031304449,\n",
       " 'def': 1.2280066428029374e-06,\n",
       " 'hou': 0.730743991844591,\n",
       " 'loa': 0.5684489495019593,\n",
       " 'con': 1.8479997217891733e-18,\n",
       " 'mon': 2.8948750374216133e-59,\n",
       " 'dow': 0.9723048648716545,\n",
       " 'pou': 2.0394130608178665e-99,\n",
       " 'evr': 2.259978863653242e-117}"
      ]
     },
     "execution_count": 156,
     "metadata": {},
     "output_type": "execute_result"
    }
   ],
   "source": [
    "pvals['evr'] = sps.chi2_contingency(evr_bins)[1]\n",
    "pvals"
   ]
  },
  {
   "cell_type": "markdown",
   "metadata": {},
   "source": [
    "Соберем данные в таблицу и визуализируем скорректированные p-value."
   ]
  },
  {
   "cell_type": "code",
   "execution_count": 162,
   "metadata": {},
   "outputs": [
    {
     "data": {
      "text/plain": [
       "array([1.24519439e-019, 2.70516349e-146, 9.59699927e-006, 1.75886020e-099,\n",
       "       2.53337330e-059, 1.48020909e-068, 3.28618133e-083, 2.07893041e-076,\n",
       "       9.82619263e-148, 1.23313161e-010, 6.49242525e-003, 1.14179003e-003,\n",
       "       1.22800664e-006, 7.30743992e-001, 5.68448950e-001, 1.84799972e-018,\n",
       "       2.89487504e-059, 9.72304865e-001, 2.03941306e-099, 2.25997886e-117])"
      ]
     },
     "execution_count": 162,
     "metadata": {},
     "output_type": "execute_result"
    }
   ],
   "source": [
    "pval_arr = np.array([*pvals.values()])\n",
    "pval_arr"
   ]
  },
  {
   "cell_type": "code",
   "execution_count": 165,
   "metadata": {},
   "outputs": [
    {
     "data": {
      "text/plain": [
       "array(['age', 'dur', 'cam', 'pds', 'pre', 'cpi', 'cci', 'eur', 'nre',\n",
       "       'job', 'mar', 'edu', 'def', 'hou', 'loa', 'con', 'mon', 'dow',\n",
       "       'pou', 'evr'], dtype='<U3')"
      ]
     },
     "execution_count": 165,
     "metadata": {},
     "output_type": "execute_result"
    }
   ],
   "source": [
    "names_arr = np.array([*pvals.keys()])\n",
    "names_arr"
   ]
  },
  {
   "cell_type": "code",
   "execution_count": 164,
   "metadata": {},
   "outputs": [
    {
     "data": {
      "text/plain": [
       "(array([ True,  True,  True,  True,  True,  True,  True,  True,  True,\n",
       "         True,  True,  True,  True, False, False,  True,  True, False,\n",
       "         True,  True]),\n",
       " array([8.14524588e-019, 9.73247398e-145, 4.60366731e-005, 2.93491090e-098,\n",
       "        2.02542613e-058, 1.33135173e-067, 3.94094163e-082, 2.13698582e-075,\n",
       "        7.07041658e-146, 6.82536385e-010, 2.74800656e-002, 5.13482909e-003,\n",
       "        6.31149743e-006, 1.00000000e+000, 1.00000000e+000, 1.10810365e-017,\n",
       "        2.08300134e-058, 1.00000000e+000, 2.93491090e-098, 5.42054372e-116]))"
      ]
     },
     "execution_count": 164,
     "metadata": {},
     "output_type": "execute_result"
    }
   ],
   "source": [
    "alpha = 0.1\n",
    "reject, pvalscorr = multipletests(pvals=pval_arr, alpha=alpha, method='fdr_by', is_sorted=False)[:2]\n",
    "reject, pvalscorr"
   ]
  },
  {
   "cell_type": "code",
   "execution_count": 194,
   "metadata": {},
   "outputs": [
    {
     "data": {
      "text/html": [
       "<div>\n",
       "<style scoped>\n",
       "    .dataframe tbody tr th:only-of-type {\n",
       "        vertical-align: middle;\n",
       "    }\n",
       "\n",
       "    .dataframe tbody tr th {\n",
       "        vertical-align: top;\n",
       "    }\n",
       "\n",
       "    .dataframe thead th {\n",
       "        text-align: right;\n",
       "    }\n",
       "</style>\n",
       "<table border=\"1\" class=\"dataframe\">\n",
       "  <thead>\n",
       "    <tr style=\"text-align: right;\">\n",
       "      <th></th>\n",
       "      <th>pvals</th>\n",
       "      <th>pvalscorr</th>\n",
       "      <th>reject</th>\n",
       "    </tr>\n",
       "  </thead>\n",
       "  <tbody>\n",
       "    <tr>\n",
       "      <th>dow</th>\n",
       "      <td>9.723049e-01</td>\n",
       "      <td>1.000000e+00</td>\n",
       "      <td>False</td>\n",
       "    </tr>\n",
       "    <tr>\n",
       "      <th>hou</th>\n",
       "      <td>7.307440e-01</td>\n",
       "      <td>1.000000e+00</td>\n",
       "      <td>False</td>\n",
       "    </tr>\n",
       "    <tr>\n",
       "      <th>loa</th>\n",
       "      <td>5.684489e-01</td>\n",
       "      <td>1.000000e+00</td>\n",
       "      <td>False</td>\n",
       "    </tr>\n",
       "    <tr>\n",
       "      <th>mar</th>\n",
       "      <td>6.492425e-03</td>\n",
       "      <td>2.748007e-02</td>\n",
       "      <td>True</td>\n",
       "    </tr>\n",
       "    <tr>\n",
       "      <th>edu</th>\n",
       "      <td>1.141790e-03</td>\n",
       "      <td>5.134829e-03</td>\n",
       "      <td>True</td>\n",
       "    </tr>\n",
       "    <tr>\n",
       "      <th>cam</th>\n",
       "      <td>9.596999e-06</td>\n",
       "      <td>4.603667e-05</td>\n",
       "      <td>True</td>\n",
       "    </tr>\n",
       "    <tr>\n",
       "      <th>def</th>\n",
       "      <td>1.228007e-06</td>\n",
       "      <td>6.311497e-06</td>\n",
       "      <td>True</td>\n",
       "    </tr>\n",
       "    <tr>\n",
       "      <th>job</th>\n",
       "      <td>1.233132e-10</td>\n",
       "      <td>6.825364e-10</td>\n",
       "      <td>True</td>\n",
       "    </tr>\n",
       "    <tr>\n",
       "      <th>con</th>\n",
       "      <td>1.848000e-18</td>\n",
       "      <td>1.108104e-17</td>\n",
       "      <td>True</td>\n",
       "    </tr>\n",
       "    <tr>\n",
       "      <th>age</th>\n",
       "      <td>1.245194e-19</td>\n",
       "      <td>8.145246e-19</td>\n",
       "      <td>True</td>\n",
       "    </tr>\n",
       "    <tr>\n",
       "      <th>mon</th>\n",
       "      <td>2.894875e-59</td>\n",
       "      <td>2.083001e-58</td>\n",
       "      <td>True</td>\n",
       "    </tr>\n",
       "    <tr>\n",
       "      <th>pre</th>\n",
       "      <td>2.533373e-59</td>\n",
       "      <td>2.025426e-58</td>\n",
       "      <td>True</td>\n",
       "    </tr>\n",
       "    <tr>\n",
       "      <th>cpi</th>\n",
       "      <td>1.480209e-68</td>\n",
       "      <td>1.331352e-67</td>\n",
       "      <td>True</td>\n",
       "    </tr>\n",
       "    <tr>\n",
       "      <th>eur</th>\n",
       "      <td>2.078930e-76</td>\n",
       "      <td>2.136986e-75</td>\n",
       "      <td>True</td>\n",
       "    </tr>\n",
       "    <tr>\n",
       "      <th>cci</th>\n",
       "      <td>3.286181e-83</td>\n",
       "      <td>3.940942e-82</td>\n",
       "      <td>True</td>\n",
       "    </tr>\n",
       "    <tr>\n",
       "      <th>pou</th>\n",
       "      <td>2.039413e-99</td>\n",
       "      <td>2.934911e-98</td>\n",
       "      <td>True</td>\n",
       "    </tr>\n",
       "    <tr>\n",
       "      <th>pds</th>\n",
       "      <td>1.758860e-99</td>\n",
       "      <td>2.934911e-98</td>\n",
       "      <td>True</td>\n",
       "    </tr>\n",
       "    <tr>\n",
       "      <th>evr</th>\n",
       "      <td>2.259979e-117</td>\n",
       "      <td>5.420544e-116</td>\n",
       "      <td>True</td>\n",
       "    </tr>\n",
       "    <tr>\n",
       "      <th>dur</th>\n",
       "      <td>2.705163e-146</td>\n",
       "      <td>9.732474e-145</td>\n",
       "      <td>True</td>\n",
       "    </tr>\n",
       "    <tr>\n",
       "      <th>nre</th>\n",
       "      <td>9.826193e-148</td>\n",
       "      <td>7.070417e-146</td>\n",
       "      <td>True</td>\n",
       "    </tr>\n",
       "  </tbody>\n",
       "</table>\n",
       "</div>"
      ],
      "text/plain": [
       "             pvals      pvalscorr  reject\n",
       "dow   9.723049e-01   1.000000e+00   False\n",
       "hou   7.307440e-01   1.000000e+00   False\n",
       "loa   5.684489e-01   1.000000e+00   False\n",
       "mar   6.492425e-03   2.748007e-02    True\n",
       "edu   1.141790e-03   5.134829e-03    True\n",
       "cam   9.596999e-06   4.603667e-05    True\n",
       "def   1.228007e-06   6.311497e-06    True\n",
       "job   1.233132e-10   6.825364e-10    True\n",
       "con   1.848000e-18   1.108104e-17    True\n",
       "age   1.245194e-19   8.145246e-19    True\n",
       "mon   2.894875e-59   2.083001e-58    True\n",
       "pre   2.533373e-59   2.025426e-58    True\n",
       "cpi   1.480209e-68   1.331352e-67    True\n",
       "eur   2.078930e-76   2.136986e-75    True\n",
       "cci   3.286181e-83   3.940942e-82    True\n",
       "pou   2.039413e-99   2.934911e-98    True\n",
       "pds   1.758860e-99   2.934911e-98    True\n",
       "evr  2.259979e-117  5.420544e-116    True\n",
       "dur  2.705163e-146  9.732474e-145    True\n",
       "nre  9.826193e-148  7.070417e-146    True"
      ]
     },
     "execution_count": 194,
     "metadata": {},
     "output_type": "execute_result"
    }
   ],
   "source": [
    "df = pd.DataFrame({'pvals' : pval_arr, 'pvalscorr' : pvalscorr, \n",
    "                   'reject' : reject}, index=names_arr).sort_values(by='pvals', ascending=False)\n",
    "df"
   ]
  },
  {
   "cell_type": "code",
   "execution_count": 195,
   "metadata": {},
   "outputs": [
    {
     "data": {
      "text/plain": [
       "Text(0.5, 0, 'pvalue в гипотезе о независимости')"
      ]
     },
     "execution_count": 195,
     "metadata": {},
     "output_type": "execute_result"
    },
    {
     "data": {
      "image/png": "[encoded data removed]",
      "text/plain": [
       "<Figure size 720x1080 with 1 Axes>"
      ]
     },
     "metadata": {
      "needs_background": "light"
     },
     "output_type": "display_data"
    }
   ],
   "source": [
    "plt.figure(figsize=(10, 15))\n",
    "sns.barplot(y=df.index, x=df['pvalscorr'])\n",
    "plt.title('pvalue в гипотезе о независимости параметра от подписания клиентом срочного депозита')\n",
    "plt.xlabel('pvalue в гипотезе о независимости')"
   ]
  },
  {
   "cell_type": "markdown",
   "metadata": {},
   "source": [
    "Вторая часть: вычислив важность признаков, полученной с помощью Random Forest, разбив предварительно данные на обучающую и тестовую части."
   ]
  },
  {
   "cell_type": "code",
   "execution_count": 168,
   "metadata": {},
   "outputs": [
    {
     "data": {
      "text/html": [
       "<div>\n",
       "<style scoped>\n",
       "    .dataframe tbody tr th:only-of-type {\n",
       "        vertical-align: middle;\n",
       "    }\n",
       "\n",
       "    .dataframe tbody tr th {\n",
       "        vertical-align: top;\n",
       "    }\n",
       "\n",
       "    .dataframe thead th {\n",
       "        text-align: right;\n",
       "    }\n",
       "</style>\n",
       "<table border=\"1\" class=\"dataframe\">\n",
       "  <thead>\n",
       "    <tr style=\"text-align: right;\">\n",
       "      <th></th>\n",
       "      <th>age</th>\n",
       "      <th>duration</th>\n",
       "      <th>campaign</th>\n",
       "      <th>pdays</th>\n",
       "      <th>previous</th>\n",
       "      <th>emp.var.rate</th>\n",
       "      <th>cons.price.idx</th>\n",
       "      <th>cons.conf.idx</th>\n",
       "      <th>euribor3m</th>\n",
       "      <th>nr.employed</th>\n",
       "      <th>...</th>\n",
       "      <th>day_of_week_fri</th>\n",
       "      <th>day_of_week_mon</th>\n",
       "      <th>day_of_week_thu</th>\n",
       "      <th>day_of_week_tue</th>\n",
       "      <th>day_of_week_wed</th>\n",
       "      <th>poutcome_failure</th>\n",
       "      <th>poutcome_nonexistent</th>\n",
       "      <th>poutcome_success</th>\n",
       "      <th>y_0</th>\n",
       "      <th>y_1</th>\n",
       "    </tr>\n",
       "  </thead>\n",
       "  <tbody>\n",
       "    <tr>\n",
       "      <th>0</th>\n",
       "      <td>30</td>\n",
       "      <td>487</td>\n",
       "      <td>2</td>\n",
       "      <td>999</td>\n",
       "      <td>0</td>\n",
       "      <td>-1.8</td>\n",
       "      <td>92.893</td>\n",
       "      <td>-46.2</td>\n",
       "      <td>1.313</td>\n",
       "      <td>5099.1</td>\n",
       "      <td>...</td>\n",
       "      <td>1</td>\n",
       "      <td>0</td>\n",
       "      <td>0</td>\n",
       "      <td>0</td>\n",
       "      <td>0</td>\n",
       "      <td>0</td>\n",
       "      <td>1</td>\n",
       "      <td>0</td>\n",
       "      <td>1</td>\n",
       "      <td>0</td>\n",
       "    </tr>\n",
       "    <tr>\n",
       "      <th>1</th>\n",
       "      <td>39</td>\n",
       "      <td>346</td>\n",
       "      <td>4</td>\n",
       "      <td>999</td>\n",
       "      <td>0</td>\n",
       "      <td>1.1</td>\n",
       "      <td>93.994</td>\n",
       "      <td>-36.4</td>\n",
       "      <td>4.855</td>\n",
       "      <td>5191.0</td>\n",
       "      <td>...</td>\n",
       "      <td>1</td>\n",
       "      <td>0</td>\n",
       "      <td>0</td>\n",
       "      <td>0</td>\n",
       "      <td>0</td>\n",
       "      <td>0</td>\n",
       "      <td>1</td>\n",
       "      <td>0</td>\n",
       "      <td>1</td>\n",
       "      <td>0</td>\n",
       "    </tr>\n",
       "    <tr>\n",
       "      <th>2</th>\n",
       "      <td>25</td>\n",
       "      <td>227</td>\n",
       "      <td>1</td>\n",
       "      <td>999</td>\n",
       "      <td>0</td>\n",
       "      <td>1.4</td>\n",
       "      <td>94.465</td>\n",
       "      <td>-41.8</td>\n",
       "      <td>4.962</td>\n",
       "      <td>5228.1</td>\n",
       "      <td>...</td>\n",
       "      <td>0</td>\n",
       "      <td>0</td>\n",
       "      <td>0</td>\n",
       "      <td>0</td>\n",
       "      <td>1</td>\n",
       "      <td>0</td>\n",
       "      <td>1</td>\n",
       "      <td>0</td>\n",
       "      <td>1</td>\n",
       "      <td>0</td>\n",
       "    </tr>\n",
       "    <tr>\n",
       "      <th>3</th>\n",
       "      <td>38</td>\n",
       "      <td>17</td>\n",
       "      <td>3</td>\n",
       "      <td>999</td>\n",
       "      <td>0</td>\n",
       "      <td>1.4</td>\n",
       "      <td>94.465</td>\n",
       "      <td>-41.8</td>\n",
       "      <td>4.959</td>\n",
       "      <td>5228.1</td>\n",
       "      <td>...</td>\n",
       "      <td>1</td>\n",
       "      <td>0</td>\n",
       "      <td>0</td>\n",
       "      <td>0</td>\n",
       "      <td>0</td>\n",
       "      <td>0</td>\n",
       "      <td>1</td>\n",
       "      <td>0</td>\n",
       "      <td>1</td>\n",
       "      <td>0</td>\n",
       "    </tr>\n",
       "    <tr>\n",
       "      <th>4</th>\n",
       "      <td>47</td>\n",
       "      <td>58</td>\n",
       "      <td>1</td>\n",
       "      <td>999</td>\n",
       "      <td>0</td>\n",
       "      <td>-0.1</td>\n",
       "      <td>93.200</td>\n",
       "      <td>-42.0</td>\n",
       "      <td>4.191</td>\n",
       "      <td>5195.8</td>\n",
       "      <td>...</td>\n",
       "      <td>0</td>\n",
       "      <td>1</td>\n",
       "      <td>0</td>\n",
       "      <td>0</td>\n",
       "      <td>0</td>\n",
       "      <td>0</td>\n",
       "      <td>1</td>\n",
       "      <td>0</td>\n",
       "      <td>1</td>\n",
       "      <td>0</td>\n",
       "    </tr>\n",
       "    <tr>\n",
       "      <th>...</th>\n",
       "      <td>...</td>\n",
       "      <td>...</td>\n",
       "      <td>...</td>\n",
       "      <td>...</td>\n",
       "      <td>...</td>\n",
       "      <td>...</td>\n",
       "      <td>...</td>\n",
       "      <td>...</td>\n",
       "      <td>...</td>\n",
       "      <td>...</td>\n",
       "      <td>...</td>\n",
       "      <td>...</td>\n",
       "      <td>...</td>\n",
       "      <td>...</td>\n",
       "      <td>...</td>\n",
       "      <td>...</td>\n",
       "      <td>...</td>\n",
       "      <td>...</td>\n",
       "      <td>...</td>\n",
       "      <td>...</td>\n",
       "      <td>...</td>\n",
       "    </tr>\n",
       "    <tr>\n",
       "      <th>4114</th>\n",
       "      <td>30</td>\n",
       "      <td>53</td>\n",
       "      <td>1</td>\n",
       "      <td>999</td>\n",
       "      <td>0</td>\n",
       "      <td>1.4</td>\n",
       "      <td>93.918</td>\n",
       "      <td>-42.7</td>\n",
       "      <td>4.958</td>\n",
       "      <td>5228.1</td>\n",
       "      <td>...</td>\n",
       "      <td>0</td>\n",
       "      <td>0</td>\n",
       "      <td>1</td>\n",
       "      <td>0</td>\n",
       "      <td>0</td>\n",
       "      <td>0</td>\n",
       "      <td>1</td>\n",
       "      <td>0</td>\n",
       "      <td>1</td>\n",
       "      <td>0</td>\n",
       "    </tr>\n",
       "    <tr>\n",
       "      <th>4115</th>\n",
       "      <td>39</td>\n",
       "      <td>219</td>\n",
       "      <td>1</td>\n",
       "      <td>999</td>\n",
       "      <td>0</td>\n",
       "      <td>1.4</td>\n",
       "      <td>93.918</td>\n",
       "      <td>-42.7</td>\n",
       "      <td>4.959</td>\n",
       "      <td>5228.1</td>\n",
       "      <td>...</td>\n",
       "      <td>1</td>\n",
       "      <td>0</td>\n",
       "      <td>0</td>\n",
       "      <td>0</td>\n",
       "      <td>0</td>\n",
       "      <td>0</td>\n",
       "      <td>1</td>\n",
       "      <td>0</td>\n",
       "      <td>1</td>\n",
       "      <td>0</td>\n",
       "    </tr>\n",
       "    <tr>\n",
       "      <th>4116</th>\n",
       "      <td>27</td>\n",
       "      <td>64</td>\n",
       "      <td>2</td>\n",
       "      <td>999</td>\n",
       "      <td>1</td>\n",
       "      <td>-1.8</td>\n",
       "      <td>92.893</td>\n",
       "      <td>-46.2</td>\n",
       "      <td>1.354</td>\n",
       "      <td>5099.1</td>\n",
       "      <td>...</td>\n",
       "      <td>0</td>\n",
       "      <td>1</td>\n",
       "      <td>0</td>\n",
       "      <td>0</td>\n",
       "      <td>0</td>\n",
       "      <td>1</td>\n",
       "      <td>0</td>\n",
       "      <td>0</td>\n",
       "      <td>1</td>\n",
       "      <td>0</td>\n",
       "    </tr>\n",
       "    <tr>\n",
       "      <th>4117</th>\n",
       "      <td>58</td>\n",
       "      <td>528</td>\n",
       "      <td>1</td>\n",
       "      <td>999</td>\n",
       "      <td>0</td>\n",
       "      <td>1.4</td>\n",
       "      <td>93.444</td>\n",
       "      <td>-36.1</td>\n",
       "      <td>4.966</td>\n",
       "      <td>5228.1</td>\n",
       "      <td>...</td>\n",
       "      <td>1</td>\n",
       "      <td>0</td>\n",
       "      <td>0</td>\n",
       "      <td>0</td>\n",
       "      <td>0</td>\n",
       "      <td>0</td>\n",
       "      <td>1</td>\n",
       "      <td>0</td>\n",
       "      <td>1</td>\n",
       "      <td>0</td>\n",
       "    </tr>\n",
       "    <tr>\n",
       "      <th>4118</th>\n",
       "      <td>34</td>\n",
       "      <td>175</td>\n",
       "      <td>1</td>\n",
       "      <td>999</td>\n",
       "      <td>0</td>\n",
       "      <td>-0.1</td>\n",
       "      <td>93.200</td>\n",
       "      <td>-42.0</td>\n",
       "      <td>4.120</td>\n",
       "      <td>5195.8</td>\n",
       "      <td>...</td>\n",
       "      <td>0</td>\n",
       "      <td>0</td>\n",
       "      <td>0</td>\n",
       "      <td>0</td>\n",
       "      <td>1</td>\n",
       "      <td>0</td>\n",
       "      <td>1</td>\n",
       "      <td>0</td>\n",
       "      <td>1</td>\n",
       "      <td>0</td>\n",
       "    </tr>\n",
       "  </tbody>\n",
       "</table>\n",
       "<p>4119 rows × 65 columns</p>\n",
       "</div>"
      ],
      "text/plain": [
       "      age  duration  campaign  pdays  previous  emp.var.rate  cons.price.idx  \\\n",
       "0      30       487         2    999         0          -1.8          92.893   \n",
       "1      39       346         4    999         0           1.1          93.994   \n",
       "2      25       227         1    999         0           1.4          94.465   \n",
       "3      38        17         3    999         0           1.4          94.465   \n",
       "4      47        58         1    999         0          -0.1          93.200   \n",
       "...   ...       ...       ...    ...       ...           ...             ...   \n",
       "4114   30        53         1    999         0           1.4          93.918   \n",
       "4115   39       219         1    999         0           1.4          93.918   \n",
       "4116   27        64         2    999         1          -1.8          92.893   \n",
       "4117   58       528         1    999         0           1.4          93.444   \n",
       "4118   34       175         1    999         0          -0.1          93.200   \n",
       "\n",
       "      cons.conf.idx  euribor3m  nr.employed  ...  day_of_week_fri  \\\n",
       "0             -46.2      1.313       5099.1  ...                1   \n",
       "1             -36.4      4.855       5191.0  ...                1   \n",
       "2             -41.8      4.962       5228.1  ...                0   \n",
       "3             -41.8      4.959       5228.1  ...                1   \n",
       "4             -42.0      4.191       5195.8  ...                0   \n",
       "...             ...        ...          ...  ...              ...   \n",
       "4114          -42.7      4.958       5228.1  ...                0   \n",
       "4115          -42.7      4.959       5228.1  ...                1   \n",
       "4116          -46.2      1.354       5099.1  ...                0   \n",
       "4117          -36.1      4.966       5228.1  ...                1   \n",
       "4118          -42.0      4.120       5195.8  ...                0   \n",
       "\n",
       "      day_of_week_mon  day_of_week_thu  day_of_week_tue  day_of_week_wed  \\\n",
       "0                   0                0                0                0   \n",
       "1                   0                0                0                0   \n",
       "2                   0                0                0                1   \n",
       "3                   0                0                0                0   \n",
       "4                   1                0                0                0   \n",
       "...               ...              ...              ...              ...   \n",
       "4114                0                1                0                0   \n",
       "4115                0                0                0                0   \n",
       "4116                1                0                0                0   \n",
       "4117                0                0                0                0   \n",
       "4118                0                0                0                1   \n",
       "\n",
       "      poutcome_failure  poutcome_nonexistent  poutcome_success  y_0  y_1  \n",
       "0                    0                     1                 0    1    0  \n",
       "1                    0                     1                 0    1    0  \n",
       "2                    0                     1                 0    1    0  \n",
       "3                    0                     1                 0    1    0  \n",
       "4                    0                     1                 0    1    0  \n",
       "...                ...                   ...               ...  ...  ...  \n",
       "4114                 0                     1                 0    1    0  \n",
       "4115                 0                     1                 0    1    0  \n",
       "4116                 1                     0                 0    1    0  \n",
       "4117                 0                     1                 0    1    0  \n",
       "4118                 0                     1                 0    1    0  \n",
       "\n",
       "[4119 rows x 65 columns]"
      ]
     },
     "execution_count": 168,
     "metadata": {},
     "output_type": "execute_result"
    }
   ],
   "source": [
    "enc_data = pd.get_dummies(data)\n",
    "enc_data"
   ]
  },
  {
   "cell_type": "code",
   "execution_count": 179,
   "metadata": {},
   "outputs": [
    {
     "data": {
      "text/html": [
       "<div>\n",
       "<style scoped>\n",
       "    .dataframe tbody tr th:only-of-type {\n",
       "        vertical-align: middle;\n",
       "    }\n",
       "\n",
       "    .dataframe tbody tr th {\n",
       "        vertical-align: top;\n",
       "    }\n",
       "\n",
       "    .dataframe thead th {\n",
       "        text-align: right;\n",
       "    }\n",
       "</style>\n",
       "<table border=\"1\" class=\"dataframe\">\n",
       "  <thead>\n",
       "    <tr style=\"text-align: right;\">\n",
       "      <th></th>\n",
       "      <th>emp.var.rate</th>\n",
       "      <th>job_admin.</th>\n",
       "      <th>job_blue-collar</th>\n",
       "      <th>job_entrepreneur</th>\n",
       "      <th>job_housemaid</th>\n",
       "      <th>job_management</th>\n",
       "      <th>job_retired</th>\n",
       "      <th>job_self-employed</th>\n",
       "      <th>job_services</th>\n",
       "      <th>job_student</th>\n",
       "      <th>...</th>\n",
       "      <th>poutcome_success</th>\n",
       "      <th>age</th>\n",
       "      <th>duration</th>\n",
       "      <th>campaign</th>\n",
       "      <th>pdays</th>\n",
       "      <th>previous</th>\n",
       "      <th>cons.price.idx</th>\n",
       "      <th>cons.conf.idx</th>\n",
       "      <th>euribor3m</th>\n",
       "      <th>nr.employed</th>\n",
       "    </tr>\n",
       "  </thead>\n",
       "  <tbody>\n",
       "    <tr>\n",
       "      <th>0</th>\n",
       "      <td>-1.8</td>\n",
       "      <td>0</td>\n",
       "      <td>1</td>\n",
       "      <td>0</td>\n",
       "      <td>0</td>\n",
       "      <td>0</td>\n",
       "      <td>0</td>\n",
       "      <td>0</td>\n",
       "      <td>0</td>\n",
       "      <td>0</td>\n",
       "      <td>...</td>\n",
       "      <td>0</td>\n",
       "      <td>30</td>\n",
       "      <td>487</td>\n",
       "      <td>2</td>\n",
       "      <td>999</td>\n",
       "      <td>0</td>\n",
       "      <td>92.893</td>\n",
       "      <td>-46.2</td>\n",
       "      <td>1.313</td>\n",
       "      <td>5099.1</td>\n",
       "    </tr>\n",
       "    <tr>\n",
       "      <th>1</th>\n",
       "      <td>1.1</td>\n",
       "      <td>0</td>\n",
       "      <td>0</td>\n",
       "      <td>0</td>\n",
       "      <td>0</td>\n",
       "      <td>0</td>\n",
       "      <td>0</td>\n",
       "      <td>0</td>\n",
       "      <td>1</td>\n",
       "      <td>0</td>\n",
       "      <td>...</td>\n",
       "      <td>0</td>\n",
       "      <td>39</td>\n",
       "      <td>346</td>\n",
       "      <td>4</td>\n",
       "      <td>999</td>\n",
       "      <td>0</td>\n",
       "      <td>93.994</td>\n",
       "      <td>-36.4</td>\n",
       "      <td>4.855</td>\n",
       "      <td>5191.0</td>\n",
       "    </tr>\n",
       "    <tr>\n",
       "      <th>2</th>\n",
       "      <td>1.4</td>\n",
       "      <td>0</td>\n",
       "      <td>0</td>\n",
       "      <td>0</td>\n",
       "      <td>0</td>\n",
       "      <td>0</td>\n",
       "      <td>0</td>\n",
       "      <td>0</td>\n",
       "      <td>1</td>\n",
       "      <td>0</td>\n",
       "      <td>...</td>\n",
       "      <td>0</td>\n",
       "      <td>25</td>\n",
       "      <td>227</td>\n",
       "      <td>1</td>\n",
       "      <td>999</td>\n",
       "      <td>0</td>\n",
       "      <td>94.465</td>\n",
       "      <td>-41.8</td>\n",
       "      <td>4.962</td>\n",
       "      <td>5228.1</td>\n",
       "    </tr>\n",
       "    <tr>\n",
       "      <th>3</th>\n",
       "      <td>1.4</td>\n",
       "      <td>0</td>\n",
       "      <td>0</td>\n",
       "      <td>0</td>\n",
       "      <td>0</td>\n",
       "      <td>0</td>\n",
       "      <td>0</td>\n",
       "      <td>0</td>\n",
       "      <td>1</td>\n",
       "      <td>0</td>\n",
       "      <td>...</td>\n",
       "      <td>0</td>\n",
       "      <td>38</td>\n",
       "      <td>17</td>\n",
       "      <td>3</td>\n",
       "      <td>999</td>\n",
       "      <td>0</td>\n",
       "      <td>94.465</td>\n",
       "      <td>-41.8</td>\n",
       "      <td>4.959</td>\n",
       "      <td>5228.1</td>\n",
       "    </tr>\n",
       "    <tr>\n",
       "      <th>4</th>\n",
       "      <td>-0.1</td>\n",
       "      <td>1</td>\n",
       "      <td>0</td>\n",
       "      <td>0</td>\n",
       "      <td>0</td>\n",
       "      <td>0</td>\n",
       "      <td>0</td>\n",
       "      <td>0</td>\n",
       "      <td>0</td>\n",
       "      <td>0</td>\n",
       "      <td>...</td>\n",
       "      <td>0</td>\n",
       "      <td>47</td>\n",
       "      <td>58</td>\n",
       "      <td>1</td>\n",
       "      <td>999</td>\n",
       "      <td>0</td>\n",
       "      <td>93.200</td>\n",
       "      <td>-42.0</td>\n",
       "      <td>4.191</td>\n",
       "      <td>5195.8</td>\n",
       "    </tr>\n",
       "    <tr>\n",
       "      <th>...</th>\n",
       "      <td>...</td>\n",
       "      <td>...</td>\n",
       "      <td>...</td>\n",
       "      <td>...</td>\n",
       "      <td>...</td>\n",
       "      <td>...</td>\n",
       "      <td>...</td>\n",
       "      <td>...</td>\n",
       "      <td>...</td>\n",
       "      <td>...</td>\n",
       "      <td>...</td>\n",
       "      <td>...</td>\n",
       "      <td>...</td>\n",
       "      <td>...</td>\n",
       "      <td>...</td>\n",
       "      <td>...</td>\n",
       "      <td>...</td>\n",
       "      <td>...</td>\n",
       "      <td>...</td>\n",
       "      <td>...</td>\n",
       "      <td>...</td>\n",
       "    </tr>\n",
       "    <tr>\n",
       "      <th>4114</th>\n",
       "      <td>1.4</td>\n",
       "      <td>1</td>\n",
       "      <td>0</td>\n",
       "      <td>0</td>\n",
       "      <td>0</td>\n",
       "      <td>0</td>\n",
       "      <td>0</td>\n",
       "      <td>0</td>\n",
       "      <td>0</td>\n",
       "      <td>0</td>\n",
       "      <td>...</td>\n",
       "      <td>0</td>\n",
       "      <td>30</td>\n",
       "      <td>53</td>\n",
       "      <td>1</td>\n",
       "      <td>999</td>\n",
       "      <td>0</td>\n",
       "      <td>93.918</td>\n",
       "      <td>-42.7</td>\n",
       "      <td>4.958</td>\n",
       "      <td>5228.1</td>\n",
       "    </tr>\n",
       "    <tr>\n",
       "      <th>4115</th>\n",
       "      <td>1.4</td>\n",
       "      <td>1</td>\n",
       "      <td>0</td>\n",
       "      <td>0</td>\n",
       "      <td>0</td>\n",
       "      <td>0</td>\n",
       "      <td>0</td>\n",
       "      <td>0</td>\n",
       "      <td>0</td>\n",
       "      <td>0</td>\n",
       "      <td>...</td>\n",
       "      <td>0</td>\n",
       "      <td>39</td>\n",
       "      <td>219</td>\n",
       "      <td>1</td>\n",
       "      <td>999</td>\n",
       "      <td>0</td>\n",
       "      <td>93.918</td>\n",
       "      <td>-42.7</td>\n",
       "      <td>4.959</td>\n",
       "      <td>5228.1</td>\n",
       "    </tr>\n",
       "    <tr>\n",
       "      <th>4116</th>\n",
       "      <td>-1.8</td>\n",
       "      <td>0</td>\n",
       "      <td>0</td>\n",
       "      <td>0</td>\n",
       "      <td>0</td>\n",
       "      <td>0</td>\n",
       "      <td>0</td>\n",
       "      <td>0</td>\n",
       "      <td>0</td>\n",
       "      <td>1</td>\n",
       "      <td>...</td>\n",
       "      <td>0</td>\n",
       "      <td>27</td>\n",
       "      <td>64</td>\n",
       "      <td>2</td>\n",
       "      <td>999</td>\n",
       "      <td>1</td>\n",
       "      <td>92.893</td>\n",
       "      <td>-46.2</td>\n",
       "      <td>1.354</td>\n",
       "      <td>5099.1</td>\n",
       "    </tr>\n",
       "    <tr>\n",
       "      <th>4117</th>\n",
       "      <td>1.4</td>\n",
       "      <td>1</td>\n",
       "      <td>0</td>\n",
       "      <td>0</td>\n",
       "      <td>0</td>\n",
       "      <td>0</td>\n",
       "      <td>0</td>\n",
       "      <td>0</td>\n",
       "      <td>0</td>\n",
       "      <td>0</td>\n",
       "      <td>...</td>\n",
       "      <td>0</td>\n",
       "      <td>58</td>\n",
       "      <td>528</td>\n",
       "      <td>1</td>\n",
       "      <td>999</td>\n",
       "      <td>0</td>\n",
       "      <td>93.444</td>\n",
       "      <td>-36.1</td>\n",
       "      <td>4.966</td>\n",
       "      <td>5228.1</td>\n",
       "    </tr>\n",
       "    <tr>\n",
       "      <th>4118</th>\n",
       "      <td>-0.1</td>\n",
       "      <td>0</td>\n",
       "      <td>0</td>\n",
       "      <td>0</td>\n",
       "      <td>0</td>\n",
       "      <td>1</td>\n",
       "      <td>0</td>\n",
       "      <td>0</td>\n",
       "      <td>0</td>\n",
       "      <td>0</td>\n",
       "      <td>...</td>\n",
       "      <td>0</td>\n",
       "      <td>34</td>\n",
       "      <td>175</td>\n",
       "      <td>1</td>\n",
       "      <td>999</td>\n",
       "      <td>0</td>\n",
       "      <td>93.200</td>\n",
       "      <td>-42.0</td>\n",
       "      <td>4.120</td>\n",
       "      <td>5195.8</td>\n",
       "    </tr>\n",
       "  </tbody>\n",
       "</table>\n",
       "<p>4119 rows × 63 columns</p>\n",
       "</div>"
      ],
      "text/plain": [
       "      emp.var.rate  job_admin.  job_blue-collar  job_entrepreneur  \\\n",
       "0             -1.8           0                1                 0   \n",
       "1              1.1           0                0                 0   \n",
       "2              1.4           0                0                 0   \n",
       "3              1.4           0                0                 0   \n",
       "4             -0.1           1                0                 0   \n",
       "...            ...         ...              ...               ...   \n",
       "4114           1.4           1                0                 0   \n",
       "4115           1.4           1                0                 0   \n",
       "4116          -1.8           0                0                 0   \n",
       "4117           1.4           1                0                 0   \n",
       "4118          -0.1           0                0                 0   \n",
       "\n",
       "      job_housemaid  job_management  job_retired  job_self-employed  \\\n",
       "0                 0               0            0                  0   \n",
       "1                 0               0            0                  0   \n",
       "2                 0               0            0                  0   \n",
       "3                 0               0            0                  0   \n",
       "4                 0               0            0                  0   \n",
       "...             ...             ...          ...                ...   \n",
       "4114              0               0            0                  0   \n",
       "4115              0               0            0                  0   \n",
       "4116              0               0            0                  0   \n",
       "4117              0               0            0                  0   \n",
       "4118              0               1            0                  0   \n",
       "\n",
       "      job_services  job_student  ...  poutcome_success  age  duration  \\\n",
       "0                0            0  ...                 0   30       487   \n",
       "1                1            0  ...                 0   39       346   \n",
       "2                1            0  ...                 0   25       227   \n",
       "3                1            0  ...                 0   38        17   \n",
       "4                0            0  ...                 0   47        58   \n",
       "...            ...          ...  ...               ...  ...       ...   \n",
       "4114             0            0  ...                 0   30        53   \n",
       "4115             0            0  ...                 0   39       219   \n",
       "4116             0            1  ...                 0   27        64   \n",
       "4117             0            0  ...                 0   58       528   \n",
       "4118             0            0  ...                 0   34       175   \n",
       "\n",
       "      campaign  pdays  previous  cons.price.idx  cons.conf.idx  euribor3m  \\\n",
       "0            2    999         0          92.893          -46.2      1.313   \n",
       "1            4    999         0          93.994          -36.4      4.855   \n",
       "2            1    999         0          94.465          -41.8      4.962   \n",
       "3            3    999         0          94.465          -41.8      4.959   \n",
       "4            1    999         0          93.200          -42.0      4.191   \n",
       "...        ...    ...       ...             ...            ...        ...   \n",
       "4114         1    999         0          93.918          -42.7      4.958   \n",
       "4115         1    999         0          93.918          -42.7      4.959   \n",
       "4116         2    999         1          92.893          -46.2      1.354   \n",
       "4117         1    999         0          93.444          -36.1      4.966   \n",
       "4118         1    999         0          93.200          -42.0      4.120   \n",
       "\n",
       "      nr.employed  \n",
       "0          5099.1  \n",
       "1          5191.0  \n",
       "2          5228.1  \n",
       "3          5228.1  \n",
       "4          5195.8  \n",
       "...           ...  \n",
       "4114       5228.1  \n",
       "4115       5228.1  \n",
       "4116       5099.1  \n",
       "4117       5228.1  \n",
       "4118       5195.8  \n",
       "\n",
       "[4119 rows x 63 columns]"
      ]
     },
     "execution_count": 179,
     "metadata": {},
     "output_type": "execute_result"
    }
   ],
   "source": [
    "enc_data = pd.get_dummies(data_categorial)\n",
    "enc_data = enc_data.join(data_real)\n",
    "enc_data"
   ]
  },
  {
   "cell_type": "code",
   "execution_count": 180,
   "metadata": {},
   "outputs": [
    {
     "data": {
      "text/plain": [
       "0       0\n",
       "1       0\n",
       "2       0\n",
       "3       0\n",
       "4       0\n",
       "       ..\n",
       "4114    0\n",
       "4115    0\n",
       "4116    0\n",
       "4117    0\n",
       "4118    0\n",
       "Name: y, Length: 4119, dtype: object"
      ]
     },
     "execution_count": 180,
     "metadata": {},
     "output_type": "execute_result"
    }
   ],
   "source": [
    "y = data['y']\n",
    "y"
   ]
  },
  {
   "cell_type": "code",
   "execution_count": 183,
   "metadata": {},
   "outputs": [
    {
     "data": {
      "text/plain": [
       "RandomForestRegressor()"
      ]
     },
     "execution_count": 183,
     "metadata": {},
     "output_type": "execute_result"
    }
   ],
   "source": [
    "rf = RandomForestRegressor(n_estimators=100)\n",
    "rf.fit(enc_data, y)"
   ]
  },
  {
   "cell_type": "code",
   "execution_count": 193,
   "metadata": {},
   "outputs": [
    {
     "data": {
      "text/plain": [
       "duration                0.320276\n",
       "nr.employed             0.161383\n",
       "age                     0.074384\n",
       "euribor3m               0.066385\n",
       "campaign                0.029559\n",
       "                          ...   \n",
       "marital_unknown         0.001105\n",
       "housing_unknown         0.000975\n",
       "loan_unknown            0.000858\n",
       "education_illiterate    0.000000\n",
       "default_yes             0.000000\n",
       "Length: 63, dtype: float64"
      ]
     },
     "execution_count": 193,
     "metadata": {},
     "output_type": "execute_result"
    }
   ],
   "source": [
    "fi = pd.Series(rf.feature_importances_, enc_data.columns)\n",
    "fi = fi.sort_values(ascending=False)\n",
    "fi"
   ]
  },
  {
   "cell_type": "code",
   "execution_count": 192,
   "metadata": {},
   "outputs": [
    {
     "data": {
      "text/plain": [
       "Text(0.5, 0, 'Важность признаков по Random Forest')"
      ]
     },
     "execution_count": 192,
     "metadata": {},
     "output_type": "execute_result"
    },
    {
     "data": {
      "image/png": "[encoded data removed]",
      "text/plain": [
       "<Figure size 720x1080 with 1 Axes>"
      ]
     },
     "metadata": {
      "needs_background": "light"
     },
     "output_type": "display_data"
    }
   ],
   "source": [
    "plt.figure(figsize=(10, 15))\n",
    "sns.barplot(y=fi.index, x=fi)\n",
    "plt.title('Влияние параметров на подписание клиентом срочного депозита')\n",
    "plt.xlabel('Важность признаков по Random Forest')"
   ]
  },
  {
   "cell_type": "markdown",
   "metadata": {},
   "source": [
    "**Вывод:** мы исследовали зависимость таргета от признаков двумя способами: с помощью критерия Пирсона для проверки независимости выборок и с помощью обученного `RandomForestRegressor`. Первый показал нам p-value, с помощью которого мы отвергали/не отвергали гипотезу о независимости выборок. В первом случае мы не отвергли независимость лишь трех параметров: `day_of_week`, `loan` и `housing`. Стоит отметить, что второй способ показал незначительную зависимость таргета от этих признаков, что нам позволяет сказать, что действительно эти признаки практически независимы с таргетом. Второй способ нам показал важность признаков для таргета, посчитанную с помощью обученного `RandomForestRegressor`. Самыми важными признаками стали `duration`, `nr.employed` и `age`, которые уверенно отверглись первым способом в гипотезе о независимости, из чего можно сделать вывод, что действительно эти признаки сильно влияют на таргет. Единственное, я не понял, зачем делить выборку на трейн и тест в данном случае, да и в семинарском ноутбуке мы не делили выборку, а обучались на всей. Мы же ничего не обучаем и не собираемся обучать, а, разделяя выборку, мы теряем часть данных (возможно, это помогает нам не переобучиться, но, кажется, `RandomForestRegressor` не страдает от такой проблемы). Объясните, пожалуйста, зачем это было делать:)."
   ]
  }
 ],
 "metadata": {
  "kernelspec": {
   "display_name": "Python 3 (ipykernel)",
   "language": "python",
   "name": "python3"
  },
  "language_info": {
   "codemirror_mode": {
    "name": "ipython",
    "version": 3
   },
   "file_extension": ".py",
   "mimetype": "text/x-python",
   "name": "python",
   "nbconvert_exporter": "python",
   "pygments_lexer": "ipython3",
   "version": "3.9.12"
  }
 },
 "nbformat": 4,
 "nbformat_minor": 2
}
