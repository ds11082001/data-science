{
 "cells": [
  {
   "cell_type": "markdown",
   "metadata": {},
   "source": [
    "# Прикладная статистика и анализ данных\n",
    "## Задание 2.11\n",
    "\n",
    "\n",
    "**Правила:**\n",
    "\n",
    "* Выполненную работу нужно отправить телеграм-боту `@miptstats_ad21_bot`.\n",
    "* Дедлайны см. в боте. После дедлайна работы не принимаются кроме случаев наличия уважительной причины.\n",
    "* Прислать нужно ноутбук в формате `ipynb`.\n",
    "* Теоретические задачи необходимо оформить в latex/markdown и прислать `pdf` или же прислать фотку в правильной ориентации рукописного решения, где **все четко видно**.\n",
    "* Решения, размещенные на каких-либо интернет-ресурсах не принимаются. Публикация решения может быть приравнена к предоставлении возможности списать.\n",
    "* Для выполнения задания используйте этот ноутбук в качестве основы, ничего не удаляя из него.\n",
    "* Никакой код из данного задания при проверке запускаться не будет.\n",
    "* В каждой задаче не забывайте делать **пояснения и выводы**.\n",
    "\n",
    "**Баллы за задание:**\n",
    "\n",
    "* Задача 1 &mdash; 10 баллов;\n",
    "* Задача 2 &mdash; 3 балла."
   ]
  },
  {
   "cell_type": "markdown",
   "metadata": {},
   "source": [
    "### Задача 1.\n",
    "\n",
    "Повторите исследование из задачи 6 задания 2.7 (про интернет-магазин) для методов CUPED и CUPAC."
   ]
  },
  {
   "cell_type": "code",
   "execution_count": 59,
   "metadata": {},
   "outputs": [],
   "source": [
    "import scipy.stats as sps\n",
    "import numpy as np\n",
    "import matplotlib.pyplot as plt\n",
    "import pandas as pd\n",
    "from tqdm.notebook import tqdm\n",
    "import seaborn as sns\n",
    "from sklearn.ensemble import RandomForestRegressor"
   ]
  },
  {
   "cell_type": "code",
   "execution_count": 60,
   "metadata": {},
   "outputs": [
    {
     "name": "stdout",
     "output_type": "stream",
     "text": [
      "CPU times: total: 59 s\n",
      "Wall time: 59 s\n"
     ]
    }
   ],
   "source": [
    "%%time\n",
    "data = pd.read_excel('archive (3)/Online Retail.xlsx')"
   ]
  },
  {
   "cell_type": "code",
   "execution_count": 156,
   "metadata": {},
   "outputs": [
    {
     "name": "stdout",
     "output_type": "stream",
     "text": [
      "<class 'pandas.core.frame.DataFrame'>\n",
      "RangeIndex: 541909 entries, 0 to 541908\n",
      "Data columns (total 8 columns):\n",
      " #   Column       Non-Null Count   Dtype         \n",
      "---  ------       --------------   -----         \n",
      " 0   InvoiceNo    541909 non-null  object        \n",
      " 1   StockCode    541909 non-null  object        \n",
      " 2   Description  540455 non-null  object        \n",
      " 3   Quantity     541909 non-null  int64         \n",
      " 4   InvoiceDate  541909 non-null  datetime64[ns]\n",
      " 5   UnitPrice    541909 non-null  float64       \n",
      " 6   CustomerID   406829 non-null  float64       \n",
      " 7   Country      541909 non-null  object        \n",
      "dtypes: datetime64[ns](1), float64(2), int64(1), object(4)\n",
      "memory usage: 33.1+ MB\n"
     ]
    }
   ],
   "source": [
    "data.info()"
   ]
  },
  {
   "cell_type": "code",
   "execution_count": 157,
   "metadata": {},
   "outputs": [
    {
     "data": {
      "text/html": [
       "<div>\n",
       "<style scoped>\n",
       "    .dataframe tbody tr th:only-of-type {\n",
       "        vertical-align: middle;\n",
       "    }\n",
       "\n",
       "    .dataframe tbody tr th {\n",
       "        vertical-align: top;\n",
       "    }\n",
       "\n",
       "    .dataframe thead th {\n",
       "        text-align: right;\n",
       "    }\n",
       "</style>\n",
       "<table border=\"1\" class=\"dataframe\">\n",
       "  <thead>\n",
       "    <tr style=\"text-align: right;\">\n",
       "      <th></th>\n",
       "      <th>InvoiceNo</th>\n",
       "      <th>StockCode</th>\n",
       "      <th>Description</th>\n",
       "      <th>Quantity</th>\n",
       "      <th>InvoiceDate</th>\n",
       "      <th>UnitPrice</th>\n",
       "      <th>CustomerID</th>\n",
       "      <th>Country</th>\n",
       "    </tr>\n",
       "  </thead>\n",
       "  <tbody>\n",
       "    <tr>\n",
       "      <th>142083</th>\n",
       "      <td>548550</td>\n",
       "      <td>22662</td>\n",
       "      <td>LUNCH BAG DOLLY GIRL DESIGN</td>\n",
       "      <td>10</td>\n",
       "      <td>2011-04-01 08:22:00</td>\n",
       "      <td>1.65</td>\n",
       "      <td>18161.0</td>\n",
       "      <td>United Kingdom</td>\n",
       "    </tr>\n",
       "    <tr>\n",
       "      <th>142084</th>\n",
       "      <td>548550</td>\n",
       "      <td>22296</td>\n",
       "      <td>HEART IVORY TRELLIS LARGE</td>\n",
       "      <td>12</td>\n",
       "      <td>2011-04-01 08:22:00</td>\n",
       "      <td>1.65</td>\n",
       "      <td>18161.0</td>\n",
       "      <td>United Kingdom</td>\n",
       "    </tr>\n",
       "    <tr>\n",
       "      <th>142085</th>\n",
       "      <td>548550</td>\n",
       "      <td>21790</td>\n",
       "      <td>VINTAGE SNAP CARDS</td>\n",
       "      <td>12</td>\n",
       "      <td>2011-04-01 08:22:00</td>\n",
       "      <td>0.85</td>\n",
       "      <td>18161.0</td>\n",
       "      <td>United Kingdom</td>\n",
       "    </tr>\n",
       "    <tr>\n",
       "      <th>142086</th>\n",
       "      <td>548550</td>\n",
       "      <td>22622</td>\n",
       "      <td>BOX OF VINTAGE ALPHABET BLOCKS</td>\n",
       "      <td>2</td>\n",
       "      <td>2011-04-01 08:22:00</td>\n",
       "      <td>9.95</td>\n",
       "      <td>18161.0</td>\n",
       "      <td>United Kingdom</td>\n",
       "    </tr>\n",
       "    <tr>\n",
       "      <th>142087</th>\n",
       "      <td>548550</td>\n",
       "      <td>22393</td>\n",
       "      <td>PAPERWEIGHT VINTAGE COLLAGE</td>\n",
       "      <td>6</td>\n",
       "      <td>2011-04-01 08:22:00</td>\n",
       "      <td>2.55</td>\n",
       "      <td>18161.0</td>\n",
       "      <td>United Kingdom</td>\n",
       "    </tr>\n",
       "    <tr>\n",
       "      <th>...</th>\n",
       "      <td>...</td>\n",
       "      <td>...</td>\n",
       "      <td>...</td>\n",
       "      <td>...</td>\n",
       "      <td>...</td>\n",
       "      <td>...</td>\n",
       "      <td>...</td>\n",
       "      <td>...</td>\n",
       "    </tr>\n",
       "    <tr>\n",
       "      <th>208730</th>\n",
       "      <td>555147</td>\n",
       "      <td>84707A</td>\n",
       "      <td>SILVER JEWELLED MIRROR TRINKET TRAY</td>\n",
       "      <td>2</td>\n",
       "      <td>2011-05-31 15:41:00</td>\n",
       "      <td>9.95</td>\n",
       "      <td>13505.0</td>\n",
       "      <td>Switzerland</td>\n",
       "    </tr>\n",
       "    <tr>\n",
       "      <th>208731</th>\n",
       "      <td>555147</td>\n",
       "      <td>84711A</td>\n",
       "      <td>SILVER OVAL SHAPE TRINKET BOX</td>\n",
       "      <td>2</td>\n",
       "      <td>2011-05-31 15:41:00</td>\n",
       "      <td>9.95</td>\n",
       "      <td>13505.0</td>\n",
       "      <td>Switzerland</td>\n",
       "    </tr>\n",
       "    <tr>\n",
       "      <th>208732</th>\n",
       "      <td>555147</td>\n",
       "      <td>84711B</td>\n",
       "      <td>PINK OVAL SHAPE TRINKET BOX</td>\n",
       "      <td>2</td>\n",
       "      <td>2011-05-31 15:41:00</td>\n",
       "      <td>9.95</td>\n",
       "      <td>13505.0</td>\n",
       "      <td>Switzerland</td>\n",
       "    </tr>\n",
       "    <tr>\n",
       "      <th>208733</th>\n",
       "      <td>555147</td>\n",
       "      <td>23101</td>\n",
       "      <td>SILVER STARS TABLE DECORATION</td>\n",
       "      <td>12</td>\n",
       "      <td>2011-05-31 15:41:00</td>\n",
       "      <td>0.83</td>\n",
       "      <td>13505.0</td>\n",
       "      <td>Switzerland</td>\n",
       "    </tr>\n",
       "    <tr>\n",
       "      <th>208734</th>\n",
       "      <td>555147</td>\n",
       "      <td>POST</td>\n",
       "      <td>POSTAGE</td>\n",
       "      <td>4</td>\n",
       "      <td>2011-05-31 15:41:00</td>\n",
       "      <td>40.00</td>\n",
       "      <td>13505.0</td>\n",
       "      <td>Switzerland</td>\n",
       "    </tr>\n",
       "  </tbody>\n",
       "</table>\n",
       "<p>52106 rows × 8 columns</p>\n",
       "</div>"
      ],
      "text/plain": [
       "       InvoiceNo StockCode                          Description  Quantity  \\\n",
       "142083    548550     22662          LUNCH BAG DOLLY GIRL DESIGN        10   \n",
       "142084    548550     22296            HEART IVORY TRELLIS LARGE        12   \n",
       "142085    548550     21790                   VINTAGE SNAP CARDS        12   \n",
       "142086    548550     22622       BOX OF VINTAGE ALPHABET BLOCKS         2   \n",
       "142087    548550     22393          PAPERWEIGHT VINTAGE COLLAGE         6   \n",
       "...          ...       ...                                  ...       ...   \n",
       "208730    555147    84707A  SILVER JEWELLED MIRROR TRINKET TRAY         2   \n",
       "208731    555147    84711A        SILVER OVAL SHAPE TRINKET BOX         2   \n",
       "208732    555147    84711B          PINK OVAL SHAPE TRINKET BOX         2   \n",
       "208733    555147     23101        SILVER STARS TABLE DECORATION        12   \n",
       "208734    555147      POST                              POSTAGE         4   \n",
       "\n",
       "               InvoiceDate  UnitPrice  CustomerID         Country  \n",
       "142083 2011-04-01 08:22:00       1.65     18161.0  United Kingdom  \n",
       "142084 2011-04-01 08:22:00       1.65     18161.0  United Kingdom  \n",
       "142085 2011-04-01 08:22:00       0.85     18161.0  United Kingdom  \n",
       "142086 2011-04-01 08:22:00       9.95     18161.0  United Kingdom  \n",
       "142087 2011-04-01 08:22:00       2.55     18161.0  United Kingdom  \n",
       "...                    ...        ...         ...             ...  \n",
       "208730 2011-05-31 15:41:00       9.95     13505.0     Switzerland  \n",
       "208731 2011-05-31 15:41:00       9.95     13505.0     Switzerland  \n",
       "208732 2011-05-31 15:41:00       9.95     13505.0     Switzerland  \n",
       "208733 2011-05-31 15:41:00       0.83     13505.0     Switzerland  \n",
       "208734 2011-05-31 15:41:00      40.00     13505.0     Switzerland  \n",
       "\n",
       "[52106 rows x 8 columns]"
      ]
     },
     "execution_count": 157,
     "metadata": {},
     "output_type": "execute_result"
    }
   ],
   "source": [
    "data_april_may = data[data['InvoiceDate'].apply(lambda date: date.month == 4 or date.month == 5)]\n",
    "data_april_may = data_april_may.dropna()\n",
    "data_april_may"
   ]
  },
  {
   "cell_type": "code",
   "execution_count": 158,
   "metadata": {},
   "outputs": [
    {
     "data": {
      "text/plain": [
       "1579"
      ]
     },
     "execution_count": 158,
     "metadata": {},
     "output_type": "execute_result"
    }
   ],
   "source": [
    "unique_id_april_may = pd.unique(data_april_may['CustomerID'])\n",
    "len(unique_id_april_may)"
   ]
  },
  {
   "cell_type": "markdown",
   "metadata": {},
   "source": [
    "Посмотрим на распределение данных."
   ]
  },
  {
   "cell_type": "code",
   "execution_count": 159,
   "metadata": {},
   "outputs": [
    {
     "data": {
      "text/plain": [
       "1543"
      ]
     },
     "execution_count": 159,
     "metadata": {},
     "output_type": "execute_result"
    }
   ],
   "source": [
    "X = []\n",
    "for cus in unique_id_april_may:\n",
    "    X.append(data_april_may['Quantity'][data_april_may['CustomerID'] == cus].sum())\n",
    "    \n",
    "X = np.array(X)\n",
    "X = X[X >= 0]\n",
    "len(X)"
   ]
  },
  {
   "cell_type": "code",
   "execution_count": 160,
   "metadata": {},
   "outputs": [],
   "source": [
    "import statsmodels.api as sm"
   ]
  },
  {
   "cell_type": "code",
   "execution_count": 161,
   "metadata": {},
   "outputs": [
    {
     "data": {
      "text/plain": [
       "<statsmodels.nonparametric.kde.KDEUnivariate at 0x2084236e7c0>"
      ]
     },
     "execution_count": 161,
     "metadata": {},
     "output_type": "execute_result"
    }
   ],
   "source": [
    "kde = sm.nonparametric.KDEUnivariate(X)\n",
    "kde.fit()  # Estimate the densities"
   ]
  },
  {
   "cell_type": "code",
   "execution_count": 162,
   "metadata": {},
   "outputs": [
    {
     "data": {
      "image/png": "[encoded data removed]",
      "text/plain": [
       "<Figure size 864x360 with 1 Axes>"
      ]
     },
     "metadata": {
      "needs_background": "light"
     },
     "output_type": "display_data"
    }
   ],
   "source": [
    "fig = plt.figure(figsize=(12, 5))\n",
    "ax = fig.add_subplot(111)\n",
    "ax.hist(X, label='Гистограмма распределения сумм покупок', density=True, bins=30)\n",
    "ax.plot(kde.support, kde.density, lw=3, label=\"KDE распределения сумм покупок\", zorder=10)\n",
    "ax.legend(loc=\"best\")\n",
    "ax.grid(True, zorder=-5)\n",
    "plt.title('Гистограмма и KDE распределения сумм покупок')\n",
    "plt.show()"
   ]
  },
  {
   "cell_type": "markdown",
   "metadata": {},
   "source": [
    "Видно, что распределение похоже на экспоненциальное, однако присутствуют сильные выбросы."
   ]
  },
  {
   "cell_type": "markdown",
   "metadata": {},
   "source": [
    "Возьмем в качестве предпериода все данные до апреля, а в качестве периода тестирования апрель-май. Также стоит отметить, что, вообще говоря, неправильно проводить AA-тест и AB-тест на одних и тех же данных (пусть и с добавлением шума), однако, так как это учебный пример, то сделаем так."
   ]
  },
  {
   "cell_type": "code",
   "execution_count": 163,
   "metadata": {},
   "outputs": [
    {
     "data": {
      "text/html": [
       "<div>\n",
       "<style scoped>\n",
       "    .dataframe tbody tr th:only-of-type {\n",
       "        vertical-align: middle;\n",
       "    }\n",
       "\n",
       "    .dataframe tbody tr th {\n",
       "        vertical-align: top;\n",
       "    }\n",
       "\n",
       "    .dataframe thead th {\n",
       "        text-align: right;\n",
       "    }\n",
       "</style>\n",
       "<table border=\"1\" class=\"dataframe\">\n",
       "  <thead>\n",
       "    <tr style=\"text-align: right;\">\n",
       "      <th></th>\n",
       "      <th>InvoiceNo</th>\n",
       "      <th>StockCode</th>\n",
       "      <th>Description</th>\n",
       "      <th>Quantity</th>\n",
       "      <th>InvoiceDate</th>\n",
       "      <th>UnitPrice</th>\n",
       "      <th>CustomerID</th>\n",
       "      <th>Country</th>\n",
       "    </tr>\n",
       "  </thead>\n",
       "  <tbody>\n",
       "    <tr>\n",
       "      <th>77628</th>\n",
       "      <td>542776</td>\n",
       "      <td>21671</td>\n",
       "      <td>RED SPOT CERAMIC DRAWER KNOB</td>\n",
       "      <td>48</td>\n",
       "      <td>2011-02-01 08:23:00</td>\n",
       "      <td>1.25</td>\n",
       "      <td>15240.0</td>\n",
       "      <td>United Kingdom</td>\n",
       "    </tr>\n",
       "    <tr>\n",
       "      <th>77629</th>\n",
       "      <td>542776</td>\n",
       "      <td>21668</td>\n",
       "      <td>RED STRIPE CERAMIC DRAWER KNOB</td>\n",
       "      <td>12</td>\n",
       "      <td>2011-02-01 08:23:00</td>\n",
       "      <td>1.25</td>\n",
       "      <td>15240.0</td>\n",
       "      <td>United Kingdom</td>\n",
       "    </tr>\n",
       "    <tr>\n",
       "      <th>77630</th>\n",
       "      <td>542776</td>\n",
       "      <td>21670</td>\n",
       "      <td>BLUE SPOT CERAMIC DRAWER KNOB</td>\n",
       "      <td>12</td>\n",
       "      <td>2011-02-01 08:23:00</td>\n",
       "      <td>1.25</td>\n",
       "      <td>15240.0</td>\n",
       "      <td>United Kingdom</td>\n",
       "    </tr>\n",
       "    <tr>\n",
       "      <th>77631</th>\n",
       "      <td>542776</td>\n",
       "      <td>17013D</td>\n",
       "      <td>ORIGAMI ROSE INCENSE IN TUBE</td>\n",
       "      <td>96</td>\n",
       "      <td>2011-02-01 08:23:00</td>\n",
       "      <td>0.42</td>\n",
       "      <td>15240.0</td>\n",
       "      <td>United Kingdom</td>\n",
       "    </tr>\n",
       "    <tr>\n",
       "      <th>77632</th>\n",
       "      <td>542776</td>\n",
       "      <td>17096</td>\n",
       "      <td>ASSORTED LAQUERED INCENSE HOLDERS</td>\n",
       "      <td>48</td>\n",
       "      <td>2011-02-01 08:23:00</td>\n",
       "      <td>0.21</td>\n",
       "      <td>15240.0</td>\n",
       "      <td>United Kingdom</td>\n",
       "    </tr>\n",
       "    <tr>\n",
       "      <th>...</th>\n",
       "      <td>...</td>\n",
       "      <td>...</td>\n",
       "      <td>...</td>\n",
       "      <td>...</td>\n",
       "      <td>...</td>\n",
       "      <td>...</td>\n",
       "      <td>...</td>\n",
       "      <td>...</td>\n",
       "    </tr>\n",
       "    <tr>\n",
       "      <th>142078</th>\n",
       "      <td>548548</td>\n",
       "      <td>22423</td>\n",
       "      <td>REGENCY CAKESTAND 3 TIER</td>\n",
       "      <td>1</td>\n",
       "      <td>2011-03-31 19:54:00</td>\n",
       "      <td>12.75</td>\n",
       "      <td>17781.0</td>\n",
       "      <td>United Kingdom</td>\n",
       "    </tr>\n",
       "    <tr>\n",
       "      <th>142079</th>\n",
       "      <td>548548</td>\n",
       "      <td>21361</td>\n",
       "      <td>LOVE LARGE WOOD LETTERS</td>\n",
       "      <td>7</td>\n",
       "      <td>2011-03-31 19:54:00</td>\n",
       "      <td>12.75</td>\n",
       "      <td>17781.0</td>\n",
       "      <td>United Kingdom</td>\n",
       "    </tr>\n",
       "    <tr>\n",
       "      <th>142080</th>\n",
       "      <td>548549</td>\n",
       "      <td>84763</td>\n",
       "      <td>ZINC FINISH 15CM PLANTER POTS</td>\n",
       "      <td>100</td>\n",
       "      <td>2011-03-31 19:55:00</td>\n",
       "      <td>1.06</td>\n",
       "      <td>16365.0</td>\n",
       "      <td>United Kingdom</td>\n",
       "    </tr>\n",
       "    <tr>\n",
       "      <th>142081</th>\n",
       "      <td>548549</td>\n",
       "      <td>22222</td>\n",
       "      <td>CAKE PLATE LOVEBIRD WHITE</td>\n",
       "      <td>1</td>\n",
       "      <td>2011-03-31 19:55:00</td>\n",
       "      <td>4.95</td>\n",
       "      <td>16365.0</td>\n",
       "      <td>United Kingdom</td>\n",
       "    </tr>\n",
       "    <tr>\n",
       "      <th>142082</th>\n",
       "      <td>548549</td>\n",
       "      <td>22776</td>\n",
       "      <td>SWEETHEART CAKESTAND 3 TIER</td>\n",
       "      <td>1</td>\n",
       "      <td>2011-03-31 19:55:00</td>\n",
       "      <td>9.95</td>\n",
       "      <td>16365.0</td>\n",
       "      <td>United Kingdom</td>\n",
       "    </tr>\n",
       "  </tbody>\n",
       "</table>\n",
       "<p>64455 rows × 8 columns</p>\n",
       "</div>"
      ],
      "text/plain": [
       "       InvoiceNo StockCode                        Description  Quantity  \\\n",
       "77628     542776     21671       RED SPOT CERAMIC DRAWER KNOB        48   \n",
       "77629     542776     21668     RED STRIPE CERAMIC DRAWER KNOB        12   \n",
       "77630     542776     21670      BLUE SPOT CERAMIC DRAWER KNOB        12   \n",
       "77631     542776    17013D       ORIGAMI ROSE INCENSE IN TUBE        96   \n",
       "77632     542776     17096  ASSORTED LAQUERED INCENSE HOLDERS        48   \n",
       "...          ...       ...                                ...       ...   \n",
       "142078    548548     22423           REGENCY CAKESTAND 3 TIER         1   \n",
       "142079    548548     21361           LOVE LARGE WOOD LETTERS          7   \n",
       "142080    548549     84763      ZINC FINISH 15CM PLANTER POTS       100   \n",
       "142081    548549     22222          CAKE PLATE LOVEBIRD WHITE         1   \n",
       "142082    548549     22776        SWEETHEART CAKESTAND 3 TIER         1   \n",
       "\n",
       "               InvoiceDate  UnitPrice  CustomerID         Country  \n",
       "77628  2011-02-01 08:23:00       1.25     15240.0  United Kingdom  \n",
       "77629  2011-02-01 08:23:00       1.25     15240.0  United Kingdom  \n",
       "77630  2011-02-01 08:23:00       1.25     15240.0  United Kingdom  \n",
       "77631  2011-02-01 08:23:00       0.42     15240.0  United Kingdom  \n",
       "77632  2011-02-01 08:23:00       0.21     15240.0  United Kingdom  \n",
       "...                    ...        ...         ...             ...  \n",
       "142078 2011-03-31 19:54:00      12.75     17781.0  United Kingdom  \n",
       "142079 2011-03-31 19:54:00      12.75     17781.0  United Kingdom  \n",
       "142080 2011-03-31 19:55:00       1.06     16365.0  United Kingdom  \n",
       "142081 2011-03-31 19:55:00       4.95     16365.0  United Kingdom  \n",
       "142082 2011-03-31 19:55:00       9.95     16365.0  United Kingdom  \n",
       "\n",
       "[64455 rows x 8 columns]"
      ]
     },
     "execution_count": 163,
     "metadata": {},
     "output_type": "execute_result"
    }
   ],
   "source": [
    "data_pre = data[data['InvoiceDate'].apply(lambda date: date.month == 2 or date.month == 3)]\n",
    "data_pre"
   ]
  },
  {
   "cell_type": "code",
   "execution_count": 164,
   "metadata": {},
   "outputs": [
    {
     "data": {
      "text/plain": [
       "1474"
      ]
     },
     "execution_count": 164,
     "metadata": {},
     "output_type": "execute_result"
    }
   ],
   "source": [
    "unique_id_pre = pd.unique(data_pre['CustomerID'])\n",
    "len(unique_id_pre)"
   ]
  },
  {
   "cell_type": "code",
   "execution_count": 165,
   "metadata": {},
   "outputs": [
    {
     "data": {
      "text/plain": [
       "776"
      ]
     },
     "execution_count": 165,
     "metadata": {},
     "output_type": "execute_result"
    }
   ],
   "source": [
    "unique_id = []\n",
    "\n",
    "for u_id in unique_id_april_may:\n",
    "    if u_id in unique_id_pre:\n",
    "        unique_id.append(u_id)\n",
    "        \n",
    "len(unique_id)"
   ]
  },
  {
   "cell_type": "code",
   "execution_count": 166,
   "metadata": {},
   "outputs": [
    {
     "data": {
      "text/html": [
       "<div>\n",
       "<style scoped>\n",
       "    .dataframe tbody tr th:only-of-type {\n",
       "        vertical-align: middle;\n",
       "    }\n",
       "\n",
       "    .dataframe tbody tr th {\n",
       "        vertical-align: top;\n",
       "    }\n",
       "\n",
       "    .dataframe thead th {\n",
       "        text-align: right;\n",
       "    }\n",
       "</style>\n",
       "<table border=\"1\" class=\"dataframe\">\n",
       "  <thead>\n",
       "    <tr style=\"text-align: right;\">\n",
       "      <th></th>\n",
       "      <th>CustomerID</th>\n",
       "      <th>Country</th>\n",
       "      <th>Quantity</th>\n",
       "      <th>UnitPrice</th>\n",
       "    </tr>\n",
       "  </thead>\n",
       "  <tbody>\n",
       "    <tr>\n",
       "      <th>0</th>\n",
       "      <td>12347.0</td>\n",
       "      <td>Iceland</td>\n",
       "      <td>483</td>\n",
       "      <td>62.29</td>\n",
       "    </tr>\n",
       "    <tr>\n",
       "      <th>1</th>\n",
       "      <td>12348.0</td>\n",
       "      <td>Finland</td>\n",
       "      <td>269</td>\n",
       "      <td>44.60</td>\n",
       "    </tr>\n",
       "    <tr>\n",
       "      <th>2</th>\n",
       "      <td>12353.0</td>\n",
       "      <td>Bahrain</td>\n",
       "      <td>20</td>\n",
       "      <td>24.30</td>\n",
       "    </tr>\n",
       "    <tr>\n",
       "      <th>3</th>\n",
       "      <td>12354.0</td>\n",
       "      <td>Spain</td>\n",
       "      <td>530</td>\n",
       "      <td>261.22</td>\n",
       "    </tr>\n",
       "    <tr>\n",
       "      <th>4</th>\n",
       "      <td>12355.0</td>\n",
       "      <td>Bahrain</td>\n",
       "      <td>240</td>\n",
       "      <td>54.65</td>\n",
       "    </tr>\n",
       "    <tr>\n",
       "      <th>...</th>\n",
       "      <td>...</td>\n",
       "      <td>...</td>\n",
       "      <td>...</td>\n",
       "      <td>...</td>\n",
       "    </tr>\n",
       "    <tr>\n",
       "      <th>1573</th>\n",
       "      <td>18260.0</td>\n",
       "      <td>United Kingdom</td>\n",
       "      <td>455</td>\n",
       "      <td>186.39</td>\n",
       "    </tr>\n",
       "    <tr>\n",
       "      <th>1574</th>\n",
       "      <td>18263.0</td>\n",
       "      <td>United Kingdom</td>\n",
       "      <td>328</td>\n",
       "      <td>15.77</td>\n",
       "    </tr>\n",
       "    <tr>\n",
       "      <th>1576</th>\n",
       "      <td>18272.0</td>\n",
       "      <td>United Kingdom</td>\n",
       "      <td>782</td>\n",
       "      <td>113.50</td>\n",
       "    </tr>\n",
       "    <tr>\n",
       "      <th>1577</th>\n",
       "      <td>18283.0</td>\n",
       "      <td>United Kingdom</td>\n",
       "      <td>149</td>\n",
       "      <td>158.06</td>\n",
       "    </tr>\n",
       "    <tr>\n",
       "      <th>1578</th>\n",
       "      <td>18287.0</td>\n",
       "      <td>United Kingdom</td>\n",
       "      <td>488</td>\n",
       "      <td>56.92</td>\n",
       "    </tr>\n",
       "  </tbody>\n",
       "</table>\n",
       "<p>1543 rows × 4 columns</p>\n",
       "</div>"
      ],
      "text/plain": [
       "      CustomerID         Country  Quantity  UnitPrice\n",
       "0        12347.0         Iceland       483      62.29\n",
       "1        12348.0         Finland       269      44.60\n",
       "2        12353.0         Bahrain        20      24.30\n",
       "3        12354.0           Spain       530     261.22\n",
       "4        12355.0         Bahrain       240      54.65\n",
       "...          ...             ...       ...        ...\n",
       "1573     18260.0  United Kingdom       455     186.39\n",
       "1574     18263.0  United Kingdom       328      15.77\n",
       "1576     18272.0  United Kingdom       782     113.50\n",
       "1577     18283.0  United Kingdom       149     158.06\n",
       "1578     18287.0  United Kingdom       488      56.92\n",
       "\n",
       "[1543 rows x 4 columns]"
      ]
     },
     "execution_count": 166,
     "metadata": {},
     "output_type": "execute_result"
    }
   ],
   "source": [
    "data_april_may_grouped = data_april_may.groupby(['CustomerID', 'Country']).sum().reset_index()\n",
    "data_april_may_grouped = data_april_may_grouped[data_april_may_grouped['Quantity'] >= 0]\n",
    "data_april_may_grouped"
   ]
  },
  {
   "cell_type": "code",
   "execution_count": 167,
   "metadata": {},
   "outputs": [
    {
     "data": {
      "text/plain": [
       "array(['Iceland', 'Finland', 'Bahrain', 'Spain', 'Portugal', 'Austria',\n",
       "       'Belgium', 'Unspecified', 'Denmark', 'Australia', 'France',\n",
       "       'Germany', 'Switzerland', 'Sweden', 'Poland', 'Italy', 'Greece',\n",
       "       'USA', 'Singapore', 'United Kingdom', 'Japan', 'Brazil',\n",
       "       'Netherlands', 'EIRE', 'Channel Islands', 'European Community',\n",
       "       'Canada'], dtype=object)"
      ]
     },
     "execution_count": 167,
     "metadata": {},
     "output_type": "execute_result"
    }
   ],
   "source": [
    "pd.unique(data_april_may_grouped['Country'])"
   ]
  },
  {
   "cell_type": "code",
   "execution_count": 168,
   "metadata": {},
   "outputs": [
    {
     "data": {
      "text/html": [
       "<div>\n",
       "<style scoped>\n",
       "    .dataframe tbody tr th:only-of-type {\n",
       "        vertical-align: middle;\n",
       "    }\n",
       "\n",
       "    .dataframe tbody tr th {\n",
       "        vertical-align: top;\n",
       "    }\n",
       "\n",
       "    .dataframe thead th {\n",
       "        text-align: right;\n",
       "    }\n",
       "</style>\n",
       "<table border=\"1\" class=\"dataframe\">\n",
       "  <thead>\n",
       "    <tr style=\"text-align: right;\">\n",
       "      <th></th>\n",
       "      <th>CustomerID</th>\n",
       "      <th>Quantity</th>\n",
       "      <th>UnitPrice</th>\n",
       "    </tr>\n",
       "  </thead>\n",
       "  <tbody>\n",
       "    <tr>\n",
       "      <th>0</th>\n",
       "      <td>12350.0</td>\n",
       "      <td>197</td>\n",
       "      <td>65.30</td>\n",
       "    </tr>\n",
       "    <tr>\n",
       "      <th>1</th>\n",
       "      <td>12352.0</td>\n",
       "      <td>188</td>\n",
       "      <td>1900.07</td>\n",
       "    </tr>\n",
       "    <tr>\n",
       "      <th>2</th>\n",
       "      <td>12359.0</td>\n",
       "      <td>465</td>\n",
       "      <td>809.98</td>\n",
       "    </tr>\n",
       "    <tr>\n",
       "      <th>3</th>\n",
       "      <td>12361.0</td>\n",
       "      <td>91</td>\n",
       "      <td>33.35</td>\n",
       "    </tr>\n",
       "    <tr>\n",
       "      <th>4</th>\n",
       "      <td>12362.0</td>\n",
       "      <td>227</td>\n",
       "      <td>77.10</td>\n",
       "    </tr>\n",
       "    <tr>\n",
       "      <th>...</th>\n",
       "      <td>...</td>\n",
       "      <td>...</td>\n",
       "      <td>...</td>\n",
       "    </tr>\n",
       "    <tr>\n",
       "      <th>1468</th>\n",
       "      <td>18260.0</td>\n",
       "      <td>356</td>\n",
       "      <td>98.60</td>\n",
       "    </tr>\n",
       "    <tr>\n",
       "      <th>1469</th>\n",
       "      <td>18270.0</td>\n",
       "      <td>41</td>\n",
       "      <td>21.15</td>\n",
       "    </tr>\n",
       "    <tr>\n",
       "      <th>1470</th>\n",
       "      <td>18273.0</td>\n",
       "      <td>20</td>\n",
       "      <td>2.55</td>\n",
       "    </tr>\n",
       "    <tr>\n",
       "      <th>1471</th>\n",
       "      <td>18280.0</td>\n",
       "      <td>45</td>\n",
       "      <td>47.65</td>\n",
       "    </tr>\n",
       "    <tr>\n",
       "      <th>1472</th>\n",
       "      <td>18283.0</td>\n",
       "      <td>59</td>\n",
       "      <td>70.55</td>\n",
       "    </tr>\n",
       "  </tbody>\n",
       "</table>\n",
       "<p>1473 rows × 3 columns</p>\n",
       "</div>"
      ],
      "text/plain": [
       "      CustomerID  Quantity  UnitPrice\n",
       "0        12350.0       197      65.30\n",
       "1        12352.0       188    1900.07\n",
       "2        12359.0       465     809.98\n",
       "3        12361.0        91      33.35\n",
       "4        12362.0       227      77.10\n",
       "...          ...       ...        ...\n",
       "1468     18260.0       356      98.60\n",
       "1469     18270.0        41      21.15\n",
       "1470     18273.0        20       2.55\n",
       "1471     18280.0        45      47.65\n",
       "1472     18283.0        59      70.55\n",
       "\n",
       "[1473 rows x 3 columns]"
      ]
     },
     "execution_count": 168,
     "metadata": {},
     "output_type": "execute_result"
    }
   ],
   "source": [
    "data_pre_grouped = data_pre.groupby('CustomerID').sum().reset_index()\n",
    "data_pre_grouped"
   ]
  },
  {
   "cell_type": "markdown",
   "metadata": {},
   "source": [
    "**1.**\n",
    "На искусственных данных мы уже проверили наш тест, теперь пора проверить на реальных. На данных за апрель и май проведите множество случайных AA-тестов для определения реального уровня значимости, выбирая случайных пользователей в каждую из групп. Использовать нужно группы одинакого размера, конечно же, они не должны пересекаться. Для каждого пользователя рассматриваем общую сумму его покупок за два месяца."
   ]
  },
  {
   "cell_type": "markdown",
   "metadata": {},
   "source": [
    "Для начала напишем вспомогательные функции."
   ]
  },
  {
   "cell_type": "code",
   "execution_count": 204,
   "metadata": {},
   "outputs": [],
   "source": [
    "def make_groups_and_periods(control_id, test_id, sample_size, eps, scale=10, \n",
    "                            data_pre=data_pre, data_april_may=data_april_may):\n",
    "    '''Делает данные для предпериода, АА- и АВ-теста для контрольной и тестовой групп'''\n",
    "    x_pre = np.zeros_like(control_id)\n",
    "    y_pre = np.zeros_like(test_id)\n",
    "    x_aa = np.zeros_like(control_id)\n",
    "    x_ab = np.zeros_like(control_id)\n",
    "    y_aa = np.zeros_like(test_id)\n",
    "    y_ab = np.zeros_like(test_id)\n",
    "\n",
    "    i = 0\n",
    "    for id_x, id_y in zip(control_id, test_id):\n",
    "        x_pre[i] = data_pre['Quantity'][data_pre['CustomerID'] == id_x].sum()\n",
    "        x_aa[i] = data_april_may['Quantity'][data_april_may['CustomerID'] == id_x].sum()\n",
    "        x_ab[i] = data_april_may['Quantity'][data_april_may['CustomerID'] == id_x].sum()\n",
    "        y_pre[i] = data_pre['Quantity'][data_pre['CustomerID'] == id_y].sum()\n",
    "        y_aa[i] = data_april_may['Quantity'][data_april_may['CustomerID'] == id_y].sum()\n",
    "        y_ab[i] = data_april_may['Quantity'][data_april_may['CustomerID'] == id_y].sum()\n",
    "\n",
    "        i += 1\n",
    "\n",
    "    x_ab += sps.norm(scale=10).rvs(len(x_ab))\n",
    "    y_ab += sps.norm(scale=10).rvs(len(y_ab)) + eps\n",
    "    \n",
    "    return x_pre, x_aa, x_ab, y_pre, y_aa, y_ab"
   ]
  },
  {
   "cell_type": "code",
   "execution_count": 205,
   "metadata": {},
   "outputs": [],
   "source": [
    "def find_unique_id(data_pre=data_pre, data_april_may=data_april_may):\n",
    "    '''Находит совпадающие индексы покупателей у двух фреймов'''\n",
    "    unique_id_pre = pd.unique(data_pre['CustomerID'])\n",
    "    unique_id_april_may = pd.unique(data_april_may['CustomerID'])\n",
    "    \n",
    "    unique_id = []\n",
    "\n",
    "    for u_id in unique_id_april_may:\n",
    "        if u_id in unique_id_pre:\n",
    "            unique_id.append(u_id)\n",
    "            \n",
    "    return unique_id "
   ]
  },
  {
   "cell_type": "code",
   "execution_count": 206,
   "metadata": {},
   "outputs": [],
   "source": [
    "def make_grouped_data(control_test_id, data_pre=data_pre, data_april_may=data_april_may):\n",
    "    '''Группирует данные по индексу покупателя и стране и выделяет только нужных покупателей'''\n",
    "    new_data_april_may = data_april_may[data_april_may['CustomerID'].isin(control_test_id)].dropna()\n",
    "    data_april_may_grouped = new_data_april_may.groupby(['CustomerID', 'Country']).sum().reset_index()\n",
    "    data_april_may_target = data_april_may_grouped['Quantity']\n",
    "    data_april_may_grouped = pd.get_dummies(data_april_may_grouped, columns=['Country'], drop_first=True)\n",
    "    new_data_pre = data_april_may[data_april_may['CustomerID'].isin(control_test_id)].dropna()\n",
    "    data_pre_grouped = new_data_pre.groupby(['CustomerID', 'Country']).sum().reset_index()\n",
    "    data_pre_target = data_pre_grouped['Quantity']\n",
    "    data_pre_grouped = pd.get_dummies(data_pre_grouped, columns=['Country'], drop_first=True)\n",
    "    return data_pre_grouped, data_pre_target, data_april_may_grouped, data_april_may_target"
   ]
  },
  {
   "cell_type": "markdown",
   "metadata": {},
   "source": [
    "Фактически, CUPAC &mdash; это частный случай CUPED, поэтому в качестве признаков ML-модели при предикте можно брать те, на которые не оказывает влияние изменение таргета. Так как в учебных целях мы просто добавляем к таргету число и нормальную случайную величину, то на признаки изменение таргета не действует, поэтому мы можем использовать признаки, на тестовом периоде для предсказания на них таргета в методе CUPAC. Также стоит отметить, что, конечно, в реальной задаче не стоит брать все признаки в качестве признаков предсказывающей модели для CUPAC."
   ]
  },
  {
   "cell_type": "code",
   "execution_count": 264,
   "metadata": {},
   "outputs": [],
   "source": [
    "def AA_or_AB_test(n_iter=2000, sample_size=300, eps=20, scale=10, data_pre=data_pre, data_april_may=data_april_may, \n",
    "            method=None, alpha=0.05, AB=False, model=RandomForestRegressor()):\n",
    "    '''Делает АА- или АВ-тест. Возвращает количество отвержений и массив p-value'''\n",
    "    n_errors = 0\n",
    "    pval_arr = []\n",
    "    unique_id = find_unique_id(data_pre, data_april_may)\n",
    "    for _ in tqdm(range(n_iter)):\n",
    "        control_test_id = np.random.choice(unique_id, replace=False, size=(2 * sample_size))\n",
    "        control_id = control_test_id[:sample_size]\n",
    "        test_id = control_test_id[sample_size:]\n",
    "        x_pre, x_aa, x_ab, y_pre, y_aa, y_ab = make_groups_and_periods(control_id=control_id, test_id=test_id, \n",
    "                                                                       sample_size=sample_size, eps=eps, scale=scale, \n",
    "                                                                       data_pre=data_pre, data_april_may=data_april_may)\n",
    "        x_exp = x_ab if AB else x_aa\n",
    "        y_exp = y_ab if AB else y_aa\n",
    "        if method is None:\n",
    "            x_modified = x_exp\n",
    "            y_modified = y_exp\n",
    "        elif method == 'CUPED':\n",
    "            theta = (np.cov(x_pre, x_exp)[0,1] + np.cov(y_pre, y_exp)[0,1]) / (x_pre.var() + y_pre.var())\n",
    "            x_modified = x_exp - theta * x_pre\n",
    "            y_modified = y_exp - theta * y_pre\n",
    "        else:\n",
    "            data_pre_grouped, data_pre_target, data_april_may_grouped, data_april_may_target = \\\n",
    "                        make_grouped_data(control_test_id, data_pre, data_april_may)\n",
    "            model.fit(data_pre_grouped.drop(['Quantity', 'CustomerID'], axis=1), data_pre_target)\n",
    "            pred = model.predict(data_april_may_grouped.drop(['Quantity', 'CustomerID'], axis=1))\n",
    "            x_pre_modified = np.zeros_like(control_id)\n",
    "            y_pre_modified = np.zeros_like(test_id)\n",
    "            i = 0\n",
    "            for id_x, id_y in zip(control_id, test_id):\n",
    "                x_pre_modified[i] = pred[(data_april_may_grouped[data_april_may_grouped['CustomerID'] == id_x]).index[0]]\n",
    "                y_pre_modified[i] = pred[(data_april_may_grouped[data_april_may_grouped['CustomerID'] == id_y]).index[0]]\n",
    "                i += 1\n",
    "            theta = (np.cov(x_pre_modified, x_exp)[0,1] + np.cov(y_pre_modified, y_exp)[0,1]) / \\\n",
    "                                (x_pre_modified.var() + y_pre_modified.var())\n",
    "            x_modified = x_exp - theta * x_pre_modified\n",
    "            y_modified = y_exp - theta * y_pre_modified\n",
    "            \n",
    "        pval = sps.ttest_ind(x_modified, y_modified)[1]\n",
    "        pval_arr.append(pval)\n",
    "        n_errors += (pval <= alpha)\n",
    "        \n",
    "    return n_errors, pval_arr"
   ]
  },
  {
   "cell_type": "markdown",
   "metadata": {},
   "source": [
    "* AA-тест для необработанных данных."
   ]
  },
  {
   "cell_type": "code",
   "execution_count": 220,
   "metadata": {},
   "outputs": [
    {
     "data": {
      "application/vnd.jupyter.widget-view+json": {
       "model_id": "a862bdc186d742fea70f9fb23eb040fb",
       "version_major": 2,
       "version_minor": 0
      },
      "text/plain": [
       "  0%|          | 0/2000 [00:00<?, ?it/s]"
      ]
     },
     "metadata": {},
     "output_type": "display_data"
    },
    {
     "name": "stdout",
     "output_type": "stream",
     "text": [
      "0.0465 +/- 0.0100\n"
     ]
    }
   ],
   "source": [
    "n_iter = 2000\n",
    "alpha = 0.05\n",
    "\n",
    "n_errors, pval_arr = AA_or_AB_test(n_iter=n_iter, alpha=alpha)\n",
    "print('{:.4f} +/- {:.4f}'.format(n_errors / n_iter, 2 * np.sqrt(alpha / n_iter)))"
   ]
  },
  {
   "cell_type": "code",
   "execution_count": 221,
   "metadata": {},
   "outputs": [
    {
     "data": {
      "image/png": "[encoded data removed]",
      "text/plain": [
       "<Figure size 432x288 with 1 Axes>"
      ]
     },
     "metadata": {
      "needs_background": "light"
     },
     "output_type": "display_data"
    }
   ],
   "source": [
    "plt.hist(pval_arr)\n",
    "plt.xlabel('$p$-value')\n",
    "plt.ylabel('количество итераций')\n",
    "plt.title(\"Гистограмма значений p-value\")\n",
    "plt.show()"
   ]
  },
  {
   "cell_type": "markdown",
   "metadata": {},
   "source": [
    "* AA-тест для данных, обработанных с помощью CUPED."
   ]
  },
  {
   "cell_type": "code",
   "execution_count": 222,
   "metadata": {},
   "outputs": [
    {
     "data": {
      "application/vnd.jupyter.widget-view+json": {
       "model_id": "093321dff83b40b1a0416407883ad465",
       "version_major": 2,
       "version_minor": 0
      },
      "text/plain": [
       "  0%|          | 0/2000 [00:00<?, ?it/s]"
      ]
     },
     "metadata": {},
     "output_type": "display_data"
    },
    {
     "name": "stdout",
     "output_type": "stream",
     "text": [
      "0.0465 +/- 0.0100\n"
     ]
    }
   ],
   "source": [
    "n_errors_cuped, pval_arr_cuped = AA_or_AB_test(n_iter=n_iter, alpha=alpha, method='CUPED')\n",
    "print('{:.4f} +/- {:.4f}'.format(n_errors_cuped / n_iter, 2 * np.sqrt(alpha / n_iter)))"
   ]
  },
  {
   "cell_type": "code",
   "execution_count": 224,
   "metadata": {},
   "outputs": [
    {
     "data": {
      "image/png": "[encoded data removed]",
      "text/plain": [
       "<Figure size 432x288 with 1 Axes>"
      ]
     },
     "metadata": {
      "needs_background": "light"
     },
     "output_type": "display_data"
    }
   ],
   "source": [
    "plt.hist(pval_arr_cuped)\n",
    "plt.xlabel('$p$-value')\n",
    "plt.ylabel('количество итераций')\n",
    "plt.title(\"Гистограмма значений p-value\")\n",
    "plt.show()"
   ]
  },
  {
   "cell_type": "markdown",
   "metadata": {},
   "source": [
    "* AA-тест для данных, обработанных с помощью CUPAC."
   ]
  },
  {
   "cell_type": "code",
   "execution_count": 225,
   "metadata": {},
   "outputs": [
    {
     "data": {
      "application/vnd.jupyter.widget-view+json": {
       "model_id": "fcb4901f4eb2471793510b3c8bcf659e",
       "version_major": 2,
       "version_minor": 0
      },
      "text/plain": [
       "  0%|          | 0/2000 [00:00<?, ?it/s]"
      ]
     },
     "metadata": {},
     "output_type": "display_data"
    },
    {
     "name": "stdout",
     "output_type": "stream",
     "text": [
      "0.0485 +/- 0.0100\n"
     ]
    }
   ],
   "source": [
    "n_errors_cupac, pval_arr_cupac = AA_or_AB_test(n_iter=n_iter, alpha=alpha, method='CUPAC')\n",
    "print('{:.4f} +/- {:.4f}'.format(n_errors_cupac / n_iter, 2 * np.sqrt(alpha / n_iter)))"
   ]
  },
  {
   "cell_type": "code",
   "execution_count": 226,
   "metadata": {},
   "outputs": [
    {
     "data": {
      "image/png": "[encoded data removed]",
      "text/plain": [
       "<Figure size 432x288 with 1 Axes>"
      ]
     },
     "metadata": {
      "needs_background": "light"
     },
     "output_type": "display_data"
    }
   ],
   "source": [
    "plt.hist(pval_arr_cupac)\n",
    "plt.xlabel('$p$-value')\n",
    "plt.ylabel('количество итераций')\n",
    "plt.title(\"Гистограмма значений p-value\")\n",
    "plt.show()"
   ]
  },
  {
   "cell_type": "markdown",
   "metadata": {},
   "source": [
    "**2.** С помощью проведения AB-теста по историческим данных выясните, какова мощность теста для разных значений эффекта. Схема проведения аналогична предыдущему пункту, но к тестовой группе нужно добавить положительное смещение.\n",
    "\n",
    "При добавлении искусственного смещения рекомендуется также добавлять небольшой шум для каждого пользователя. Поясните, для этого это может быть полезно."
   ]
  },
  {
   "cell_type": "markdown",
   "metadata": {},
   "source": [
    "Рассмотрим эффект разного масштаба: 20, 50, 100, 200, 500."
   ]
  },
  {
   "cell_type": "markdown",
   "metadata": {},
   "source": [
    "* $\\varepsilon = 20.$"
   ]
  },
  {
   "cell_type": "code",
   "execution_count": 231,
   "metadata": {},
   "outputs": [],
   "source": [
    "eps = 20"
   ]
  },
  {
   "cell_type": "markdown",
   "metadata": {},
   "source": [
    "Посмотрим размер эффекта, который мы добавили:"
   ]
  },
  {
   "cell_type": "code",
   "execution_count": 242,
   "metadata": {},
   "outputs": [],
   "source": [
    "sample_size = 300\n",
    "\n",
    "control_test_id = np.random.choice(unique_id, replace=False, size=(2 * sample_size))\n",
    "control_id = control_test_id[:sample_size]\n",
    "test_id = control_test_id[sample_size:]\n",
    "\n",
    "x_pre, x_aa, x_ab, y_pre, y_aa, y_ab = make_groups_and_periods(control_id, test_id, sample_size, eps)"
   ]
  },
  {
   "cell_type": "code",
   "execution_count": 243,
   "metadata": {},
   "outputs": [
    {
     "data": {
      "text/plain": [
       "0.0357840745024042"
      ]
     },
     "execution_count": 243,
     "metadata": {},
     "output_type": "execute_result"
    }
   ],
   "source": [
    "eps / np.mean(y_ab)"
   ]
  },
  {
   "cell_type": "markdown",
   "metadata": {},
   "source": [
    "Посмотрим на дисперсию статистики."
   ]
  },
  {
   "cell_type": "code",
   "execution_count": 244,
   "metadata": {},
   "outputs": [
    {
     "data": {
      "text/plain": [
       "16486.37891036951"
      ]
     },
     "execution_count": 244,
     "metadata": {},
     "output_type": "execute_result"
    }
   ],
   "source": [
    "tstat_var = x_ab.var() / len(x_ab) + y_ab.var() / len(y_ab)\n",
    "tstat_var"
   ]
  },
  {
   "cell_type": "markdown",
   "metadata": {},
   "source": [
    "Теперь на дисперсию статистики после CUPED."
   ]
  },
  {
   "cell_type": "code",
   "execution_count": 235,
   "metadata": {},
   "outputs": [
    {
     "data": {
      "text/plain": [
       "5328.700573287723"
      ]
     },
     "execution_count": 235,
     "metadata": {},
     "output_type": "execute_result"
    }
   ],
   "source": [
    "theta = (np.cov(x_pre, x_ab)[0,1] + np.cov(y_pre, y_ab)[0,1]) / (x_pre.var() + y_pre.var())\n",
    "x_modified = x_ab - theta * x_pre\n",
    "y_modified = y_ab - theta * y_pre\n",
    "tstat_var = x_modified.var() / len(x_modified) + y_modified.var() / len(y_modified)\n",
    "tstat_var"
   ]
  },
  {
   "cell_type": "markdown",
   "metadata": {},
   "source": [
    "Теперь на дисперсию статистики после CUPAC."
   ]
  },
  {
   "cell_type": "code",
   "execution_count": 247,
   "metadata": {},
   "outputs": [
    {
     "data": {
      "text/plain": [
       "1650.7139957735055"
      ]
     },
     "execution_count": 247,
     "metadata": {},
     "output_type": "execute_result"
    }
   ],
   "source": [
    "data_pre_grouped, data_pre_target, data_april_may_grouped, data_april_may_target = \\\n",
    "                        make_grouped_data(control_test_id, data_pre, data_april_may)\n",
    "model = RandomForestRegressor()\n",
    "model.fit(data_pre_grouped.drop(['Quantity', 'CustomerID'], axis=1), data_pre_target)\n",
    "pred = model.predict(data_april_may_grouped.drop(['Quantity', 'CustomerID'], axis=1))\n",
    "x_pre_modified = np.zeros_like(control_id)\n",
    "y_pre_modified = np.zeros_like(test_id)\n",
    "i = 0\n",
    "for id_x, id_y in zip(control_id, test_id):\n",
    "    x_pre_modified[i] = pred[(data_april_may_grouped[data_april_may_grouped['CustomerID'] == id_x]).index[0]]\n",
    "    y_pre_modified[i] = pred[(data_april_may_grouped[data_april_may_grouped['CustomerID'] == id_y]).index[0]]\n",
    "    i += 1\n",
    "theta = (np.cov(x_pre_modified, x_ab)[0,1] + np.cov(y_pre_modified, y_ab)[0,1]) / \\\n",
    "                    (x_pre_modified.var() + y_pre_modified.var())\n",
    "x_modified = x_ab - theta * x_pre_modified\n",
    "y_modified = y_ab - theta * y_pre_modified\n",
    "tstat_var = x_modified.var() / len(x_modified) + y_modified.var() / len(y_modified)\n",
    "tstat_var"
   ]
  },
  {
   "cell_type": "markdown",
   "metadata": {},
   "source": [
    "А теперь давайте уже протестируем наши методы."
   ]
  },
  {
   "cell_type": "markdown",
   "metadata": {},
   "source": [
    "* AB-тест для необработанных данных."
   ]
  },
  {
   "cell_type": "code",
   "execution_count": 250,
   "metadata": {},
   "outputs": [
    {
     "name": "stdout",
     "output_type": "stream",
     "text": [
      "размер эффекта: 20\n"
     ]
    },
    {
     "data": {
      "application/vnd.jupyter.widget-view+json": {
       "model_id": "9cbad164de88499d821feed5d4d71521",
       "version_major": 2,
       "version_minor": 0
      },
      "text/plain": [
       "  0%|          | 0/2000 [00:00<?, ?it/s]"
      ]
     },
     "metadata": {},
     "output_type": "display_data"
    },
    {
     "name": "stdout",
     "output_type": "stream",
     "text": [
      "0.0545 +/- 0.0100\n"
     ]
    }
   ],
   "source": [
    "n_iter = 2000\n",
    "alpha = 0.05\n",
    "\n",
    "print(f'размер эффекта: {eps}')\n",
    "n_errors, pval_arr = AA_or_AB_test(n_iter=n_iter, alpha=alpha, AB=True, eps=eps)\n",
    "print('{:.4f} +/- {:.4f}'.format(n_errors / n_iter, 2 * np.sqrt(alpha / n_iter)))"
   ]
  },
  {
   "cell_type": "markdown",
   "metadata": {},
   "source": [
    "* AB-тест для данных, обработанных с помощью CUPED."
   ]
  },
  {
   "cell_type": "code",
   "execution_count": 257,
   "metadata": {},
   "outputs": [
    {
     "name": "stdout",
     "output_type": "stream",
     "text": [
      "размер эффекта: 20\n"
     ]
    },
    {
     "data": {
      "application/vnd.jupyter.widget-view+json": {
       "model_id": "d9574b22841947dbb4cfe413ace71ef0",
       "version_major": 2,
       "version_minor": 0
      },
      "text/plain": [
       "  0%|          | 0/2000 [00:00<?, ?it/s]"
      ]
     },
     "metadata": {},
     "output_type": "display_data"
    },
    {
     "name": "stdout",
     "output_type": "stream",
     "text": [
      "0.0510 +/- 0.0100\n"
     ]
    }
   ],
   "source": [
    "n_iter = 2000\n",
    "alpha = 0.05\n",
    "\n",
    "print(f'размер эффекта: {eps}')\n",
    "n_errors_cuped, pval_arr_cuped = AA_or_AB_test(n_iter=n_iter, alpha=alpha, AB=True, eps=eps, method='CUPED')\n",
    "print('{:.4f} +/- {:.4f}'.format(n_errors_cuped / n_iter, 2 * np.sqrt(alpha / n_iter)))"
   ]
  },
  {
   "cell_type": "code",
   "execution_count": 254,
   "metadata": {},
   "outputs": [
    {
     "data": {
      "text/plain": [
       "[0.18519091280885455,\n",
       " 0.3331500592747316,\n",
       " 0.549581644502296,\n",
       " 0.4034569711644882,\n",
       " 0.8975909765651569,\n",
       " 0.9976305789184179,\n",
       " 0.25709449084890246,\n",
       " 0.7875179829880875,\n",
       " 0.5274077332479661,\n",
       " 0.22434358000785878,\n",
       " 0.8495544490858675,\n",
       " 0.9450186303732933,\n",
       " 0.4714241635298657,\n",
       " 0.1690547230202269,\n",
       " 0.20609264234095667,\n",
       " 0.282029070574245,\n",
       " 0.407090433863343,\n",
       " 0.6675125220760282,\n",
       " 0.5663014397878046,\n",
       " 0.896079669509897,\n",
       " 0.3260817026259498,\n",
       " 0.3658434948692726,\n",
       " 0.22730840062562613,\n",
       " 0.9110935930646917,\n",
       " 0.9914068604813902,\n",
       " 0.7428132341988727,\n",
       " 0.8767623852121934,\n",
       " 0.7567982856890532,\n",
       " 0.3223644076371701,\n",
       " 0.27474827676208513,\n",
       " 0.9681289694034676,\n",
       " 0.6997109852839734,\n",
       " 0.7816306079663213,\n",
       " 0.4349288201806063,\n",
       " 0.547475438819994,\n",
       " 0.421691522653573,\n",
       " 0.5512007984323808,\n",
       " 0.16514900247035144,\n",
       " 0.41341548668590833,\n",
       " 0.8426400556657209,\n",
       " 0.1377784783479579,\n",
       " 0.5256647142363884,\n",
       " 0.1108311445620618,\n",
       " 0.9889955248447714,\n",
       " 0.496056987478786,\n",
       " 0.09999891743909979,\n",
       " 0.573586828501778,\n",
       " 0.6334942441648239,\n",
       " 0.13226842128996633,\n",
       " 0.21120899339148294,\n",
       " 0.029227718317731695,\n",
       " 0.2897000752642631,\n",
       " 0.20665338791994234,\n",
       " 0.002631916030064445,\n",
       " 0.833878684598356,\n",
       " 0.970559859947963,\n",
       " 0.2450599292523404,\n",
       " 0.7905039469845514,\n",
       " 0.4875659401466932,\n",
       " 0.1142866055461077,\n",
       " 0.07541276448251155,\n",
       " 0.6388039304382255,\n",
       " 0.5523691173334685,\n",
       " 0.760459347057265,\n",
       " 0.9237267725571703,\n",
       " 0.10477065455243284,\n",
       " 0.636309150750132,\n",
       " 0.203230212670573,\n",
       " 0.9550252581236355,\n",
       " 0.9893864316253289,\n",
       " 0.08878267935144456,\n",
       " 0.10183803385275499,\n",
       " 0.2602532383068145,\n",
       " 0.6436265857131652,\n",
       " 0.31101702940854936,\n",
       " 0.3396044966401701,\n",
       " 0.6742896535766133,\n",
       " 0.39536325058266364,\n",
       " 0.6003933661817591,\n",
       " 0.5374318283959405,\n",
       " 0.840811065482179,\n",
       " 0.4658422639409955,\n",
       " 0.9619358136246634,\n",
       " 0.43273185861300956,\n",
       " 0.7798327280705527,\n",
       " 0.03036450802933894,\n",
       " 0.8021501471236594,\n",
       " 0.9426145064244498,\n",
       " 0.7864921609745051,\n",
       " 0.844411006660839,\n",
       " 0.6974859980163324,\n",
       " 0.060114939183848484,\n",
       " 0.4870541662773994,\n",
       " 0.7178516888266733,\n",
       " 0.4070488237272226,\n",
       " 0.8580870084578212,\n",
       " 0.06527877353493046,\n",
       " 0.7534082648343241,\n",
       " 0.5431926325235303,\n",
       " 0.3518228457941742,\n",
       " 0.14801351552295497,\n",
       " 0.8993464827170629,\n",
       " 0.07375021890773575,\n",
       " 0.102661164332406,\n",
       " 0.09637730286089655,\n",
       " 0.35121093397783576,\n",
       " 0.08984040609050384,\n",
       " 0.27663935691065156,\n",
       " 0.033183313726674976,\n",
       " 0.4865537701797359,\n",
       " 0.01357012368841602,\n",
       " 0.5805974208329008,\n",
       " 0.7894581015326827,\n",
       " 0.26809019560831815,\n",
       " 0.3203575138856209,\n",
       " 0.9717601394661717,\n",
       " 0.14344393285763715,\n",
       " 0.017214491632484827,\n",
       " 0.1839400798101192,\n",
       " 0.7470415523219811,\n",
       " 0.5512065159395074,\n",
       " 0.2553239857418626,\n",
       " 0.22290583714753426,\n",
       " 0.15869562204798773,\n",
       " 0.0169513204543817,\n",
       " 0.30154265908596006,\n",
       " 0.7468872040481767,\n",
       " 0.5554872181503844,\n",
       " 0.40119110804464386,\n",
       " 0.4848335973963156,\n",
       " 0.5422218939733034,\n",
       " 0.676935386502907,\n",
       " 0.1994359908625637,\n",
       " 0.22019461818637615,\n",
       " 0.6027874461289454,\n",
       " 0.9745854132941558,\n",
       " 0.6477549484067091,\n",
       " 0.40813255828571704,\n",
       " 0.10145006107885055,\n",
       " 0.25071299971443545,\n",
       " 0.5742349655666147,\n",
       " 0.9572425953523285,\n",
       " 0.6981272217402803,\n",
       " 0.22291798054417106,\n",
       " 0.8962268553267048,\n",
       " 0.17145996856581563,\n",
       " 0.21642653969241765,\n",
       " 0.007304208730000173,\n",
       " 0.36258825606087475,\n",
       " 0.2206628241589237,\n",
       " 0.4400485482849207,\n",
       " 0.570688404194666,\n",
       " 0.2849175007183903,\n",
       " 0.3448214941614448,\n",
       " 0.930731587361681,\n",
       " 0.6525779956364905,\n",
       " 0.7791962117059108,\n",
       " 0.06990685386490003,\n",
       " 0.07740308734791908,\n",
       " 0.43671295735633553,\n",
       " 0.8704423814457982,\n",
       " 0.9678053521645995,\n",
       " 0.30479707302566117,\n",
       " 0.44992959403749266,\n",
       " 0.6626586761835709,\n",
       " 0.8226521437529444,\n",
       " 0.08887761583713544,\n",
       " 0.49915188544663014,\n",
       " 0.13078673920478243,\n",
       " 0.8160847135217775,\n",
       " 0.675782494126344,\n",
       " 0.05028463769119801,\n",
       " 0.08771956669661601,\n",
       " 0.8075369332042616,\n",
       " 0.7772826304883214,\n",
       " 0.3674805770347669,\n",
       " 0.21472327782143316,\n",
       " 0.16467465274489906,\n",
       " 0.02286442946504342,\n",
       " 0.2889153615292966,\n",
       " 0.8471522966735917,\n",
       " 0.06607705999889119,\n",
       " 0.8925908868358894,\n",
       " 0.12044796379850134,\n",
       " 0.7197260890989559,\n",
       " 0.7629536152237977,\n",
       " 0.03473067348695595,\n",
       " 0.365326655674198,\n",
       " 0.07911639394240248,\n",
       " 0.17510121088749095,\n",
       " 0.4548761509050322,\n",
       " 0.9491950514903247,\n",
       " 0.8459663227458826,\n",
       " 0.458415203902244,\n",
       " 0.1968963695851531,\n",
       " 0.09064372383115422,\n",
       " 0.7355076263215066,\n",
       " 0.9593925350837934,\n",
       " 0.8877213399722199,\n",
       " 0.1513787288223402]"
      ]
     },
     "execution_count": 254,
     "metadata": {},
     "output_type": "execute_result"
    }
   ],
   "source": [
    "pval_arr_cuped"
   ]
  },
  {
   "cell_type": "markdown",
   "metadata": {},
   "source": [
    "* AB-тест для данных, обработанных с помощью CUPAC."
   ]
  },
  {
   "cell_type": "code",
   "execution_count": 274,
   "metadata": {},
   "outputs": [
    {
     "name": "stdout",
     "output_type": "stream",
     "text": [
      "размер эффекта: 20\n"
     ]
    },
    {
     "data": {
      "application/vnd.jupyter.widget-view+json": {
       "model_id": "afa46a1005494384a75b70853596b061",
       "version_major": 2,
       "version_minor": 0
      },
      "text/plain": [
       "  0%|          | 0/2000 [00:00<?, ?it/s]"
      ]
     },
     "metadata": {},
     "output_type": "display_data"
    },
    {
     "name": "stdout",
     "output_type": "stream",
     "text": [
      "0.0805 +/- 0.0100\n"
     ]
    }
   ],
   "source": [
    "eps = 20\n",
    "n_iter = 2000\n",
    "alpha = 0.05\n",
    "\n",
    "print(f'размер эффекта: {eps}')\n",
    "n_errors_cupac, pval_arr_cupac = AA_or_AB_test(n_iter=n_iter, alpha=alpha, AB=True, eps=eps, method='CUPAC')\n",
    "print('{:.4f} +/- {:.4f}'.format(n_errors_cupac / n_iter, 2 * np.sqrt(alpha / n_iter)))"
   ]
  },
  {
   "cell_type": "markdown",
   "metadata": {},
   "source": [
    "$\\varepsilon = 50.$"
   ]
  },
  {
   "cell_type": "code",
   "execution_count": 258,
   "metadata": {},
   "outputs": [],
   "source": [
    "eps = 50"
   ]
  },
  {
   "cell_type": "markdown",
   "metadata": {},
   "source": [
    "Посмотрим размер эффекта, который мы добавили:"
   ]
  },
  {
   "cell_type": "code",
   "execution_count": 259,
   "metadata": {},
   "outputs": [],
   "source": [
    "sample_size = 300\n",
    "\n",
    "control_test_id = np.random.choice(unique_id, replace=False, size=(2 * sample_size))\n",
    "control_id = control_test_id[:sample_size]\n",
    "test_id = control_test_id[sample_size:]\n",
    "\n",
    "x_pre, x_aa, x_ab, y_pre, y_aa, y_ab = make_groups_and_periods(control_id, test_id, sample_size, eps)"
   ]
  },
  {
   "cell_type": "code",
   "execution_count": 260,
   "metadata": {},
   "outputs": [
    {
     "data": {
      "text/plain": [
       "0.08512295637503801"
      ]
     },
     "execution_count": 260,
     "metadata": {},
     "output_type": "execute_result"
    }
   ],
   "source": [
    "eps / np.mean(y_ab)"
   ]
  },
  {
   "cell_type": "markdown",
   "metadata": {},
   "source": [
    "* AB-тест для необработанных данных."
   ]
  },
  {
   "cell_type": "code",
   "execution_count": 270,
   "metadata": {},
   "outputs": [
    {
     "name": "stdout",
     "output_type": "stream",
     "text": [
      "размер эффекта: 50\n"
     ]
    },
    {
     "data": {
      "application/vnd.jupyter.widget-view+json": {
       "model_id": "65251c9359f54b86a67bfe3382b9883b",
       "version_major": 2,
       "version_minor": 0
      },
      "text/plain": [
       "  0%|          | 0/2000 [00:00<?, ?it/s]"
      ]
     },
     "metadata": {},
     "output_type": "display_data"
    },
    {
     "name": "stdout",
     "output_type": "stream",
     "text": [
      "0.0725 +/- 0.0100\n"
     ]
    }
   ],
   "source": [
    "n_iter = 2000\n",
    "alpha = 0.05\n",
    "\n",
    "print(f'размер эффекта: {eps}')\n",
    "n_errors, pval_arr = AA_or_AB_test(n_iter=n_iter, alpha=alpha, AB=True, eps=eps)\n",
    "print('{:.4f} +/- {:.4f}'.format(n_errors / n_iter, 2 * np.sqrt(alpha / n_iter)))"
   ]
  },
  {
   "cell_type": "markdown",
   "metadata": {},
   "source": [
    "* AB-тест для данных, обработанных с помощью CUPED."
   ]
  },
  {
   "cell_type": "code",
   "execution_count": 275,
   "metadata": {},
   "outputs": [
    {
     "name": "stdout",
     "output_type": "stream",
     "text": [
      "размер эффекта: 50\n"
     ]
    },
    {
     "data": {
      "application/vnd.jupyter.widget-view+json": {
       "model_id": "8a2926e3cf4e4f1b8960d884bf343625",
       "version_major": 2,
       "version_minor": 0
      },
      "text/plain": [
       "  0%|          | 0/2000 [00:00<?, ?it/s]"
      ]
     },
     "metadata": {},
     "output_type": "display_data"
    },
    {
     "name": "stdout",
     "output_type": "stream",
     "text": [
      "0.1160 +/- 0.0100\n"
     ]
    }
   ],
   "source": [
    "eps = 50\n",
    "n_iter = 2000\n",
    "alpha = 0.05\n",
    "\n",
    "print(f'размер эффекта: {eps}')\n",
    "n_errors_cuped, pval_arr_cuped = AA_or_AB_test(n_iter=n_iter, alpha=alpha, AB=True, eps=eps, method='CUPED')\n",
    "print('{:.4f} +/- {:.4f}'.format(n_errors_cuped / n_iter, 2 * np.sqrt(alpha / n_iter)))"
   ]
  },
  {
   "cell_type": "markdown",
   "metadata": {},
   "source": [
    "* AB-тест для данных, обработанных с помощью CUPAC."
   ]
  },
  {
   "cell_type": "code",
   "execution_count": 276,
   "metadata": {},
   "outputs": [
    {
     "name": "stdout",
     "output_type": "stream",
     "text": [
      "размер эффекта: 50\n"
     ]
    },
    {
     "data": {
      "application/vnd.jupyter.widget-view+json": {
       "model_id": "5a3385bf1ff94628baa22b7b1c874626",
       "version_major": 2,
       "version_minor": 0
      },
      "text/plain": [
       "  0%|          | 0/2000 [00:00<?, ?it/s]"
      ]
     },
     "metadata": {},
     "output_type": "display_data"
    },
    {
     "name": "stdout",
     "output_type": "stream",
     "text": [
      "0.2690 +/- 0.0100\n"
     ]
    }
   ],
   "source": [
    "n_iter = 2000\n",
    "alpha = 0.05\n",
    "\n",
    "print(f'размер эффекта: {eps}')\n",
    "n_errors_cupac, pval_arr_cupac = AA_or_AB_test(n_iter=n_iter, alpha=alpha, AB=True, eps=eps, method='CUPAC')\n",
    "print('{:.4f} +/- {:.4f}'.format(n_errors_cupac / n_iter, 2 * np.sqrt(alpha / n_iter)))"
   ]
  },
  {
   "cell_type": "markdown",
   "metadata": {},
   "source": [
    "$\\varepsilon = 200.$"
   ]
  },
  {
   "cell_type": "code",
   "execution_count": 277,
   "metadata": {},
   "outputs": [],
   "source": [
    "eps = 200"
   ]
  },
  {
   "cell_type": "markdown",
   "metadata": {},
   "source": [
    "Посмотрим размер эффекта, который мы добавили:"
   ]
  },
  {
   "cell_type": "code",
   "execution_count": 278,
   "metadata": {},
   "outputs": [],
   "source": [
    "sample_size = 300\n",
    "\n",
    "control_test_id = np.random.choice(unique_id, replace=False, size=(2 * sample_size))\n",
    "control_id = control_test_id[:sample_size]\n",
    "test_id = control_test_id[sample_size:]\n",
    "\n",
    "x_pre, x_aa, x_ab, y_pre, y_aa, y_ab = make_groups_and_periods(control_id, test_id, sample_size, eps)"
   ]
  },
  {
   "cell_type": "code",
   "execution_count": 279,
   "metadata": {},
   "outputs": [
    {
     "data": {
      "text/plain": [
       "0.22488913259915172"
      ]
     },
     "execution_count": 279,
     "metadata": {},
     "output_type": "execute_result"
    }
   ],
   "source": [
    "eps / np.mean(y_ab)"
   ]
  },
  {
   "cell_type": "markdown",
   "metadata": {},
   "source": [
    "* AB-тест для необработанных данных."
   ]
  },
  {
   "cell_type": "code",
   "execution_count": 280,
   "metadata": {},
   "outputs": [
    {
     "name": "stdout",
     "output_type": "stream",
     "text": [
      "размер эффекта: 200\n"
     ]
    },
    {
     "data": {
      "application/vnd.jupyter.widget-view+json": {
       "model_id": "c646cbc3a9844877aca13bf77dd4d563",
       "version_major": 2,
       "version_minor": 0
      },
      "text/plain": [
       "  0%|          | 0/2000 [00:00<?, ?it/s]"
      ]
     },
     "metadata": {},
     "output_type": "display_data"
    },
    {
     "name": "stdout",
     "output_type": "stream",
     "text": [
      "0.4055 +/- 0.0100\n"
     ]
    }
   ],
   "source": [
    "n_iter = 2000\n",
    "alpha = 0.05\n",
    "\n",
    "print(f'размер эффекта: {eps}')\n",
    "n_errors, pval_arr = AA_or_AB_test(n_iter=n_iter, alpha=alpha, AB=True, eps=eps)\n",
    "print('{:.4f} +/- {:.4f}'.format(n_errors / n_iter, 2 * np.sqrt(alpha / n_iter)))"
   ]
  },
  {
   "cell_type": "markdown",
   "metadata": {},
   "source": [
    "* AB-тест для данных, обработанных с помощью CUPED."
   ]
  },
  {
   "cell_type": "code",
   "execution_count": 281,
   "metadata": {},
   "outputs": [
    {
     "name": "stdout",
     "output_type": "stream",
     "text": [
      "размер эффекта: 200\n"
     ]
    },
    {
     "data": {
      "application/vnd.jupyter.widget-view+json": {
       "model_id": "6036fb74a03945c695a76b1353e345b3",
       "version_major": 2,
       "version_minor": 0
      },
      "text/plain": [
       "  0%|          | 0/2000 [00:00<?, ?it/s]"
      ]
     },
     "metadata": {},
     "output_type": "display_data"
    },
    {
     "name": "stdout",
     "output_type": "stream",
     "text": [
      "0.8065 +/- 0.0100\n"
     ]
    }
   ],
   "source": [
    "n_iter = 2000\n",
    "alpha = 0.05\n",
    "\n",
    "print(f'размер эффекта: {eps}')\n",
    "n_errors_cuped, pval_arr_cuped = AA_or_AB_test(n_iter=n_iter, alpha=alpha, AB=True, eps=eps, method='CUPED')\n",
    "print('{:.4f} +/- {:.4f}'.format(n_errors_cuped / n_iter, 2 * np.sqrt(alpha / n_iter)))"
   ]
  },
  {
   "cell_type": "markdown",
   "metadata": {},
   "source": [
    "* AB-тест для данных, обработанных с помощью CUPAC."
   ]
  },
  {
   "cell_type": "code",
   "execution_count": 282,
   "metadata": {},
   "outputs": [
    {
     "name": "stdout",
     "output_type": "stream",
     "text": [
      "размер эффекта: 200\n"
     ]
    },
    {
     "data": {
      "application/vnd.jupyter.widget-view+json": {
       "model_id": "9d47354c5a254830bdff3a7c051ece1e",
       "version_major": 2,
       "version_minor": 0
      },
      "text/plain": [
       "  0%|          | 0/2000 [00:00<?, ?it/s]"
      ]
     },
     "metadata": {},
     "output_type": "display_data"
    },
    {
     "name": "stdout",
     "output_type": "stream",
     "text": [
      "0.9990 +/- 0.0100\n"
     ]
    }
   ],
   "source": [
    "n_iter = 2000\n",
    "alpha = 0.05\n",
    "\n",
    "print(f'размер эффекта: {eps}')\n",
    "n_errors_cupac, pval_arr_cupac = AA_or_AB_test(n_iter=n_iter, alpha=alpha, AB=True, eps=eps, method='CUPAC')\n",
    "print('{:.4f} +/- {:.4f}'.format(n_errors_cupac / n_iter, 2 * np.sqrt(alpha / n_iter)))"
   ]
  },
  {
   "cell_type": "markdown",
   "metadata": {},
   "source": [
    "**Вывод:** \n",
    "* касаемо АА-теста: все критерии работают на заданном уровне значимости, гистограмма p-value тоже похожа на равномерную, значит, все хорошо;\n",
    "* касаемо AB-теста: CUPED уменьшил дисперсию где-то в 3 раза, а CUPAC &mdash; аж в 10 раз. За счет этого при маленьком эффекте (20, около 4%) обычный t-test и t-test с CUPED почти ничего не отвергали, а t-test с CUPAC уже начал отвергать с частотой в 8%. При эффекте 50 (около 9%) обычный t-test отвергал слабо: около 7%, t-test с CUPED немного получше: около 11%, а с CUPAC &mdash; уже почти 27%. При эффекте 200 (около 22-23%) обычный t-test отвергал с частотой примерно 40%, t-test с CUPED &mdash; с частотой около 80% (что уже на примерно том уровне, на котором мы хотим видеть мощность), а мощность test с CUPAC оказалась почти уже 100% (отличается меньше погрешности). Исходя из рассчитанных дисперсий, стоило ожидать полученные результаты. Также стоит отметить, что предсказания модели с CUPAC являются отличной ковариатой и значительно уменьшают дисперсию, что позволяет в разы увеличить мощность критериев."
   ]
  },
  {
   "cell_type": "markdown",
   "metadata": {},
   "source": [
    "### Задача 2.\n",
    "\n",
    "Пусть в общей совокупности данных имеется $K$ страт, причем вес страты $k \\in \\{1, ..., K\\}$ равен $w_k$, где $w_1+...+w_K=1$. Пусть также выборка размера $n$ выбрана случайно, то есть вероятность выбрать элемент из страты $k$ равна $w_k$.\n",
    "\n",
    "Посчитайте $\\mathsf{E}_r \\frac{1}{n_k}$ с точностью до $o(1/n^2)$, где $n_k$ &mdash; количество элементов выборки из страты $k$.\n",
    "\n",
    "*Указание.* Разложите по Тейлору функцию $f(x)=1/x$ в точке $x_0\\not=0$."
   ]
  }
 ],
 "metadata": {
  "kernelspec": {
   "display_name": "Python 3 (ipykernel)",
   "language": "python",
   "name": "python3"
  },
  "language_info": {
   "codemirror_mode": {
    "name": "ipython",
    "version": 3
   },
   "file_extension": ".py",
   "mimetype": "text/x-python",
   "name": "python",
   "nbconvert_exporter": "python",
   "pygments_lexer": "ipython3",
   "version": "3.9.12"
  }
 },
 "nbformat": 4,
 "nbformat_minor": 2
}
