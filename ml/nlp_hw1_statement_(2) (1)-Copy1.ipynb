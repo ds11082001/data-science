{
 "cells": [
  {
   "cell_type": "markdown",
   "metadata": {
    "id": "e_mkFo8-WXSw"
   },
   "source": [
    "\n",
    "# Машинное обучение, DS-поток\n",
    "## Задание 1.10\n",
    "\n",
    "\n",
    "**Правила:**\n",
    "\n",
    "* Выполненную работу нужно отправить телеграм-боту `@miptstats_ad21_bot`.\n",
    "* Дедлайны см. в боте. После дедлайна работы не принимаются кроме случаев наличия уважительной причины.\n",
    "* Прислать нужно ноутбук в формате `ipynb`.\n",
    "* Решения, размещенные на каких-либо интернет-ресурсах не принимаются. Публикация решения может быть приравнена к предоставлении возможности списать.\n",
    "* Для выполнения задания используйте этот ноутбук в качестве основы, ничего не удаляя из него.\n",
    "\n",
    "---\n",
    "\n",
    "\n",
    "В данном домашнем задании вам предлагается проанализировать и улучшить модель для `Sentiment Analysis`, которую вы обучали на предыдущем семинаре.\n",
    "\n",
    "Предлагается выполнить следующие пункты:\n",
    "\n",
    "\n",
    "1. **(2 балла)** Примените стемминг или лемматизацию к датасету. Как поменялось качество? \n",
    "\n",
    "2. **(2 балла)** Попробуйте изменить размерность эмбеддинга на сильно большую и сильно меньшую. В качестве размеров эмбеддингов можно взять 30 и 200. Как меняется качество модели? Какая модель более склонна к переобучению и почему?\n",
    "\n",
    "3. **(2 балла)** Посмотрите на обученнные вами эмбеддинги у модели с маленьким размером эмбеддинга из предыдущего пункта. Для нескольких слов найдите похожие на него по косинусному сходству. \n",
    "\n",
    "5. **(2 балла)** Попробуйте рассмотреть фильтры меньших размеров.\n",
    " * Рассмотрите фильтры размеров 1, 2, 3\n",
    " * Рассмотрите фильтры размеров 1, 2\n",
    " \n",
    " Сильно ли меняется качество модели для данной задачи? Почему?\n",
    "\n",
    "6. **(2 балла)** Как можно заметить, у нас не сильно большая тренировочная выборка. Попробуйте сделать аугментацию текста. \n",
    "\n",
    "  Один из вариантов: заменять слово на синоним с какой-то вероятностью $p$. То есть с вероятностью $p$ каждое слово будет заменено на некоторый его синоним, а с вероятностью $1 - p$ слово останется как есть.\n",
    "\n",
    "\n",
    "Для простоты анализа результатов стоит не применять сразу несколько улучшений, а делать их отдельно. В каждом выполняемом пункте постройте кривую лосса как для трейна, так и для валидации."
   ]
  },
  {
   "cell_type": "markdown",
   "metadata": {
    "id": "Fv3QiNoNSKGV"
   },
   "source": [
    "Нужно использовать те же версии библиотек, что и на семинаре."
   ]
  },
  {
   "cell_type": "code",
   "execution_count": 1,
   "metadata": {
    "colab": {
     "base_uri": "https://localhost:8080/"
    },
    "id": "5KsE6TjBTsEE",
    "outputId": "4ceb82b3-9563-4c6a-84c2-6be8d7c5d3c8"
   },
   "outputs": [
    {
     "name": "stdout",
     "output_type": "stream",
     "text": [
      "Requirement already satisfied: nltk in /usr/local/lib/python3.7/dist-packages (3.2.5)\n",
      "Collecting nltk\n",
      "  Downloading nltk-3.7-py3-none-any.whl (1.5 MB)\n",
      "\u001b[K     |████████████████████████████████| 1.5 MB 4.4 MB/s \n",
      "\u001b[?25hCollecting regex>=2021.8.3\n",
      "  Downloading regex-2022.3.15-cp37-cp37m-manylinux_2_17_x86_64.manylinux2014_x86_64.whl (749 kB)\n",
      "\u001b[K     |████████████████████████████████| 749 kB 40.8 MB/s \n",
      "\u001b[?25hRequirement already satisfied: tqdm in /usr/local/lib/python3.7/dist-packages (from nltk) (4.64.0)\n",
      "Requirement already satisfied: click in /usr/local/lib/python3.7/dist-packages (from nltk) (7.1.2)\n",
      "Requirement already satisfied: joblib in /usr/local/lib/python3.7/dist-packages (from nltk) (1.1.0)\n",
      "Installing collected packages: regex, nltk\n",
      "  Attempting uninstall: regex\n",
      "    Found existing installation: regex 2019.12.20\n",
      "    Uninstalling regex-2019.12.20:\n",
      "      Successfully uninstalled regex-2019.12.20\n",
      "  Attempting uninstall: nltk\n",
      "    Found existing installation: nltk 3.2.5\n",
      "    Uninstalling nltk-3.2.5:\n",
      "      Successfully uninstalled nltk-3.2.5\n",
      "Successfully installed nltk-3.7 regex-2022.3.15\n",
      "Requirement already satisfied: gensim in /usr/local/lib/python3.7/dist-packages (3.6.0)\n",
      "Collecting gensim\n",
      "  Downloading gensim-4.1.2-cp37-cp37m-manylinux_2_12_x86_64.manylinux2010_x86_64.whl (24.1 MB)\n",
      "\u001b[K     |████████████████████████████████| 24.1 MB 2.7 MB/s \n",
      "\u001b[?25hRequirement already satisfied: scipy>=0.18.1 in /usr/local/lib/python3.7/dist-packages (from gensim) (1.4.1)\n",
      "Requirement already satisfied: numpy>=1.17.0 in /usr/local/lib/python3.7/dist-packages (from gensim) (1.21.5)\n",
      "Requirement already satisfied: smart-open>=1.8.1 in /usr/local/lib/python3.7/dist-packages (from gensim) (5.2.1)\n",
      "Installing collected packages: gensim\n",
      "  Attempting uninstall: gensim\n",
      "    Found existing installation: gensim 3.6.0\n",
      "    Uninstalling gensim-3.6.0:\n",
      "      Successfully uninstalled gensim-3.6.0\n",
      "Successfully installed gensim-4.1.2\n",
      "Requirement already satisfied: torch in /usr/local/lib/python3.7/dist-packages (1.10.0+cu111)\n",
      "Collecting torch\n",
      "  Downloading torch-1.11.0-cp37-cp37m-manylinux1_x86_64.whl (750.6 MB)\n",
      "\u001b[K     |████████████████████████████████| 750.6 MB 11 kB/s \n",
      "\u001b[?25hRequirement already satisfied: typing-extensions in /usr/local/lib/python3.7/dist-packages (from torch) (4.1.1)\n",
      "Installing collected packages: torch\n",
      "  Attempting uninstall: torch\n",
      "    Found existing installation: torch 1.10.0+cu111\n",
      "    Uninstalling torch-1.10.0+cu111:\n",
      "      Successfully uninstalled torch-1.10.0+cu111\n",
      "\u001b[31mERROR: pip's dependency resolver does not currently take into account all the packages that are installed. This behaviour is the source of the following dependency conflicts.\n",
      "torchvision 0.11.1+cu111 requires torch==1.10.0, but you have torch 1.11.0 which is incompatible.\n",
      "torchtext 0.11.0 requires torch==1.10.0, but you have torch 1.11.0 which is incompatible.\n",
      "torchaudio 0.10.0+cu111 requires torch==1.10.0, but you have torch 1.11.0 which is incompatible.\u001b[0m\n",
      "Successfully installed torch-1.11.0\n",
      "Found existing installation: torchtext 0.11.0\n",
      "Uninstalling torchtext-0.11.0:\n",
      "  Successfully uninstalled torchtext-0.11.0\n",
      "Collecting torchtext<0.9\n",
      "  Downloading torchtext-0.8.1-cp37-cp37m-manylinux1_x86_64.whl (7.0 MB)\n",
      "\u001b[K     |████████████████████████████████| 7.0 MB 5.3 MB/s \n",
      "\u001b[?25hCollecting torch==1.7.1\n",
      "  Downloading torch-1.7.1-cp37-cp37m-manylinux1_x86_64.whl (776.8 MB)\n",
      "\u001b[K     |████████████████████████████████| 776.8 MB 17 kB/s \n",
      "\u001b[?25hRequirement already satisfied: tqdm in /usr/local/lib/python3.7/dist-packages (from torchtext<0.9) (4.64.0)\n",
      "Requirement already satisfied: requests in /usr/local/lib/python3.7/dist-packages (from torchtext<0.9) (2.23.0)\n",
      "Requirement already satisfied: numpy in /usr/local/lib/python3.7/dist-packages (from torchtext<0.9) (1.21.5)\n",
      "Requirement already satisfied: typing-extensions in /usr/local/lib/python3.7/dist-packages (from torch==1.7.1->torchtext<0.9) (4.1.1)\n",
      "Requirement already satisfied: certifi>=2017.4.17 in /usr/local/lib/python3.7/dist-packages (from requests->torchtext<0.9) (2021.10.8)\n",
      "Requirement already satisfied: idna<3,>=2.5 in /usr/local/lib/python3.7/dist-packages (from requests->torchtext<0.9) (2.10)\n",
      "Requirement already satisfied: urllib3!=1.25.0,!=1.25.1,<1.26,>=1.21.1 in /usr/local/lib/python3.7/dist-packages (from requests->torchtext<0.9) (1.24.3)\n",
      "Requirement already satisfied: chardet<4,>=3.0.2 in /usr/local/lib/python3.7/dist-packages (from requests->torchtext<0.9) (3.0.4)\n",
      "Installing collected packages: torch, torchtext\n",
      "  Attempting uninstall: torch\n",
      "    Found existing installation: torch 1.11.0\n",
      "    Uninstalling torch-1.11.0:\n",
      "      Successfully uninstalled torch-1.11.0\n",
      "\u001b[31mERROR: pip's dependency resolver does not currently take into account all the packages that are installed. This behaviour is the source of the following dependency conflicts.\n",
      "torchvision 0.11.1+cu111 requires torch==1.10.0, but you have torch 1.7.1 which is incompatible.\n",
      "torchaudio 0.10.0+cu111 requires torch==1.10.0, but you have torch 1.7.1 which is incompatible.\u001b[0m\n",
      "Successfully installed torch-1.7.1 torchtext-0.8.1\n"
     ]
    }
   ],
   "source": [
    "!pip install -U nltk\n",
    "!pip install -U gensim\n",
    "!pip install -U torch\n",
    "\n",
    "!pip uninstall -y torchtext\n",
    "!pip install 'torchtext<0.9'"
   ]
  },
  {
   "cell_type": "code",
   "execution_count": 1,
   "metadata": {
    "colab": {
     "base_uri": "https://localhost:8080/"
    },
    "id": "sMURFkupTTOZ",
    "outputId": "8fc3a0fc-6885-43dc-c7eb-d8e70d417ba0"
   },
   "outputs": [
    {
     "name": "stderr",
     "output_type": "stream",
     "text": [
      "[nltk_data] Downloading package punkt to /root/nltk_data...\n",
      "[nltk_data]   Package punkt is already up-to-date!\n",
      "[nltk_data] Downloading package wordnet to /root/nltk_data...\n",
      "[nltk_data]   Package wordnet is already up-to-date!\n"
     ]
    }
   ],
   "source": [
    "import numpy as np\n",
    "import random\n",
    "import time\n",
    "from tqdm.notebook import tqdm\n",
    "from IPython.display import clear_output\n",
    "\n",
    "from matplotlib import pyplot as plt\n",
    "\n",
    "import gensim\n",
    "import nltk\n",
    "from nltk.tokenize import sent_tokenize, word_tokenize\n",
    "from nltk.corpus import wordnet\n",
    "from nltk.stem import PorterStemmer, WordNetLemmatizer\n",
    "import scipy.stats as sps\n",
    "\n",
    "from sklearn.metrics import accuracy_score\n",
    "\n",
    "import seaborn as sns\n",
    "sns.set(font_scale=1.6)\n",
    "\n",
    "import torch\n",
    "import torch.nn as nn\n",
    "import torch.nn.functional as F\n",
    "from torchtext import data, datasets\n",
    "\n",
    "nltk.download('punkt') # для токенизации текстов и работы с пунктуацией\n",
    "nltk.download('wordnet') # для графа зависимостей между словами\n",
    "\n",
    "device = torch.device('cuda' if torch.cuda.is_available() else 'cpu')"
   ]
  },
  {
   "cell_type": "markdown",
   "metadata": {
    "id": "dcdz3MyGXs_4"
   },
   "source": [
    "Зафиксируем random seed для воспроизводимости результатов"
   ]
  },
  {
   "cell_type": "code",
   "execution_count": 2,
   "metadata": {
    "id": "RBn0chVhXskz"
   },
   "outputs": [],
   "source": [
    "SEED = 1234\n",
    "random.seed(SEED)\n",
    "torch.manual_seed(SEED)\n",
    "torch.backends.cudnn.deterministic = True"
   ]
  },
  {
   "cell_type": "markdown",
   "metadata": {
    "id": "s2FNTqpsX1LU"
   },
   "source": [
    "Создадим поле для текста и зададим способ токенизации для него, а также создадим поле для метки\n",
    "отзыва"
   ]
  },
  {
   "cell_type": "code",
   "execution_count": 3,
   "metadata": {
    "colab": {
     "base_uri": "https://localhost:8080/"
    },
    "id": "IqWoOHrgX0__",
    "outputId": "78a7a23a-357b-4bd9-c81f-631bf54ff23d"
   },
   "outputs": [
    {
     "name": "stderr",
     "output_type": "stream",
     "text": [
      "/usr/local/lib/python3.7/dist-packages/torchtext/data/field.py:150: UserWarning: Field class will be retired soon and moved to torchtext.legacy. Please see the most recent release notes for further information.\n",
      "  warnings.warn('{} class will be retired soon and moved to torchtext.legacy. Please see the most recent release notes for further information.'.format(self.__class__.__name__), UserWarning)\n",
      "/usr/local/lib/python3.7/dist-packages/torchtext/data/field.py:150: UserWarning: LabelField class will be retired soon and moved to torchtext.legacy. Please see the most recent release notes for further information.\n",
      "  warnings.warn('{} class will be retired soon and moved to torchtext.legacy. Please see the most recent release notes for further information.'.format(self.__class__.__name__), UserWarning)\n"
     ]
    }
   ],
   "source": [
    "TEXT = data.Field(tokenize='spacy', batch_first=True)\n",
    "LABEL = data.LabelField(dtype=torch.float)"
   ]
  },
  {
   "cell_type": "markdown",
   "metadata": {
    "id": "BcGsu_cqY8y7"
   },
   "source": [
    "Скачаем данные, представив их в виде трейна, валидации, теста."
   ]
  },
  {
   "cell_type": "code",
   "execution_count": 4,
   "metadata": {
    "colab": {
     "base_uri": "https://localhost:8080/"
    },
    "id": "1iIgG2eFGyu_",
    "outputId": "a326909a-2a5a-4056-e1f8-9bf9e38f1dab"
   },
   "outputs": [
    {
     "name": "stderr",
     "output_type": "stream",
     "text": [
      "/usr/local/lib/python3.7/dist-packages/torchtext/data/example.py:78: UserWarning: Example class will be retired soon and moved to torchtext.legacy. Please see the most recent release notes for further information.\n",
      "  warnings.warn('Example class will be retired soon and moved to torchtext.legacy. Please see the most recent release notes for further information.', UserWarning)\n"
     ]
    }
   ],
   "source": [
    "train_data, test_data = datasets.IMDB.splits(TEXT, LABEL)\n",
    "train_data, valid_data = train_data.split(random_state=random.seed(SEED))"
   ]
  },
  {
   "cell_type": "markdown",
   "metadata": {
    "id": "lEJXMVdkGyvA"
   },
   "source": [
    "Вспомогательные функции с семинара. Вы можете их переписать, есть требуется."
   ]
  },
  {
   "cell_type": "code",
   "execution_count": 5,
   "metadata": {
    "id": "8NXw_5jTGyvB"
   },
   "outputs": [],
   "source": [
    "def binary_accuracy(preds, y):\n",
    "    \"\"\"\n",
    "    Возвращает точность модели.\n",
    "\n",
    "    Параметры.\n",
    "    1) preds — предсказания модели,\n",
    "    2) y — истинные метки классов.\n",
    "\n",
    "    \"\"\"\n",
    "\n",
    "    # округляет предсказания до ближайшего integer\n",
    "    rounded_preds = torch.round(torch.sigmoid(preds))\n",
    "    correct = (rounded_preds == y).float()\n",
    "    acc = correct.sum() / len(correct)\n",
    "    return acc\n",
    "\n",
    "def train(model, iterator, optimizer, criterion, loss_history):\n",
    "    '''\n",
    "    Функция для обучения модели на обучающем датасете и подсчёта\n",
    "    её точности.\n",
    "\n",
    "    Параметры.\n",
    "    1) model — модель,\n",
    "    2) iterator — итератор обучающего датасета,\n",
    "    3) optimizer — класс метода оптимизации,\n",
    "    4) criterion — функция потерь.\n",
    "\n",
    "    Возвращает среднее значение лосса и среднюю точность во время эпохи.\n",
    "    Добавляет в массив loss_history значение лоссов по батчам во время эпохи.\n",
    "    \n",
    "    '''\n",
    "\n",
    "    epoch_loss = 0\n",
    "    epoch_acc = 0\n",
    "    model.train()\n",
    "\n",
    "    for batch_id, batch in enumerate(iterator):\n",
    "        # чтобы градиент не накапливался, его нужно обнулить\n",
    "        optimizer.zero_grad()\n",
    "        # получим предсказания модели\n",
    "        predictions = model(batch.text).squeeze(1)\n",
    "        loss = criterion(predictions, batch.label)\n",
    "        acc = binary_accuracy(predictions, batch.label)\n",
    "        \n",
    "        # сделаем back-propagation для подсчёта градиентов\n",
    "        loss.backward()\n",
    "        # выполним шаг оптимизатора\n",
    "        optimizer.step()\n",
    "        # обновим метрики\n",
    "        epoch_loss += loss.item()\n",
    "        epoch_acc += acc.item()\n",
    "        loss_history.append(epoch_loss / (batch_id + 1))\n",
    "        \n",
    "    return epoch_loss / len(iterator), epoch_acc / len(iterator)\n",
    "\n",
    "\n",
    "def evaluate(model, iterator, criterion):\n",
    "    '''\n",
    "    Функция для применения модели на валидационном/тестовом датасете и подсчёта\n",
    "    её точности.\n",
    "\n",
    "    Параметры.\n",
    "    1) model — модель,\n",
    "    2) iterator — итератор датасета,\n",
    "    3) criterion — функция потерь.\n",
    "\n",
    "    Возвращает среднее значение лосса и среднюю точность во время эпохи.\n",
    "    '''\n",
    "\n",
    "    epoch_loss = 0\n",
    "    epoch_acc = 0\n",
    "    \n",
    "    model.eval()\n",
    "    \n",
    "    with torch.no_grad(): # отключим подсчёт градиентов на валидации\n",
    "        for batch in iterator:\n",
    "            # получим предсказания\n",
    "            predictions = model(batch.text).squeeze(1)\n",
    "            # посчитаем метрики\n",
    "            loss = criterion(predictions, batch.label)\n",
    "            acc = binary_accuracy(predictions, batch.label)\n",
    "            epoch_loss += loss.item()\n",
    "            epoch_acc += acc.item()\n",
    "        \n",
    "    return epoch_loss / len(iterator), epoch_acc / len(iterator)\n",
    "\n",
    "def epoch_time(start_time, end_time):\n",
    "    '''\n",
    "    Функция для подсчёта времени работы одной эпохи.\n",
    "\n",
    "    Параметры.\n",
    "    1) start_time — время начала запуска,\n",
    "    2) end_time — время завершения работы эпохи.\n",
    "    '''\n",
    "\n",
    "    elapsed_time = end_time - start_time\n",
    "    elapsed_mins = int(elapsed_time / 60)\n",
    "    elapsed_secs = int(elapsed_time - (elapsed_mins * 60))\n",
    "    return elapsed_mins, elapsed_secs\n",
    "\n",
    "\n",
    "def training_loop(model_instance, n_epochs=10, name_model='tut4-model.pt'):\n",
    "    '''\n",
    "    Функция для обучения нейронной сети.\n",
    "\n",
    "    Параметры.\n",
    "    1) model_instance — обучаемая модель,\n",
    "    2) n_epochs — количество эпох.\n",
    "\n",
    "    Сохраняет модель, показавшую лучшее значение метрики на валидации, в файл.\n",
    "    '''\n",
    "\n",
    "    best_valid_loss = float('inf')\n",
    "    loss_history = []\n",
    "\n",
    "    for epoch in range(n_epochs):\n",
    "        start_time = time.time()\n",
    "        # обучим одну эпоху на обучающем датасете\n",
    "        train_loss, train_acc = train(model_instance, train_iterator, optimizer, criterion, loss_history)\n",
    "\n",
    "        # оценим точность модели на тестовом датасете\n",
    "        valid_loss, valid_acc = evaluate(model_instance, valid_iterator, criterion)\n",
    "\n",
    "        # посчитаем время работы одной эпохи\n",
    "        end_time = time.time()\n",
    "        epoch_mins, epoch_secs = epoch_time(start_time, end_time)\n",
    "        # отобразим графики loss'а\n",
    "        clear_output(True)\n",
    "        plt.figure(figsize=(12, 6))\n",
    "        plt.plot(loss_history)\n",
    "        plt.xlabel('номер батча')\n",
    "        plt.ylabel('значение')\n",
    "        plt.title('Изменение функции потерь')\n",
    "        plt.show()\n",
    "        # если значение функции потерь улучшилось, сохраним параметры модели\n",
    "        if valid_loss < best_valid_loss:\n",
    "            best_valid_loss = valid_loss\n",
    "            torch.save(model_instance.state_dict(), name_model)\n",
    "      \n",
    "        print(f'Номер эпохи: {epoch+1:02} | Время обучения эпохи: {epoch_mins}m {epoch_secs}s')\n",
    "        print(f'\\tTrain Loss: {train_loss:.3f} | Train Acc: {train_acc*100:.2f}%')\n",
    "        print(f'\\t Val. Loss: {valid_loss:.3f} |  Val. Acc: {valid_acc*100:.2f}%')"
   ]
  },
  {
   "cell_type": "markdown",
   "metadata": {
    "id": "xUcqa9wpWQkU"
   },
   "source": [
    "## 1. Предобработка данных\n",
    "\n",
    "Примените стемминг или лемматизацию к train, test и validation датасетам.\n",
    "\n",
    "*Подсказка.* В `train_data[i].text` лежит текст для $i$-ого объекта. Чтобы не разбираться с созданием нового `torchtext.data.dataset` вы можете перезаписать это поле."
   ]
  },
  {
   "cell_type": "code",
   "execution_count": 6,
   "metadata": {
    "colab": {
     "base_uri": "https://localhost:8080/"
    },
    "id": "QgdCY2S9dwq9",
    "outputId": "715cf77b-9e6f-4c04-87aa-3de61f2f2718"
   },
   "outputs": [
    {
     "name": "stderr",
     "output_type": "stream",
     "text": [
      "[nltk_data] Downloading package averaged_perceptron_tagger to\n",
      "[nltk_data]     /root/nltk_data...\n",
      "[nltk_data]   Package averaged_perceptron_tagger is already up-to-\n",
      "[nltk_data]       date!\n"
     ]
    },
    {
     "data": {
      "text/plain": [
       "True"
      ]
     },
     "execution_count": 6,
     "metadata": {},
     "output_type": "execute_result"
    }
   ],
   "source": [
    "nltk.download('averaged_perceptron_tagger')  # нужно для модуля nltk.pos_tag"
   ]
  },
  {
   "cell_type": "code",
   "execution_count": 7,
   "metadata": {
    "colab": {
     "base_uri": "https://localhost:8080/"
    },
    "id": "rsQi-BuygTZE",
    "outputId": "44c0faa3-24c1-4e94-a87a-d57713f1ae6e"
   },
   "outputs": [
    {
     "name": "stderr",
     "output_type": "stream",
     "text": [
      "[nltk_data] Downloading package omw-1.4 to /root/nltk_data...\n",
      "[nltk_data]   Package omw-1.4 is already up-to-date!\n"
     ]
    },
    {
     "data": {
      "text/plain": [
       "True"
      ]
     },
     "execution_count": 7,
     "metadata": {},
     "output_type": "execute_result"
    }
   ],
   "source": [
    "nltk.download('omw-1.4')"
   ]
  },
  {
   "cell_type": "code",
   "execution_count": 8,
   "metadata": {
    "colab": {
     "base_uri": "https://localhost:8080/"
    },
    "id": "ox-_AbjqCe5Z",
    "outputId": "9772f044-47a8-4e7d-9b96-bba1a037cddf"
   },
   "outputs": [
    {
     "name": "stdout",
     "output_type": "stream",
     "text": [
      "foot\n",
      "['The', 'strip', 'bat', 'be', 'hang', 'on', 'their', 'foot', 'for', 'best']\n"
     ]
    }
   ],
   "source": [
    "def get_wordnet_pos(word):\n",
    "    \"\"\" Переводит POS tag в один символ для lemmatize() \"\"\"\n",
    "    \n",
    "    tag = nltk.pos_tag([word])[0][1][0].upper()\n",
    "    tag_dict = {\"J\": wordnet.ADJ,\n",
    "                \"N\": wordnet.NOUN,\n",
    "                \"V\": wordnet.VERB,\n",
    "                \"R\": wordnet.ADV}\n",
    "\n",
    "    return tag_dict.get(tag, wordnet.NOUN)\n",
    "\n",
    "\n",
    "lemmatizer = WordNetLemmatizer()\n",
    "\n",
    "# лемматизация одного слова\n",
    "word = 'feet'\n",
    "print(lemmatizer.lemmatize(word, get_wordnet_pos(word)))\n",
    "\n",
    "# лемматизация предложения\n",
    "sentence = \"The striped bats are hanging on their feet for best\"\n",
    "print([lemmatizer.lemmatize(w, get_wordnet_pos(w)) for w in word_tokenize(sentence)])"
   ]
  },
  {
   "cell_type": "code",
   "execution_count": null,
   "metadata": {
    "id": "nvJ3EtIsgvI3"
   },
   "outputs": [],
   "source": [
    "train_data[0].text"
   ]
  },
  {
   "cell_type": "code",
   "execution_count": 11,
   "metadata": {
    "colab": {
     "base_uri": "https://localhost:8080/"
    },
    "id": "iEnMpx7Co3Ds",
    "outputId": "dac6491a-5ba5-4ab8-89cd-f91172cfb6e0"
   },
   "outputs": [
    {
     "name": "stdout",
     "output_type": "stream",
     "text": [
      "17500\n",
      "7500\n",
      "25000\n"
     ]
    }
   ],
   "source": [
    "print(len(train_data))\n",
    "print(len(valid_data))\n",
    "print(len(test_data))"
   ]
  },
  {
   "cell_type": "code",
   "execution_count": null,
   "metadata": {
    "colab": {
     "base_uri": "https://localhost:8080/",
     "height": 86,
     "referenced_widgets": [
      "0c089152a1344b919faa1ba7f85fbaf7",
      "9917e682e86b44a58aa29c1f7067d2b8",
      "a1a0d0b69a5b4143bc8971d95813ec39",
      "0015339d3216486f84135cb98f89a7d8",
      "4a58456a86a34d3089c6aaf5d8ee63b7",
      "0932c1905904469f806943d4a4253f97",
      "cb37c4af7b164fe59f8ada0d3991f111",
      "c70bde38b81c44ccace664ed05ed2bf0",
      "b47b5927a3e148a1a7b4fa6f42981ba4",
      "25e2c56d91924ba4b61be43f24a2569a",
      "3f01725cfd96420ca9dd8ea5d991f9c3"
     ]
    },
    "id": "v7RrRzZ4ggvY",
    "outputId": "9d6dbee4-cc00-4047-cba5-c26367b37463"
   },
   "outputs": [
    {
     "data": {
      "application/vnd.jupyter.widget-view+json": {
       "model_id": "0c089152a1344b919faa1ba7f85fbaf7",
       "version_major": 2,
       "version_minor": 0
      },
      "text/plain": [
       "0it [00:00, ?it/s]"
      ]
     },
     "metadata": {},
     "output_type": "display_data"
    },
    {
     "name": "stdout",
     "output_type": "stream",
     "text": [
      "[['No', 'likeable', 'character', '(', 'the', 'lead', 'be', 'a', 'combination', 'of', 'the', 'WORST', 'of', 'Woody', 'Allen', '/', 'Paul', 'Provensa', '/', 'Reiser', ')', 'and', 'the', 'contrive', 'scene', '(', 'do', 'anyone', 'REALLY', 'think', 'thiat', 'kid', 'on', 'the', 'rollerblade', 'be', 'NOT', 'go', 'to', 'knock', 'the', 'guy', 'down', '?', ')', 'be', 'just', 'sickeningly', 'bad.<br', '/><br', '/', '>']]\n"
     ]
    }
   ],
   "source": [
    "for i, x in tqdm(enumerate(train_data)):\n",
    "    text = x.text\n",
    "    train_data[i].text = [lemmatizer.lemmatize(w, get_wordnet_pos(w)) for w in text]\n",
    "\n",
    "print([train_data[0].text])"
   ]
  },
  {
   "cell_type": "code",
   "execution_count": null,
   "metadata": {
    "colab": {
     "base_uri": "https://localhost:8080/",
     "height": 86,
     "referenced_widgets": [
      "303938c7d991436db0a72bd18d427370",
      "a27e434a7e384e1bb945fcb9cd788549",
      "6d3efdc089624e718c14e1efa77b39cb",
      "ffb967e6f9464bc1a7adf9ed2fc8341e",
      "89ef9f21bde442f8828089e707a9b781",
      "c277ef80a2814657967e37fb15755789",
      "63823947fbfe40f693bbad21c64e7030",
      "629667c8f771489ebd70d9b9ad1209cc",
      "37b87700fb9047719035d81a8f0819c1",
      "16891c8343a24c4e9a3e99d846b233b0",
      "eaea5de79671441483bb2562dd6f1ea5"
     ]
    },
    "id": "t7Nhj_nIom1A",
    "outputId": "1161618c-7308-43a3-c078-dc1207d84de7"
   },
   "outputs": [
    {
     "data": {
      "application/vnd.jupyter.widget-view+json": {
       "model_id": "303938c7d991436db0a72bd18d427370",
       "version_major": 2,
       "version_minor": 0
      },
      "text/plain": [
       "0it [00:00, ?it/s]"
      ]
     },
     "metadata": {},
     "output_type": "display_data"
    },
    {
     "name": "stdout",
     "output_type": "stream",
     "text": [
      "[['When', 'I', 'remember', 'see', 'the', 'preview', 'for', 'this', 'movie', 'and', 'not', 'really', 'think', 'much', 'about', 'it', '.', 'It', 'be', 'almost', 'one', 'of', 'those', 'movie', 'that', 'when', 'you', 'see', 'the', 'preview', ',', 'it', 'stun', ',', 'and', 'then', 'when', 'it', 'come', 'out', ',', 'you', 'hear', 'nothing', 'and', 'totally', 'miss', 'it', ',', 'and', 'your', 'memory', 'totally', 'do', \"n't\", 'correct', 'the', 'mistake', 'of', 'miss', 'it', '.', 'Man', 'On', 'Fire', 'be', 'one', 'of', 'those', 'movie', '.', 'I', 'be', 'curious', 'on', 'a', 'rental', 'one', 'time', ',', 'and', 'I', 'decide', 'to', 'take', 'it', 'home', 'with', 'me', ',', 'my', 'precious', 'Blockbuster', 'rental', 'in', 'my', 'hand', '.', 'I', 'watch', 'it', ',', 'and', 'witness', 'such', 'a', 'beautiful', 'movie', '.', 'It', 'be', 'like', 'none', 'other', '...', 'drama', 'and', 'action', 'combine', 'to', 'create', 'something', 'amazingly', 'spectacular', '.', 'The', 'cinematography', 'do', 'by', 'Tony', 'Scott', 'be', 'extremely', 'well', 'do', 'and', 'unique', ',', 'unlike', 'another', 'movie', '.', 'The', 'subtitle', 'can', 'explain', 'something', 'without', 'even', 'listen', 'to', 'the', 'actual', 'voice', ',', 'and', 'the', 'music', 'be', 'very', 'intrigue', 'for', 'the', 'set', '.', 'I', 'get', 'into', 'this', 'movie', ',', 'and', 'end', 'up', 'buying', 'it', 'a', 'soon', 'a', 'I', 'could', 'scurry', 'out', 'of', 'the', 'household', 'and', 'head', 'over', 'to', 'Best', 'Buy', '.', 'I', \"'ve\", 'watch', 'it', 'several', 'time', 'now', '.', 'Denzel', 'Washington', '(', 'Creasy', ')', 'do', 'an', 'amaze', 'job', 'with', 'become', 'this', 'lose', '-', 'mind', 'ex', '-', 'special', 'force', 'man', 'with', 'no', 'reason', 'to', 'live', '.', 'Dakota', 'Fanning', '(', 'Pita', ')', 'put', 'life', 'back', 'into', 'him', 'with', 'her', 'undying', 'love', 'for', 'him', 'right', 'from', 'the', 'start', '.', 'They', 'bond', 'and', 'become', 'good', 'friend', ',', 'until', 'she', 'be', 'kidnap', 'by', 'notorious', 'gangster', 'part', 'of', 'the', 'brotherhood', ',', 'La', 'Hermandad', '.', 'Creasy', '(', 'Denzel', ')', 'tell', 'the', 'mother', 'of', 'Dakota', 'Fanning', 'that', 'he', 'will', 'hunt', 'down', 'the', 'killer', ',', 'fear', 'that', 'Pita', 'be', 'dead', '.', 'This', 'be', 'where', 'Creasy', 'really', 'show', 'the', 'person', 'he', 'can', 'become', '.', 'He', 'us', 'his', 'contact', 'from', 'Pita', \"'s\", 'kidnapping', 'and', 'Creasy', \"'s\", 'hospitalization', 'to', 'find', 'one', 'of', 'the', 'men', 'and', 'he', 'begin', 'his', 'pursuit', '.', 'My', 'favorite', 'line', 'of', 'all', ',', 'be', 'in', 'this', 'movie', ',', 'when', 'Christopher', 'Walken', 'tell', 'the', 'AFI', 'agent', 'that', '\"', 'A', 'man', 'be', 'a', 'work', 'of', 'art', ',', 'in', 'anything', 'that', 'he', 'do', '....', 'cooking', ',', 'whatever', '.', 'Creasy', \"'s\", 'art', 'be', 'death', '...', 'he', \"'s\", 'about', 'to', 'paint', 'his', 'masterpiece', '.', '\"', 'He', 'play', 'a', 'very', 'unique', 'roll', 'of', 'Creasy', \"'s\", 'old', 'partner', 'and', 'friend', '.', 'After', 'finally', 'pursue', 'the', 'brother', 'of', '\"', 'The', 'Voice', ',', '\"', 'leader', 'of', 'La', 'Hermandad', '.', 'Creasy', 'arranges', 'a', 'meeting', 'to', 'trade', 'Pita', 'for', 'himself', 'and', 'The', 'Voice', \"'s\", 'brother', '.', 'In', 'the', 'end', ',', 'Creasy', 'dy', 'from', 'be', 'shot', 'earlier', ',', 'and', 'his', 'wound', 'get', 'infect', 'and', 'massive', 'blood', 'loss', '.', 'It', 'be', 'a', 'very', 'sincere', 'and', 'sad', 'end', ',', 'but', 'a', 'great', 'one', '.', 'I', 'love', 'this', 'movie', 'and', 'recommend', 'it', 'to', 'anyone', 'that', 'be', 'look', 'for', 'a', 'memorable', 'flick', '.', 'The', 'story', 'be', 'in', 'depth', ',', 'everything', 'be', 'explain', 'from', 'begin', 'to', 'end', ',', 'and', 'nothing', 'corny', 'at', 'all', 'in', 'any', 'way', 'or', 'manner', '.']]\n"
     ]
    }
   ],
   "source": [
    "for i, x in tqdm(enumerate(valid_data)):\n",
    "    text = x.text\n",
    "    valid_data[i].text = [lemmatizer.lemmatize(w, get_wordnet_pos(w)) for w in text]\n",
    "\n",
    "print([valid_data[0].text])"
   ]
  },
  {
   "cell_type": "code",
   "execution_count": null,
   "metadata": {
    "colab": {
     "base_uri": "https://localhost:8080/",
     "height": 86,
     "referenced_widgets": [
      "24dbb75ef1ca43d1a358cb261136318c",
      "593f8b9e4ec841f194639015bbeeb472",
      "bca0fd7897e944e394552773b61f99de",
      "f230157317b64f2da1c083726ae24a1b",
      "69431acf3faa4b93a15f39a1f516fecd",
      "a11ede5b7b074abb98a42cf66b9f41cc",
      "44faf0a8c71e4656a7c7918db7264cb8",
      "a2ee80276be342189cf038e210805022",
      "2d411c62c4a84b459082a84d43108198",
      "8370f36c563747bd96aed06e19983b1c",
      "70b50b9d7fc54d60be270e979d94faf1"
     ]
    },
    "id": "yKcUK5FTom7t",
    "outputId": "2c380590-7172-4bf6-dd03-062b8aeaaf9a"
   },
   "outputs": [
    {
     "data": {
      "application/vnd.jupyter.widget-view+json": {
       "model_id": "24dbb75ef1ca43d1a358cb261136318c",
       "version_major": 2,
       "version_minor": 0
      },
      "text/plain": [
       "0it [00:00, ?it/s]"
      ]
     },
     "metadata": {},
     "output_type": "display_data"
    },
    {
     "name": "stdout",
     "output_type": "stream",
     "text": [
      "[['For', 'anyone', 'who', 'have', 'trouble', 'with', 'naughty', ',', 'mad', 'or', 'troublesome', 'kid', 'this', 'be', 'an', 'essential', 'programme', 'to', 'watch', '.', 'It', 'be', 'just', 'the', 'best', 'behaviour', 'documentary', 'programme', ',', 'not', 'just', 'for', 'tip', 'but', 'for', 'the', 'transformation', '.', 'The', 'quite', 'attractive', 'Jo', 'Frost', 'be', 'Supernanny', ',', 'with', 'fifteen', 'year', 'of', 'nannying', 'experience', 'she', 'now', 'have', 'a', 'programme', 'where', 'she', 'show', 'a', 'family', 'where', 'the', 'kid', 'be', 'misbehave', 'very', ',', 'very', 'badly', '.', 'Frost', 'be', 'the', 'nanny', 'who', 'do', 'not', 'let', 'the', 'kid', 'win', '.', 'Every', 'episode', 'they', 'have', 'young', 'kid', 'who', 'be', 'mad', 'and', 'very', ',', 'very', 'naughty', ',', 'e.g.', 'throw', 'thing', ',', 'constantly', 'swear', ',', 'hit', 'relative', 'and', 'parent', 'and', 'many', 'other', 'horrible', 'experience', '.', 'But', 'every', 'episode', 'by', 'the', 'end', 'of', 'the', 'show', 'the', 'kid', 'be', 'transform', 'by', 'the', 'parent', '(', 'with', 'the', 'help', 'of', 'Frost', ')', 'from', 'little', 'monster', 'to', 'lovable', 'child', '.', 'It', 'be', 'just', 'wonderful', 'when', 'the', 'transformation', 'be', 'successful', ',', 'Jo', 'Frost', 'be', 'an', 'excellent', 'Supernanny', '.', 'It', 'be', 'nominate', 'the', 'National', 'Television', 'Award', 'for', 'Most', 'Popular', 'Factual', 'Programme', '(', 'twice', ')', '.', 'It', 'be', 'number', '15', 'on', 'The', '100', 'Greatest', 'TV', 'Treats', '2004', '.', 'Very', 'good', '!']]\n"
     ]
    }
   ],
   "source": [
    "for i, x in tqdm(enumerate(test_data)):\n",
    "    text = x.text\n",
    "    test_data[i].text = [lemmatizer.lemmatize(w, get_wordnet_pos(w)) for w in text]\n",
    "\n",
    "print([test_data[0].text])"
   ]
  },
  {
   "cell_type": "markdown",
   "metadata": {
    "id": "z8Jp26EZGyvG"
   },
   "source": [
    "Ограничим словарь для модели, убрав наименее частые слова. "
   ]
  },
  {
   "cell_type": "code",
   "execution_count": null,
   "metadata": {
    "id": "7ihtaqEHGyvH"
   },
   "outputs": [],
   "source": [
    "MAX_VOCAB_SIZE = 25000\n",
    "TEXT.build_vocab(train_data, max_size=MAX_VOCAB_SIZE)\n",
    "LABEL.build_vocab(train_data)"
   ]
  },
  {
   "cell_type": "code",
   "execution_count": null,
   "metadata": {
    "colab": {
     "base_uri": "https://localhost:8080/"
    },
    "id": "6l-Ne14KGyvH",
    "outputId": "c98d7552-01bb-43eb-cf8d-23cfbddf2702"
   },
   "outputs": [
    {
     "name": "stderr",
     "output_type": "stream",
     "text": [
      "/usr/local/lib/python3.7/dist-packages/torchtext/data/iterator.py:48: UserWarning: BucketIterator class will be retired soon and moved to torchtext.legacy. Please see the most recent release notes for further information.\n",
      "  warnings.warn('{} class will be retired soon and moved to torchtext.legacy. Please see the most recent release notes for further information.'.format(self.__class__.__name__), UserWarning)\n"
     ]
    }
   ],
   "source": [
    "BATCH_SIZE = 64\n",
    "\n",
    "train_iterator, valid_iterator, test_iterator = data.BucketIterator.splits(\n",
    "    (train_data, valid_data, test_data), \n",
    "    batch_size = BATCH_SIZE, \n",
    "    device = device\n",
    ")"
   ]
  },
  {
   "cell_type": "markdown",
   "metadata": {
    "id": "qft7PJsyvHQl"
   },
   "source": [
    "Зададим модель, аналогичную той, что была на семинаре."
   ]
  },
  {
   "cell_type": "code",
   "execution_count": 9,
   "metadata": {
    "id": "WPZfTioxGyvI"
   },
   "outputs": [],
   "source": [
    "class CNN(nn.Module):\n",
    "    def __init__(self, vocab_size, embedding_dim, n_filters, filter_sizes, output_dim, \n",
    "                 dropout, pad_idx):\n",
    "        '''\n",
    "        Функция инициализации модели.\n",
    "\n",
    "        Параметры.\n",
    "        1) vocab_size — размер словаря,\n",
    "        2) embedding_dim — размерность векторов-эмбеддингов,\n",
    "        3) n_filters — количество свёрточных фильтров на каждом слое,\n",
    "        4) filter_sizes — количество свёрточных слоёв,\n",
    "        5) output_dim — размер выхода модели,\n",
    "        6) dropout — вещественное число от 0 до 1, вероятность отключения нейронов,\n",
    "        7) pad_idx — токен для паддинга.\n",
    "        '''\n",
    "\n",
    "        super().__init__()\n",
    "        # эмбеддинг-слой\n",
    "        self.embedding = nn.Embedding(vocab_size, embedding_dim, padding_idx = pad_idx)\n",
    "        # свёрточные слои\n",
    "        self.convs = nn.ModuleList([\n",
    "          nn.Conv1d(\n",
    "              in_channels=embedding_dim, out_channels=n_filters, \n",
    "              kernel_size=fs,\n",
    "          ) for fs in filter_sizes\n",
    "        ])\n",
    "        # полносвязный слой для получение выхода модели\n",
    "        self.fc = nn.Linear(len(filter_sizes) * n_filters, output_dim)\n",
    "        # dropout для регуляризации сети\n",
    "        self.dropout = nn.Dropout(dropout)\n",
    "        \n",
    "    def forward(self, text):\n",
    "        ''' Функция для получения выходов сети по текстам '''\n",
    "                \n",
    "        #text.dim = [batch size, sent len]\n",
    "        #embedded.dim = [batch size, sent len, emb dim]\n",
    "        embedded = self.embedding(text)\n",
    "        \n",
    "        #embedded.dim = [batch size, emb dim, sent len]\n",
    "        embedded = embedded.permute(0, 2, 1)\n",
    "\n",
    "        #conved_n.dim = [batch size, n_filters, sent len - filter_sizes[n] + 1]\n",
    "        conved = [F.relu(conv(embedded)) for conv in self.convs]\n",
    "\n",
    "        #pooled_n.dim = [batch size, n_filters]  \n",
    "        pooled = [F.max_pool1d(conv, conv.shape[2]).squeeze(2) for conv in conved]\n",
    "        \n",
    "        #cat.dim = [batch size, n_filters * len(filter_sizes)]\n",
    "        cat = self.dropout(torch.cat(pooled, dim = 1))   \n",
    "\n",
    "        return self.fc(cat)"
   ]
  },
  {
   "cell_type": "markdown",
   "metadata": {
    "id": "Ur_3mop1vLO9"
   },
   "source": [
    "Проинициализируем и обучим модель."
   ]
  },
  {
   "cell_type": "code",
   "execution_count": 72,
   "metadata": {
    "colab": {
     "base_uri": "https://localhost:8080/"
    },
    "id": "M8OOZAtdmpTF",
    "outputId": "eb95e12c-b56e-49a5-879d-b6932dc6a95f"
   },
   "outputs": [
    {
     "data": {
      "text/plain": [
       "25002"
      ]
     },
     "execution_count": 72,
     "metadata": {},
     "output_type": "execute_result"
    }
   ],
   "source": [
    "len(TEXT.vocab)"
   ]
  },
  {
   "cell_type": "code",
   "execution_count": null,
   "metadata": {
    "id": "7Zo4cX1WCuOk"
   },
   "outputs": [],
   "source": [
    "INPUT_DIM = len(TEXT.vocab)  # размер словаря\n",
    "EMBEDDING_DIM = 100  # размерность векторов-эмбеддингов\n",
    "N_FILTERS = 100  # количество свёрточных фильтров\n",
    "FILTER_SIZES = [3, 4, 5]  # размеры фильтров на каждом уровне\n",
    "OUTPUT_DIM = 1  # размерность выхода (сеть выдаёт вероятность для одного класса)\n",
    "DROPOUT = 0.5  # вероятность dropout\n",
    "PAD_IDX = TEXT.vocab.stoi[TEXT.pad_token]  # id токена для паддинга\n",
    "\n",
    "model = CNN(INPUT_DIM, EMBEDDING_DIM, N_FILTERS, FILTER_SIZES, OUTPUT_DIM, DROPOUT, PAD_IDX)"
   ]
  },
  {
   "cell_type": "code",
   "execution_count": null,
   "metadata": {
    "colab": {
     "base_uri": "https://localhost:8080/"
    },
    "id": "7VkcEY-EnHr1",
    "outputId": "06dc7b30-1ac4-407a-a0b8-a23ef235a366"
   },
   "outputs": [
    {
     "name": "stdout",
     "output_type": "stream",
     "text": [
      "Модель имеет 2,620,801 обучаемых параметров\n",
      "Слой ембеддингов: 2,500,200 обучаемых параметров\n",
      "Слои свёртки: 120,300 обучаемых параметров\n",
      "Линейный слой: 301 обучаемых параметров\n"
     ]
    },
    {
     "data": {
      "text/plain": [
       "CNN(\n",
       "  (embedding): Embedding(25002, 100, padding_idx=1)\n",
       "  (convs): ModuleList(\n",
       "    (0): Conv1d(100, 100, kernel_size=(3,), stride=(1,))\n",
       "    (1): Conv1d(100, 100, kernel_size=(4,), stride=(1,))\n",
       "    (2): Conv1d(100, 100, kernel_size=(5,), stride=(1,))\n",
       "  )\n",
       "  (fc): Linear(in_features=300, out_features=1, bias=True)\n",
       "  (dropout): Dropout(p=0.5, inplace=False)\n",
       ")"
      ]
     },
     "execution_count": 97,
     "metadata": {},
     "output_type": "execute_result"
    }
   ],
   "source": [
    "def count_parameters(model):\n",
    "    ''' Подсчёт числа параметров модели '''\n",
    "    return sum(p.numel() for p in model.parameters() if p.requires_grad)\n",
    "\n",
    "print(f'Модель имеет {count_parameters(model):,} обучаемых параметров')\n",
    "print(f'Слой ембеддингов: {count_parameters(model.embedding):,} обучаемых параметров')\n",
    "print(f'Слои свёртки: {count_parameters(model.convs):,} обучаемых параметров')\n",
    "print(f'Линейный слой: {count_parameters(model.fc):,} обучаемых параметров')\n",
    "model.eval()"
   ]
  },
  {
   "cell_type": "code",
   "execution_count": null,
   "metadata": {
    "id": "oe-OGZJpnSm4"
   },
   "outputs": [],
   "source": [
    "optimizer = torch.optim.Adam(model.parameters())\n",
    "criterion = nn.BCEWithLogitsLoss()\n",
    "model = model.to(device)\n",
    "criterion = criterion.to(device)"
   ]
  },
  {
   "cell_type": "code",
   "execution_count": null,
   "metadata": {
    "colab": {
     "base_uri": "https://localhost:8080/",
     "height": 481
    },
    "id": "sGEw-lOanYMk",
    "outputId": "b7b6f3cf-3727-467c-a3c5-681835f02a99"
   },
   "outputs": [
    {
     "data": {
      "image/png": "[encoded data removed]",
      "text/plain": [
       "<Figure size 864x432 with 1 Axes>"
      ]
     },
     "metadata": {},
     "output_type": "display_data"
    },
    {
     "name": "stdout",
     "output_type": "stream",
     "text": [
      "Номер эпохи: 10 | Время обучения эпохи: 0m 9s\n",
      "\tTrain Loss: 0.129 | Train Acc: 95.30%\n",
      "\t Val. Loss: 0.339 |  Val. Acc: 86.91%\n"
     ]
    }
   ],
   "source": [
    "training_loop(model)"
   ]
  },
  {
   "cell_type": "markdown",
   "metadata": {
    "id": "OcGSmrJIC6VW"
   },
   "source": [
    "Посчитаем качество модели на тестовой выборке."
   ]
  },
  {
   "cell_type": "code",
   "execution_count": null,
   "metadata": {
    "colab": {
     "base_uri": "https://localhost:8080/"
    },
    "id": "xaAeBD9MC_cc",
    "outputId": "0d676fe4-8ede-472c-cb99-e2e323c5595b"
   },
   "outputs": [
    {
     "name": "stderr",
     "output_type": "stream",
     "text": [
      "/usr/local/lib/python3.7/dist-packages/torchtext/data/batch.py:23: UserWarning: Batch class will be retired soon and moved to torchtext.legacy. Please see the most recent release notes for further information.\n",
      "  warnings.warn('{} class will be retired soon and moved to torchtext.legacy. Please see the most recent release notes for further information.'.format(self.__class__.__name__), UserWarning)\n"
     ]
    },
    {
     "name": "stdout",
     "output_type": "stream",
     "text": [
      "Test Loss: 0.308 | Test Acc: 87.07%\n"
     ]
    }
   ],
   "source": [
    "model.load_state_dict(torch.load('tut4-model.pt'))\n",
    "test_loss, test_acc = evaluate(model, test_iterator, criterion)\n",
    "print(f'Test Loss: {test_loss:.3f} | Test Acc: {test_acc*100:.2f}%')"
   ]
  },
  {
   "cell_type": "markdown",
   "metadata": {
    "id": "i3X06erPpJOZ"
   },
   "source": [
    "После лемматизации качество на тесте незначительно увеличилось (на семинаре качество теста) было 87.00%. "
   ]
  },
  {
   "cell_type": "markdown",
   "metadata": {
    "id": "11mA8m2GGyvP"
   },
   "source": [
    "## 2. Изменение размера эмбеддинга\n",
    "\n",
    "Уменьшим размер эмбеддингов до 30. Как поменялось качество модели? \n",
    "\n",
    "*Замечание.* Если в предыдущем пункте вы перезаписали датасеты, применив к ним стемминг или лемматизацию, то их нужно скачать заново. "
   ]
  },
  {
   "cell_type": "code",
   "execution_count": 10,
   "metadata": {
    "colab": {
     "base_uri": "https://localhost:8080/"
    },
    "id": "7e5psLIDuByk",
    "outputId": "9ed0ea1f-5684-49dd-dcd0-29407ee91e88"
   },
   "outputs": [
    {
     "name": "stderr",
     "output_type": "stream",
     "text": [
      "/usr/local/lib/python3.7/dist-packages/torchtext/data/field.py:150: UserWarning: Field class will be retired soon and moved to torchtext.legacy. Please see the most recent release notes for further information.\n",
      "  warnings.warn('{} class will be retired soon and moved to torchtext.legacy. Please see the most recent release notes for further information.'.format(self.__class__.__name__), UserWarning)\n",
      "/usr/local/lib/python3.7/dist-packages/torchtext/data/field.py:150: UserWarning: LabelField class will be retired soon and moved to torchtext.legacy. Please see the most recent release notes for further information.\n",
      "  warnings.warn('{} class will be retired soon and moved to torchtext.legacy. Please see the most recent release notes for further information.'.format(self.__class__.__name__), UserWarning)\n"
     ]
    }
   ],
   "source": [
    "TEXT = data.Field(tokenize='spacy', batch_first=True)\n",
    "LABEL = data.LabelField(dtype=torch.float)"
   ]
  },
  {
   "cell_type": "code",
   "execution_count": 11,
   "metadata": {
    "colab": {
     "base_uri": "https://localhost:8080/"
    },
    "id": "uz2_u_-OuMCh",
    "outputId": "feffeccf-f7cc-45c1-e26a-7b83669350ee"
   },
   "outputs": [
    {
     "name": "stderr",
     "output_type": "stream",
     "text": [
      "/usr/local/lib/python3.7/dist-packages/torchtext/data/example.py:78: UserWarning: Example class will be retired soon and moved to torchtext.legacy. Please see the most recent release notes for further information.\n",
      "  warnings.warn('Example class will be retired soon and moved to torchtext.legacy. Please see the most recent release notes for further information.', UserWarning)\n"
     ]
    }
   ],
   "source": [
    "train_data, test_data = datasets.IMDB.splits(TEXT, LABEL)\n",
    "train_data, valid_data = train_data.split(random_state=random.seed(SEED))"
   ]
  },
  {
   "cell_type": "code",
   "execution_count": 12,
   "metadata": {
    "id": "z3cDx_UnAogv"
   },
   "outputs": [],
   "source": [
    "MAX_VOCAB_SIZE = 25000\n",
    "TEXT.build_vocab(train_data, max_size=MAX_VOCAB_SIZE)\n",
    "LABEL.build_vocab(train_data)"
   ]
  },
  {
   "cell_type": "code",
   "execution_count": 13,
   "metadata": {
    "colab": {
     "base_uri": "https://localhost:8080/"
    },
    "id": "nH9W_sryAojx",
    "outputId": "81f0d832-733f-4f36-f896-b84af7d0a4f8"
   },
   "outputs": [
    {
     "name": "stderr",
     "output_type": "stream",
     "text": [
      "/usr/local/lib/python3.7/dist-packages/torchtext/data/iterator.py:48: UserWarning: BucketIterator class will be retired soon and moved to torchtext.legacy. Please see the most recent release notes for further information.\n",
      "  warnings.warn('{} class will be retired soon and moved to torchtext.legacy. Please see the most recent release notes for further information.'.format(self.__class__.__name__), UserWarning)\n"
     ]
    }
   ],
   "source": [
    "BATCH_SIZE = 64\n",
    "\n",
    "train_iterator, valid_iterator, test_iterator = data.BucketIterator.splits(\n",
    "    (train_data, valid_data, test_data), \n",
    "    batch_size = BATCH_SIZE, \n",
    "    device = device\n",
    ")"
   ]
  },
  {
   "cell_type": "code",
   "execution_count": 14,
   "metadata": {
    "id": "BbVvvKSEFBfg"
   },
   "outputs": [],
   "source": [
    "EMBEDDING_DIM = 30  # размерность векторов-эмбеддингов\n",
    "INPUT_DIM = len(TEXT.vocab)  # размер словаря\n",
    "N_FILTERS = 100  # количество свёрточных фильтров\n",
    "FILTER_SIZES = [3, 4, 5]  # размеры фильтров на каждом уровне\n",
    "OUTPUT_DIM = 1  # размерность выхода (сеть выдаёт вероятность для одного класса)\n",
    "DROPOUT = 0.5  # вероятность dropout\n",
    "PAD_IDX = TEXT.vocab.stoi[TEXT.pad_token]  # id токена для паддинга\n",
    "model_30 = CNN(INPUT_DIM, EMBEDDING_DIM, N_FILTERS, FILTER_SIZES, OUTPUT_DIM, DROPOUT, PAD_IDX)"
   ]
  },
  {
   "cell_type": "code",
   "execution_count": 15,
   "metadata": {
    "colab": {
     "base_uri": "https://localhost:8080/"
    },
    "id": "H5HpI3O8tqFN",
    "outputId": "69bf5bc1-a7b8-46b6-f5d4-f23d320a2904"
   },
   "outputs": [
    {
     "data": {
      "text/plain": [
       "CNN(\n",
       "  (embedding): Embedding(25002, 30, padding_idx=1)\n",
       "  (convs): ModuleList(\n",
       "    (0): Conv1d(30, 100, kernel_size=(3,), stride=(1,))\n",
       "    (1): Conv1d(30, 100, kernel_size=(4,), stride=(1,))\n",
       "    (2): Conv1d(30, 100, kernel_size=(5,), stride=(1,))\n",
       "  )\n",
       "  (fc): Linear(in_features=300, out_features=1, bias=True)\n",
       "  (dropout): Dropout(p=0.5, inplace=False)\n",
       ")"
      ]
     },
     "execution_count": 15,
     "metadata": {},
     "output_type": "execute_result"
    }
   ],
   "source": [
    "# print(f'Модель имеет {count_parameters(model_30):,} обучаемых параметров')\n",
    "# print(f'Слой ембеддингов: {count_parameters(model_30.embedding):,} обучаемых параметров')\n",
    "# print(f'Слои свёртки: {count_parameters(model_30.convs):,} обучаемых параметров')\n",
    "# print(f'Линейный слой: {count_parameters(model_30.fc):,} обучаемых параметров')\n",
    "model_30.eval()"
   ]
  },
  {
   "cell_type": "code",
   "execution_count": 16,
   "metadata": {
    "id": "VmV-PsU3t2Dm"
   },
   "outputs": [],
   "source": [
    "optimizer = torch.optim.Adam(model_30.parameters())\n",
    "criterion = nn.BCEWithLogitsLoss()\n",
    "model_30 = model_30.to(device)\n",
    "criterion = criterion.to(device)"
   ]
  },
  {
   "cell_type": "code",
   "execution_count": 17,
   "metadata": {
    "colab": {
     "base_uri": "https://localhost:8080/",
     "height": 481
    },
    "id": "0y5TkVpIuQdW",
    "outputId": "556ec6ee-0c5e-4e2f-86dd-ca55650fa9d6"
   },
   "outputs": [
    {
     "data": {
      "image/png": "[encoded data removed]",
      "text/plain": [
       "<Figure size 864x432 with 1 Axes>"
      ]
     },
     "metadata": {
      "needs_background": "light"
     },
     "output_type": "display_data"
    },
    {
     "name": "stdout",
     "output_type": "stream",
     "text": [
      "Номер эпохи: 10 | Время обучения эпохи: 0m 18s\n",
      "\tTrain Loss: 0.276 | Train Acc: 88.55%\n",
      "\t Val. Loss: 0.322 |  Val. Acc: 86.54%\n"
     ]
    }
   ],
   "source": [
    "training_loop(model_30, name_model='tut30-model.pt')"
   ]
  },
  {
   "cell_type": "code",
   "execution_count": 18,
   "metadata": {
    "colab": {
     "base_uri": "https://localhost:8080/"
    },
    "id": "mA0Yjk2RvtfT",
    "outputId": "98857c7a-8cc5-47a4-ed0d-bee57a495160"
   },
   "outputs": [
    {
     "name": "stderr",
     "output_type": "stream",
     "text": [
      "/usr/local/lib/python3.7/dist-packages/torchtext/data/batch.py:23: UserWarning: Batch class will be retired soon and moved to torchtext.legacy. Please see the most recent release notes for further information.\n",
      "  warnings.warn('{} class will be retired soon and moved to torchtext.legacy. Please see the most recent release notes for further information.'.format(self.__class__.__name__), UserWarning)\n"
     ]
    },
    {
     "name": "stdout",
     "output_type": "stream",
     "text": [
      "Test Loss: 0.323 | Test Acc: 85.86%\n"
     ]
    }
   ],
   "source": [
    "model_30.load_state_dict(torch.load('tut30-model.pt'))\n",
    "test_loss, test_acc = evaluate(model_30, test_iterator, criterion)\n",
    "print(f'Test Loss: {test_loss:.3f} | Test Acc: {test_acc*100:.2f}%')"
   ]
  },
  {
   "cell_type": "markdown",
   "metadata": {
    "id": "yvBTYg0IqHTF"
   },
   "source": [
    "Качество упало больше, чем на процент, при этом на трейне качество упало на 7 процентов. Это значит, что, скорее всего, 10 итераций нам не хватило, чтоб обучиться."
   ]
  },
  {
   "cell_type": "markdown",
   "metadata": {
    "id": "0jyx4Ej4QMlb"
   },
   "source": [
    "Теперь  увеличим размер эмбеддингов до 200. Как поменялось качество модели в сравнении с предыдущей? Какая модель более склонна к переобучению и почему?\n",
    "Сделайте выводы."
   ]
  },
  {
   "cell_type": "code",
   "execution_count": null,
   "metadata": {
    "id": "JPm5AIipFFX9"
   },
   "outputs": [],
   "source": [
    "EMBEDDING_DIM = 200  # размерность векторов-эмбеддингов\n",
    "INPUT_DIM = len(TEXT.vocab)  # размер словаря\n",
    "N_FILTERS = 100  # количество свёрточных фильтров\n",
    "FILTER_SIZES = [3, 4, 5]  # размеры фильтров на каждом уровне\n",
    "OUTPUT_DIM = 1  # размерность выхода (сеть выдаёт вероятность для одного класса)\n",
    "DROPOUT = 0.5  # вероятность dropout\n",
    "PAD_IDX = TEXT.vocab.stoi[TEXT.pad_token]  # id токена для паддинга\n",
    "model_200 = CNN(INPUT_DIM, EMBEDDING_DIM, N_FILTERS, FILTER_SIZES, OUTPUT_DIM, DROPOUT, PAD_IDX)"
   ]
  },
  {
   "cell_type": "code",
   "execution_count": null,
   "metadata": {
    "colab": {
     "base_uri": "https://localhost:8080/"
    },
    "id": "XSBn3agdwBSJ",
    "outputId": "71bca1bd-71e1-4d67-ba34-1b7be192a408"
   },
   "outputs": [
    {
     "name": "stdout",
     "output_type": "stream",
     "text": [
      "Модель имеет 5,241,001 обучаемых параметров\n",
      "Слой ембеддингов: 5,000,400 обучаемых параметров\n",
      "Слои свёртки: 240,300 обучаемых параметров\n",
      "Линейный слой: 301 обучаемых параметров\n"
     ]
    },
    {
     "data": {
      "text/plain": [
       "CNN(\n",
       "  (embedding): Embedding(25002, 200, padding_idx=1)\n",
       "  (convs): ModuleList(\n",
       "    (0): Conv1d(200, 100, kernel_size=(3,), stride=(1,))\n",
       "    (1): Conv1d(200, 100, kernel_size=(4,), stride=(1,))\n",
       "    (2): Conv1d(200, 100, kernel_size=(5,), stride=(1,))\n",
       "  )\n",
       "  (fc): Linear(in_features=300, out_features=1, bias=True)\n",
       "  (dropout): Dropout(p=0.5, inplace=False)\n",
       ")"
      ]
     },
     "execution_count": 126,
     "metadata": {},
     "output_type": "execute_result"
    }
   ],
   "source": [
    "print(f'Модель имеет {count_parameters(model_200):,} обучаемых параметров')\n",
    "print(f'Слой ембеддингов: {count_parameters(model_200.embedding):,} обучаемых параметров')\n",
    "print(f'Слои свёртки: {count_parameters(model_200.convs):,} обучаемых параметров')\n",
    "print(f'Линейный слой: {count_parameters(model_200.fc):,} обучаемых параметров')\n",
    "model_200.eval()"
   ]
  },
  {
   "cell_type": "code",
   "execution_count": null,
   "metadata": {
    "id": "v_GB7PBxwBUu"
   },
   "outputs": [],
   "source": [
    "optimizer = torch.optim.Adam(model_200.parameters())\n",
    "criterion = nn.BCEWithLogitsLoss()\n",
    "model_200 = model_200.to(device)\n",
    "criterion = criterion.to(device)"
   ]
  },
  {
   "cell_type": "code",
   "execution_count": null,
   "metadata": {
    "colab": {
     "base_uri": "https://localhost:8080/",
     "height": 481
    },
    "id": "DY0xflKKwBXS",
    "outputId": "103d61c2-756a-4c50-c23d-31cafc20a42b"
   },
   "outputs": [
    {
     "data": {
      "image/png": "[encoded data removed]",
      "text/plain": [
       "<Figure size 864x432 with 1 Axes>"
      ]
     },
     "metadata": {},
     "output_type": "display_data"
    },
    {
     "name": "stdout",
     "output_type": "stream",
     "text": [
      "Номер эпохи: 10 | Время обучения эпохи: 0m 14s\n",
      "\tTrain Loss: 0.060 | Train Acc: 97.90%\n",
      "\t Val. Loss: 0.363 |  Val. Acc: 88.19%\n"
     ]
    }
   ],
   "source": [
    "training_loop(model_200, name_model='tut200-model.pt')"
   ]
  },
  {
   "cell_type": "code",
   "execution_count": null,
   "metadata": {
    "colab": {
     "base_uri": "https://localhost:8080/"
    },
    "id": "oLSwEmtTwL-d",
    "outputId": "4fd25897-3f84-4c5c-c278-0ff77da961b4"
   },
   "outputs": [
    {
     "name": "stderr",
     "output_type": "stream",
     "text": [
      "/usr/local/lib/python3.7/dist-packages/torchtext/data/batch.py:23: UserWarning: Batch class will be retired soon and moved to torchtext.legacy. Please see the most recent release notes for further information.\n",
      "  warnings.warn('{} class will be retired soon and moved to torchtext.legacy. Please see the most recent release notes for further information.'.format(self.__class__.__name__), UserWarning)\n"
     ]
    },
    {
     "name": "stdout",
     "output_type": "stream",
     "text": [
      "Test Loss: 0.293 | Test Acc: 87.87%\n"
     ]
    }
   ],
   "source": [
    "model_200.load_state_dict(torch.load('tut200-model.pt'))\n",
    "test_loss, test_acc = evaluate(model_200, test_iterator, criterion)\n",
    "print(f'Test Loss: {test_loss:.3f} | Test Acc: {test_acc*100:.2f}%')"
   ]
  },
  {
   "cell_type": "markdown",
   "metadata": {
    "id": "CkqOcK3nqaqc"
   },
   "source": [
    "Качество на тесте улучшилось почти на процент по сравнению с размером эмбеддинга 100. На трейне же качество улучшилось на 2 процента. Это значит, что мы за 10 итераций успели лучше обучиться."
   ]
  },
  {
   "cell_type": "markdown",
   "metadata": {
    "id": "PuUSJpiqD3vE"
   },
   "source": [
    "## 3. Нахождение близких слов по эмбеддингам.\n",
    "Напишите функцию, считающую cosine similarity между двумя векторами.\n",
    "\n",
    "https://en.wikipedia.org/wiki/Cosine_similarity"
   ]
  },
  {
   "cell_type": "markdown",
   "metadata": {
    "id": "PLGkPn36gH_L"
   },
   "source": []
  },
  {
   "cell_type": "code",
   "execution_count": 19,
   "metadata": {
    "id": "xknZFYT7D3vF"
   },
   "outputs": [],
   "source": [
    "def cosine_similarity(a, b):\n",
    "    return np.nan_to_num(np.dot(a, b) / (np.linalg.norm(a) * np.linalg.norm(b)), nan=-1)"
   ]
  },
  {
   "cell_type": "markdown",
   "metadata": {
    "id": "U3OmUchSD3vG"
   },
   "source": [
    "Напишите функцию, которая принимает на вход слово word и $k$ и возвращает $k$ наиболее похожих на word слов. \n",
    "\n",
    "Эмбеддинги для каждого слова должны быть получены с помощью матрицы эмбеддингов из Embedding слоя вашей модели. В качестве модели возьмите модель из предыдущего пункта с маленьким размером эмбеддинга. \n",
    "\n",
    "Чтобы по слову получить его индекс в словаре и обратно можно воспользоваться аттрибутами нашего словаря: `TEXT.vocab.stoi` и `TEXT.vocab.atoi`.\n"
   ]
  },
  {
   "cell_type": "code",
   "execution_count": 20,
   "metadata": {
    "colab": {
     "base_uri": "https://localhost:8080/"
    },
    "id": "TokWJenvzZ23",
    "outputId": "718d421d-8440-4600-a015-785d8f8f1d83"
   },
   "outputs": [
    {
     "data": {
      "text/plain": [
       "CNN(\n",
       "  (embedding): Embedding(25002, 30, padding_idx=1)\n",
       "  (convs): ModuleList(\n",
       "    (0): Conv1d(30, 100, kernel_size=(3,), stride=(1,))\n",
       "    (1): Conv1d(30, 100, kernel_size=(4,), stride=(1,))\n",
       "    (2): Conv1d(30, 100, kernel_size=(5,), stride=(1,))\n",
       "  )\n",
       "  (fc): Linear(in_features=300, out_features=1, bias=True)\n",
       "  (dropout): Dropout(p=0.5, inplace=False)\n",
       ")"
      ]
     },
     "execution_count": 20,
     "metadata": {},
     "output_type": "execute_result"
    }
   ],
   "source": [
    "model_30.load_state_dict(torch.load('tut30-model.pt'))\n",
    "model_30.eval()"
   ]
  },
  {
   "cell_type": "code",
   "execution_count": 21,
   "metadata": {
    "colab": {
     "base_uri": "https://localhost:8080/"
    },
    "id": "_k2KQMIvPbmG",
    "outputId": "9ccd3de6-8316-4c14-b578-455dae6f7a40"
   },
   "outputs": [
    {
     "data": {
      "text/plain": [
       "25002"
      ]
     },
     "execution_count": 21,
     "metadata": {},
     "output_type": "execute_result"
    }
   ],
   "source": [
    "len(TEXT.vocab)"
   ]
  },
  {
   "cell_type": "code",
   "execution_count": 22,
   "metadata": {
    "colab": {
     "base_uri": "https://localhost:8080/"
    },
    "id": "rPx5BGUnAZ54",
    "outputId": "a3e01409-e708-4e24-9382-175a0e32a1b1"
   },
   "outputs": [
    {
     "data": {
      "text/plain": [
       "defaultdict(<bound method Vocab._default_unk_index of <torchtext.vocab.Vocab object at 0x7f465b4d8e90>>,\n",
       "            {'<unk>': 0,\n",
       "             '<pad>': 1,\n",
       "             'the': 2,\n",
       "             ',': 3,\n",
       "             '.': 4,\n",
       "             'and': 5,\n",
       "             'a': 6,\n",
       "             'of': 7,\n",
       "             'to': 8,\n",
       "             'is': 9,\n",
       "             'in': 10,\n",
       "             'I': 11,\n",
       "             'it': 12,\n",
       "             'that': 13,\n",
       "             '\"': 14,\n",
       "             \"'s\": 15,\n",
       "             'this': 16,\n",
       "             '-': 17,\n",
       "             '/><br': 18,\n",
       "             'was': 19,\n",
       "             'as': 20,\n",
       "             'with': 21,\n",
       "             'movie': 22,\n",
       "             'for': 23,\n",
       "             'film': 24,\n",
       "             'The': 25,\n",
       "             'but': 26,\n",
       "             '(': 27,\n",
       "             ')': 28,\n",
       "             'on': 29,\n",
       "             \"n't\": 30,\n",
       "             'you': 31,\n",
       "             'are': 32,\n",
       "             'not': 33,\n",
       "             'have': 34,\n",
       "             'his': 35,\n",
       "             'be': 36,\n",
       "             'he': 37,\n",
       "             'one': 38,\n",
       "             '!': 39,\n",
       "             'at': 40,\n",
       "             'by': 41,\n",
       "             'all': 42,\n",
       "             'an': 43,\n",
       "             'who': 44,\n",
       "             'they': 45,\n",
       "             'from': 46,\n",
       "             'like': 47,\n",
       "             'so': 48,\n",
       "             'her': 49,\n",
       "             'or': 50,\n",
       "             \"'\": 51,\n",
       "             'has': 52,\n",
       "             'about': 53,\n",
       "             'just': 54,\n",
       "             'out': 55,\n",
       "             'It': 56,\n",
       "             'do': 57,\n",
       "             '?': 58,\n",
       "             'some': 59,\n",
       "             'good': 60,\n",
       "             'more': 61,\n",
       "             'would': 62,\n",
       "             'very': 63,\n",
       "             'up': 64,\n",
       "             'what': 65,\n",
       "             'This': 66,\n",
       "             'there': 67,\n",
       "             'time': 68,\n",
       "             'can': 69,\n",
       "             'which': 70,\n",
       "             'when': 71,\n",
       "             'she': 72,\n",
       "             'only': 73,\n",
       "             'really': 74,\n",
       "             'had': 75,\n",
       "             'if': 76,\n",
       "             'story': 77,\n",
       "             'their': 78,\n",
       "             'were': 79,\n",
       "             'even': 80,\n",
       "             'see': 81,\n",
       "             'no': 82,\n",
       "             'my': 83,\n",
       "             'me': 84,\n",
       "             'does': 85,\n",
       "             'did': 86,\n",
       "             'than': 87,\n",
       "             '...': 88,\n",
       "             ':': 89,\n",
       "             'could': 90,\n",
       "             'much': 91,\n",
       "             'been': 92,\n",
       "             'get': 93,\n",
       "             'into': 94,\n",
       "             'well': 95,\n",
       "             'we': 96,\n",
       "             'bad': 97,\n",
       "             'will': 98,\n",
       "             'other': 99,\n",
       "             'people': 100,\n",
       "             'him': 101,\n",
       "             'because': 102,\n",
       "             'great': 103,\n",
       "             'made': 104,\n",
       "             'first': 105,\n",
       "             'most': 106,\n",
       "             'make': 107,\n",
       "             'also': 108,\n",
       "             'how': 109,\n",
       "             'them': 110,\n",
       "             'movies': 111,\n",
       "             'way': 112,\n",
       "             'its': 113,\n",
       "             'any': 114,\n",
       "             'too': 115,\n",
       "             '<': 116,\n",
       "             'br': 117,\n",
       "             '/>The': 118,\n",
       "             'think': 119,\n",
       "             'characters': 120,\n",
       "             'character': 121,\n",
       "             'then': 122,\n",
       "             'films': 123,\n",
       "             'But': 124,\n",
       "             ';': 125,\n",
       "             'seen': 126,\n",
       "             'two': 127,\n",
       "             'being': 128,\n",
       "             'watch': 129,\n",
       "             'plot': 130,\n",
       "             'acting': 131,\n",
       "             'many': 132,\n",
       "             'And': 133,\n",
       "             'never': 134,\n",
       "             'over': 135,\n",
       "             'life': 136,\n",
       "             'where': 137,\n",
       "             'little': 138,\n",
       "             'know': 139,\n",
       "             'after': 140,\n",
       "             'love': 141,\n",
       "             'show': 142,\n",
       "             'best': 143,\n",
       "             'off': 144,\n",
       "             'ever': 145,\n",
       "             'A': 146,\n",
       "             '*': 147,\n",
       "             'better': 148,\n",
       "             'your': 149,\n",
       "             'end': 150,\n",
       "             'i': 151,\n",
       "             'say': 152,\n",
       "             'He': 153,\n",
       "             'should': 154,\n",
       "             'scene': 155,\n",
       "             'There': 156,\n",
       "             'In': 157,\n",
       "             'still': 158,\n",
       "             'scenes': 159,\n",
       "             'such': 160,\n",
       "             '/': 161,\n",
       "             \"'ve\": 162,\n",
       "             'here': 163,\n",
       "             'something': 164,\n",
       "             'through': 165,\n",
       "             'man': 166,\n",
       "             'back': 167,\n",
       "             'go': 168,\n",
       "             'these': 169,\n",
       "             'real': 170,\n",
       "             \"'m\": 171,\n",
       "             'those': 172,\n",
       "             'If': 173,\n",
       "             'actors': 174,\n",
       "             'watching': 175,\n",
       "             'thing': 176,\n",
       "             'old': 177,\n",
       "             'years': 178,\n",
       "             'work': 179,\n",
       "             'makes': 180,\n",
       "             'find': 181,\n",
       "             'actually': 182,\n",
       "             'though': 183,\n",
       "             'few': 184,\n",
       "             'going': 185,\n",
       "             'same': 186,\n",
       "             '--': 187,\n",
       "             'funny': 188,\n",
       "             'why': 189,\n",
       "             'look': 190,\n",
       "             'director': 191,\n",
       "             'lot': 192,\n",
       "             'before': 193,\n",
       "             'while': 194,\n",
       "             'nothing': 195,\n",
       "             'cast': 196,\n",
       "             '/>I': 197,\n",
       "             'part': 198,\n",
       "             'another': 199,\n",
       "             'ca': 200,\n",
       "             'got': 201,\n",
       "             'want': 202,\n",
       "             'again': 203,\n",
       "             'seems': 204,\n",
       "             \"'re\": 205,\n",
       "             'quite': 206,\n",
       "             'down': 207,\n",
       "             'pretty': 208,\n",
       "             'every': 209,\n",
       "             'fact': 210,\n",
       "             '&': 211,\n",
       "             'around': 212,\n",
       "             'things': 213,\n",
       "             'enough': 214,\n",
       "             'thought': 215,\n",
       "             'between': 216,\n",
       "             'own': 217,\n",
       "             'action': 218,\n",
       "             'take': 219,\n",
       "             'horror': 220,\n",
       "             'young': 221,\n",
       "             'give': 222,\n",
       "             'series': 223,\n",
       "             'original': 224,\n",
       "             'world': 225,\n",
       "             'long': 226,\n",
       "             'us': 227,\n",
       "             'now': 228,\n",
       "             'role': 229,\n",
       "             'always': 230,\n",
       "             'must': 231,\n",
       "             'may': 232,\n",
       "             'gets': 233,\n",
       "             'right': 234,\n",
       "             'least': 235,\n",
       "             'They': 236,\n",
       "             'both': 237,\n",
       "             'interesting': 238,\n",
       "             'point': 239,\n",
       "             'whole': 240,\n",
       "             'new': 241,\n",
       "             'You': 242,\n",
       "             'saw': 243,\n",
       "             'comedy': 244,\n",
       "             'script': 245,\n",
       "             'bit': 246,\n",
       "             'almost': 247,\n",
       "             'without': 248,\n",
       "             'times': 249,\n",
       "             'done': 250,\n",
       "             'family': 251,\n",
       "             'come': 252,\n",
       "             'big': 253,\n",
       "             'guy': 254,\n",
       "             'feel': 255,\n",
       "             'making': 256,\n",
       "             'minutes': 257,\n",
       "             'might': 258,\n",
       "             'far': 259,\n",
       "             'anything': 260,\n",
       "             'performance': 261,\n",
       "             'music': 262,\n",
       "             \"'ll\": 263,\n",
       "             'What': 264,\n",
       "             'am': 265,\n",
       "             'last': 266,\n",
       "             'kind': 267,\n",
       "             'TV': 268,\n",
       "             'She': 269,\n",
       "             'probably': 270,\n",
       "             'As': 271,\n",
       "             'found': 272,\n",
       "             'rather': 273,\n",
       "             'away': 274,\n",
       "             'woman': 275,\n",
       "             'girl': 276,\n",
       "             'fun': 277,\n",
       "             'worst': 278,\n",
       "             'That': 279,\n",
       "             'played': 280,\n",
       "             'since': 281,\n",
       "             'hard': 282,\n",
       "             'comes': 283,\n",
       "             'course': 284,\n",
       "             'goes': 285,\n",
       "             'believe': 286,\n",
       "             'trying': 287,\n",
       "             'put': 288,\n",
       "             'anyone': 289,\n",
       "             'looks': 290,\n",
       "             'looking': 291,\n",
       "             'day': 292,\n",
       "             'different': 293,\n",
       "             'our': 294,\n",
       "             'set': 295,\n",
       "             'screen': 296,\n",
       "             'each': 297,\n",
       "             'especially': 298,\n",
       "             'place': 299,\n",
       "             'sure': 300,\n",
       "             'sense': 301,\n",
       "             'yet': 302,\n",
       "             'book': 303,\n",
       "             'DVD': 304,\n",
       "             'actor': 305,\n",
       "             'ending': 306,\n",
       "             \"'d\": 307,\n",
       "             'watched': 308,\n",
       "             'American': 309,\n",
       "             'main': 310,\n",
       "             'reason': 311,\n",
       "             'shows': 312,\n",
       "             'job': 313,\n",
       "             '/>This': 314,\n",
       "             'having': 315,\n",
       "             'money': 316,\n",
       "             'plays': 317,\n",
       "             'worth': 318,\n",
       "             'seem': 319,\n",
       "             'takes': 320,\n",
       "             'When': 321,\n",
       "             'effects': 322,\n",
       "             'said': 323,\n",
       "             '10': 324,\n",
       "             'true': 325,\n",
       "             'John': 326,\n",
       "             'someone': 327,\n",
       "             'himself': 328,\n",
       "             'play': 329,\n",
       "             '2': 330,\n",
       "             'So': 331,\n",
       "             'together': 332,\n",
       "             'audience': 333,\n",
       "             'version': 334,\n",
       "             'three': 335,\n",
       "             'wife': 336,\n",
       "             'half': 337,\n",
       "             'idea': 338,\n",
       "             'left': 339,\n",
       "             'beautiful': 340,\n",
       "             'year': 341,\n",
       "             'special': 342,\n",
       "             'seeing': 343,\n",
       "             'shot': 344,\n",
       "             'everything': 345,\n",
       "             'father': 346,\n",
       "             'later': 347,\n",
       "             'during': 348,\n",
       "             'used': 349,\n",
       "             'else': 350,\n",
       "             'once': 351,\n",
       "             'simply': 352,\n",
       "             'We': 353,\n",
       "             'everyone': 354,\n",
       "             'nice': 355,\n",
       "             'One': 356,\n",
       "             'less': 357,\n",
       "             'help': 358,\n",
       "             'mind': 359,\n",
       "             'high': 360,\n",
       "             'excellent': 361,\n",
       "             'read': 362,\n",
       "             'fan': 363,\n",
       "             'Hollywood': 364,\n",
       "             'need': 365,\n",
       "             'use': 366,\n",
       "             'completely': 367,\n",
       "             'rest': 368,\n",
       "             'However': 369,\n",
       "             'Not': 370,\n",
       "             'short': 371,\n",
       "             'For': 372,\n",
       "             'given': 373,\n",
       "             'let': 374,\n",
       "             'second': 375,\n",
       "             'performances': 376,\n",
       "             'budget': 377,\n",
       "             'production': 378,\n",
       "             'try': 379,\n",
       "             'poor': 380,\n",
       "             'My': 381,\n",
       "             'line': 382,\n",
       "             'women': 383,\n",
       "             'camera': 384,\n",
       "             'truly': 385,\n",
       "             'kids': 386,\n",
       "             'classic': 387,\n",
       "             'home': 388,\n",
       "             'until': 389,\n",
       "             'wrong': 390,\n",
       "             'low': 391,\n",
       "             'came': 392,\n",
       "             'recommend': 393,\n",
       "             'enjoy': 394,\n",
       "             'top': 395,\n",
       "             'mean': 396,\n",
       "             'friends': 397,\n",
       "             'start': 398,\n",
       "             'house': 399,\n",
       "             'couple': 400,\n",
       "             'either': 401,\n",
       "             '/>It': 402,\n",
       "             'instead': 403,\n",
       "             '..': 404,\n",
       "             'small': 405,\n",
       "             'getting': 406,\n",
       "             'boring': 407,\n",
       "             'tell': 408,\n",
       "             'men': 409,\n",
       "             'moments': 410,\n",
       "             'stupid': 411,\n",
       "             'night': 412,\n",
       "             'along': 413,\n",
       "             'awful': 414,\n",
       "             'All': 415,\n",
       "             'doing': 416,\n",
       "             'episode': 417,\n",
       "             'next': 418,\n",
       "             'video': 419,\n",
       "             'understand': 420,\n",
       "             'death': 421,\n",
       "             'remember': 422,\n",
       "             'playing': 423,\n",
       "             'often': 424,\n",
       "             'although': 425,\n",
       "             'gives': 426,\n",
       "             'face': 427,\n",
       "             'keep': 428,\n",
       "             'person': 429,\n",
       "             'name': 430,\n",
       "             'style': 431,\n",
       "             'full': 432,\n",
       "             'terrible': 433,\n",
       "             'No': 434,\n",
       "             'wonderful': 435,\n",
       "             'maybe': 436,\n",
       "             'perfect': 437,\n",
       "             'stars': 438,\n",
       "             'sex': 439,\n",
       "             'however': 440,\n",
       "             'felt': 441,\n",
       "             'become': 442,\n",
       "             'written': 443,\n",
       "             'lines': 444,\n",
       "             'entire': 445,\n",
       "             'human': 446,\n",
       "             'early': 447,\n",
       "             'itself': 448,\n",
       "             'dialogue': 449,\n",
       "             'piece': 450,\n",
       "             'others': 451,\n",
       "             'black': 452,\n",
       "             'supposed': 453,\n",
       "             'case': 454,\n",
       "             'liked': 455,\n",
       "             'waste': 456,\n",
       "             'school': 457,\n",
       "             'head': 458,\n",
       "             'THE': 459,\n",
       "             'star': 460,\n",
       "             'against': 461,\n",
       "             'called': 462,\n",
       "             'sort': 463,\n",
       "             'went': 464,\n",
       "             'live': 465,\n",
       "             'absolutely': 466,\n",
       "             'After': 467,\n",
       "             'Even': 468,\n",
       "             'title': 469,\n",
       "             'definitely': 470,\n",
       "             'entertaining': 471,\n",
       "             'seemed': 472,\n",
       "             'loved': 473,\n",
       "             'problem': 474,\n",
       "             'At': 475,\n",
       "             'wanted': 476,\n",
       "             'Well': 477,\n",
       "             'friend': 478,\n",
       "             'certainly': 479,\n",
       "             'mother': 480,\n",
       "             'children': 481,\n",
       "             'war': 482,\n",
       "             'His': 483,\n",
       "             'under': 484,\n",
       "             'boy': 485,\n",
       "             'cinema': 486,\n",
       "             'already': 487,\n",
       "             'worse': 488,\n",
       "             'To': 489,\n",
       "             'care': 490,\n",
       "             'lives': 491,\n",
       "             'laugh': 492,\n",
       "             'picture': 493,\n",
       "             'becomes': 494,\n",
       "             'fans': 495,\n",
       "             'Do': 496,\n",
       "             'beginning': 497,\n",
       "             '3': 498,\n",
       "             'based': 499,\n",
       "             'lead': 500,\n",
       "             'turn': 501,\n",
       "             '\\x96': 502,\n",
       "             'hope': 503,\n",
       "             'drama': 504,\n",
       "             'wants': 505,\n",
       "             'example': 506,\n",
       "             'several': 507,\n",
       "             '<br': 508,\n",
       "             'quality': 509,\n",
       "             'totally': 510,\n",
       "             'lost': 511,\n",
       "             'dead': 512,\n",
       "             'writing': 513,\n",
       "             'works': 514,\n",
       "             'direction': 515,\n",
       "             'wo': 516,\n",
       "             '1': 517,\n",
       "             'sound': 518,\n",
       "             'son': 519,\n",
       "             'viewer': 520,\n",
       "             'humor': 521,\n",
       "             'able': 522,\n",
       "             'tries': 523,\n",
       "             'past': 524,\n",
       "             'finally': 525,\n",
       "             'fine': 526,\n",
       "             'enjoyed': 527,\n",
       "             'flick': 528,\n",
       "             'guess': 529,\n",
       "             'amazing': 530,\n",
       "             'heart': 531,\n",
       "             'While': 532,\n",
       "             'child': 533,\n",
       "             'guys': 534,\n",
       "             'New': 535,\n",
       "             'gave': 536,\n",
       "             'starts': 537,\n",
       "             'killer': 538,\n",
       "             'Michael': 539,\n",
       "             'Then': 540,\n",
       "             'history': 541,\n",
       "             'evil': 542,\n",
       "             'car': 543,\n",
       "             'genre': 544,\n",
       "             'throughout': 545,\n",
       "             'turns': 546,\n",
       "             'behind': 547,\n",
       "             'favorite': 548,\n",
       "             'hand': 549,\n",
       "             'town': 550,\n",
       "             'thinking': 551,\n",
       "             'close': 552,\n",
       "             'self': 553,\n",
       "             'parts': 554,\n",
       "             'late': 555,\n",
       "             'act': 556,\n",
       "             'art': 557,\n",
       "             'side': 558,\n",
       "             'today': 559,\n",
       "             'How': 560,\n",
       "             'Also': 561,\n",
       "             'myself': 562,\n",
       "             'perhaps': 563,\n",
       "             'final': 564,\n",
       "             'white': 565,\n",
       "             'expect': 566,\n",
       "             'kid': 567,\n",
       "             'Why': 568,\n",
       "             'game': 569,\n",
       "             'themselves': 570,\n",
       "             '....': 571,\n",
       "             'daughter': 572,\n",
       "             'feeling': 573,\n",
       "             'run': 574,\n",
       "             'hour': 575,\n",
       "             'directed': 576,\n",
       "             'etc': 577,\n",
       "             'took': 578,\n",
       "             'heard': 579,\n",
       "             'Some': 580,\n",
       "             '>': 581,\n",
       "             'actress': 582,\n",
       "             'stories': 583,\n",
       "             'type': 584,\n",
       "             'voice': 585,\n",
       "             'known': 586,\n",
       "             'happens': 587,\n",
       "             'Of': 588,\n",
       "             'days': 589,\n",
       "             'says': 590,\n",
       "             'decent': 591,\n",
       "             'roles': 592,\n",
       "             'dark': 593,\n",
       "             'horrible': 594,\n",
       "             'stuff': 595,\n",
       "             'matter': 596,\n",
       "             'eyes': 597,\n",
       "             'fight': 598,\n",
       "             'slow': 599,\n",
       "             'killed': 600,\n",
       "             'kill': 601,\n",
       "             'girls': 602,\n",
       "             'brilliant': 603,\n",
       "             'including': 604,\n",
       "             'particularly': 605,\n",
       "             'lack': 606,\n",
       "             'involved': 607,\n",
       "             'brother': 608,\n",
       "             'hit': 609,\n",
       "             'attempt': 610,\n",
       "             'experience': 611,\n",
       "             'moment': 612,\n",
       "             'extremely': 613,\n",
       "             'group': 614,\n",
       "             'Mr.': 615,\n",
       "             'violence': 616,\n",
       "             'writer': 617,\n",
       "             '/>In': 618,\n",
       "             'chance': 619,\n",
       "             'obvious': 620,\n",
       "             'interest': 621,\n",
       "             'told': 622,\n",
       "             'James': 623,\n",
       "             'soon': 624,\n",
       "             'sometimes': 625,\n",
       "             'Just': 626,\n",
       "             'happen': 627,\n",
       "             'husband': 628,\n",
       "             'stop': 629,\n",
       "             'happened': 630,\n",
       "             'obviously': 631,\n",
       "             'strong': 632,\n",
       "             'leave': 633,\n",
       "             'hero': 634,\n",
       "             'except': 635,\n",
       "             'David': 636,\n",
       "             'highly': 637,\n",
       "             'career': 638,\n",
       "             'complete': 639,\n",
       "             'shown': 640,\n",
       "             'Now': 641,\n",
       "             'looked': 642,\n",
       "             'annoying': 643,\n",
       "             'coming': 644,\n",
       "             'serious': 645,\n",
       "             '/>There': 646,\n",
       "             'number': 647,\n",
       "             '/>If': 648,\n",
       "             'started': 649,\n",
       "             'whose': 650,\n",
       "             'age': 651,\n",
       "             'ago': 652,\n",
       "             'wonder': 653,\n",
       "             'somewhat': 654,\n",
       "             'opening': 655,\n",
       "             'usual': 656,\n",
       "             'English': 657,\n",
       "             'cut': 658,\n",
       "             'gore': 659,\n",
       "             'across': 660,\n",
       "             'exactly': 661,\n",
       "             'finds': 662,\n",
       "             'reality': 663,\n",
       "             'ends': 664,\n",
       "             'taken': 665,\n",
       "             'With': 666,\n",
       "             'crap': 667,\n",
       "             'relationship': 668,\n",
       "             'score': 669,\n",
       "             'talking': 670,\n",
       "             'documentary': 671,\n",
       "             'possible': 672,\n",
       "             'released': 673,\n",
       "             'sad': 674,\n",
       "             'jokes': 675,\n",
       "             'ridiculous': 676,\n",
       "             'shots': 677,\n",
       "             'save': 678,\n",
       "             'Robert': 679,\n",
       "             'important': 680,\n",
       "             'turned': 681,\n",
       "             'simple': 682,\n",
       "             'novel': 683,\n",
       "             'cinematography': 684,\n",
       "             'alone': 685,\n",
       "             'level': 686,\n",
       "             'ones': 687,\n",
       "             'comic': 688,\n",
       "             'living': 689,\n",
       "             'yourself': 690,\n",
       "             'police': 691,\n",
       "             'despite': 692,\n",
       "             'saying': 693,\n",
       "             'opinion': 694,\n",
       "             'view': 695,\n",
       "             'change': 696,\n",
       "             'hours': 697,\n",
       "             'talent': 698,\n",
       "             'musical': 699,\n",
       "             'middle': 700,\n",
       "             'taking': 701,\n",
       "             'knew': 702,\n",
       "             'blood': 703,\n",
       "             'due': 704,\n",
       "             'modern': 705,\n",
       "             'running': 706,\n",
       "             'song': 707,\n",
       "             'hilarious': 708,\n",
       "             'mostly': 709,\n",
       "             '5': 710,\n",
       "             'Man': 711,\n",
       "             'Paul': 712,\n",
       "             'usually': 713,\n",
       "             'wish': 714,\n",
       "             'British': 715,\n",
       "             'call': 716,\n",
       "             'body': 717,\n",
       "             'episodes': 718,\n",
       "             'single': 719,\n",
       "             'female': 720,\n",
       "             'happy': 721,\n",
       "             'non': 722,\n",
       "             'light': 723,\n",
       "             'attention': 724,\n",
       "             'cheap': 725,\n",
       "             'huge': 726,\n",
       "             'supporting': 727,\n",
       "             'murder': 728,\n",
       "             'Jack': 729,\n",
       "             'word': 730,\n",
       "             'songs': 731,\n",
       "             'sequence': 732,\n",
       "             'Oh': 733,\n",
       "             'Oscar': 734,\n",
       "             'order': 735,\n",
       "             'disappointed': 736,\n",
       "             'thriller': 737,\n",
       "             'tells': 738,\n",
       "             'sets': 739,\n",
       "             'knows': 740,\n",
       "             'events': 741,\n",
       "             'easily': 742,\n",
       "             'giving': 743,\n",
       "             'falls': 744,\n",
       "             '/>But': 745,\n",
       "             'On': 746,\n",
       "             'problems': 747,\n",
       "             'silly': 748,\n",
       "             '4': 749,\n",
       "             'clearly': 750,\n",
       "             'local': 751,\n",
       "             'predictable': 752,\n",
       "             'romantic': 753,\n",
       "             'scary': 754,\n",
       "             'bring': 755,\n",
       "             'needs': 756,\n",
       "             'Although': 757,\n",
       "             'entertainment': 758,\n",
       "             'it.<br': 759,\n",
       "             'George': 760,\n",
       "             'class': 761,\n",
       "             'future': 762,\n",
       "             'appears': 763,\n",
       "             'seriously': 764,\n",
       "             'OK': 765,\n",
       "             'enjoyable': 766,\n",
       "             'country': 767,\n",
       "             'moving': 768,\n",
       "             'none': 769,\n",
       "             'mention': 770,\n",
       "             'cool': 771,\n",
       "             'review': 772,\n",
       "             'television': 773,\n",
       "             'strange': 774,\n",
       "             'Richard': 775,\n",
       "             'actual': 776,\n",
       "             'room': 777,\n",
       "             'similar': 778,\n",
       "             'words': 779,\n",
       "             'straight': 780,\n",
       "             'upon': 781,\n",
       "             'First': 782,\n",
       "             'points': 783,\n",
       "             'stand': 784,\n",
       "             'message': 785,\n",
       "             'beyond': 786,\n",
       "             'five': 787,\n",
       "             'major': 788,\n",
       "             'feels': 789,\n",
       "             'storyline': 790,\n",
       "             'sequel': 791,\n",
       "             'King': 792,\n",
       "             'hell': 793,\n",
       "             'bunch': 794,\n",
       "             'animation': 795,\n",
       "             'kept': 796,\n",
       "             'fast': 797,\n",
       "             'within': 798,\n",
       "             'surprised': 799,\n",
       "             'tale': 800,\n",
       "             'near': 801,\n",
       "             'dull': 802,\n",
       "             'Peter': 803,\n",
       "             'York': 804,\n",
       "             'elements': 805,\n",
       "             'begins': 806,\n",
       "             'theme': 807,\n",
       "             'nearly': 808,\n",
       "             'realistic': 809,\n",
       "             'Who': 810,\n",
       "             'above': 811,\n",
       "             'ways': 812,\n",
       "             'Lee': 813,\n",
       "             'talk': 814,\n",
       "             'comments': 815,\n",
       "             'editing': 816,\n",
       "             'effort': 817,\n",
       "             'hear': 818,\n",
       "             'feature': 819,\n",
       "             'release': 820,\n",
       "             'tried': 821,\n",
       "             'herself': 822,\n",
       "             'means': 823,\n",
       "             'using': 824,\n",
       "             'form': 825,\n",
       "             'typical': 826,\n",
       "             'figure': 827,\n",
       "             'soundtrack': 828,\n",
       "             'fall': 829,\n",
       "             'easy': 830,\n",
       "             'working': 831,\n",
       "             'power': 832,\n",
       "             'Tom': 833,\n",
       "             'showing': 834,\n",
       "             'leads': 835,\n",
       "             'team': 836,\n",
       "             'overall': 837,\n",
       "             'Unfortunately': 838,\n",
       "             'God': 839,\n",
       "             'material': 840,\n",
       "             'hate': 841,\n",
       "             'rating': 842,\n",
       "             'clear': 843,\n",
       "             'four': 844,\n",
       "             'Maybe': 845,\n",
       "             'doubt': 846,\n",
       "             'whether': 847,\n",
       "             'Her': 848,\n",
       "             'brought': 849,\n",
       "             'named': 850,\n",
       "             'particular': 851,\n",
       "             'Disney': 852,\n",
       "             'parents': 853,\n",
       "             'viewers': 854,\n",
       "             '/>And': 855,\n",
       "             'certain': 856,\n",
       "             '$': 857,\n",
       "             'premise': 858,\n",
       "             'weak': 859,\n",
       "             'Japanese': 860,\n",
       "             'movie.<br': 861,\n",
       "             'apparently': 862,\n",
       "             'dialog': 863,\n",
       "             'fantastic': 864,\n",
       "             'theater': 865,\n",
       "             'decided': 866,\n",
       "             'follow': 867,\n",
       "             'famous': 868,\n",
       "             'lame': 869,\n",
       "             'sit': 870,\n",
       "             'ten': 871,\n",
       "             'city': 872,\n",
       "             're': 873,\n",
       "             'viewing': 874,\n",
       "             'move': 875,\n",
       "             'expected': 876,\n",
       "             'film.<br': 877,\n",
       "             'reviews': 878,\n",
       "             'sister': 879,\n",
       "             'filmed': 880,\n",
       "             '/>As': 881,\n",
       "             'learn': 882,\n",
       "             'among': 883,\n",
       "             'B': 884,\n",
       "             'became': 885,\n",
       "             'buy': 886,\n",
       "             'period': 887,\n",
       "             'sequences': 888,\n",
       "             'stay': 889,\n",
       "             'greatest': 890,\n",
       "             'nature': 891,\n",
       "             'question': 892,\n",
       "             '/>A': 893,\n",
       "             'lots': 894,\n",
       "             'Is': 895,\n",
       "             'America': 896,\n",
       "             'French': 897,\n",
       "             'Yes': 898,\n",
       "             'poorly': 899,\n",
       "             'average': 900,\n",
       "             'Its': 901,\n",
       "             'basically': 902,\n",
       "             'keeps': 903,\n",
       "             'atmosphere': 904,\n",
       "             'sexual': 905,\n",
       "             'suspense': 906,\n",
       "             'From': 907,\n",
       "             'deal': 908,\n",
       "             'eye': 909,\n",
       "             'needed': 910,\n",
       "             'yes': 911,\n",
       "             'killing': 912,\n",
       "             'gone': 913,\n",
       "             'minute': 914,\n",
       "             'somehow': 915,\n",
       "             'write': 916,\n",
       "             'crime': 917,\n",
       "             'stage': 918,\n",
       "             'subject': 919,\n",
       "             'add': 920,\n",
       "             'leaves': 921,\n",
       "             'acted': 922,\n",
       "             'surprise': 923,\n",
       "             'Like': 924,\n",
       "             'dramatic': 925,\n",
       "             'reading': 926,\n",
       "             'believable': 927,\n",
       "             'comment': 928,\n",
       "             'footage': 929,\n",
       "             'difficult': 930,\n",
       "             '`': 931,\n",
       "             'male': 932,\n",
       "             'NOT': 933,\n",
       "             'Christmas': 934,\n",
       "             'possibly': 935,\n",
       "             'realize': 936,\n",
       "             'season': 937,\n",
       "             'An': 938,\n",
       "             'features': 939,\n",
       "             'forced': 940,\n",
       "             'please': 941,\n",
       "             'forward': 942,\n",
       "             'wait': 943,\n",
       "             'meets': 944,\n",
       "             'situation': 945,\n",
       "             'truth': 946,\n",
       "             '20': 947,\n",
       "             'badly': 948,\n",
       "             's': 949,\n",
       "             'These': 950,\n",
       "             'directors': 951,\n",
       "             'open': 952,\n",
       "             'whom': 953,\n",
       "             'mystery': 954,\n",
       "             'towards': 955,\n",
       "             'interested': 956,\n",
       "             'rate': 957,\n",
       "             'memorable': 958,\n",
       "             'third': 959,\n",
       "             'worked': 960,\n",
       "             'writers': 961,\n",
       "             'appear': 962,\n",
       "             'begin': 963,\n",
       "             'credits': 964,\n",
       "             'free': 965,\n",
       "             'dance': 966,\n",
       "             'screenplay': 967,\n",
       "             'Most': 968,\n",
       "             'meet': 969,\n",
       "             'personal': 970,\n",
       "             'Joe': 971,\n",
       "             'ask': 972,\n",
       "             'create': 973,\n",
       "             'emotional': 974,\n",
       "             'imagine': 975,\n",
       "             'rent': 976,\n",
       "             'superb': 977,\n",
       "             'effect': 978,\n",
       "             'political': 979,\n",
       "             'setting': 980,\n",
       "             'society': 981,\n",
       "             'fails': 982,\n",
       "             'fantasy': 983,\n",
       "             'admit': 984,\n",
       "             'meant': 985,\n",
       "             'older': 986,\n",
       "             'brings': 987,\n",
       "             'mess': 988,\n",
       "             'previous': 989,\n",
       "             'die': 990,\n",
       "             'business': 991,\n",
       "             'cheesy': 992,\n",
       "             'incredibly': 993,\n",
       "             'nor': 994,\n",
       "             'box': 995,\n",
       "             'girlfriend': 996,\n",
       "             'pay': 997,\n",
       "             'leading': 998,\n",
       "             'directing': 999,\n",
       "             ...})"
      ]
     },
     "execution_count": 22,
     "metadata": {},
     "output_type": "execute_result"
    }
   ],
   "source": [
    "TEXT.vocab.stoi"
   ]
  },
  {
   "cell_type": "code",
   "execution_count": 23,
   "metadata": {
    "colab": {
     "base_uri": "https://localhost:8080/"
    },
    "id": "VSCMraHCZuV5",
    "outputId": "f24909c5-6ba8-4bc1-a785-f7ea49d0a377"
   },
   "outputs": [
    {
     "data": {
      "text/plain": [
       "tensor([ 0.0332, -1.7908, -1.7769,  0.9122,  1.0020,  1.0111,  0.5661,  0.0024,\n",
       "         0.2056, -0.9156,  0.1688,  0.6590,  0.1649, -0.2883, -2.1127,  0.8219,\n",
       "         0.4184,  0.3082, -1.2227,  0.5810,  0.0932, -0.5603, -0.5682, -0.7482,\n",
       "         0.2033,  0.0161, -0.5899,  0.1055,  0.7038, -1.1812], device='cuda:0',\n",
       "       grad_fn=<SelectBackward>)"
      ]
     },
     "execution_count": 23,
     "metadata": {},
     "output_type": "execute_result"
    }
   ],
   "source": [
    "model_30.embedding.weight[2]"
   ]
  },
  {
   "cell_type": "code",
   "execution_count": 24,
   "metadata": {
    "colab": {
     "base_uri": "https://localhost:8080/"
    },
    "id": "bm13Bcc2Q3ZN",
    "outputId": "f0a50b5d-cf51-49a3-b7f1-f36941725da6"
   },
   "outputs": [
    {
     "data": {
      "text/plain": [
       "array([[ 0.11742571, -0.7073654 ,  0.19396934, ...,  0.11884345,\n",
       "        -1.0232571 ,  0.7304884 ],\n",
       "       [ 0.        ,  0.        ,  0.        , ...,  0.        ,\n",
       "         0.        ,  0.        ],\n",
       "       [ 0.03318829, -1.7908086 , -1.7769412 , ...,  0.10549283,\n",
       "         0.7038105 , -1.1812453 ],\n",
       "       ...,\n",
       "       [ 1.1113755 ,  0.8843705 , -1.3177075 , ...,  0.56121314,\n",
       "         0.42381832, -1.2979078 ],\n",
       "       [ 0.1600528 , -0.09720878,  0.60695976, ..., -0.5353079 ,\n",
       "        -0.41216958, -1.027637  ],\n",
       "       [ 1.2530545 , -1.581203  , -0.91187733, ...,  0.65805626,\n",
       "        -0.9136406 , -0.08518986]], dtype=float32)"
      ]
     },
     "execution_count": 24,
     "metadata": {},
     "output_type": "execute_result"
    }
   ],
   "source": [
    "def find_all_embedings(TEXT=TEXT, model=model_30, batch_size=64):\n",
    "    return model_30.embedding.weight.detach().cpu().numpy()\n",
    "\n",
    "all_embedings = find_all_embedings()\n",
    "all_embedings"
   ]
  },
  {
   "cell_type": "code",
   "execution_count": 25,
   "metadata": {
    "id": "jkWuzoXuRall"
   },
   "outputs": [],
   "source": [
    "def find_embeding_of_word(word, all_embedings=all_embedings):\n",
    "    return all_embedings[TEXT.vocab.stoi[word]]"
   ]
  },
  {
   "cell_type": "code",
   "execution_count": 26,
   "metadata": {
    "colab": {
     "base_uri": "https://localhost:8080/"
    },
    "id": "YlM6E7NVOgiA",
    "outputId": "65adb7fa-8715-48bb-dc8c-9ada59ce13c2"
   },
   "outputs": [
    {
     "data": {
      "text/plain": [
       "1.0"
      ]
     },
     "execution_count": 26,
     "metadata": {},
     "output_type": "execute_result"
    }
   ],
   "source": [
    "cosine_similarity(find_embeding_of_word('try'), find_embeding_of_word('try'))"
   ]
  },
  {
   "cell_type": "code",
   "execution_count": 27,
   "metadata": {
    "colab": {
     "base_uri": "https://localhost:8080/"
    },
    "id": "KAui6H-_fVRz",
    "outputId": "5c6ea108-3533-4ac4-ee4e-ad73319e3568"
   },
   "outputs": [
    {
     "data": {
      "text/plain": [
       "25002"
      ]
     },
     "execution_count": 27,
     "metadata": {},
     "output_type": "execute_result"
    }
   ],
   "source": [
    "len(TEXT.vocab)"
   ]
  },
  {
   "cell_type": "code",
   "execution_count": 28,
   "metadata": {
    "id": "Aqok240DD3vG"
   },
   "outputs": [],
   "source": [
    "def find_most_similar(word, k=5, TEXT=TEXT, all_embedings=all_embedings, return_metric=False):\n",
    "    cosine_metrics = []\n",
    "    emb_word = find_embeding_of_word(word)\n",
    "    for i in range(len(TEXT.vocab)):\n",
    "        cur_word = TEXT.vocab.itos[i]\n",
    "        emb_cur_word = find_embeding_of_word(cur_word)\n",
    "        cosine_metrics.append(cosine_similarity(emb_word, emb_cur_word))\n",
    "\n",
    "    k_top_indxs = np.argsort(cosine_metrics)[-k-1:-1]\n",
    "    k_top_words = np.flip(np.array([(TEXT.vocab.itos[idx], cosine_metrics[idx]) for idx in k_top_indxs]))\n",
    "    return k_top_words"
   ]
  },
  {
   "cell_type": "markdown",
   "metadata": {
    "id": "VQmfIiGPD3vH"
   },
   "source": [
    "Выберите несколько слов из словаря и посмотрите на их ближайшие по эмбеддингу 5 слов."
   ]
  },
  {
   "cell_type": "code",
   "execution_count": 29,
   "metadata": {
    "colab": {
     "base_uri": "https://localhost:8080/"
    },
    "id": "a1sswLQmD3vH",
    "outputId": "c3e59088-dc9a-4815-bdae-95614862a83a"
   },
   "outputs": [
    {
     "name": "stderr",
     "output_type": "stream",
     "text": [
      "/usr/local/lib/python3.7/dist-packages/ipykernel_launcher.py:2: RuntimeWarning: invalid value encountered in float_scalars\n",
      "  \n"
     ]
    },
    {
     "data": {
      "text/plain": [
       "array([['0.6542249', 'fantastic'],\n",
       "       ['0.635271', 'Gertrude'],\n",
       "       ['0.63212425', 'yeon'],\n",
       "       ['0.6318066', 'Juarez'],\n",
       "       ['0.62777627', '/>For']], dtype='<U32')"
      ]
     },
     "execution_count": 29,
     "metadata": {},
     "output_type": "execute_result"
    }
   ],
   "source": [
    "find_most_similar('great', 5)"
   ]
  },
  {
   "cell_type": "code",
   "execution_count": 30,
   "metadata": {
    "colab": {
     "base_uri": "https://localhost:8080/"
    },
    "id": "-rLlFEcRD3vI",
    "outputId": "774ec0cc-4cfd-4a07-9359-1fcfddbc326f"
   },
   "outputs": [
    {
     "name": "stderr",
     "output_type": "stream",
     "text": [
      "/usr/local/lib/python3.7/dist-packages/ipykernel_launcher.py:2: RuntimeWarning: invalid value encountered in float_scalars\n",
      "  \n"
     ]
    },
    {
     "data": {
      "text/plain": [
       "array([['0.6928256', 'see.<br'],\n",
       "       ['0.62497246', 'Buddies'],\n",
       "       ['0.6157206', 'penned'],\n",
       "       ['0.60037595', 'yuppie'],\n",
       "       ['0.59740615', 'ugh']], dtype='<U32')"
      ]
     },
     "execution_count": 30,
     "metadata": {},
     "output_type": "execute_result"
    }
   ],
   "source": [
    "find_most_similar('drama', 5)"
   ]
  },
  {
   "cell_type": "code",
   "execution_count": 31,
   "metadata": {
    "colab": {
     "base_uri": "https://localhost:8080/"
    },
    "id": "lohcCsRXD3vJ",
    "outputId": "64828ef9-ad4c-4e53-bfb6-330a302f2425"
   },
   "outputs": [
    {
     "name": "stderr",
     "output_type": "stream",
     "text": [
      "/usr/local/lib/python3.7/dist-packages/ipykernel_launcher.py:2: RuntimeWarning: invalid value encountered in float_scalars\n",
      "  \n"
     ]
    },
    {
     "data": {
      "text/plain": [
       "array([['0.6976279', 'end.<br'],\n",
       "       ['0.68163574', 'within'],\n",
       "       ['0.667831', 'racy'],\n",
       "       ['0.62660766', 'noisy'],\n",
       "       ['0.6189581', 'Duel']], dtype='<U32')"
      ]
     },
     "execution_count": 31,
     "metadata": {},
     "output_type": "execute_result"
    }
   ],
   "source": [
    "find_most_similar('wife', 5)"
   ]
  },
  {
   "cell_type": "markdown",
   "metadata": {
    "id": "BmkCWPOiqu2i"
   },
   "source": [
    "Видно, что близкие слова часто являются даже другими частями речи (причем часто для существительного близкие слова - прилагательные). Можно предположить, что это связано с тем, что у существительных и связанных с ними прилагательных высокая совстречаемость, а, видимо, эмбеддинг-слой работает как раз с совстречаемостью."
   ]
  },
  {
   "cell_type": "markdown",
   "metadata": {
    "id": "rPA__m6jRPpf"
   },
   "source": [
    "## 4. Эксперементы со свёртками."
   ]
  },
  {
   "cell_type": "markdown",
   "metadata": {
    "id": "HULiRh10_vTF"
   },
   "source": [
    "Обучите модель с фильтрами меньших размеров: 1, 2 и 3. Измерьте ее качество."
   ]
  },
  {
   "cell_type": "code",
   "execution_count": null,
   "metadata": {
    "colab": {
     "base_uri": "https://localhost:8080/",
     "height": 86,
     "referenced_widgets": [
      "148bb571dc6648a7a8f7ab351f6e190e",
      "5be70c047c1644be82417d9640290deb",
      "34308f8aabec452c8ad0c3b2c5316a64",
      "24b54b60f2d44bc28cb6b8c956590192",
      "c812607781ac4c2f8c7675fec7050c42",
      "e8c3b86fbfec419b91a7bdb9863fb72e",
      "ab7fa82f390440fabcce194ccb4ab8ae",
      "9e97f9091efb470ca3403bc79bae61a6",
      "688c328c1c9440bea795ea64f3018cb2",
      "5a0a229bdd024b3fb3fc61c0ffe967b1",
      "b26b67578e1b437887613c5da1a413e9"
     ]
    },
    "id": "HPBKUgO4hOWl",
    "outputId": "11110ddc-f52c-4d83-9a9d-598ab7fcd940"
   },
   "outputs": [
    {
     "data": {
      "application/vnd.jupyter.widget-view+json": {
       "model_id": "148bb571dc6648a7a8f7ab351f6e190e",
       "version_major": 2,
       "version_minor": 0
      },
      "text/plain": [
       "0it [00:00, ?it/s]"
      ]
     },
     "metadata": {},
     "output_type": "display_data"
    },
    {
     "name": "stdout",
     "output_type": "stream",
     "text": [
      "[['It', 'be', 'so', 'terrible', '.', 'It', 'be', \"n't\", 'fun', 'to', 'watch', 'at', 'all', '.', 'Even', 'the', 'scene', 'where', 'the', 'girl', 'be', 'use', 'a', 'vibrator', ',', 'even', 'that', \"'s\", 'not', 'fun', 'to', 'watch', 'in', 'this', 'movie', '.', 'I', 'say', 'again', ',', 'the', 'scene', 'where', 'a', 'girl', 'be', 'masturbate', 'with', 'a', 'vibrator', 'be', 'not', 'even', 'fun', 'to', 'watch', '.', 'Or', 'maybe', 'if', 'that', 'be', 'the', 'only', 'part', 'of', 'the', 'movie', 'that', 'you', 'watch', ',', 'just', 'girl', 'on', 'couch', 'use', 'a', 'vibrator', '.', 'Maybe', 'they', 'should', 'have', 'just', 'release', 'that', 'one', 'scene', 'in', 'theater', ',', 'maybe', 'then', 'the', 'movie', 'would', 'be', 'enjoyable', 'on', 'a', 'certain', 'level', '.', 'My', 'advice', ',', 'fast', 'forward', 'to', 'that', 'point', ',', 'watch', 'it', ',', 'rewind', 'the', 'movie', ',', 'watch', 'it', 'again', ',', 'rewind', ',', 'repeat', '.', 'Maybe', 'you', 'could', 'enjoy', 'yourself', 'for', '2', 'hour', 'that', 'way', '.', 'This', 'movie', 'rank', 'alongside', 'I', 'spit', 'on', 'your', 'grave', 'and', 'Doom', 'generation', 'in', 'the', 'category', 'of', 'bad', 'movie', 'that', 'I', 'have', 'ever', 'see', '.']]\n"
     ]
    }
   ],
   "source": [
    "for i, x in tqdm(enumerate(train_data)):\n",
    "    text = x.text\n",
    "    train_data[i].text = [lemmatizer.lemmatize(w, get_wordnet_pos(w)) for w in text]\n",
    "\n",
    "print([train_data[0].text])"
   ]
  },
  {
   "cell_type": "code",
   "execution_count": null,
   "metadata": {
    "colab": {
     "base_uri": "https://localhost:8080/",
     "height": 86,
     "referenced_widgets": [
      "548d414a72ab47d8a4837a3aff4b8eef",
      "eeee19496c364bc390ff273ab6f542bb",
      "8e8eb388d2aa45af84e434d77f8ac55b",
      "4d02e04164534ea3b7552682c5b84e8d",
      "a78a68440e58489496b4088fd9043370",
      "96b325a8c8984babab38e20d94de6119",
      "b5d34cf6eca948be8487860676f06548",
      "12f21a0fb8f14ed299d9d9e1f395e936",
      "9c16c9d5dfc645518637256808af75ea",
      "754f779b2bcd41029464bc52ef310363",
      "44cd19392adb4d8fa68ff039157cbbd3"
     ]
    },
    "id": "kplQFNSZhoX0",
    "outputId": "9b747984-d567-4866-9dea-021ece3d1179"
   },
   "outputs": [
    {
     "data": {
      "application/vnd.jupyter.widget-view+json": {
       "model_id": "548d414a72ab47d8a4837a3aff4b8eef",
       "version_major": 2,
       "version_minor": 0
      },
      "text/plain": [
       "0it [00:00, ?it/s]"
      ]
     },
     "metadata": {},
     "output_type": "display_data"
    },
    {
     "name": "stdout",
     "output_type": "stream",
     "text": [
      "[['The', 'beautiful', 'story', 'of', 'Stardust', 'be', 'write', 'by', 'by', 'Neil', 'Gaiman', '(', 'writer', 'of', 'MirrorMask', ')', 'and', 'it', \"'s\", 'really', 'a', 'good', 'story', '.', 'I', 'think', 'it', 'would', 'appeal', 'to', 'any', 'Labyrinth', ',', 'Princess', 'Bride', 'or', '10th', 'Kingdom', 'fan', 'and', 'yet', 'it', \"'s\", 'totally', 'unique', 'and', 'stand', 'up', 'on', 'it', \"'s\", 'own', '.', 'And', 'I', 'feel', 'the', 'film', 'adaptation', 'of', 'this', 'story', 'have', 'a', 'far', 'well', 'end', 'than', 'what', 'be', 'present', 'in', 'the', 'original', 'novel', 'by', 'Neil', 'Gaiman', '.', 'I', 'wo', \"n't\", 'spoil', 'it', 'for', 'you.<br', '/><br', '/>The', 'main', 'character', ',', 'Tristan', '(', 'Tristran', 'in', 'the', 'novel', ')', ',', 'be', 'the', 'son', 'of', 'a', 'mortal', 'and', 'a', 'faerie', 'slave', 'kept', 'by', 'a', 'witch', 'in', 'the', 'realm', 'of', 'faerie', '.', 'The', 'story', 'begin', 'in', 'a', 'town', 'near', 'a', 'wall', 'that', 'separate', 'the', 'magical', 'world', 'from', 'the', 'human', 'world', '.', 'When', 'there', 'be', 'a', 'fall', 'star', 'Tristan', 'promise', 'to', 'retrieve', 'it', 'for', 'a', 'girl', 'he', 'be', 'infatuate', 'with', '.', 'He', 'be', 'unaware', 'that', 'the', 'star', 'have', 'take', 'the', 'form', 'of', 'a', 'girl', 'in', 'the', 'fairy', 'world', 'and', 'that', 'there', 'be', 'others', 'after', 'her', 'too', '.', 'Three', 'elderly', 'witch', 'who', 'want', 'to', 'use', 'her', 'heart', 'to', 'become', 'young', 'again', ',', 'and', 'some', 'bickering', 'princes.<br', '/><br', '/>It', \"'s\", 'a', 'really', 'good', 'story', '.', 'It', 'have', 'humor', 'and', 'magic', 'and', 'beautiful', ',', 'surreal', 'scene', 'and', 'visuals', '.', 'It', \"'s\", 'charm', 'and', 'I', 'feel', 'it', 'can', 'be', 'watch', 'by', 'child', 'and', 'adult', 'of', 'all', 'age', '.', 'It', \"'s\", 'simply', 'magical', '.', 'It', \"'s\", 'a', 'true', 'classic', 'fairy', 'tale', ',', 'the', 'like', 'of', 'which', 'I', 'have', \"n't\", 'see', 'in', 'cinema', 'since', 'the', '1980s', '.']]\n"
     ]
    }
   ],
   "source": [
    "for i, x in tqdm(enumerate(valid_data)):\n",
    "    text = x.text\n",
    "    valid_data[i].text = [lemmatizer.lemmatize(w, get_wordnet_pos(w)) for w in text]\n",
    "\n",
    "print([valid_data[0].text])"
   ]
  },
  {
   "cell_type": "code",
   "execution_count": null,
   "metadata": {
    "colab": {
     "base_uri": "https://localhost:8080/",
     "height": 86,
     "referenced_widgets": [
      "845f095847064834a2f64aba950dac6d",
      "3394f913fd0e42f3bb40a51c5f00995e",
      "0978f7e050a047af922e5554ae9bfd6b",
      "9bdfcc0a190b42d799da508138852ad8",
      "51713fb3355d48168a7916a88b5e7d81",
      "1628cbe693fc4942ac20469dedd5af3c",
      "419c082e312240949c171198f95ba54f",
      "9e6a3512f49a412ca31a1a30a3aecc2b",
      "4039d71fadd1459eb3095006243e2314",
      "e415dc17449148089750b82156665fb5",
      "310140f41159488089f09cdb29ef2425"
     ]
    },
    "id": "wHqyJPO_hoff",
    "outputId": "b4d6d981-66c4-42a0-b454-2a56bb30ab9f"
   },
   "outputs": [
    {
     "data": {
      "application/vnd.jupyter.widget-view+json": {
       "model_id": "845f095847064834a2f64aba950dac6d",
       "version_major": 2,
       "version_minor": 0
      },
      "text/plain": [
       "0it [00:00, ?it/s]"
      ]
     },
     "metadata": {},
     "output_type": "display_data"
    },
    {
     "name": "stdout",
     "output_type": "stream",
     "text": [
      "[['The', 'other', 'reviewer', 'be', 'way', 'WAAAAY', 'off', 'a', 'to', 'why', 'the', 'Farscape', 'show', 'have', 'be', '(', 'temporarily', ')', 'put', 'to', 'rest', '.', 'It', 'have', 'NOTHING', 'to', 'do', 'with', 'the', 'quality', 'of', 'the', 'show', \"'\", 'slack', \"'\", '.', 'In', 'fact', ',', 'the', 'exact', 'OPPOSITE', 'be', 'true', '.', 'They', 'kept', 'get', 'well', 'and', 'well', '!', ':)', 'I', 'have', 'see', 'every', 'episode', 'and', 'when', 'you', 'simply', 'watch', 'them', 'in', 'order', 'you', 'really', 'become', 'in', 'awe', 'how', 'much', 'cooler', 'it', 'get', 'a', 'they', 'move', 'on', 'and', 'on', ',', 'and', 'the', 'wormhole', '&', 'Aeryn', 'subplots', 'be', 'really', 'very', 'interest', 'and', 'give', 'it', 'MORE', 'vibe', ',', 'not', 'less', '.', 'Before', 'it', 'be', 'sort', 'of', 'chaotic', ',', 'slow', ',', 'and', 'rather', 'aimless', '.', 'They', 'spent', 'like', 'the', 'first', 'two', 'season', 'run', 'from', 'this', 'foe', 'type', ',', 'but', 'in', 'the', 'second', 'two', 'they', 'be', 'actually', 'try', 'to', 'DO', 'something', ':)', 'Also', 'I', 'have', 'never', 'see', 'such', 'a', 'great', 'fun', 'blend', 'of', 'sexy', 'gal', 'and', 'attitude', 'in', 'Sci', '-', 'Fi', '.', 'The', 'blue', 'girl', '-', 'Zahn', '-', 'be', 'cool', ',', 'but', 'not', \"'\", 'sexy', \"'\", '.', 'They', 'literally', 'get', 'to', 'the', 'point', 'where', 'the', 'gal', 'be', 'run', 'around', 'in', 'leather', 'corset', 'and', 'high', 'heel', 'blasting', 'alien', '-', 'now', 'tell', 'me', ',', 'what', 'could', 'be', 'cooler', 'than', 'that', '?', '?', '?', ':', ')', ')', '<', 'br', '/><br', '/>The', 'real', 'reason', 'Farscape', 'go', 'off', 'for', 'a', 'bit', 'be', 'because', 'it', 'be', 'cost', 'too', 'much', '-', 'and', 'that', 'be', 'a', 'GOOD', 'thing', 'for', 'the', 'fan', ',', 'because', 'the', 'show', ',', 'watch', 'end', 'to', 'end', ',', 'be', 'really', 'like', 'a', '60', 'hour', 'long', 'epic', 'movie', ',', 'with', 'all', 'the', 'cinematics', 'of', 'the', 'blockbuster', 'stuff', '(', 'ok', 'ok', 'they', 'do', 'use', 'similar', 'set', 'a', 'lot', ',', 'but', 'the', 'CG', 'be', 'great', 'and', 'the', 'gal', 'be', 'sexxxy).<br', '/><br', '/>Blah', 'blah', '-', 'the', 'real', 'reason', 'be', 'because', 'TV', 'show', 'be', 'about', 'PROFIT', '.', 'It', 'be', 'a', 'BUSINESS', ',', 'and', 'the', 'Sci', 'Fi', 'channel', 'or', 'whoever', 'be', 'not', 'get', 'a', 'big', 'a', 'return', 'on', 'this', 'expensive', 'Farscape', 'show', 'a', 'they', 'could', 'with', 'junk', 'show', 'like', \"'\", 'Stargate', \"'\", '.', 'Lexx', 'be', 'actually', 'cool', 'until', 'they', 'get', 'rid', 'of', 'the', 'hot', 'German', 'girl', 'and', 'replace', 'her', 'with', 'this', 'bizarre', 'fat', '-', 'lipped', 'oddity.<br', '/><br', '/>Anyway', 'yes', ',', 'remember', 'this', ':', 'Farscape', 'kept', 'get', 'well', 'and', 'well', ',', 'until', 'it', 'be', 'really', 'like', 'a', 'little', 'real', 'movie', 'each', 'week', '.', 'Then', 'the', 'network', 'decide', \"'\", 'hey', 'people', 'will', 'watch', 'any', 'old', 'piece', 'of', 'drek', 'we', 'shove', 'on', 'the', 'air', 'a', 'long', 'a', 'it', 'be', 'the', 'only', 'sci', 'fi', 'thing', 'on', 'at', 'that', 'hour', ',', 'so', 'why', 'be', 'we', 'spending', 'all', 'this', 'money', 'on', 'Farscape', ',', 'let', \"'s\", 'shove', 'cheesy', 'low', '-', 'budget', \"'\", 'Stargate', \"'\", 'down', 'people', \"'s\", 'throat', 'and', 'call', 'it', 'a', \"'\", 'hit', 'series', \"'\", 'because', 'it', \"'s\", 'like', 'all', 'we', 'play', 'every', 'darn', 'night', 'LOL', ':', ')', ')', '<', 'br', '/><br', '/>That', \"'s\", 'the', 'way', 'it', 'go', '.', 'Also', 'I', 'get', 'ta', 'tell', 'ya', 'that', 'Claudia', 'Black', 'be', 'a', 'really', 'cool', 'actress', '.', 'After', 'she', 'get', 'her', 'facelift', '(', 'get', 'the', 'baggy', 'eye', 'tighten', ')', 'she', 'be', 'look', 'really', 'cool', '-', 'one', 'of', 'those', 'dynamic', 'type', 'like', 'Judy', 'Davis', ',', 'and', 'sometimes', 'hot', 'look', ',', 'sometimes', 'ugly', '-', 'like', 'a', 'roller', 'coaster', 'ride', '.', 'I', \"'d\", 'par', 'Claudia', 'Black', 'with', 'Lucy', 'Lawless', 'in', 'style', 'and', 'substance', '-', 'both', 'VERY', 'fun', 'to', 'watch', '-', 'not', 'just', 'Chrichton', ':)', 'And', 'yeah', 'you', 'may', 'say', 'the', 'pregnancy', 'thing', 'be', 'cheesy', ',', 'but', 'how', 'many', 'sci', 'fi', 'show', 'have', 'a', 'BELIEVABLE', 'and', 'DEEP', 'romantic', 'subplot', 'that', 'actually', 'go', 'somewhere', 'and', 'progress', '?', '?', 'It', 'be', 'legitimately', 'cool', 'a', 'a', 'romance', 'story', '-', 'the', 'actor', 'on', 'the', 'show', 'be', 'great', '.', 'It', 'really', 'be', 'a', 'shame', 'the', 'show', 'be', 'in', 'limbo', 'for', 'now', ',', 'but', 'I', 'hope', 'it', 'come', 'back', 'in', 'more', 'episode', 'soon', 'and', 'movie', 'a', 'well', ',', 'because', 'I', 'will', 'deffinately', 'buy', 'them', '!', ':-D']]\n"
     ]
    }
   ],
   "source": [
    "for i, x in tqdm(enumerate(test_data)):\n",
    "    text = x.text\n",
    "    test_data[i].text = [lemmatizer.lemmatize(w, get_wordnet_pos(w)) for w in text]\n",
    "\n",
    "print([test_data[0].text])"
   ]
  },
  {
   "cell_type": "code",
   "execution_count": null,
   "metadata": {
    "id": "QUVghRXyh9qi"
   },
   "outputs": [],
   "source": [
    "MAX_VOCAB_SIZE = 25000\n",
    "TEXT.build_vocab(train_data, max_size=MAX_VOCAB_SIZE)\n",
    "LABEL.build_vocab(train_data)"
   ]
  },
  {
   "cell_type": "code",
   "execution_count": null,
   "metadata": {
    "colab": {
     "base_uri": "https://localhost:8080/"
    },
    "id": "abd3oJW2iCeN",
    "outputId": "13fe2713-4393-4e33-88a6-a8c0cd701f2a"
   },
   "outputs": [
    {
     "name": "stderr",
     "output_type": "stream",
     "text": [
      "/usr/local/lib/python3.7/dist-packages/torchtext/data/iterator.py:48: UserWarning: BucketIterator class will be retired soon and moved to torchtext.legacy. Please see the most recent release notes for further information.\n",
      "  warnings.warn('{} class will be retired soon and moved to torchtext.legacy. Please see the most recent release notes for further information.'.format(self.__class__.__name__), UserWarning)\n"
     ]
    }
   ],
   "source": [
    "BATCH_SIZE = 64\n",
    "\n",
    "train_iterator, valid_iterator, test_iterator = data.BucketIterator.splits(\n",
    "    (train_data, valid_data, test_data),\n",
    "    batch_size = BATCH_SIZE,\n",
    "    device = device\n",
    ")"
   ]
  },
  {
   "cell_type": "code",
   "execution_count": null,
   "metadata": {
    "id": "dtTFfKTsFgXx"
   },
   "outputs": [],
   "source": [
    "INPUT_DIM = len(TEXT.vocab)  # размер словаря\n",
    "EMBEDDING_DIM = 100  # размерность векторов-эмбеддингов\n",
    "N_FILTERS = 100  # количество свёрточных фильтров\n",
    "FILTER_SIZES = [1, 2, 3]  # размеры фильтров на каждом уровне\n",
    "OUTPUT_DIM = 1  # размерность выхода (сеть выдаёт вероятность для одного класса)\n",
    "DROPOUT = 0.5  # вероятность dropout\n",
    "PAD_IDX = TEXT.vocab.stoi[TEXT.pad_token]  # id токена для паддинга\n",
    "\n",
    "model_1_2_3 = CNN(INPUT_DIM, EMBEDDING_DIM, N_FILTERS, FILTER_SIZES, OUTPUT_DIM, DROPOUT, PAD_IDX)"
   ]
  },
  {
   "cell_type": "code",
   "execution_count": null,
   "metadata": {
    "colab": {
     "base_uri": "https://localhost:8080/"
    },
    "id": "xLBnmtP0hojT",
    "outputId": "2cd65bcc-44d3-47fa-fb29-fb4df56011f3"
   },
   "outputs": [
    {
     "name": "stdout",
     "output_type": "stream",
     "text": [
      "Модель имеет 2,560,801 обучаемых параметров\n",
      "Слой ембеддингов: 2,500,200 обучаемых параметров\n",
      "Слои свёртки: 60,300 обучаемых параметров\n",
      "Линейный слой: 301 обучаемых параметров\n"
     ]
    },
    {
     "data": {
      "text/plain": [
       "CNN(\n",
       "  (embedding): Embedding(25002, 100, padding_idx=1)\n",
       "  (convs): ModuleList(\n",
       "    (0): Conv1d(100, 100, kernel_size=(1,), stride=(1,))\n",
       "    (1): Conv1d(100, 100, kernel_size=(2,), stride=(1,))\n",
       "    (2): Conv1d(100, 100, kernel_size=(3,), stride=(1,))\n",
       "  )\n",
       "  (fc): Linear(in_features=300, out_features=1, bias=True)\n",
       "  (dropout): Dropout(p=0.5, inplace=False)\n",
       ")"
      ]
     },
     "execution_count": 22,
     "metadata": {},
     "output_type": "execute_result"
    }
   ],
   "source": [
    "def count_parameters(model):\n",
    "    ''' Подсчёт числа параметров модели '''\n",
    "    return sum(p.numel() for p in model.parameters() if p.requires_grad)\n",
    "print(f'Модель имеет {count_parameters(model_1_2_3):,} обучаемых параметров')\n",
    "print(f'Слой ембеддингов: {count_parameters(model_1_2_3.embedding):,} обучаемых параметров')\n",
    "print(f'Слои свёртки: {count_parameters(model_1_2_3.convs):,} обучаемых параметров')\n",
    "print(f'Линейный слой: {count_parameters(model_1_2_3.fc):,} обучаемых параметров')\n",
    "model_1_2_3.eval()"
   ]
  },
  {
   "cell_type": "code",
   "execution_count": null,
   "metadata": {
    "id": "1zGcyoCahonB"
   },
   "outputs": [],
   "source": [
    "optimizer = torch.optim.Adam(model_1_2_3.parameters())\n",
    "criterion = nn.BCEWithLogitsLoss()\n",
    "model_1_2_3 = model_1_2_3.to(device)\n",
    "criterion = criterion.to(device)"
   ]
  },
  {
   "cell_type": "code",
   "execution_count": null,
   "metadata": {
    "colab": {
     "base_uri": "https://localhost:8080/",
     "height": 481
    },
    "id": "KJLYi0EGijuq",
    "outputId": "cbafa4e9-ba6c-4515-e5d5-f4126f2f45a3"
   },
   "outputs": [
    {
     "data": {
      "image/png": "[encoded data removed]",
      "text/plain": [
       "<Figure size 864x432 with 1 Axes>"
      ]
     },
     "metadata": {},
     "output_type": "display_data"
    },
    {
     "name": "stdout",
     "output_type": "stream",
     "text": [
      "Номер эпохи: 10 | Время обучения эпохи: 0m 24s\n",
      "\tTrain Loss: 0.231 | Train Acc: 90.59%\n",
      "\t Val. Loss: 0.279 |  Val. Acc: 88.31%\n"
     ]
    }
   ],
   "source": [
    "training_loop(model_1_2_3, name_model='tut_1_2_3-model.pt')"
   ]
  },
  {
   "cell_type": "code",
   "execution_count": null,
   "metadata": {
    "colab": {
     "base_uri": "https://localhost:8080/"
    },
    "id": "AvJ0shT0ikCp",
    "outputId": "67e2e938-b080-48f9-9397-6f0f65a6f9e4"
   },
   "outputs": [
    {
     "name": "stderr",
     "output_type": "stream",
     "text": [
      "/usr/local/lib/python3.7/dist-packages/torchtext/data/batch.py:23: UserWarning: Batch class will be retired soon and moved to torchtext.legacy. Please see the most recent release notes for further information.\n",
      "  warnings.warn('{} class will be retired soon and moved to torchtext.legacy. Please see the most recent release notes for further information.'.format(self.__class__.__name__), UserWarning)\n"
     ]
    },
    {
     "name": "stdout",
     "output_type": "stream",
     "text": [
      "Test Loss: 0.287 | Test Acc: 87.73%\n"
     ]
    }
   ],
   "source": [
    "model_1_2_3.load_state_dict(torch.load('tut_1_2_3-model.pt'))\n",
    "test_loss, test_acc = evaluate(model_1_2_3, test_iterator, criterion)\n",
    "print(f'Test Loss: {test_loss:.3f} | Test Acc: {test_acc*100:.2f}%')"
   ]
  },
  {
   "cell_type": "markdown",
   "metadata": {
    "id": "xbXLCiEZ_kO0"
   },
   "source": [
    "Теперь рассмотрим лишь фильтры размера 1 и 2."
   ]
  },
  {
   "cell_type": "code",
   "execution_count": null,
   "metadata": {
    "id": "3FazsazGFkeX"
   },
   "outputs": [],
   "source": [
    "INPUT_DIM = len(TEXT.vocab)  # размер словаря\n",
    "EMBEDDING_DIM = 100  # размерность векторов-эмбеддингов\n",
    "N_FILTERS = 100  # количество свёрточных фильтров\n",
    "FILTER_SIZES = [1, 2]  # размеры фильтров на каждом уровне\n",
    "OUTPUT_DIM = 1  # размерность выхода (сеть выдаёт вероятность для одного класса)\n",
    "DROPOUT = 0.5  # вероятность dropout\n",
    "PAD_IDX = TEXT.vocab.stoi[TEXT.pad_token]  # id токена для паддинга\n",
    "\n",
    "model_1_2 = CNN(INPUT_DIM, EMBEDDING_DIM, N_FILTERS, FILTER_SIZES, OUTPUT_DIM, DROPOUT, PAD_IDX)"
   ]
  },
  {
   "cell_type": "code",
   "execution_count": null,
   "metadata": {
    "colab": {
     "base_uri": "https://localhost:8080/"
    },
    "id": "VnZIzFvSjC-U",
    "outputId": "2c99f9d0-f419-416b-a1e8-c59eca013cf1"
   },
   "outputs": [
    {
     "name": "stdout",
     "output_type": "stream",
     "text": [
      "Модель имеет 2,530,601 обучаемых параметров\n",
      "Слой ембеддингов: 2,500,200 обучаемых параметров\n",
      "Слои свёртки: 30,200 обучаемых параметров\n",
      "Линейный слой: 201 обучаемых параметров\n"
     ]
    },
    {
     "data": {
      "text/plain": [
       "CNN(\n",
       "  (embedding): Embedding(25002, 100, padding_idx=1)\n",
       "  (convs): ModuleList(\n",
       "    (0): Conv1d(100, 100, kernel_size=(1,), stride=(1,))\n",
       "    (1): Conv1d(100, 100, kernel_size=(2,), stride=(1,))\n",
       "  )\n",
       "  (fc): Linear(in_features=200, out_features=1, bias=True)\n",
       "  (dropout): Dropout(p=0.5, inplace=False)\n",
       ")"
      ]
     },
     "execution_count": 28,
     "metadata": {},
     "output_type": "execute_result"
    }
   ],
   "source": [
    "print(f'Модель имеет {count_parameters(model_1_2):,} обучаемых параметров')\n",
    "print(f'Слой ембеддингов: {count_parameters(model_1_2.embedding):,} обучаемых параметров')\n",
    "print(f'Слои свёртки: {count_parameters(model_1_2.convs):,} обучаемых параметров')\n",
    "print(f'Линейный слой: {count_parameters(model_1_2.fc):,} обучаемых параметров')\n",
    "model_1_2.eval()"
   ]
  },
  {
   "cell_type": "code",
   "execution_count": null,
   "metadata": {
    "id": "SbnZsViSjDBf"
   },
   "outputs": [],
   "source": [
    "optimizer = torch.optim.Adam(model_1_2.parameters())\n",
    "criterion = nn.BCEWithLogitsLoss()\n",
    "model_1_2 = model_1_2.to(device)\n",
    "criterion = criterion.to(device)"
   ]
  },
  {
   "cell_type": "code",
   "execution_count": null,
   "metadata": {
    "colab": {
     "base_uri": "https://localhost:8080/",
     "height": 481
    },
    "id": "5l2m0nhVjDEW",
    "outputId": "9695ddd6-768e-47c1-8ddc-6273b6c3968f"
   },
   "outputs": [
    {
     "data": {
      "image/png": "[encoded data removed]",
      "text/plain": [
       "<Figure size 864x432 with 1 Axes>"
      ]
     },
     "metadata": {},
     "output_type": "display_data"
    },
    {
     "name": "stdout",
     "output_type": "stream",
     "text": [
      "Номер эпохи: 10 | Время обучения эпохи: 0m 17s\n",
      "\tTrain Loss: 0.280 | Train Acc: 88.07%\n",
      "\t Val. Loss: 0.288 |  Val. Acc: 88.08%\n"
     ]
    }
   ],
   "source": [
    "training_loop(model_1_2, name_model='tut_1_2-model.pt')"
   ]
  },
  {
   "cell_type": "code",
   "execution_count": null,
   "metadata": {
    "colab": {
     "base_uri": "https://localhost:8080/"
    },
    "id": "2k4sdrlIjDG1",
    "outputId": "5d294302-5f7a-4a97-ee32-865651b3ada4"
   },
   "outputs": [
    {
     "name": "stderr",
     "output_type": "stream",
     "text": [
      "/usr/local/lib/python3.7/dist-packages/torchtext/data/batch.py:23: UserWarning: Batch class will be retired soon and moved to torchtext.legacy. Please see the most recent release notes for further information.\n",
      "  warnings.warn('{} class will be retired soon and moved to torchtext.legacy. Please see the most recent release notes for further information.'.format(self.__class__.__name__), UserWarning)\n"
     ]
    },
    {
     "name": "stdout",
     "output_type": "stream",
     "text": [
      "Test Loss: 0.299 | Test Acc: 87.24%\n"
     ]
    }
   ],
   "source": [
    "model_1_2.load_state_dict(torch.load('tut_1_2-model.pt'))\n",
    "test_loss, test_acc = evaluate(model_1_2, test_iterator, criterion)\n",
    "print(f'Test Loss: {test_loss:.3f} | Test Acc: {test_acc*100:.2f}%')"
   ]
  },
  {
   "cell_type": "markdown",
   "metadata": {
    "id": "Dq29tFsDFs43"
   },
   "source": [
    "Сильно ли меняется качество модели для данной задачи? Почему?"
   ]
  },
  {
   "cell_type": "markdown",
   "metadata": {
    "id": "QPLNmw26rjlG"
   },
   "source": [
    "Качество на трейне сильно упало у обеих моделей, а вот на тесте модель с 3 слоями показывает себя очень неплохо, модель с двумя слоями несколько хуже. Видимо, модель с двумя слоями все-таки видит недостаточно связей слов, а модели с 3 слоями, но с маленьким размером фильтров уже хватает видимости, чтоб уловить нужные зависимости."
   ]
  },
  {
   "cell_type": "markdown",
   "metadata": {
    "id": "yexEUEA3fGEs"
   },
   "source": [
    "## 5. Аугментация данных."
   ]
  },
  {
   "cell_type": "markdown",
   "metadata": {
    "id": "sI8wOpl_GC3L"
   },
   "source": [
    "Попробуйте сделать аугментацию текста. \n",
    "\n",
    "Замените слово на синоним с некоторой вероятностью $p$. То есть с вероятностью $p$ каждое слово будет заменено на некоторый его синоним, а с вероятностью $1 - p$ слово останется как есть.\n",
    "\n",
    "Обучите модель на таких данных и посмотрите на качество."
   ]
  },
  {
   "cell_type": "code",
   "execution_count": 56,
   "metadata": {
    "colab": {
     "base_uri": "https://localhost:8080/"
    },
    "id": "7i3cvbWHXYyI",
    "outputId": "bae4e2be-61f4-4abd-b1d6-83646394967a"
   },
   "outputs": [
    {
     "name": "stderr",
     "output_type": "stream",
     "text": [
      "/usr/local/lib/python3.7/dist-packages/torchtext/data/field.py:150: UserWarning: Field class will be retired soon and moved to torchtext.legacy. Please see the most recent release notes for further information.\n",
      "  warnings.warn('{} class will be retired soon and moved to torchtext.legacy. Please see the most recent release notes for further information.'.format(self.__class__.__name__), UserWarning)\n",
      "Exception ignored in: <function tqdm.__del__ at 0x7fd82a18edd0>\n",
      "Traceback (most recent call last):\n",
      "  File \"/usr/local/lib/python3.7/dist-packages/tqdm/std.py\", line 1162, in __del__\n",
      "    self.close()\n",
      "  File \"/usr/local/lib/python3.7/dist-packages/tqdm/notebook.py\", line 290, in close\n",
      "    self.disp(bar_style='success', check_delay=False)\n",
      "AttributeError: 'tqdm_notebook' object has no attribute 'disp'\n",
      "Exception ignored in: <function tqdm.__del__ at 0x7fd82a18edd0>\n",
      "Traceback (most recent call last):\n",
      "  File \"/usr/local/lib/python3.7/dist-packages/tqdm/std.py\", line 1162, in __del__\n",
      "    self.close()\n",
      "  File \"/usr/local/lib/python3.7/dist-packages/tqdm/notebook.py\", line 290, in close\n",
      "    self.disp(bar_style='success', check_delay=False)\n",
      "AttributeError: 'tqdm_notebook' object has no attribute 'disp'\n",
      "/usr/local/lib/python3.7/dist-packages/torchtext/data/field.py:150: UserWarning: LabelField class will be retired soon and moved to torchtext.legacy. Please see the most recent release notes for further information.\n",
      "  warnings.warn('{} class will be retired soon and moved to torchtext.legacy. Please see the most recent release notes for further information.'.format(self.__class__.__name__), UserWarning)\n"
     ]
    }
   ],
   "source": [
    "TEXT = data.Field(tokenize='spacy', batch_first=True)\n",
    "LABEL = data.LabelField(dtype=torch.float)"
   ]
  },
  {
   "cell_type": "code",
   "execution_count": 57,
   "metadata": {
    "colab": {
     "base_uri": "https://localhost:8080/"
    },
    "id": "XJC3tPgAXY5S",
    "outputId": "c9da2579-b958-4f58-d9f7-73ccd93ffd97"
   },
   "outputs": [
    {
     "name": "stderr",
     "output_type": "stream",
     "text": [
      "/usr/local/lib/python3.7/dist-packages/torchtext/data/example.py:78: UserWarning: Example class will be retired soon and moved to torchtext.legacy. Please see the most recent release notes for further information.\n",
      "  warnings.warn('Example class will be retired soon and moved to torchtext.legacy. Please see the most recent release notes for further information.', UserWarning)\n"
     ]
    }
   ],
   "source": [
    "train_data, test_data = datasets.IMDB.splits(TEXT, LABEL)\n",
    "train_data, valid_data = train_data.split(random_state=random.seed(SEED))"
   ]
  },
  {
   "cell_type": "markdown",
   "metadata": {
    "id": "23IBLvdhsTxS"
   },
   "source": [
    "Сделаем матрицу синонимов, чтобы не ждать долго постоянного обращения к функциям из 3-го пункта."
   ]
  },
  {
   "cell_type": "code",
   "execution_count": 32,
   "metadata": {
    "colab": {
     "base_uri": "https://localhost:8080/"
    },
    "id": "CQksg6GbXY-X",
    "outputId": "98a6e4da-ad06-448e-8e6e-53700d1190cf"
   },
   "outputs": [
    {
     "data": {
      "text/plain": [
       "(8, 30)"
      ]
     },
     "execution_count": 32,
     "metadata": {},
     "output_type": "execute_result"
    }
   ],
   "source": [
    "w_matrix = find_all_embedings()\n",
    "w_matrix[2:10].shape"
   ]
  },
  {
   "cell_type": "code",
   "execution_count": 33,
   "metadata": {
    "colab": {
     "base_uri": "https://localhost:8080/"
    },
    "id": "vkdjKL4ylfLL",
    "outputId": "c18cf73b-78f5-4974-8fbb-92575a393e7c"
   },
   "outputs": [
    {
     "data": {
      "text/plain": [
       "array([4.6622276, 5.993986 , 4.784254 , ..., 5.022842 , 5.0818906,\n",
       "       5.618357 ], dtype=float32)"
      ]
     },
     "execution_count": 33,
     "metadata": {},
     "output_type": "execute_result"
    }
   ],
   "source": [
    "np.linalg.norm(w_matrix[2:], axis=1)"
   ]
  },
  {
   "cell_type": "code",
   "execution_count": 34,
   "metadata": {
    "colab": {
     "base_uri": "https://localhost:8080/"
    },
    "id": "MaCO9LqXn3sY",
    "outputId": "d58ef87c-e9b6-46b0-920a-1de0b7a7dc4b"
   },
   "outputs": [
    {
     "data": {
      "text/plain": [
       "array([ 1276, 11572,  4016, ...,  9180, 17635,  3009])"
      ]
     },
     "execution_count": 34,
     "metadata": {},
     "output_type": "execute_result"
    }
   ],
   "source": [
    "idxes = np.random.choice(np.linspace(2, 25001, 25000, dtype=int), replace=False, size=5000)\n",
    "idxes"
   ]
  },
  {
   "cell_type": "code",
   "execution_count": 35,
   "metadata": {
    "colab": {
     "base_uri": "https://localhost:8080/"
    },
    "id": "w-bBGQqCoV20",
    "outputId": "a99cb747-8a54-44ab-bd50-b4342afe32b9"
   },
   "outputs": [
    {
     "data": {
      "text/plain": [
       "(5000, 30)"
      ]
     },
     "execution_count": 35,
     "metadata": {},
     "output_type": "execute_result"
    }
   ],
   "source": [
    "w_matrix[idxes].shape"
   ]
  },
  {
   "cell_type": "code",
   "execution_count": 36,
   "metadata": {
    "colab": {
     "base_uri": "https://localhost:8080/"
    },
    "id": "z6hYjNmrYG8k",
    "outputId": "64127267-6b69-4372-df87-92eac38eaf65"
   },
   "outputs": [
    {
     "name": "stdout",
     "output_type": "stream",
     "text": [
      "(30,)\n"
     ]
    }
   ],
   "source": [
    "for w in w_matrix:\n",
    "    print(w.shape)\n",
    "    break"
   ]
  },
  {
   "cell_type": "code",
   "execution_count": 37,
   "metadata": {
    "colab": {
     "base_uri": "https://localhost:8080/",
     "height": 1000,
     "referenced_widgets": [
      "95d83e8cb63b4e60a5842bce6702cd9a",
      "3244459068104e43b7365256877f383c",
      "dd77ac923d384a148d113faba15bef58",
      "9481ea14a6bb447d9e251eed5869c2bc",
      "535fce65dd4b459485fa3a97cd60aab6",
      "721dcad898be499682085edaac9973c1",
      "26564bc234ef472981156f01403d0f21",
      "11fb49b0b85443d2a5a545bba0548caa",
      "f6c76451ef4448b5a03b03dbd4ef754e",
      "0f265be9bcf24557bfabca4b37e5c90c",
      "8a9dc8174e6b4f0f8fdd6f0f203c6e43"
     ]
    },
    "id": "xrobHqCsXzGl",
    "outputId": "01193839-c21f-4779-a545-b3048a75feb4"
   },
   "outputs": [
    {
     "data": {
      "application/vnd.jupyter.widget-view+json": {
       "model_id": "95d83e8cb63b4e60a5842bce6702cd9a",
       "version_major": 2,
       "version_minor": 0
      },
      "text/plain": [
       "  0%|          | 0/25002 [00:00<?, ?it/s]"
      ]
     },
     "metadata": {},
     "output_type": "display_data"
    },
    {
     "name": "stderr",
     "output_type": "stream",
     "text": [
      "/usr/local/lib/python3.7/dist-packages/ipykernel_launcher.py:3: RuntimeWarning: invalid value encountered in true_divide\n",
      "  This is separate from the ipykernel package so we can avoid doing imports until\n"
     ]
    },
    {
     "data": {
      "text/plain": [
       "[['Mononoke', 'Eggar', 'Hum', 'loaded', 'signals'],\n",
       " ['hinted', 'conveying', 'creations', 'customers', 'defining'],\n",
       " ['spins', 'edgy', 'Capshaw', 'although', 'pictures'],\n",
       " ['Randolph', 'ignores', 'brightness', 'Pikachu', 'pepper'],\n",
       " ['collaborator', 'Shredder', 'detectives', 'Ali', 'toss'],\n",
       " ['depiction', 'reconstruction', 'CHILDREN', 'driving', 'Band'],\n",
       " ['Warners', 'Bueller', 'Cliffhanger', 'maestro', 'Bibbidi'],\n",
       " ['catatonic', 'physically', 'Werewolf', 'adoring', 'demanding'],\n",
       " ['contend', 'Full', 'convinced', 'strands', 'posts'],\n",
       " ['horseback', 'collapses', '/>Tim', 'files', 'devastating'],\n",
       " ['holier', 'global', 'seduction', 'capped', 'Epps'],\n",
       " ['Bullet', 'convention', 'downs', '/>it', 'trusted'],\n",
       " ['china', 'intellect', 'critics', 'Kristine', 'recently'],\n",
       " ['Schrader', 'badly', 'Minister', 'inevitable', 'chicken'],\n",
       " ['Clue', 'Moreau', 'Mantegna', 'Sachar', 'simpleton'],\n",
       " ['Die', 'persons', 'realistic', 'ambiguous', 'Pony'],\n",
       " ['Chess', 'rant', 'abhorrent', '@', 'entering'],\n",
       " ['rags', 'littered', 'Herbert', 'Wilfred', '/>No'],\n",
       " ['Bardot', 'inspired', '8', 'Agent', 'fiancée'],\n",
       " ['every', 'substantive', 'Modine', 'Haiku', 'freakish'],\n",
       " ['parading', 'Abbott', 'pup', 'Ron', 'hid'],\n",
       " ['Guetary', 'type', 'prestige', 'settled', 'Lahr'],\n",
       " ['stimulate', 'Chapter', 'endured', 'family.<br', 'J.'],\n",
       " ['churned', 'Crispin', 'hospitals', 'lords', 'invade'],\n",
       " ['esquire', 'navigate', '/>Frankly', 'static', 'amusement'],\n",
       " ['Carol', 'infected', 'possibilities', 'crosses', 'saddled'],\n",
       " ['toss', 'Words', 'capped', 'prepares', 'Sci'],\n",
       " ['glowing', 'bye', 'relying', 'grader', 'qualities'],\n",
       " ['Dawkins', 'Grand', 'scarier', 'Crocodile', 'Dance'],\n",
       " ['WOULD', 'Cheers', 'squeaky', 'miniature', 'butts'],\n",
       " ['safer', 'junkies', 'deranged', 'Fiennes', 'stunt'],\n",
       " ['Scrat', 'intrigues', 'winter', 'presume', 'Cathy'],\n",
       " ['launched', 'Murders', 'Friends', '1930s', 'come.<br'],\n",
       " ['pulling', 'unmarried', 'tiger', 'desolate', 'rental'],\n",
       " ['theology', 'Crashers', 'delivered', 'Moral', 'amusingly'],\n",
       " ['Vanishes', 'peer', 'instrument', 'finer', 'striking'],\n",
       " ['luminous', 'Wonderfully', 'sworn', 'recognition', 'Cesar'],\n",
       " ['newer', 'minutes', 'maniacal', 'sic', 'operatic'],\n",
       " ['treats', 'moviegoers', 'swordplay', 'framing', 'Live'],\n",
       " ['suppose', 'Vanity', 'deeply', 'unhealthy', 'nazi'],\n",
       " ['pronounce', 'Valentine', 'LOOK', 'Corpse', 'marriages'],\n",
       " ['Redford', 'wired', 'investigations', 'Gojoe', 'Corn'],\n",
       " ['reproduce', 'admired', 'fantasies', 'rhyme', 'shoestring'],\n",
       " ['aforementioned', 'MacMahon', 'textile', 'sacrificed', 'embodied'],\n",
       " ['mundane', 'pleasures', 'wraps', 'Castro', 'chuckle'],\n",
       " ['provincial', 'Sajani', 'Crouse', 'Netherlands', 'Corn'],\n",
       " ['conventional', 'Tinker', 'clock', 'Bodies', 'difficulties'],\n",
       " ['Spiderman', 'Avalon', 'disappointment', 'outfit', 'Hark'],\n",
       " ['contrary', 'Swing', 'splashy', 'baffled', 'narrating'],\n",
       " ['wrong', 'scandal', 'Whew', 'taps', \"'ll\"],\n",
       " ['motionless', 'CSI', 'willed', 'topping', 'products'],\n",
       " ['tenants', 'harmonious', 'incompatible', 'photogenic', 'murder'],\n",
       " ['Hudson', 'Cousin', 'swimming', 'messy', 'Boyd'],\n",
       " ['genres', 'Lucien', 'loop', 'exactly', 'appear'],\n",
       " ['capability', 'ancestry', 'panties', 'ovation', 'Ramgopal'],\n",
       " ['distressed', 'Cockney', 'replay', 'poo', 'fronts'],\n",
       " ['Sun', 'gratification', 'done', 'epidemic', 'subscribe'],\n",
       " ['bathe', 'purity', 'dozen', 'Til', 'films'],\n",
       " ['20,000', 'relied', 'dudes', 'yanked', 'shouts'],\n",
       " ['Stolz', 'sandwiches', 'support', 'facial', 'riot'],\n",
       " ['Gage', 'towers', 'Thanksgiving', 'Mail', 'starting'],\n",
       " ['genuinely', 'garb', 'reminding', 'Tarkovsky', 'District'],\n",
       " ['satiric', '20,000', 'Psycho', 'include', 'motivated'],\n",
       " [\"I'll\", 'deceit', 'obtain', 'invariably', 'ensues'],\n",
       " ['apartment.<br', 'beats', 'brink', 'lite', 'ditzy'],\n",
       " ['/>Firstly', 'agendas', 'packed', 'Features', 'MISS'],\n",
       " ['badge', 'Sanchez', 'recommendation', 'recounting', 'Minor'],\n",
       " ['capacity', 'shining', 'Blades', 'remembered', 'HEAVEN'],\n",
       " ['jurisdiction', '/>Movie', 'Brigham', 'heighten', 'sequences.<br'],\n",
       " ['complain', 'exhibiting', 'Staden', 'Fish', 'Hunter'],\n",
       " ['Sci', 'Griffiths', 'Millie', 'throes', 'bullets'],\n",
       " ['remains', 'atrocities', 'matters', 'creeps', 'framed'],\n",
       " ['bounce', 'connects', 'rapper', 'masters', 'wagon'],\n",
       " ['tents', 'alienate', 'innuendos', 'EOD', 'Hopalong'],\n",
       " ['Desplechin', 'VCR', 'Cameron', 'Claudia', 'Greetings'],\n",
       " ['gem.<br', 'exploding', 'internet', 'areas.<br', 'outdoor'],\n",
       " ['Corny', 'Thinner', 'Dust', 'river', 'rugged'],\n",
       " ['screenplay.<br', 'Desdemona', 'Cannon', 'custom', 'helicopters'],\n",
       " ['Drunken', 'Islands', 'runs', 'Polly', 'projecting'],\n",
       " ['Hop', 'unimaginable', 'shortage', 'emerged', 'romp'],\n",
       " ['vain', 'm', 'disturbingly', 'appealing', 'Sandy'],\n",
       " ['degraded', 'cheerful', 'unfilmable', 'Poiré', 'Lights'],\n",
       " ['killing', 'overuse', 'Diablo', 'Trenholm', 'hid'],\n",
       " ['Dixon', 'epidemic', 'comprises', 'Kasdan', 'Conrad'],\n",
       " ['newbie', 'bid', 'justifies', 'V', 'pleasant'],\n",
       " ['Atlantis', 'FULL', 'Voyage', 'relentlessly', 'silly.<br'],\n",
       " ['businesses', \"you're\", 'Ming', 'out.<br', 'Rao'],\n",
       " ['Kris', 'impossible', 'adopted', 'lift', 'Li'],\n",
       " [\"O'Hearn\", 'coherent', 'detailing', 'Roberto', 'airport'],\n",
       " ['embittered', 'trauma', 'brushes', 'hello', 'Bradshaw'],\n",
       " ['Meyers', 'offering', 'promos', 'performed', 'salt'],\n",
       " ['consumer', 'also.<br', 'selected', 'Gandhi', 'descendant'],\n",
       " ['defined', 'mercenary', 'thinner', '1/2', 'breed'],\n",
       " ['erotica', 'censorship', 'Nightmares', 'confronting', 'Monogram'],\n",
       " ['puts', 'Rosanna', 'pigs', 'P.', 'abyss'],\n",
       " ['visible', 'Color', 'Clausen', 'Gainax', 'Sadler'],\n",
       " ['gets', 'obliged', 'Austrian', 'groom', 'Alert'],\n",
       " ['vapid', 'zombies', 'NOTHING', 'unless', 'hotel'],\n",
       " ['Suicide', 'steals', 'recovered', 'entertainers', 'foolish'],\n",
       " ['dotted', 'manipulate', 'WITHOUT', 'gets', 'customers'],\n",
       " ['Hyde', 'elevate', 'introduced', 'SNL', 'Damian'],\n",
       " ['meet', 'bathtub', 'servants', 'father.<br', 'faithfully'],\n",
       " ['infected', '10-year', 'backstage', 'Raising', 'condition'],\n",
       " ['fantastic', 'Gertrude', 'yeon', 'Juarez', '/>For'],\n",
       " ['/>That', 'Noise', 'sorry', 'ache', 'indescribably'],\n",
       " ['translate', 'climbed', 'finale.<br', 'Caroline', 'Howard'],\n",
       " ['Lauren', 'brained', 'Look', 'fry', 'Sharpe'],\n",
       " ['records', 'joke', 'Pfeiffer', 'interracial', 'bogus'],\n",
       " ['available', 'Sanders', 'reflecting', 'kiddie', 'OUR'],\n",
       " ['nephews', 'undeserved', 'animation', 'Extremely', 'buses'],\n",
       " ['snow', 'Gate', 'Lucifer', 'judges', 'garage'],\n",
       " ['outfits', 'ignorance', 'Tilda', 'polish', 'among'],\n",
       " ['Archer', 'descent', 'fathers', 'muscles', 'Sharks'],\n",
       " ['Donlan', 'Thunderbird', 'graduation', 'boo', 'awakened'],\n",
       " ['disguises', 'changed.<br', 'regardless', 'Foster', 'striving'],\n",
       " ['Neff', 'inter', 'Lenz', '3/10', 'Chandu'],\n",
       " ['heartstrings', 'Swayze', 'begs', 'parade', 'POW'],\n",
       " ['rescued', 'Junior', 'Dial', 'ROSE', 'Minister'],\n",
       " ['claims', 'Orwellian', 'innocently', 'Frazier', 'panties'],\n",
       " ['likeness', 'german', 'downloaded', 'puppets', 'despair'],\n",
       " ['Strangers', 'Maltese', 'Northern', 'jilted', 'defunct'],\n",
       " ['Kher', 'Gras', 'removes', 'confection', 'minute'],\n",
       " ['end.<br', 'faint', 'Something', 'contrasted', 'blast'],\n",
       " ['planted', 'tears.<br', 'do', 'European', 'synthetic'],\n",
       " ['predecessor', 'patronizing', 'harmed', 'sermon', 'Twist'],\n",
       " ['Scrooge', 'emotionless', 'strangeness', 'lost.<br', 'Budapest'],\n",
       " ['Toni', 'competitors', 'Eyes', '/>Does', 'dismay'],\n",
       " ['undertones', 'workout', 'creepiest', 'baptism', 'depended'],\n",
       " ['works.<br', 'patriotism', 'Airport', 'arrival', 'applaud'],\n",
       " ['whirlwind', 'bashing', 'Telly', 'SUV', 'greatly'],\n",
       " ['Security', 'gruesomely', 'West', 'Dollar', 'status.<br'],\n",
       " ['LOTR', 'reactions', 'decline', 'vulnerable', 'someones'],\n",
       " ['luring', 'Slavoj', 'Waterfront', 'tender', 'Linklater'],\n",
       " ['attends', 'whistling', 'Ahab', 'Making', 'wedding'],\n",
       " ['lesbianism', 'grandeur', 'pepper', 'Patterson', 'Dietrich'],\n",
       " ['Remember', 'Taft', 'scoop', 'analyzed', 'Diego'],\n",
       " ['Shakespearian', 'obstacle', 'Row', 'Adolph', 'fathom'],\n",
       " ['dismayed', 'Borg', 'overhead', 'Ridge', 'Allan'],\n",
       " ['Dynasty', 'unexplored', 'angles', 'dragon', 'Sydney'],\n",
       " ['Malden', 'whenever', 'takes', 'developments', 'Kattan'],\n",
       " ['specialized', 'past.<br', 'Pantheon', 'Nightmare', 'Shaggy'],\n",
       " ['Shoveller', 'westerns', 'redeems', 'text', '§'],\n",
       " ['Rookie', 'Success', 'forsaken', 'bridges', 'rabbits'],\n",
       " ['relationship.<br', 'engineered', 'BEWARE', 'à', 'consumption'],\n",
       " ['horrifically', 'REAL', 'gold', 'Lerner', 'hers'],\n",
       " ['improvement', 'great.<br', 'relax', 'renditions', 'Tia'],\n",
       " ['rests', 'silent', 'Tennessee', 'Sabu', 'around.<br'],\n",
       " ['captured', 'fulfil', 'talky', 'amateurishly', 'name.<br'],\n",
       " ['crawling', 'consecutive', 'motions', 'Gummer', 'uninspired'],\n",
       " ['contradicts', 'Live', 'Stockler', 'Cobb', 'saucer'],\n",
       " ['Benito', 'expertise', 'itself.<br', 'Candace', 'default'],\n",
       " ['Rose', 'Cate', 'prisoner', 'Underneath', '2004'],\n",
       " ['NWA', 'humdrum', 'sucker', 'simply', 'reflections'],\n",
       " ['bogged', 'Twice', 'Cover', 'killers', '/>Lots'],\n",
       " ['convent', 'sympathize', 'Tibetan', '/>After', 'regal'],\n",
       " ['mainly', '39', '2009', 'reasonably', 'marked'],\n",
       " ['request', 'witnessed', 'inferiority', 'classes', 'prevented'],\n",
       " ['whichever', 'points', 'campiness', 'Losey', 'outrageous'],\n",
       " ['Attila', 'screening', 'Monty', 'Stanford', 'Tears'],\n",
       " ['frightening', '-a', 'Mike', 'volumes', 'Cylon'],\n",
       " ['Following', 'ugh', 'McBeal', 'fearful', 'Kornbluth'],\n",
       " ['Wonderfully', 'Parminder', 'Carlin', 'robust', 'Clinton'],\n",
       " ['fide', 'seated', '/>Kenneth', 'Ivy', 'backed'],\n",
       " ['bashed', 'suicidal', 'Lo', 's**t', 'Tea'],\n",
       " ['detection', 'Pervert', 'popular', 'tragedies', 'Wendigo'],\n",
       " ['laced', 'Dorsey', 'Region', 'cluttered', 'concluding'],\n",
       " ['arty', 'DARK', 'history.<br', 'Harmon', 'Shield'],\n",
       " ['ALIEN', 'Jon', 'Revolt', 'sloth', 'revealing'],\n",
       " ['engaged', 'mystique', 'extraordinary', 'lamp', 'four'],\n",
       " ['realised', 'twisted', 'U.K.', 'initially', 'n'],\n",
       " ['video.<br', 'match', 'employ', 'rehearsing', 'networks'],\n",
       " ['swim', 'polluted', 'producing', 'abbey', 'been'],\n",
       " ['honesty', 'unjustly', 'extravagant', 'suspenseful', 'Antichrist'],\n",
       " ['Pernell', 'funk', 'joe', 'adapting', 'crammed'],\n",
       " ['Hood', '10', 'Clampett', 'hire', 'HOT'],\n",
       " ['dramas', 'Dress', 'skeptical', 'mores', 'de'],\n",
       " ['apologies', 'Executive', 'Karate', 'trusted', 'heavens'],\n",
       " ['Nastassja', 'paid', 'librarian', 'Pyewacket', 'flying'],\n",
       " ['jewels', 'Logan', 'outdoor', 'agents', 'Lover'],\n",
       " ['impaled', 'Underworld', 'YOU', 'firefighter', 'Tough'],\n",
       " ['Webb', 'reprise', '/>Good', 'incredible', 'above'],\n",
       " ['refreshingly', 'stormy', 'artistry', 'profane', 'theatrical'],\n",
       " ['Palm', \"/>I've\", 'interacting', 'minimum', 'Heights'],\n",
       " ['embodiment', 'cronies', 'grew', 'Crow', 'Sharks'],\n",
       " ['perspectives', 'ranging', 'Pyewacket', 'coma', 'edge.<br'],\n",
       " ['emoting', 'Bless', 'makes', 'Anouska', 'convert'],\n",
       " ['monk', 'Music', 'obsolete', 'Serious', 'Stairway'],\n",
       " ['Patricia', 'cum', 'large', 'Several', 'adults'],\n",
       " ['addresses', 'Harvard', 'ruining', 'ditched', 'newfound'],\n",
       " ['D&D', 'teller', 'stems', 'Notable', 'Card'],\n",
       " ['woodland', 'ceases', 'Co.', 'rung', 'Schildkraut'],\n",
       " ['looser', '/>Jean', 'bimbos', 'lowest', 'beads'],\n",
       " ['complaints', 'brakes', 'transmitted', 'phenomena', 'reservations'],\n",
       " ['impending', 'slumming', 'molested', 'Giovanna', 'Understandably'],\n",
       " ['Neff', 'Ralphie', 'Sutherland', 'Claudia', 'jock'],\n",
       " ['Pagan', 'hides', 'atrocity', 'wherever', 'Rhoda'],\n",
       " ['judge', 'conference', 'mini', 'audiences', 'Seduction'],\n",
       " ['DAY', 'Buffy', 'Mexican', 'melodramatic', 'Party'],\n",
       " ['finishing', 'pig', 'hoodlums', 'soliloquy', 'tacky'],\n",
       " ['Exploitation', \"they're\", 'Blackadder', 'Halfway', 'Rosalba'],\n",
       " ['Kidman', 'masked', 'knocking', 'Us', 'Spare'],\n",
       " ['Gonzalez', 'Tower', 'reserved', 'Oriental', 'crushed'],\n",
       " ['diminish', 'intellect', 'gangsters', 'kicked', 'join'],\n",
       " ['Ned', 'lapse', 'Swing', 'oscar', 'weirder'],\n",
       " ['Babies', 'snobbish', 'throat', 'R', 'Pony'],\n",
       " ['annual', 'uncut', 'conventions', 'stain', 'struggled'],\n",
       " ['Alienate', 'baroque', 'McCormick', 'wound', 'effected'],\n",
       " ['impersonator', 'silver', '/>7', 'Dogg', '2-dimensional'],\n",
       " ['swaying', 'bleached', 'signal', 'love.<br', 'Carrell'],\n",
       " ['flung', 'series', 'was', 'violence.<br', 'excrement'],\n",
       " ['Bressart', 'dictator', 'icy', 'committed', 'rationale'],\n",
       " ['hilt', 'remakes', 'climax', 'Harry', 'Todd'],\n",
       " ['escaping', 'emotionally', 'done', 'putrid', 'Dustin'],\n",
       " ['Winner', 'performance', 'Eat', 'nine.<br', 'thus'],\n",
       " ['detailing', 'employment', 'produced', 'pretense', 'date.<br'],\n",
       " ['opinions', 'inward', 'sensibilities', 'impaired', 'absurdly'],\n",
       " ['clues', 'kindergarten', 'harmed', 'recognise', 'exceptionally'],\n",
       " ['recognizing', 'Kabal', 'billed', 'Agatha', 'sequels'],\n",
       " ['facets', 'Vote', 'sturdy', 'sloppy', 'rubber'],\n",
       " ['Wayne', 'Scene', 'investigated', 'Oriental', 'ask'],\n",
       " ['copycat', 'Francisco', 'tease', 'Guy', 'ape'],\n",
       " ['poet', 'Phantasm', 'heritage', '64', 'fourth'],\n",
       " ['spends', 'opening', 'mentioning', 'ardent', 'girlfriend'],\n",
       " ['keen', 'every', 'Max', 'Rat', 'Palette'],\n",
       " ['unconsciously', 'Fetisov', 'Sibrel', 'it).<br', 'HILARIOUS'],\n",
       " ['mistake.<br', 'LOOK', 'participated', 'cents', 'erstwhile'],\n",
       " ['Rolling', 'millionaire', 'Frankie', 'resting', '3rd'],\n",
       " ['/>Young', 'acquired', 'cliff', 'Isle', 'girly'],\n",
       " ['tightened', 'tips', 'admirably', 'DEVIL', 'Porn'],\n",
       " ['probation', 'projector', 'Cinematographer', 'classify', 'deep'],\n",
       " ['translated', 'Caper', 'militant', 'Sho', 'Miss'],\n",
       " ['firmly', 'throwaway', 'person.<br', 'constraints', 'instability'],\n",
       " ['Eating', 'Ashura', 'Dreyfuss', '90-minute', 'Dear'],\n",
       " ['we', 'confinement', 'distressed', 'prosthetics', 'pigs'],\n",
       " ['River', 'Wild', 'finish.<br', 'drum', 'up.<br'],\n",
       " ['overwhelmingly', 'Don', 'prank', 'embarrassing', 'Mortensen'],\n",
       " ['Lilo', 'spell', '3', 'frame', 'populist'],\n",
       " ['invaluable', 'Recall', 'Floors', 'Iron', '/>Pros'],\n",
       " ['Commando', 'Azteca', 'cooler', 'stagnant', '1890'],\n",
       " ['versus', 'audiences', 'bob', 'Melvin', 'mixes'],\n",
       " ['-in', 'draw', 'BRAIN', 'whack', 'circle'],\n",
       " ['dazzling', 'welfare', 'Anton', 'mythical', '/>Looking'],\n",
       " ['Emile', 'Whoopi', 'Cannon', 'sometimes', 'sheriff'],\n",
       " ['sport', 'During', 'natured', 'dork', 'Anglo'],\n",
       " ['governments', 'Met', 'journalist', 'LaBeouf', 'pen'],\n",
       " ['prophet', 'lots', 'Gere', 'backstory', 'Scotland'],\n",
       " ['dangerous', 'DO', 'Joey', 'Yamada', 'trusting'],\n",
       " ['trumpet', 'assassinate', 'Red', 'dealers', 'Mean'],\n",
       " ['detrimental', 'Informer', 'Gorris', 'firearms', 'travesty'],\n",
       " ['aplomb', 'wise', 'adjective', 'revolving', 'signature'],\n",
       " ['Kennel', 'around', 'BJM', 'scored', 'It'],\n",
       " ['punish', 'rushing', 'Adelaide', 'King', 'Artistic'],\n",
       " ['decorated', 'prepares', 'agree', 'splits', 'Spot'],\n",
       " ['reporters', 'Hanks', '73', 'Skeet', 'Canutt'],\n",
       " ['Asia', 'lost', 'twenty', 'stare', 'Hell'],\n",
       " ['Clift', 'revenge', 'NZ', 'slightly', 'feat'],\n",
       " ['producers', 'animation', 'commenter', 'Yeti', 'blood.<br'],\n",
       " ['gladiator', 'he', 'dear', 'Elijah', 'exaggerations'],\n",
       " ['Lake', 'points', 'Presenting', 'presented', 'Arly'],\n",
       " ['McKee', 'Bank', 'tomboy', 'highlands', 'Broadcasting'],\n",
       " ['simplest', 'violin', 'Finest', 'Bloody', 'hulking'],\n",
       " ['jerks', 'things', 'demented', 'rationale', 'papers'],\n",
       " ['absorbing', 'Joseph', 'individuality', 'Yankees', 'du'],\n",
       " ['Sirens', 'uproariously', 'her', 'remorse', 'killer'],\n",
       " ['sane', 'O.C.', 'appalled', 'sorta', 'hog'],\n",
       " ['outright', 'Mouth', 'toxic', 'predictions', 'Cushing'],\n",
       " ['Dreamgirls', 'Stones', 'incompetence', 'Horatio', 'Rico'],\n",
       " ['pistol', 'Elephant', 'gadgets', 'Poehler', 'Itch'],\n",
       " ['Lawton', 'Desert', 'plotted', 'Mozart', 'directing'],\n",
       " ['eighth', 'Ebert', 'Along', 'Memphis', 'Could'],\n",
       " ['bunny', 'Celine', 'whole.<br', 'sniper', 'yelling'],\n",
       " ['shelter', 'nipples', 'rebellion', 'frat', 'quits'],\n",
       " ['Brimley', 'grasshoppers', 'humans', 'religion', 'Casino'],\n",
       " ['disability', 'Myles', 'captive', 'Hat', 'Schmid'],\n",
       " ['Miss', 'symptoms', 'deafness', 'Marina', 'an'],\n",
       " ['College', 'meaty', 'roles', 'injecting', 'Eskimo'],\n",
       " ['PBS', '/>Watch', 'social', 'remarks', 'dilemma'],\n",
       " ['advancement', 'Brotherhood', 'sports', 'Hilton', 'awesome'],\n",
       " ['funding', 'ONLY', 'Evolution', 'Edinburgh', 'kidding'],\n",
       " ['Rhodes', 'MTV', 'Duncan', 'whirlwind', 'takeover'],\n",
       " ['patiently', 'walked', 'Bug', 'Calhoun', 'fox'],\n",
       " ['affectionate', 'backside', 'ideologies', 'Over', 'really.<br'],\n",
       " ['boots', 'Gregory', 'supplies', 'Seeing', 'Wax'],\n",
       " ['behavior', 'offering', '/>Special', 'Boogie', '50s'],\n",
       " ['Version', 'Vince', 'styles', 'awaits', 'Ages'],\n",
       " ['inclusion', 'Josie', 'started', 'Yo', 'persuade'],\n",
       " ['Wendigo', 'evade', 'Lilith', '1986', 'sexual'],\n",
       " ['Meet', 'neither', 'pitched', 'BRECKINRIDGE', 'Perú'],\n",
       " ['LA', 'conventional', 'SEX', 'beaten', 'Aimee'],\n",
       " ['Car', 'pained', 'prisoners', 'aforementioned', 'Shogunate'],\n",
       " ['being.<br', 'Nah', 'LeTourneau', 'pleads', '/>Sean'],\n",
       " ['Crime', 'Man', 'obvious.<br', 'hokum', 'SAME'],\n",
       " ['mandatory', 'altering', 'Misses', 'spaces', 'regiment'],\n",
       " ['fans', 'unlikely', 'american', 'Nero', 'individuality'],\n",
       " ['D.W.', 'centering', 'wussy', 'brutal', 'icing'],\n",
       " ['forefront', 'Cassio', 'min', 'touring', 'invented'],\n",
       " ['Same', 'HELL', 'sentiments', 'transvestite', 'penniless'],\n",
       " ['illusion', 'whips', 'impenetrable', 'caressing', 'limit'],\n",
       " ['turns', 'Taker', 'Versus', 'leave', 'contradictions'],\n",
       " ['deeply', 'Callahan', 'Ramgopal', 'Conductor', 'feat'],\n",
       " ['Crimson', 'overpowering', 'Fields', 'unrelated', 'plethora'],\n",
       " ['fog', 'Maclean', 'legend', 'circulation', 'appreciative'],\n",
       " ['Sutton', 'merciless', 'GIRLS', 'gambler', 'Miracle'],\n",
       " ['15', 'Nanette', 'Beverly', 'spring', 'Munsters'],\n",
       " ['TARZAN', 'girlish', 'mention', 'Hispanic', 'Wee'],\n",
       " ['autopsy', 'treason', 'Brook', 'distortions', 'airport'],\n",
       " ['Peck', 'creativity', 'started', 'subjecting', 'TWICE'],\n",
       " [\"/>You'll\", 'revolted', 'Miguel', 'Bing', 'magic'],\n",
       " ['insanely', 'countless', 'Andie', 'Talk', 'logical'],\n",
       " ['preach', 'prayed', 'style', 'top.<br', 'Coolio'],\n",
       " ['nay', 'fanatical', 'inter', 'NBA', 'controversial'],\n",
       " ['overrated', 'STORY', 'Twain', 'legacy', 'Pretty'],\n",
       " ['willingness', 'mid', 'Colleen', 'together', 'tendencies'],\n",
       " ['Band', 'Mariel', 'Gone', 'meager', 'DVD.<br'],\n",
       " ['Royal', 'elitist', 'endearingly', 'grants', 'Maurice'],\n",
       " ['mid', 'Nic', 'invest', 'periods', 'Thus'],\n",
       " ['quoted', 'Tamblyn', 'Patient', 'Babylon', 'Adama'],\n",
       " ['weigh', 'BEN', 'compounded', 'Chi', 'verve'],\n",
       " ['Poirot', 'heals', 'questioning', 'refreshing', 'shortened'],\n",
       " ['Cosimo', 'Ira', 'Britney', 'Olympic', 'novelist'],\n",
       " ['subsequent', 'graphic', 'stroke', 'know', 'bores'],\n",
       " ['COSTS', 'noir', 'commenters', 'unwanted', 'janitor'],\n",
       " ['Alda', 'body', 'Trilogy', 'presidential', 'gunpoint'],\n",
       " ['Abbey', 'desired', 'Anton', 'scene', 'adore'],\n",
       " ['weepy', 'havoc', 'actors', 'remarkably', 'rusty'],\n",
       " ['Sheen', 'Mona', 'Thai', 'stance', 'Eartha'],\n",
       " ['thanks', 'interviewer', 'Cagney', 'CNN', 'Ennio'],\n",
       " ['hatchet', 'Stephen', 'Candyman', 'pleasurable', 'Silverstein'],\n",
       " ['Stitzer', 'restored', 'Harmon', 'Dragnet', 'blasphemy'],\n",
       " ['weekends', 'bite', 'intricacies', 'paranoid', 'mountains'],\n",
       " ['Ranger', 'snakes', 'unconnected', 'Gallery', 'types'],\n",
       " ['brutish', 'Sitting', 'awed', 'auction', 'weighed'],\n",
       " ['Merle', 'gargantuan', 'pageant', 'Leslie', 'General'],\n",
       " ['Lange', 'suitably', 'Fourth', 'stop', 'holes'],\n",
       " ['mediocre', 'broadcaster', 'results.<br', 'Colombo', 'fable'],\n",
       " ['slapping', 'COULARDEAU', 'inadequate', 'Winters', 'throbbing'],\n",
       " ['end.<br', 'within', 'racy', 'noisy', 'Duel'],\n",
       " ['hairstyle', 'time!<br', 'quirks', 'unhinged', 'Unhinged'],\n",
       " ['ape', 'heights', 'serious', 'didactic', 'heck'],\n",
       " ['Quentin', 'comedian', 'Idle', 'sniper', 'atheist'],\n",
       " ['columnist', 'areas', 'heritage', 'familiarity', 'Shoveller'],\n",
       " ['Grand', 'Duggan', 'presumably', 'procedures', 'Elephant'],\n",
       " ['striving', 'insider', 'Bogie', 'smiling', 'patiently'],\n",
       " ['pits', 'assemble', 'Loach', 'Hampton', 'lighter'],\n",
       " ['October', 'steps', 'Four', 'design', 'watery'],\n",
       " ['Cubitt', 'rodeo', 'instinct', 'services', 'church'],\n",
       " ['Werewolves', 'great.<br', 'Bombay', 'Fischer', '2009'],\n",
       " ['cut', 'blinding', 'Crispin', 'juxtaposed', 'realm'],\n",
       " ['pass', 'reviewer', 'whole.<br', 'bush', 'LOL'],\n",
       " ['hormones', 'scenery', '/>a', 'flights', 'confrontation'],\n",
       " ['80', 'habit', 'systematic', 'superstitious', 'hazy'],\n",
       " ['beginning', 'stakes', 'jungle', 'seek', 'cliched'],\n",
       " ['/>James', 'Us', 'goodness', 'say', 'rhymes'],\n",
       " ['140', 'sponge', 'staged', 'fluff', 'banker'],\n",
       " ['presents', 'allies', 'works', 'Girardot', 'joyless'],\n",
       " ['blithely', 'Fight', 'unemployment', 'sized', 'Cold'],\n",
       " ['reckless', 'seduce', 'revolting', 'overwhelmingly', 'sabretooth'],\n",
       " ['overcomes', 'Herge', 'Kriemhild', 'vast', 'presidential'],\n",
       " ['abandon', 'demeaning', 'evening', 'Strings', 'meddling'],\n",
       " ['manners', '’s', 'sheltered', 'scariest', 'revolved'],\n",
       " ['spotty', 'awry', 'Hicks', 'kilter', 'Fools'],\n",
       " ['Famous', 'MacDowell', 'Trojan', 'Prix', 'Britain'],\n",
       " ['paved', 'Peaks', 'mob', 'Schwartzman', 'beds'],\n",
       " ['/>Music', 'shooters', 'cancer', 'rightful', 'Hospital'],\n",
       " ['fave', 'hood', '/>Visually', 'Khanna', 'Santo'],\n",
       " ['Hines', 'system', 'aloof', 'Trade', 'Original'],\n",
       " ['invested', 'U.S.A.', 'rudimentary', 'unconventional', 'Germany'],\n",
       " ['Tommy', 'psychopaths', 'Rafiki', 'encompasses', 'Cole'],\n",
       " ['carrier', 'dozens', 'bombers', 'cancelled', 'Mankind'],\n",
       " ['limp', 'carried', 'IMAX', 'ins', 'banjo'],\n",
       " ['stable', '/>Equally', 'Yo', 'brand', 'politely'],\n",
       " ['encourage', 'Bachan', 'Ahmad', 'contemporary', 'Jenna'],\n",
       " ['Awakening', 'yacht', 'Jenny', 'breaker', 'malicious'],\n",
       " ['Valley', 'Alastair', 'addled', 'inflicted', 'laying'],\n",
       " ['Beatles', 'Ettore', 'Mellisa', 'Swanson', 'adapts'],\n",
       " ['RVD', 'Portugal', 'vulnerability', 'rhyme', 'teddy'],\n",
       " ['Francine', 'versions', 'modelling', 'Le', 'disturbed'],\n",
       " ['moviegoers', 'orange', 'gorgeous', 'raves', 'Creatures'],\n",
       " ['Tide', 'unnecessary', 'equality', 'elephants', 'child'],\n",
       " ['agrees', 'fraction', 'sinking', 'Buffalo', 'Corky'],\n",
       " ['ridiculous', 'screw', 'god', 'engineering', 'Kusturica'],\n",
       " ['faded', 'Barricade', 'connect', 'grant', 'Gleeson'],\n",
       " ['2D', 'assume', 'implication', 'Heights', 'sadist'],\n",
       " ['personnel', 'Lets', 'Spanky', 'Jazz', 'influenced'],\n",
       " ['Jordan', 'counting', 'mighty', 'soon.<br', 'accidentally'],\n",
       " ['emotion.<br', 'Berman', 'genetic', 'Tsui', 'handing'],\n",
       " ['fill', 'disc', 'dimension', 'four', 'Cruel'],\n",
       " ['Madness', '...........', 'next.<br', 'insect', 'Alaska'],\n",
       " ['conventions', 'droning', 'predators', 'theories', 'humanity'],\n",
       " ['slap', 'Charlie', 'potential.<br', 'Mol', 'Muriel'],\n",
       " ['build', 'her', 'average.<br', 'laugh.<br', 'monster'],\n",
       " ['brisk', 'stairs', 'secondly', 'environment', 'Trejo'],\n",
       " ['Weird', 'saloon', 'evaluation', 'List', 'spewing'],\n",
       " ['Football', 'anytime', 'troubled', 'boggling', 'Randy'],\n",
       " ['Oshin', 'Singing', 'Home', 'esquire', 'conscious'],\n",
       " ['Colin', '/>Everything', 'Allen', \"I've\", 'zip'],\n",
       " ['inventing', 'charges', 'unsuspecting', 'protective', 'pastor'],\n",
       " ['bizarre', 'homicide', 'cinematography', 'Canutt', 'HOT'],\n",
       " ['Player', 'B-', 'Brook', 'notoriety', 'wakes'],\n",
       " ['adore', 'that´s', 'philosophy', 'comprehensible', 'laced'],\n",
       " ['Brain', 'manhood', 'Stubby', 'crescendo', 'Town'],\n",
       " ['Mouth', 'unbelievable', 'humanistic', 'afternoons', '3/10'],\n",
       " ['conservative', 'week', 'Marjorie', 'vile', 'violating'],\n",
       " ['horribly', 'hunters', 'chair', 'uplift', 'account'],\n",
       " ['Kidd', 'Winkler', 'Pay', 'ZP', 'whiz'],\n",
       " ['metropolis', 'pathetically', 'Dahl', \"T'Aime\", '1943'],\n",
       " ['MacGregor', 'quieter', 'boom', 'impeccably', 'Moorehead'],\n",
       " ['bored', 'Appolonia', 'Bradshaw', 'rapist', 'BB'],\n",
       " ['Vittorio', 'blamed', 'Altogether', 'inflation', 'Montand'],\n",
       " ['Texas', 'guided', 'DS9', 'cocktail', 'R.G.'],\n",
       " ['Canadians', 'rightfully', '\\x85 ', '/>Throw', 'accepted'],\n",
       " ['Kargil', 'redeeming', 'visual', 'junk', 'worst'],\n",
       " ['Amos', 'Matuschek', 'Singleton', 'vs.', \"'<br\"],\n",
       " ['Chief', 'observation', 'CHILDREN', 'rests', 'affection'],\n",
       " ['lifeless', 'forgettable', 'economics', 'Damned', 'atrocity'],\n",
       " ['attacking', 'why.<br', 'Beales', 'abortion', 'another'],\n",
       " ['Rigg', 'underrated', 'Popeye', 'locations', '/>Finally'],\n",
       " ['clueless', 'Flavia', 'rubbed', 'mobster', 'toting'],\n",
       " ['mathematics', 'teen', 'voyeuristic', 'canon', 'YouTube'],\n",
       " ['humility', 'internet', 'result.<br', 'Hickok', 'Hamilton'],\n",
       " ['Sucks', 'name', '1996', 'fame', '/>Make'],\n",
       " ['troubles', 'Flanders', '/>So', 'Till', 'craftsmanship'],\n",
       " ['Eggs', '/>Perhaps', 'butt', 'Madge', 'secrets'],\n",
       " ['thus', 'things', 'OK', 'Nemesis', 'Carrera'],\n",
       " ['malaise', 'aloof', 'coward', 'succeed', 'stores'],\n",
       " ['edgy', 'McCabe', 'Misses', 'catch', 'amusingly'],\n",
       " ['/>Sometimes', 'anxieties', 'Youssef', 'days.<br', 'Judson'],\n",
       " ['Iranian', 'comatose', 'Dianne', 'outshines', 'assistants'],\n",
       " ['exciting', 'caters', 'stem', 'Foot', 'gasoline'],\n",
       " ['Cue', 'MUCH', 'Delmar', 'demanding', 'ready'],\n",
       " ['weekend', 'Norma', 'manifestation', 'understand', 'Rosemary'],\n",
       " ['Ida', 'showcases', 'aplenty', 'powder', 'American'],\n",
       " ['Yamamoto', 'thunder', 'KING', 'perfect', 'salt'],\n",
       " ['annoying', 'Passworthy', 'backwater', 'outsiders', 'Us'],\n",
       " ['POSSIBLE', 'Jai', 'Holly', 'witnessing', 'concluded'],\n",
       " ['measured', 'flowed', 'matter.<br', 'banished', 'Boop'],\n",
       " ['Jon', 'veritable', 'tics', 'environment', 'ninja'],\n",
       " ['badness', 'Wisconsin', 'winners', 'kinda', 'full'],\n",
       " ['Rajpal', 'Welch', 'hero', 'landowner', 'Temple'],\n",
       " ['extras', 'Southern', '/>Next', 'tortuous', 'Money'],\n",
       " ['threw', 'Heero', '1953', 'thanked', 'VIDEO'],\n",
       " ['Jessica', 'smashes', 'Academy', 'Richard', 'accompanying'],\n",
       " ['Scientists', 'Angela', 'possessions', 'spellbinding', '/>Sean'],\n",
       " ['quarters', 'Lugosi', 'Gymkata', 'returns', 'Shakespeare'],\n",
       " ['Lucia', 'massive', 'bite', 'motivate', 'reality.<br'],\n",
       " ['mistreated', 'husband.<br', 'price', 'railroad', '1996'],\n",
       " ['Cruella', 'Arthur', 'sparring', 'unscathed', 'showdown'],\n",
       " ['stuck', 'indulged', 'Direction', 'intrigued', 'Rey'],\n",
       " ['invisibility', 'hmmm', 'Martino', 'Melbourne', 'extract'],\n",
       " ['toy', 'MAD', '/>as', 'Salva', 'Stanwyck'],\n",
       " ['Pie', 'splattered', 'bashing', 'feast', 'Giant'],\n",
       " ['Telling', 'lo', 'skills', 'Grail', 'randomly'],\n",
       " ['Haneke', 'error', 'harassment', 'resume', 'peek'],\n",
       " ['addicts', 'headlights', 'underdeveloped', 'lame', 'Geico'],\n",
       " ['Quigley', 'air.<br', 'foolish', 'trips', 'Grim'],\n",
       " ['citizens', 'provided', 'eulogy', \"they're\", 'clerk'],\n",
       " ['affords', 'Danielle', 'slave', 'Avi', 'LADY'],\n",
       " ['watered', 'fetishes', 'Penn', 'removed', 'shaped'],\n",
       " ['collar', 'dope', 'Hitchcock', 'announcement', 'out.<br'],\n",
       " ['consultant', 'Modern', 'recruits', 'Z', 'romances'],\n",
       " ['wastes', 'capabilities', 'Crime', 'kinda', 'staff'],\n",
       " ['Executive', 'Fallon', \"'bout\", 'Rest', 'everything.<br'],\n",
       " ['Ontario', 'mangled', 'Colleen', 'produce', 'affable'],\n",
       " ['charismatic', 'apathy', 'Bug', 'Goebbels', 'Demon'],\n",
       " ['Huh', 'Hayes', 'apart.<br', 'elevated', 'shattered'],\n",
       " ['mindedness', 'Darkman', 'Requiem', 'freedom', 'Hour'],\n",
       " ['/>In', \"DON'T\", 'Sandler', 'Apocalypse', 'wretched'],\n",
       " ['Ranma', 'innocuous', 'willing', 'dinosaurs', 'tests'],\n",
       " ['gotten', 'Renee', '/>Joseph', 'Friel', 'hack'],\n",
       " ['Eyed', 'stated', 'monotone', 'tenor', 'sauce'],\n",
       " ['Victoria', 'confirmed', 'Keystone', 'Houston', 'consumption'],\n",
       " ['Webb', 'rare', 'FROM', 'cloning', 'makes'],\n",
       " ['picking', 'unseen', 'worries', 'bell', 'arthouse'],\n",
       " ['fortunate', 'realise', 'thrillers', 'permeates', 'go.<br'],\n",
       " ['competent', 'veiled', 'SEA', 'Gollum', 'mutilation'],\n",
       " ['participate', 'acquire', '/>Enter', 'crocodile', 'hole'],\n",
       " ['drugged', 'burn', '/>Needless', 'KILLER', 'succumbs'],\n",
       " ['me.<br', 'Malden', 'Melody', 'paralyzed', 'turned'],\n",
       " ['Budget', 'guerrilla', 'way.<br', 'Ahmad', 'McBain'],\n",
       " ['Mexicans', 'Classic', 'Lee', 'capture', 'tar'],\n",
       " ['Jouvet', 'folklore', 'absurd', 'aircraft', 'Bonham'],\n",
       " ['skits', 'twelve', 'vistas', 'receptionist', 'Denmark'],\n",
       " ['sickeningly', 'strides', '-)<br', 'fiancé', 'lesson'],\n",
       " ['Spot', 'prison', 'Whitaker', 'resources', 'ceases'],\n",
       " ['seasoned', '5.8', 'U.K.', '/>Disney', 'spoilt'],\n",
       " ['representations', 'Fool', 'crowds', 'HARD', 'jazz'],\n",
       " ['Hazing', 'Burton', 'preachy', 'violent', 'control'],\n",
       " ['unbelievable.<br', 'phallic', 'Barrels', 'drumming', 'overview'],\n",
       " ['saddened', 'Sensibility', 'hungry', 'crime', 'ounce'],\n",
       " ['smiling', 'STRANGE', 'hairstyle', 'Liar', 'special'],\n",
       " ['approaches', 'annoyance', 'advertises', 'gross', 'Guys'],\n",
       " ['warn', 'Hera', 'devil', 'Noah', 'conquers'],\n",
       " ['Genie', 'Schygulla', 'Romany', 'Chico', 'Rescue'],\n",
       " ['Name', 'Cronenberg', 'Farrel', 'since.<br', 'lenses'],\n",
       " ['womanizer', 'fencing', 'Andre', 'price', 'Hesseman'],\n",
       " ['HK', 'different', '/>Awful', 'extremely', 'Odyssey'],\n",
       " ['rod', 'gone', 'Tokugawa', 'present', 'engulfed'],\n",
       " ['monologue', 'once', 'numerous', 'contacts', 'Boyle'],\n",
       " ['Luc', 'Renee', 'spell', 'They', 'messages'],\n",
       " ['Teen', 'compensates', 'ubiquitous', 'businesses', 'chanting'],\n",
       " ['mum', 'apocalypse', 'psychopathic', 'Englishman', 'Gershon'],\n",
       " ['puzzle', 'remembered', 'Lyman', 'Dietrich', 'sacrificed'],\n",
       " ['Brigham', 'chops', 'subplots', 'Jessie', 'genius'],\n",
       " ['duped', 'Greeks', '2/10', 'Wahlberg', 'completes'],\n",
       " ['see.<br', 'Buddies', 'penned', 'yuppie', 'ugh'],\n",
       " ['that´s', 'Bach', 'slaughtering', 'Palmer', 'Branagh'],\n",
       " ['MIDNIGHT', 'McCabe', 'Absurd', 'Homicide', 'love.<br'],\n",
       " ['Exploitation', 'hopping', 'correction', 'Bathsheba', 'Ultimately'],\n",
       " ['Hartnett', 'shrouded', 'Turkey', 'snippet', 'Blachere'],\n",
       " ['nosed', 'distracting', 'Hillary', 'deserved', 'Talented'],\n",
       " ['generals', 'Grandma', 'Reubens', 'Fonda', 'Woman'],\n",
       " ['guy', 'whisked', 'defies', 'turgid', 'menacing'],\n",
       " ['assertive', 'Knightly', 'Chip', 'Future', 'wander'],\n",
       " ['Honour', 'technicolor', 'hordes', 'cost', 'jungles'],\n",
       " ['8.5', 'fav', 'cent', 'everyone', 'nation'],\n",
       " ['crashing', 'loopy', 'hysteria', 'Gena', 'Evan'],\n",
       " ['Famous', 'waited', '/>Hollywood', 'MacGyver', 'Sleeping'],\n",
       " ['Marge', 'Across', 'KELLS', 'Deborah', 'beauty'],\n",
       " ['Malden', 'Up', 'Would', 'dip', 'choreography'],\n",
       " ['beastly', 'Led', 'Woods', 'albums', '40'],\n",
       " ['repercussions', 'Boxing', 'sheep', 'opinion', 'compilation'],\n",
       " ['Strip', 'gunpoint', 'R.G.', 'Rancid', 'Legion'],\n",
       " ['families', 'Detective', 'Prejudice', 'believed.<br', 'hailed'],\n",
       " ['looses', 'Untold', 'Trenholm', 'honored', 'Suffice'],\n",
       " ['disaster', 'two.<br', 'jumbled', 'Royce', 'Six'],\n",
       " ['seasoned', 'deviates', 'von', 'Munchie', 'intact'],\n",
       " ['Global', 'person.<br', 'concert', 'Parisian', 'Zero'],\n",
       " ['classed', 'principal', 'shuts', 'Fineman', 'Break'],\n",
       " ['nonexistent', 'value', 'gallery', 'enjoy.<br', 'Itchy'],\n",
       " ['item', 'artistically', 'aim', 'stupidity', 'consequently'],\n",
       " ['Rios', 'impressively', 'honest', '7', \"you'll\"],\n",
       " ['Welles', 'favorites', 'Fricker', 'justified', 'televised'],\n",
       " ['sweating', 'reprehensible', 'exploring', 'Bulldog', 'disturb'],\n",
       " ['n', 'Tailor', 'speeches', 'Cruz', 'reciting'],\n",
       " ['accessibility', 'denizens', 'rowdy', '/>B', 'maniac'],\n",
       " ['Hanna', 'Coronation', 'sickly', 'judged', 'comedy'],\n",
       " ['unoriginal', 'seasonal', 'luck', 'Reunion', 'boasting'],\n",
       " ['curve', 'burgeoning', '20,000', 'o.k', 'snarling'],\n",
       " ['mega', 'odd', 'ANOTHER', 'Hairspray', 'friend'],\n",
       " ['Laurel', 'Kazaam', 'operation', 'Cartwright', 'dope'],\n",
       " ['doom', 'Possible', 'alcoholic', 'abysmal', 'Madhuri'],\n",
       " ['Band', 'Berman', 'include', 'identifiable', 'Poe'],\n",
       " ['Floors', 'Duncan', 'Czech', 'Rockwell', 'Pasdar'],\n",
       " ['bench', 'features', 'Rudolf', 'Moonwalker', 'forgets'],\n",
       " [';)', 'dinosaurs', 'aura', 'brilliant.<br', 'recluse'],\n",
       " ['Run', 'promised', 'Oriental', '1971', 'uncharacteristic'],\n",
       " ['especially', 'Lise', 'sham', 'function', 'envy'],\n",
       " ['Robson', 'scorned', 'Beckham', 'Grayson', 'Birdie'],\n",
       " ['prevails', 'ventures', 'standpoint', 'Grab', 'ideally'],\n",
       " ['enlightened', '/>I', 'Where', 'occupants', 'Party'],\n",
       " ['SRK', 'Yanks', 'bangs', 'Scanners', 'door'],\n",
       " ['Judd', 'Sith', 'uninvolving', 'lapses', 'ruined'],\n",
       " ['glaringly', 'refrigerator', 'rotting', 'realistic.<br', 'Gorgeous'],\n",
       " ['coroner', 'Jonestown', 'tomatoes', 'gender', 'Dumbland'],\n",
       " ['nifty', 'recurring', 'touched', 'Royale', 'side'],\n",
       " ['teamwork', 'Stuff', 'Bravo', 'peak', 'storytelling'],\n",
       " ['Rosie', 'Weissmuller', 'alluded', 'stuck', 'Gestapo'],\n",
       " ['heaps', 'ecological', 'laying', 'Pestilence', 'contributors'],\n",
       " ['stewardess', 'bed', 'Barney', 'creative', 'treasures'],\n",
       " ['fantastic', 'wizard', 'riveting', 'temple', 'Gung'],\n",
       " ['clever', 'swallowed', 'savages', 'defying', 'Pianist'],\n",
       " ['Gigli', 'complements', 'brakes', 'Lets', 'Spanky'],\n",
       " ['Noodle', 'Side', 'Willem', 'Mutant', 'expected.<br'],\n",
       " ['Beaton', 'resolved', 'patterns', 'threesome', 'shorts'],\n",
       " ['Nobel', 'Ramones', '101', 'twentieth', 'unsuspecting'],\n",
       " ['email', 'fumbling', 'sunken', 'giddy', 'morons'],\n",
       " ['Global', 'Minister', 'THAN', 'that', 'employers'],\n",
       " ['advertises', 'GUN', 'Penelope', 'Cornell', 'Shock'],\n",
       " ['artifacts', 'Sweet', 'watchable.<br', 'craftsman', 'hotel'],\n",
       " ['crusty', 'interpret', 'Grade', 'Filled', 'Rio'],\n",
       " ['verbatim', '7th', 'Shadows', 'uncomfortable', 'Just'],\n",
       " ['Lucifer', 'clichéd', 'WAY', 'supposed', 'hauled'],\n",
       " ['Darius', 'rising', 'prefers', 'ho', 'Plummer'],\n",
       " ['protracted', 'represented', 'at.<br', 'Bound', 'locale'],\n",
       " ['slang', 'airwaves', 'license', 'options', 'Lanchester'],\n",
       " ['Spike', 'unwashed', 'commands', 'Urich', 'rot'],\n",
       " ['testosterone', 'Deadly', 'frighten', 'Gladys', 'locks'],\n",
       " ['20-year', 'didactic', 'Berlin', 'RED', 'reworking'],\n",
       " ['partially', 'Games', 'Zanuck', 'noticeable', 'Wonderland'],\n",
       " ['D.', 'WHY', 'coverage', 'creepiest', 'Paige'],\n",
       " ['barred', 'beams', 'Merle', 'blithely', 'necks'],\n",
       " ['42nd', 'By', 'Bernsen', 'expressionistic', 'wardrobe'],\n",
       " ['exclude', 'was.<br', 'Fangoria', 'penny', 'desperate'],\n",
       " ['Universe', 'Cybill', 'violence', 'claymation', 'launching'],\n",
       " ['shootouts', 'with', 'Method', 'queens', 'dearly'],\n",
       " ['surf', '11', 'Elektra', 'PRIVATE', 'Troll'],\n",
       " ['Delia', 'portrayals', 'Cool', 'Raw', 'screeches'],\n",
       " ['landscape', 'metal', 'gazing', 'kidnaps', 'Von'],\n",
       " ['entertains', 'fidelity', 'prophecy', 'desperate', 'Gabriele'],\n",
       " ['shares', 'Spy', 'screamed', 'el', 'Mary'],\n",
       " ['/>Imagine', 'designed', 'Wee', 'WOLF', '1967'],\n",
       " ['integrate', 'Burke', 'positives', 'genitals', 'chock'],\n",
       " ['effected', 'Daphne', 'allegorical', 'Apes', 'widowed'],\n",
       " ['Rice', 'Sinatra', 'select', 'unflinching', 'issue'],\n",
       " ['spinning', 'Ian', 'unattractive', 'drugged', 'terrorized'],\n",
       " ['trashing', 'Lembach', 'Arabic', 'genetic', 'Gromit'],\n",
       " ['Nerds', 'cliffs', 'bickering', 'stills', 'Noir'],\n",
       " ['corporations', 'licking', 'qualify', 'Cagney', 'woods'],\n",
       " ['indie', 'strangely', 'Luciano', 'Mysterious', 'Cuthbert'],\n",
       " ['overcame', 'catatonic', 'while.<br', 'mandatory', 'motorbike'],\n",
       " ['AN', 'noble', 'themselves.<br', 'Wood', 'Izo'],\n",
       " ['combination', 'Wake', 'Cape', 'marijuana', 'When'],\n",
       " ['cricket', 'Nazis', 'publishing', 'material', 'throbbing'],\n",
       " ['taken', 'Somerset', 'Taboo', 'sap', 'indifferent'],\n",
       " ['Thee', 'seconds.<br', 'Goldeneye', 'society', 'restoration'],\n",
       " ['distant', 'Durbin', 'Priyanka', 'Correct', 'foreigners'],\n",
       " ['transplanted', 'Nathan', 'Conchita', 'awe', 'beep'],\n",
       " ['Waqt', 'Catherine', 'Huston', 'myth', 'cling'],\n",
       " ['relations', 'Gladiator', 'Indians', 'Fran', 'utilized'],\n",
       " ['email', 'purchases', 'scenarios', 'Match', 'composers'],\n",
       " ['Ralphie', ').<br', 'Triton', 'abilities', 'decides'],\n",
       " ['remarkably', 'News', 'Kinnear', 'cell', 'frequent'],\n",
       " ['Admiral', 'Museum', 'Target', 'obstacle', 'aplomb'],\n",
       " ['Alas', 'fans', 'collector', 'winding', 'Earl'],\n",
       " ['confront', 'melancholy', 'Dragonfly', 'tortuous', 'Marvelous'],\n",
       " ['inhumane', 'horseback', 'pimp', 'Laughs', 'solutions'],\n",
       " ['stories', 'sloppy', 'Stirba', 'bawdy', 'screenplays'],\n",
       " ['psychotic', 'Electra', 'Sheryl', 'penned', 'straw'],\n",
       " ['absolutely', 'lunch', 'Days', 'Delia', 'Whereas'],\n",
       " ['excursion', 'describing', 'consider', 'Enter', 'profanity'],\n",
       " ['gangs', 'women.<br', 'mastered', 'Atlanta', 'Nikhil'],\n",
       " ['insert', 'cookbook', 'spirited', 'including', 'industry'],\n",
       " ['nine', 'lightly', 'corpse', 'Ratso', 'Pike'],\n",
       " ['locations', 'feelings', 'Dafoe', 'drunken', 'mechanism'],\n",
       " ['post', 'Klaus', 'preceded', 'supporter', \"c'mon\"],\n",
       " ['prosthetic', 'You', 'Would', 'fascism', 'outdoes'],\n",
       " ['banks', 'imitations', 'evolved', 'themselves', 'defects'],\n",
       " ['Ossessione', 'pig', 'imply', 'Ferguson', 'Zu'],\n",
       " ['beams', 'tubes', 'groundbreaking', 'spiced', 'static'],\n",
       " ['prevent', 'audience', 'radical', 'Fourth', 'justifying'],\n",
       " ['intellectual', 'Lang', 'irreverent', 'wisecracking', 'bangs'],\n",
       " ['SOLDIER', 'Pransky', 'Lovell', 'house.<br', 'oriented'],\n",
       " ['absurdist', 'loneliness', 'soldier', 'examination', 'fiddle'],\n",
       " ['floozy', 'sings', 'Tory', 'Mirror', 'especially'],\n",
       " ['perversely', 'Beverly', 'backdrop', 'Burroughs', 'stars'],\n",
       " ['Truth', 'craft', 'prediction', 'PPV', 'society.<br'],\n",
       " ['screwed', 'sons', 'Council', 'RUN', 'profound'],\n",
       " ['panic', 'Brit', 'tonight', 'Ronny', 'Tailor'],\n",
       " ['bye', 'capitalist', 'Mortensen', 'deprecating', 'vice'],\n",
       " ['lot.<br', 'Ernie', 'Schweiger', 'sculpture', 'uncanny'],\n",
       " ['cats', 'unnoticed', 'sword', 'chase', 'vibes'],\n",
       " ['sin', 'Prairie', 'Annoying', 'nobody', 'Caan'],\n",
       " ['testament', 'studying', 'nothingness', 'brainer', 'demonstrates'],\n",
       " ['terrible', 'prospect', 'Firth', 'affair', 'unbalanced'],\n",
       " ['yum', 'listing', '+', 'Iphigenia', 'differs'],\n",
       " ['negativity', 'trim', 'idea', 'Moving', 'Listen'],\n",
       " ['design', 'Visayan', 'themed', 'hungry', 'defenders'],\n",
       " ['brutal', 'Darlene', 'ostensibly', \"O'Hearn\", 'impartial'],\n",
       " ['dismay', 'plausible', 'creators', 'Clarence', 'Conceit'],\n",
       " ['sixties', 'sabretooth', 'Loosely', 'Waterston', 'goes'],\n",
       " ['rushed', 'seizure', 'purposes', 'chocolate', 'O'],\n",
       " ['radioactive', '/>Beautiful', 'universe', 'Gabbar', 'persona'],\n",
       " ['satisfy', 'exact', 'note', 'Another', 'Angels'],\n",
       " ['endlessly', 'thinner', 'consequently', 'Southern', 'Slow'],\n",
       " ['altruistic', 'Line', 'Bronte', 'Thurman', 'Nixon'],\n",
       " ['creeped', 'NIGHT', 'drive', 'mentioning', 'aired'],\n",
       " ['punished', 'Pakistan', 'formidable', 'outs', 'Cromwell'],\n",
       " ['Doc', 'Gospel', 'J.T.', '29', 'determined'],\n",
       " ['Milligan', 'filmed.<br', 'later', 'raves', 'diplomatic'],\n",
       " ['/>*1/2', 'lizard', 'heat', 'draws', '89'],\n",
       " ['Runs', '2009', 'animate', 'Mini', 'builds'],\n",
       " ['keeps', 'about', 'gay', 'tags', 'expects'],\n",
       " ['mixing', 'categorize', 'resurrect', 'perpetrators', 'avoided'],\n",
       " ['peek', 'ineptness', 'simultaneously', 'Release', 'evidenced'],\n",
       " ['movies.<br', 'treated', 'fried', 'Kattan', 'distant'],\n",
       " ['anguish', 'brilliant', 'chaos', 'ongoing', 'impresses'],\n",
       " ['animosity', 'juicy', 'Sheeta', 'Dragon', 'elderly'],\n",
       " ['resemblance', 'Rowan', 'interweaving', 'mischief', 'Makes'],\n",
       " ['CV', 'wishes', 'vast', 'parlor', 'amazed'],\n",
       " ['medicine', 'Apophis', 'downer', 'Keaton', 'input'],\n",
       " ['ONE', 'Government', 'Dax', 'steaming', 'Grave'],\n",
       " ['amusement', 'Karas', 'Luna', 'esquire', 'Mexico'],\n",
       " ['reprise', 'Hoyt', 'Father', 'baroque', 'smoked'],\n",
       " ['Samurai', 'serviceable', 'Bolivian', 'ending.<br', 'reds'],\n",
       " ['foster', 'heal', 'pigs', 'prisoner', 'Mysteries'],\n",
       " ['hotels', 'recycled', 'impersonators', '36th', 'duplicitous'],\n",
       " ['poor', 'Saif', 'hence', 'Rupert', 'Team'],\n",
       " ['taller', 'Wichita', 'settles', 'Higgins', 'lesbian'],\n",
       " ['Owen', 'brief', 'ninety', 'inhabits', 'calling'],\n",
       " ['Bach', 'nifty', 'edgy', 'dingo', 'insert'],\n",
       " ['Mariette', 'Choi', 'Graduate', 'you?<br', 'vessel'],\n",
       " ['Morrissey', 'anymore.<br', 'Well', 'Non', 'Perabo'],\n",
       " ['Lillian', 'Style', 'Haunting', 'protective', 'Fanfan'],\n",
       " ['contrast', 'Taft', 'mammoth', 'Say', 'available'],\n",
       " ['convictions', 'Chamberlains', 'analyzing', 'retains', 'sought'],\n",
       " ['jouissance', 'united', 'crystal', 'filled', '\\x91The'],\n",
       " ['hurricane', 'Goldsworthy', 'exterior', 'continued', 'rewarded'],\n",
       " ['Alvin', 'survive', 'increases', 'Drama', 'wife.<br'],\n",
       " ['inevitably', 'Wolverine', 'baddie', 'shoddy', 'cliché'],\n",
       " ['adapting', 'Skip', 'representations', 'Joe', 'Rome'],\n",
       " ['Furious', 'STORY', 'glowing', 'Ettore', 'zenith'],\n",
       " ['Missed', 'Eileen', 'Towelhead', 'bonds', 'Delpy'],\n",
       " ['Traci', 'updated', 'diplomatic', 'were', 'android'],\n",
       " ['Munsters', 'policeman', 'Chopra', 'bring', 'delayed'],\n",
       " ['supervisor', 'witnesses', 'whore', 'reacts', 'viewer'],\n",
       " ['berate', 'pausing', 'knockout', 'filmed', 'spends'],\n",
       " ['resulting', 'godfather', 'Superstar', 'Markham', 'Especially'],\n",
       " ['recording', 'Artists', 'unflattering', 'Goodnight', 'lumbering'],\n",
       " ['neglect', 'Sonia', 'Ferrell', 'sado', 'foxes'],\n",
       " ['contracted', 'Messiah', 'Eliza', 'gorgeous', 'personnel'],\n",
       " ['Grab', 'objectives', 'notions', 'slaves', 'mattered'],\n",
       " ['saving', 'swinging', '1982', 'streak', 'Savage'],\n",
       " ['Wichita', '/>Young', 'ought', 'Waldemar', 'recomend'],\n",
       " ['Peck', 'praises', 'faux', 'Rhonda', 'Barney'],\n",
       " ['village', 'Orleans', 'THINK', 'wary', 'Clue'],\n",
       " ['impending', 'heaped', 'blithely', 'praising', 'chaotic'],\n",
       " ['/>Here', 'coherence', '/>While', 'Lynchian', 'ethic'],\n",
       " ['hear', 'rhythm', 'Gertrude', 'prophetic', 'Boys'],\n",
       " ['possession', 'detailing', 'power', 'moreover', 'energetic'],\n",
       " ['race', 'deck', 'traumatized', 'ethical', 'dives'],\n",
       " ['Waves', 'Frankenheimer', 'gaudy', 'OMG', 'iota'],\n",
       " ['looking', 'civilized', 'variable', 'babies', 'frantic'],\n",
       " ['/>Looking', 'gung', 'Devils', 'Asian', '30-something'],\n",
       " ['Dick', 'Austen', 'Latinos', 'feast', 'Anakin'],\n",
       " ['health', 'Cook', 'Haden', 'Steer', 'wimp'],\n",
       " ['iota', 'sexes', 'typically', 'expectation', 'crackers'],\n",
       " ['dross', 'oldest', 'Stairway', 'Degrees', 'Yard'],\n",
       " ['NC-17', 'pleasant', 'BATMAN', 'speculate', 'ashes'],\n",
       " ['dip', 'Soup', 'compensate', 'Syberberg', 'harder'],\n",
       " ['Global', 'invested', 'Practically', 'Shape', 'celluloid'],\n",
       " ['special.<br', \"t'aime\", 'kept', 'american', 'recording'],\n",
       " ['Full', 'hanger', 'maggots', 'Hoon', 'injured'],\n",
       " ['Angelo', 'restoration', '/>10', 'auto', 'hobby'],\n",
       " ['Zone', 'psychologically', 'club', 'Bradshaw', 'burnt'],\n",
       " ['Newcombe', 'asked', 'Clown', 'challenge', 'lottery'],\n",
       " ['cosmic', 'simplest', 'cars', 'Throw', 'strait'],\n",
       " ['lied', 'dreck', 'jerk', 'Shahid', 'woodland'],\n",
       " ['warts', 'killings', 'Putting', 'emerging', 'continent'],\n",
       " ['dowdy', 'medium', 'melts', 'pockets', 'sleaze'],\n",
       " ['tap', 'subtle', 'confidant', 'Simon', 'addresses'],\n",
       " ['thwart', 'Neither', 'empathy', 'shambles', 'Already'],\n",
       " ['1800s', 'amazes', 'satisfactory', 'school.<br', 'disheveled'],\n",
       " ['richest', 'shaved', 'melancholic', 'Sheppard', 'journalists'],\n",
       " ['Blachere', 'worker', 'Skin', 'cautionary', 'forgettable'],\n",
       " ['Charleston', 'Alvin', 'thinks', '/>Frankly', 'shrouded'],\n",
       " ['Gentleman', 'Bannister', 'respect', 'Vertigo', 'missing'],\n",
       " ['had.<br', 'yields', 'Magnum', 'Majesty', 'Petersen'],\n",
       " ['scene.<br', 'MST3K.', 'seaman', 'has.<br', 'Mormons'],\n",
       " ['standpoint', 'affection', 'opposites', 'addictive', 'naivety'],\n",
       " ['Mantegna', 'guides', 'Yorkshire', 'genuinely', 'neatly'],\n",
       " ['romps', '/>Others', 'tends', 'Swing', 'genres'],\n",
       " ['Nietzsche', 'Knightly', 'explicitly', 'Documentary', 'physician'],\n",
       " ['organs', 'captures', 'fruition', 'worldly', 'synthesis'],\n",
       " ['reaction', 'descent', 'communication', 'pills', 'conceivable'],\n",
       " ['result', 'hood', 'speeds', 'Funny', 'Becker'],\n",
       " ['institution', 'inter', 'lame.<br', 'Yep', 'brother'],\n",
       " ['refused', 'Amazing', 'Typical', 'DEVIL', 'quasi'],\n",
       " ['cantankerous', 'Nonsense', 'kiss', 'derail', 'sit'],\n",
       " ['3d', 'illustrate', 'messenger', 'binge', 'degradation'],\n",
       " ['Weisz', 'complicate', 'kinda', 'wench', 'orchestrated'],\n",
       " ['brooding', 'Named', '/>Probably', 'disappearing', 'paragraph'],\n",
       " ['Murnau', 'augmented', 'riches', 'energy', 'trains'],\n",
       " ['Attraction', 'god', 'unnecessary', 'panned', 'Kargil'],\n",
       " ['heels', 'Des', 'harassment', 'Grimm', 'travelogue'],\n",
       " ['brings', '19', 'NOW', 'personified', 'imitation'],\n",
       " ['simpering', 'leftist', 'saying', 'Clive', 'Consequently'],\n",
       " ['parasites', 'papers', 'present', 'packed', 'Our'],\n",
       " ['strangest', 'em', '1935', 'observed', 'vamp'],\n",
       " ['triumphant', 'Lucille', 'Finest', 'Finch', 'capsule'],\n",
       " ['terrific', 'RETURN', 'poke', 'bare', 'festivals'],\n",
       " ['Speaking', 'Violence', 'bearer', 'Sullavan', 'Sleuth'],\n",
       " ['dime', 'restore', 'gargantuan', 'Je', 'way'],\n",
       " ['Purvis', 'swashbucklers', 'merciless', 'Arrondissement', 'sorts'],\n",
       " ['describes', 'broadcast', 'DEFINITELY', 'prevented', 'creatively'],\n",
       " ['concede', 'Wagnerian', 'afforded', 'Gig', 'capitalism'],\n",
       " ['giggle', 'Rocket', 'Carrera', 'playing', 'credits'],\n",
       " ['Gainax', 'Stick', 'balances', 'relying', 'Luck'],\n",
       " ['hilarity', 'Swiss', 'brightness', 'ACTING', 'LIFE'],\n",
       " ['peaceful', 'bawling', 'fx', 'trained', 'miscasting'],\n",
       " ['promote', 'highway', 'responsible', 'retribution', 'innuendos'],\n",
       " ['Della', 'Translation', 'DVD', 'Stalin', 'Vidya'],\n",
       " ['Tomorrow', 'BLOOD', 'will', 'reactions', 'Smita'],\n",
       " ['rhythm', 'prepared', 'snatch', 'dipping', 'Singin'],\n",
       " ['mid', 'willingness', 'Bozz', 'America', 'phenomenal'],\n",
       " ['presumably', 'second.<br', 'omitted', 'freshman', 'heavily'],\n",
       " ['Korda', 'Baghdad', 'felt', 'interactive', '/>Early'],\n",
       " ['Goldeneye', 'screened', 'Gunga', 'Schindler', 'Hoss'],\n",
       " ['Getting', 'Eskimo', 'earlier', '/>Fans', 'colours'],\n",
       " ['magical', 'hesitate', '/>With', 'Hadley', '/>Seriously'],\n",
       " ['Davy', 'Vs', 'cloning', 'Obi', 'pounds'],\n",
       " ['Nice', 'louder', 'mentality', 'THEN', 'portrait'],\n",
       " ['Meat', 'Opera', '/>THIS', 'Dr', 'Fantasy'],\n",
       " ['Palestinian', 'acceptable', 'Candice', 'Rod', 'repeats'],\n",
       " ['might', 'ourselves.<br', 'satanic', 'Marion', 'In'],\n",
       " ['T.', 'Sleuth', 'faints', 'examined', 'Sondheim'],\n",
       " ['closed', 'rubbing', 'from.<br', 'Hines', 'Canyon'],\n",
       " ['play.<br', 'Yvonne', 'calls', 'amazement', 'Kornman'],\n",
       " ['pleased', 'Bernhard', 'beastly', 'TNG', 'claims'],\n",
       " ['proprietor', 'superficiality', 'Kinda', 'permeates', 'instrument'],\n",
       " ['shootings', 'effectiveness', 'sumptuous', 'ranks', 'melts'],\n",
       " ['Namely', 'masochist', 'I`m', 'alienate', 'unravel'],\n",
       " ['ridden', 'expand', 'mediocre', 'turf', 'Harrold'],\n",
       " ['joys', 'south', 'family', 'PERFECT', 'unnerving'],\n",
       " ['chef', 'surpassing', 'Morning', 'Emperor', 'repeat'],\n",
       " ['Words', 'HOW', 'worms', 'confession', 'but'],\n",
       " ['making', 'diminished', 'how', 'tons', 'disregard'],\n",
       " ['skin', 'happen.<br', 'R2', 'saying', 'beer'],\n",
       " ['Morvern', 'churns', 'Lockhart', 'endure', 'alumni'],\n",
       " ['wife', 'intervention', 'conquered', 'Monica', 'plagues'],\n",
       " ['glue', 'Hera', 'both.<br', 'caricatures', 'Jnr'],\n",
       " ['TIMES', 'conversion', 'blessed', 'principally', 'Ford'],\n",
       " ['Hour', 'Hoover', 'unexpected', 'Amos', 'flavor'],\n",
       " ['dishonest', 'Ziering', 'Additionally', 'barren', 'breed'],\n",
       " ['NOTE', 'Rosarios', 'refers', 'felt', 'Jessica'],\n",
       " ['impeccably', 'credit', 'feminine', 'airs', 'awesome'],\n",
       " ['importantly', 'anecdotes', '/>my', 'starting', 'Wayans'],\n",
       " ['Kangwon', '49', 'janitor', 'anti', 'Reefer'],\n",
       " ['finish.<br', 'projected', 'woken', 'Forget', 'explained.<br'],\n",
       " ['Bloom', 'DePalma', 'declining', 'awaiting', 'anthology'],\n",
       " ['/>2/10', 'hobbits', \"'s\", 'Kiefer', 'mischievous'],\n",
       " ['muck', 'spoken', 'case.<br', 'out!<br', '1/5'],\n",
       " ['makes', 'users', 'mist', 'fodder', 'watches'],\n",
       " ['Germany', 'Rarely', 'seduces', 'brighter', 'merciless'],\n",
       " ['capture', 'open', 'certainly', 'defenseless', 'Mexicans'],\n",
       " ['closeness', 'options', 'nonetheless.<br', 'activism', 'astoundingly'],\n",
       " ['significantly', 'Montand', 'Greg', 'dressed', 'bunker'],\n",
       " ['avalanche', 'twin', 'handing', 'fences', 'flow'],\n",
       " ['Wizards', 'yell', 'saying', 'patently', 'maze'],\n",
       " ['song', 'indulged', 'FANTASTIC', 'freeze', 'innocence'],\n",
       " ['Tibetan', 'Williamson', 'Cowboy', 'monkeys', '1900s'],\n",
       " ['Hindu', 'filth', '1956', 'Pesci', '§'],\n",
       " ['Silk', 'win', 'creepily', 'Wagon', 'Briggs'],\n",
       " ['adult', 'ceremonies', 'math', '42nd', 'Mirren'],\n",
       " ['characterized', 'Littlefield', 'ourselves', 'Deluise', '/>Take'],\n",
       " ['Urmila', 'forever.<br', 'principals', 'smallest', 'meek'],\n",
       " ['fated', 'Noam', 'painted', 'difference', 'takes'],\n",
       " ['blasphemy', 'promptly', 'Rotten', 'cured', 'shifts'],\n",
       " ['stained', 'purple', 'apartment', 'broken', 'currently'],\n",
       " ['degree', 'Caton', 'evicted', '/>Well', 'ramp'],\n",
       " ['fates', 'Review', 'mismatched', 'populated', 'stick'],\n",
       " ['Television', 'vinyl', 'surroundings', 'unconsciously', '/>8/10'],\n",
       " ['Talk', 'dragging', \"'bout\", 'hunger', 'stability'],\n",
       " ['verite', 'leaps', 'embodiment', 'instance', 'Might'],\n",
       " ['neutral', 'Re', 'Connelly', 'THAN', 'warp'],\n",
       " ['CBC', 'judges', 'Tough', 'associate', 'Pang'],\n",
       " ['coolness', 'Bathsheba', 'spaceships', 'ante', 'erm'],\n",
       " ['Drive', 'buffoon', 'drying', 'Cold', 'Apprentice'],\n",
       " ['recap', 'Ninja', 'animes', 'repercussions', 'OZ'],\n",
       " ['buying', 'guess.<br', 'SS', 'junk', 'producer'],\n",
       " ['feudal', 'erm', 'theirs', 'stylistically', 'treat'],\n",
       " ['Cora', 'uninspiring', 'girls', 'Keaton', 'sympathy'],\n",
       " ['Mohr', 'Kabal', 'individual', 'Siege', 'special'],\n",
       " ['implies', 'leveled', 'cattle', 'marital', 'Vs'],\n",
       " ['voodoo', 'Caroline', 'TP', 'bully', 'eligible'],\n",
       " ['prequel', 'matinee', 'skin', 'go', 'kids'],\n",
       " ['hailed', 'thrilling', '37', 'Mind', 'Kurosawa'],\n",
       " ['Cardboard', 'newspaper', 'Palmer', 'asking', 'loaded'],\n",
       " ['jumped', 'Forman', 'Off', 'niece', 'happy'],\n",
       " ['pleased', 'recording', 'professionalism', 'conformity', 'Rumble'],\n",
       " ['mainstream', 'shady', 'Ronald', 'seas', 'Cruel'],\n",
       " ['produced', 'MUCH', '2D', 'Brook', 'Boyfriend'],\n",
       " ['LIVE', 'Melanie', 'Cheh', 'repercussions', 'Jeffery'],\n",
       " ['FACE', '/>Stephen', 'soundtrack', 'Chawla', 'whips'],\n",
       " ['darkly', 'Canada', 'revolve', 'adores', 'teammates'],\n",
       " ['singers', 'Valentino', '/>Its', 'ante', 'Hur'],\n",
       " ['Gabel', 'Weddings', 'Pidgeon', 'technique', 'coke'],\n",
       " ['Harvest', 'occasionally', 'strident', 'Pierce', 'path'],\n",
       " ['/>Neither', 'Legally', 'scripted', 'knee', 'factory'],\n",
       " ['veneer', 'overplayed', 'vulnerability', 'Largo', 'fronts'],\n",
       " ['Vil', 'mess', 'Bosnia', 'fascist', 'slow'],\n",
       " ['sigh', 'Cahn', 'Girl', 'odd', 'mocks'],\n",
       " ['Peralta', 'Boothe', 'relief', 'crammed', 'robotic'],\n",
       " ['dust', 'disorder', 'inappropriate', 'substantial', 'Harriet'],\n",
       " ['fleet', 'Demon', 'Un', 'WAS', 'employed'],\n",
       " ['riveting', 'today', 'great', 'pre', 'MR'],\n",
       " ['blunders', 'boards', 'amazingly', 'ally', 'bumped'],\n",
       " ['Morvern', 'idea', '/>Neither', 'off', 'Toward'],\n",
       " ['flourish', 'hose', 'space', 'blandness', 'feature'],\n",
       " ['Loosely', 'snuff', 'focusing', 'sabretooth', 'liberties'],\n",
       " ['stalk', 'Miraglia', 'gal', 'Saif', 'Loesser'],\n",
       " ['Numerous', 'option', 'imaginable', 'stinker', 'problems'],\n",
       " ['involvement', 'Riget', 'Lets', 'Tail', 'Yikes'],\n",
       " ['glass', 'Desert', 'Vittorio', 'masturbation', 'handicapped'],\n",
       " ['heels', 'awesomely', 'disastrously', 'politically', 'firemen'],\n",
       " ['time.<br', 'fide', 'Louisiana', 'sorrow', 'Shower'],\n",
       " ['parental', 'stomach', 'ZERO', 'treacherous', 'Varma'],\n",
       " ['polish', 'period', 'Antichrist', 'Idol', 'tabloids'],\n",
       " ['incoherent', 'Boyle', 'Aryan', 'rigged', '/>Check'],\n",
       " ['prevalent', 'gushing', 'Back', 'Fight', 'Moe'],\n",
       " ['Combine', 'areas', 'Werewolf', 'passage', 'Millie'],\n",
       " ['{', 'MJ', 'Officer', 'aquarium', 'Country'],\n",
       " ['doom', 'aghast', 'offset', 'Bolivia', 'tread'],\n",
       " ['Allied', 'dream.<br', 'implore', 'Bridges', 'mention'],\n",
       " ['quicker', 'Shadow', 'ignorance', 'Nigel', 'movies'],\n",
       " ['ACTING', 'Sabato', 'Lin', 'demand', 'wielding'],\n",
       " ['ugh', 'rotting', 'sizes', 'rockets', 'Roth'],\n",
       " ['fuss', 'happens.<br', 'Jeon', 'rejects', 'Journey'],\n",
       " ['Frits', 's**t', 'expected', 'Mohan', 'masses'],\n",
       " ['agreed', 'beauty', 'Burstyn', 'Vanity', 'stages'],\n",
       " ['kidnappers', 'slipping', 'handy', 'counterparts', 'Bach'],\n",
       " ['Evergreen', 'Karate', '/>After', 'occurrences', 'God.<br'],\n",
       " ['fault', 'lighten', 'befriended', 'expectations.<br', 'check'],\n",
       " ['cry', 'Steel', 'Stars', 'kiddies', 'Domergue'],\n",
       " ['tough', 'translated', 'whereby', 'inability', '.......'],\n",
       " ['competent', 'electricity', 'jumbo', 'script', 'drama.<br'],\n",
       " ['Madeline', 'MAJOR', 'albeit', 'Elmo', 'eat'],\n",
       " ['dual', 'torch', 'Richie', 'Carax', 'television'],\n",
       " ['tempted', 'Russians', 'editing.<br', 'USA', 'teaching'],\n",
       " ['wipes', 'speakeasy', 'tight', 'Oxford', 'immorality'],\n",
       " ['NOT', 'spinning', 'subjected', 'Weekend', 'grief'],\n",
       " ['realism.<br', 'Cry', 'Skip', 'rosy', 'Hombre'],\n",
       " ['taboo', 'dolly', 'suspiciously', 'Against', 'rectify'],\n",
       " ['entice', 'staggeringly', 'separate', 'Blades', 'biopic'],\n",
       " ['clipped', 'Holiday', 'exceedingly', 'exactly', 'cautionary'],\n",
       " ['blindly', 'context', 'surpassed', 'careers', '/>Personally'],\n",
       " ['Recall', 'believe', 'Dahl', 'Creed', 'revival'],\n",
       " ['fort', 'commonly', 'freak', 'Romantic', '8.5'],\n",
       " ['provoke', 'operas', 'Lili', 'Lamm', 'MIGHT'],\n",
       " ['establish', 'tub', 'child.<br', 'awoke', 'Abel'],\n",
       " ['Hernandez', 'May', 'purposely', 'Ettore', 'hater'],\n",
       " ['Dancer', 'setting.<br', 'edge.<br', 'taught', 'gender'],\n",
       " ['Mike', 'invisible', 'SUPPOSED', 'carry', 'varied'],\n",
       " ['commenter', 'no', 'Lines', 'Technically', 'making'],\n",
       " ['Do', 'fix', 'thighs', 'success.<br', 'Trautman'],\n",
       " ['cookbook', 'Nudity', 'character', 'IN', '1900'],\n",
       " ['yourselves', 'slashing', 'Missing', 'instability', 'RED'],\n",
       " ['Romanian', '150', 'sixteen', 'minor', 'cynically'],\n",
       " ['Africans', 'comprise', 'worse', 'compensation', 'dance'],\n",
       " ['Loren', 'Dial', 'holy', 'countryside', 'gentlemen'],\n",
       " ['tail', 'concerned.<br', 'horrified', 'Loesser', 'JACK'],\n",
       " ['crashing', 'gambling', 'ROLL', 'subdued', 'Shall'],\n",
       " ['e.g.', 'Palma', 'half.<br', 'Phillips', 'engages'],\n",
       " ['tickets', 'profit', '/>4/10', 'blossom', 'bowel'],\n",
       " ['Joseph', 'Makes', 'Idol', 'blackmailed', 'Mendes'],\n",
       " ['Romano', 'Frog', 'studded', 'Guttenberg', 'resources'],\n",
       " ['succeeding', 'bevy', 'imaginative', 'ODD', 'with.<br'],\n",
       " ['enormous', 'amiable', 'shield', 'Aztec', 'displaying'],\n",
       " ['Riker', 'geared', 'appreciated', 'Colm', 'Caprice'],\n",
       " ['Calamai', 'Say', 'Rockies', 'Anybody', 'bankruptcy'],\n",
       " ['Vonnegut', 'STUPID', 'genuine', 'veritable', 'overpowering'],\n",
       " ['lords', 'tall', 'conceited', 'spreads', 'Hernandez'],\n",
       " ['Cradle', 'mushy', 'Goodman', 'Performances', 'Yo'],\n",
       " ['altruistic', 'wimpy', 'Casino', 'blackmailing', 'rapture'],\n",
       " ['poorly', 'rudimentary', '/>6', 'didactic', 'Marquis'],\n",
       " ['Filmed', '/>Whilst', 'surgeon', 'outstanding', 'carnal'],\n",
       " ['stroll', 'Truman', 'emotional', 'Ogre', 'detention'],\n",
       " ['Gorgeous', 'Awards', 'top', 'Job', 'wrestler'],\n",
       " ['rushes', 'Bagman', 'adversary', 'predict', 'natural'],\n",
       " ['satirical', 'Citizen', '1.<br', 'THAT', 'haired'],\n",
       " ['scandalous', 'car', 'paste', 'lays', 'Warren'],\n",
       " ['Olympics', 'contain', 'widower', 'background.<br', 'Bard'],\n",
       " ['Montgomery', 'Fitzgerald', 'Eurovision', 'Big', 'engrossing'],\n",
       " ['depraved', 'heir', 'exploitive', 'Sterling', 'LL'],\n",
       " ['trooper', 'revenge.<br', 'heighten', 'Pyewacket', 'recounts'],\n",
       " ['happening', 'partially', 'courted', 'entry', 'regretted'],\n",
       " ['Shane', '\\x91The', 'Cavemen', 'interestingly', 'Know'],\n",
       " ['de', 'chased', 'transvestite', 'funnier', 'Unless'],\n",
       " ['Crowd', 'Thesiger', 'areas', 'coaster', 'Rosarios'],\n",
       " ['that', 'Survivors', 'McDonalds', 'suicides', 'Berkeley'],\n",
       " ['modeled', 'hailed', 'Kilmer', 'Despite', 'Edwardian'],\n",
       " ['Europeans', 'combined', 'Bye', 'debut', 'Rosie'],\n",
       " ['Film.<br', 'SG1', 'Spall', 'Cusack', 'feast'],\n",
       " ['belly', 'Errol', 'Lee', 'stink', 'Spain'],\n",
       " ['Parker', 'Douglas', 'immortal', 'mockery', 'Bloom'],\n",
       " ['afterlife', 'pronounced', 'daunting', 'aptly', 'networks'],\n",
       " ['Perry', 'communicated', 'Madge', 'Schwarzenegger', 'Dex'],\n",
       " ['catharsis', 'Cady', 'aborted', 'urgency', 'Emil'],\n",
       " ['teenage', 'impersonations', 'Off', 'rampage', 'upstate'],\n",
       " ['armour', 'thrilled', 'Putting', 'fiery', 'disdain'],\n",
       " ['animation.<br', '/>Claire', 'unrelated', 'cited', 'marketing'],\n",
       " ['illegally', 'Din', 'costs.<br', 'conceal', 'fiercely'],\n",
       " ['grab', 'fundamentally', 'windshield', 'Farrah', 'interactions'],\n",
       " ['covered', 'hopelessly', 'Bread', 'shootings', 'plan'],\n",
       " ['fold', 'walked', 'twentieth', 'galore', 'Tomb'],\n",
       " ['Babbage', 'giggle', 'OK', 'weeping', 'accordingly'],\n",
       " ['approx', 'cockney', 'dreary', 'Rafiki', 'weapons'],\n",
       " ['Anders', 'Shemp', 'crime', 'brim', 'lined'],\n",
       " ['stumble', 'Gaelic', 'Ashura', 'flesh', 'Kanin'],\n",
       " ['unrelenting', 'Ages', 'visceral', 'SCI', 'confrontations'],\n",
       " ['him', 'Quigley', 'spoof', 'Sullivan', 'grisly'],\n",
       " ['advert', 'Burlesque', 'resides', 'fecal', 'goddess'],\n",
       " ['favor', 'smash', 'fooled', 'CG', 'living'],\n",
       " ['ticking', 'voodoo', 'Gorris', 'Vikings', 'Charnier'],\n",
       " ['KNOW', 'catches', 'Fante', 'hot', 'Holocaust'],\n",
       " ['frat', 'possibly', 'saccharine', 'detention', 'predators'],\n",
       " ['Commie', 'austin', 'join', 'slot', 'peasant'],\n",
       " ['conspiracy', 'slipper', 'angst', 'Aline', 'Buscemi'],\n",
       " ['animator', 'Strictly', 'naïve', 'Frenchman', 'Hideo'],\n",
       " ['tested', 'invaded', 'salad', \"ne'er\", 'Intentions'],\n",
       " ['instructor', 'oily', 'snaps', \"I'll\", 'Cathy'],\n",
       " ['Lindsey', 'Alejandro', 'disliked', 'effective.<br', 'marching'],\n",
       " ['Image', 'grinning', 'coms', 'including', 'cried'],\n",
       " ['heralded', 'BET', 'misfire', 'scenery', 'Cliché'],\n",
       " ['bod', 'McKenzie', 'Thornway', 'enslaved', 'attributed'],\n",
       " ['AnneMarie', 'petite', 'Clueless', 'Virgin', 'Try'],\n",
       " ['Comics', 'Child', 'WILL', 'imitating', 'wrap'],\n",
       " [\"T'Aime\", 'civilisation', 'Chávez', 'Sigourney', 'loyalties'],\n",
       " ['scary', 'goody', 'Amazingly', 'design', 'NOW'],\n",
       " ['nauseous', 'weak', 'Millard', 'Statham', 'bad'],\n",
       " ['Grease', 'Baba', 'Halperin', 'depth', 'miscast'],\n",
       " ['leaping', 'Full', 'turf', 'cleans', 'parable'],\n",
       " ['Table', 'TCM', 'loveable', 'Troopers', '/>Sean'],\n",
       " ['plots', 'intolerance', 'Viet', 'Divya', 'mankind'],\n",
       " ['Dushku', 'Henderson', 'degrade', 'glossed', 'execute'],\n",
       " ['trivia', 'journey.<br', 'omission', 'Wai', 'Kari'],\n",
       " ['Feature', 'Few', 'Hannibal', 'Evidently', 'supervision'],\n",
       " ['stranded', 'downward', 'soulless', 'wards', 'Ogre'],\n",
       " ['Bread', 'happiness.<br', 'Arly', 'oscar', 'subtext'],\n",
       " ['scar', 'lo', 'Bates', 'discovering', 'owed'],\n",
       " ['Jackson', 'ignore', 'reinforces', 'insisting', 'Dolly'],\n",
       " ...]"
      ]
     },
     "execution_count": 37,
     "metadata": {},
     "output_type": "execute_result"
    }
   ],
   "source": [
    "synonim_matrix = []\n",
    "for w in tqdm(w_matrix):\n",
    "    cosines = np.nan_to_num(w @ w_matrix.T / (np.linalg.norm(w).reshape(-1, 1) @ np.linalg.norm(w_matrix, axis=1).reshape(1, -1)))\n",
    "    k_top_indxs = np.argsort(cosines.reshape(-1))[-6:-1]\n",
    "    synonim_matrix.append(np.flip(np.array([TEXT.vocab.itos[idx] for idx in k_top_indxs])).tolist())\n",
    "\n",
    "synonim_matrix"
   ]
  },
  {
   "cell_type": "code",
   "execution_count": null,
   "metadata": {
    "colab": {
     "base_uri": "https://localhost:8080/",
     "height": 86,
     "referenced_widgets": [
      "ad3d615985f346009428edd8e89bd100",
      "cfd501f757dd414ab59095f97aa4bd77",
      "2acffa0f39d245b68df3a2a51e346dfe",
      "57e4b4b7f3694047a24785f5aa3171fa",
      "c2b9358145ff4285a55eb20f76458db1",
      "e825fc03d0864e7b8c33683eb91d144b",
      "9c35b8fa306942a99198cfea4a51fb63",
      "08a90de873644c158990e09998e4cede",
      "da5efcdba82d41b0b137010e9cadbfe1",
      "bc72270937c54f26925240108417f7ce",
      "30713c7ad06d493a929a36b7bf3f9411"
     ]
    },
    "id": "JDqjUC9vtKIl",
    "outputId": "9004027c-deb8-4664-b566-06ec4e248ba1"
   },
   "outputs": [
    {
     "data": {
      "application/vnd.jupyter.widget-view+json": {
       "model_id": "ad3d615985f346009428edd8e89bd100",
       "version_major": 2,
       "version_minor": 0
      },
      "text/plain": [
       "0it [00:00, ?it/s]"
      ]
     },
     "metadata": {},
     "output_type": "display_data"
    },
    {
     "name": "stdout",
     "output_type": "stream",
     "text": [
      "['It', 'was', 'so', 'terrible', '.', 'It', 'was', \"n't\", 'fun', 'to', 'watch', 'at', 'all', '.', 'Even', 'the', 'scene', 'where', 'the', 'girl', 'is', 'using', 'a', 'vibrator', ',', 'even', 'that', \"'s\", 'not', 'fun', 'to', 'watch', 'in', 'this', 'movie', '.', 'I', 'say', 'again', ',', 'the', 'scene', 'where', 'a', 'girl', 'is', 'masturbating', 'with', 'a', 'vibrator', 'is', 'not', 'even', 'fun', 'to', 'watch', '.', 'Or', 'maybe', 'if', 'that', 'was', 'the', 'only', 'part', 'of', 'the', 'movie', 'that', 'you', 'watched', ',', 'just', 'girl', 'on', 'couch', 'using', 'a', 'vibrator', '.', 'Maybe', 'they', 'should', 'have', 'just', 'released', 'that', 'one', 'scene', 'in', 'theaters', ',', 'maybe', 'then', 'the', 'movie', 'would', 'be', 'enjoyable', 'on', 'a', 'certain', 'level', '.', 'My', 'advice', ',', 'fast', 'forward', 'to', 'that', 'point', ',', 'watch', 'it', ',', 'rewind', 'the', 'movie', ',', 'watch', 'it', 'again', ',', 'rewind', ',', 'repeat', '.', 'Maybe', 'you', 'could', 'enjoy', 'yourself', 'for', '2', 'hours', 'that', 'way', '.', 'This', 'movie', 'ranks', 'alongside', 'I', 'spit', 'on', 'your', 'grave', 'and', 'Doom', 'generation', 'in', 'the', 'category', 'of', 'worst', 'movies', 'that', 'I', 'have', 'ever', 'seen', '.']\n"
     ]
    }
   ],
   "source": [
    "for i, data in tqdm(enumerate(train_data)):\n",
    "    text = data.text\n",
    "    print(text)\n",
    "    break"
   ]
  },
  {
   "cell_type": "code",
   "execution_count": 55,
   "metadata": {
    "id": "uZo31gwBiJil"
   },
   "outputs": [],
   "source": [
    "def make_augmentation(p=0):\n",
    "    for i, data in enumerate(tqdm(train_data)):\n",
    "        new_text = []\n",
    "        text = data.text\n",
    "        need_aug = sps.bernoulli(p).rvs(len(text))\n",
    "        random_idx_syn = np.random.randint(low=0, high=4, size=len(text))\n",
    "        for j, word in enumerate(text):\n",
    "            if need_aug[j]:\n",
    "                new_text.append(synonim_matrix[j][random_idx_syn[j]])\n",
    "            else:\n",
    "                new_text.append(word)\n",
    "        train_data[i].text = new_text\n",
    "    return train_data"
   ]
  },
  {
   "cell_type": "code",
   "execution_count": 56,
   "metadata": {
    "colab": {
     "base_uri": "https://localhost:8080/",
     "height": 1000,
     "referenced_widgets": [
      "1daa9a4478624e8dbb0483a57aece80e",
      "acfb4e8a700841d889bfa705f8caf069",
      "04c1f2be189e4e80b021c777841b4c97",
      "d9a8af3346ec4e409d8d5abbbb403948",
      "9b75a056eaa64824bae2b5ecb6b3444a",
      "1ae2b31a53bc4bf7a2adfca7617fabe4",
      "946f48be17d34aada017aea1625dc22c",
      "0218c3318d0f4d25bf636f1beb8e4cad",
      "8dc1c9dfbffd424abd6af82bad1eea94",
      "0e96106a3ad14289bf35ec24d8c652ec",
      "7dd7f161e0e14a7cbcd8a928268d7632"
     ]
    },
    "id": "wvma7c9vw2en",
    "outputId": "e0cb5881-dea3-46cb-bd8b-c78764fa7e04"
   },
   "outputs": [
    {
     "data": {
      "application/vnd.jupyter.widget-view+json": {
       "model_id": "1daa9a4478624e8dbb0483a57aece80e",
       "version_major": 2,
       "version_minor": 0
      },
      "text/plain": [
       "  0%|          | 0/17500 [00:00<?, ?it/s]"
      ]
     },
     "metadata": {},
     "output_type": "display_data"
    },
    {
     "data": {
      "text/plain": [
       "['It',\n",
       " 'was',\n",
       " 'so',\n",
       " 'terrible',\n",
       " '.',\n",
       " 'reconstruction',\n",
       " 'was',\n",
       " \"n't\",\n",
       " 'convinced',\n",
       " 'to',\n",
       " 'watch',\n",
       " 'at',\n",
       " 'all',\n",
       " '.',\n",
       " 'Even',\n",
       " 'the',\n",
       " 'scene',\n",
       " 'where',\n",
       " 'the',\n",
       " 'substantive',\n",
       " 'is',\n",
       " 'using',\n",
       " 'a',\n",
       " 'vibrator',\n",
       " ',',\n",
       " 'even',\n",
       " 'that',\n",
       " \"'s\",\n",
       " 'not',\n",
       " 'fun',\n",
       " 'to',\n",
       " 'watch',\n",
       " 'in',\n",
       " 'this',\n",
       " 'movie',\n",
       " 'peer',\n",
       " 'I',\n",
       " 'say',\n",
       " 'again',\n",
       " ',',\n",
       " 'the',\n",
       " 'scene',\n",
       " 'fantasies',\n",
       " 'aforementioned',\n",
       " 'girl',\n",
       " 'is',\n",
       " 'masturbating',\n",
       " 'with',\n",
       " 'a',\n",
       " 'vibrator',\n",
       " 'is',\n",
       " 'not',\n",
       " 'even',\n",
       " 'fun',\n",
       " 'ovation',\n",
       " 'watch',\n",
       " '.',\n",
       " 'Or',\n",
       " 'relied',\n",
       " 'if',\n",
       " 'Gage',\n",
       " 'was',\n",
       " 'the',\n",
       " 'deceit',\n",
       " 'part',\n",
       " 'Features',\n",
       " 'the',\n",
       " 'movie',\n",
       " 'that',\n",
       " 'you',\n",
       " 'watched',\n",
       " ',',\n",
       " 'rapper',\n",
       " 'girl',\n",
       " 'VCR',\n",
       " 'couch',\n",
       " 'using',\n",
       " 'a',\n",
       " 'vibrator',\n",
       " '.',\n",
       " 'Maybe',\n",
       " 'they',\n",
       " 'should',\n",
       " 'epidemic',\n",
       " 'just',\n",
       " 'FULL',\n",
       " 'that',\n",
       " 'one',\n",
       " 'scene',\n",
       " 'in',\n",
       " 'theaters',\n",
       " ',',\n",
       " 'maybe',\n",
       " 'then',\n",
       " 'the',\n",
       " 'movie',\n",
       " 'groom',\n",
       " 'be',\n",
       " 'enjoyable',\n",
       " 'on',\n",
       " 'a',\n",
       " 'certain',\n",
       " 'level',\n",
       " '.',\n",
       " 'My',\n",
       " 'advice',\n",
       " ',',\n",
       " 'fast',\n",
       " 'forward',\n",
       " 'to',\n",
       " 'that',\n",
       " 'ignorance',\n",
       " 'muscles',\n",
       " 'Thunderbird',\n",
       " 'it',\n",
       " '3/10',\n",
       " 'rewind',\n",
       " 'the',\n",
       " 'movie',\n",
       " ',',\n",
       " 'watch',\n",
       " 'it',\n",
       " 'again',\n",
       " ',',\n",
       " 'rewind',\n",
       " 'strangeness',\n",
       " 'repeat',\n",
       " '.',\n",
       " 'Maybe',\n",
       " 'you',\n",
       " 'could',\n",
       " 'enjoy',\n",
       " 'tender',\n",
       " 'whistling',\n",
       " '2',\n",
       " 'hours',\n",
       " 'that',\n",
       " 'Borg',\n",
       " '.',\n",
       " 'developments',\n",
       " 'movie',\n",
       " 'ranks',\n",
       " 'forsaken',\n",
       " 'I',\n",
       " 'horrifically',\n",
       " 'on',\n",
       " 'your',\n",
       " 'grave',\n",
       " 'and',\n",
       " 'Doom',\n",
       " 'generation',\n",
       " 'in',\n",
       " 'humdrum',\n",
       " 'category',\n",
       " 'of',\n",
       " 'worst',\n",
       " 'movies',\n",
       " 'that',\n",
       " 'I',\n",
       " 'have',\n",
       " 'ever',\n",
       " 'seen',\n",
       " '.']"
      ]
     },
     "execution_count": 56,
     "metadata": {},
     "output_type": "execute_result"
    }
   ],
   "source": [
    "train_data = make_augmentation(p=0.2)\n",
    "train_data[0].text"
   ]
  },
  {
   "cell_type": "markdown",
   "metadata": {
    "id": "c7H88cZSsnIK"
   },
   "source": [
    "Теперь обучим модель на аугментированном трейне и посмотрим, что получится."
   ]
  },
  {
   "cell_type": "code",
   "execution_count": 57,
   "metadata": {
    "id": "MT3Hj4vqi54U"
   },
   "outputs": [],
   "source": [
    "MAX_VOCAB_SIZE = 25000\n",
    "TEXT.build_vocab(train_data, max_size=MAX_VOCAB_SIZE)\n",
    "LABEL.build_vocab(train_data)"
   ]
  },
  {
   "cell_type": "code",
   "execution_count": 58,
   "metadata": {
    "colab": {
     "base_uri": "https://localhost:8080/"
    },
    "id": "RHG-9XMjjDEm",
    "outputId": "c2836afb-c515-4a47-a6fb-98b98479e3ac"
   },
   "outputs": [
    {
     "name": "stderr",
     "output_type": "stream",
     "text": [
      "/usr/local/lib/python3.7/dist-packages/torchtext/data/iterator.py:48: UserWarning: BucketIterator class will be retired soon and moved to torchtext.legacy. Please see the most recent release notes for further information.\n",
      "  warnings.warn('{} class will be retired soon and moved to torchtext.legacy. Please see the most recent release notes for further information.'.format(self.__class__.__name__), UserWarning)\n"
     ]
    }
   ],
   "source": [
    "BATCH_SIZE = 64\n",
    "\n",
    "train_iterator, valid_iterator, test_iterator = data.BucketIterator.splits(\n",
    "    (train_data, valid_data, test_data), \n",
    "    batch_size = BATCH_SIZE, \n",
    "    device = device\n",
    ")"
   ]
  },
  {
   "cell_type": "code",
   "execution_count": 68,
   "metadata": {
    "id": "m2HMGJyrjFvp"
   },
   "outputs": [],
   "source": [
    "INPUT_DIM = len(TEXT.vocab)  # размер словаря\n",
    "EMBEDDING_DIM = 100  # размерность векторов-эмбеддингов\n",
    "N_FILTERS = 100  # количество свёрточных фильтров\n",
    "FILTER_SIZES = [3, 4, 5]  # размеры фильтров на каждом уровне\n",
    "OUTPUT_DIM = 1  # размерность выхода (сеть выдаёт вероятность для одного класса)\n",
    "DROPOUT = 0.5  # вероятность dropout\n",
    "PAD_IDX = TEXT.vocab.stoi[TEXT.pad_token]  # id токена для паддинга\n",
    "\n",
    "model = CNN(INPUT_DIM, EMBEDDING_DIM, N_FILTERS, FILTER_SIZES, OUTPUT_DIM, DROPOUT, PAD_IDX)"
   ]
  },
  {
   "cell_type": "code",
   "execution_count": 69,
   "metadata": {
    "id": "qflT7VSUjF57"
   },
   "outputs": [],
   "source": [
    "optimizer = torch.optim.Adam(model.parameters())\n",
    "criterion = nn.BCEWithLogitsLoss()\n",
    "model = model.to(device)\n",
    "criterion = criterion.to(device)"
   ]
  },
  {
   "cell_type": "code",
   "execution_count": 70,
   "metadata": {
    "colab": {
     "base_uri": "https://localhost:8080/",
     "height": 481
    },
    "id": "1EpxWHmBjF9b",
    "outputId": "a1b309f7-4414-435d-c12d-5c283fa2526f"
   },
   "outputs": [
    {
     "data": {
      "image/png": "[encoded data removed]",
      "text/plain": [
       "<Figure size 864x432 with 1 Axes>"
      ]
     },
     "metadata": {
      "needs_background": "light"
     },
     "output_type": "display_data"
    },
    {
     "name": "stdout",
     "output_type": "stream",
     "text": [
      "Номер эпохи: 10 | Время обучения эпохи: 0m 33s\n",
      "\tTrain Loss: 0.202 | Train Acc: 91.91%\n",
      "\t Val. Loss: 0.326 |  Val. Acc: 86.99%\n"
     ]
    }
   ],
   "source": [
    "training_loop(model, name_model='tut_aug-model.pt')"
   ]
  },
  {
   "cell_type": "code",
   "execution_count": 71,
   "metadata": {
    "colab": {
     "base_uri": "https://localhost:8080/"
    },
    "id": "CM74-N-_j9ms",
    "outputId": "bc5a5dd6-84d0-44dc-b2b9-69c271a4d111"
   },
   "outputs": [
    {
     "name": "stderr",
     "output_type": "stream",
     "text": [
      "/usr/local/lib/python3.7/dist-packages/torchtext/data/batch.py:23: UserWarning: Batch class will be retired soon and moved to torchtext.legacy. Please see the most recent release notes for further information.\n",
      "  warnings.warn('{} class will be retired soon and moved to torchtext.legacy. Please see the most recent release notes for further information.'.format(self.__class__.__name__), UserWarning)\n"
     ]
    },
    {
     "name": "stdout",
     "output_type": "stream",
     "text": [
      "Test Loss: 0.327 | Test Acc: 86.00%\n"
     ]
    }
   ],
   "source": [
    "model.load_state_dict(torch.load('tut_aug-model.pt'))\n",
    "test_loss, test_acc = evaluate(model, test_iterator, criterion)\n",
    "print(f'Test Loss: {test_loss:.3f} | Test Acc: {test_acc*100:.2f}%')"
   ]
  },
  {
   "cell_type": "markdown",
   "metadata": {
    "id": "xG1BR20EsuCt"
   },
   "source": [
    "Качество на тесте по сравнению с моделью с семинара упало почти на процент, при этом качество на трейне упало больше, чем на 3 процента. Это может значить, что мы недообучились на аугментированных данных, то есть, времени на обучение под аугментированные данные нужно больше, чем не под аугментированные."
   ]
  }
 ],
 "metadata": {
  "accelerator": "GPU",
  "colab": {
   "collapsed_sections": [],
   "name": "nlp_hw1_statement_(2).ipynb",
   "provenance": []
  },
  "kernelspec": {
   "display_name": "Python 3 (ipykernel)",
   "language": "python",
   "name": "python3"
  },
  "language_info": {
   "codemirror_mode": {
    "name": "ipython",
    "version": 3
   },
   "file_extension": ".py",
   "mimetype": "text/x-python",
   "name": "python",
   "nbconvert_exporter": "python",
   "pygments_lexer": "ipython3",
   "version": "3.9.12"
  },
  "widgets": {
   "application/vnd.jupyter.widget-state+json": {
    "0015339d3216486f84135cb98f89a7d8": {
     "model_module": "@jupyter-widgets/controls",
     "model_module_version": "1.5.0",
     "model_name": "HTMLModel",
     "state": {
      "_dom_classes": [],
      "_model_module": "@jupyter-widgets/controls",
      "_model_module_version": "1.5.0",
      "_model_name": "HTMLModel",
      "_view_count": null,
      "_view_module": "@jupyter-widgets/controls",
      "_view_module_version": "1.5.0",
      "_view_name": "HTMLView",
      "description": "",
      "description_tooltip": null,
      "layout": "IPY_MODEL_25e2c56d91924ba4b61be43f24a2569a",
      "placeholder": "​",
      "style": "IPY_MODEL_3f01725cfd96420ca9dd8ea5d991f9c3",
      "value": " 17500/? [08:39&lt;00:00, 37.57it/s]"
     }
    },
    "0218c3318d0f4d25bf636f1beb8e4cad": {
     "model_module": "@jupyter-widgets/base",
     "model_module_version": "1.2.0",
     "model_name": "LayoutModel",
     "state": {
      "_model_module": "@jupyter-widgets/base",
      "_model_module_version": "1.2.0",
      "_model_name": "LayoutModel",
      "_view_count": null,
      "_view_module": "@jupyter-widgets/base",
      "_view_module_version": "1.2.0",
      "_view_name": "LayoutView",
      "align_content": null,
      "align_items": null,
      "align_self": null,
      "border": null,
      "bottom": null,
      "display": null,
      "flex": null,
      "flex_flow": null,
      "grid_area": null,
      "grid_auto_columns": null,
      "grid_auto_flow": null,
      "grid_auto_rows": null,
      "grid_column": null,
      "grid_gap": null,
      "grid_row": null,
      "grid_template_areas": null,
      "grid_template_columns": null,
      "grid_template_rows": null,
      "height": null,
      "justify_content": null,
      "justify_items": null,
      "left": null,
      "margin": null,
      "max_height": null,
      "max_width": null,
      "min_height": null,
      "min_width": null,
      "object_fit": null,
      "object_position": null,
      "order": null,
      "overflow": null,
      "overflow_x": null,
      "overflow_y": null,
      "padding": null,
      "right": null,
      "top": null,
      "visibility": null,
      "width": null
     }
    },
    "04c1f2be189e4e80b021c777841b4c97": {
     "model_module": "@jupyter-widgets/controls",
     "model_module_version": "1.5.0",
     "model_name": "FloatProgressModel",
     "state": {
      "_dom_classes": [],
      "_model_module": "@jupyter-widgets/controls",
      "_model_module_version": "1.5.0",
      "_model_name": "FloatProgressModel",
      "_view_count": null,
      "_view_module": "@jupyter-widgets/controls",
      "_view_module_version": "1.5.0",
      "_view_name": "ProgressView",
      "bar_style": "success",
      "description": "",
      "description_tooltip": null,
      "layout": "IPY_MODEL_0218c3318d0f4d25bf636f1beb8e4cad",
      "max": 17500,
      "min": 0,
      "orientation": "horizontal",
      "style": "IPY_MODEL_8dc1c9dfbffd424abd6af82bad1eea94",
      "value": 17500
     }
    },
    "08a90de873644c158990e09998e4cede": {
     "model_module": "@jupyter-widgets/base",
     "model_module_version": "1.2.0",
     "model_name": "LayoutModel",
     "state": {
      "_model_module": "@jupyter-widgets/base",
      "_model_module_version": "1.2.0",
      "_model_name": "LayoutModel",
      "_view_count": null,
      "_view_module": "@jupyter-widgets/base",
      "_view_module_version": "1.2.0",
      "_view_name": "LayoutView",
      "align_content": null,
      "align_items": null,
      "align_self": null,
      "border": null,
      "bottom": null,
      "display": null,
      "flex": null,
      "flex_flow": null,
      "grid_area": null,
      "grid_auto_columns": null,
      "grid_auto_flow": null,
      "grid_auto_rows": null,
      "grid_column": null,
      "grid_gap": null,
      "grid_row": null,
      "grid_template_areas": null,
      "grid_template_columns": null,
      "grid_template_rows": null,
      "height": null,
      "justify_content": null,
      "justify_items": null,
      "left": null,
      "margin": null,
      "max_height": null,
      "max_width": null,
      "min_height": null,
      "min_width": null,
      "object_fit": null,
      "object_position": null,
      "order": null,
      "overflow": null,
      "overflow_x": null,
      "overflow_y": null,
      "padding": null,
      "right": null,
      "top": null,
      "visibility": null,
      "width": "20px"
     }
    },
    "0932c1905904469f806943d4a4253f97": {
     "model_module": "@jupyter-widgets/base",
     "model_module_version": "1.2.0",
     "model_name": "LayoutModel",
     "state": {
      "_model_module": "@jupyter-widgets/base",
      "_model_module_version": "1.2.0",
      "_model_name": "LayoutModel",
      "_view_count": null,
      "_view_module": "@jupyter-widgets/base",
      "_view_module_version": "1.2.0",
      "_view_name": "LayoutView",
      "align_content": null,
      "align_items": null,
      "align_self": null,
      "border": null,
      "bottom": null,
      "display": null,
      "flex": null,
      "flex_flow": null,
      "grid_area": null,
      "grid_auto_columns": null,
      "grid_auto_flow": null,
      "grid_auto_rows": null,
      "grid_column": null,
      "grid_gap": null,
      "grid_row": null,
      "grid_template_areas": null,
      "grid_template_columns": null,
      "grid_template_rows": null,
      "height": null,
      "justify_content": null,
      "justify_items": null,
      "left": null,
      "margin": null,
      "max_height": null,
      "max_width": null,
      "min_height": null,
      "min_width": null,
      "object_fit": null,
      "object_position": null,
      "order": null,
      "overflow": null,
      "overflow_x": null,
      "overflow_y": null,
      "padding": null,
      "right": null,
      "top": null,
      "visibility": null,
      "width": null
     }
    },
    "0978f7e050a047af922e5554ae9bfd6b": {
     "model_module": "@jupyter-widgets/controls",
     "model_module_version": "1.5.0",
     "model_name": "FloatProgressModel",
     "state": {
      "_dom_classes": [],
      "_model_module": "@jupyter-widgets/controls",
      "_model_module_version": "1.5.0",
      "_model_name": "FloatProgressModel",
      "_view_count": null,
      "_view_module": "@jupyter-widgets/controls",
      "_view_module_version": "1.5.0",
      "_view_name": "ProgressView",
      "bar_style": "success",
      "description": "",
      "description_tooltip": null,
      "layout": "IPY_MODEL_9e6a3512f49a412ca31a1a30a3aecc2b",
      "max": 1,
      "min": 0,
      "orientation": "horizontal",
      "style": "IPY_MODEL_4039d71fadd1459eb3095006243e2314",
      "value": 1
     }
    },
    "0c089152a1344b919faa1ba7f85fbaf7": {
     "model_module": "@jupyter-widgets/controls",
     "model_module_version": "1.5.0",
     "model_name": "HBoxModel",
     "state": {
      "_dom_classes": [],
      "_model_module": "@jupyter-widgets/controls",
      "_model_module_version": "1.5.0",
      "_model_name": "HBoxModel",
      "_view_count": null,
      "_view_module": "@jupyter-widgets/controls",
      "_view_module_version": "1.5.0",
      "_view_name": "HBoxView",
      "box_style": "",
      "children": [
       "IPY_MODEL_9917e682e86b44a58aa29c1f7067d2b8",
       "IPY_MODEL_a1a0d0b69a5b4143bc8971d95813ec39",
       "IPY_MODEL_0015339d3216486f84135cb98f89a7d8"
      ],
      "layout": "IPY_MODEL_4a58456a86a34d3089c6aaf5d8ee63b7"
     }
    },
    "0e96106a3ad14289bf35ec24d8c652ec": {
     "model_module": "@jupyter-widgets/base",
     "model_module_version": "1.2.0",
     "model_name": "LayoutModel",
     "state": {
      "_model_module": "@jupyter-widgets/base",
      "_model_module_version": "1.2.0",
      "_model_name": "LayoutModel",
      "_view_count": null,
      "_view_module": "@jupyter-widgets/base",
      "_view_module_version": "1.2.0",
      "_view_name": "LayoutView",
      "align_content": null,
      "align_items": null,
      "align_self": null,
      "border": null,
      "bottom": null,
      "display": null,
      "flex": null,
      "flex_flow": null,
      "grid_area": null,
      "grid_auto_columns": null,
      "grid_auto_flow": null,
      "grid_auto_rows": null,
      "grid_column": null,
      "grid_gap": null,
      "grid_row": null,
      "grid_template_areas": null,
      "grid_template_columns": null,
      "grid_template_rows": null,
      "height": null,
      "justify_content": null,
      "justify_items": null,
      "left": null,
      "margin": null,
      "max_height": null,
      "max_width": null,
      "min_height": null,
      "min_width": null,
      "object_fit": null,
      "object_position": null,
      "order": null,
      "overflow": null,
      "overflow_x": null,
      "overflow_y": null,
      "padding": null,
      "right": null,
      "top": null,
      "visibility": null,
      "width": null
     }
    },
    "0f265be9bcf24557bfabca4b37e5c90c": {
     "model_module": "@jupyter-widgets/base",
     "model_module_version": "1.2.0",
     "model_name": "LayoutModel",
     "state": {
      "_model_module": "@jupyter-widgets/base",
      "_model_module_version": "1.2.0",
      "_model_name": "LayoutModel",
      "_view_count": null,
      "_view_module": "@jupyter-widgets/base",
      "_view_module_version": "1.2.0",
      "_view_name": "LayoutView",
      "align_content": null,
      "align_items": null,
      "align_self": null,
      "border": null,
      "bottom": null,
      "display": null,
      "flex": null,
      "flex_flow": null,
      "grid_area": null,
      "grid_auto_columns": null,
      "grid_auto_flow": null,
      "grid_auto_rows": null,
      "grid_column": null,
      "grid_gap": null,
      "grid_row": null,
      "grid_template_areas": null,
      "grid_template_columns": null,
      "grid_template_rows": null,
      "height": null,
      "justify_content": null,
      "justify_items": null,
      "left": null,
      "margin": null,
      "max_height": null,
      "max_width": null,
      "min_height": null,
      "min_width": null,
      "object_fit": null,
      "object_position": null,
      "order": null,
      "overflow": null,
      "overflow_x": null,
      "overflow_y": null,
      "padding": null,
      "right": null,
      "top": null,
      "visibility": null,
      "width": null
     }
    },
    "11fb49b0b85443d2a5a545bba0548caa": {
     "model_module": "@jupyter-widgets/base",
     "model_module_version": "1.2.0",
     "model_name": "LayoutModel",
     "state": {
      "_model_module": "@jupyter-widgets/base",
      "_model_module_version": "1.2.0",
      "_model_name": "LayoutModel",
      "_view_count": null,
      "_view_module": "@jupyter-widgets/base",
      "_view_module_version": "1.2.0",
      "_view_name": "LayoutView",
      "align_content": null,
      "align_items": null,
      "align_self": null,
      "border": null,
      "bottom": null,
      "display": null,
      "flex": null,
      "flex_flow": null,
      "grid_area": null,
      "grid_auto_columns": null,
      "grid_auto_flow": null,
      "grid_auto_rows": null,
      "grid_column": null,
      "grid_gap": null,
      "grid_row": null,
      "grid_template_areas": null,
      "grid_template_columns": null,
      "grid_template_rows": null,
      "height": null,
      "justify_content": null,
      "justify_items": null,
      "left": null,
      "margin": null,
      "max_height": null,
      "max_width": null,
      "min_height": null,
      "min_width": null,
      "object_fit": null,
      "object_position": null,
      "order": null,
      "overflow": null,
      "overflow_x": null,
      "overflow_y": null,
      "padding": null,
      "right": null,
      "top": null,
      "visibility": null,
      "width": null
     }
    },
    "12f21a0fb8f14ed299d9d9e1f395e936": {
     "model_module": "@jupyter-widgets/base",
     "model_module_version": "1.2.0",
     "model_name": "LayoutModel",
     "state": {
      "_model_module": "@jupyter-widgets/base",
      "_model_module_version": "1.2.0",
      "_model_name": "LayoutModel",
      "_view_count": null,
      "_view_module": "@jupyter-widgets/base",
      "_view_module_version": "1.2.0",
      "_view_name": "LayoutView",
      "align_content": null,
      "align_items": null,
      "align_self": null,
      "border": null,
      "bottom": null,
      "display": null,
      "flex": null,
      "flex_flow": null,
      "grid_area": null,
      "grid_auto_columns": null,
      "grid_auto_flow": null,
      "grid_auto_rows": null,
      "grid_column": null,
      "grid_gap": null,
      "grid_row": null,
      "grid_template_areas": null,
      "grid_template_columns": null,
      "grid_template_rows": null,
      "height": null,
      "justify_content": null,
      "justify_items": null,
      "left": null,
      "margin": null,
      "max_height": null,
      "max_width": null,
      "min_height": null,
      "min_width": null,
      "object_fit": null,
      "object_position": null,
      "order": null,
      "overflow": null,
      "overflow_x": null,
      "overflow_y": null,
      "padding": null,
      "right": null,
      "top": null,
      "visibility": null,
      "width": "20px"
     }
    },
    "148bb571dc6648a7a8f7ab351f6e190e": {
     "model_module": "@jupyter-widgets/controls",
     "model_module_version": "1.5.0",
     "model_name": "HBoxModel",
     "state": {
      "_dom_classes": [],
      "_model_module": "@jupyter-widgets/controls",
      "_model_module_version": "1.5.0",
      "_model_name": "HBoxModel",
      "_view_count": null,
      "_view_module": "@jupyter-widgets/controls",
      "_view_module_version": "1.5.0",
      "_view_name": "HBoxView",
      "box_style": "",
      "children": [
       "IPY_MODEL_5be70c047c1644be82417d9640290deb",
       "IPY_MODEL_34308f8aabec452c8ad0c3b2c5316a64",
       "IPY_MODEL_24b54b60f2d44bc28cb6b8c956590192"
      ],
      "layout": "IPY_MODEL_c812607781ac4c2f8c7675fec7050c42"
     }
    },
    "1628cbe693fc4942ac20469dedd5af3c": {
     "model_module": "@jupyter-widgets/base",
     "model_module_version": "1.2.0",
     "model_name": "LayoutModel",
     "state": {
      "_model_module": "@jupyter-widgets/base",
      "_model_module_version": "1.2.0",
      "_model_name": "LayoutModel",
      "_view_count": null,
      "_view_module": "@jupyter-widgets/base",
      "_view_module_version": "1.2.0",
      "_view_name": "LayoutView",
      "align_content": null,
      "align_items": null,
      "align_self": null,
      "border": null,
      "bottom": null,
      "display": null,
      "flex": null,
      "flex_flow": null,
      "grid_area": null,
      "grid_auto_columns": null,
      "grid_auto_flow": null,
      "grid_auto_rows": null,
      "grid_column": null,
      "grid_gap": null,
      "grid_row": null,
      "grid_template_areas": null,
      "grid_template_columns": null,
      "grid_template_rows": null,
      "height": null,
      "justify_content": null,
      "justify_items": null,
      "left": null,
      "margin": null,
      "max_height": null,
      "max_width": null,
      "min_height": null,
      "min_width": null,
      "object_fit": null,
      "object_position": null,
      "order": null,
      "overflow": null,
      "overflow_x": null,
      "overflow_y": null,
      "padding": null,
      "right": null,
      "top": null,
      "visibility": null,
      "width": null
     }
    },
    "16891c8343a24c4e9a3e99d846b233b0": {
     "model_module": "@jupyter-widgets/base",
     "model_module_version": "1.2.0",
     "model_name": "LayoutModel",
     "state": {
      "_model_module": "@jupyter-widgets/base",
      "_model_module_version": "1.2.0",
      "_model_name": "LayoutModel",
      "_view_count": null,
      "_view_module": "@jupyter-widgets/base",
      "_view_module_version": "1.2.0",
      "_view_name": "LayoutView",
      "align_content": null,
      "align_items": null,
      "align_self": null,
      "border": null,
      "bottom": null,
      "display": null,
      "flex": null,
      "flex_flow": null,
      "grid_area": null,
      "grid_auto_columns": null,
      "grid_auto_flow": null,
      "grid_auto_rows": null,
      "grid_column": null,
      "grid_gap": null,
      "grid_row": null,
      "grid_template_areas": null,
      "grid_template_columns": null,
      "grid_template_rows": null,
      "height": null,
      "justify_content": null,
      "justify_items": null,
      "left": null,
      "margin": null,
      "max_height": null,
      "max_width": null,
      "min_height": null,
      "min_width": null,
      "object_fit": null,
      "object_position": null,
      "order": null,
      "overflow": null,
      "overflow_x": null,
      "overflow_y": null,
      "padding": null,
      "right": null,
      "top": null,
      "visibility": null,
      "width": null
     }
    },
    "1ae2b31a53bc4bf7a2adfca7617fabe4": {
     "model_module": "@jupyter-widgets/base",
     "model_module_version": "1.2.0",
     "model_name": "LayoutModel",
     "state": {
      "_model_module": "@jupyter-widgets/base",
      "_model_module_version": "1.2.0",
      "_model_name": "LayoutModel",
      "_view_count": null,
      "_view_module": "@jupyter-widgets/base",
      "_view_module_version": "1.2.0",
      "_view_name": "LayoutView",
      "align_content": null,
      "align_items": null,
      "align_self": null,
      "border": null,
      "bottom": null,
      "display": null,
      "flex": null,
      "flex_flow": null,
      "grid_area": null,
      "grid_auto_columns": null,
      "grid_auto_flow": null,
      "grid_auto_rows": null,
      "grid_column": null,
      "grid_gap": null,
      "grid_row": null,
      "grid_template_areas": null,
      "grid_template_columns": null,
      "grid_template_rows": null,
      "height": null,
      "justify_content": null,
      "justify_items": null,
      "left": null,
      "margin": null,
      "max_height": null,
      "max_width": null,
      "min_height": null,
      "min_width": null,
      "object_fit": null,
      "object_position": null,
      "order": null,
      "overflow": null,
      "overflow_x": null,
      "overflow_y": null,
      "padding": null,
      "right": null,
      "top": null,
      "visibility": null,
      "width": null
     }
    },
    "1daa9a4478624e8dbb0483a57aece80e": {
     "model_module": "@jupyter-widgets/controls",
     "model_module_version": "1.5.0",
     "model_name": "HBoxModel",
     "state": {
      "_dom_classes": [],
      "_model_module": "@jupyter-widgets/controls",
      "_model_module_version": "1.5.0",
      "_model_name": "HBoxModel",
      "_view_count": null,
      "_view_module": "@jupyter-widgets/controls",
      "_view_module_version": "1.5.0",
      "_view_name": "HBoxView",
      "box_style": "",
      "children": [
       "IPY_MODEL_acfb4e8a700841d889bfa705f8caf069",
       "IPY_MODEL_04c1f2be189e4e80b021c777841b4c97",
       "IPY_MODEL_d9a8af3346ec4e409d8d5abbbb403948"
      ],
      "layout": "IPY_MODEL_9b75a056eaa64824bae2b5ecb6b3444a"
     }
    },
    "24b54b60f2d44bc28cb6b8c956590192": {
     "model_module": "@jupyter-widgets/controls",
     "model_module_version": "1.5.0",
     "model_name": "HTMLModel",
     "state": {
      "_dom_classes": [],
      "_model_module": "@jupyter-widgets/controls",
      "_model_module_version": "1.5.0",
      "_model_name": "HTMLModel",
      "_view_count": null,
      "_view_module": "@jupyter-widgets/controls",
      "_view_module_version": "1.5.0",
      "_view_name": "HTMLView",
      "description": "",
      "description_tooltip": null,
      "layout": "IPY_MODEL_5a0a229bdd024b3fb3fc61c0ffe967b1",
      "placeholder": "​",
      "style": "IPY_MODEL_b26b67578e1b437887613c5da1a413e9",
      "value": " 17500/? [12:00&lt;00:00, 23.44it/s]"
     }
    },
    "24dbb75ef1ca43d1a358cb261136318c": {
     "model_module": "@jupyter-widgets/controls",
     "model_module_version": "1.5.0",
     "model_name": "HBoxModel",
     "state": {
      "_dom_classes": [],
      "_model_module": "@jupyter-widgets/controls",
      "_model_module_version": "1.5.0",
      "_model_name": "HBoxModel",
      "_view_count": null,
      "_view_module": "@jupyter-widgets/controls",
      "_view_module_version": "1.5.0",
      "_view_name": "HBoxView",
      "box_style": "",
      "children": [
       "IPY_MODEL_593f8b9e4ec841f194639015bbeeb472",
       "IPY_MODEL_bca0fd7897e944e394552773b61f99de",
       "IPY_MODEL_f230157317b64f2da1c083726ae24a1b"
      ],
      "layout": "IPY_MODEL_69431acf3faa4b93a15f39a1f516fecd"
     }
    },
    "25e2c56d91924ba4b61be43f24a2569a": {
     "model_module": "@jupyter-widgets/base",
     "model_module_version": "1.2.0",
     "model_name": "LayoutModel",
     "state": {
      "_model_module": "@jupyter-widgets/base",
      "_model_module_version": "1.2.0",
      "_model_name": "LayoutModel",
      "_view_count": null,
      "_view_module": "@jupyter-widgets/base",
      "_view_module_version": "1.2.0",
      "_view_name": "LayoutView",
      "align_content": null,
      "align_items": null,
      "align_self": null,
      "border": null,
      "bottom": null,
      "display": null,
      "flex": null,
      "flex_flow": null,
      "grid_area": null,
      "grid_auto_columns": null,
      "grid_auto_flow": null,
      "grid_auto_rows": null,
      "grid_column": null,
      "grid_gap": null,
      "grid_row": null,
      "grid_template_areas": null,
      "grid_template_columns": null,
      "grid_template_rows": null,
      "height": null,
      "justify_content": null,
      "justify_items": null,
      "left": null,
      "margin": null,
      "max_height": null,
      "max_width": null,
      "min_height": null,
      "min_width": null,
      "object_fit": null,
      "object_position": null,
      "order": null,
      "overflow": null,
      "overflow_x": null,
      "overflow_y": null,
      "padding": null,
      "right": null,
      "top": null,
      "visibility": null,
      "width": null
     }
    },
    "26564bc234ef472981156f01403d0f21": {
     "model_module": "@jupyter-widgets/controls",
     "model_module_version": "1.5.0",
     "model_name": "DescriptionStyleModel",
     "state": {
      "_model_module": "@jupyter-widgets/controls",
      "_model_module_version": "1.5.0",
      "_model_name": "DescriptionStyleModel",
      "_view_count": null,
      "_view_module": "@jupyter-widgets/base",
      "_view_module_version": "1.2.0",
      "_view_name": "StyleView",
      "description_width": ""
     }
    },
    "2acffa0f39d245b68df3a2a51e346dfe": {
     "model_module": "@jupyter-widgets/controls",
     "model_module_version": "1.5.0",
     "model_name": "FloatProgressModel",
     "state": {
      "_dom_classes": [],
      "_model_module": "@jupyter-widgets/controls",
      "_model_module_version": "1.5.0",
      "_model_name": "FloatProgressModel",
      "_view_count": null,
      "_view_module": "@jupyter-widgets/controls",
      "_view_module_version": "1.5.0",
      "_view_name": "ProgressView",
      "bar_style": "danger",
      "description": "",
      "description_tooltip": null,
      "layout": "IPY_MODEL_08a90de873644c158990e09998e4cede",
      "max": 1,
      "min": 0,
      "orientation": "horizontal",
      "style": "IPY_MODEL_da5efcdba82d41b0b137010e9cadbfe1",
      "value": 0
     }
    },
    "2d411c62c4a84b459082a84d43108198": {
     "model_module": "@jupyter-widgets/controls",
     "model_module_version": "1.5.0",
     "model_name": "ProgressStyleModel",
     "state": {
      "_model_module": "@jupyter-widgets/controls",
      "_model_module_version": "1.5.0",
      "_model_name": "ProgressStyleModel",
      "_view_count": null,
      "_view_module": "@jupyter-widgets/base",
      "_view_module_version": "1.2.0",
      "_view_name": "StyleView",
      "bar_color": null,
      "description_width": ""
     }
    },
    "303938c7d991436db0a72bd18d427370": {
     "model_module": "@jupyter-widgets/controls",
     "model_module_version": "1.5.0",
     "model_name": "HBoxModel",
     "state": {
      "_dom_classes": [],
      "_model_module": "@jupyter-widgets/controls",
      "_model_module_version": "1.5.0",
      "_model_name": "HBoxModel",
      "_view_count": null,
      "_view_module": "@jupyter-widgets/controls",
      "_view_module_version": "1.5.0",
      "_view_name": "HBoxView",
      "box_style": "",
      "children": [
       "IPY_MODEL_a27e434a7e384e1bb945fcb9cd788549",
       "IPY_MODEL_6d3efdc089624e718c14e1efa77b39cb",
       "IPY_MODEL_ffb967e6f9464bc1a7adf9ed2fc8341e"
      ],
      "layout": "IPY_MODEL_89ef9f21bde442f8828089e707a9b781"
     }
    },
    "30713c7ad06d493a929a36b7bf3f9411": {
     "model_module": "@jupyter-widgets/controls",
     "model_module_version": "1.5.0",
     "model_name": "DescriptionStyleModel",
     "state": {
      "_model_module": "@jupyter-widgets/controls",
      "_model_module_version": "1.5.0",
      "_model_name": "DescriptionStyleModel",
      "_view_count": null,
      "_view_module": "@jupyter-widgets/base",
      "_view_module_version": "1.2.0",
      "_view_name": "StyleView",
      "description_width": ""
     }
    },
    "310140f41159488089f09cdb29ef2425": {
     "model_module": "@jupyter-widgets/controls",
     "model_module_version": "1.5.0",
     "model_name": "DescriptionStyleModel",
     "state": {
      "_model_module": "@jupyter-widgets/controls",
      "_model_module_version": "1.5.0",
      "_model_name": "DescriptionStyleModel",
      "_view_count": null,
      "_view_module": "@jupyter-widgets/base",
      "_view_module_version": "1.2.0",
      "_view_name": "StyleView",
      "description_width": ""
     }
    },
    "3244459068104e43b7365256877f383c": {
     "model_module": "@jupyter-widgets/controls",
     "model_module_version": "1.5.0",
     "model_name": "HTMLModel",
     "state": {
      "_dom_classes": [],
      "_model_module": "@jupyter-widgets/controls",
      "_model_module_version": "1.5.0",
      "_model_name": "HTMLModel",
      "_view_count": null,
      "_view_module": "@jupyter-widgets/controls",
      "_view_module_version": "1.5.0",
      "_view_name": "HTMLView",
      "description": "",
      "description_tooltip": null,
      "layout": "IPY_MODEL_721dcad898be499682085edaac9973c1",
      "placeholder": "​",
      "style": "IPY_MODEL_26564bc234ef472981156f01403d0f21",
      "value": "100%"
     }
    },
    "3394f913fd0e42f3bb40a51c5f00995e": {
     "model_module": "@jupyter-widgets/controls",
     "model_module_version": "1.5.0",
     "model_name": "HTMLModel",
     "state": {
      "_dom_classes": [],
      "_model_module": "@jupyter-widgets/controls",
      "_model_module_version": "1.5.0",
      "_model_name": "HTMLModel",
      "_view_count": null,
      "_view_module": "@jupyter-widgets/controls",
      "_view_module_version": "1.5.0",
      "_view_name": "HTMLView",
      "description": "",
      "description_tooltip": null,
      "layout": "IPY_MODEL_1628cbe693fc4942ac20469dedd5af3c",
      "placeholder": "​",
      "style": "IPY_MODEL_419c082e312240949c171198f95ba54f",
      "value": ""
     }
    },
    "34308f8aabec452c8ad0c3b2c5316a64": {
     "model_module": "@jupyter-widgets/controls",
     "model_module_version": "1.5.0",
     "model_name": "FloatProgressModel",
     "state": {
      "_dom_classes": [],
      "_model_module": "@jupyter-widgets/controls",
      "_model_module_version": "1.5.0",
      "_model_name": "FloatProgressModel",
      "_view_count": null,
      "_view_module": "@jupyter-widgets/controls",
      "_view_module_version": "1.5.0",
      "_view_name": "ProgressView",
      "bar_style": "success",
      "description": "",
      "description_tooltip": null,
      "layout": "IPY_MODEL_9e97f9091efb470ca3403bc79bae61a6",
      "max": 1,
      "min": 0,
      "orientation": "horizontal",
      "style": "IPY_MODEL_688c328c1c9440bea795ea64f3018cb2",
      "value": 1
     }
    },
    "37b87700fb9047719035d81a8f0819c1": {
     "model_module": "@jupyter-widgets/controls",
     "model_module_version": "1.5.0",
     "model_name": "ProgressStyleModel",
     "state": {
      "_model_module": "@jupyter-widgets/controls",
      "_model_module_version": "1.5.0",
      "_model_name": "ProgressStyleModel",
      "_view_count": null,
      "_view_module": "@jupyter-widgets/base",
      "_view_module_version": "1.2.0",
      "_view_name": "StyleView",
      "bar_color": null,
      "description_width": ""
     }
    },
    "3f01725cfd96420ca9dd8ea5d991f9c3": {
     "model_module": "@jupyter-widgets/controls",
     "model_module_version": "1.5.0",
     "model_name": "DescriptionStyleModel",
     "state": {
      "_model_module": "@jupyter-widgets/controls",
      "_model_module_version": "1.5.0",
      "_model_name": "DescriptionStyleModel",
      "_view_count": null,
      "_view_module": "@jupyter-widgets/base",
      "_view_module_version": "1.2.0",
      "_view_name": "StyleView",
      "description_width": ""
     }
    },
    "4039d71fadd1459eb3095006243e2314": {
     "model_module": "@jupyter-widgets/controls",
     "model_module_version": "1.5.0",
     "model_name": "ProgressStyleModel",
     "state": {
      "_model_module": "@jupyter-widgets/controls",
      "_model_module_version": "1.5.0",
      "_model_name": "ProgressStyleModel",
      "_view_count": null,
      "_view_module": "@jupyter-widgets/base",
      "_view_module_version": "1.2.0",
      "_view_name": "StyleView",
      "bar_color": null,
      "description_width": ""
     }
    },
    "419c082e312240949c171198f95ba54f": {
     "model_module": "@jupyter-widgets/controls",
     "model_module_version": "1.5.0",
     "model_name": "DescriptionStyleModel",
     "state": {
      "_model_module": "@jupyter-widgets/controls",
      "_model_module_version": "1.5.0",
      "_model_name": "DescriptionStyleModel",
      "_view_count": null,
      "_view_module": "@jupyter-widgets/base",
      "_view_module_version": "1.2.0",
      "_view_name": "StyleView",
      "description_width": ""
     }
    },
    "44cd19392adb4d8fa68ff039157cbbd3": {
     "model_module": "@jupyter-widgets/controls",
     "model_module_version": "1.5.0",
     "model_name": "DescriptionStyleModel",
     "state": {
      "_model_module": "@jupyter-widgets/controls",
      "_model_module_version": "1.5.0",
      "_model_name": "DescriptionStyleModel",
      "_view_count": null,
      "_view_module": "@jupyter-widgets/base",
      "_view_module_version": "1.2.0",
      "_view_name": "StyleView",
      "description_width": ""
     }
    },
    "44faf0a8c71e4656a7c7918db7264cb8": {
     "model_module": "@jupyter-widgets/controls",
     "model_module_version": "1.5.0",
     "model_name": "DescriptionStyleModel",
     "state": {
      "_model_module": "@jupyter-widgets/controls",
      "_model_module_version": "1.5.0",
      "_model_name": "DescriptionStyleModel",
      "_view_count": null,
      "_view_module": "@jupyter-widgets/base",
      "_view_module_version": "1.2.0",
      "_view_name": "StyleView",
      "description_width": ""
     }
    },
    "4a58456a86a34d3089c6aaf5d8ee63b7": {
     "model_module": "@jupyter-widgets/base",
     "model_module_version": "1.2.0",
     "model_name": "LayoutModel",
     "state": {
      "_model_module": "@jupyter-widgets/base",
      "_model_module_version": "1.2.0",
      "_model_name": "LayoutModel",
      "_view_count": null,
      "_view_module": "@jupyter-widgets/base",
      "_view_module_version": "1.2.0",
      "_view_name": "LayoutView",
      "align_content": null,
      "align_items": null,
      "align_self": null,
      "border": null,
      "bottom": null,
      "display": null,
      "flex": null,
      "flex_flow": null,
      "grid_area": null,
      "grid_auto_columns": null,
      "grid_auto_flow": null,
      "grid_auto_rows": null,
      "grid_column": null,
      "grid_gap": null,
      "grid_row": null,
      "grid_template_areas": null,
      "grid_template_columns": null,
      "grid_template_rows": null,
      "height": null,
      "justify_content": null,
      "justify_items": null,
      "left": null,
      "margin": null,
      "max_height": null,
      "max_width": null,
      "min_height": null,
      "min_width": null,
      "object_fit": null,
      "object_position": null,
      "order": null,
      "overflow": null,
      "overflow_x": null,
      "overflow_y": null,
      "padding": null,
      "right": null,
      "top": null,
      "visibility": null,
      "width": null
     }
    },
    "4d02e04164534ea3b7552682c5b84e8d": {
     "model_module": "@jupyter-widgets/controls",
     "model_module_version": "1.5.0",
     "model_name": "HTMLModel",
     "state": {
      "_dom_classes": [],
      "_model_module": "@jupyter-widgets/controls",
      "_model_module_version": "1.5.0",
      "_model_name": "HTMLModel",
      "_view_count": null,
      "_view_module": "@jupyter-widgets/controls",
      "_view_module_version": "1.5.0",
      "_view_name": "HTMLView",
      "description": "",
      "description_tooltip": null,
      "layout": "IPY_MODEL_754f779b2bcd41029464bc52ef310363",
      "placeholder": "​",
      "style": "IPY_MODEL_44cd19392adb4d8fa68ff039157cbbd3",
      "value": " 7500/? [05:10&lt;00:00, 27.35it/s]"
     }
    },
    "51713fb3355d48168a7916a88b5e7d81": {
     "model_module": "@jupyter-widgets/base",
     "model_module_version": "1.2.0",
     "model_name": "LayoutModel",
     "state": {
      "_model_module": "@jupyter-widgets/base",
      "_model_module_version": "1.2.0",
      "_model_name": "LayoutModel",
      "_view_count": null,
      "_view_module": "@jupyter-widgets/base",
      "_view_module_version": "1.2.0",
      "_view_name": "LayoutView",
      "align_content": null,
      "align_items": null,
      "align_self": null,
      "border": null,
      "bottom": null,
      "display": null,
      "flex": null,
      "flex_flow": null,
      "grid_area": null,
      "grid_auto_columns": null,
      "grid_auto_flow": null,
      "grid_auto_rows": null,
      "grid_column": null,
      "grid_gap": null,
      "grid_row": null,
      "grid_template_areas": null,
      "grid_template_columns": null,
      "grid_template_rows": null,
      "height": null,
      "justify_content": null,
      "justify_items": null,
      "left": null,
      "margin": null,
      "max_height": null,
      "max_width": null,
      "min_height": null,
      "min_width": null,
      "object_fit": null,
      "object_position": null,
      "order": null,
      "overflow": null,
      "overflow_x": null,
      "overflow_y": null,
      "padding": null,
      "right": null,
      "top": null,
      "visibility": null,
      "width": null
     }
    },
    "535fce65dd4b459485fa3a97cd60aab6": {
     "model_module": "@jupyter-widgets/base",
     "model_module_version": "1.2.0",
     "model_name": "LayoutModel",
     "state": {
      "_model_module": "@jupyter-widgets/base",
      "_model_module_version": "1.2.0",
      "_model_name": "LayoutModel",
      "_view_count": null,
      "_view_module": "@jupyter-widgets/base",
      "_view_module_version": "1.2.0",
      "_view_name": "LayoutView",
      "align_content": null,
      "align_items": null,
      "align_self": null,
      "border": null,
      "bottom": null,
      "display": null,
      "flex": null,
      "flex_flow": null,
      "grid_area": null,
      "grid_auto_columns": null,
      "grid_auto_flow": null,
      "grid_auto_rows": null,
      "grid_column": null,
      "grid_gap": null,
      "grid_row": null,
      "grid_template_areas": null,
      "grid_template_columns": null,
      "grid_template_rows": null,
      "height": null,
      "justify_content": null,
      "justify_items": null,
      "left": null,
      "margin": null,
      "max_height": null,
      "max_width": null,
      "min_height": null,
      "min_width": null,
      "object_fit": null,
      "object_position": null,
      "order": null,
      "overflow": null,
      "overflow_x": null,
      "overflow_y": null,
      "padding": null,
      "right": null,
      "top": null,
      "visibility": null,
      "width": null
     }
    },
    "548d414a72ab47d8a4837a3aff4b8eef": {
     "model_module": "@jupyter-widgets/controls",
     "model_module_version": "1.5.0",
     "model_name": "HBoxModel",
     "state": {
      "_dom_classes": [],
      "_model_module": "@jupyter-widgets/controls",
      "_model_module_version": "1.5.0",
      "_model_name": "HBoxModel",
      "_view_count": null,
      "_view_module": "@jupyter-widgets/controls",
      "_view_module_version": "1.5.0",
      "_view_name": "HBoxView",
      "box_style": "",
      "children": [
       "IPY_MODEL_eeee19496c364bc390ff273ab6f542bb",
       "IPY_MODEL_8e8eb388d2aa45af84e434d77f8ac55b",
       "IPY_MODEL_4d02e04164534ea3b7552682c5b84e8d"
      ],
      "layout": "IPY_MODEL_a78a68440e58489496b4088fd9043370"
     }
    },
    "57e4b4b7f3694047a24785f5aa3171fa": {
     "model_module": "@jupyter-widgets/controls",
     "model_module_version": "1.5.0",
     "model_name": "HTMLModel",
     "state": {
      "_dom_classes": [],
      "_model_module": "@jupyter-widgets/controls",
      "_model_module_version": "1.5.0",
      "_model_name": "HTMLModel",
      "_view_count": null,
      "_view_module": "@jupyter-widgets/controls",
      "_view_module_version": "1.5.0",
      "_view_name": "HTMLView",
      "description": "",
      "description_tooltip": null,
      "layout": "IPY_MODEL_bc72270937c54f26925240108417f7ce",
      "placeholder": "​",
      "style": "IPY_MODEL_30713c7ad06d493a929a36b7bf3f9411",
      "value": " 0/? [00:00&lt;?, ?it/s]"
     }
    },
    "593f8b9e4ec841f194639015bbeeb472": {
     "model_module": "@jupyter-widgets/controls",
     "model_module_version": "1.5.0",
     "model_name": "HTMLModel",
     "state": {
      "_dom_classes": [],
      "_model_module": "@jupyter-widgets/controls",
      "_model_module_version": "1.5.0",
      "_model_name": "HTMLModel",
      "_view_count": null,
      "_view_module": "@jupyter-widgets/controls",
      "_view_module_version": "1.5.0",
      "_view_name": "HTMLView",
      "description": "",
      "description_tooltip": null,
      "layout": "IPY_MODEL_a11ede5b7b074abb98a42cf66b9f41cc",
      "placeholder": "​",
      "style": "IPY_MODEL_44faf0a8c71e4656a7c7918db7264cb8",
      "value": ""
     }
    },
    "5a0a229bdd024b3fb3fc61c0ffe967b1": {
     "model_module": "@jupyter-widgets/base",
     "model_module_version": "1.2.0",
     "model_name": "LayoutModel",
     "state": {
      "_model_module": "@jupyter-widgets/base",
      "_model_module_version": "1.2.0",
      "_model_name": "LayoutModel",
      "_view_count": null,
      "_view_module": "@jupyter-widgets/base",
      "_view_module_version": "1.2.0",
      "_view_name": "LayoutView",
      "align_content": null,
      "align_items": null,
      "align_self": null,
      "border": null,
      "bottom": null,
      "display": null,
      "flex": null,
      "flex_flow": null,
      "grid_area": null,
      "grid_auto_columns": null,
      "grid_auto_flow": null,
      "grid_auto_rows": null,
      "grid_column": null,
      "grid_gap": null,
      "grid_row": null,
      "grid_template_areas": null,
      "grid_template_columns": null,
      "grid_template_rows": null,
      "height": null,
      "justify_content": null,
      "justify_items": null,
      "left": null,
      "margin": null,
      "max_height": null,
      "max_width": null,
      "min_height": null,
      "min_width": null,
      "object_fit": null,
      "object_position": null,
      "order": null,
      "overflow": null,
      "overflow_x": null,
      "overflow_y": null,
      "padding": null,
      "right": null,
      "top": null,
      "visibility": null,
      "width": null
     }
    },
    "5be70c047c1644be82417d9640290deb": {
     "model_module": "@jupyter-widgets/controls",
     "model_module_version": "1.5.0",
     "model_name": "HTMLModel",
     "state": {
      "_dom_classes": [],
      "_model_module": "@jupyter-widgets/controls",
      "_model_module_version": "1.5.0",
      "_model_name": "HTMLModel",
      "_view_count": null,
      "_view_module": "@jupyter-widgets/controls",
      "_view_module_version": "1.5.0",
      "_view_name": "HTMLView",
      "description": "",
      "description_tooltip": null,
      "layout": "IPY_MODEL_e8c3b86fbfec419b91a7bdb9863fb72e",
      "placeholder": "​",
      "style": "IPY_MODEL_ab7fa82f390440fabcce194ccb4ab8ae",
      "value": ""
     }
    },
    "629667c8f771489ebd70d9b9ad1209cc": {
     "model_module": "@jupyter-widgets/base",
     "model_module_version": "1.2.0",
     "model_name": "LayoutModel",
     "state": {
      "_model_module": "@jupyter-widgets/base",
      "_model_module_version": "1.2.0",
      "_model_name": "LayoutModel",
      "_view_count": null,
      "_view_module": "@jupyter-widgets/base",
      "_view_module_version": "1.2.0",
      "_view_name": "LayoutView",
      "align_content": null,
      "align_items": null,
      "align_self": null,
      "border": null,
      "bottom": null,
      "display": null,
      "flex": null,
      "flex_flow": null,
      "grid_area": null,
      "grid_auto_columns": null,
      "grid_auto_flow": null,
      "grid_auto_rows": null,
      "grid_column": null,
      "grid_gap": null,
      "grid_row": null,
      "grid_template_areas": null,
      "grid_template_columns": null,
      "grid_template_rows": null,
      "height": null,
      "justify_content": null,
      "justify_items": null,
      "left": null,
      "margin": null,
      "max_height": null,
      "max_width": null,
      "min_height": null,
      "min_width": null,
      "object_fit": null,
      "object_position": null,
      "order": null,
      "overflow": null,
      "overflow_x": null,
      "overflow_y": null,
      "padding": null,
      "right": null,
      "top": null,
      "visibility": null,
      "width": "20px"
     }
    },
    "63823947fbfe40f693bbad21c64e7030": {
     "model_module": "@jupyter-widgets/controls",
     "model_module_version": "1.5.0",
     "model_name": "DescriptionStyleModel",
     "state": {
      "_model_module": "@jupyter-widgets/controls",
      "_model_module_version": "1.5.0",
      "_model_name": "DescriptionStyleModel",
      "_view_count": null,
      "_view_module": "@jupyter-widgets/base",
      "_view_module_version": "1.2.0",
      "_view_name": "StyleView",
      "description_width": ""
     }
    },
    "688c328c1c9440bea795ea64f3018cb2": {
     "model_module": "@jupyter-widgets/controls",
     "model_module_version": "1.5.0",
     "model_name": "ProgressStyleModel",
     "state": {
      "_model_module": "@jupyter-widgets/controls",
      "_model_module_version": "1.5.0",
      "_model_name": "ProgressStyleModel",
      "_view_count": null,
      "_view_module": "@jupyter-widgets/base",
      "_view_module_version": "1.2.0",
      "_view_name": "StyleView",
      "bar_color": null,
      "description_width": ""
     }
    },
    "69431acf3faa4b93a15f39a1f516fecd": {
     "model_module": "@jupyter-widgets/base",
     "model_module_version": "1.2.0",
     "model_name": "LayoutModel",
     "state": {
      "_model_module": "@jupyter-widgets/base",
      "_model_module_version": "1.2.0",
      "_model_name": "LayoutModel",
      "_view_count": null,
      "_view_module": "@jupyter-widgets/base",
      "_view_module_version": "1.2.0",
      "_view_name": "LayoutView",
      "align_content": null,
      "align_items": null,
      "align_self": null,
      "border": null,
      "bottom": null,
      "display": null,
      "flex": null,
      "flex_flow": null,
      "grid_area": null,
      "grid_auto_columns": null,
      "grid_auto_flow": null,
      "grid_auto_rows": null,
      "grid_column": null,
      "grid_gap": null,
      "grid_row": null,
      "grid_template_areas": null,
      "grid_template_columns": null,
      "grid_template_rows": null,
      "height": null,
      "justify_content": null,
      "justify_items": null,
      "left": null,
      "margin": null,
      "max_height": null,
      "max_width": null,
      "min_height": null,
      "min_width": null,
      "object_fit": null,
      "object_position": null,
      "order": null,
      "overflow": null,
      "overflow_x": null,
      "overflow_y": null,
      "padding": null,
      "right": null,
      "top": null,
      "visibility": null,
      "width": null
     }
    },
    "6d3efdc089624e718c14e1efa77b39cb": {
     "model_module": "@jupyter-widgets/controls",
     "model_module_version": "1.5.0",
     "model_name": "FloatProgressModel",
     "state": {
      "_dom_classes": [],
      "_model_module": "@jupyter-widgets/controls",
      "_model_module_version": "1.5.0",
      "_model_name": "FloatProgressModel",
      "_view_count": null,
      "_view_module": "@jupyter-widgets/controls",
      "_view_module_version": "1.5.0",
      "_view_name": "ProgressView",
      "bar_style": "success",
      "description": "",
      "description_tooltip": null,
      "layout": "IPY_MODEL_629667c8f771489ebd70d9b9ad1209cc",
      "max": 1,
      "min": 0,
      "orientation": "horizontal",
      "style": "IPY_MODEL_37b87700fb9047719035d81a8f0819c1",
      "value": 1
     }
    },
    "70b50b9d7fc54d60be270e979d94faf1": {
     "model_module": "@jupyter-widgets/controls",
     "model_module_version": "1.5.0",
     "model_name": "DescriptionStyleModel",
     "state": {
      "_model_module": "@jupyter-widgets/controls",
      "_model_module_version": "1.5.0",
      "_model_name": "DescriptionStyleModel",
      "_view_count": null,
      "_view_module": "@jupyter-widgets/base",
      "_view_module_version": "1.2.0",
      "_view_name": "StyleView",
      "description_width": ""
     }
    },
    "721dcad898be499682085edaac9973c1": {
     "model_module": "@jupyter-widgets/base",
     "model_module_version": "1.2.0",
     "model_name": "LayoutModel",
     "state": {
      "_model_module": "@jupyter-widgets/base",
      "_model_module_version": "1.2.0",
      "_model_name": "LayoutModel",
      "_view_count": null,
      "_view_module": "@jupyter-widgets/base",
      "_view_module_version": "1.2.0",
      "_view_name": "LayoutView",
      "align_content": null,
      "align_items": null,
      "align_self": null,
      "border": null,
      "bottom": null,
      "display": null,
      "flex": null,
      "flex_flow": null,
      "grid_area": null,
      "grid_auto_columns": null,
      "grid_auto_flow": null,
      "grid_auto_rows": null,
      "grid_column": null,
      "grid_gap": null,
      "grid_row": null,
      "grid_template_areas": null,
      "grid_template_columns": null,
      "grid_template_rows": null,
      "height": null,
      "justify_content": null,
      "justify_items": null,
      "left": null,
      "margin": null,
      "max_height": null,
      "max_width": null,
      "min_height": null,
      "min_width": null,
      "object_fit": null,
      "object_position": null,
      "order": null,
      "overflow": null,
      "overflow_x": null,
      "overflow_y": null,
      "padding": null,
      "right": null,
      "top": null,
      "visibility": null,
      "width": null
     }
    },
    "754f779b2bcd41029464bc52ef310363": {
     "model_module": "@jupyter-widgets/base",
     "model_module_version": "1.2.0",
     "model_name": "LayoutModel",
     "state": {
      "_model_module": "@jupyter-widgets/base",
      "_model_module_version": "1.2.0",
      "_model_name": "LayoutModel",
      "_view_count": null,
      "_view_module": "@jupyter-widgets/base",
      "_view_module_version": "1.2.0",
      "_view_name": "LayoutView",
      "align_content": null,
      "align_items": null,
      "align_self": null,
      "border": null,
      "bottom": null,
      "display": null,
      "flex": null,
      "flex_flow": null,
      "grid_area": null,
      "grid_auto_columns": null,
      "grid_auto_flow": null,
      "grid_auto_rows": null,
      "grid_column": null,
      "grid_gap": null,
      "grid_row": null,
      "grid_template_areas": null,
      "grid_template_columns": null,
      "grid_template_rows": null,
      "height": null,
      "justify_content": null,
      "justify_items": null,
      "left": null,
      "margin": null,
      "max_height": null,
      "max_width": null,
      "min_height": null,
      "min_width": null,
      "object_fit": null,
      "object_position": null,
      "order": null,
      "overflow": null,
      "overflow_x": null,
      "overflow_y": null,
      "padding": null,
      "right": null,
      "top": null,
      "visibility": null,
      "width": null
     }
    },
    "7dd7f161e0e14a7cbcd8a928268d7632": {
     "model_module": "@jupyter-widgets/controls",
     "model_module_version": "1.5.0",
     "model_name": "DescriptionStyleModel",
     "state": {
      "_model_module": "@jupyter-widgets/controls",
      "_model_module_version": "1.5.0",
      "_model_name": "DescriptionStyleModel",
      "_view_count": null,
      "_view_module": "@jupyter-widgets/base",
      "_view_module_version": "1.2.0",
      "_view_name": "StyleView",
      "description_width": ""
     }
    },
    "8370f36c563747bd96aed06e19983b1c": {
     "model_module": "@jupyter-widgets/base",
     "model_module_version": "1.2.0",
     "model_name": "LayoutModel",
     "state": {
      "_model_module": "@jupyter-widgets/base",
      "_model_module_version": "1.2.0",
      "_model_name": "LayoutModel",
      "_view_count": null,
      "_view_module": "@jupyter-widgets/base",
      "_view_module_version": "1.2.0",
      "_view_name": "LayoutView",
      "align_content": null,
      "align_items": null,
      "align_self": null,
      "border": null,
      "bottom": null,
      "display": null,
      "flex": null,
      "flex_flow": null,
      "grid_area": null,
      "grid_auto_columns": null,
      "grid_auto_flow": null,
      "grid_auto_rows": null,
      "grid_column": null,
      "grid_gap": null,
      "grid_row": null,
      "grid_template_areas": null,
      "grid_template_columns": null,
      "grid_template_rows": null,
      "height": null,
      "justify_content": null,
      "justify_items": null,
      "left": null,
      "margin": null,
      "max_height": null,
      "max_width": null,
      "min_height": null,
      "min_width": null,
      "object_fit": null,
      "object_position": null,
      "order": null,
      "overflow": null,
      "overflow_x": null,
      "overflow_y": null,
      "padding": null,
      "right": null,
      "top": null,
      "visibility": null,
      "width": null
     }
    },
    "845f095847064834a2f64aba950dac6d": {
     "model_module": "@jupyter-widgets/controls",
     "model_module_version": "1.5.0",
     "model_name": "HBoxModel",
     "state": {
      "_dom_classes": [],
      "_model_module": "@jupyter-widgets/controls",
      "_model_module_version": "1.5.0",
      "_model_name": "HBoxModel",
      "_view_count": null,
      "_view_module": "@jupyter-widgets/controls",
      "_view_module_version": "1.5.0",
      "_view_name": "HBoxView",
      "box_style": "",
      "children": [
       "IPY_MODEL_3394f913fd0e42f3bb40a51c5f00995e",
       "IPY_MODEL_0978f7e050a047af922e5554ae9bfd6b",
       "IPY_MODEL_9bdfcc0a190b42d799da508138852ad8"
      ],
      "layout": "IPY_MODEL_51713fb3355d48168a7916a88b5e7d81"
     }
    },
    "89ef9f21bde442f8828089e707a9b781": {
     "model_module": "@jupyter-widgets/base",
     "model_module_version": "1.2.0",
     "model_name": "LayoutModel",
     "state": {
      "_model_module": "@jupyter-widgets/base",
      "_model_module_version": "1.2.0",
      "_model_name": "LayoutModel",
      "_view_count": null,
      "_view_module": "@jupyter-widgets/base",
      "_view_module_version": "1.2.0",
      "_view_name": "LayoutView",
      "align_content": null,
      "align_items": null,
      "align_self": null,
      "border": null,
      "bottom": null,
      "display": null,
      "flex": null,
      "flex_flow": null,
      "grid_area": null,
      "grid_auto_columns": null,
      "grid_auto_flow": null,
      "grid_auto_rows": null,
      "grid_column": null,
      "grid_gap": null,
      "grid_row": null,
      "grid_template_areas": null,
      "grid_template_columns": null,
      "grid_template_rows": null,
      "height": null,
      "justify_content": null,
      "justify_items": null,
      "left": null,
      "margin": null,
      "max_height": null,
      "max_width": null,
      "min_height": null,
      "min_width": null,
      "object_fit": null,
      "object_position": null,
      "order": null,
      "overflow": null,
      "overflow_x": null,
      "overflow_y": null,
      "padding": null,
      "right": null,
      "top": null,
      "visibility": null,
      "width": null
     }
    },
    "8a9dc8174e6b4f0f8fdd6f0f203c6e43": {
     "model_module": "@jupyter-widgets/controls",
     "model_module_version": "1.5.0",
     "model_name": "DescriptionStyleModel",
     "state": {
      "_model_module": "@jupyter-widgets/controls",
      "_model_module_version": "1.5.0",
      "_model_name": "DescriptionStyleModel",
      "_view_count": null,
      "_view_module": "@jupyter-widgets/base",
      "_view_module_version": "1.2.0",
      "_view_name": "StyleView",
      "description_width": ""
     }
    },
    "8dc1c9dfbffd424abd6af82bad1eea94": {
     "model_module": "@jupyter-widgets/controls",
     "model_module_version": "1.5.0",
     "model_name": "ProgressStyleModel",
     "state": {
      "_model_module": "@jupyter-widgets/controls",
      "_model_module_version": "1.5.0",
      "_model_name": "ProgressStyleModel",
      "_view_count": null,
      "_view_module": "@jupyter-widgets/base",
      "_view_module_version": "1.2.0",
      "_view_name": "StyleView",
      "bar_color": null,
      "description_width": ""
     }
    },
    "8e8eb388d2aa45af84e434d77f8ac55b": {
     "model_module": "@jupyter-widgets/controls",
     "model_module_version": "1.5.0",
     "model_name": "FloatProgressModel",
     "state": {
      "_dom_classes": [],
      "_model_module": "@jupyter-widgets/controls",
      "_model_module_version": "1.5.0",
      "_model_name": "FloatProgressModel",
      "_view_count": null,
      "_view_module": "@jupyter-widgets/controls",
      "_view_module_version": "1.5.0",
      "_view_name": "ProgressView",
      "bar_style": "success",
      "description": "",
      "description_tooltip": null,
      "layout": "IPY_MODEL_12f21a0fb8f14ed299d9d9e1f395e936",
      "max": 1,
      "min": 0,
      "orientation": "horizontal",
      "style": "IPY_MODEL_9c16c9d5dfc645518637256808af75ea",
      "value": 1
     }
    },
    "946f48be17d34aada017aea1625dc22c": {
     "model_module": "@jupyter-widgets/controls",
     "model_module_version": "1.5.0",
     "model_name": "DescriptionStyleModel",
     "state": {
      "_model_module": "@jupyter-widgets/controls",
      "_model_module_version": "1.5.0",
      "_model_name": "DescriptionStyleModel",
      "_view_count": null,
      "_view_module": "@jupyter-widgets/base",
      "_view_module_version": "1.2.0",
      "_view_name": "StyleView",
      "description_width": ""
     }
    },
    "9481ea14a6bb447d9e251eed5869c2bc": {
     "model_module": "@jupyter-widgets/controls",
     "model_module_version": "1.5.0",
     "model_name": "HTMLModel",
     "state": {
      "_dom_classes": [],
      "_model_module": "@jupyter-widgets/controls",
      "_model_module_version": "1.5.0",
      "_model_name": "HTMLModel",
      "_view_count": null,
      "_view_module": "@jupyter-widgets/controls",
      "_view_module_version": "1.5.0",
      "_view_name": "HTMLView",
      "description": "",
      "description_tooltip": null,
      "layout": "IPY_MODEL_0f265be9bcf24557bfabca4b37e5c90c",
      "placeholder": "​",
      "style": "IPY_MODEL_8a9dc8174e6b4f0f8fdd6f0f203c6e43",
      "value": " 25002/25002 [02:22&lt;00:00, 180.88it/s]"
     }
    },
    "95d83e8cb63b4e60a5842bce6702cd9a": {
     "model_module": "@jupyter-widgets/controls",
     "model_module_version": "1.5.0",
     "model_name": "HBoxModel",
     "state": {
      "_dom_classes": [],
      "_model_module": "@jupyter-widgets/controls",
      "_model_module_version": "1.5.0",
      "_model_name": "HBoxModel",
      "_view_count": null,
      "_view_module": "@jupyter-widgets/controls",
      "_view_module_version": "1.5.0",
      "_view_name": "HBoxView",
      "box_style": "",
      "children": [
       "IPY_MODEL_3244459068104e43b7365256877f383c",
       "IPY_MODEL_dd77ac923d384a148d113faba15bef58",
       "IPY_MODEL_9481ea14a6bb447d9e251eed5869c2bc"
      ],
      "layout": "IPY_MODEL_535fce65dd4b459485fa3a97cd60aab6"
     }
    },
    "96b325a8c8984babab38e20d94de6119": {
     "model_module": "@jupyter-widgets/base",
     "model_module_version": "1.2.0",
     "model_name": "LayoutModel",
     "state": {
      "_model_module": "@jupyter-widgets/base",
      "_model_module_version": "1.2.0",
      "_model_name": "LayoutModel",
      "_view_count": null,
      "_view_module": "@jupyter-widgets/base",
      "_view_module_version": "1.2.0",
      "_view_name": "LayoutView",
      "align_content": null,
      "align_items": null,
      "align_self": null,
      "border": null,
      "bottom": null,
      "display": null,
      "flex": null,
      "flex_flow": null,
      "grid_area": null,
      "grid_auto_columns": null,
      "grid_auto_flow": null,
      "grid_auto_rows": null,
      "grid_column": null,
      "grid_gap": null,
      "grid_row": null,
      "grid_template_areas": null,
      "grid_template_columns": null,
      "grid_template_rows": null,
      "height": null,
      "justify_content": null,
      "justify_items": null,
      "left": null,
      "margin": null,
      "max_height": null,
      "max_width": null,
      "min_height": null,
      "min_width": null,
      "object_fit": null,
      "object_position": null,
      "order": null,
      "overflow": null,
      "overflow_x": null,
      "overflow_y": null,
      "padding": null,
      "right": null,
      "top": null,
      "visibility": null,
      "width": null
     }
    },
    "9917e682e86b44a58aa29c1f7067d2b8": {
     "model_module": "@jupyter-widgets/controls",
     "model_module_version": "1.5.0",
     "model_name": "HTMLModel",
     "state": {
      "_dom_classes": [],
      "_model_module": "@jupyter-widgets/controls",
      "_model_module_version": "1.5.0",
      "_model_name": "HTMLModel",
      "_view_count": null,
      "_view_module": "@jupyter-widgets/controls",
      "_view_module_version": "1.5.0",
      "_view_name": "HTMLView",
      "description": "",
      "description_tooltip": null,
      "layout": "IPY_MODEL_0932c1905904469f806943d4a4253f97",
      "placeholder": "​",
      "style": "IPY_MODEL_cb37c4af7b164fe59f8ada0d3991f111",
      "value": ""
     }
    },
    "9b75a056eaa64824bae2b5ecb6b3444a": {
     "model_module": "@jupyter-widgets/base",
     "model_module_version": "1.2.0",
     "model_name": "LayoutModel",
     "state": {
      "_model_module": "@jupyter-widgets/base",
      "_model_module_version": "1.2.0",
      "_model_name": "LayoutModel",
      "_view_count": null,
      "_view_module": "@jupyter-widgets/base",
      "_view_module_version": "1.2.0",
      "_view_name": "LayoutView",
      "align_content": null,
      "align_items": null,
      "align_self": null,
      "border": null,
      "bottom": null,
      "display": null,
      "flex": null,
      "flex_flow": null,
      "grid_area": null,
      "grid_auto_columns": null,
      "grid_auto_flow": null,
      "grid_auto_rows": null,
      "grid_column": null,
      "grid_gap": null,
      "grid_row": null,
      "grid_template_areas": null,
      "grid_template_columns": null,
      "grid_template_rows": null,
      "height": null,
      "justify_content": null,
      "justify_items": null,
      "left": null,
      "margin": null,
      "max_height": null,
      "max_width": null,
      "min_height": null,
      "min_width": null,
      "object_fit": null,
      "object_position": null,
      "order": null,
      "overflow": null,
      "overflow_x": null,
      "overflow_y": null,
      "padding": null,
      "right": null,
      "top": null,
      "visibility": null,
      "width": null
     }
    },
    "9bdfcc0a190b42d799da508138852ad8": {
     "model_module": "@jupyter-widgets/controls",
     "model_module_version": "1.5.0",
     "model_name": "HTMLModel",
     "state": {
      "_dom_classes": [],
      "_model_module": "@jupyter-widgets/controls",
      "_model_module_version": "1.5.0",
      "_model_name": "HTMLModel",
      "_view_count": null,
      "_view_module": "@jupyter-widgets/controls",
      "_view_module_version": "1.5.0",
      "_view_name": "HTMLView",
      "description": "",
      "description_tooltip": null,
      "layout": "IPY_MODEL_e415dc17449148089750b82156665fb5",
      "placeholder": "​",
      "style": "IPY_MODEL_310140f41159488089f09cdb29ef2425",
      "value": " 25000/? [16:41&lt;00:00, 26.64it/s]"
     }
    },
    "9c16c9d5dfc645518637256808af75ea": {
     "model_module": "@jupyter-widgets/controls",
     "model_module_version": "1.5.0",
     "model_name": "ProgressStyleModel",
     "state": {
      "_model_module": "@jupyter-widgets/controls",
      "_model_module_version": "1.5.0",
      "_model_name": "ProgressStyleModel",
      "_view_count": null,
      "_view_module": "@jupyter-widgets/base",
      "_view_module_version": "1.2.0",
      "_view_name": "StyleView",
      "bar_color": null,
      "description_width": ""
     }
    },
    "9c35b8fa306942a99198cfea4a51fb63": {
     "model_module": "@jupyter-widgets/controls",
     "model_module_version": "1.5.0",
     "model_name": "DescriptionStyleModel",
     "state": {
      "_model_module": "@jupyter-widgets/controls",
      "_model_module_version": "1.5.0",
      "_model_name": "DescriptionStyleModel",
      "_view_count": null,
      "_view_module": "@jupyter-widgets/base",
      "_view_module_version": "1.2.0",
      "_view_name": "StyleView",
      "description_width": ""
     }
    },
    "9e6a3512f49a412ca31a1a30a3aecc2b": {
     "model_module": "@jupyter-widgets/base",
     "model_module_version": "1.2.0",
     "model_name": "LayoutModel",
     "state": {
      "_model_module": "@jupyter-widgets/base",
      "_model_module_version": "1.2.0",
      "_model_name": "LayoutModel",
      "_view_count": null,
      "_view_module": "@jupyter-widgets/base",
      "_view_module_version": "1.2.0",
      "_view_name": "LayoutView",
      "align_content": null,
      "align_items": null,
      "align_self": null,
      "border": null,
      "bottom": null,
      "display": null,
      "flex": null,
      "flex_flow": null,
      "grid_area": null,
      "grid_auto_columns": null,
      "grid_auto_flow": null,
      "grid_auto_rows": null,
      "grid_column": null,
      "grid_gap": null,
      "grid_row": null,
      "grid_template_areas": null,
      "grid_template_columns": null,
      "grid_template_rows": null,
      "height": null,
      "justify_content": null,
      "justify_items": null,
      "left": null,
      "margin": null,
      "max_height": null,
      "max_width": null,
      "min_height": null,
      "min_width": null,
      "object_fit": null,
      "object_position": null,
      "order": null,
      "overflow": null,
      "overflow_x": null,
      "overflow_y": null,
      "padding": null,
      "right": null,
      "top": null,
      "visibility": null,
      "width": "20px"
     }
    },
    "9e97f9091efb470ca3403bc79bae61a6": {
     "model_module": "@jupyter-widgets/base",
     "model_module_version": "1.2.0",
     "model_name": "LayoutModel",
     "state": {
      "_model_module": "@jupyter-widgets/base",
      "_model_module_version": "1.2.0",
      "_model_name": "LayoutModel",
      "_view_count": null,
      "_view_module": "@jupyter-widgets/base",
      "_view_module_version": "1.2.0",
      "_view_name": "LayoutView",
      "align_content": null,
      "align_items": null,
      "align_self": null,
      "border": null,
      "bottom": null,
      "display": null,
      "flex": null,
      "flex_flow": null,
      "grid_area": null,
      "grid_auto_columns": null,
      "grid_auto_flow": null,
      "grid_auto_rows": null,
      "grid_column": null,
      "grid_gap": null,
      "grid_row": null,
      "grid_template_areas": null,
      "grid_template_columns": null,
      "grid_template_rows": null,
      "height": null,
      "justify_content": null,
      "justify_items": null,
      "left": null,
      "margin": null,
      "max_height": null,
      "max_width": null,
      "min_height": null,
      "min_width": null,
      "object_fit": null,
      "object_position": null,
      "order": null,
      "overflow": null,
      "overflow_x": null,
      "overflow_y": null,
      "padding": null,
      "right": null,
      "top": null,
      "visibility": null,
      "width": "20px"
     }
    },
    "a11ede5b7b074abb98a42cf66b9f41cc": {
     "model_module": "@jupyter-widgets/base",
     "model_module_version": "1.2.0",
     "model_name": "LayoutModel",
     "state": {
      "_model_module": "@jupyter-widgets/base",
      "_model_module_version": "1.2.0",
      "_model_name": "LayoutModel",
      "_view_count": null,
      "_view_module": "@jupyter-widgets/base",
      "_view_module_version": "1.2.0",
      "_view_name": "LayoutView",
      "align_content": null,
      "align_items": null,
      "align_self": null,
      "border": null,
      "bottom": null,
      "display": null,
      "flex": null,
      "flex_flow": null,
      "grid_area": null,
      "grid_auto_columns": null,
      "grid_auto_flow": null,
      "grid_auto_rows": null,
      "grid_column": null,
      "grid_gap": null,
      "grid_row": null,
      "grid_template_areas": null,
      "grid_template_columns": null,
      "grid_template_rows": null,
      "height": null,
      "justify_content": null,
      "justify_items": null,
      "left": null,
      "margin": null,
      "max_height": null,
      "max_width": null,
      "min_height": null,
      "min_width": null,
      "object_fit": null,
      "object_position": null,
      "order": null,
      "overflow": null,
      "overflow_x": null,
      "overflow_y": null,
      "padding": null,
      "right": null,
      "top": null,
      "visibility": null,
      "width": null
     }
    },
    "a1a0d0b69a5b4143bc8971d95813ec39": {
     "model_module": "@jupyter-widgets/controls",
     "model_module_version": "1.5.0",
     "model_name": "FloatProgressModel",
     "state": {
      "_dom_classes": [],
      "_model_module": "@jupyter-widgets/controls",
      "_model_module_version": "1.5.0",
      "_model_name": "FloatProgressModel",
      "_view_count": null,
      "_view_module": "@jupyter-widgets/controls",
      "_view_module_version": "1.5.0",
      "_view_name": "ProgressView",
      "bar_style": "success",
      "description": "",
      "description_tooltip": null,
      "layout": "IPY_MODEL_c70bde38b81c44ccace664ed05ed2bf0",
      "max": 1,
      "min": 0,
      "orientation": "horizontal",
      "style": "IPY_MODEL_b47b5927a3e148a1a7b4fa6f42981ba4",
      "value": 1
     }
    },
    "a27e434a7e384e1bb945fcb9cd788549": {
     "model_module": "@jupyter-widgets/controls",
     "model_module_version": "1.5.0",
     "model_name": "HTMLModel",
     "state": {
      "_dom_classes": [],
      "_model_module": "@jupyter-widgets/controls",
      "_model_module_version": "1.5.0",
      "_model_name": "HTMLModel",
      "_view_count": null,
      "_view_module": "@jupyter-widgets/controls",
      "_view_module_version": "1.5.0",
      "_view_name": "HTMLView",
      "description": "",
      "description_tooltip": null,
      "layout": "IPY_MODEL_c277ef80a2814657967e37fb15755789",
      "placeholder": "​",
      "style": "IPY_MODEL_63823947fbfe40f693bbad21c64e7030",
      "value": ""
     }
    },
    "a2ee80276be342189cf038e210805022": {
     "model_module": "@jupyter-widgets/base",
     "model_module_version": "1.2.0",
     "model_name": "LayoutModel",
     "state": {
      "_model_module": "@jupyter-widgets/base",
      "_model_module_version": "1.2.0",
      "_model_name": "LayoutModel",
      "_view_count": null,
      "_view_module": "@jupyter-widgets/base",
      "_view_module_version": "1.2.0",
      "_view_name": "LayoutView",
      "align_content": null,
      "align_items": null,
      "align_self": null,
      "border": null,
      "bottom": null,
      "display": null,
      "flex": null,
      "flex_flow": null,
      "grid_area": null,
      "grid_auto_columns": null,
      "grid_auto_flow": null,
      "grid_auto_rows": null,
      "grid_column": null,
      "grid_gap": null,
      "grid_row": null,
      "grid_template_areas": null,
      "grid_template_columns": null,
      "grid_template_rows": null,
      "height": null,
      "justify_content": null,
      "justify_items": null,
      "left": null,
      "margin": null,
      "max_height": null,
      "max_width": null,
      "min_height": null,
      "min_width": null,
      "object_fit": null,
      "object_position": null,
      "order": null,
      "overflow": null,
      "overflow_x": null,
      "overflow_y": null,
      "padding": null,
      "right": null,
      "top": null,
      "visibility": null,
      "width": "20px"
     }
    },
    "a78a68440e58489496b4088fd9043370": {
     "model_module": "@jupyter-widgets/base",
     "model_module_version": "1.2.0",
     "model_name": "LayoutModel",
     "state": {
      "_model_module": "@jupyter-widgets/base",
      "_model_module_version": "1.2.0",
      "_model_name": "LayoutModel",
      "_view_count": null,
      "_view_module": "@jupyter-widgets/base",
      "_view_module_version": "1.2.0",
      "_view_name": "LayoutView",
      "align_content": null,
      "align_items": null,
      "align_self": null,
      "border": null,
      "bottom": null,
      "display": null,
      "flex": null,
      "flex_flow": null,
      "grid_area": null,
      "grid_auto_columns": null,
      "grid_auto_flow": null,
      "grid_auto_rows": null,
      "grid_column": null,
      "grid_gap": null,
      "grid_row": null,
      "grid_template_areas": null,
      "grid_template_columns": null,
      "grid_template_rows": null,
      "height": null,
      "justify_content": null,
      "justify_items": null,
      "left": null,
      "margin": null,
      "max_height": null,
      "max_width": null,
      "min_height": null,
      "min_width": null,
      "object_fit": null,
      "object_position": null,
      "order": null,
      "overflow": null,
      "overflow_x": null,
      "overflow_y": null,
      "padding": null,
      "right": null,
      "top": null,
      "visibility": null,
      "width": null
     }
    },
    "ab7fa82f390440fabcce194ccb4ab8ae": {
     "model_module": "@jupyter-widgets/controls",
     "model_module_version": "1.5.0",
     "model_name": "DescriptionStyleModel",
     "state": {
      "_model_module": "@jupyter-widgets/controls",
      "_model_module_version": "1.5.0",
      "_model_name": "DescriptionStyleModel",
      "_view_count": null,
      "_view_module": "@jupyter-widgets/base",
      "_view_module_version": "1.2.0",
      "_view_name": "StyleView",
      "description_width": ""
     }
    },
    "acfb4e8a700841d889bfa705f8caf069": {
     "model_module": "@jupyter-widgets/controls",
     "model_module_version": "1.5.0",
     "model_name": "HTMLModel",
     "state": {
      "_dom_classes": [],
      "_model_module": "@jupyter-widgets/controls",
      "_model_module_version": "1.5.0",
      "_model_name": "HTMLModel",
      "_view_count": null,
      "_view_module": "@jupyter-widgets/controls",
      "_view_module_version": "1.5.0",
      "_view_name": "HTMLView",
      "description": "",
      "description_tooltip": null,
      "layout": "IPY_MODEL_1ae2b31a53bc4bf7a2adfca7617fabe4",
      "placeholder": "​",
      "style": "IPY_MODEL_946f48be17d34aada017aea1625dc22c",
      "value": "100%"
     }
    },
    "ad3d615985f346009428edd8e89bd100": {
     "model_module": "@jupyter-widgets/controls",
     "model_module_version": "1.5.0",
     "model_name": "HBoxModel",
     "state": {
      "_dom_classes": [],
      "_model_module": "@jupyter-widgets/controls",
      "_model_module_version": "1.5.0",
      "_model_name": "HBoxModel",
      "_view_count": null,
      "_view_module": "@jupyter-widgets/controls",
      "_view_module_version": "1.5.0",
      "_view_name": "HBoxView",
      "box_style": "",
      "children": [
       "IPY_MODEL_cfd501f757dd414ab59095f97aa4bd77",
       "IPY_MODEL_2acffa0f39d245b68df3a2a51e346dfe",
       "IPY_MODEL_57e4b4b7f3694047a24785f5aa3171fa"
      ],
      "layout": "IPY_MODEL_c2b9358145ff4285a55eb20f76458db1"
     }
    },
    "b26b67578e1b437887613c5da1a413e9": {
     "model_module": "@jupyter-widgets/controls",
     "model_module_version": "1.5.0",
     "model_name": "DescriptionStyleModel",
     "state": {
      "_model_module": "@jupyter-widgets/controls",
      "_model_module_version": "1.5.0",
      "_model_name": "DescriptionStyleModel",
      "_view_count": null,
      "_view_module": "@jupyter-widgets/base",
      "_view_module_version": "1.2.0",
      "_view_name": "StyleView",
      "description_width": ""
     }
    },
    "b47b5927a3e148a1a7b4fa6f42981ba4": {
     "model_module": "@jupyter-widgets/controls",
     "model_module_version": "1.5.0",
     "model_name": "ProgressStyleModel",
     "state": {
      "_model_module": "@jupyter-widgets/controls",
      "_model_module_version": "1.5.0",
      "_model_name": "ProgressStyleModel",
      "_view_count": null,
      "_view_module": "@jupyter-widgets/base",
      "_view_module_version": "1.2.0",
      "_view_name": "StyleView",
      "bar_color": null,
      "description_width": ""
     }
    },
    "b5d34cf6eca948be8487860676f06548": {
     "model_module": "@jupyter-widgets/controls",
     "model_module_version": "1.5.0",
     "model_name": "DescriptionStyleModel",
     "state": {
      "_model_module": "@jupyter-widgets/controls",
      "_model_module_version": "1.5.0",
      "_model_name": "DescriptionStyleModel",
      "_view_count": null,
      "_view_module": "@jupyter-widgets/base",
      "_view_module_version": "1.2.0",
      "_view_name": "StyleView",
      "description_width": ""
     }
    },
    "bc72270937c54f26925240108417f7ce": {
     "model_module": "@jupyter-widgets/base",
     "model_module_version": "1.2.0",
     "model_name": "LayoutModel",
     "state": {
      "_model_module": "@jupyter-widgets/base",
      "_model_module_version": "1.2.0",
      "_model_name": "LayoutModel",
      "_view_count": null,
      "_view_module": "@jupyter-widgets/base",
      "_view_module_version": "1.2.0",
      "_view_name": "LayoutView",
      "align_content": null,
      "align_items": null,
      "align_self": null,
      "border": null,
      "bottom": null,
      "display": null,
      "flex": null,
      "flex_flow": null,
      "grid_area": null,
      "grid_auto_columns": null,
      "grid_auto_flow": null,
      "grid_auto_rows": null,
      "grid_column": null,
      "grid_gap": null,
      "grid_row": null,
      "grid_template_areas": null,
      "grid_template_columns": null,
      "grid_template_rows": null,
      "height": null,
      "justify_content": null,
      "justify_items": null,
      "left": null,
      "margin": null,
      "max_height": null,
      "max_width": null,
      "min_height": null,
      "min_width": null,
      "object_fit": null,
      "object_position": null,
      "order": null,
      "overflow": null,
      "overflow_x": null,
      "overflow_y": null,
      "padding": null,
      "right": null,
      "top": null,
      "visibility": null,
      "width": null
     }
    },
    "bca0fd7897e944e394552773b61f99de": {
     "model_module": "@jupyter-widgets/controls",
     "model_module_version": "1.5.0",
     "model_name": "FloatProgressModel",
     "state": {
      "_dom_classes": [],
      "_model_module": "@jupyter-widgets/controls",
      "_model_module_version": "1.5.0",
      "_model_name": "FloatProgressModel",
      "_view_count": null,
      "_view_module": "@jupyter-widgets/controls",
      "_view_module_version": "1.5.0",
      "_view_name": "ProgressView",
      "bar_style": "success",
      "description": "",
      "description_tooltip": null,
      "layout": "IPY_MODEL_a2ee80276be342189cf038e210805022",
      "max": 1,
      "min": 0,
      "orientation": "horizontal",
      "style": "IPY_MODEL_2d411c62c4a84b459082a84d43108198",
      "value": 1
     }
    },
    "c277ef80a2814657967e37fb15755789": {
     "model_module": "@jupyter-widgets/base",
     "model_module_version": "1.2.0",
     "model_name": "LayoutModel",
     "state": {
      "_model_module": "@jupyter-widgets/base",
      "_model_module_version": "1.2.0",
      "_model_name": "LayoutModel",
      "_view_count": null,
      "_view_module": "@jupyter-widgets/base",
      "_view_module_version": "1.2.0",
      "_view_name": "LayoutView",
      "align_content": null,
      "align_items": null,
      "align_self": null,
      "border": null,
      "bottom": null,
      "display": null,
      "flex": null,
      "flex_flow": null,
      "grid_area": null,
      "grid_auto_columns": null,
      "grid_auto_flow": null,
      "grid_auto_rows": null,
      "grid_column": null,
      "grid_gap": null,
      "grid_row": null,
      "grid_template_areas": null,
      "grid_template_columns": null,
      "grid_template_rows": null,
      "height": null,
      "justify_content": null,
      "justify_items": null,
      "left": null,
      "margin": null,
      "max_height": null,
      "max_width": null,
      "min_height": null,
      "min_width": null,
      "object_fit": null,
      "object_position": null,
      "order": null,
      "overflow": null,
      "overflow_x": null,
      "overflow_y": null,
      "padding": null,
      "right": null,
      "top": null,
      "visibility": null,
      "width": null
     }
    },
    "c2b9358145ff4285a55eb20f76458db1": {
     "model_module": "@jupyter-widgets/base",
     "model_module_version": "1.2.0",
     "model_name": "LayoutModel",
     "state": {
      "_model_module": "@jupyter-widgets/base",
      "_model_module_version": "1.2.0",
      "_model_name": "LayoutModel",
      "_view_count": null,
      "_view_module": "@jupyter-widgets/base",
      "_view_module_version": "1.2.0",
      "_view_name": "LayoutView",
      "align_content": null,
      "align_items": null,
      "align_self": null,
      "border": null,
      "bottom": null,
      "display": null,
      "flex": null,
      "flex_flow": null,
      "grid_area": null,
      "grid_auto_columns": null,
      "grid_auto_flow": null,
      "grid_auto_rows": null,
      "grid_column": null,
      "grid_gap": null,
      "grid_row": null,
      "grid_template_areas": null,
      "grid_template_columns": null,
      "grid_template_rows": null,
      "height": null,
      "justify_content": null,
      "justify_items": null,
      "left": null,
      "margin": null,
      "max_height": null,
      "max_width": null,
      "min_height": null,
      "min_width": null,
      "object_fit": null,
      "object_position": null,
      "order": null,
      "overflow": null,
      "overflow_x": null,
      "overflow_y": null,
      "padding": null,
      "right": null,
      "top": null,
      "visibility": null,
      "width": null
     }
    },
    "c70bde38b81c44ccace664ed05ed2bf0": {
     "model_module": "@jupyter-widgets/base",
     "model_module_version": "1.2.0",
     "model_name": "LayoutModel",
     "state": {
      "_model_module": "@jupyter-widgets/base",
      "_model_module_version": "1.2.0",
      "_model_name": "LayoutModel",
      "_view_count": null,
      "_view_module": "@jupyter-widgets/base",
      "_view_module_version": "1.2.0",
      "_view_name": "LayoutView",
      "align_content": null,
      "align_items": null,
      "align_self": null,
      "border": null,
      "bottom": null,
      "display": null,
      "flex": null,
      "flex_flow": null,
      "grid_area": null,
      "grid_auto_columns": null,
      "grid_auto_flow": null,
      "grid_auto_rows": null,
      "grid_column": null,
      "grid_gap": null,
      "grid_row": null,
      "grid_template_areas": null,
      "grid_template_columns": null,
      "grid_template_rows": null,
      "height": null,
      "justify_content": null,
      "justify_items": null,
      "left": null,
      "margin": null,
      "max_height": null,
      "max_width": null,
      "min_height": null,
      "min_width": null,
      "object_fit": null,
      "object_position": null,
      "order": null,
      "overflow": null,
      "overflow_x": null,
      "overflow_y": null,
      "padding": null,
      "right": null,
      "top": null,
      "visibility": null,
      "width": "20px"
     }
    },
    "c812607781ac4c2f8c7675fec7050c42": {
     "model_module": "@jupyter-widgets/base",
     "model_module_version": "1.2.0",
     "model_name": "LayoutModel",
     "state": {
      "_model_module": "@jupyter-widgets/base",
      "_model_module_version": "1.2.0",
      "_model_name": "LayoutModel",
      "_view_count": null,
      "_view_module": "@jupyter-widgets/base",
      "_view_module_version": "1.2.0",
      "_view_name": "LayoutView",
      "align_content": null,
      "align_items": null,
      "align_self": null,
      "border": null,
      "bottom": null,
      "display": null,
      "flex": null,
      "flex_flow": null,
      "grid_area": null,
      "grid_auto_columns": null,
      "grid_auto_flow": null,
      "grid_auto_rows": null,
      "grid_column": null,
      "grid_gap": null,
      "grid_row": null,
      "grid_template_areas": null,
      "grid_template_columns": null,
      "grid_template_rows": null,
      "height": null,
      "justify_content": null,
      "justify_items": null,
      "left": null,
      "margin": null,
      "max_height": null,
      "max_width": null,
      "min_height": null,
      "min_width": null,
      "object_fit": null,
      "object_position": null,
      "order": null,
      "overflow": null,
      "overflow_x": null,
      "overflow_y": null,
      "padding": null,
      "right": null,
      "top": null,
      "visibility": null,
      "width": null
     }
    },
    "cb37c4af7b164fe59f8ada0d3991f111": {
     "model_module": "@jupyter-widgets/controls",
     "model_module_version": "1.5.0",
     "model_name": "DescriptionStyleModel",
     "state": {
      "_model_module": "@jupyter-widgets/controls",
      "_model_module_version": "1.5.0",
      "_model_name": "DescriptionStyleModel",
      "_view_count": null,
      "_view_module": "@jupyter-widgets/base",
      "_view_module_version": "1.2.0",
      "_view_name": "StyleView",
      "description_width": ""
     }
    },
    "cfd501f757dd414ab59095f97aa4bd77": {
     "model_module": "@jupyter-widgets/controls",
     "model_module_version": "1.5.0",
     "model_name": "HTMLModel",
     "state": {
      "_dom_classes": [],
      "_model_module": "@jupyter-widgets/controls",
      "_model_module_version": "1.5.0",
      "_model_name": "HTMLModel",
      "_view_count": null,
      "_view_module": "@jupyter-widgets/controls",
      "_view_module_version": "1.5.0",
      "_view_name": "HTMLView",
      "description": "",
      "description_tooltip": null,
      "layout": "IPY_MODEL_e825fc03d0864e7b8c33683eb91d144b",
      "placeholder": "​",
      "style": "IPY_MODEL_9c35b8fa306942a99198cfea4a51fb63",
      "value": ""
     }
    },
    "d9a8af3346ec4e409d8d5abbbb403948": {
     "model_module": "@jupyter-widgets/controls",
     "model_module_version": "1.5.0",
     "model_name": "HTMLModel",
     "state": {
      "_dom_classes": [],
      "_model_module": "@jupyter-widgets/controls",
      "_model_module_version": "1.5.0",
      "_model_name": "HTMLModel",
      "_view_count": null,
      "_view_module": "@jupyter-widgets/controls",
      "_view_module_version": "1.5.0",
      "_view_name": "HTMLView",
      "description": "",
      "description_tooltip": null,
      "layout": "IPY_MODEL_0e96106a3ad14289bf35ec24d8c652ec",
      "placeholder": "​",
      "style": "IPY_MODEL_7dd7f161e0e14a7cbcd8a928268d7632",
      "value": " 17500/17500 [00:18&lt;00:00, 930.36it/s]"
     }
    },
    "da5efcdba82d41b0b137010e9cadbfe1": {
     "model_module": "@jupyter-widgets/controls",
     "model_module_version": "1.5.0",
     "model_name": "ProgressStyleModel",
     "state": {
      "_model_module": "@jupyter-widgets/controls",
      "_model_module_version": "1.5.0",
      "_model_name": "ProgressStyleModel",
      "_view_count": null,
      "_view_module": "@jupyter-widgets/base",
      "_view_module_version": "1.2.0",
      "_view_name": "StyleView",
      "bar_color": null,
      "description_width": ""
     }
    },
    "dd77ac923d384a148d113faba15bef58": {
     "model_module": "@jupyter-widgets/controls",
     "model_module_version": "1.5.0",
     "model_name": "FloatProgressModel",
     "state": {
      "_dom_classes": [],
      "_model_module": "@jupyter-widgets/controls",
      "_model_module_version": "1.5.0",
      "_model_name": "FloatProgressModel",
      "_view_count": null,
      "_view_module": "@jupyter-widgets/controls",
      "_view_module_version": "1.5.0",
      "_view_name": "ProgressView",
      "bar_style": "success",
      "description": "",
      "description_tooltip": null,
      "layout": "IPY_MODEL_11fb49b0b85443d2a5a545bba0548caa",
      "max": 25002,
      "min": 0,
      "orientation": "horizontal",
      "style": "IPY_MODEL_f6c76451ef4448b5a03b03dbd4ef754e",
      "value": 25002
     }
    },
    "e415dc17449148089750b82156665fb5": {
     "model_module": "@jupyter-widgets/base",
     "model_module_version": "1.2.0",
     "model_name": "LayoutModel",
     "state": {
      "_model_module": "@jupyter-widgets/base",
      "_model_module_version": "1.2.0",
      "_model_name": "LayoutModel",
      "_view_count": null,
      "_view_module": "@jupyter-widgets/base",
      "_view_module_version": "1.2.0",
      "_view_name": "LayoutView",
      "align_content": null,
      "align_items": null,
      "align_self": null,
      "border": null,
      "bottom": null,
      "display": null,
      "flex": null,
      "flex_flow": null,
      "grid_area": null,
      "grid_auto_columns": null,
      "grid_auto_flow": null,
      "grid_auto_rows": null,
      "grid_column": null,
      "grid_gap": null,
      "grid_row": null,
      "grid_template_areas": null,
      "grid_template_columns": null,
      "grid_template_rows": null,
      "height": null,
      "justify_content": null,
      "justify_items": null,
      "left": null,
      "margin": null,
      "max_height": null,
      "max_width": null,
      "min_height": null,
      "min_width": null,
      "object_fit": null,
      "object_position": null,
      "order": null,
      "overflow": null,
      "overflow_x": null,
      "overflow_y": null,
      "padding": null,
      "right": null,
      "top": null,
      "visibility": null,
      "width": null
     }
    },
    "e825fc03d0864e7b8c33683eb91d144b": {
     "model_module": "@jupyter-widgets/base",
     "model_module_version": "1.2.0",
     "model_name": "LayoutModel",
     "state": {
      "_model_module": "@jupyter-widgets/base",
      "_model_module_version": "1.2.0",
      "_model_name": "LayoutModel",
      "_view_count": null,
      "_view_module": "@jupyter-widgets/base",
      "_view_module_version": "1.2.0",
      "_view_name": "LayoutView",
      "align_content": null,
      "align_items": null,
      "align_self": null,
      "border": null,
      "bottom": null,
      "display": null,
      "flex": null,
      "flex_flow": null,
      "grid_area": null,
      "grid_auto_columns": null,
      "grid_auto_flow": null,
      "grid_auto_rows": null,
      "grid_column": null,
      "grid_gap": null,
      "grid_row": null,
      "grid_template_areas": null,
      "grid_template_columns": null,
      "grid_template_rows": null,
      "height": null,
      "justify_content": null,
      "justify_items": null,
      "left": null,
      "margin": null,
      "max_height": null,
      "max_width": null,
      "min_height": null,
      "min_width": null,
      "object_fit": null,
      "object_position": null,
      "order": null,
      "overflow": null,
      "overflow_x": null,
      "overflow_y": null,
      "padding": null,
      "right": null,
      "top": null,
      "visibility": null,
      "width": null
     }
    },
    "e8c3b86fbfec419b91a7bdb9863fb72e": {
     "model_module": "@jupyter-widgets/base",
     "model_module_version": "1.2.0",
     "model_name": "LayoutModel",
     "state": {
      "_model_module": "@jupyter-widgets/base",
      "_model_module_version": "1.2.0",
      "_model_name": "LayoutModel",
      "_view_count": null,
      "_view_module": "@jupyter-widgets/base",
      "_view_module_version": "1.2.0",
      "_view_name": "LayoutView",
      "align_content": null,
      "align_items": null,
      "align_self": null,
      "border": null,
      "bottom": null,
      "display": null,
      "flex": null,
      "flex_flow": null,
      "grid_area": null,
      "grid_auto_columns": null,
      "grid_auto_flow": null,
      "grid_auto_rows": null,
      "grid_column": null,
      "grid_gap": null,
      "grid_row": null,
      "grid_template_areas": null,
      "grid_template_columns": null,
      "grid_template_rows": null,
      "height": null,
      "justify_content": null,
      "justify_items": null,
      "left": null,
      "margin": null,
      "max_height": null,
      "max_width": null,
      "min_height": null,
      "min_width": null,
      "object_fit": null,
      "object_position": null,
      "order": null,
      "overflow": null,
      "overflow_x": null,
      "overflow_y": null,
      "padding": null,
      "right": null,
      "top": null,
      "visibility": null,
      "width": null
     }
    },
    "eaea5de79671441483bb2562dd6f1ea5": {
     "model_module": "@jupyter-widgets/controls",
     "model_module_version": "1.5.0",
     "model_name": "DescriptionStyleModel",
     "state": {
      "_model_module": "@jupyter-widgets/controls",
      "_model_module_version": "1.5.0",
      "_model_name": "DescriptionStyleModel",
      "_view_count": null,
      "_view_module": "@jupyter-widgets/base",
      "_view_module_version": "1.2.0",
      "_view_name": "StyleView",
      "description_width": ""
     }
    },
    "eeee19496c364bc390ff273ab6f542bb": {
     "model_module": "@jupyter-widgets/controls",
     "model_module_version": "1.5.0",
     "model_name": "HTMLModel",
     "state": {
      "_dom_classes": [],
      "_model_module": "@jupyter-widgets/controls",
      "_model_module_version": "1.5.0",
      "_model_name": "HTMLModel",
      "_view_count": null,
      "_view_module": "@jupyter-widgets/controls",
      "_view_module_version": "1.5.0",
      "_view_name": "HTMLView",
      "description": "",
      "description_tooltip": null,
      "layout": "IPY_MODEL_96b325a8c8984babab38e20d94de6119",
      "placeholder": "​",
      "style": "IPY_MODEL_b5d34cf6eca948be8487860676f06548",
      "value": ""
     }
    },
    "f230157317b64f2da1c083726ae24a1b": {
     "model_module": "@jupyter-widgets/controls",
     "model_module_version": "1.5.0",
     "model_name": "HTMLModel",
     "state": {
      "_dom_classes": [],
      "_model_module": "@jupyter-widgets/controls",
      "_model_module_version": "1.5.0",
      "_model_name": "HTMLModel",
      "_view_count": null,
      "_view_module": "@jupyter-widgets/controls",
      "_view_module_version": "1.5.0",
      "_view_name": "HTMLView",
      "description": "",
      "description_tooltip": null,
      "layout": "IPY_MODEL_8370f36c563747bd96aed06e19983b1c",
      "placeholder": "​",
      "style": "IPY_MODEL_70b50b9d7fc54d60be270e979d94faf1",
      "value": " 25000/? [11:14&lt;00:00, 37.09it/s]"
     }
    },
    "f6c76451ef4448b5a03b03dbd4ef754e": {
     "model_module": "@jupyter-widgets/controls",
     "model_module_version": "1.5.0",
     "model_name": "ProgressStyleModel",
     "state": {
      "_model_module": "@jupyter-widgets/controls",
      "_model_module_version": "1.5.0",
      "_model_name": "ProgressStyleModel",
      "_view_count": null,
      "_view_module": "@jupyter-widgets/base",
      "_view_module_version": "1.2.0",
      "_view_name": "StyleView",
      "bar_color": null,
      "description_width": ""
     }
    },
    "ffb967e6f9464bc1a7adf9ed2fc8341e": {
     "model_module": "@jupyter-widgets/controls",
     "model_module_version": "1.5.0",
     "model_name": "HTMLModel",
     "state": {
      "_dom_classes": [],
      "_model_module": "@jupyter-widgets/controls",
      "_model_module_version": "1.5.0",
      "_model_name": "HTMLModel",
      "_view_count": null,
      "_view_module": "@jupyter-widgets/controls",
      "_view_module_version": "1.5.0",
      "_view_name": "HTMLView",
      "description": "",
      "description_tooltip": null,
      "layout": "IPY_MODEL_16891c8343a24c4e9a3e99d846b233b0",
      "placeholder": "​",
      "style": "IPY_MODEL_eaea5de79671441483bb2562dd6f1ea5",
      "value": " 7500/? [03:32&lt;00:00, 31.02it/s]"
     }
    }
   }
  }
 },
 "nbformat": 4,
 "nbformat_minor": 1
}
