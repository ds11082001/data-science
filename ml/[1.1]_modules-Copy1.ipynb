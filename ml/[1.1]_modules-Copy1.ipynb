{
 "cells": [
  {
   "cell_type": "markdown",
   "metadata": {
    "id": "RIDgsmtTLT89"
   },
   "source": [
    "См. сначала **`[0.1]_train_model.ipynb`**, в котором описана структура этого задания.  \n",
    "\n",
    "После вполнения этого ноутбука см. **`[2.1]_test_modules.ipynb`** для проверки работы всех компонент."
   ]
  },
  {
   "cell_type": "markdown",
   "metadata": {
    "id": "lc6-Qyju5HaT"
   },
   "source": [
    "## Важно\n",
    "Этот ноутбук является продолжением ноутбука `[1]_task8_modules.ipynb`.  \n",
    "\n",
    "Все модули из прошлого задания уже реализованы. Теперь нужно реализовать слои `Dropout` для борьбы с переобучением, `Batchnorm` и `Scaling` для реализации слоя батч-нормализации, `Flatten` для преобразования размерностей тензоров, две функции активации `LeakyReLU`и `ELU`, и, наконец, любой из оптимизаторов, которые мы разобрали на прошлом занятии, кроме обычного `SGD`. \n",
    "\n",
    "Обратите внимание на то, что был дополнен модуль `Module`. Был добавлен атрибут `trainig`, а также методы `train` и `evaluate`. Это нововведение связано с тем, что `Dropout` и `Batchnorm` работают по-разному в фазах обучения и применения обученной модели.\n",
    "\n",
    "Если вы выполняли прошлое задание, то можно сразу  *перейти к блоку с реализацией*, пропустив блок с мотивацией и проектированием фреймворка. "
   ]
  },
  {
   "cell_type": "markdown",
   "metadata": {
    "id": "CQjtx_23LT9E"
   },
   "source": [
    "## Мотивация"
   ]
  },
  {
   "cell_type": "markdown",
   "metadata": {
    "id": "E8NbmAcwLT9F"
   },
   "source": [
    "<img src=\"https://i.pinimg.com/originals/2f/49/84/2f4984329848be3825c17672beef797e.png\" width=550>"
   ]
  },
  {
   "cell_type": "markdown",
   "metadata": {
    "id": "9KAXzni-LT9G"
   },
   "source": [
    "Мы хотим построить \"с нуля\" свой мини-фреймворк для обучения нейронных сетей. Он должен позволять создавать, обучать и тестировать нейросети. Как известно из лекции и семинара, **цикл обучения нейросети** выглядит так:\n",
    "\n",
    "```\n",
    "# однослойная нейросеть \n",
    "model = Sequential()\n",
    "model.add(Linear(2,2))\n",
    "model.add(LogSoftMax())\n",
    "\n",
    "criterion = NLLCriterion()\n",
    "\n",
    "optimizer = SGD(lr=1e-2, momentum=0.9)\n",
    "\n",
    "# одна эпоха -- один проход по обучающей выборке\n",
    "for i in range(n_epoch):\n",
    "    # одна итерация -- один батч\n",
    "    for x_batch, y_batch in train_generator(sample, labels, batch_size):\n",
    "        # Обнуляем градиенты с предыдущей итерации\n",
    "        model.zero_grad_params()\n",
    "        # Forward pass\n",
    "        predictions = model.forward(x_batch)\n",
    "        loss = criterion.forward(predictions, y_batch)\n",
    "        # Backward pass\n",
    "        last_grad_input = criterion.backward(predictions, y_batch)\n",
    "        model.backward(x_batch, last_grad_input)\n",
    "        # Обновление весов\n",
    "        optimizer(\n",
    "            model.get_params(), \n",
    "            model.get_grad_params(), \n",
    "            opt_params,\n",
    "            opt_state\n",
    "        )\n",
    " ```\n",
    " \n",
    "Одна итерация внутреннего цикла называется **одной итерацией обучения нейросети**. Одна итерация внешнего цикла называется **одной эпохой обучения нейросети**."
   ]
  },
  {
   "cell_type": "markdown",
   "metadata": {
    "id": "pMqw-W-6LT9H"
   },
   "source": [
    "## Проектирование фреймворка "
   ]
  },
  {
   "cell_type": "markdown",
   "metadata": {
    "id": "dS4c3RDgLT9H"
   },
   "source": [
    "### Базовые концепции"
   ]
  },
  {
   "cell_type": "markdown",
   "metadata": {
    "id": "HVT7CxlfLT9I"
   },
   "source": [
    "**Нейросеть** $-$ это последовательность слоев. В реализации ее удобно представлять абстракцией `Sequential`. \n",
    "\n",
    "**Слой** $-$ это некоторая функция, у которой в общем случае есть обучаемые параметры. Есть слои и без обучаемых параметров (например, функции активации, SoftMax, LogSoftMax), однако все эти функции все равно удобно называть слоями нейросети. В реализации один слой удобно представлять абстракцией `Module`.  Например, `Sequential(Linear, ReLU)` -- это три уже модуля.\n",
    "\n",
    "Каждый слой должен уметь делать прямой проход **forward pass**, и обратный проход **backward pass**. В реализации forward pass удобно представлять абстрактным методом `forward()`, backward pass удобно представлять абстрактным методом `backward()`.\n",
    "\n",
    "<img src=\"https://i.ibb.co/fFQtC15/2020-04-14-16-42-23.png\" width=700>"
   ]
  },
  {
   "cell_type": "markdown",
   "metadata": {
    "id": "_J8JcoHtLT9J"
   },
   "source": [
    "### Forward pass\n",
    "\n",
    "Forward pass является *первым этапом итерации обучения нейросети*. После выполнения этого этапа сеть должна выдать вычисленное преобразование входа.\n",
    "\n",
    "Во время вызова метода `forward()` у `Sequential`, вход, поданный нейросети, проходит через все ее слои \"вперед\", до выходного слоя.\n",
    "\n",
    "Во время вызова метода `forward()` у `Module`, над входом, поданным слою, осуществляется операция этого слоя (линейная, дропаут, софтмакс, батчнорм).\n",
    "\n",
    "В реализации ниже у каждого слоя во время `forward()` будет вызываться только один метод $-$ `update_output()`, который и производит вычисление операции слоя. Важно отметить, что при вызове `update_output()` его выход **сохраняется в поле `self.output`** вызвавшего слоя. Это необходимо, поскольку выходы слоёв потом используются в **backward pass**."
   ]
  },
  {
   "cell_type": "markdown",
   "metadata": {
    "id": "Z4Z0Qyp-LT9L"
   },
   "source": [
    "### Backward pass\n",
    "\n",
    "#### Теоретическая справка\n",
    "\n",
    "Backward pass является *вторым этапом итерации обучения нейросети*. В современном глубоком обучении backward pass является реализацией метода **[Error Backpropagation](https://en.wikipedia.org/wiki/Backpropagation)** (backprop), по-русски **\"Метод обратного распространения ошибки\"**. После выполнения этого этапа у каждого параметра каждого слоя нейронной сети должны быть посчитаны градиенты на текущей итерации. \n",
    "\n",
    "**Первая идея** Backpropagation состоит в использования **градиентных методов оптимизации**, например, стохастического градиентного спуска. Однако чтобы посчитать градиент функции потерь $L$ по параметрам ранних слоев в нейросети, придется иметь дело с \"очень сложной\" функцией:\n",
    "\n",
    "$$\n",
    "\\frac{\\partial L}{\\partial W_1} = \\frac{\\partial (\\varphi_n(W_n\\varphi_{n-1}(W_{n-1}\\varphi_{n-2}(...\\varphi_{1}(W_1 x)))) - y)^2}{\\partial W_1}\n",
    "$$\n",
    "\n",
    "где $W_k$ $-$ матрица весов $k$-го слоя, $\\varphi_k$ $-$ функция активации $k$-го слоя. И это при том, что здесь все слои $-$ линейные. Для более сложных слоев (например, свёрточных) эта функция будет еще сложнее.  \n",
    "\n",
    "Поэтому **вторая идея** Backpropagation состоит в использовании **правила цепочки (chain rule)**, примененного в отношении градиента функции потерь по каждому из параметров каждого слоя нейросети. Рассмотрим конкретный слой под номером $k$ и следующим за ним слой $k+1$. Пусть это оба $-$ линейные слои, линейный слой $k$ осуществляет операцию $O_k = x_k W_k$, где $x_k \\in \\mathbb{R}^{n \\times d}$ $-$ вход слоя, $W_k \\in \\mathbb{R}^{d \\times m}$ $-$ веса слоя, $O_k \\in \\mathbb{R}^{n \\times m}$ $-$ выход слоя. Тогда чтобы обновить его веса $W_k$ выпишем правило цепочки:\n",
    "\n",
    "$$\n",
    "\\frac{\\partial L}{\\partial W_k} = \\frac{\\partial L}{\\partial O_k} \\frac{\\partial O_k}{\\partial W_k} = \\frac{\\partial L}{\\partial O_k} x_k\n",
    "$$\n",
    "\n",
    "Видим, что для вычисления градиента лосса по $W_k$ нам нужно посчитать $\\frac{\\partial L}{\\partial O_k}$, то есть градиент лосса по выходу этого слоя. **Если слой $k$ является последним (выходным)** в нейросети (то есть $k+1$-го слоя уже нет), то ответ имеет вид:\n",
    "\n",
    "$$\n",
    "\\frac{\\partial L}{\\partial O_k} = \\frac{\\partial L}{\\partial \\widehat{y}_k}\n",
    "$$\n",
    "\n",
    "И сразу же достигаем цели. Однако **если слой $k$ $-$ это какой-то из скрытых слоев**, то мы не можем сразу посчитать $\\frac{\\partial L}{\\partial O_k}$ $-$ придем к той же проблеме \"очень сложной\" функции, описанной выше.  \n",
    "\n",
    "<img src=\"https://i.ibb.co/2hn6wb3/2020-04-14-17-19-29.png\" width=700>\n",
    "\n",
    "Поэтому чтобы реализовать правило цепочки, делается такой \"трюк\": заметим, что **выход слоя $k$ является входом для слоя $k+1$**, то есть $O_k = x_{k+1}$. И тогда будем для каждого слоя считать не только $\\frac{\\partial L}{\\partial W_{k+1}}$ для обновления весов, но и $\\frac{\\partial L}{\\partial x_{k+1}}$ для передачи градиента по входу слоя $k+1$ в виде градиента по выходу $\\frac{\\partial L}{\\partial O_k}$ слоя $k$:\n",
    "\n",
    "$$\n",
    "\\frac{\\partial L}{\\partial x_{k+1}} = \\frac{\\partial L}{\\partial O_{k+1}} \\frac{\\partial O_{k+1}}{\\partial x_{k+1}} = \\frac{\\partial L}{\\partial O_{k+1}} W_{k+1}   \n",
    "$$\n",
    "\n",
    "Делая так для **каждого** слоя, мы получим возможность как бы **рекурсивно** обновлять параметры (веса) всех слоев, как только получим $\\frac{\\partial L}{\\partial \\hat{y_k}}$ от последнего слоя.\n",
    "\n",
    "#### Реализация\n",
    "\n",
    "Во время вызова метода `backward()` у `Sequential` мы в цикле вычисляем `backward()` для всех слоев нейросети в соответствии с описанной выше схемой реализации правила цепочки.\n",
    "\n",
    "Во время вызова метода `backward()` у `Module` вызываются два метода $-$ `update_grad_params()` и `update_grad_input()`.\n",
    "\n",
    "`update_grad_params()` вычисляет $\\frac{\\partial O_k}{\\partial W_k}$ $-$ градиент выхода слоя по параметрам $W_k$.\n",
    "\n",
    "`update_grad_input()` вычисляет $\\frac{\\partial O_k}{\\partial x_k}$ $-$ градиент выхода слоя по входу $x_k$, чтобы передать потом этот градент слою $k-1$ в виде `grad_output`.\n",
    "\n",
    "***Важно:*** в chain rule присутствуют произведения градиентов. Они могут быть векторами/матрицами, поэтому при умножении следует использовать именно **матричное произведение**, если выводите формулы через прозводную по вектору/матрице. Если же выводите \"поэлементно\" (как в примере с `LogSoftMax`), то форма произведений будет видна из вывода."
   ]
  },
  {
   "cell_type": "markdown",
   "metadata": {
    "id": "lwyYLB9ILT9N"
   },
   "source": [
    "Обратите внимание на то, что в цикле обучения выше (под картинкой в начале раздела \"Мотивация\") `last_grad_input` $-$ это градиент слоя `criterion` по его входу, и он же является `grad_output` для всей нейросети `model` $-$ градиентом, приходящим от \"следующего слоя\". Это полностью согласуется с методом обратного распространения ошибки, который мы только что обсудили, если считать функцию потерь (`criterion`) \"фиктивным\" слоем нейросети."
   ]
  },
  {
   "cell_type": "markdown",
   "metadata": {
    "id": "39UTTy1oLT9N"
   },
   "source": [
    "*Примечание*: вообще говоря, сам метод обновления весов нейросети не обязан быть gradient-based, каким является backprop. Например, это могут быть [эволюционные алгоритмы](https://arxiv.org/pdf/1712.06567.pdf), или относительно недавний Equilibrium propagation, см. [ответ на StackOverflow](https://stackoverflow.com/questions/55287004/are-there-alternatives-to-backpropagation)."
   ]
  },
  {
   "cell_type": "markdown",
   "metadata": {
    "id": "s2E-JGfRLT9O"
   },
   "source": [
    "### Обновление весов\n",
    "\n",
    "Обновление весов (оптимизация) является *третьим, последним этапом итерации обучения нейросети*. После выполнения этого этапа все обучаемые параметры всех слоев нейросети должны изменить свое значение (обновиться) в соответствие с правилами данного конкретного оптимизатора.\n",
    "\n",
    "В реализации ниже вам нужно написать только один оптимизатор $-$ `SGD`. Это метод стохастического градиентного спуска."
   ]
  },
  {
   "cell_type": "markdown",
   "metadata": {
    "id": "X3llAxwxLT9O"
   },
   "source": [
    "## Реализация (10 баллов)"
   ]
  },
  {
   "cell_type": "markdown",
   "metadata": {
    "id": "edyuzHU7LT9O"
   },
   "source": [
    "<img src=\"https://i.insider.com/5cdc1519021b4c73922760ab?width=1100&format=jpeg&auto=webp\" width=550>"
   ]
  },
  {
   "cell_type": "markdown",
   "metadata": {
    "id": "oR6CbroLLT9P"
   },
   "source": [
    "Далее вам предстоит реализовать все компоненты нейронной сети, используя **только библиотеку NumPy**:\n",
    "\n",
    "> Базовые концепции:\n",
    "- [x] `Module`     $-$ абстрактный класс для компонент нейронной сети;\n",
    "- [x] `Sequential` $-$ класс, содержащий в себе последовательность объектов класса `Module`.\n",
    "\n",
    "> Слои:\n",
    "- [x] `Linear`     $-$ линейный слой;\n",
    "- [x] `SoftMax`    $-$ слой, вычисляющий операцию *softmax*;\n",
    "- [x] `LogSoftMax` $-$ слой, вычисляющий операцию *log(softmax)*;\n",
    "- [ ] *(2 балла)* `Dropout` &mdash; слой дропаута;\n",
    "- [ ] *(3 балла)* `BatchNormalization` &mdash; слой для работы с батч-нормализацией;\n",
    "- [ ] *(1 балл)* `Scaling` &mdash; слой для работы с батч-нормализацией;\n",
    "- [ ] *(1 балл)* `Flatten` &mdash; слой, который просто разворачивает тензор любой размерности в одномерный вектор.\n",
    "\n",
    "> Функции активации (тоже являются слоями, но выделены в отдельную секцию для удобства):\n",
    "- [x] `ReLU`      $-$ функция активации *Rectified Linear Unit*;\n",
    "- [ ] *(1 балл)* `LeakyReLU` &mdash;  функция активации Leaky Rectified Linear Unit;\n",
    "- [ ] *(1 балл)* `ELU` &mdash; функция активации *Exponential Linear Unit*;\n",
    "\n",
    "> Функции потерь:\n",
    "- [x] `Criterion`  $-$ абстрактный класс для функций потерь;\n",
    "- [x] `NLLCriterionUnstable` $-$ negative log-likelihood функция потерь (нестабильная версия, возможны числовые переполнения);\n",
    "- [x] `NLLCriterion` $-$ negative log-likelihood функция потерь (стабильная версия).\n",
    "\n",
    "> Оптимизаторы:\n",
    "- [x] `SGD`  $-$ алгоритм стохастического градиентного спуска.\n",
    "- [ ] *(1 балл)* &mdash; любой другой оптимизатор, который мы разбирали на лекции.\n",
    "\n",
    "Перед каждым слоем напоминается формула его forward pass. В уже реализованных за вас модулях (отмечены галочкой) формулы для вычисления backward pass тоже уже даны, в остальных их нужно вывести самим по аналогии.\n",
    "\n",
    "**В скобках перед названием слоя указаны баллы за его реализацию и за вывод формулы для backward pass. Они засчитываются только тогда, когда слой проходит все тесты в ноутбуке `[2]task8_test_modules.ipynb`**"
   ]
  },
  {
   "cell_type": "code",
   "execution_count": 1,
   "metadata": {
    "id": "I9zljPBjLT9Q"
   },
   "outputs": [],
   "source": [
    "import numpy as np"
   ]
  },
  {
   "cell_type": "markdown",
   "metadata": {
    "id": "twkdR5KsLT9R"
   },
   "source": [
    "##  Базовые концепции"
   ]
  },
  {
   "cell_type": "markdown",
   "metadata": {
    "id": "Xe2EzNqBLT9S"
   },
   "source": [
    "### Module"
   ]
  },
  {
   "cell_type": "markdown",
   "metadata": {
    "id": "T4ee2hw1LT9S"
   },
   "source": [
    "**Module** $-$ абстрактный класс, который определяет методы, которые могут быть реализованы у каждого слоя.\n",
    "\n",
    "Этот класс полностью реализован за вас. Пожалуйста, внимательно прочитайте методы и их описания, чтобы ориентироваться в дальнейшем."
   ]
  },
  {
   "cell_type": "code",
   "execution_count": 2,
   "metadata": {
    "id": "3smvdgDHLT9S"
   },
   "outputs": [],
   "source": [
    "class Module(object):\n",
    "    \"\"\"\n",
    "        Абстрактный класс для слоев нейросети.\n",
    "\n",
    "        Как и описано в \"Проектирование фреймворка\":\n",
    "\n",
    "        - во время forward просто вычисляет операцию слоя:\n",
    "\n",
    "            `output = module.forward(input)`\n",
    "\n",
    "        - во время backward дифференцирует функцию слоя по входу и по параметрам,\n",
    "          возвращает градиент по входу этого слоя (для удобства):\n",
    "\n",
    "            `grad_input = module.backward(input, grad_output)`\n",
    "    \"\"\"\n",
    "    \n",
    "    def __init__ (self):\n",
    "        self.output = None\n",
    "        self.grad_input = None\n",
    "        self.training = True\n",
    "    \n",
    "    def forward(self, input):\n",
    "        \"\"\"\n",
    "        Вычисляет операцию слоя.\n",
    "        \n",
    "        Вход: \n",
    "            `input (np.array)` -- вход слоя  \n",
    "        Выход: \n",
    "            `self.update_output(input) (np.array)` -- вычисленная операция слоя\n",
    "        \"\"\"\n",
    "        \n",
    "        return self.update_output(input)\n",
    "\n",
    "    def backward(self, input, grad_output):\n",
    "        \"\"\"\n",
    "        Осуществляет шаг backpropagation'а для этого слоя,\n",
    "        дифференцируя функцию слоя по входу и по параметрам.\n",
    "        \n",
    "        Обратите внимание, что градиент зависит и от параметров, от входа input.\n",
    "        \n",
    "        Вход: \n",
    "            `input (np.array)` -- вход слоя\n",
    "            `grad_output (np.array)` -- градиент по выходу этого слоя, пришедший от следующего слоя\n",
    "        Выход: \n",
    "            `self.grad_input (np.array)` -- градиент функции слоя по входу\n",
    "        \"\"\"\n",
    "        \n",
    "        self.update_grad_input(input, grad_output)\n",
    "        self.update_grad_params(input, grad_output)\n",
    "        return self.grad_input\n",
    "    \n",
    "    def update_output(self, input):\n",
    "        \"\"\"\n",
    "        Конкретная реализация `forward()` для данного слоя.\n",
    "        Вычисляет функцию слоя (линейную, `ReLU`, `SoftMax`) по входу `input`.\n",
    "        \n",
    "        Вход: \n",
    "            `input (np.array)` -- вход слоя\n",
    "        Выход: \n",
    "            `self.output (np.array)` -- вычисленная операция слоя, сохраненная в поле класса \n",
    "            \n",
    "        Важно! не забывайте как возвращать `self.output`, так и сохранять результат в это поле \n",
    "        \"\"\"\n",
    "        \n",
    "        # The easiest case:\n",
    "            \n",
    "        # self.output = input \n",
    "        # return self.output\n",
    "        \n",
    "        pass\n",
    "\n",
    "    def update_grad_input(self, input, grad_output):\n",
    "        \"\"\"\n",
    "        Вычисляет градиент функции слоя по входу `input` и возвращает его в виде `self.grad_input`.\n",
    "        Размер (`shape`) поля `self.grad_input` всегда совпадает с размером `input`.\n",
    "        \n",
    "        Вход: \n",
    "            `input (np.array)` -- вход слоя\n",
    "            `grad_output (np.array)` -- градиент по выходу этого слоя, пришедший от следующего слоя\n",
    "        Выход: \n",
    "            `self.grad_input (np.array)` -- вычисленный градиент функции слоя по входу `input`\n",
    "        \n",
    "        Важно! не забывайте как возвращать `self.grad_input`, так и сохранять результат в это поле \n",
    "        \"\"\"\n",
    "        \n",
    "        # The easiest case:\n",
    "        \n",
    "        # self.grad_input = grad_output \n",
    "        # return self.grad_input\n",
    "        \n",
    "        pass   \n",
    "    \n",
    "    def update_grad_params(self, input, grad_output):\n",
    "        \"\"\"\n",
    "        Вычисляет градиент функции слоя по параметрам (весам) этого слоя. \n",
    "        Ничего не возвращает, только сохраняет значения градиентов в соответствующие поля.\n",
    "        Не нужно реализовывать этот метод, если у слоя нет параметров (у функций активации, \n",
    "        `SoftMax`, `LogSoftMax`, `MaxPool2d`).\n",
    "        \n",
    "        Вход: \n",
    "           `input (np.array)` -- вход слоя\n",
    "            `grad_output (np.array)` -- градиент по выходу этого слоя, пришедший от следующего слоя\n",
    "        \"\"\"\n",
    "        \n",
    "        pass\n",
    "    \n",
    "    def zero_grad_params(self): \n",
    "        \"\"\"\n",
    "        Обнуляет градиенты у параметров слоя (если они есть).\n",
    "        Нужно для оптимизатора.\n",
    "        \"\"\"\n",
    "        \n",
    "        pass\n",
    "        \n",
    "    def get_parameters(self):\n",
    "        \"\"\"\n",
    "        Возвращает список параметров этого слоя, если они есть. Иначе вернуть пустой список. \n",
    "        Нужно для оптимизатора.\n",
    "        \"\"\"\n",
    "        \n",
    "        return []\n",
    "        \n",
    "    def get_grad_params(self):\n",
    "        \"\"\"\n",
    "        Возвращает список градиентов функции этого слоя по параметрам этого слоя, если они есть. \n",
    "        Иначе вернуть пустой список. \n",
    "        Нужно для оптимизатора.\n",
    "        \"\"\"\n",
    "        \n",
    "        return []\n",
    "\n",
    "    def train(self):\n",
    "        \"\"\"\n",
    "        Переключить слой в режим обучения.\n",
    "        От этого зависит поведение слоев `Dropout` и `BatchNorm`.\n",
    "        \"\"\"\n",
    "        \n",
    "        self.training = True\n",
    "    \n",
    "    def evaluate(self):\n",
    "        \"\"\"\n",
    "        Переключить слой в режим тестирования.\n",
    "        От этого зависит поведение слоев `Dropout` и `BatchNorm`.\n",
    "        \"\"\"\n",
    "        \n",
    "        self.training = False\n",
    "    \n",
    "    \n",
    "    def __repr__(self):\n",
    "        \"\"\"\n",
    "        Напечатать название слоя КРАСИВО.\n",
    "        \"\"\"\n",
    "        \n",
    "        return 'Module'"
   ]
  },
  {
   "cell_type": "markdown",
   "metadata": {
    "id": "9dTkEMXhLT9U"
   },
   "source": [
    "### Sequential"
   ]
  },
  {
   "cell_type": "markdown",
   "metadata": {
    "id": "pttxoLWFLT9U"
   },
   "source": [
    "Многослойная нейронная сеть состоит из последовательности модулей. Реализуйте класс **Sequential**, руководствуюясь механикой forward и backward pass'ов и описаниями каждого метода.\n",
    "\n",
    "**Важно**: Убедитесь, что в `backward()` подаете на вход каждому слою НЕ `input` к этому `backward`'у нейросети,\n",
    "а именно тот вход, который слой `i` получал на соответствующей итерации `forward`'а (см. `update_output`).\n",
    "То есть что вход слоя `i` $-$ это выход слоя `self.modules[i]`."
   ]
  },
  {
   "cell_type": "code",
   "execution_count": 3,
   "metadata": {
    "id": "e4qKhqmQLT9U"
   },
   "outputs": [],
   "source": [
    "class Sequential(Module):\n",
    "    \"\"\"\n",
    "        Этот класс является последовательностью модулей (слоев). \n",
    "        Последовательно обрабатывает вход `input` от слоя к слою.\n",
    "        \n",
    "        Обратите внимание, он тоже наследуется от `Module`\n",
    "    \"\"\"\n",
    "    \n",
    "    def __init__ (self):\n",
    "        super(Sequential, self).__init__()\n",
    "        self.modules = []\n",
    "   \n",
    "    def add(self, module):\n",
    "        \"\"\"\n",
    "        Добавляет модуль в контейнер.\n",
    "        \"\"\"\n",
    "        \n",
    "        self.modules.append(module)\n",
    "\n",
    "    def update_output(self, input):\n",
    "        \"\"\"\n",
    "        Соответствуя разделу \"Проектирование фреймворка\":\n",
    "        \n",
    "            O_0    = module[0].forward(input)\n",
    "            O_1    = module[1].forward(O_0)\n",
    "            ...\n",
    "            output = module[n-1].forward(O_{n-2})   \n",
    "             \n",
    "        Нужно просто написать соответствующий цикл. \n",
    "        \"\"\"\n",
    "        \n",
    "        self.output = [input]\n",
    "        for i in range(len(self.modules)):\n",
    "            self.output.append(self.modules[i].forward(self.output[-1]))\n",
    "        return self.output[-1]\n",
    "\n",
    "    def backward(self, input, grad_output):\n",
    "        \"\"\"\n",
    "        Соответствуя разделу \"Проектирование фреймворка\":\n",
    "            \n",
    "            g_{n-1} = module[n-1].backward(O_{n-2}, grad_output)\n",
    "            g_{n-2} = module[n-2].backward(O_{n-3}, g_{n-1})\n",
    "            ...\n",
    "            g_1 = module[1].backward(O_0, g_2)   \n",
    "            grad_input = module[0].backward(input, g_1)\n",
    "            \n",
    "        \"\"\"\n",
    "        \n",
    "        self.grad_input = [grad_output]\n",
    "        for i in range(len(self.modules)-1, -1, -1):\n",
    "            self.grad_input.append(self.modules[i].backward(self.output[i], self.grad_input[-1]))\n",
    "        return self.grad_input[-1]\n",
    "      \n",
    "\n",
    "    def zero_grad_params(self): \n",
    "        for module in self.modules:\n",
    "            module.zero_grad_params()\n",
    "    \n",
    "    def get_parameters(self):\n",
    "        \"\"\"\n",
    "        Собирает параметры каждого слоя в один список, получая список списков.\n",
    "        \"\"\"\n",
    "        \n",
    "        return [x.get_parameters() for x in self.modules]\n",
    "    \n",
    "    def get_grad_params(self):\n",
    "        \"\"\"\n",
    "        Собирает градиенты параметров каждого слоя в один список, получая список списков.\n",
    "        \"\"\"\n",
    "        \n",
    "        return [x.get_grad_params() for x in self.modules]\n",
    "    \n",
    "    def __repr__(self):\n",
    "        string = \"\".join([str(x) + '\\n' for x in self.modules])\n",
    "        return string\n",
    "    \n",
    "    def __getitem__(self,x):\n",
    "        return self.modules.__getitem__(x)"
   ]
  },
  {
   "cell_type": "markdown",
   "metadata": {
    "id": "FoqSNndiLT9V"
   },
   "source": [
    "## Слои"
   ]
  },
  {
   "cell_type": "markdown",
   "metadata": {
    "id": "b2YZQwg6LT9V"
   },
   "source": [
    "### Linear\n",
    "\n",
    "Линейный слой, также известный как `Fully-Connected (FC)` или `Dense`, осуществляет линейное (афинное) преобразование.\n",
    "\n",
    "Везде ниже $N$ - размер батча, $d$ - число признаков во входном тензоре, $K$ - количество нейронов в слое.\n",
    "\n",
    "*Forward pass:*\n",
    "\n",
    "$$\n",
    "x \\in \\mathbb{R}^{N \\times d}, W \\in \\mathbb{R}^{d \\times K}, b \\in \\mathbb{R}^{1 \\times K}\n",
    "$$\n",
    "\n",
    "$$\n",
    "\\text{Linear}(x) = x W + b\n",
    "$$\n",
    "\n",
    "$$\n",
    "\\text{Linear}(x) \\in \\mathbb{R}^{N \\times K}\n",
    "$$\n",
    "\n",
    "*Backward pass (1 балл):*\n",
    "\n",
    "Могут помочь [эта ссылка](https://www.math.uwaterloo.ca/~hwolkowi/matrixcookbook.pdf), [эта ссылка](http://cs231n.stanford.edu/vecDerivs.pdf) и [эта сслыка](https://web.stanford.edu/class/cs224n/readings/gradient-notes.pdf).\n",
    "\n",
    "$$\n",
    "\\frac{\\partial \\text{Linear}}{\\partial x} = W^T,~~~\\frac{\\partial \\text{Linear}}{\\partial W} = x,~~~\\frac{\\partial \\text{Linear}}{\\partial b} = \\vec{1}\n",
    "$$\n",
    "\n",
    "где $\\vec{1}$ $-$ вектор-строка из единиц."
   ]
  },
  {
   "cell_type": "code",
   "execution_count": 57,
   "metadata": {
    "id": "7gtLkuVBLT9V"
   },
   "outputs": [],
   "source": [
    "class Linear(Module):\n",
    "    \"\"\"\n",
    "    Слой, осуществляющий линейное преобразование\n",
    "    \"\"\"\n",
    "    def __init__(self, n_in, n_out):\n",
    "        '''\n",
    "        Поля:\n",
    "            W - матрица весов слоя размера (n_in, n_out); \n",
    "                в данном случае n_in равно числу признаков, \n",
    "                а n_out равно количеству нейронов в слое\n",
    "            b - вектор свободных членов, по одному числу на один нейрон\n",
    "            gradW - хранит градиент матрицы весов линейного слоя\n",
    "            gradb - хранит градиент вектора свободных членов\n",
    "        '''\n",
    "        \n",
    "        super(Linear, self).__init__()\n",
    "       \n",
    "        stdv = 1./np.sqrt(n_in)\n",
    "        self.W = np.random.uniform(-stdv, stdv, size=(n_in, n_out))\n",
    "        self.b = np.random.uniform(-stdv, stdv, size=n_out)\n",
    "        \n",
    "        self.gradW = np.zeros_like(self.W)\n",
    "        self.gradb = np.zeros_like(self.b)\n",
    "        \n",
    "    def update_output(self, input):\n",
    "        self.output = input @ self.W + self.b\n",
    "        return self.output\n",
    "    \n",
    "    def update_grad_input(self, input, grad_output):\n",
    "        self.grad_input = grad_output @ self.W.T\n",
    "        return self.grad_input\n",
    "    \n",
    "    def update_grad_params(self, input, grad_output):\n",
    "        grad_output = np.array(grad_output)\n",
    "        self.gradW = input.T @ grad_output\n",
    "        self.gradb = grad_output.sum(axis=0)  # grad_output @ np.ones(self.b.shape[0])[:,None]\n",
    "        assert self.gradb.shape == self.b.shape\n",
    "    \n",
    "    def zero_grad_params(self):\n",
    "        self.gradW.fill(0)\n",
    "        self.gradb.fill(0)\n",
    "        \n",
    "    def get_parameters(self):\n",
    "        return [self.W, self.b]\n",
    "    \n",
    "    def get_grad_params(self):\n",
    "        return [self.gradW, self.gradb]\n",
    "    \n",
    "    def __repr__(self):\n",
    "        s = self.W.shape\n",
    "        q = f'Linear {s[0]} -> {s[1]}'\n",
    "        return q"
   ]
  },
  {
   "cell_type": "markdown",
   "metadata": {
    "id": "I16cFZoJLT9W"
   },
   "source": [
    "### SoftMax\n",
    "\n",
    "SoftMax слой осуществляет softmax-преобразование: \n",
    "\n",
    "$$\n",
    "\\text{SoftMax}(x)_i = \\frac{\\exp(x_i)} {\\sum_j \\exp(x_j)}\n",
    "$$\n",
    "\n",
    "*Forward pass:*\n",
    "\n",
    "Обозначим `batch_size` = $N$, `n_in` = $K$.\n",
    "\n",
    "$$\n",
    "x \\in \\mathbb{R}^{N \\times K}\n",
    "$$\n",
    "\n",
    "Тогда для батча SoftMax записывается так:\n",
    "\n",
    "$$\n",
    "\\text{SoftMax}(x) = \\begin{pmatrix}\n",
    "\\frac{e^{x_{11}}} {\\sum_{j=1}^K e^{x_{1j}}} & \\frac{e^{x_{12}}}{\\sum_{j=1}^K e^{x_{1j}}} & \\dots & \\frac{e^{x_{1K}}} {\\sum_{j=1}^K e^{x_{1j}}} \\\\\n",
    "\\vdots  & \\vdots  & \\ddots & \\vdots  \\\\\n",
    "\\frac{e^{x_{N1}}} {\\sum_{j=1}^K e^{x_{Nj}}} & \\frac{e^{x_{N2}}} {\\sum_{j=1}^K e^{x_{Nj}}} & \\dots & \\frac{e^{x_{NK}}} {\\sum_{j=1}^K e^{x_{Nj}}}\n",
    "\\end{pmatrix}\n",
    "$$\n",
    "\n",
    "$$\n",
    "\\text{SoftMax}(x) \\in \\mathbb{R}^{N \\times K}\n",
    "$$"
   ]
  },
  {
   "cell_type": "markdown",
   "metadata": {
    "id": "a3O1bA8LLT9W"
   },
   "source": [
    "*Backward pass (2 балла):*\n",
    "\n",
    "На самом деле все не так тривиально, как может показаться. SoftMax не имеет параметров, но применяется ко входу поэлементно, поэтому дифференцируя выход этого слоя по входу мы получаем не градиент (=вектор производных), а якобиан (=матрицу производных). Пусть $x$ сейчас $-$ это **один вектор-строка из батча**, имеющая длину $K$. \n",
    "\n",
    "#### Якобиан SoftMax по входу:\n",
    "\n",
    "Помним, что:\n",
    "\n",
    "$$\n",
    "\\text{SoftMax}(x) = \\begin{pmatrix}\n",
    "\\frac{e^{x_1}} {\\sum_{j=1}^K e^{x_j}} & \\frac{e^{x_2}} {\\sum_{j=1}^K e^{x_j}} & \\dots & \\frac{e^{x_K}} {\\sum_{j=1}^K e^{x_j}}\n",
    "\\end{pmatrix} = \\begin{pmatrix}\n",
    "a_1 & a_2 & \\dots & a_K\n",
    "\\end{pmatrix}\n",
    "$$\n",
    "\n",
    "$-$ обозначали за $a$ для удобства. Тогда:\n",
    "\n",
    "$$\n",
    "\\frac{\\partial\\text{SoftMax}}{\\partial x} = \\begin{pmatrix}\n",
    "\\frac{\\partial a_1}{\\partial x_1} & \\frac{\\partial a_1}{\\partial x_2} & \\dots & \\frac{\\partial a_1}{\\partial x_K} \\\\\n",
    "\\frac{\\partial a_2}{\\partial x_1} & \\frac{\\partial a_2}{\\partial x_2} & \\dots & \\frac{\\partial a_2}{\\partial x_K} \\\\\n",
    "\\vdots  & \\vdots  & \\ddots & \\vdots  \\\\\n",
    "\\frac{\\partial a_K}{\\partial x_1} & \\frac{\\partial a_K}{\\partial x_2} & \\dots & \\frac{\\partial a_K}{\\partial x_K} \\\\\n",
    "\\end{pmatrix}\n",
    "$$\n",
    "\n",
    "Распишем один элемент этой матрицы и поймем, какой конкретно вид он имеет. Возьмем частную производную $a_k$ по $x_s$:\n",
    "\n",
    "$$\n",
    "\\frac{\\partial a_k}{\\partial x_s} = \\frac{\\partial \\left( \\frac{e^{x_k}} {\\sum_{j=1}^K e^{x_j}}\\right)}{\\partial x_s} = \\frac{\\partial e^{x_k}}{\\partial x_s} \\left( \\frac{1}{\\sum_{j=1}^K e^{x_j}}\\right) + e^{x_k} \\frac{\\partial \\left(\\frac{1}{\\sum_{j=1}^K e^{x_j}}\\right)}{\\partial x_s} = \\\\\n",
    "= \\frac{\\partial e^{x_k}}{\\partial x_s} \\left( \\frac{1}{\\sum_{j=1}^K e^{x_j}}\\right) - e^{x_k} \\left( \\frac{1}{\\left(\\sum_{j=1}^K e^{x_j} \\right)^2} \\right) e^{x_s} \\tag{1}\n",
    "$$\n",
    "\n",
    "Далее все зависит от $k$ и $s$. Если $k = s$, то первое слагаемое в (1) не зануляется и мы получаем:\n",
    "\n",
    "$$\n",
    "\\frac{\\partial a_k}{\\partial x_k} = \\frac{\\partial e^{x_k}}{\\partial x_k} \\left( \\frac{1}{\\sum_{j=1}^K e^{x_j}}\\right) - e^{x_k} \\left( \\frac{1}{\\left(\\sum_{j=1}^K e^{x_j} \\right)^2} \\right) e^{x_k} = \\frac{e^{x_k}}{\\sum_{j=1}^K e^{x_j}} \\left( 1 - \\frac{e^{x_k}}{\\sum_{j=1}^K e^{x_j}} \\right) = a_k (1 - a_k)\n",
    "$$\n",
    "\n",
    "Если же $k \\ne s$, то первое слагаемое в (1) обнулится:\n",
    "\n",
    "$$\n",
    "\\frac{\\partial a_k}{\\partial x_s} = - e^{x_k} \\left( \\frac{1}{\\left(\\sum_{j=1}^K e^{x_j} \\right)^2} \\right) e^{x_s} = - a_k a_s\n",
    "$$\n",
    "\n",
    "Таким образом для **одной строки в батче** получаем:\n",
    "\n",
    "$$\n",
    "\\frac{\\partial\\text{SoftMax}}{\\partial x} = \\begin{pmatrix}\n",
    "a_1 (1 - a_1) & -a_1 a_2 & \\dots & -a_1 a_K \\\\\n",
    "-a_2 a_1 & a_2 (1 - a_2) & \\dots & -a_2 a_K \\\\\n",
    "\\vdots  & \\vdots  & \\ddots & \\vdots  \\\\\n",
    "-a_K a_1 & -a_K a_2 & \\dots & a_K (1 - a_K) \\\\\n",
    "\\end{pmatrix}\n",
    "$$\n",
    "\n",
    "#### Вывод `grad_input`\n",
    "\n",
    "Теперь нужно понять, как именно записать `grad_input` в контексте backprop'а. Нам приходит от следующего слоя `grad_output` того же размера, что и его вход: $(N, K)$, где $N$ =`batch_size`, $K$ = `n_in`. Следующий после SoftMax \"слой\" не обязан быть функцией потерь (хотя на практике обычно это именно так), но все же обозначим для удобства функцию следующего слоя как $L$. \n",
    "\n",
    "Сейчас снова считаем, что $x$ $-$ вектор-строка в матрице всего батча, `grad_output` сейчас тоже является строкой $(1, K)$ в матрице всего `grad_output`. По [формуле полного дифференциала](https://mipt.ru/education/chair/mathematics/study/uchebniki/IvanovGE_part1.pdf) имеем для $x_s$:\n",
    "\n",
    "$$\n",
    "\\frac{\\partial L}{\\partial x_s} = \\sum_{i=1}^K \\frac{\\partial L}{\\partial a_i}\\frac{\\partial a_i}{\\partial x_s} = \\frac{\\partial L}{\\partial a_s} \\frac{\\partial a_s}{\\partial x_s} + \\sum_{i\\ne s} \\frac{\\partial L}{\\partial a_i}\\frac{\\partial a_i}{\\partial x_s} = \\frac{\\partial L}{\\partial a_s} a_s (1 - a_s) + \\sum_{i\\ne s} \\frac{\\partial L}{\\partial a_i} (-a_i a_s) = \\\\\n",
    "= \\frac{\\partial L}{\\partial a_s} a_s  - \\frac{\\partial L}{\\partial a_s} a_s^2 - a_s \\sum_{i\\ne s} \\frac{\\partial L}{\\partial a_i} a_i = \\frac{\\partial L}{\\partial a_s} a_s - a_s \\sum_{i=1}^K \\frac{\\partial L}{\\partial a_i} a_i\n",
    "$$\n",
    "\n",
    "Здесь $\\frac{\\partial L}{\\partial a_i}$ является $i$-ым элементом вектор-строки `grad_output`, которая соответствует рассматриваемой вектор-строке $x$. То есть мы получили вывод `grad_input` по `grad_output` и `SoftMax(x)`для **одной вектор-строки из батча**.\n",
    "\n",
    "Если присмотеться к формуле и выписать `grad_output` уже для батча (номер строки в батче обозначен верхним индексом):\n",
    "\n",
    "$$\n",
    "\\text{grad_output} = \\begin{pmatrix}\n",
    "\\frac{\\partial L}{\\partial a_1}^1 & \\frac{\\partial L}{\\partial a_2}^1 & \\dots & \\frac{\\partial L}{\\partial a_K}^1 \\\\\n",
    "\\frac{\\partial L}{\\partial a_1}^2 & \\frac{\\partial L}{\\partial a_2}^2 & \\dots & \\frac{\\partial L}{\\partial a_K}^2 \\\\\n",
    "\\vdots  & \\vdots  & \\ddots & \\vdots  \\\\\n",
    "\\frac{\\partial L}{\\partial a_1}^N & \\frac{\\partial L}{\\partial a_2}^N & \\dots & \\frac{\\partial L}{\\partial a_K}^N \\\\\n",
    "\\end{pmatrix}\n",
    "$$\n",
    "\n",
    "И помнить, что :\n",
    "\n",
    "$$\n",
    "\\text{SoftMax}(x) = \\begin{pmatrix}\n",
    "a_1^1 & a_2^1 & \\dots & a_K^1 \\\\\n",
    "a_1^2 & a_2^2 & \\dots & a_K^2 \\\\\n",
    "\\vdots  & \\vdots  & \\ddots & \\vdots  \\\\\n",
    "a_1^N & a_2^N & \\dots & a_K^N \\\\\n",
    "\\end{pmatrix}\n",
    "$$\n",
    "\n",
    "$-$ легко записать формулу для `grad_input` в матричной форме, что и есть выход метода `update_grad_input`.\n",
    "\n",
    "Полный вывод также есть [здесь](https://eli.thegreenplace.net/2016/the-softmax-function-and-its-derivative/) и [здесь](http://hiroshiu.blogspot.com/2018/10/gradient-of-softmax-function.html).\n",
    "\n",
    "*Подсказка:* В коде используйте свойство: $\\text{softmax}(x) = \\text{softmax}(x - \\text{const})$. Это позволяет избежать переполнения при вычислении экспоненты."
   ]
  },
  {
   "cell_type": "code",
   "execution_count": 26,
   "metadata": {
    "id": "jB1ZZaltLT9X"
   },
   "outputs": [],
   "source": [
    "class SoftMax(Module):\n",
    "    def __init__(self):\n",
    "         super(SoftMax, self).__init__()\n",
    "\n",
    "    def update_output(self, input):\n",
    "        # нормализуем для численной устойчивости\n",
    "        self.output = input - input.max(axis=1, keepdims=True)\n",
    "        self.output = np.exp(self.output)\n",
    "        self.output = self.output / (np.sum(self.output, axis=1)).reshape(-1, 1)\n",
    "        return self.output\n",
    "    \n",
    "    def update_grad_input(self, input, grad_output):\n",
    "        input_clamp = input - input.max(axis=1, keepdims=True)\n",
    "        output = np.exp(input_clamp)\n",
    "        output = output / np.sum(output, axis=1).reshape(-1, 1)\n",
    "\n",
    "        self.grad_input = grad_output * output\n",
    "        self.grad_input -= output * np.sum(grad_output * output, axis=1).reshape(-1, 1)\n",
    "        \n",
    "        return self.grad_input\n",
    "    \n",
    "    def __repr__(self):\n",
    "        return 'SoftMax'"
   ]
  },
  {
   "cell_type": "markdown",
   "metadata": {
    "id": "5Jw9P_bTLT9Y"
   },
   "source": [
    "### LogSoftMax"
   ]
  },
  {
   "cell_type": "markdown",
   "metadata": {
    "id": "dN1HSCM0LT9Y"
   },
   "source": [
    "LogSoftMax слой есть просто логарифм от softmax-преобразования: \n",
    "\n",
    "$$\n",
    "\\text{logsoftmax}(x)_i = \\log(\\text{softmax}(x))_i = x_i - \\log {\\sum_j \\exp x_j}\n",
    "$$\n",
    "\n",
    "По полной аналогии с LogSoftMax-слоем распишем forward и backward:  \n",
    "\n",
    "*Forward pass:*\n",
    "\n",
    "Обозначим `batch_size` = $N$, `n_in` = $K$.\n",
    "\n",
    "$$\n",
    "x \\in \\mathbb{R}^{N \\times K}\n",
    "$$\n",
    "\n",
    "Тогда для батча LogSoftMax записывается так:\n",
    "\n",
    "$$\n",
    "\\text{LogSoftMax}(x) = \\begin{pmatrix}\n",
    "x_{11} - \\log {\\sum_{j=1}^K e^{x_j}} & x_{12} - \\log {\\sum_{j=1}^K e^{x_j}} & \\dots & x_{1K} - \\log {\\sum_{j=1}^K e^{x_j}} \\\\\n",
    "\\vdots  & \\vdots  & \\ddots & \\vdots  \\\\\n",
    "x_{N1} - \\log {\\sum_{j=1}^K e^{x_j}} & x_{N2} - \\log {\\sum_{j=1}^K e^{x_j}} & \\dots & x_{NK} - \\log {\\sum_{j=1}^K e^{x_j}} \\\\\n",
    "\\end{pmatrix}\n",
    "$$\n",
    "\n",
    "$$\n",
    "\\text{LogSoftMax}(x) \\in \\mathbb{R}^{N \\times K}\n",
    "$$"
   ]
  },
  {
   "cell_type": "markdown",
   "metadata": {
    "id": "xh80sUfNLT9Y"
   },
   "source": [
    "*Backward pass:*\n",
    "\n",
    "LogSoftMax не имеет параметров, но применяется ко входу поэлементно, поэтому дифференцируя выход этого слоя по входу мы получаем не градиент (=вектор производных), а якобиан (=матрицу производных). Пусть $x$ сейчас $-$ это **один вектор-строка из батча**, имеющая длину $K$. \n",
    "\n",
    "#### Якобиан LogSoftMax по входу:\n",
    "\n",
    "Помним, что:\n",
    "\n",
    "$$\n",
    "\\text{LogSoftMax}(x) = \\begin{pmatrix}\n",
    "x_1 - \\log {\\sum_{j=1}^K e^{x_j}} & x_2 - \\log {\\sum_{j=1}^K e^{x_j}} & \\dots & x_K - \\log {\\sum_{j=1}^K e^{x_j}}\n",
    "\\end{pmatrix} = \\begin{pmatrix}\n",
    "b_1 & b_2 & \\dots & b_K\n",
    "\\end{pmatrix}\n",
    "$$\n",
    "\n",
    "$-$ обозначали за $b$ для удобства. Тогда:\n",
    "\n",
    "$$\n",
    "\\frac{\\partial\\text{LogSoftMax}}{\\partial x} = \\begin{pmatrix}\n",
    "\\frac{\\partial b_1}{\\partial x_1} & \\frac{\\partial b_1}{\\partial x_2} & \\dots & \\frac{\\partial b_1}{\\partial x_K} \\\\\n",
    "\\frac{\\partial b_2}{\\partial x_1} & \\frac{\\partial b_2}{\\partial x_2} & \\dots & \\frac{\\partial b_2}{\\partial x_K} \\\\\n",
    "\\vdots  & \\vdots  & \\ddots & \\vdots  \\\\\n",
    "\\frac{\\partial b_K}{\\partial x_1} & \\frac{\\partial b_K}{\\partial x_2} & \\dots & \\frac{\\partial b_K}{\\partial x_K} \\\\\n",
    "\\end{pmatrix}\n",
    "$$\n",
    "\n",
    "Распишем один элемент этой матрицы и поймем, какой конкретно вид он имеет. Возьмем частную производную $b_k$ по $x_s$:\n",
    "\n",
    "$$\n",
    "\\frac{\\partial b_k}{\\partial x_s} = \\frac{\\partial x_k}{\\partial x_s} - \\frac{\\partial \\log {\\sum_{j=1}^K e^{x_j}}}{\\partial x_s} = \\frac{\\partial x_k}{\\partial x_s} - \\frac{1}{\\sum_{j=1}^K e^{x_j}} e^{x_s} \\tag{1}\n",
    "$$\n",
    "\n",
    "Далее все зависит от $k$ и $s$. Если $k = s$, то первое слагаемое в (1) не зануляется и мы получаем:\n",
    "\n",
    "$$\n",
    "\\frac{\\partial b_k}{\\partial x_k} = \\frac{\\partial x_k}{\\partial x_k} - \\frac{\\partial \\log {\\sum_{j=1}^K e^{x_j}}}{\\partial x_s} = 1 - \\frac{1}{\\sum_{j=1}^K e^{x_j}} e^{x_k} = 1 - a_k\n",
    "$$\n",
    "\n",
    "**Где $a_k$ $-$ это $k$-ая компонента SoftMax-слоя от этого входа**. Если же $k \\ne s$, то первое слагаемое в (1) обнулится:\n",
    "\n",
    "$$\n",
    "\\frac{\\partial b_k}{\\partial x_s} = \\frac{\\partial x_k}{\\partial x_s} - \\frac{\\partial \\log {\\sum_{j=1}^K e^{x_j}}}{\\partial x_s} = - \\frac{1}{\\sum_{j=1}^K e^{x_j}} e^{x_s} = a_s\n",
    "$$\n",
    "\n",
    "Таким образом для **одной строки в батче** получаем:\n",
    "\n",
    "$$\n",
    "\\frac{\\partial\\text{LogSoftMax}}{\\partial x} = \\begin{pmatrix}\n",
    "(1 - a_1) & -a_2 & \\dots & -a_K \\\\\n",
    "-a_1 & (1 - a_2) & \\dots & -a_K \\\\\n",
    "\\vdots  & \\vdots  & \\ddots & \\vdots  \\\\\n",
    "-a_1 & -a_2 & \\dots & (1 - a_K) \\\\\n",
    "\\end{pmatrix}\n",
    "$$\n",
    "\n",
    "#### Вывод `grad_input`:\n",
    "\n",
    "Полностью аналогично расписанному выше для SoftMax:\n",
    "\n",
    "$$\n",
    "\\frac{\\partial L}{\\partial x_s} = \\sum_{i=1}^K \\frac{\\partial L}{\\partial b_i}\\frac{\\partial b_i}{\\partial x_s} = \\frac{\\partial L}{\\partial b_s} \\frac{\\partial b_s}{\\partial x_s} + \\sum_{i\\ne s} \\frac{\\partial L}{\\partial b_i}\\frac{\\partial b_i}{\\partial x_s} = \\frac{\\partial L}{\\partial b_s} (1 - a_s) + \\sum_{i\\ne s} \\frac{\\partial L}{\\partial b_i} (-a_s) = \n",
    "\\frac{\\partial L}{\\partial b_s} - a_s \\frac{\\partial L}{\\partial b_s} - a_s \\sum_{i\\ne s} \\frac{\\partial L}{\\partial b_i} = \\frac{\\partial L}{\\partial b_s} - a_s \\sum_{i=1}^K \\frac{\\partial L}{\\partial b_i}\n",
    "$$\n",
    "\n",
    "Теперь легко записать формулу для `grad_input` в матричной форме, что и есть выход метода `update_grad_input()`.\n",
    "\n",
    "*Подсказка:* В коде используйте свойство: $\\text{logsoftmax}(x) = \\text{logsoftmax}(x - \\text{const})$. Это позволяет избежать переполнения при вычислении экспоненты."
   ]
  },
  {
   "cell_type": "code",
   "execution_count": 25,
   "metadata": {
    "id": "rwNWM9UNLT9Z"
   },
   "outputs": [],
   "source": [
    "class LogSoftMax(Module):\n",
    "    def __init__(self):\n",
    "         super(LogSoftMax, self).__init__()\n",
    "    \n",
    "    def update_output(self, input):\n",
    "        # нормализуем для численной устойчивости\n",
    "        self.output = input - input.max(axis=1, keepdims=True)\n",
    "        self.output = self.output - np.log(np.sum(np.exp(self.output), axis=1)).reshape(-1, 1)\n",
    "        return self.output\n",
    "    \n",
    "    def update_grad_input(self, input, grad_output):\n",
    "        input_clamp = input - input.max(axis=1, keepdims=True)\n",
    "        output = np.exp(input_clamp)\n",
    "        output = output / np.sum(output, axis=1).reshape(-1, 1)\n",
    "\n",
    "        self.grad_input = grad_output\n",
    "        self.grad_input -= output * np.sum(grad_output, axis=1).reshape(-1, 1)\n",
    "        \n",
    "        return self.grad_input\n",
    "\n",
    "    def __repr__(self):\n",
    "        return 'LogSoftMax'"
   ]
  },
  {
   "cell_type": "markdown",
   "metadata": {
    "id": "JdXwfbHe7Ap2"
   },
   "source": [
    "### Dropout (2 балл = 1 [формула] + 1 [код])\n",
    "\n",
    "[**Dropout**](https://www.cs.toronto.edu/~hinton/absps/JMLRdropout.pdf) слой просто \"отключает\" (зануляет) нейроны слоя, после котрого он стоит, с некоторой вероятностью $p$. Реализуется это тоже весьма просто: умножаем маску из независимых случайных величин, имеющих распределение $Bern(p)$ на выход предыдущего слоя. \n",
    "\n",
    "На практике установлено, что этот слой помогает бороться с переобучением и не дает нейронам \"привыкнуть\" к конкретным выходам предыдущего слоя, что тоже может привести к переобучению.\n",
    "\n",
    "В фазе обучения (`self.training == True`) нужно семплировать маску для каждого батча по-отдельности, зануляя некоторые их входы, и деля результат на $1 / (1 - p)$. Умножение на $1 / (1 - p)$ нужно для того, чтобы средние значения признаков были теми же, что будут в тесте. \n",
    "\n",
    "В фазе тестирования дропаут отключают, то есть слой становится просто тождественным преобразованием: `self.output = input`.\n",
    "\n",
    "*Forward pass:*\n",
    "$$\n",
    "x \\in \\mathbb{R}^{N \\times K}\n",
    "$$\n",
    "$$\n",
    "M \\in \\{0,1\\}^{N \\times K}\n",
    "$$\n",
    "\n",
    "$$\n",
    "\\text{Dropout}(x) = x \\cdot M \\cdot \\frac{1}{1 - p}\n",
    "$$\n",
    "\n",
    "$$\n",
    "\\text{Dropout}(x) \\in \\mathbb{R}^{N \\times K}\n",
    "$$\n",
    "\n",
    "Где $\\cdot$ $-$ поэлементное умножение.\n",
    "\n",
    "*Backward pass (1 балл):*\n",
    "\n",
    "$$\n",
    "\\frac{\\partial \\text{Dropout}}{\\partial x} = M \\cdot \\frac{1}{1 - p}\n",
    "$$\n",
    "\n",
    "Параметров у слоя нет."
   ]
  },
  {
   "cell_type": "code",
   "execution_count": 38,
   "metadata": {
    "id": "Cf1C3_Hj7ECS"
   },
   "outputs": [],
   "source": [
    "class Dropout(Module):\n",
    "    def __init__(self, p=0.5):\n",
    "        super(Dropout, self).__init__()\n",
    "        \n",
    "        self.p = p\n",
    "        self.mask = []\n",
    "        \n",
    "    def update_output(self, input):\n",
    "        \"\"\"\n",
    "        Вход:\n",
    "            `input (np.array)` -- вход слоя\n",
    "        \"\"\"\n",
    "        \n",
    "        if self.training:\n",
    "            self.mask = np.random.binomial(1, 1 - self.p, input.shape[0] * input.shape[1]).reshape((input.shape[0], \n",
    "                                                                                                input.shape[1]))\n",
    "            self.output = input * self.mask / (1 - self.p)\n",
    "        \n",
    "        else:\n",
    "            self.output = input\n",
    "            \n",
    "#         <ВАШ КОД ЗДЕСЬ>\n",
    "        \n",
    "        return self.output\n",
    "    \n",
    "    def update_grad_input(self, input, grad_output):\n",
    "        \"\"\"\n",
    "        Вход:\n",
    "            `input (np.array)` -- вход слоя\n",
    "            `grad_output (np.array)` -- градиент по выходу этого слоя, пришедший от следующего слоя\n",
    "        \"\"\"\n",
    "        \n",
    "        if self.training:\n",
    "            self.grad_input = grad_output * self.mask / (1 - self.p)\n",
    "            \n",
    "        else:\n",
    "            self.grad_input = grad_output\n",
    "        \n",
    "#         <ВАШ КОД ЗДЕСЬ>\n",
    "        \n",
    "        return self.grad_input\n",
    "        \n",
    "    def __repr__(self):\n",
    "        return 'Dropout'"
   ]
  },
  {
   "cell_type": "markdown",
   "metadata": {
    "id": "EuwSVi5d77SY"
   },
   "source": [
    "### Batch normalization (4 балла = 3 BatchNormalization [код] + 1 Scaling [код], формулы есть по ссылке)\n",
    "\n",
    "[**Batch Normalization (BN)**](http://arxiv.org/abs/1502.03167) $-$ идея batch normalization на самом деле содержится в самом названии $-$ будем нормализовать выход каждого слоя: вычитать из значения каждого признака среднее его значение по текущему батчу и делить на стандартное отклонение. Такой процесс является частным случаем **[whitening](https://en.wikipedia.org/wiki/Whitening_transformation)** ($mean = 0$, $std = 1$). После этого значения признаков умножаются на обучемый параметр `gamma` и прибавляется обучаемый свободный член `beta`, что позволяет \"контролировать\" среднее значение и дисперсию признаков.\n",
    "\n",
    "На практике BatchNorm обычно ускоряет сходимость при оптимизации, то есть позволяет обучать нейросети значительно быстрее. Вам нужно реализовать только первую часть этого слоя, которая нормализует вход. `Scaling` слой, в котором результат умножается на `gamma` и складывается с `beta`, уже реализован.\n",
    "\n",
    "То есть в данной реализации единый по своей сути слой Batch Normalization разбит на два этапа (слоя):\n",
    "1. `BatchNormalization`: вычитание `mean` и деление на `std`\n",
    "2. `Scaling`: умножение на `gamma` и прибавление `beta`\n",
    "\n",
    "**BatchNormalization**\n",
    "\n",
    "*Forward pass:*\n",
    "\n",
    "$$\n",
    "x \\in \\mathbb{R}^{N \\times K}\n",
    "$$\n",
    "$$\n",
    "\\mu \\in \\mathbb{R}^{1 \\times K}\n",
    "$$\n",
    "$$\n",
    "\\sigma \\in \\mathbb{R}^{1 \\times K}\n",
    "$$\n",
    "\n",
    "В фазе обучения  (`self.training == True`) BatchNormalization слой делает то, что описано выше:\n",
    "\n",
    "$$\n",
    "\\text{BatchNormalization}(x) = \\frac{x - \\mu}  {\\sqrt{\\sigma + \\varepsilon}}\n",
    "$$\n",
    "\n",
    "$$\n",
    "\\text{BatchNormalization}(x) \\in \\mathbb{R}^{N \\times K}\n",
    "$$\n",
    "\n",
    "где $\\mu$ и $\\sigma$ $-$ среднее и дисперсия значений признаков в $x$ ($\\varepsilon$ нужен, чтобы избежать деление на машинный 0). Также в фазе обучения среднее и дисперсию признаков следует обновлять (moving average): \n",
    "\n",
    "$$\n",
    "\\mu = \\alpha \\mu + \\widehat{\\mu} (1 - \\alpha)\n",
    "$$\n",
    "\n",
    "$$\n",
    "\\sigma = \\alpha \\sigma + \\widehat{\\sigma} (1 - \\alpha)\n",
    "$$\n",
    "\n",
    "где $\\widehat{\\mu}, \\widehat{\\sigma}$ $-$ среднее и дисперсия по текущему батчу.\n",
    "\n",
    "В фазе тестирования (`self.training == False`) слой нормализует вход `input`, используя посчитанные в фазе обучения `moving_mean` и `moving_variance`. \n",
    "\n",
    "*Backward pass:*\n",
    "\n",
    "В [оригинальной статье](https://arxiv.org/pdf/1502.03167.pdf) на странице 4 есть все формулы для реализации backward pass."
   ]
  },
  {
   "cell_type": "code",
   "execution_count": 36,
   "metadata": {
    "id": "ziP-as6w8Crs"
   },
   "outputs": [],
   "source": [
    "class BatchNormalization(Module):\n",
    "    EPS = 1e-3\n",
    "    \n",
    "    def __init__(self, alpha = 0.):\n",
    "        super(BatchNormalization, self).__init__()\n",
    "        self.alpha = alpha\n",
    "        self.moving_mean = None \n",
    "        self.moving_variance = None\n",
    "        \n",
    "    def update_output(self, input):\n",
    "        \"\"\"\n",
    "        Вход:\n",
    "            `input (np.array)` -- вход слоя\n",
    "        \"\"\"\n",
    "        \n",
    "        if self.training:\n",
    "            self.batch_mean = np.mean(input, axis=0)\n",
    "            self.batch_variance = np.var(input, axis=0)\n",
    "            if self.moving_mean is not None:\n",
    "                self.moving_mean = self.alpha * self.moving_mean + (1 - self.alpha) * self.batch_mean\n",
    "                self.moving_variance = self.alpha * self.moving_variance + (1 - self.alpha) * self.batch_variance\n",
    "            else:\n",
    "                self.moving_mean = self.batch_mean\n",
    "                self.moving_variance = self.batch_variance\n",
    "                \n",
    "        else:\n",
    "            self.batch_mean = self.moving_mean\n",
    "            self.batch_variance = self.moving_variance\n",
    "                \n",
    "        self.output = (input - self.batch_mean) / np.sqrt(self.batch_variance + self.EPS)  \n",
    "        \n",
    "#         <ВАШ КОД ЗДЕСЬ>\n",
    "        \n",
    "        return self.output\n",
    "    \n",
    "    def update_grad_input(self, input, grad_output):\n",
    "        \"\"\"\n",
    "        Вход:\n",
    "            `input (np.array)` -- вход слоя\n",
    "            `grad_output (np.array)` -- градиент по выходу этого слоя, пришедший от следующего слоя\n",
    "        \"\"\"\n",
    "        \n",
    "        grad_sigma = np.sum(grad_output * (input - self.batch_mean) * \\\n",
    "                            (-1 / 2 / ((self.batch_variance + self.EPS) ** 1.5)), axis=0)\n",
    "        grad_mu = np.sum(grad_output * (-1 / np.sqrt(self.batch_variance + self.EPS)), axis=0) + grad_sigma * \\\n",
    "                  np.sum(-2 * (input - self.batch_mean) / input.shape[0], axis=0)\n",
    "        self.grad_input = grad_output / np.sqrt(self.batch_variance + self.EPS) + \\\n",
    "                          grad_sigma * 2 * (input - self.batch_mean) / input.shape[0] + grad_mu / input.shape[0]\n",
    "        \n",
    "#         <ВАШ КОД ЗДЕСЬ>\n",
    "        \n",
    "        return self.grad_input\n",
    "    \n",
    "    def __repr__(self):\n",
    "        return 'BatchNormalization'"
   ]
  },
  {
   "cell_type": "markdown",
   "metadata": {
    "id": "yD3bwgHB8Ljj"
   },
   "source": [
    "**Scaling**\n",
    "\n",
    "*Forward pass:*\n",
    "\n",
    "$$\n",
    "x \\in \\mathbb{R}^{N \\times K}\n",
    "$$\n",
    "$$\n",
    "\\gamma \\in \\mathbb{R}^{1 \\times K}\n",
    "$$\n",
    "$$\n",
    "\\beta \\in \\mathbb{R}^{1 \\times K}\n",
    "$$\n",
    "\n",
    "$$\n",
    "\\text{Scaling}(x) = \\gamma x + \\beta\n",
    "$$\n",
    "\n",
    "$$\n",
    "\\text{Scaling}(x) \\in \\mathbb{R}^{N \\times K}\n",
    "$$\n",
    "\n",
    "где $\\gamma$ и $\\beta$ $-$ обучаемые параметры слоя.\n",
    "\n",
    "*Backward pass:*\n",
    "\n",
    "В [оригинальной статье](https://arxiv.org/pdf/1502.03167.pdf) на странице 4 есть все формулы для реализации backward pass."
   ]
  },
  {
   "cell_type": "code",
   "execution_count": 21,
   "metadata": {
    "id": "iIQFG3cL8GRN"
   },
   "outputs": [],
   "source": [
    "class Scaling(Module):\n",
    "    \n",
    "    def __init__(self, n_out):\n",
    "        super(Scaling, self).__init__()\n",
    "\n",
    "        stdv = 1./np.sqrt(n_out)\n",
    "        self.gamma = np.random.uniform(-stdv, stdv, size=(1,n_out))\n",
    "        self.beta = np.random.uniform(-stdv, stdv, size=(1,n_out))\n",
    "        \n",
    "        self.gradGamma = np.zeros_like(self.gamma)\n",
    "        self.gradBeta = np.zeros_like(self.beta)\n",
    "\n",
    "    def update_output(self, input):\n",
    "        self.output = self.gamma * input + self.beta\n",
    "        \n",
    "#         <ВАШ КОД ЗДЕСЬ>\n",
    "        \n",
    "        return self.output\n",
    "\n",
    "    def update_grad_input(self, input, grad_output):\n",
    "\n",
    "        self.grad_input = self.gamma * grad_output\n",
    "        \n",
    "#         <ВАШ КОД ЗДЕСЬ>\n",
    "\n",
    "        return self.grad_input\n",
    "    \n",
    "    def update_grad_params(self, input, grad_output):\n",
    "        \n",
    "        self.gradBeta = np.sum(grad_output, axis=0) # <ВАШ КОД ЗДЕСЬ>\n",
    "        self.gradGamma = np.sum(grad_output * input, axis=0) # <ВАШ КОД ЗДЕСЬ>\n",
    "    \n",
    "    def zero_grad_params(self):\n",
    "        self.gradGamma.fill(0)\n",
    "        self.gradBeta.fill(0)\n",
    "        \n",
    "    def get_parameters(self):\n",
    "        return [self.gamma, self.beta]\n",
    "    \n",
    "    def get_grad_params(self):\n",
    "        return [self.gradGamma, self.gradBeta]\n",
    "    \n",
    "    def __repr__(self):\n",
    "        return 'Scaling'"
   ]
  },
  {
   "cell_type": "markdown",
   "metadata": {
    "id": "nrYJWbzG8VE5"
   },
   "source": [
    "*Примечание:* BatchNormalization $-$ не единственный вид нормализации в Deep Learning. См. [обзор normalization слоев](https://mlexplained.com/2018/11/30/an-overview-of-normalization-methods-in-deep-learning/)."
   ]
  },
  {
   "cell_type": "markdown",
   "metadata": {
    "id": "xaDfJpeR8Zn8"
   },
   "source": [
    "### Flatten (1 балл = 1[код])\n",
    "\n",
    "`Flatten` нужен для того, чтобы тензор размера `(batch_size, d_1, ..., d_n)` преобразовать в тензор размера `(batch_size, d_1 * ... * d_n)` в forward pass. Заметим, что при обратном проходе градиенты, которые подаются на вход имеют размер `(batch_size, d_1 * ... * d_n)`, и должны быть преобразованы обратно в `(batch_size, d_1, ..., d_n)`. `Flatten` может пригодится нам при работе с датасетом FashionMNIST."
   ]
  },
  {
   "cell_type": "code",
   "execution_count": 22,
   "metadata": {
    "id": "PvQAx1i78bAa"
   },
   "outputs": [],
   "source": [
    "class Flatten(Module):\n",
    "    def __init__(self):\n",
    "         super(Flatten, self).__init__()\n",
    "    \n",
    "    def update_output(self, input):\n",
    "\n",
    "        self.output = input.reshape(np.prod(input.shape), -1)\n",
    "        \n",
    "#         <ВАШ КОД ЗДЕСЬ>\n",
    "\n",
    "        return self.output\n",
    "    \n",
    "    def update_grad_input(self, input, grad_output):\n",
    "      \n",
    "        self.grad_input = grad_output.reshape(input.shape)\n",
    "    \n",
    "#         <ВАШ КОД ЗДЕСЬ>\n",
    "\n",
    "        return self.grad_input\n",
    "    \n",
    "    def __repr__(self):\n",
    "        return 'Flatten'"
   ]
  },
  {
   "cell_type": "markdown",
   "metadata": {
    "id": "du0Crhg-LT9c"
   },
   "source": [
    "## Функции активации"
   ]
  },
  {
   "cell_type": "markdown",
   "metadata": {
    "id": "ga5mNgXdLT9d"
   },
   "source": [
    "Функции активации $-$ это нелинейные функции, которые ставятся после `Linear`, `Conv` и других слоев. Именно благодаря им нейросети являются не просто одним большим линейным преобразованием, а сложной нелинейной функцией.\n",
    "\n",
    "Достаточно исчерпывающий список с описанием преимуществ и недостатков каждой из функций активации [см. здесь](https://missinglink.ai/guides/neural-network-concepts/7-types-neural-network-activation-functions-right/)."
   ]
  },
  {
   "cell_type": "markdown",
   "metadata": {
    "id": "8pBDuhNULT9d"
   },
   "source": [
    "### ReLU"
   ]
  },
  {
   "cell_type": "markdown",
   "metadata": {
    "id": "7TJvlgs0LT9d"
   },
   "source": [
    "**[Rectified Linear Unit](https://www.cs.toronto.edu/~fritz/absps/reluICML.pdf)** (**ReLU**) $-$ одна из самых часто используемых функций активации.\n",
    "\n",
    "*Forward pass:*\n",
    "\n",
    "Применяется поэлементно.\n",
    "\n",
    "$$\n",
    "x \\in \\mathbb{R}^{N \\times K}\n",
    "$$\n",
    "\n",
    "$$\n",
    "\\text{ReLU}(x) = max(0, x) = \\begin{cases}\n",
    "  0, & x \\le 0 \\\\    \n",
    "  x & x \\gt 0    \n",
    "\\end{cases}\n",
    "$$\n",
    "\n",
    "$$\n",
    "\\text{ReLU}(x) \\in \\mathbb{R}^{N \\times K}\n",
    "$$\n",
    "\n",
    "*Backward pass:*\n",
    "\n",
    "$$\n",
    "\\frac{\\partial \\text{ReLU}}{\\partial x} = \\begin{cases}\n",
    "  0, & x \\le 0 \\\\    \n",
    "  1 & x \\gt 0    \n",
    "\\end{cases}\n",
    "$$"
   ]
  },
  {
   "cell_type": "code",
   "execution_count": 24,
   "metadata": {
    "id": "3tUW3UdHLT9d"
   },
   "outputs": [],
   "source": [
    "class ReLU(Module):\n",
    "    def __init__(self):\n",
    "         super(ReLU, self).__init__()\n",
    "    \n",
    "    def update_output(self, input):\n",
    "        self.output = np.maximum(input, 0)\n",
    "        return self.output\n",
    "    \n",
    "    def update_grad_input(self, input, grad_output):\n",
    "        self.grad_input = np.multiply(grad_output, input > 0)\n",
    "        return self.grad_input\n",
    "    \n",
    "    def __repr__(self):\n",
    "        return 'ReLU'"
   ]
  },
  {
   "cell_type": "markdown",
   "metadata": {
    "id": "zDNFCKuH8iTN"
   },
   "source": [
    "### Leaky ReLU (1 балл = 0.5 [формула] + 0.5 [код])\n",
    "\n",
    "**[Leaky Rectified Linear Unit](https://ai.stanford.edu/~amaas/papers/relu_hybrid_icml2013_final.pdf)** (**LeakyReLU**) $-$ добавляет в ReLU контроль над зануляемой частью.\n",
    "\n",
    "*Forward pass:*\n",
    "\n",
    "Применяется поэлементно.\n",
    "\n",
    "$$\n",
    "x \\in \\mathbb{R}^{N \\times K}\n",
    "$$\n",
    "\n",
    "$$\n",
    "\\text{LeakyReLU}(x) = \\begin{cases}\n",
    "  \\gamma x, & x \\le 0 \\\\    \n",
    "  x & x \\gt 0    \n",
    "\\end{cases}\n",
    "$$\n",
    "\n",
    "$$\n",
    "\\text{LeakyReLU}(x) \\in \\mathbb{R}^{N \\times K}\n",
    "$$\n",
    "\n",
    "*Backward pass (0.5 балла):*\n",
    "\n",
    "$$\n",
    "\\frac{\\partial \\text{LeakyReLU}}{\\partial x} = \\begin{cases}\n",
    "  \\gamma, & x \\le 0 \\\\    \n",
    "  1 & x \\gt 0    \n",
    "\\end{cases}\n",
    "$$"
   ]
  },
  {
   "cell_type": "code",
   "execution_count": 23,
   "metadata": {
    "id": "qD2vWkC18nmh"
   },
   "outputs": [],
   "source": [
    "class LeakyReLU(Module):\n",
    "    def __init__(self, slope = 0.03):\n",
    "        super(LeakyReLU, self).__init__()\n",
    "            \n",
    "        self.slope = slope\n",
    "        \n",
    "    def update_output(self, input):\n",
    "\n",
    "        self.output = np.maximum(input, 0) + self.slope * np.minimum(input, 0)\n",
    "#         <ВАШ КОД ЗДЕСЬ>\n",
    "\n",
    "        return self.output\n",
    "\n",
    "    def update_grad_input(self, input, grad_output):\n",
    "\n",
    "        self.grad_input = ((input >= 0) + self.slope * (input < 0)) * grad_output\n",
    "#         <ВАШ КОД ЗДЕСЬ>\n",
    "        \n",
    "        return self.grad_input\n",
    "\n",
    "    def __repr__(self):\n",
    "        return 'LeakyReLU'"
   ]
  },
  {
   "cell_type": "markdown",
   "metadata": {
    "id": "rG7He7umFJGk"
   },
   "source": [
    "### ELU (1 балл = 0.5 [формула] + 0.5 [код])\n",
    "\n",
    "**[Exponential Linear Unit](http://arxiv.org/abs/1511.07289)** (**ELU**) $-$ другая форма контроля над зануляемой частью.\n",
    "\n",
    "*Forward pass:*\n",
    "\n",
    "Применяется поэлементно.\n",
    "\n",
    "$$\n",
    "x \\in \\mathbb{R}^{N \\times K}\n",
    "$$\n",
    "\n",
    "$$\n",
    "\\text{ELU}(x) = \\begin{cases}\n",
    "  a(e^x - 1), & x \\le 0 \\\\    \n",
    "  x & x \\gt 0    \n",
    "\\end{cases}\n",
    "$$\n",
    "\n",
    "$$\n",
    "\\text{ELU}(x) \\in \\mathbb{R}^{N \\times K}\n",
    "$$\n",
    "\n",
    "*Backward pass (0.5 балла):*\n",
    "\n",
    "$$\n",
    "\\frac{\\partial \\text{ELU}}{\\partial x} = \\begin{cases}\n",
    "  a e^x, & x \\le 0 \\\\    \n",
    "  1 & x \\gt 0    \n",
    "\\end{cases}\n",
    "$$"
   ]
  },
  {
   "cell_type": "code",
   "execution_count": 41,
   "metadata": {
    "id": "27MdSozg9fLr"
   },
   "outputs": [],
   "source": [
    "class ELU(Module):\n",
    "    def __init__(self, alpha = 1.0):\n",
    "        super(ELU, self).__init__()\n",
    "        \n",
    "        self.alpha = alpha\n",
    "        \n",
    "    def update_output(self, input):\n",
    "        \"\"\"\n",
    "        Вход:\n",
    "            `input (np.array)` -- вход слоя\n",
    "        \"\"\"\n",
    "        \n",
    "        self.output = (input >= 0) * self.alpha * (np.exp(input) - 1) + input * (input < 0)\n",
    "        \n",
    "#         <ВАШ КОД ЗДЕСЬ>\n",
    "        \n",
    "        return self.output\n",
    "\n",
    "    def update_grad_input(self, input, grad_output):\n",
    "        \"\"\"\n",
    "        Вход:\n",
    "            `input (np.array)` -- вход слоя\n",
    "            `grad_output (np.array)` -- градиент по выходу этого слоя, пришедший от следующего слоя\n",
    "        \"\"\"\n",
    "        \n",
    "        self.grad_input = grad_output * (self.alpha * np.exp(input) * (input >= 0) + (input < 0))\n",
    "        \n",
    "#         <ВАШ КОД ЗДЕСЬ>\n",
    "        \n",
    "        return self.grad_input\n",
    "    \n",
    "    def __repr__(self):\n",
    "        return 'ELU'"
   ]
  },
  {
   "cell_type": "markdown",
   "metadata": {
    "id": "5UVwpm8yLT9g"
   },
   "source": [
    "## Функции потерь (лосс, loss, criterion, objective)"
   ]
  },
  {
   "cell_type": "markdown",
   "metadata": {
    "id": "KK-0bBmFLT9g"
   },
   "source": [
    "*Примчание:* Формально это не функции потерь, а функции риска. Везде далее и в во всех наших материалах, связанными с нейросетями, следующие слова являются синонимами: \"лосс\", \"функция потерь\", \"loss\", \"criterion\"."
   ]
  },
  {
   "cell_type": "markdown",
   "metadata": {
    "id": "izE2BM5tLT9g"
   },
   "source": [
    "Функции потерь или лоссы (не путать с [мемом \"Loss\"](https://tjournal.ru/internet/68665-mem-loss)) являютя оптимизируемыми функциями в обучении с учителем. Если считать всю нейросеть одной большой функцией, то функцию потерь можно считать [функционалом](https://ru.wikipedia.org/wiki/%D0%A4%D1%83%D0%BD%D0%BA%D1%86%D0%B8%D0%BE%D0%BD%D0%B0%D0%BB). \n",
    "\n",
    "Функции потерь не имеют параметров, а лишь вычисляют меру схожести ответов нейросети $\\widehat{y}$ (prediction) с истинными ответами $y$ (target, ground truth)."
   ]
  },
  {
   "cell_type": "markdown",
   "metadata": {
    "id": "zRHXbbhyLT9g"
   },
   "source": [
    "### Criterion\n",
    "\n",
    "**Criterion** $-$ абстрактный класс функции потерь. Этот класс можно в целом считать последним слоем нейросети, однако для удобства этот класс не является наследником `Module`, а порождает автономное семейство классов. "
   ]
  },
  {
   "cell_type": "code",
   "execution_count": null,
   "metadata": {
    "id": "SeNMu0dULT9g"
   },
   "outputs": [],
   "source": [
    "class Criterion(object):\n",
    "    def __init__ (self):\n",
    "        self.output = None\n",
    "        self.grad_input = None\n",
    "        \n",
    "    def forward(self, input, target):\n",
    "        \"\"\"\n",
    "        Вычисляет функцию потерь по входу `input` и истинными значениями `target`.\n",
    "\n",
    "        Вход: \n",
    "            `input (np.array)` -- вход слоя  \n",
    "            `target (np.array)` -- истинные ответы\n",
    "        Выход: \n",
    "            `self.update_output(input, target) (np.array)` -- вычисленная функция потерь\n",
    "        \"\"\"\n",
    "        return self.update_output(input, target)\n",
    "\n",
    "    def backward(self, input, target):\n",
    "        \"\"\"\n",
    "        Вычисляет градиент функции потерь по входу `input`.\n",
    "        Использует для этого также истинные значения `target`.\n",
    "\n",
    "        Вход: \n",
    "            `input (np.array)` -- вход слоя  \n",
    "            `target (np.array)` -- истинные ответы\n",
    "        Выход: \n",
    "            `self.update_grad_input(input, target) (np.array)` -- вычисленный градиент по входу `input`\n",
    "        \"\"\"\n",
    "        return self.update_grad_input(input, target)\n",
    "    \n",
    "    def update_output(self, input, target):\n",
    "        \"\"\"\n",
    "        Фунция, реализующая `forward()`\n",
    "        \"\"\"\n",
    "        return self.output\n",
    "\n",
    "    def update_grad_input(self, input, target):\n",
    "        \"\"\"\n",
    "        Фунция, реализующая `backward()`\n",
    "        \"\"\"\n",
    "        return self.grad_input   \n",
    "\n",
    "    def __repr__(self):\n",
    "        \"\"\"\n",
    "        Напечатать название слоя КРАСИВО.\n",
    "        \"\"\"\n",
    "        return 'Criterion'"
   ]
  },
  {
   "cell_type": "markdown",
   "metadata": {
    "id": "XnhPXvwtLT9i"
   },
   "source": [
    "### Negative LogLikelihood criterion (численно неустойчивый)\n",
    "**[NLLCriterion](http://scikit-learn.org/stable/modules/model_evaluation.html#log-loss)** $-$ является отрицанием логарифма функции правдоподобия (likelihood function), используется в задаче классификации. Является частным случаем [дивергенции Кульбака-Лейблера](https://ru.wikipedia.org/wiki/%D0%A0%D0%B0%D1%81%D1%81%D1%82%D0%BE%D1%8F%D0%BD%D0%B8%D0%B5_%D0%9A%D1%83%D0%BB%D1%8C%D0%B1%D0%B0%D0%BA%D0%B0_%E2%80%94_%D0%9B%D0%B5%D0%B9%D0%B1%D0%BB%D0%B5%D1%80%D0%B0). Принимает на вход истинные вероятности классов $y$ и предсказанные вероятности классов $\\widehat{y}$ от `SoftMax`-слоя.\n",
    "\n",
    "Истинные метки `y` на вход ожидаются уже **после One-Hot кодирования**.\n",
    "\n",
    "*Forward pass:*\n",
    "\n",
    "$$\n",
    "\\widehat{y} \\in \\mathbb{R}^{N \\times K}\n",
    "$$\n",
    "\n",
    "$$\n",
    "y \\in \\mathbb{R}^{N \\times K}\n",
    "$$\n",
    "\n",
    "$$\n",
    "\\text{NLLCriterion}(\\widehat{y}, y) = -\\frac{1}{N} \\sum_{i=1}^{N} \\sum_{j=1}^{K} y_{ij} \\log(\\widehat{y}_{ij})\n",
    "$$\n",
    "\n",
    "$$\n",
    "\\text{NLLCriterion}(\\widehat{y}, y) \\in \\mathbb{R}\n",
    "$$\n",
    "\n",
    "*Backward pass (0.5 балла):*\n",
    "\n",
    "$$\n",
    "\\frac{\\partial \\text{NLLCriterion}}{\\partial \\widehat{y}} = -\\frac{1}{N} \\frac{y}{\\widehat{y}}\n",
    "$$"
   ]
  },
  {
   "cell_type": "code",
   "execution_count": null,
   "metadata": {
    "id": "rs1G0vB7LT9i"
   },
   "outputs": [],
   "source": [
    "class NLLCriterionUnstable(Criterion):\n",
    "    EPS = 1e-15\n",
    "    def __init__(self):\n",
    "        a = super(NLLCriterionUnstable, self)\n",
    "        super(NLLCriterionUnstable, self).__init__()\n",
    "        \n",
    "    def update_output(self, input, target): \n",
    "        # Use this trick to avoid numerical errors\n",
    "        input_clamp = np.clip(input, self.EPS, 1 - self.EPS)\n",
    "        self.output = -np.sum(np.multiply(target, np.log(input_clamp))) / input_clamp.shape[0]\n",
    "        return self.output\n",
    "\n",
    "    def update_grad_input(self, input, target):\n",
    "        # Use this trick to avoid numerical errors\n",
    "        input_clamp = np.clip(input, self.EPS, 1 - self.EPS)\n",
    "        self.grad_input = -(target / input_clamp) / input_clamp.shape[0]\n",
    "        return self.grad_input\n",
    "    \n",
    "    def __repr__(self):\n",
    "        return 'NLLCriterionUnstable'"
   ]
  },
  {
   "cell_type": "markdown",
   "metadata": {
    "id": "NHHeHhwSLT9i"
   },
   "source": [
    "### Negative LogLikelihood criterion (численно устойчивый)"
   ]
  },
  {
   "cell_type": "markdown",
   "metadata": {
    "id": "p1alK0u1LT9i"
   },
   "source": [
    "Абсолютная копия `NLLCriterionUnstable` выше, но принимает на вход не `SoftMax`-вероятности, а выход `LogSoftMax` слоя. Подобная комбинация позволяет избежать проблем в этом слое с вычислениями `forward` и `backward` для логарифма.  \n",
    "\n",
    "Изменений немного, а формула наоборот упрощается. Поэтому напишем сразу код."
   ]
  },
  {
   "cell_type": "code",
   "execution_count": null,
   "metadata": {
    "id": "sp5Hb6TMLT9i"
   },
   "outputs": [],
   "source": [
    "class NLLCriterion(Criterion):\n",
    "    def __init__(self):\n",
    "        a = super(NLLCriterion, self)\n",
    "        super(NLLCriterion, self).__init__()\n",
    "        \n",
    "    def update_output(self, input, target): \n",
    "        self.output = -np.sum(np.multiply(target, input)) / input.shape[0]\n",
    "        return self.output\n",
    "\n",
    "    def update_grad_input(self, input, target):\n",
    "        self.grad_input = -target / input.shape[0]\n",
    "        return self.grad_input\n",
    "    \n",
    "    def __repr__(self):\n",
    "        return 'NLLCriterion'"
   ]
  },
  {
   "cell_type": "markdown",
   "metadata": {
    "id": "No1H2UY-LT9j"
   },
   "source": [
    "## Оптимизаторы"
   ]
  },
  {
   "cell_type": "markdown",
   "metadata": {
    "id": "_BcAJBx8LT9j"
   },
   "source": [
    "### SGD\n",
    "\n",
    "Оптимизатор, основанный на методе стохастического градиентного спуска."
   ]
  },
  {
   "cell_type": "code",
   "execution_count": 67,
   "metadata": {
    "id": "3CpfEzxDLT9j"
   },
   "outputs": [],
   "source": [
    "def SGD(variables, gradients, config, state):  \n",
    "    '''\n",
    "    Реализация метода стохастического градиентого спуска.\n",
    "    Обновляет значения переменных в соответствии с их градиентами и сохраняет градиенты в state.\n",
    "    \n",
    "    Вход:\n",
    "        `variables` - список (`list`) списков переменных, которые нужно обновить \n",
    "         (один список для одного слоя)\n",
    "        `gradients` - список (`list`) списков градиентов этих переменных \n",
    "         (ровно та же структура, как и у `variables`, один список для одного слоя)\n",
    "        `config` - словарь (`dict`) c гиперпараметрами оптимизатора \n",
    "         (сейчас это только `learning_rate`)\n",
    "        `state` -  словарь (`dict`) c состоянием (`state`) оптимизатора\n",
    "    Выход:\n",
    "        Ничего не возвращает. Обновляет значения градиентов \n",
    "    '''\n",
    "    for current_layer_vars, current_layer_grads in zip(variables, gradients): \n",
    "        for current_var, current_grad in zip(current_layer_vars, current_layer_grads):\n",
    "            current_var -= config['learning_rate'] * current_grad"
   ]
  },
  {
   "attachments": {
    "%D0%A1%D0%BD%D0%B8%D0%BC%D0%BE%D0%BA%20%D1%8D%D0%BA%D1%80%D0%B0%D0%BD%D0%B0%202022-03-18%20231653.png": {
     "image/png": "[encoded data removed]"
    }
   },
   "cell_type": "markdown",
   "metadata": {
    "id": "i3aTtbdlGo4J"
   },
   "source": [
    "### Любой другой оптимизатор с лекции (1 балл = 1[реализация])\n",
    "\n",
    "Реализуем Адама. Воспользуемся следующими формулами с лекции:\n",
    "\n",
    "![%D0%A1%D0%BD%D0%B8%D0%BC%D0%BE%D0%BA%20%D1%8D%D0%BA%D1%80%D0%B0%D0%BD%D0%B0%202022-03-18%20231653.png](attachment:%D0%A1%D0%BD%D0%B8%D0%BC%D0%BE%D0%BA%20%D1%8D%D0%BA%D1%80%D0%B0%D0%BD%D0%B0%202022-03-18%20231653.png)"
   ]
  },
  {
   "cell_type": "code",
   "execution_count": 66,
   "metadata": {
    "id": "cuMwWcOvG5qj"
   },
   "outputs": [],
   "source": [
    "def Adam(variables, gradients, config, state): \n",
    "    '''\n",
    "    Реализация метода Adam.\n",
    "    Обновляет значения переменных в соответствии с их градиентами и сохраняет градиенты в state.\n",
    "    \n",
    "    Вход:\n",
    "        `variables` - список (`list`) списков переменных, которые нужно обновить \n",
    "         (один список для одного слоя)\n",
    "        `gradients` - список (`list`) списков градиентов этих переменных \n",
    "         (ровно та же структура, как и у `variables`, один список для одного слоя)\n",
    "        `config` - словарь (`dict`) c гиперпараметрами оптимизатора \n",
    "         (`learning_rate`, `beta`, `mu`)\n",
    "        `state` -  словарь (`dict`) c состоянием (`state`) оптимизатора\n",
    "    Выход:\n",
    "        Ничего не возвращает. Обновляет значения градиентов \n",
    "    '''\n",
    "    EPS = 1e-15\n",
    "    state.setdefault('v', {})  # скорость\n",
    "    state.setdefault('g', {})  # нормализация\n",
    "    state.setdefault('t', 0)  # номер итерации\n",
    "    state['t'] += 1\n",
    "    \n",
    "    var_idx = 0\n",
    "    for current_layer_vars, current_layer_grads in zip(variables, gradients):\n",
    "        for current_var, current_grad in zip(current_layer_vars, current_layer_grads):\n",
    "            velocity = state['v'].setdefault(var_idx, np.zeros_like(current_grad))\n",
    "            normalization = state['g'].setdefault(var_idx, np.zeros_like(current_grad))\n",
    "            velocity = config['beta'] * velocity + (1 - config['beta']) * current_grad\n",
    "            normalization = config['mu'] * normalization + (1 - config['mu']) * (current_grad ** 2)\n",
    "            current_var -= config['learning_rate'] / (np.sqrt(normalization + EPS) / \\\n",
    "                                    (1 - (config['mu'] ** state['t']))) * velocity / (1 - (config['beta'] ** state['t']))\n",
    "        \n",
    "        \n",
    "            var_idx += 1\n",
    "    \n",
    "#     <ВАШ КОД ЗДЕСЬ>"
   ]
  },
  {
   "cell_type": "markdown",
   "metadata": {
    "id": "SIpCFWc5LT9k"
   },
   "source": [
    "---"
   ]
  },
  {
   "cell_type": "markdown",
   "metadata": {
    "id": "hR53UZ-dLT9k"
   },
   "source": [
    "- Если хочется ускорить вычисления и написать действительно \"свой PyTorch\", можно использовать библиотеку [JAX](https://github.com/google/jax) от Google. Она является оберткой над [autograd](https://github.com/hips/autograd) (автоматическое дифференцирование) и [XLA](https://www.tensorflow.org/xla) (компиляция Python-кода)\n",
    "\n",
    "- До сих пор мы производили все вычисления на CPU. Однако Deep Learning расцвел благодаря GPU. Более конкретно $-$ благодаря [Nvidia GPU](https://developer.nvidia.com/cuda-gpus) и [Nvidia CUDA](https://developer.nvidia.com/cuda-zone). Они также очень активно используются для [компьютерной графики](https://en.wikipedia.org/wiki/Computer_graphics)\n",
    "\n",
    "- NumPy как раз можно запускать на GPU: раньше для этого чаще использовали [Numba](https://github.com/numba/numba), однако сейчас (в 2020 году) есть [много удобных библиотек для этого](https://stsievert.com/blog/2016/07/01/numpy-gpu/)\n",
    "\n",
    "- Конечно же, вы всегда можете просто использовать PyTorch для работы с GPU."
   ]
  },
  {
   "cell_type": "markdown",
   "metadata": {
    "id": "4BPXq0XfLT9k"
   },
   "source": [
    "<img src=\"https://pwnews.net/_fr/108/8422266.png\" width=500>"
   ]
  }
 ],
 "metadata": {
  "colab": {
   "name": "[1.1]_modules.ipynb",
   "provenance": []
  },
  "kernelspec": {
   "display_name": "Python 3 (ipykernel)",
   "language": "python",
   "name": "python3"
  },
  "language_info": {
   "codemirror_mode": {
    "name": "ipython",
    "version": 3
   },
   "file_extension": ".py",
   "mimetype": "text/x-python",
   "name": "python",
   "nbconvert_exporter": "python",
   "pygments_lexer": "ipython3",
   "version": "3.8.12"
  },
  "toc": {
   "base_numbering": 1,
   "nav_menu": {},
   "number_sections": true,
   "sideBar": true,
   "skip_h1_title": false,
   "title_cell": "Table of Contents",
   "title_sidebar": "Contents",
   "toc_cell": false,
   "toc_position": {},
   "toc_section_display": true,
   "toc_window_display": false
  }
 },
 "nbformat": 4,
 "nbformat_minor": 1
}
