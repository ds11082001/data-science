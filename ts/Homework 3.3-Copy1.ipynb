{
 "cells": [
  {
   "cell_type": "markdown",
   "metadata": {},
   "source": [
    "# Дискретные случайные процессы и временные ряды.\n",
    "## Задание 3.3\n",
    "### Стационарные процессы. Ветвящиеся процессы Гальтона-Ватсона.\n",
    "\n",
    "Выполненную работу нужно отправить телеграм-боту  `@miptstats_ad21_bot`\n",
    "* Дедлайн см. в телеграм-боте. После дедлайна работы не принимаются кроме случаев наличия уважительной причины.\n",
    "* По практическим задачам прислать нужно ноутбук.\n",
    "* Теоретические задачи необходимо оформить в tex’е и прислать `pdf` или же прислать фотку в правильной ориентации рукописного решения, где все четко видно.\n",
    "* Решения, размещенные на каких-либо интернет-ресурсах не принимаются. Кроме того, публикация решения в открытом доступе может быть приравнена к предоставлении возможности списать.\n",
    "* Не забывайте делать пояснения и выводы.\n",
    "* При проверке могут быть запущены функции, которые отвечают за генерацию траекторий винеровского процесса.\n",
    "\n",
    "------------------"
   ]
  },
  {
   "cell_type": "markdown",
   "metadata": {},
   "source": [
    "### Задача 1 (2 балла)\n",
    "\n",
    "Пусть $(X_t, t\\geqslant 0)$ --- случайный процесс и $Y_t = X_{t+1} - X_t$. Является ли процесс $Y_t$ стационарным и в каком смысле, если \n",
    "\n",
    "a) $X_t = W_t$ &mdash; винеровский процесс;\n",
    "\n",
    "б) $X_t = N_t$ &mdash; пуассоновский процесс?"
   ]
  },
  {
   "cell_type": "markdown",
   "metadata": {},
   "source": [
    "### Задача 2 (2 балла)\n",
    "\n",
    "Найдите производящую функцию числа частиц в $n$-м поколении ветвящегося процесса, если производящая функция числа потомков одной частицы равна $1-p(1-z)^{\\alpha}$, $\\alpha\\in(0,1)$.\n",
    "\n",
    "Найдите вероятность вырождения данного процесса"
   ]
  },
  {
   "cell_type": "markdown",
   "metadata": {},
   "source": [
    "### Задача 3 (2 балла)\n",
    "\n",
    "Пусть $(X_n,n\\in{\\mathbb Z}_{+})$ &mdash; ветвящийся процесс с законом размножения частиц $\\xi$. Обозначим через $Y_n=X_n+\\ldots+X_0$ &mdash; общее число частиц в процессе за время $n$, а через $\\varphi_{Y_n}\\;(z)$ &mdash; его производящую функцию. Докажите, что\n",
    "\n",
    "$$ \\large\\varphi_{Y_n}(z)=z\\varphi_{\\xi}(\\varphi_{Y_{n-1}}\\;(z)).$$"
   ]
  },
  {
   "cell_type": "markdown",
   "metadata": {},
   "source": [
    "### Задача 4. Исследование ветвящегося процесса (5 баллов)\n",
    "\n",
    "<IMG SRC=\"https://www.wikitree.com/images/wikitree-logo.png\">\n",
    "\n",
    "\n",
    "В Британской империи в Викторианскую эпоху (1837—1901) было обращено внимание на вымирание аристократических фамилий. В связи с этим в своей статье в The Educational Times в 1873 году Гальтон поставил вопрос о вероятности вымирания фамилии. Решение этого вопроса нашел Ватсон и вместе в 1874 году они написали статью \"On the probability of the extinction of families\".\n",
    "На сайте <a href=\"http://wikitree.com\">wikitree.com</a> в свободно распространяемом формате собрано большое количество данных о родословных различных людей. В коллекции есть как люди, жившие во времена поздней античности, так и наши современники. На основе некоторой части этих данных вам предстоит провести исследование о вымирании фамилий.\n",
    "\n",
    "Вам предоставляются несколько файлов, в которых содержатся данные о некоторых родословных. Вам предстоит проводить исследование на нескольких из этих файлов (выберете 5 любых файлов из предложенных). Формат файлов следующий:\n",
    "\n",
    "`generation \\t name \\t gender \\t birthday \\t deathdate \\t parents \\t siblings \\t spouses \\t children`\n",
    "\n",
    "Эти данные означают номер поколения, фамилию, пол, дату рождения, дату смерти, родителей, братьев и сестер, супруг, детей соответственно. Если какая-то характеристика неизвестна (кроме номера поколения и фамилии), вместо нее ставится пустая подстрока. Если каких-то характеристик несколько, то они разделены через \";\". Все люди представлены некоторым идентификатором `<id>`, который соответствует адресу `http://www.wikitree.com/wiki/<id>`. Например, идентификатор `Romanov-29` соответствует адресу <a href=\"http://www.wikitree.com/wiki/Romanov-29\">`http://www.wikitree.com/wiki/Romanov-29`</a>. В файле родословные отделяются друг от друга пустой строкой.\n",
    "\n",
    "Для облегчения вашей работы мы предоставляем вам код, который считывает данные из этого файла и преобразует их в список ветвящихся процессов. Каждый ветвящийся процесс содержит список списков, в каждом из которых содержатся все люди из соответствующего поколения. Обратите внимание, что одни и те же родословные могут попасть в разные файлы. В таком случае их можно считать разными, но при желании вы можете удалить копии.\n",
    "\n",
    "В предоставленных данных в каждой родословной для каждого мужчины на следующем поколении содержатся все его дети, которые были указаны на сайте. Для женщин дети в данной родословной не указаны. Это связано с тем, что женщины обычно меняют свою фамилию, когда выходят замуж, тем самым, они переходят в другую ветку. С точки зрения ветвящихся процессов, нужно иметь в виду, что если у мужчины родилось 3 мальчика и 4 девочки, то у него 3 потомка как продолжателя фамилии.\n",
    "\n",
    "Ваша задача &mdash; исследовать процесс вымирания фамилий на основе предложенных данных. В данном задании вам предстоит сделать оценку закона размножения, а в следующем задании &mdash; провести остальной анализ."
   ]
  },
  {
   "cell_type": "code",
   "execution_count": 214,
   "metadata": {},
   "outputs": [],
   "source": [
    "import numpy as np\n",
    "import scipy.stats as sps\n",
    "from collections import Counter  # это может пригодиться\n",
    "from BranchingProcess import Person, BranchingProcess, read_from_files\n",
    "from tqdm import tqdm\n",
    "\n",
    "import warnings\n",
    "warnings.filterwarnings('ignore')\n",
    "\n",
    "import matplotlib.pyplot as plt\n",
    "from matplotlib import rcParams\n",
    "rcParams.update({'font.size': 16})\n",
    "%matplotlib inline"
   ]
  },
  {
   "cell_type": "markdown",
   "metadata": {},
   "source": [
    "## 1. Описательный анализ\n",
    "\n",
    "Большая часть кода, необходимая для проведения данного анализа, является технической и основывается на работе с пакетом `BranchingProcess`. Поэтому данный код полностью вам выдается, вам нужно только выполнить его, подставить имена файлов. Кроме того, код анализа позволит вам лучше понять структуру данных.\n",
    "\n",
    "Считайте данные с помощью предложенного кода. Посчитайте количество родословных."
   ]
  },
  {
   "cell_type": "code",
   "execution_count": 101,
   "metadata": {},
   "outputs": [
    {
     "name": "stdout",
     "output_type": "stream",
     "text": [
      "24066\n"
     ]
    }
   ],
   "source": [
    "processes = read_from_files(files=['C.txt', 'E.txt', 'M.txt', 'T.txt', 'W.txt'])\n",
    "print(len(processes))"
   ]
  },
  {
   "cell_type": "markdown",
   "metadata": {},
   "source": [
    "В имеющихся данных очень много людей, про которых известно лишь то, что они когда-то существовали. Обычно их фамилия неизвестна (вместо фамилии у них может стоять, к примеру, `B-290`), а у некоторых из них неизвестен даже пол, не говоря уже о родителях и детях. Такие данные стоит удалить.\n",
    "\n",
    "Удалите все процессы, состоящие только из одного поколения (в котором, естественно, будет только один человек).\n",
    "Сколько осталось процессов?"
   ]
  },
  {
   "cell_type": "code",
   "execution_count": 102,
   "metadata": {},
   "outputs": [
    {
     "name": "stdout",
     "output_type": "stream",
     "text": [
      "6804\n"
     ]
    }
   ],
   "source": [
    "for i in range(len(processes))[::-1]:\n",
    "    if len(processes[i].generations) < 2:\n",
    "        del processes[i]\n",
    "\n",
    "print(len(processes))"
   ]
  },
  {
   "cell_type": "markdown",
   "metadata": {},
   "source": [
    "Для лучшего понимания задачи и предложенных данных посчитайте следующие характеристики: минимальное, максимальное и среднее число поколений в роду, год рождения самого старого и самого молодого человека, среднюю продолжительность жизни."
   ]
  },
  {
   "cell_type": "code",
   "execution_count": 103,
   "metadata": {},
   "outputs": [
    {
     "name": "stdout",
     "output_type": "stream",
     "text": [
      "Минимальное число поколений в роду: 2\n",
      "Максимальное число поколений в роду: 81\n",
      "Среднее число поколений в роду: 3.3\n",
      "Год рождения самого старого: 1\n",
      "Год рождения самого молодого: 2000\n"
     ]
    }
   ],
   "source": [
    "generation_counts = []\n",
    "years = []\n",
    "\n",
    "for pedigree in processes:\n",
    "    generation_counts.append(len(pedigree.generations))\n",
    "    \n",
    "    for generation in pedigree.generations:\n",
    "        for person in generation:\n",
    "            if person.birthday != '':\n",
    "                years.append(person.birthday.split('-')[0])\n",
    "\n",
    "years = np.array(years, dtype=int)\n",
    "print('Минимальное число поколений в роду:', min(generation_counts))\n",
    "print('Максимальное число поколений в роду:', max(generation_counts))\n",
    "print('Среднее число поколений в роду:', round(np.mean(generation_counts), 1))\n",
    "print('Год рождения самого старого:', min(years))\n",
    "print('Год рождения самого молодого:', max(years))"
   ]
  },
  {
   "cell_type": "markdown",
   "metadata": {},
   "source": [
    "Постройте гистограмму зависимости количества поколений в родословной от количества родословных.\n",
    "На следующем графике отложите на временной оси года рождения всех людей."
   ]
  },
  {
   "cell_type": "code",
   "execution_count": 104,
   "metadata": {},
   "outputs": [
    {
     "data": {
      "image/png": "[encoded data removed]",
      "text/plain": [
       "<Figure size 720x288 with 1 Axes>"
      ]
     },
     "metadata": {
      "needs_background": "light"
     },
     "output_type": "display_data"
    },
    {
     "data": {
      "image/png": "[encoded data removed]",
      "text/plain": [
       "<Figure size 1080x72 with 1 Axes>"
      ]
     },
     "metadata": {
      "needs_background": "light"
     },
     "output_type": "display_data"
    }
   ],
   "source": [
    "plt.figure(figsize=(10, 4))\n",
    "plt.hist(generation_counts, bins=80)\n",
    "plt.xlabel('generations count in pedigree')\n",
    "plt.ylabel('count of pedogree')\n",
    "plt.show()\n",
    "\n",
    "plt.figure(figsize=(15, 1))\n",
    "plt.scatter(years, np.zeros_like(years), alpha=0.2)\n",
    "plt.xlabel('years')\n",
    "plt.show()"
   ]
  },
  {
   "cell_type": "markdown",
   "metadata": {},
   "source": [
    "Посчитайте среднюю продолжительность жизни."
   ]
  },
  {
   "cell_type": "code",
   "execution_count": 105,
   "metadata": {},
   "outputs": [
    {
     "name": "stdout",
     "output_type": "stream",
     "text": [
      "57.72\n"
     ]
    }
   ],
   "source": [
    "ages = []\n",
    "for pedigree in processes:\n",
    "    for generation in pedigree.generations:\n",
    "        for person in generation:\n",
    "            if person.birthday != '' and person.deathdate != '':\n",
    "                ages.append(int(person.deathdate.split('-')[0]) - \\\n",
    "                            int(person.birthday.split('-')[0]))\n",
    "\n",
    "mean_age = np.mean(ages)\n",
    "print(round(mean_age, 2))"
   ]
  },
  {
   "cell_type": "markdown",
   "metadata": {},
   "source": [
    "## 2. Оценка закона размножения\n",
    "\n",
    "Для начала предположим, что все выданные вам процессы являются частью одного большого процесса с общим предком. В следующем задании рассмотрим так же случай, когда все процессы являются разными.\n",
    "\n",
    "Чтобы проводить какой-либо анализ ветвящегося процесса нужно некоторым образом оценить закон размножения. Кажется,  что для этого достаточно посчитать количество сыновей у каждого человека, получив тем самым выборку неотрицательных целых чисел. Однако, проблема в том, что данные неполные, в частности, некоторые поля могут быть не заполнены. Тем не менее обычно у человека указаны либо все дети, либо не указаны вообще. \n",
    "Таким образом, условно мы можем разделить выборку на две части: поле детей заполнено (в т.ч. если у человека на самом деле нет детей), поле детей незаполнено. Если бы первая часть выборки была бы полностью известна, что распределение можно оценить по ней. Нам же неизвестен размер выборки и количество нулевых элементов в ней. Количество положительных элементов известно.\n",
    "\n",
    "\n",
    "**Математическая постановка задачи**\n",
    "\n",
    "$\\mathsf{P}_\\theta$ &mdash; неизвестное распределение из некоторого класса распределений $\\mathcal{P}$ на $\\mathbb{Z}_+$.\n",
    "\n",
    "$X_1, ..., X_n$ &mdash; выборка из распределения $\\mathsf{P}_\\theta$, причем $n$ и количество нулей в выборке неизвестны. \n",
    "\n",
    "$Y_1, ..., Y_s$ &mdash; положительная подвыборка, которая полностью нам известна. В нашей задаче $Y_j$ &mdash; количество сыновей у $j$-го человека среди тех, у кого есть хотя бы один сын.\n",
    "\n",
    "Оценку параметра $\\theta$ можно найти методом максимального правдоподобия:\n",
    "\n",
    "$$\\prod_{i=1}^s \\mathsf{P}_\\theta (Y_i \\left| Y_i > 0 \\right) \\to \\max_\\theta$$ \n",
    "\n",
    "В качестве классов распределений $\\mathcal{P}$ рассмотрите пуассоновское и геометрическое распределения. По желанию можете рассмотреть другие классы распределений, осмысленные в данной задаче\n",
    "\n",
    "**Внимание!** Применение метода `fit` из `scipy.stats` является некорректным в данной задаче, поскольку рассматривается усеченная выборка. Задачу максимизации нужно решить явно, выписав все формулы (которые тоже нужно прислать вместе с кодом).\n",
    "\n",
    "После оценки параметров проведите проверку принадлежности неизвестного распределения рассматриваемому семейству распределений $\\mathcal{P}$ с помощью критерия хи-квадрат, взяв для для него то распределение из $\\mathcal{P}$, которое соответствует оценке максимального правдоподобия. Постарайтесь учесть все особенности проверки гипотез, которые обсуждались на семинаре. Для каждого класса постройте также график частот и функции $\\mathsf{P}_\\theta (y \\left| Y > 0 \\right).$"
   ]
  },
  {
   "cell_type": "markdown",
   "metadata": {},
   "source": [
    "Сделаем заготовку: выразим условную плотность ($y > 0$): \n",
    "$$P_{\\theta}(y | Y > 0) = \\frac{P_{\\theta}(y, y > 0)}{P_{\\theta}(y > 0)} = \\frac{P_{\\theta}(y)}{1 - P_{\\theta}(0)}.$$"
   ]
  },
  {
   "cell_type": "markdown",
   "metadata": {},
   "source": [
    "Сначала сформируем массив $Y, \\ Y_j$  — количество сыновей у $j$-го человека среди тех, у кого есть хотя бы один сын."
   ]
  },
  {
   "cell_type": "code",
   "execution_count": 218,
   "metadata": {},
   "outputs": [
    {
     "name": "stderr",
     "output_type": "stream",
     "text": [
      "100%|██████████| 6804/6804 [06:54<00:00, 16.41it/s]  \n"
     ]
    },
    {
     "data": {
      "text/plain": [
       "(23714, 18, 1)"
      ]
     },
     "execution_count": 218,
     "metadata": {},
     "output_type": "execute_result"
    }
   ],
   "source": [
    "men_arr = []\n",
    "for pedigree in processes:\n",
    "    for generation in pedigree.generations:\n",
    "        for person in generation:\n",
    "            if person.gender == 'male':\n",
    "                men_arr.append(person.name)\n",
    "                \n",
    "Y = []\n",
    "for pedigree in tqdm(processes):\n",
    "    for generation in pedigree.generations:\n",
    "        for person in generation:\n",
    "            if person.children != ['']:\n",
    "                k_men = 0\n",
    "                for child in person.children:\n",
    "                    if child in men_arr:\n",
    "                        k_men += 1\n",
    "                if k_men > 0:\n",
    "                    Y.append(k_men)\n",
    "len(Y), np.max(Y), np.min(Y)"
   ]
  },
  {
   "cell_type": "markdown",
   "metadata": {},
   "source": [
    "Теперь напишем функцию поиска по сетке. ОМП некоторых из полученных позже условных распределений не считается в элементарных функциях, поэтому будем считать ОМП с помощью поиска по сетке."
   ]
  },
  {
   "cell_type": "code",
   "execution_count": 428,
   "metadata": {},
   "outputs": [],
   "source": [
    "def grid_search(f, Y, theta_left, theta_right, precision, iters_remained, grid_size):\n",
    "    best_likelihood = -np.inf\n",
    "    best_theta = None\n",
    "    space = (theta_right - theta_left) / grid_size\n",
    "    grid = np.linspace(theta_left, theta_right, grid_size + 1)\n",
    "    if iters_remained <= 0 or (theta_right - theta_left) < precision:\n",
    "        return (theta_left + theta_right) / 2\n",
    "    for theta in grid:\n",
    "#         print(theta)\n",
    "        likelihood = f(Y, theta)\n",
    "#         print(likelihood)\n",
    "        if likelihood > best_likelihood:\n",
    "            best_likelihood = likelihood\n",
    "            best_theta = theta\n",
    "    print(f'best_theta: {best_theta}')\n",
    "    print(f'best_likelihood: {best_likelihood}')\n",
    "    return grid_search(f, Y, max(best_theta - space, theta_left), min(best_theta + space, theta_right), precision, \n",
    "                       iters_remained - 1, grid_size)"
   ]
  },
  {
   "cell_type": "markdown",
   "metadata": {},
   "source": [
    "$Pois(\\theta):$ выпишем условную плотность по заготовке:\n",
    "$$P_{\\theta}(y | Y > 0) = \\frac{P_{\\theta}(y)}{1 - P_{\\theta}(0)} = \\frac{e^{-\\theta}\\frac{\\theta^y}{y!}}{1 - e^{-\\theta}} = \\frac{\\theta^y}{y!(e^\\theta - 1)}.$$\n",
    "Теперь выпишем лог функцию правдоподобия:\n",
    "$$l_Y(\\theta) = \\left(\\sum\\limits_{i = 1}^{s}Y_i \\right)\\ln{\\theta} - \\prod\\limits_{i = 1}^{s}Y_i! - n\\ln{\\left(e^{\\theta} - 1 \\right)}.$$\n",
    "Отбросим константу и получим функцию, которую будем оптимизировать:\n",
    "$$\\widetilde{l_Y(\\theta)} = \\left(\\sum\\limits_{i = 1}^{s}Y_i \\right)\\ln{\\theta} - n\\ln{\\left(e^{\\theta} - 1 \\right)}.$$"
   ]
  },
  {
   "cell_type": "code",
   "execution_count": 429,
   "metadata": {},
   "outputs": [
    {
     "name": "stdout",
     "output_type": "stream",
     "text": [
      "best_theta: 2.0\n",
      "best_likelihood: -7970.669230008723\n",
      "best_theta: 1.8399999999999999\n",
      "best_likelihood: -7855.184040570315\n",
      "best_theta: 1.8443999999999998\n",
      "best_likelihood: -7855.094219958344\n",
      "best_theta: 1.8442399999999999\n",
      "best_likelihood: -7855.0940958692445\n",
      "best_theta: 1.8442422399999998\n",
      "best_likelihood: -7855.094095842793\n"
     ]
    },
    {
     "data": {
      "text/plain": [
       "1.8442422399999998"
      ]
     },
     "execution_count": 429,
     "metadata": {},
     "output_type": "execute_result"
    }
   ],
   "source": [
    "loglikelihood = lambda Y, theta: np.sum(Y) * np.log(theta) - len(Y) * np.log(np.exp(theta) - 1)\n",
    "\n",
    "theta_best = grid_search(loglikelihood, Y, 0, 100, 1e-5, 5, 100)\n",
    "theta_best"
   ]
  },
  {
   "cell_type": "code",
   "execution_count": 444,
   "metadata": {},
   "outputs": [
    {
     "data": {
      "text/plain": [
       "array([16949,  2357,  1743,  1044,   724,   433,   226,   117,    62,\n",
       "          21,    14,    13,    11], dtype=int64)"
      ]
     },
     "execution_count": 444,
     "metadata": {},
     "output_type": "execute_result"
    }
   ],
   "source": [
    "k = 12\n",
    "bins = np.histogram(Y, bins=np.max(Y) - 2)[0]\n",
    "bins[k] = np.sum(bins[k:])\n",
    "bins = bins[:k + 1]\n",
    "bins"
   ]
  },
  {
   "cell_type": "code",
   "execution_count": null,
   "metadata": {},
   "outputs": [],
   "source": []
  },
  {
   "cell_type": "code",
   "execution_count": 445,
   "metadata": {},
   "outputs": [
    {
     "data": {
      "text/plain": [
       "23714"
      ]
     },
     "execution_count": 445,
     "metadata": {},
     "output_type": "execute_result"
    }
   ],
   "source": [
    "n = np.sum(bins)\n",
    "n"
   ]
  },
  {
   "cell_type": "code",
   "execution_count": 446,
   "metadata": {},
   "outputs": [],
   "source": [
    "dencity = lambda y, theta: sps.poisson(theta).pmf(y) * np.exp(theta) / (np.exp(theta) - 1)"
   ]
  },
  {
   "cell_type": "code",
   "execution_count": 447,
   "metadata": {},
   "outputs": [
    {
     "data": {
      "text/plain": [
       "array([8.21563836e+03, 7.57581365e+03, 4.65721184e+03, 2.14725670e+03,\n",
       "       7.92012301e+02, 2.43443757e+02, 6.41384656e+01, 1.47858584e+01,\n",
       "       3.02985608e+00, 5.58778856e-01, 9.36839608e-02, 1.43979931e-02,\n",
       "       2.34899491e-03])"
      ]
     },
     "execution_count": 447,
     "metadata": {},
     "output_type": "execute_result"
    }
   ],
   "source": [
    "bin_grid = np.linspace(1, k, k)\n",
    "p = dencity(bin_grid, theta_best)\n",
    "p = np.append(p, sps.poisson(theta_best).sf(k)* np.exp(theta_best) / (np.exp(theta_best) - 1))\n",
    "n * p"
   ]
  },
  {
   "cell_type": "code",
   "execution_count": 448,
   "metadata": {},
   "outputs": [
    {
     "data": {
      "text/plain": [
       "(array([8215.63836097, 7575.81364693, 4657.21184335, 2147.25670053,\n",
       "         792.01230145,  243.44375682,   64.13846563,   18.48492432]),\n",
       " array([16949,  2357,  1743,  1044,   724,   433,   226,   238],\n",
       "       dtype=int64))"
      ]
     },
     "execution_count": 448,
     "metadata": {},
     "output_type": "execute_result"
    }
   ],
   "source": [
    "k_0 = 7\n",
    "p[k_0] = np.sum(p[k_0:])\n",
    "bins_new = bins.copy()\n",
    "bins_new[k_0] = np.sum(bins_new[k_0:])\n",
    "p = p[:k_0 + 1]\n",
    "bins_new = bins_new[:k_0 + 1]\n",
    "n * p, bins_new, "
   ]
  },
  {
   "cell_type": "code",
   "execution_count": 450,
   "metadata": {},
   "outputs": [
    {
     "data": {
      "text/plain": [
       "(18437.968374224754, 0.0)"
      ]
     },
     "execution_count": 450,
     "metadata": {},
     "output_type": "execute_result"
    }
   ],
   "source": [
    "chi, pval = sps.chisquare(bins_new, n * p, ddof=1)\n",
    "chi, pval"
   ]
  },
  {
   "cell_type": "code",
   "execution_count": 451,
   "metadata": {},
   "outputs": [],
   "source": [
    "def build_plot(Y, f, theta_best):\n",
    "    all_bins = np.histogram(Y, bins=np.max(Y), normed=True)[0]\n",
    "    x = np.linspace(1, np.max(Y), np.max(Y))\n",
    "    plt.figure(figsize=(15, 10))\n",
    "    plt.plot(x, all_bins, label='График частот')\n",
    "    plt.plot(x, f(x, theta_best), label='Распределение, соответствующее ОМП')\n",
    "    plt.xlabel('количество поколений в роду')\n",
    "    plt.ylabel('частота')\n",
    "    plt.legend()\n",
    "    plt.show()"
   ]
  },
  {
   "cell_type": "code",
   "execution_count": 452,
   "metadata": {},
   "outputs": [
    {
     "data": {
      "image/png": "[encoded data removed]",
      "text/plain": [
       "<Figure size 1080x720 with 1 Axes>"
      ]
     },
     "metadata": {
      "needs_background": "light"
     },
     "output_type": "display_data"
    }
   ],
   "source": [
    "build_plot(Y, dencity, theta_best)"
   ]
  },
  {
   "cell_type": "markdown",
   "metadata": {},
   "source": [
    "$Geom(\\theta).$ Если расписать условную плотность геометрического распределения с носителем в $\\mathbf{N_0},$ то получим геометрическое распределение с носителем в $\\mathbf{N}.$ Для него ОМП изместна: $\\widehat{\\theta} = \\frac{1}{\\overline{Y}}.$"
   ]
  },
  {
   "cell_type": "code",
   "execution_count": 453,
   "metadata": {},
   "outputs": [],
   "source": [
    "dencity_geom = lambda y, theta: sps.geom(theta).pmf(y)"
   ]
  },
  {
   "cell_type": "code",
   "execution_count": 454,
   "metadata": {},
   "outputs": [
    {
     "data": {
      "text/plain": [
       "0.45647738209817135"
      ]
     },
     "execution_count": 454,
     "metadata": {},
     "output_type": "execute_result"
    }
   ],
   "source": [
    "theta_hat = 1 / (np.mean(Y))\n",
    "theta_hat"
   ]
  },
  {
   "cell_type": "code",
   "execution_count": 466,
   "metadata": {},
   "outputs": [
    {
     "data": {
      "text/plain": [
       "(array([10824.90463908,  5883.58050797,  3197.85908033,  1738.10873902,\n",
       "          944.70141203,   513.4665846 ,   279.08070227,   151.6866739 ,\n",
       "           82.4451381 ,    44.81079729,    24.35568186,    13.23786396,\n",
       "           15.76217959]),\n",
       " array([16949,  2357,  1743,  1044,   724,   433,   226,   117,    62,\n",
       "           21,    14,    13,    11], dtype=int64))"
      ]
     },
     "execution_count": 466,
     "metadata": {},
     "output_type": "execute_result"
    }
   ],
   "source": [
    "p_geom = sps.geom(theta_hat).pmf(bin_grid)\n",
    "p_geom = np.append(p_geom, sps.geom(theta_hat).sf(k))\n",
    "n * p_geom, bins"
   ]
  },
  {
   "cell_type": "code",
   "execution_count": 456,
   "metadata": {},
   "outputs": [
    {
     "data": {
      "text/plain": [
       "(6623.305258001256, 0.0)"
      ]
     },
     "execution_count": 456,
     "metadata": {},
     "output_type": "execute_result"
    }
   ],
   "source": [
    "chi, pval = sps.chisquare(bins, n * p_geom, ddof=1)\n",
    "chi, pval"
   ]
  },
  {
   "cell_type": "code",
   "execution_count": 457,
   "metadata": {},
   "outputs": [
    {
     "data": {
      "image/png": "[encoded data removed]",
      "text/plain": [
       "<Figure size 1080x720 with 1 Axes>"
      ]
     },
     "metadata": {
      "needs_background": "light"
     },
     "output_type": "display_data"
    }
   ],
   "source": [
    "build_plot(Y, dencity_geom, theta_hat)"
   ]
  },
  {
   "cell_type": "markdown",
   "metadata": {},
   "source": [
    "Рассмотрим \"дискретное экспоненциальное распределение\": пусть $P_{Exp \\ discr}(y) = F_{Exp}(y) - F_{Exp}(y - 1), y \\in \\mathbb{N}.$\n",
    "\n",
    "Выпишем плотность полученного распределения: \n",
    "$$P_{\\theta}(y) = \\theta\\left(e^{-\\theta(y - 1)} - e^{-\\theta y}\\right) = \\theta e^{\\theta y}(e^{\\theta} - 1).$$\n",
    "Запишем лог функцию правдоподобия:\n",
    "$$l_{Y}(\\theta) = n \\ln{\\theta} - \\theta\\sum\\limits_{i = 1}^{s}Y_i + n\\ln{(e^{\\theta} - 1)}.$$\n",
    "Поделим на $n$ и получим функцию, которую будем оптимизировать: \n",
    "$$\\widetilde{l_{Y}(\\theta)} = \\ln{\\theta} - \\theta\\overline{Y} + \\ln{(e^{\\theta} - 1)}.$$"
   ]
  },
  {
   "cell_type": "code",
   "execution_count": 458,
   "metadata": {},
   "outputs": [
    {
     "name": "stdout",
     "output_type": "stream",
     "text": [
      "best_theta: 1.0\n",
      "best_likelihood: -1.6493641898334004\n",
      "best_theta: 1.26\n",
      "best_likelihood: -1.6027485005529338\n",
      "best_theta: 1.2592\n",
      "best_likelihood: -1.602748027374903\n",
      "best_theta: 1.259104\n",
      "best_likelihood: -1.602748021505385\n",
      "best_theta: 1.25910032\n",
      "best_likelihood: -1.6027480214976149\n"
     ]
    },
    {
     "data": {
      "text/plain": [
       "1.25910032"
      ]
     },
     "execution_count": 458,
     "metadata": {},
     "output_type": "execute_result"
    }
   ],
   "source": [
    "loglikelihood_expon = lambda Y, theta: np.log(theta) - theta * np.mean(Y) + np.log(np.exp(theta) - 1)\n",
    "\n",
    "theta_best_expon = grid_search(loglikelihood_expon, Y, 0, 100, 1e-5, 5, 100)\n",
    "theta_best_expon"
   ]
  },
  {
   "cell_type": "code",
   "execution_count": 459,
   "metadata": {},
   "outputs": [],
   "source": [
    "dencity_expon = lambda y, theta: sps.expon(scale=1 / theta).cdf(y) - sps.expon(scale=1 / theta).cdf(y - 1)"
   ]
  },
  {
   "cell_type": "code",
   "execution_count": 460,
   "metadata": {},
   "outputs": [
    {
     "data": {
      "text/plain": [
       "(array([1.69813739e+04, 4.82117065e+03, 1.36877537e+03, 3.88608112e+02,\n",
       "        1.10329472e+02, 3.13235676e+01, 8.89305337e+00, 2.52482090e+00,\n",
       "        7.16820235e-01, 2.03511959e-01, 5.77789458e-02, 1.64039823e-02,\n",
       "        6.50370692e-03]),\n",
       " array([16949,  2357,  1743,  1044,   724,   433,   226,   117,    62,\n",
       "           21,    14,    13,    11], dtype=int64))"
      ]
     },
     "execution_count": 460,
     "metadata": {},
     "output_type": "execute_result"
    }
   ],
   "source": [
    "p_exp = sps.expon(scale=1 / theta_best_expon).cdf(bin_grid) - sps.expon(scale=1 / theta_best_expon).cdf(bin_grid - 1)\n",
    "p_exp = np.append(p_exp, sps.expon(scale=1 / theta_best_expon).sf(k))\n",
    "n * p_exp, bins"
   ]
  },
  {
   "cell_type": "code",
   "execution_count": 461,
   "metadata": {},
   "outputs": [
    {
     "data": {
      "text/plain": [
       "(array([1.69813739e+04, 4.82117065e+03, 1.36877537e+03, 3.88608112e+02,\n",
       "        1.10329472e+02, 3.13235676e+01, 1.24188931e+01]),\n",
       " array([16949,  2357,  1743,  1044,   724,   433,   464], dtype=int64))"
      ]
     },
     "execution_count": 461,
     "metadata": {},
     "output_type": "execute_result"
    }
   ],
   "source": [
    "k_0 = 6\n",
    "p_exp[k_0] = np.sum(p_exp[k_0:])\n",
    "bins_new = bins.copy()\n",
    "bins_new[k_0] = np.sum(bins_new[k_0:])\n",
    "p_exp = p_exp[:k_0 + 1]\n",
    "bins_new = bins_new[:k_0 + 1]\n",
    "n * p_exp, bins_new, "
   ]
  },
  {
   "cell_type": "code",
   "execution_count": 463,
   "metadata": {},
   "outputs": [
    {
     "data": {
      "text/plain": [
       "(27451.97610087371, 0.0)"
      ]
     },
     "execution_count": 463,
     "metadata": {},
     "output_type": "execute_result"
    }
   ],
   "source": [
    "chi, pval = sps.chisquare(bins_new, n * p_exp, ddof=1)\n",
    "chi, pval"
   ]
  },
  {
   "cell_type": "code",
   "execution_count": 464,
   "metadata": {},
   "outputs": [
    {
     "data": {
      "image/png": "[encoded data removed]",
      "text/plain": [
       "<Figure size 1080x720 with 1 Axes>"
      ]
     },
     "metadata": {
      "needs_background": "light"
     },
     "output_type": "display_data"
    }
   ],
   "source": [
    "build_plot(Y, dencity_expon, theta_best_expon)"
   ]
  },
  {
   "cell_type": "markdown",
   "metadata": {},
   "source": [
    "**Вывод:** на самом деле, мы выяснили только, что мы не нашли нужное распределение, которым можно приблизить рождение мальчиков при условии, что мальчиков хотя бы 1. Логично было бы предположить, что пуассоновское распределение должно было хорошо приближать нашу выборку, так как это число событий за фиксированное время, но оно показало себя совсем плохо. Видимо, дело в том, что на самом деле мы считаем число событий не за фиксированное время, а за разное (люди могут жить разное время). Геометрическое распределение звучит абсурдно из-за своего смысла (номер первого успеха, то есть, люди рожали мальчиков, пока им не понравится младенец?)))), но так оказалось, что среди рассмотренных распределений оно приближает рождение мальчиков лучше всего (хотя все равно pval критерия с таким распределением все еще остается нулем). \"Дискретное экспоненциальное\", на самом деле, я выбрал, исходя из того, что нам необходим больший наклон на первых элементах, чем наклон у, например, геометрического, то есть, смысла в это никакого не закладывалось. Однако, как ни странно, \"дискретное экспоненциальное\" распределение показало себя лучше, чем пуассоновское, хотя все равно pval критерия с таким распределением все еще остается нулем. В общем, можно сделать вывод, что из известных распределений рождение детей не описывает никакое из известных распределений."
   ]
  }
 ],
 "metadata": {
  "kernelspec": {
   "display_name": "Python 3 (ipykernel)",
   "language": "python",
   "name": "python3"
  },
  "language_info": {
   "codemirror_mode": {
    "name": "ipython",
    "version": 3
   },
   "file_extension": ".py",
   "mimetype": "text/x-python",
   "name": "python",
   "nbconvert_exporter": "python",
   "pygments_lexer": "ipython3",
   "version": "3.8.12"
  }
 },
 "nbformat": 4,
 "nbformat_minor": 1
}
